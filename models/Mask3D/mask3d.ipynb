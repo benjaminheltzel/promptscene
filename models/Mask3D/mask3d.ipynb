{
 "cells": [
  {
   "cell_type": "markdown",
   "metadata": {},
   "source": [
    "Step 1: Create conda environment"
   ]
  },
  {
   "cell_type": "code",
   "execution_count": null,
   "metadata": {},
   "outputs": [],
   "source": [
    "%%bash\n",
    "# Some users experienced issues on Ubuntu with an AMD CPU\n",
    "# Install libopenblas-dev (issue #115, thanks WindWing)\n",
    "# sudo apt-get install libopenblas-dev\n",
    "export TORCH_CUDA_ARCH_LIST=\"6.0 6.1 6.2 7.0 7.2 7.5 8.0 8.6\"\n",
    "conda env create -f environment_small.yml\n",
    "conda activate mask_3d"
   ]
  },
  {
   "cell_type": "markdown",
   "metadata": {},
   "source": [
    "Step 2: Install cuda-toolkit and correct gxx version"
   ]
  },
  {
   "cell_type": "code",
   "execution_count": null,
   "metadata": {},
   "outputs": [],
   "source": [
    "%%bash\n",
    "#conda install nvidia/label/cuda-11.3.1::cuda-toolkit\n",
    "conda install conda-forge::cudatoolkit=11.3.1\n",
    "conda install conda-forge::'gxx[version=\">=5,<10.2.1\"]'"
   ]
  },
  {
   "cell_type": "markdown",
   "metadata": {},
   "source": [
    "Step 3: Install pip requirements"
   ]
  },
  {
   "cell_type": "code",
   "execution_count": null,
   "metadata": {},
   "outputs": [],
   "source": [
    "%%bash\n",
    "pip install pip==23.3\n",
    "PIP_CONSTRAINT=constraints.txt pip install -r requirements.txt --no-deps --no-cache"
   ]
  },
  {
   "cell_type": "markdown",
   "metadata": {},
   "source": [
    "Step 4: Install pyviz3d"
   ]
  },
  {
   "cell_type": "code",
   "execution_count": null,
   "metadata": {},
   "outputs": [],
   "source": [
    "%pip install pyviz3d==0.2.28"
   ]
  },
  {
   "cell_type": "markdown",
   "metadata": {},
   "source": [
    "Step 5: Install torch, torch scatter and detectron2"
   ]
  },
  {
   "cell_type": "code",
   "execution_count": null,
   "metadata": {},
   "outputs": [],
   "source": [
    "pip3 install torch==1.12.1+cu113 torchvision==0.13.1+cu113 --extra-index-url https://download.pytorch.org/whl/cu113\n",
    "pip3 install torch-scatter -f https://data.pyg.org/whl/torch-1.12.1+cu113.html\n",
    "#pip3 install 'git+https://github.com/facebookresearch/detectron2.git@710e7795d0eeadf9def0e7ef957eea13532e34cf' --no-deps\n",
    "cd third_party\n",
    "git clone https://github.com/facebookresearch/detectron2.git\n",
    "python -m pip install -e detectron2"
   ]
  },
  {
   "cell_type": "markdown",
   "metadata": {},
   "source": [
    "Step 6: Install the MinkowskiEngine"
   ]
  },
  {
   "cell_type": "code",
   "execution_count": null,
   "metadata": {},
   "outputs": [],
   "source": [
    "%%bash\n",
    "git clone --recursive \"https://github.com/NVIDIA/MinkowskiEngine\"\n",
    "cd MinkowskiEngine\n",
    "conda install -c conda-forge blas=*=openblas\n",
    "git checkout 02fc608bea4c0549b0a7b00ca1bf15dee4a0b228\n",
    "python setup.py install --force_cuda --blas=openblas"
   ]
  },
  {
   "cell_type": "markdown",
   "metadata": {},
   "source": [
    "Step 7: Setup ScanNet"
   ]
  },
  {
   "cell_type": "code",
   "execution_count": null,
   "metadata": {},
   "outputs": [],
   "source": [
    "%%bash\n",
    "cd ..\n",
    "git clone https://github.com/ScanNet/ScanNet.git\n",
    "cd ScanNet/Segmentator\n",
    "git checkout 3e5726500896748521a6ceb81271b0f5b2c0e7d2\n",
    "make"
   ]
  },
  {
   "cell_type": "markdown",
   "metadata": {},
   "source": [
    "Step 8: Setup PointNet2"
   ]
  },
  {
   "cell_type": "code",
   "execution_count": null,
   "metadata": {},
   "outputs": [],
   "source": [
    "%%bash\n",
    "cd ../../pointnet2\n",
    "python setup.py install"
   ]
  },
  {
   "cell_type": "markdown",
   "metadata": {},
   "source": [
    "Step 9: Install pytorch-lightning"
   ]
  },
  {
   "cell_type": "code",
   "execution_count": null,
   "metadata": {},
   "outputs": [],
   "source": [
    "%%bash\n",
    "cd ../../\n",
    "pip3 install pytorch-lightning==1.7.2 --no-deps"
   ]
  },
  {
   "cell_type": "markdown",
   "metadata": {},
   "source": [
    "If your unable to run the model after step 9, check the version of hydra-core and omegaconf and update them"
   ]
  },
  {
   "cell_type": "code",
   "execution_count": null,
   "metadata": {},
   "outputs": [],
   "source": [
    "%%bash\n",
    "pip install hydra-core==1.0.5\n",
    "pip install omegaconf==2.2"
   ]
  },
  {
   "cell_type": "markdown",
   "metadata": {},
   "source": [
    "# 2. Datasets"
   ]
  },
  {
   "cell_type": "markdown",
   "metadata": {},
   "source": [
    "## Semantic Terrain Points Labeling - Synthetic 3D (STPLS3D)"
   ]
  },
  {
   "cell_type": "markdown",
   "metadata": {},
   "source": [
    "Download from: https://drive.google.com/file/d/1ZGS5WDL3th7_OsC7E4kAfvOXjCY9ugyR/view"
   ]
  },
  {
   "cell_type": "markdown",
   "metadata": {},
   "source": [
    "Extract and put content into path: data/raw/stpls3d"
   ]
  },
  {
   "cell_type": "markdown",
   "metadata": {},
   "source": [
    "Split into train and validation dataset: \n",
    "- trainSplit = [1, 2, 3, 4, 6, 7, 8, 9, 11, 12, 13, 14, 16, 17, 18, 19, 21, 22, 23, 24]    \n",
    "- valSplit = [5, 10, 15, 20, 25] "
   ]
  },
  {
   "cell_type": "code",
   "execution_count": 7,
   "metadata": {},
   "outputs": [
    {
     "name": "stdout",
     "output_type": "stream",
     "text": [
      "\u001b[32m2025-01-09 09:29:44.788\u001b[0m | \u001b[1mINFO    \u001b[0m | \u001b[36mdatasets.preprocessing.base_preprocessing\u001b[0m:\u001b[36mpreprocess\u001b[0m:\u001b[36m47\u001b[0m - \u001b[1mTasks for train: 20\u001b[0m\n",
      "[Parallel(n_jobs=16)]: Using backend LokyBackend with 16 concurrent workers.\n",
      "[Parallel(n_jobs=16)]: Done   4 out of  20 | elapsed:    8.7s remaining:   34.8s\n",
      "[Parallel(n_jobs=16)]: Done   7 out of  20 | elapsed:    9.1s remaining:   16.9s\n",
      "[Parallel(n_jobs=16)]: Done  10 out of  20 | elapsed:    9.5s remaining:    9.5s\n",
      "[Parallel(n_jobs=16)]: Done  13 out of  20 | elapsed:    9.7s remaining:    5.2s\n",
      "[Parallel(n_jobs=16)]: Done  16 out of  20 | elapsed:   10.2s remaining:    2.6s\n",
      "[Parallel(n_jobs=16)]: Done  20 out of  20 | elapsed:   12.2s finished\n",
      "\u001b[32m2025-01-09 09:29:57.002\u001b[0m | \u001b[1mINFO    \u001b[0m | \u001b[36mdatasets.preprocessing.base_preprocessing\u001b[0m:\u001b[36mpreprocess\u001b[0m:\u001b[36m47\u001b[0m - \u001b[1mTasks for validation: 5\u001b[0m\n",
      "[Parallel(n_jobs=16)]: Using backend LokyBackend with 16 concurrent workers.\n",
      "[Parallel(n_jobs=16)]: Done   2 out of   5 | elapsed:    9.4s remaining:   14.1s\n",
      "[Parallel(n_jobs=16)]: Done   3 out of   5 | elapsed:    9.5s remaining:    6.3s\n",
      "[Parallel(n_jobs=16)]: Done   5 out of   5 | elapsed:    9.9s remaining:    0.0s\n",
      "[Parallel(n_jobs=16)]: Done   5 out of   5 | elapsed:    9.9s finished\n",
      "\u001b[32m2025-01-09 09:30:07.009\u001b[0m | \u001b[1mINFO    \u001b[0m | \u001b[36mdatasets.preprocessing.base_preprocessing\u001b[0m:\u001b[36mpreprocess\u001b[0m:\u001b[36m47\u001b[0m - \u001b[1mTasks for test: 0\u001b[0m\n",
      "[Parallel(n_jobs=16)]: Using backend LokyBackend with 16 concurrent workers.\n",
      "[Parallel(n_jobs=16)]: Done   0 out of   0 | elapsed:    0.0s finished\n"
     ]
    }
   ],
   "source": [
    "!python -m datasets.preprocessing.stpls3d_preprocessing preprocess --data_dir=\"data/raw/stpls3d\" --save_dir=\"data/processed/stpls3d\""
   ]
  },
  {
   "cell_type": "markdown",
   "metadata": {},
   "source": [
    "# 3. Training and testing"
   ]
  },
  {
   "cell_type": "markdown",
   "metadata": {},
   "source": [
    "## Semantic Terrain Points Labeling - Synthetic 3D (STPLS3D)"
   ]
  },
  {
   "cell_type": "markdown",
   "metadata": {},
   "source": [
    "Download checkpoint from Github Repo and extract into path \"checkpoints/stpls3d/stpls3d_val.ckpt\""
   ]
  },
  {
   "cell_type": "code",
   "execution_count": null,
   "metadata": {},
   "outputs": [],
   "source": [
    "%%bash\n",
    "./scripts/stpls3d/stpls3d_val.sh"
   ]
  }
 ],
 "metadata": {
  "kernelspec": {
   "display_name": "mask3d",
   "language": "python",
   "name": "python3"
  },
  "language_info": {
   "codemirror_mode": {
    "name": "ipython",
    "version": 3
   },
   "file_extension": ".py",
   "mimetype": "text/x-python",
   "name": "python",
   "nbconvert_exporter": "python",
   "pygments_lexer": "ipython3",
   "version": "3.10.9"
  }
 },
 "nbformat": 4,
 "nbformat_minor": 2
}
