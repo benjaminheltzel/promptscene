{
 "cells": [
  {
   "cell_type": "markdown",
   "id": "0f9e7098",
   "metadata": {},
   "source": [
    "### Install dependencies"
   ]
  },
  {
   "cell_type": "code",
   "execution_count": null,
   "id": "2859e39f",
   "metadata": {},
   "outputs": [],
   "source": [
    "%%bash\n",
    "# git clone https://github.com/KaiyangZhou/Dassl.pytorch.git\n",
    "cd Dassl.pytorch/\n",
    "# Install dependencies\n",
    "pip install -r requirements.txt\n",
    "# Install this library (no need to re-build if the source code is modified)\n",
    "python setup.py develop\n",
    "cd ..\n",
    "# Install dependencies of MaPLe\n",
    "pip install -r requirements.txt"
   ]
  },
  {
   "cell_type": "markdown",
   "id": "bd5dd747",
   "metadata": {},
   "source": [
    "## generate ground truth instance labels"
   ]
  },
  {
   "cell_type": "code",
   "execution_count": 44,
   "id": "a97f04f2",
   "metadata": {},
   "outputs": [],
   "source": [
    "import os\n",
    "import numpy as np\n",
    "import torch\n",
    "import glob\n",
    "\n",
    "os.makedirs(\"../../dataset/data/replica_features/train\", exist_ok=True)\n",
    "os.makedirs(\"../../dataset/data/replica_features/val\", exist_ok=True)\n",
    "os.makedirs(\"../../dataset/data/replica_features/test\", exist_ok=True)\n",
    "train_test_dict = {\n",
    "    \"office0\": \"train\",\n",
    "    \"office1\": \"train\",\n",
    "    \"office2\": \"train\",\n",
    "    \"office3\": \"val\",\n",
    "    \"office4\": \"test\",\n",
    "    \"room0\": \"train\",\n",
    "    \"room1\": \"val\",\n",
    "    \"room2\": \"test\",\n",
    "}\n",
    "\n",
    "gt_masks = glob.glob(\"../../dataset/OpenYOLO3D/output/replica/replica_ground_truth_masks/*.pt\")\n",
    "# gt_instances = glob.glob(\"dataset/replica_split/ground_truth/*.txt\")\n",
    "for gt_mask_path in gt_masks:\n",
    "    gt_mask = torch.load(gt_mask_path)[0]\n",
    "    gt_instance_id_path = gt_mask_path.replace(\"OpenYOLO3D/output/replica/replica_ground_truth_masks/\", \"data/replica_split/ground_truth/\").replace(\".pt\", \".txt\")\n",
    "    gt_instance_id = np.loadtxt(gt_instance_id_path, dtype='int')\n",
    "    assert gt_mask.shape[0] == gt_instance_id.shape[0]\n",
    "    \n",
    "    labels = np.zeros(gt_mask.shape[1])\n",
    "    for instance_id in range(gt_mask.shape[1]):\n",
    "        mask_points = gt_mask[:, instance_id].bool()\n",
    "        instance_label = gt_instance_id[mask_points][0]\n",
    "        semantics_label = instance_label // 1000\n",
    "        labels[instance_id] = semantics_label\n",
    "    scene_name = os.path.splitext(os.path.basename(gt_mask_path))[0]\n",
    "    split = train_test_dict[scene_name]\n",
    "    output_path = f\"../../dataset/data/replica_features/{split}/{scene_name}_labels\"\n",
    "    np.save(output_path, labels)"
   ]
  },
  {
   "cell_type": "markdown",
   "id": "360f9aab",
   "metadata": {},
   "source": [
    "## generate instance feature (openscene features and ground truth masks)"
   ]
  },
  {
   "cell_type": "code",
   "execution_count": 60,
   "id": "d0eecd36",
   "metadata": {},
   "outputs": [
    {
     "name": "stdout",
     "output_type": "stream",
     "text": [
      "../../experiments/merged_pipline/run_2025-01-28-00-04-02/openscene/train/office1_features.npy\n",
      "../../experiments/merged_pipline/run_2025-01-28-00-04-02/openscene/train/room0_features.npy\n",
      "../../experiments/merged_pipline/run_2025-01-28-00-04-02/openscene/train/office0_features.npy\n",
      "../../experiments/merged_pipline/run_2025-01-28-00-04-02/openscene/train/office2_features.npy\n",
      "../../experiments/merged_pipline/run_2025-01-28-00-04-02/openscene/val/room1_features.npy\n",
      "../../experiments/merged_pipline/run_2025-01-28-00-04-02/openscene/val/office3_features.npy\n",
      "../../experiments/merged_pipline/run_2025-01-28-00-04-02/openscene/test/office4_features.npy\n",
      "../../experiments/merged_pipline/run_2025-01-28-00-04-02/openscene/test/room2_features.npy\n"
     ]
    }
   ],
   "source": [
    "# ADJUST PATH!!!\n",
    "openscene_feature_path = glob.glob(\"../../experiments/merged_pipline/run_2025-01-28-00-04-02/openscene/train/*_features.npy\")\n",
    "openscene_feature_path.extend(glob.glob(\"../../experiments/merged_pipline/run_2025-01-28-00-04-02/openscene/val/*_features.npy\"))\n",
    "openscene_feature_path.extend(glob.glob(\"../../experiments/merged_pipline/run_2025-01-28-00-04-02/openscene/test/*_features.npy\"))\n",
    "\n",
    "for feature_path in openscene_feature_path:\n",
    "    print(feature_path)\n",
    "    scene_name = os.path.splitext(os.path.basename(feature_path))[0]\n",
    "    scene_name = scene_name.replace(\"_features\", \"\")\n",
    "    gt_mask_path = f\"../../dataset/OpenYOLO3D/output/replica/replica_ground_truth_masks/{scene_name}.pt\"\n",
    "\n",
    "    point_features = np.load(feature_path)\n",
    "    gt_mask = torch.load(gt_mask_path)[0]\n",
    "    instance_features = np.zeros((gt_mask.shape[1], point_features.shape[1]))\n",
    "    for instance_id in range(gt_mask.shape[1]):\n",
    "        mask_points = gt_mask[:, instance_id].bool()\n",
    "        mask_features = point_features[mask_points, :]\n",
    "        instance_feature = np.mean(mask_features, axis=0)  # aggregate\n",
    "        instance_features[instance_id, :] = instance_feature\n",
    "    split = train_test_dict[scene_name]\n",
    "    output_path = f\"../../dataset/data/replica_features/{split}/{scene_name}_features\"\n",
    "    np.save(output_path, instance_features)\n",
    "    "
   ]
  },
  {
   "cell_type": "markdown",
   "id": "5e3a34a4",
   "metadata": {},
   "source": [
    "## Prompt Learning"
   ]
  },
  {
   "cell_type": "code",
   "execution_count": 1,
   "id": "bdc8cee8",
   "metadata": {},
   "outputs": [
    {
     "name": "stdout",
     "output_type": "stream",
     "text": [
      "Run this job and save the output to output/base2new/train_base/replica/shots_16/MaPLePromptScene/vit_b16_c2_ep5_batch4_2ctx/seed1\n",
      "Error while terminating subprocess (pid=2879446): \n"
     ]
    }
   ],
   "source": [
    "# %%bash\n",
    "# bash scripts/maple_prompt_scene/base2new_train_maple_prompt_scene.sh replica 1 ../../dataset/data/"
   ]
  },
  {
   "cell_type": "code",
   "execution_count": 3,
   "id": "40eea4db",
   "metadata": {},
   "outputs": [
    {
     "name": "stdout",
     "output_type": "stream",
     "text": [
      "Evaluating model\n",
      "Runing the first phase job and save the output to output/base2new/test_new/replica/shots_16/MaPLePromptScene/vit_b16_c2_ep5_batch4_2ctx/seed1\n"
     ]
    },
    {
     "name": "stderr",
     "output_type": "stream",
     "text": [
      "/cluster/54/nanriayaka/ml3d/models/multimodal-prompt-learning/clip/clip.py:23: UserWarning: PyTorch version 1.7.1 or higher is recommended\n",
      "  warnings.warn(\"PyTorch version 1.7.1 or higher is recommended\")\n"
     ]
    },
    {
     "name": "stdout",
     "output_type": "stream",
     "text": [
      "Error while terminating subprocess (pid=2879966): \n"
     ]
    }
   ],
   "source": [
    "# %%bash\n",
    "# bash scripts/maple_prompt_scene/base2new_test_maple_prompt_scene.sh replica 1 ../../dataset/data/"
   ]
  },
  {
   "cell_type": "code",
   "execution_count": 63,
   "id": "ce093352",
   "metadata": {},
   "outputs": [],
   "source": [
    "os.makedirs(\"../../dataset/data/replica_features/split_fewshot\", exist_ok=True)"
   ]
  },
  {
   "cell_type": "code",
   "execution_count": null,
   "id": "3fbaf004",
   "metadata": {},
   "outputs": [],
   "source": [
    "\"a {label} in a scene\""
   ]
  },
  {
   "cell_type": "code",
   "execution_count": 10,
   "id": "e220989e",
   "metadata": {
    "scrolled": true
   },
   "outputs": [
    {
     "name": "stdout",
     "output_type": "stream",
     "text": [
      "Run this job and save the output to output/replica/MaPLePromptScene/vit_b16_c2_ep200_batch4_ctx4_depth12_cross_datasets_-1shots/seed1\n"
     ]
    },
    {
     "name": "stderr",
     "output_type": "stream",
     "text": [
      "/cluster/54/nanriayaka/ml3d/models/multimodal-prompt-learning/clip/clip.py:23: UserWarning: PyTorch version 1.7.1 or higher is recommended\n",
      "  warnings.warn(\"PyTorch version 1.7.1 or higher is recommended\")\n"
     ]
    },
    {
     "name": "stdout",
     "output_type": "stream",
     "text": [
      "Setting fixed seed: 1\n",
      "***************\n",
      "** Arguments **\n",
      "***************\n",
      "backbone: \n",
      "config_file: configs/trainers/MaPLePromptScene/vit_b16_c2_ep200_batch4_ctx4_depth12_cross_datasets.yaml\n",
      "dataset_config_file: configs/datasets/replica.yaml\n",
      "eval_only: False\n",
      "head: \n",
      "load_epoch: None\n",
      "model_dir: \n",
      "no_train: False\n",
      "opts: ['DATASET.NUM_SHOTS', '-1']\n",
      "output_dir: output/replica/MaPLePromptScene/vit_b16_c2_ep200_batch4_ctx4_depth12_cross_datasets_-1shots/seed1\n",
      "resume: \n",
      "root: ../../dataset/data/\n",
      "seed: 1\n",
      "source_domains: None\n",
      "target_domains: None\n",
      "trainer: MaPLePromptScene\n",
      "transforms: None\n",
      "************\n",
      "** Config **\n",
      "************\n",
      "DATALOADER:\n",
      "  K_TRANSFORMS: 1\n",
      "  NUM_WORKERS: 8\n",
      "  RETURN_IMG0: False\n",
      "  TEST:\n",
      "    BATCH_SIZE: 100\n",
      "    SAMPLER: SequentialSampler\n",
      "  TRAIN_U:\n",
      "    BATCH_SIZE: 32\n",
      "    N_DOMAIN: 0\n",
      "    N_INS: 16\n",
      "    SAME_AS_X: True\n",
      "    SAMPLER: RandomSampler\n",
      "  TRAIN_X:\n",
      "    BATCH_SIZE: 4\n",
      "    N_DOMAIN: 0\n",
      "    N_INS: 16\n",
      "    SAMPLER: RandomSampler\n",
      "DATASET:\n",
      "  ALL_AS_UNLABELED: False\n",
      "  CIFAR_C_LEVEL: 1\n",
      "  CIFAR_C_TYPE: \n",
      "  NAME: Replica\n",
      "  NUM_LABELED: -1\n",
      "  NUM_SHOTS: -1\n",
      "  ROOT: ../../dataset/data/\n",
      "  SOURCE_DOMAINS: ()\n",
      "  STL10_FOLD: -1\n",
      "  SUBSAMPLE_CLASSES: all\n",
      "  TARGET_DOMAINS: ()\n",
      "  VAL_PERCENT: 0.1\n",
      "INPUT:\n",
      "  COLORJITTER_B: 0.4\n",
      "  COLORJITTER_C: 0.4\n",
      "  COLORJITTER_H: 0.1\n",
      "  COLORJITTER_S: 0.4\n",
      "  CROP_PADDING: 4\n",
      "  CUTOUT_LEN: 16\n",
      "  CUTOUT_N: 1\n",
      "  GB_K: 21\n",
      "  GB_P: 0.5\n",
      "  GN_MEAN: 0.0\n",
      "  GN_STD: 0.15\n",
      "  INTERPOLATION: bicubic\n",
      "  NO_TRANSFORM: False\n",
      "  PIXEL_MEAN: [0.48145466, 0.4578275, 0.40821073]\n",
      "  PIXEL_STD: [0.26862954, 0.26130258, 0.27577711]\n",
      "  RANDAUGMENT_M: 10\n",
      "  RANDAUGMENT_N: 2\n",
      "  RGS_P: 0.2\n",
      "  RRCROP_SCALE: (0.08, 1.0)\n",
      "  SIZE: (224, 224)\n",
      "  TRANSFORMS: ('random_resized_crop', 'random_flip', 'normalize')\n",
      "MODEL:\n",
      "  BACKBONE:\n",
      "    NAME: ViT-B/16\n",
      "    PRETRAINED: True\n",
      "  HEAD:\n",
      "    ACTIVATION: relu\n",
      "    BN: True\n",
      "    DROPOUT: 0.0\n",
      "    HIDDEN_LAYERS: ()\n",
      "    NAME: \n",
      "  INIT_WEIGHTS: \n",
      "OPTIM:\n",
      "  ADAM_BETA1: 0.9\n",
      "  ADAM_BETA2: 0.999\n",
      "  BASE_LR_MULT: 0.1\n",
      "  GAMMA: 0.1\n",
      "  LR: 0.0035\n",
      "  LR_SCHEDULER: cosine\n",
      "  MAX_EPOCH: 200\n",
      "  MOMENTUM: 0.9\n",
      "  NAME: sgd\n",
      "  NEW_LAYERS: ()\n",
      "  RMSPROP_ALPHA: 0.99\n",
      "  SGD_DAMPNING: 0\n",
      "  SGD_NESTEROV: False\n",
      "  STAGED_LR: False\n",
      "  STEPSIZE: (-1,)\n",
      "  WARMUP_CONS_LR: 1e-05\n",
      "  WARMUP_EPOCH: 1\n",
      "  WARMUP_MIN_LR: 1e-05\n",
      "  WARMUP_RECOUNT: True\n",
      "  WARMUP_TYPE: constant\n",
      "  WEIGHT_DECAY: 0.0005\n",
      "OUTPUT_DIR: output/replica/MaPLePromptScene/vit_b16_c2_ep200_batch4_ctx4_depth12_cross_datasets_-1shots/seed1\n",
      "RESUME: \n",
      "SEED: 1\n",
      "TEST:\n",
      "  COMPUTE_CMAT: False\n",
      "  EVALUATOR: Classification\n",
      "  FINAL_MODEL: best_val\n",
      "  NO_TEST: False\n",
      "  PER_CLASS_RESULT: False\n",
      "  SPLIT: test\n",
      "TRAIN:\n",
      "  CHECKPOINT_FREQ: 0\n",
      "  COUNT_ITER: train_x\n",
      "  PRINT_FREQ: 20\n",
      "TRAINER:\n",
      "  CDAC:\n",
      "    CLASS_LR_MULTI: 10\n",
      "    P_THRESH: 0.95\n",
      "    RAMPUP_COEF: 30\n",
      "    RAMPUP_ITRS: 1000\n",
      "    STRONG_TRANSFORMS: ()\n",
      "    TOPK_MATCH: 5\n",
      "  COCOOP:\n",
      "    CTX_INIT: \n",
      "    N_CTX: 16\n",
      "    PREC: fp16\n",
      "  COOP:\n",
      "    CLASS_TOKEN_POSITION: end\n",
      "    CSC: False\n",
      "    CTX_INIT: \n",
      "    N_CTX: 16\n",
      "    PREC: fp16\n",
      "  CROSSGRAD:\n",
      "    ALPHA_D: 0.5\n",
      "    ALPHA_F: 0.5\n",
      "    EPS_D: 1.0\n",
      "    EPS_F: 1.0\n",
      "  DAEL:\n",
      "    CONF_THRE: 0.95\n",
      "    STRONG_TRANSFORMS: ()\n",
      "    WEIGHT_U: 0.5\n",
      "  DAELDG:\n",
      "    CONF_THRE: 0.95\n",
      "    STRONG_TRANSFORMS: ()\n",
      "    WEIGHT_U: 0.5\n",
      "  DDAIG:\n",
      "    ALPHA: 0.5\n",
      "    CLAMP: False\n",
      "    CLAMP_MAX: 1.0\n",
      "    CLAMP_MIN: -1.0\n",
      "    G_ARCH: \n",
      "    LMDA: 0.3\n",
      "    WARMUP: 0\n",
      "  DOMAINMIX:\n",
      "    ALPHA: 1.0\n",
      "    BETA: 1.0\n",
      "    TYPE: crossdomain\n",
      "  ENTMIN:\n",
      "    LMDA: 0.001\n",
      "  FIXMATCH:\n",
      "    CONF_THRE: 0.95\n",
      "    STRONG_TRANSFORMS: ()\n",
      "    WEIGHT_U: 1.0\n",
      "  IVLP:\n",
      "    CTX_INIT: a photo of a\n",
      "    N_CTX_TEXT: 2\n",
      "    N_CTX_VISION: 2\n",
      "    PREC: fp16\n",
      "    PROMPT_DEPTH_TEXT: 9\n",
      "    PROMPT_DEPTH_VISION: 9\n",
      "  M3SDA:\n",
      "    LMDA: 0.5\n",
      "    N_STEP_F: 4\n",
      "  MAPLE:\n",
      "    CTX_INIT: a photo of a\n",
      "    N_CTX: 2\n",
      "    PREC: fp16\n",
      "    PROMPT_DEPTH: 9\n",
      "  MAPLE_PROMPT_SCENE:\n",
      "    CTX_INIT: a photo of a {label}.\n",
      "    N_CTX: 4\n",
      "    PREC: fp16\n",
      "    PROMPT_DEPTH: 12\n",
      "  MCD:\n",
      "    N_STEP_F: 4\n",
      "  MEANTEACHER:\n",
      "    EMA_ALPHA: 0.999\n",
      "    RAMPUP: 5\n",
      "    WEIGHT_U: 1.0\n",
      "  MIXMATCH:\n",
      "    MIXUP_BETA: 0.75\n",
      "    RAMPUP: 20000\n",
      "    TEMP: 2.0\n",
      "    WEIGHT_U: 100.0\n",
      "  MME:\n",
      "    LMDA: 0.1\n",
      "  NAME: MaPLePromptScene\n",
      "  SE:\n",
      "    CONF_THRE: 0.95\n",
      "    EMA_ALPHA: 0.999\n",
      "    RAMPUP: 300\n",
      "  VPT:\n",
      "    CTX_INIT: a photo of a\n",
      "    N_CTX_VISION: 2\n",
      "    PREC: fp16\n",
      "    PROMPT_DEPTH_VISION: 1\n",
      "USE_CUDA: True\n",
      "VERBOSE: True\n",
      "VERSION: 1\n",
      "Collecting env info ...\n",
      "** System info **\n",
      "PyTorch version: 1.12.1+cu113\n",
      "Is debug build: False\n",
      "CUDA used to build PyTorch: 11.3\n",
      "ROCM used to build PyTorch: N/A\n",
      "\n",
      "OS: Ubuntu 20.04.4 LTS (x86_64)\n",
      "GCC version: (conda-forge gcc 9.5.0-17) 9.5.0\n",
      "Clang version: Could not collect\n",
      "CMake version: version 3.16.3\n",
      "Libc version: glibc-2.31\n",
      "\n",
      "Python version: 3.10.9 (main, Jan 11 2023, 15:21:40) [GCC 11.2.0] (64-bit runtime)\n",
      "Python platform: Linux-5.15.0-92-generic-x86_64-with-glibc2.31\n",
      "Is CUDA available: True\n",
      "CUDA runtime version: 11.3.122\n",
      "GPU models and configuration: GPU 0: NVIDIA GeForce RTX 3090\n",
      "Nvidia driver version: 525.147.05\n",
      "cuDNN version: Could not collect\n",
      "HIP runtime version: N/A\n",
      "MIOpen runtime version: N/A\n",
      "Is XNNPACK available: True\n",
      "\n",
      "Versions of relevant libraries:\n",
      "[pip3] mypy-extensions==1.0.0\n",
      "[pip3] numpy==1.24.2\n",
      "[pip3] pytorch-lightning==1.7.2\n",
      "[pip3] torch==1.12.1+cu113\n",
      "[pip3] torch-scatter==2.1.2\n",
      "[pip3] torchvision==0.13.1+cu113\n",
      "[conda] nomkl                     3.0                           0    anaconda\n",
      "[conda] numpy                     1.24.2                   pypi_0    pypi\n",
      "[conda] pytorch-lightning         1.7.2                    pypi_0    pypi\n",
      "[conda] torch                     1.12.1+cu113             pypi_0    pypi\n",
      "[conda] torch-scatter             2.1.2                    pypi_0    pypi\n",
      "[conda] torchvision               0.13.1+cu113             pypi_0    pypi\n",
      "        Pillow (9.5.0)\n",
      "\n",
      "Loading trainer: MaPLePromptScene\n",
      "Loading dataset: Replica\n",
      "-----------------------------------------------------------\n",
      "train: [<datasets.replica.Datum_feature object at 0x7f6def122b60>, <datasets.replica.Datum_feature object at 0x7f6def1225f0>, <datasets.replica.Datum_feature object at 0x7f6def122920>, <datasets.replica.Datum_feature object at 0x7f6def121fc0>, <datasets.replica.Datum_feature object at 0x7f6def122a10>, <datasets.replica.Datum_feature object at 0x7f6def1227a0>, <datasets.replica.Datum_feature object at 0x7f6def122980>, <datasets.replica.Datum_feature object at 0x7f6def122950>, <datasets.replica.Datum_feature object at 0x7f6def122350>, <datasets.replica.Datum_feature object at 0x7f6def122bc0>, <datasets.replica.Datum_feature object at 0x7f6def1229e0>, <datasets.replica.Datum_feature object at 0x7f6def122230>, <datasets.replica.Datum_feature object at 0x7f6def1224a0>, <datasets.replica.Datum_feature object at 0x7f6def1222c0>, <datasets.replica.Datum_feature object at 0x7f6def1221a0>, <datasets.replica.Datum_feature object at 0x7f6def122650>, <datasets.replica.Datum_feature object at 0x7f6def1228c0>, <datasets.replica.Datum_feature object at 0x7f6def122d40>, <datasets.replica.Datum_feature object at 0x7f6def122ec0>, <datasets.replica.Datum_feature object at 0x7f6def1226b0>, <datasets.replica.Datum_feature object at 0x7f6def1226e0>, <datasets.replica.Datum_feature object at 0x7f6def122800>, <datasets.replica.Datum_feature object at 0x7f6def1227d0>, <datasets.replica.Datum_feature object at 0x7f6def122620>, <datasets.replica.Datum_feature object at 0x7f6def1223b0>, <datasets.replica.Datum_feature object at 0x7f6def122020>, <datasets.replica.Datum_feature object at 0x7f6def1223e0>, <datasets.replica.Datum_feature object at 0x7f6def122470>, <datasets.replica.Datum_feature object at 0x7f6def122590>, <datasets.replica.Datum_feature object at 0x7f6def1228f0>, <datasets.replica.Datum_feature object at 0x7f6def1222f0>, <datasets.replica.Datum_feature object at 0x7f6def121930>, <datasets.replica.Datum_feature object at 0x7f6def122320>, <datasets.replica.Datum_feature object at 0x7f6def122290>, <datasets.replica.Datum_feature object at 0x7f6def1220b0>, <datasets.replica.Datum_feature object at 0x7f6def121ed0>, <datasets.replica.Datum_feature object at 0x7f6def1217e0>, <datasets.replica.Datum_feature object at 0x7f6def122380>, <datasets.replica.Datum_feature object at 0x7f6def122440>, <datasets.replica.Datum_feature object at 0x7f6def122080>, <datasets.replica.Datum_feature object at 0x7f6def121900>, <datasets.replica.Datum_feature object at 0x7f6def121c60>, <datasets.replica.Datum_feature object at 0x7f6def121ae0>, <datasets.replica.Datum_feature object at 0x7f6def121e40>, <datasets.replica.Datum_feature object at 0x7f6def121c90>, <datasets.replica.Datum_feature object at 0x7f6def121990>, <datasets.replica.Datum_feature object at 0x7f6def122050>, <datasets.replica.Datum_feature object at 0x7f6def121f60>, <datasets.replica.Datum_feature object at 0x7f6def121db0>, <datasets.replica.Datum_feature object at 0x7f6def121c30>, <datasets.replica.Datum_feature object at 0x7f6def121e70>, <datasets.replica.Datum_feature object at 0x7f6def121f00>, <datasets.replica.Datum_feature object at 0x7f6def121cf0>, <datasets.replica.Datum_feature object at 0x7f6def121bd0>, <datasets.replica.Datum_feature object at 0x7f6def121d80>, <datasets.replica.Datum_feature object at 0x7f6def121d50>, <datasets.replica.Datum_feature object at 0x7f6def1219c0>, <datasets.replica.Datum_feature object at 0x7f6def121cc0>, <datasets.replica.Datum_feature object at 0x7f6def121ba0>, <datasets.replica.Datum_feature object at 0x7f6def121e10>, <datasets.replica.Datum_feature object at 0x7f6def121f90>, <datasets.replica.Datum_feature object at 0x7f6def122410>, <datasets.replica.Datum_feature object at 0x7f6def122260>, <datasets.replica.Datum_feature object at 0x7f6def121690>, <datasets.replica.Datum_feature object at 0x7f6def1218a0>, <datasets.replica.Datum_feature object at 0x7f6def1218d0>, <datasets.replica.Datum_feature object at 0x7f6def121a50>, <datasets.replica.Datum_feature object at 0x7f6def121b40>, <datasets.replica.Datum_feature object at 0x7f6def121720>, <datasets.replica.Datum_feature object at 0x7f6def121660>, <datasets.replica.Datum_feature object at 0x7f6def121870>, <datasets.replica.Datum_feature object at 0x7f6def121840>, <datasets.replica.Datum_feature object at 0x7f6def121600>, <datasets.replica.Datum_feature object at 0x7f6def1215d0>, <datasets.replica.Datum_feature object at 0x7f6def1217b0>, <datasets.replica.Datum_feature object at 0x7f6def121780>, <datasets.replica.Datum_feature object at 0x7f6def121630>, <datasets.replica.Datum_feature object at 0x7f6def121450>, <datasets.replica.Datum_feature object at 0x7f6def1216f0>, <datasets.replica.Datum_feature object at 0x7f6def1216c0>, <datasets.replica.Datum_feature object at 0x7f6def121510>, <datasets.replica.Datum_feature object at 0x7f6def121420>, <datasets.replica.Datum_feature object at 0x7f6def121570>, <datasets.replica.Datum_feature object at 0x7f6def121540>, <datasets.replica.Datum_feature object at 0x7f6def121360>, <datasets.replica.Datum_feature object at 0x7f6def121150>, <datasets.replica.Datum_feature object at 0x7f6def1214b0>, <datasets.replica.Datum_feature object at 0x7f6def121480>, <datasets.replica.Datum_feature object at 0x7f6def121270>, <datasets.replica.Datum_feature object at 0x7f6def1213f0>, <datasets.replica.Datum_feature object at 0x7f6def1213c0>, <datasets.replica.Datum_feature object at 0x7f6def121240>, <datasets.replica.Datum_feature object at 0x7f6def1211b0>, <datasets.replica.Datum_feature object at 0x7f6def121300>, <datasets.replica.Datum_feature object at 0x7f6def1209a0>, <datasets.replica.Datum_feature object at 0x7f6def1212d0>, <datasets.replica.Datum_feature object at 0x7f6def121030>, <datasets.replica.Datum_feature object at 0x7f6e0c5c2500>, <datasets.replica.Datum_feature object at 0x7f6e0c5c3490>, <datasets.replica.Datum_feature object at 0x7f6e0c5c3850>, <datasets.replica.Datum_feature object at 0x7f6e0c5c3640>, <datasets.replica.Datum_feature object at 0x7f6e0c5c3730>, <datasets.replica.Datum_feature object at 0x7f6e0c5c3610>, <datasets.replica.Datum_feature object at 0x7f6e0c5c1f60>, <datasets.replica.Datum_feature object at 0x7f6e0c5c3ca0>, <datasets.replica.Datum_feature object at 0x7f6e0c5c3c70>, <datasets.replica.Datum_feature object at 0x7f6e0c5c3bb0>, <datasets.replica.Datum_feature object at 0x7f6e0c5c3f70>, <datasets.replica.Datum_feature object at 0x7f6e0c5c36d0>, <datasets.replica.Datum_feature object at 0x7f6e0c5c3df0>, <datasets.replica.Datum_feature object at 0x7f6def120220>, <datasets.replica.Datum_feature object at 0x7f6def120250>, <datasets.replica.Datum_feature object at 0x7f6def121000>, <datasets.replica.Datum_feature object at 0x7f6def121b70>, <datasets.replica.Datum_feature object at 0x7f6def120d60>, <datasets.replica.Datum_feature object at 0x7f6def121c00>, <datasets.replica.Datum_feature object at 0x7f6def1220e0>, <datasets.replica.Datum_feature object at 0x7f6def1225c0>, <datasets.replica.Datum_feature object at 0x7f6def1209d0>, <datasets.replica.Datum_feature object at 0x7f6def122680>, <datasets.replica.Datum_feature object at 0x7f6def122890>, <datasets.replica.Datum_feature object at 0x7f6def122560>, <datasets.replica.Datum_feature object at 0x7f6def122a40>, <datasets.replica.Datum_feature object at 0x7f6def1221d0>, <datasets.replica.Datum_feature object at 0x7f6def122aa0>, <datasets.replica.Datum_feature object at 0x7f6def122a70>, <datasets.replica.Datum_feature object at 0x7f6def122710>, <datasets.replica.Datum_feature object at 0x7f6def122860>, <datasets.replica.Datum_feature object at 0x7f6def1208e0>, <datasets.replica.Datum_feature object at 0x7f6def120b50>, <datasets.replica.Datum_feature object at 0x7f6def120730>, <datasets.replica.Datum_feature object at 0x7f6def120550>, <datasets.replica.Datum_feature object at 0x7f6def1207c0>, <datasets.replica.Datum_feature object at 0x7f6def120160>, <datasets.replica.Datum_feature object at 0x7f6def1201c0>, <datasets.replica.Datum_feature object at 0x7f6def1224d0>, <datasets.replica.Datum_feature object at 0x7f6def122500>, <datasets.replica.Datum_feature object at 0x7f6def121ab0>, <datasets.replica.Datum_feature object at 0x7f6def123640>, <datasets.replica.Datum_feature object at 0x7f6def122f80>, <datasets.replica.Datum_feature object at 0x7f6def123040>, <datasets.replica.Datum_feature object at 0x7f6def122ef0>, <datasets.replica.Datum_feature object at 0x7f6def123070>, <datasets.replica.Datum_feature object at 0x7f6def123610>, <datasets.replica.Datum_feature object at 0x7f6def120040>, <datasets.replica.Datum_feature object at 0x7f6def122f20>, <datasets.replica.Datum_feature object at 0x7f6def122e30>, <datasets.replica.Datum_feature object at 0x7f6def123670>, <datasets.replica.Datum_feature object at 0x7f6def123400>, <datasets.replica.Datum_feature object at 0x7f6def123580>, <datasets.replica.Datum_feature object at 0x7f6def123280>, <datasets.replica.Datum_feature object at 0x7f6def1230a0>, <datasets.replica.Datum_feature object at 0x7f6def1231f0>, <datasets.replica.Datum_feature object at 0x7f6def122e00>, <datasets.replica.Datum_feature object at 0x7f6def123100>, <datasets.replica.Datum_feature object at 0x7f6def123130>, <datasets.replica.Datum_feature object at 0x7f6def123160>, <datasets.replica.Datum_feature object at 0x7f6def123190>, <datasets.replica.Datum_feature object at 0x7f6def1231c0>, <datasets.replica.Datum_feature object at 0x7f6def123250>, <datasets.replica.Datum_feature object at 0x7f6def123310>, <datasets.replica.Datum_feature object at 0x7f6def123340>, <datasets.replica.Datum_feature object at 0x7f6def123370>, <datasets.replica.Datum_feature object at 0x7f6def1233a0>, <datasets.replica.Datum_feature object at 0x7f6def1233d0>, <datasets.replica.Datum_feature object at 0x7f6def1232e0>, <datasets.replica.Datum_feature object at 0x7f6def1232b0>, <datasets.replica.Datum_feature object at 0x7f6def1230d0>, <datasets.replica.Datum_feature object at 0x7f6def122f50>, <datasets.replica.Datum_feature object at 0x7f6def122d70>, <datasets.replica.Datum_feature object at 0x7f6def1235e0>, <datasets.replica.Datum_feature object at 0x7f6def123520>, <datasets.replica.Datum_feature object at 0x7f6def123550>, <datasets.replica.Datum_feature object at 0x7f6def123430>, <datasets.replica.Datum_feature object at 0x7f6def123460>, <datasets.replica.Datum_feature object at 0x7f6def1236a0>, <datasets.replica.Datum_feature object at 0x7f6def1236d0>, <datasets.replica.Datum_feature object at 0x7f6def123700>]\n"
     ]
    },
    {
     "name": "stdout",
     "output_type": "stream",
     "text": [
      "val: [<datasets.replica.Datum_feature object at 0x7f6def123760>, <datasets.replica.Datum_feature object at 0x7f6def122dd0>, <datasets.replica.Datum_feature object at 0x7f6def123790>, <datasets.replica.Datum_feature object at 0x7f6def123880>, <datasets.replica.Datum_feature object at 0x7f6def1239a0>, <datasets.replica.Datum_feature object at 0x7f6def1239d0>, <datasets.replica.Datum_feature object at 0x7f6def123a00>, <datasets.replica.Datum_feature object at 0x7f6def123a30>, <datasets.replica.Datum_feature object at 0x7f6def1238b0>, <datasets.replica.Datum_feature object at 0x7f6def123910>, <datasets.replica.Datum_feature object at 0x7f6def123940>, <datasets.replica.Datum_feature object at 0x7f6def123ac0>, <datasets.replica.Datum_feature object at 0x7f6def123fd0>, <datasets.replica.Datum_feature object at 0x7f6def123dc0>, <datasets.replica.Datum_feature object at 0x7f6def123f40>, <datasets.replica.Datum_feature object at 0x7f6def123c40>, <datasets.replica.Datum_feature object at 0x7f6def123a60>, <datasets.replica.Datum_feature object at 0x7f6def123bb0>, <datasets.replica.Datum_feature object at 0x7f6def123af0>, <datasets.replica.Datum_feature object at 0x7f6def123b20>, <datasets.replica.Datum_feature object at 0x7f6def123b50>, <datasets.replica.Datum_feature object at 0x7f6def123b80>, <datasets.replica.Datum_feature object at 0x7f6def123c10>, <datasets.replica.Datum_feature object at 0x7f6def123cd0>, <datasets.replica.Datum_feature object at 0x7f6def123d00>, <datasets.replica.Datum_feature object at 0x7f6def123d30>, <datasets.replica.Datum_feature object at 0x7f6def123d60>, <datasets.replica.Datum_feature object at 0x7f6def123d90>, <datasets.replica.Datum_feature object at 0x7f6def123ca0>, <datasets.replica.Datum_feature object at 0x7f6def123c70>, <datasets.replica.Datum_feature object at 0x7f6def123a90>, <datasets.replica.Datum_feature object at 0x7f6def1238e0>, <datasets.replica.Datum_feature object at 0x7f6def123970>, <datasets.replica.Datum_feature object at 0x7f6def123fa0>, <datasets.replica.Datum_feature object at 0x7f6def123ee0>, <datasets.replica.Datum_feature object at 0x7f6def123f10>, <datasets.replica.Datum_feature object at 0x7f6def123df0>, <datasets.replica.Datum_feature object at 0x7f6def123e20>, <datasets.replica.Datum_feature object at 0x7f6def164040>, <datasets.replica.Datum_feature object at 0x7f6def164070>, <datasets.replica.Datum_feature object at 0x7f6def1640a0>, <datasets.replica.Datum_feature object at 0x7f6def1640d0>, <datasets.replica.Datum_feature object at 0x7f6def164100>, <datasets.replica.Datum_feature object at 0x7f6def164130>, <datasets.replica.Datum_feature object at 0x7f6def164160>, <datasets.replica.Datum_feature object at 0x7f6def164190>, <datasets.replica.Datum_feature object at 0x7f6def1641c0>, <datasets.replica.Datum_feature object at 0x7f6def1641f0>, <datasets.replica.Datum_feature object at 0x7f6def164a60>, <datasets.replica.Datum_feature object at 0x7f6def164370>, <datasets.replica.Datum_feature object at 0x7f6def1643a0>, <datasets.replica.Datum_feature object at 0x7f6def164400>, <datasets.replica.Datum_feature object at 0x7f6def164430>, <datasets.replica.Datum_feature object at 0x7f6def164a30>, <datasets.replica.Datum_feature object at 0x7f6def1642e0>, <datasets.replica.Datum_feature object at 0x7f6def164310>, <datasets.replica.Datum_feature object at 0x7f6def164460>, <datasets.replica.Datum_feature object at 0x7f6def164a90>, <datasets.replica.Datum_feature object at 0x7f6def164820>, <datasets.replica.Datum_feature object at 0x7f6def1649a0>, <datasets.replica.Datum_feature object at 0x7f6def1646a0>, <datasets.replica.Datum_feature object at 0x7f6def1644c0>, <datasets.replica.Datum_feature object at 0x7f6def164610>, <datasets.replica.Datum_feature object at 0x7f6def164490>, <datasets.replica.Datum_feature object at 0x7f6def164520>, <datasets.replica.Datum_feature object at 0x7f6def164550>, <datasets.replica.Datum_feature object at 0x7f6def164580>, <datasets.replica.Datum_feature object at 0x7f6def1645b0>, <datasets.replica.Datum_feature object at 0x7f6def1645e0>, <datasets.replica.Datum_feature object at 0x7f6def164670>, <datasets.replica.Datum_feature object at 0x7f6def164730>, <datasets.replica.Datum_feature object at 0x7f6def164760>, <datasets.replica.Datum_feature object at 0x7f6def164790>, <datasets.replica.Datum_feature object at 0x7f6def1647c0>, <datasets.replica.Datum_feature object at 0x7f6def1647f0>, <datasets.replica.Datum_feature object at 0x7f6def164700>, <datasets.replica.Datum_feature object at 0x7f6def1646d0>, <datasets.replica.Datum_feature object at 0x7f6def1644f0>, <datasets.replica.Datum_feature object at 0x7f6def164340>, <datasets.replica.Datum_feature object at 0x7f6def1643d0>, <datasets.replica.Datum_feature object at 0x7f6def164a00>, <datasets.replica.Datum_feature object at 0x7f6def164940>, <datasets.replica.Datum_feature object at 0x7f6def164970>, <datasets.replica.Datum_feature object at 0x7f6def164850>, <datasets.replica.Datum_feature object at 0x7f6def164880>, <datasets.replica.Datum_feature object at 0x7f6def164ac0>, <datasets.replica.Datum_feature object at 0x7f6def164af0>, <datasets.replica.Datum_feature object at 0x7f6def164b20>, <datasets.replica.Datum_feature object at 0x7f6def164b50>, <datasets.replica.Datum_feature object at 0x7f6def164b80>, <datasets.replica.Datum_feature object at 0x7f6def164bb0>, <datasets.replica.Datum_feature object at 0x7f6def164be0>, <datasets.replica.Datum_feature object at 0x7f6def164c10>, <datasets.replica.Datum_feature object at 0x7f6def164c40>, <datasets.replica.Datum_feature object at 0x7f6def164c70>, <datasets.replica.Datum_feature object at 0x7f6def164ca0>, <datasets.replica.Datum_feature object at 0x7f6def164cd0>, <datasets.replica.Datum_feature object at 0x7f6def164d00>, <datasets.replica.Datum_feature object at 0x7f6def164d30>, <datasets.replica.Datum_feature object at 0x7f6def164d60>, <datasets.replica.Datum_feature object at 0x7f6def164d90>, <datasets.replica.Datum_feature object at 0x7f6def164dc0>, <datasets.replica.Datum_feature object at 0x7f6def164df0>, <datasets.replica.Datum_feature object at 0x7f6def164e20>, <datasets.replica.Datum_feature object at 0x7f6def164e50>, <datasets.replica.Datum_feature object at 0x7f6def164e80>]\n",
      "test: [<datasets.replica.Datum_feature object at 0x7f6def164eb0>, <datasets.replica.Datum_feature object at 0x7f6def164ee0>, <datasets.replica.Datum_feature object at 0x7f6def164f10>, <datasets.replica.Datum_feature object at 0x7f6def165780>, <datasets.replica.Datum_feature object at 0x7f6def165090>, <datasets.replica.Datum_feature object at 0x7f6def1650c0>, <datasets.replica.Datum_feature object at 0x7f6def165120>, <datasets.replica.Datum_feature object at 0x7f6def165150>, <datasets.replica.Datum_feature object at 0x7f6def165750>, <datasets.replica.Datum_feature object at 0x7f6def165000>, <datasets.replica.Datum_feature object at 0x7f6def165030>, <datasets.replica.Datum_feature object at 0x7f6def165180>, <datasets.replica.Datum_feature object at 0x7f6def1657b0>, <datasets.replica.Datum_feature object at 0x7f6def165540>, <datasets.replica.Datum_feature object at 0x7f6def1656c0>, <datasets.replica.Datum_feature object at 0x7f6def1653c0>, <datasets.replica.Datum_feature object at 0x7f6def1651e0>, <datasets.replica.Datum_feature object at 0x7f6def165330>, <datasets.replica.Datum_feature object at 0x7f6def1651b0>, <datasets.replica.Datum_feature object at 0x7f6def165240>, <datasets.replica.Datum_feature object at 0x7f6def165270>, <datasets.replica.Datum_feature object at 0x7f6def1652a0>, <datasets.replica.Datum_feature object at 0x7f6def1652d0>, <datasets.replica.Datum_feature object at 0x7f6def165300>, <datasets.replica.Datum_feature object at 0x7f6def165390>, <datasets.replica.Datum_feature object at 0x7f6def165450>, <datasets.replica.Datum_feature object at 0x7f6def165480>, <datasets.replica.Datum_feature object at 0x7f6def1654b0>, <datasets.replica.Datum_feature object at 0x7f6def1654e0>, <datasets.replica.Datum_feature object at 0x7f6def165510>, <datasets.replica.Datum_feature object at 0x7f6def165420>, <datasets.replica.Datum_feature object at 0x7f6def1653f0>, <datasets.replica.Datum_feature object at 0x7f6def165210>, <datasets.replica.Datum_feature object at 0x7f6def165060>, <datasets.replica.Datum_feature object at 0x7f6def165f00>, <datasets.replica.Datum_feature object at 0x7f6def165810>, <datasets.replica.Datum_feature object at 0x7f6def165840>, <datasets.replica.Datum_feature object at 0x7f6def1658a0>, <datasets.replica.Datum_feature object at 0x7f6def1658d0>, <datasets.replica.Datum_feature object at 0x7f6def165ed0>, <datasets.replica.Datum_feature object at 0x7f6def165570>, <datasets.replica.Datum_feature object at 0x7f6def1655a0>, <datasets.replica.Datum_feature object at 0x7f6def165900>, <datasets.replica.Datum_feature object at 0x7f6def165f30>, <datasets.replica.Datum_feature object at 0x7f6def165cc0>, <datasets.replica.Datum_feature object at 0x7f6def165e40>, <datasets.replica.Datum_feature object at 0x7f6def165b40>, <datasets.replica.Datum_feature object at 0x7f6def165960>, <datasets.replica.Datum_feature object at 0x7f6def165ab0>, <datasets.replica.Datum_feature object at 0x7f6def165930>, <datasets.replica.Datum_feature object at 0x7f6def1659c0>, <datasets.replica.Datum_feature object at 0x7f6def1659f0>, <datasets.replica.Datum_feature object at 0x7f6def165a20>, <datasets.replica.Datum_feature object at 0x7f6def165a50>, <datasets.replica.Datum_feature object at 0x7f6def165a80>, <datasets.replica.Datum_feature object at 0x7f6def165b10>, <datasets.replica.Datum_feature object at 0x7f6def165bd0>, <datasets.replica.Datum_feature object at 0x7f6def165c00>, <datasets.replica.Datum_feature object at 0x7f6def165c30>, <datasets.replica.Datum_feature object at 0x7f6def165c60>, <datasets.replica.Datum_feature object at 0x7f6def165c90>, <datasets.replica.Datum_feature object at 0x7f6def165ba0>, <datasets.replica.Datum_feature object at 0x7f6def165b70>, <datasets.replica.Datum_feature object at 0x7f6def165990>, <datasets.replica.Datum_feature object at 0x7f6def1657e0>, <datasets.replica.Datum_feature object at 0x7f6def165870>, <datasets.replica.Datum_feature object at 0x7f6def165ea0>, <datasets.replica.Datum_feature object at 0x7f6def165de0>, <datasets.replica.Datum_feature object at 0x7f6def165e10>, <datasets.replica.Datum_feature object at 0x7f6def165cf0>, <datasets.replica.Datum_feature object at 0x7f6def165d20>, <datasets.replica.Datum_feature object at 0x7f6def165f60>, <datasets.replica.Datum_feature object at 0x7f6def165f90>, <datasets.replica.Datum_feature object at 0x7f6def165fc0>, <datasets.replica.Datum_feature object at 0x7f6def165ff0>, <datasets.replica.Datum_feature object at 0x7f6def166020>, <datasets.replica.Datum_feature object at 0x7f6def166050>, <datasets.replica.Datum_feature object at 0x7f6def166080>, <datasets.replica.Datum_feature object at 0x7f6def1660b0>, <datasets.replica.Datum_feature object at 0x7f6def1660e0>, <datasets.replica.Datum_feature object at 0x7f6def166110>, <datasets.replica.Datum_feature object at 0x7f6def166140>, <datasets.replica.Datum_feature object at 0x7f6def166170>]\n"
     ]
    },
    {
     "name": "stdout",
     "output_type": "stream",
     "text": [
      "-----------------------------------------------------------\n",
      "-----------------------------------------------------------\n",
      "train: [<datasets.replica.Datum_feature object at 0x7f6def122b60>, <datasets.replica.Datum_feature object at 0x7f6def1225f0>, <datasets.replica.Datum_feature object at 0x7f6def122920>, <datasets.replica.Datum_feature object at 0x7f6def121fc0>, <datasets.replica.Datum_feature object at 0x7f6def122a10>, <datasets.replica.Datum_feature object at 0x7f6def1227a0>, <datasets.replica.Datum_feature object at 0x7f6def122980>, <datasets.replica.Datum_feature object at 0x7f6def122950>, <datasets.replica.Datum_feature object at 0x7f6def122350>, <datasets.replica.Datum_feature object at 0x7f6def122bc0>, <datasets.replica.Datum_feature object at 0x7f6def1229e0>, <datasets.replica.Datum_feature object at 0x7f6def122230>, <datasets.replica.Datum_feature object at 0x7f6def1224a0>, <datasets.replica.Datum_feature object at 0x7f6def1222c0>, <datasets.replica.Datum_feature object at 0x7f6def1221a0>, <datasets.replica.Datum_feature object at 0x7f6def122650>, <datasets.replica.Datum_feature object at 0x7f6def1228c0>, <datasets.replica.Datum_feature object at 0x7f6def122d40>, <datasets.replica.Datum_feature object at 0x7f6def122ec0>, <datasets.replica.Datum_feature object at 0x7f6def1226b0>, <datasets.replica.Datum_feature object at 0x7f6def1226e0>, <datasets.replica.Datum_feature object at 0x7f6def122800>, <datasets.replica.Datum_feature object at 0x7f6def1227d0>, <datasets.replica.Datum_feature object at 0x7f6def122620>, <datasets.replica.Datum_feature object at 0x7f6def1223b0>, <datasets.replica.Datum_feature object at 0x7f6def122020>, <datasets.replica.Datum_feature object at 0x7f6def1223e0>, <datasets.replica.Datum_feature object at 0x7f6def122470>, <datasets.replica.Datum_feature object at 0x7f6def122590>, <datasets.replica.Datum_feature object at 0x7f6def1228f0>, <datasets.replica.Datum_feature object at 0x7f6def1222f0>, <datasets.replica.Datum_feature object at 0x7f6def121930>, <datasets.replica.Datum_feature object at 0x7f6def122320>, <datasets.replica.Datum_feature object at 0x7f6def122290>, <datasets.replica.Datum_feature object at 0x7f6def1220b0>, <datasets.replica.Datum_feature object at 0x7f6def121ed0>, <datasets.replica.Datum_feature object at 0x7f6def1217e0>, <datasets.replica.Datum_feature object at 0x7f6def122380>, <datasets.replica.Datum_feature object at 0x7f6def122440>, <datasets.replica.Datum_feature object at 0x7f6def122080>, <datasets.replica.Datum_feature object at 0x7f6def121900>, <datasets.replica.Datum_feature object at 0x7f6def121c60>, <datasets.replica.Datum_feature object at 0x7f6def121ae0>, <datasets.replica.Datum_feature object at 0x7f6def121e40>, <datasets.replica.Datum_feature object at 0x7f6def121c90>, <datasets.replica.Datum_feature object at 0x7f6def121990>, <datasets.replica.Datum_feature object at 0x7f6def122050>, <datasets.replica.Datum_feature object at 0x7f6def121f60>, <datasets.replica.Datum_feature object at 0x7f6def121db0>, <datasets.replica.Datum_feature object at 0x7f6def121c30>, <datasets.replica.Datum_feature object at 0x7f6def121e70>, <datasets.replica.Datum_feature object at 0x7f6def121f00>, <datasets.replica.Datum_feature object at 0x7f6def121cf0>, <datasets.replica.Datum_feature object at 0x7f6def121bd0>, <datasets.replica.Datum_feature object at 0x7f6def121d80>, <datasets.replica.Datum_feature object at 0x7f6def121d50>, <datasets.replica.Datum_feature object at 0x7f6def1219c0>, <datasets.replica.Datum_feature object at 0x7f6def121cc0>, <datasets.replica.Datum_feature object at 0x7f6def121ba0>, <datasets.replica.Datum_feature object at 0x7f6def121e10>, <datasets.replica.Datum_feature object at 0x7f6def121f90>, <datasets.replica.Datum_feature object at 0x7f6def122410>, <datasets.replica.Datum_feature object at 0x7f6def122260>, <datasets.replica.Datum_feature object at 0x7f6def121690>, <datasets.replica.Datum_feature object at 0x7f6def1218a0>, <datasets.replica.Datum_feature object at 0x7f6def1218d0>, <datasets.replica.Datum_feature object at 0x7f6def121a50>, <datasets.replica.Datum_feature object at 0x7f6def121b40>, <datasets.replica.Datum_feature object at 0x7f6def121720>, <datasets.replica.Datum_feature object at 0x7f6def121660>, <datasets.replica.Datum_feature object at 0x7f6def121870>, <datasets.replica.Datum_feature object at 0x7f6def121840>, <datasets.replica.Datum_feature object at 0x7f6def121600>, <datasets.replica.Datum_feature object at 0x7f6def1215d0>, <datasets.replica.Datum_feature object at 0x7f6def1217b0>, <datasets.replica.Datum_feature object at 0x7f6def121780>, <datasets.replica.Datum_feature object at 0x7f6def121630>, <datasets.replica.Datum_feature object at 0x7f6def121450>, <datasets.replica.Datum_feature object at 0x7f6def1216f0>, <datasets.replica.Datum_feature object at 0x7f6def1216c0>, <datasets.replica.Datum_feature object at 0x7f6def121510>, <datasets.replica.Datum_feature object at 0x7f6def121420>, <datasets.replica.Datum_feature object at 0x7f6def121570>, <datasets.replica.Datum_feature object at 0x7f6def121540>, <datasets.replica.Datum_feature object at 0x7f6def121360>, <datasets.replica.Datum_feature object at 0x7f6def121150>, <datasets.replica.Datum_feature object at 0x7f6def1214b0>, <datasets.replica.Datum_feature object at 0x7f6def121480>, <datasets.replica.Datum_feature object at 0x7f6def121270>, <datasets.replica.Datum_feature object at 0x7f6def1213f0>, <datasets.replica.Datum_feature object at 0x7f6def1213c0>, <datasets.replica.Datum_feature object at 0x7f6def121240>, <datasets.replica.Datum_feature object at 0x7f6def1211b0>, <datasets.replica.Datum_feature object at 0x7f6def121300>, <datasets.replica.Datum_feature object at 0x7f6def1209a0>, <datasets.replica.Datum_feature object at 0x7f6def1212d0>, <datasets.replica.Datum_feature object at 0x7f6def121030>, <datasets.replica.Datum_feature object at 0x7f6e0c5c2500>, <datasets.replica.Datum_feature object at 0x7f6e0c5c3490>, <datasets.replica.Datum_feature object at 0x7f6e0c5c3850>, <datasets.replica.Datum_feature object at 0x7f6e0c5c3640>, <datasets.replica.Datum_feature object at 0x7f6e0c5c3730>, <datasets.replica.Datum_feature object at 0x7f6e0c5c3610>, <datasets.replica.Datum_feature object at 0x7f6e0c5c1f60>, <datasets.replica.Datum_feature object at 0x7f6e0c5c3ca0>, <datasets.replica.Datum_feature object at 0x7f6e0c5c3c70>, <datasets.replica.Datum_feature object at 0x7f6e0c5c3bb0>, <datasets.replica.Datum_feature object at 0x7f6e0c5c3f70>, <datasets.replica.Datum_feature object at 0x7f6e0c5c36d0>, <datasets.replica.Datum_feature object at 0x7f6e0c5c3df0>, <datasets.replica.Datum_feature object at 0x7f6def120220>, <datasets.replica.Datum_feature object at 0x7f6def120250>, <datasets.replica.Datum_feature object at 0x7f6def121000>, <datasets.replica.Datum_feature object at 0x7f6def121b70>, <datasets.replica.Datum_feature object at 0x7f6def120d60>, <datasets.replica.Datum_feature object at 0x7f6def121c00>, <datasets.replica.Datum_feature object at 0x7f6def1220e0>, <datasets.replica.Datum_feature object at 0x7f6def1225c0>, <datasets.replica.Datum_feature object at 0x7f6def1209d0>, <datasets.replica.Datum_feature object at 0x7f6def122680>, <datasets.replica.Datum_feature object at 0x7f6def122890>, <datasets.replica.Datum_feature object at 0x7f6def122560>, <datasets.replica.Datum_feature object at 0x7f6def122a40>, <datasets.replica.Datum_feature object at 0x7f6def1221d0>, <datasets.replica.Datum_feature object at 0x7f6def122aa0>, <datasets.replica.Datum_feature object at 0x7f6def122a70>, <datasets.replica.Datum_feature object at 0x7f6def122710>, <datasets.replica.Datum_feature object at 0x7f6def122860>, <datasets.replica.Datum_feature object at 0x7f6def1208e0>, <datasets.replica.Datum_feature object at 0x7f6def120b50>, <datasets.replica.Datum_feature object at 0x7f6def120730>, <datasets.replica.Datum_feature object at 0x7f6def120550>, <datasets.replica.Datum_feature object at 0x7f6def1207c0>, <datasets.replica.Datum_feature object at 0x7f6def120160>, <datasets.replica.Datum_feature object at 0x7f6def1201c0>, <datasets.replica.Datum_feature object at 0x7f6def1224d0>, <datasets.replica.Datum_feature object at 0x7f6def122500>, <datasets.replica.Datum_feature object at 0x7f6def121ab0>, <datasets.replica.Datum_feature object at 0x7f6def123640>, <datasets.replica.Datum_feature object at 0x7f6def122f80>, <datasets.replica.Datum_feature object at 0x7f6def123040>, <datasets.replica.Datum_feature object at 0x7f6def122ef0>, <datasets.replica.Datum_feature object at 0x7f6def123070>, <datasets.replica.Datum_feature object at 0x7f6def123610>, <datasets.replica.Datum_feature object at 0x7f6def120040>, <datasets.replica.Datum_feature object at 0x7f6def122f20>, <datasets.replica.Datum_feature object at 0x7f6def122e30>, <datasets.replica.Datum_feature object at 0x7f6def123670>, <datasets.replica.Datum_feature object at 0x7f6def123400>, <datasets.replica.Datum_feature object at 0x7f6def123580>, <datasets.replica.Datum_feature object at 0x7f6def123280>, <datasets.replica.Datum_feature object at 0x7f6def1230a0>, <datasets.replica.Datum_feature object at 0x7f6def1231f0>, <datasets.replica.Datum_feature object at 0x7f6def122e00>, <datasets.replica.Datum_feature object at 0x7f6def123100>, <datasets.replica.Datum_feature object at 0x7f6def123130>, <datasets.replica.Datum_feature object at 0x7f6def123160>, <datasets.replica.Datum_feature object at 0x7f6def123190>, <datasets.replica.Datum_feature object at 0x7f6def1231c0>, <datasets.replica.Datum_feature object at 0x7f6def123250>, <datasets.replica.Datum_feature object at 0x7f6def123310>, <datasets.replica.Datum_feature object at 0x7f6def123340>, <datasets.replica.Datum_feature object at 0x7f6def123370>, <datasets.replica.Datum_feature object at 0x7f6def1233a0>, <datasets.replica.Datum_feature object at 0x7f6def1233d0>, <datasets.replica.Datum_feature object at 0x7f6def1232e0>, <datasets.replica.Datum_feature object at 0x7f6def1232b0>, <datasets.replica.Datum_feature object at 0x7f6def1230d0>, <datasets.replica.Datum_feature object at 0x7f6def122f50>, <datasets.replica.Datum_feature object at 0x7f6def122d70>, <datasets.replica.Datum_feature object at 0x7f6def1235e0>, <datasets.replica.Datum_feature object at 0x7f6def123520>, <datasets.replica.Datum_feature object at 0x7f6def123550>, <datasets.replica.Datum_feature object at 0x7f6def123430>, <datasets.replica.Datum_feature object at 0x7f6def123460>, <datasets.replica.Datum_feature object at 0x7f6def1236a0>, <datasets.replica.Datum_feature object at 0x7f6def1236d0>, <datasets.replica.Datum_feature object at 0x7f6def123700>]\n"
     ]
    },
    {
     "name": "stdout",
     "output_type": "stream",
     "text": [
      "val: [<datasets.replica.Datum_feature object at 0x7f6def123760>, <datasets.replica.Datum_feature object at 0x7f6def122dd0>, <datasets.replica.Datum_feature object at 0x7f6def123790>, <datasets.replica.Datum_feature object at 0x7f6def123880>, <datasets.replica.Datum_feature object at 0x7f6def1239a0>, <datasets.replica.Datum_feature object at 0x7f6def1239d0>, <datasets.replica.Datum_feature object at 0x7f6def123a00>, <datasets.replica.Datum_feature object at 0x7f6def123a30>, <datasets.replica.Datum_feature object at 0x7f6def1238b0>, <datasets.replica.Datum_feature object at 0x7f6def123910>, <datasets.replica.Datum_feature object at 0x7f6def123940>, <datasets.replica.Datum_feature object at 0x7f6def123ac0>, <datasets.replica.Datum_feature object at 0x7f6def123fd0>, <datasets.replica.Datum_feature object at 0x7f6def123dc0>, <datasets.replica.Datum_feature object at 0x7f6def123f40>, <datasets.replica.Datum_feature object at 0x7f6def123c40>, <datasets.replica.Datum_feature object at 0x7f6def123a60>, <datasets.replica.Datum_feature object at 0x7f6def123bb0>, <datasets.replica.Datum_feature object at 0x7f6def123af0>, <datasets.replica.Datum_feature object at 0x7f6def123b20>, <datasets.replica.Datum_feature object at 0x7f6def123b50>, <datasets.replica.Datum_feature object at 0x7f6def123b80>, <datasets.replica.Datum_feature object at 0x7f6def123c10>, <datasets.replica.Datum_feature object at 0x7f6def123cd0>, <datasets.replica.Datum_feature object at 0x7f6def123d00>, <datasets.replica.Datum_feature object at 0x7f6def123d30>, <datasets.replica.Datum_feature object at 0x7f6def123d60>, <datasets.replica.Datum_feature object at 0x7f6def123d90>, <datasets.replica.Datum_feature object at 0x7f6def123ca0>, <datasets.replica.Datum_feature object at 0x7f6def123c70>, <datasets.replica.Datum_feature object at 0x7f6def123a90>, <datasets.replica.Datum_feature object at 0x7f6def1238e0>, <datasets.replica.Datum_feature object at 0x7f6def123970>, <datasets.replica.Datum_feature object at 0x7f6def123fa0>, <datasets.replica.Datum_feature object at 0x7f6def123ee0>, <datasets.replica.Datum_feature object at 0x7f6def123f10>, <datasets.replica.Datum_feature object at 0x7f6def123df0>, <datasets.replica.Datum_feature object at 0x7f6def123e20>, <datasets.replica.Datum_feature object at 0x7f6def164040>, <datasets.replica.Datum_feature object at 0x7f6def164070>, <datasets.replica.Datum_feature object at 0x7f6def1640a0>, <datasets.replica.Datum_feature object at 0x7f6def1640d0>, <datasets.replica.Datum_feature object at 0x7f6def164100>, <datasets.replica.Datum_feature object at 0x7f6def164130>, <datasets.replica.Datum_feature object at 0x7f6def164160>, <datasets.replica.Datum_feature object at 0x7f6def164190>, <datasets.replica.Datum_feature object at 0x7f6def1641c0>, <datasets.replica.Datum_feature object at 0x7f6def1641f0>, <datasets.replica.Datum_feature object at 0x7f6def164a60>, <datasets.replica.Datum_feature object at 0x7f6def164370>, <datasets.replica.Datum_feature object at 0x7f6def1643a0>, <datasets.replica.Datum_feature object at 0x7f6def164400>, <datasets.replica.Datum_feature object at 0x7f6def164430>, <datasets.replica.Datum_feature object at 0x7f6def164a30>, <datasets.replica.Datum_feature object at 0x7f6def1642e0>, <datasets.replica.Datum_feature object at 0x7f6def164310>, <datasets.replica.Datum_feature object at 0x7f6def164460>, <datasets.replica.Datum_feature object at 0x7f6def164a90>, <datasets.replica.Datum_feature object at 0x7f6def164820>, <datasets.replica.Datum_feature object at 0x7f6def1649a0>, <datasets.replica.Datum_feature object at 0x7f6def1646a0>, <datasets.replica.Datum_feature object at 0x7f6def1644c0>, <datasets.replica.Datum_feature object at 0x7f6def164610>, <datasets.replica.Datum_feature object at 0x7f6def164490>, <datasets.replica.Datum_feature object at 0x7f6def164520>, <datasets.replica.Datum_feature object at 0x7f6def164550>, <datasets.replica.Datum_feature object at 0x7f6def164580>, <datasets.replica.Datum_feature object at 0x7f6def1645b0>, <datasets.replica.Datum_feature object at 0x7f6def1645e0>, <datasets.replica.Datum_feature object at 0x7f6def164670>, <datasets.replica.Datum_feature object at 0x7f6def164730>, <datasets.replica.Datum_feature object at 0x7f6def164760>, <datasets.replica.Datum_feature object at 0x7f6def164790>, <datasets.replica.Datum_feature object at 0x7f6def1647c0>, <datasets.replica.Datum_feature object at 0x7f6def1647f0>, <datasets.replica.Datum_feature object at 0x7f6def164700>, <datasets.replica.Datum_feature object at 0x7f6def1646d0>, <datasets.replica.Datum_feature object at 0x7f6def1644f0>, <datasets.replica.Datum_feature object at 0x7f6def164340>, <datasets.replica.Datum_feature object at 0x7f6def1643d0>, <datasets.replica.Datum_feature object at 0x7f6def164a00>, <datasets.replica.Datum_feature object at 0x7f6def164940>, <datasets.replica.Datum_feature object at 0x7f6def164970>, <datasets.replica.Datum_feature object at 0x7f6def164850>, <datasets.replica.Datum_feature object at 0x7f6def164880>, <datasets.replica.Datum_feature object at 0x7f6def164ac0>, <datasets.replica.Datum_feature object at 0x7f6def164af0>, <datasets.replica.Datum_feature object at 0x7f6def164b20>, <datasets.replica.Datum_feature object at 0x7f6def164b50>, <datasets.replica.Datum_feature object at 0x7f6def164b80>, <datasets.replica.Datum_feature object at 0x7f6def164bb0>, <datasets.replica.Datum_feature object at 0x7f6def164be0>, <datasets.replica.Datum_feature object at 0x7f6def164c10>, <datasets.replica.Datum_feature object at 0x7f6def164c40>, <datasets.replica.Datum_feature object at 0x7f6def164c70>, <datasets.replica.Datum_feature object at 0x7f6def164ca0>, <datasets.replica.Datum_feature object at 0x7f6def164cd0>, <datasets.replica.Datum_feature object at 0x7f6def164d00>, <datasets.replica.Datum_feature object at 0x7f6def164d30>, <datasets.replica.Datum_feature object at 0x7f6def164d60>, <datasets.replica.Datum_feature object at 0x7f6def164d90>, <datasets.replica.Datum_feature object at 0x7f6def164dc0>, <datasets.replica.Datum_feature object at 0x7f6def164df0>, <datasets.replica.Datum_feature object at 0x7f6def164e20>, <datasets.replica.Datum_feature object at 0x7f6def164e50>, <datasets.replica.Datum_feature object at 0x7f6def164e80>]\n",
      "test: [<datasets.replica.Datum_feature object at 0x7f6def164eb0>, <datasets.replica.Datum_feature object at 0x7f6def164ee0>, <datasets.replica.Datum_feature object at 0x7f6def164f10>, <datasets.replica.Datum_feature object at 0x7f6def165780>, <datasets.replica.Datum_feature object at 0x7f6def165090>, <datasets.replica.Datum_feature object at 0x7f6def1650c0>, <datasets.replica.Datum_feature object at 0x7f6def165120>, <datasets.replica.Datum_feature object at 0x7f6def165150>, <datasets.replica.Datum_feature object at 0x7f6def165750>, <datasets.replica.Datum_feature object at 0x7f6def165000>, <datasets.replica.Datum_feature object at 0x7f6def165030>, <datasets.replica.Datum_feature object at 0x7f6def165180>, <datasets.replica.Datum_feature object at 0x7f6def1657b0>, <datasets.replica.Datum_feature object at 0x7f6def165540>, <datasets.replica.Datum_feature object at 0x7f6def1656c0>, <datasets.replica.Datum_feature object at 0x7f6def1653c0>, <datasets.replica.Datum_feature object at 0x7f6def1651e0>, <datasets.replica.Datum_feature object at 0x7f6def165330>, <datasets.replica.Datum_feature object at 0x7f6def1651b0>, <datasets.replica.Datum_feature object at 0x7f6def165240>, <datasets.replica.Datum_feature object at 0x7f6def165270>, <datasets.replica.Datum_feature object at 0x7f6def1652a0>, <datasets.replica.Datum_feature object at 0x7f6def1652d0>, <datasets.replica.Datum_feature object at 0x7f6def165300>, <datasets.replica.Datum_feature object at 0x7f6def165390>, <datasets.replica.Datum_feature object at 0x7f6def165450>, <datasets.replica.Datum_feature object at 0x7f6def165480>, <datasets.replica.Datum_feature object at 0x7f6def1654b0>, <datasets.replica.Datum_feature object at 0x7f6def1654e0>, <datasets.replica.Datum_feature object at 0x7f6def165510>, <datasets.replica.Datum_feature object at 0x7f6def165420>, <datasets.replica.Datum_feature object at 0x7f6def1653f0>, <datasets.replica.Datum_feature object at 0x7f6def165210>, <datasets.replica.Datum_feature object at 0x7f6def165060>, <datasets.replica.Datum_feature object at 0x7f6def165f00>, <datasets.replica.Datum_feature object at 0x7f6def165810>, <datasets.replica.Datum_feature object at 0x7f6def165840>, <datasets.replica.Datum_feature object at 0x7f6def1658a0>, <datasets.replica.Datum_feature object at 0x7f6def1658d0>, <datasets.replica.Datum_feature object at 0x7f6def165ed0>, <datasets.replica.Datum_feature object at 0x7f6def165570>, <datasets.replica.Datum_feature object at 0x7f6def1655a0>, <datasets.replica.Datum_feature object at 0x7f6def165900>, <datasets.replica.Datum_feature object at 0x7f6def165f30>, <datasets.replica.Datum_feature object at 0x7f6def165cc0>, <datasets.replica.Datum_feature object at 0x7f6def165e40>, <datasets.replica.Datum_feature object at 0x7f6def165b40>, <datasets.replica.Datum_feature object at 0x7f6def165960>, <datasets.replica.Datum_feature object at 0x7f6def165ab0>, <datasets.replica.Datum_feature object at 0x7f6def165930>, <datasets.replica.Datum_feature object at 0x7f6def1659c0>, <datasets.replica.Datum_feature object at 0x7f6def1659f0>, <datasets.replica.Datum_feature object at 0x7f6def165a20>, <datasets.replica.Datum_feature object at 0x7f6def165a50>, <datasets.replica.Datum_feature object at 0x7f6def165a80>, <datasets.replica.Datum_feature object at 0x7f6def165b10>, <datasets.replica.Datum_feature object at 0x7f6def165bd0>, <datasets.replica.Datum_feature object at 0x7f6def165c00>, <datasets.replica.Datum_feature object at 0x7f6def165c30>, <datasets.replica.Datum_feature object at 0x7f6def165c60>, <datasets.replica.Datum_feature object at 0x7f6def165c90>, <datasets.replica.Datum_feature object at 0x7f6def165ba0>, <datasets.replica.Datum_feature object at 0x7f6def165b70>, <datasets.replica.Datum_feature object at 0x7f6def165990>, <datasets.replica.Datum_feature object at 0x7f6def1657e0>, <datasets.replica.Datum_feature object at 0x7f6def165870>, <datasets.replica.Datum_feature object at 0x7f6def165ea0>, <datasets.replica.Datum_feature object at 0x7f6def165de0>, <datasets.replica.Datum_feature object at 0x7f6def165e10>, <datasets.replica.Datum_feature object at 0x7f6def165cf0>, <datasets.replica.Datum_feature object at 0x7f6def165d20>, <datasets.replica.Datum_feature object at 0x7f6def165f60>, <datasets.replica.Datum_feature object at 0x7f6def165f90>, <datasets.replica.Datum_feature object at 0x7f6def165fc0>, <datasets.replica.Datum_feature object at 0x7f6def165ff0>, <datasets.replica.Datum_feature object at 0x7f6def166020>, <datasets.replica.Datum_feature object at 0x7f6def166050>, <datasets.replica.Datum_feature object at 0x7f6def166080>, <datasets.replica.Datum_feature object at 0x7f6def1660b0>, <datasets.replica.Datum_feature object at 0x7f6def1660e0>, <datasets.replica.Datum_feature object at 0x7f6def166110>, <datasets.replica.Datum_feature object at 0x7f6def166140>, <datasets.replica.Datum_feature object at 0x7f6def166170>]\n"
     ]
    },
    {
     "name": "stdout",
     "output_type": "stream",
     "text": [
      "-----------------------------------------------------------\n",
      "Label range: 0-47\n",
      "Unique labels: {0, 3, 4, 5, 6, 7, 10, 11, 12, 13, 14, 15, 17, 18, 19, 20, 21, 22, 23, 25, 26, 27, 28, 30, 31, 32, 35, 36, 37, 38, 39, 40, 41, 43, 44, 45, 46, 47}\n",
      "Label range: 0-47\n",
      "Unique labels: {0, 1, 2, 3, 4, 5, 6, 7, 8, 10, 11, 13, 14, 16, 17, 19, 20, 21, 22, 24, 25, 26, 28, 29, 31, 35, 37, 38, 39, 40, 42, 43, 44, 45, 46, 47}\n",
      "Label range: 2-47\n",
      "Unique labels: {2, 3, 5, 7, 8, 9, 10, 13, 14, 20, 21, 22, 25, 31, 33, 34, 37, 38, 41, 43, 44, 45, 46, 47}\n",
      "Building transform_train\n",
      "+ random resized crop (size=(224, 224), scale=(0.08, 1.0))\n",
      "+ random flip\n",
      "+ to torch tensor of range [0, 1]\n",
      "+ normalization (mean=[0.48145466, 0.4578275, 0.40821073], std=[0.26862954, 0.26130258, 0.27577711])\n",
      "Building transform_test\n",
      "+ resize the smaller edge to 224\n",
      "+ 224x224 center crop\n",
      "+ to torch tensor of range [0, 1]\n",
      "+ normalization (mean=[0.48145466, 0.4578275, 0.40821073], std=[0.26862954, 0.26130258, 0.27577711])\n",
      "---------  -------\n",
      "Dataset    Replica\n",
      "# classes  48\n",
      "# train_x  178\n",
      "# val      106\n",
      "# test     83\n",
      "---------  -------\n",
      "Loading CLIP (backbone: ViT-B/16)\n",
      "Building custom CLIP\n",
      "whole prompts\n",
      "['a photo of a basket.', 'a photo of a bed.', 'a photo of a bench.', 'a photo of a bin.', 'a photo of a blanket.', 'a photo of a blinds.', 'a photo of a book.', 'a photo of a bottle.', 'a photo of a box.', 'a photo of a bowl.', 'a photo of a camera.', 'a photo of a cabinet.', 'a photo of a candle.', 'a photo of a chair.', 'a photo of a clock.', 'a photo of a cloth.', 'a photo of a comforter.', 'a photo of a cushion.', 'a photo of a desk.', 'a photo of a desk-organizer.', 'a photo of a door.', 'a photo of a indoor-plant.', 'a photo of a lamp.', 'a photo of a monitor.', 'a photo of a nightstand.', 'a photo of a panel.', 'a photo of a picture.', 'a photo of a pillar.', 'a photo of a pillow.', 'a photo of a pipe.', 'a photo of a plant-stand.', 'a photo of a plate.', 'a photo of a pot.', 'a photo of a sculpture.', 'a photo of a shelf.', 'a photo of a sofa.', 'a photo of a stool.', 'a photo of a switch.', 'a photo of a table.', 'a photo of a tablet.', 'a photo of a tissue-paper.', 'a photo of a tv-screen.', 'a photo of a tv-stand.', 'a photo of a vase.', 'a photo of a vent.', 'a photo of a wall-plug.', 'a photo of a window.', 'a photo of a rug.']\n",
      "Turning off gradients in both the image and the text encoder\n",
      "Parameters to be updated: {'prompt_learner.compound_prompts_text.2', 'prompt_learner.compound_prompts_text.9', 'prompt_learner.compound_prompts_text.3', 'prompt_learner.compound_prompts_text.0', 'prompt_learner.compound_prompts_text.1', 'prompt_learner.compound_prompts_text.8', 'prompt_learner.compound_prompts_text.4', 'prompt_learner.compound_prompts_text.10', 'prompt_learner.compound_prompts_text.7', 'prompt_learner.compound_prompts_text.6', 'prompt_learner.ctx', 'prompt_learner.compound_prompts_text.5'}\n",
      "Loading evaluator: Classification\n",
      "No checkpoint found, train from scratch\n",
      "Initialize tensorboard (log_dir=output/replica/MaPLePromptScene/vit_b16_c2_ep200_batch4_ctx4_depth12_cross_datasets_-1shots/seed1/tensorboard)\n",
      "epoch [1/200] batch [20/44] time 0.040 (0.080) data 0.000 (0.010) loss 4.0781 (3.9235) lr 1.0000e-05 eta 0:11:41\n",
      "epoch [1/200] batch [40/44] time 0.040 (0.060) data 0.000 (0.005) loss 3.9336 (3.8225) lr 1.0000e-05 eta 0:08:42\n",
      "Evaluate on the *val* set\n"
     ]
    },
    {
     "name": "stderr",
     "output_type": "stream",
     "text": [
      "\r",
      "  0%|          | 0/2 [00:00<?, ?it/s]\r",
      " 50%|█████     | 1/2 [00:00<00:00,  5.53it/s]\r",
      "100%|██████████| 2/2 [00:00<00:00,  8.20it/s]\n"
     ]
    },
    {
     "name": "stdout",
     "output_type": "stream",
     "text": [
      "=> result\n",
      "* total: 106\n",
      "* correct: 8\n",
      "* accuracy: 7.5%\n",
      "* error: 92.5%\n",
      "* macro_f1: 0.9%\n",
      "Checkpoint saved to output/replica/MaPLePromptScene/vit_b16_c2_ep200_batch4_ctx4_depth12_cross_datasets_-1shots/seed1/MultiModalPromptSceneLearner/model-best.pth.tar\n",
      "epoch [2/200] batch [20/44] time 0.034 (0.048) data 0.000 (0.009) loss 2.8711 (3.7450) lr 3.5000e-03 eta 0:06:59\n",
      "epoch [2/200] batch [40/44] time 0.036 (0.041) data 0.000 (0.005) loss 3.7480 (3.7629) lr 3.5000e-03 eta 0:05:59\n",
      "Evaluate on the *val* set\n"
     ]
    },
    {
     "name": "stderr",
     "output_type": "stream",
     "text": [
      "\r",
      "  0%|          | 0/2 [00:00<?, ?it/s]\r",
      " 50%|█████     | 1/2 [00:00<00:00,  5.47it/s]\r",
      "100%|██████████| 2/2 [00:00<00:00,  8.17it/s]\n"
     ]
    },
    {
     "name": "stdout",
     "output_type": "stream",
     "text": [
      "=> result\n",
      "* total: 106\n",
      "* correct: 11\n",
      "* accuracy: 10.4%\n",
      "* error: 89.6%\n",
      "* macro_f1: 1.2%\n",
      "Checkpoint saved to output/replica/MaPLePromptScene/vit_b16_c2_ep200_batch4_ctx4_depth12_cross_datasets_-1shots/seed1/MultiModalPromptSceneLearner/model-best.pth.tar\n",
      "epoch [3/200] batch [20/44] time 0.041 (0.049) data 0.000 (0.009) loss 3.6094 (3.4484) lr 3.4998e-03 eta 0:07:06\n",
      "epoch [3/200] batch [40/44] time 0.032 (0.044) data 0.000 (0.005) loss 3.4453 (3.4687) lr 3.4998e-03 eta 0:06:21\n",
      "Evaluate on the *val* set\n"
     ]
    },
    {
     "name": "stderr",
     "output_type": "stream",
     "text": [
      "\r",
      "  0%|          | 0/2 [00:00<?, ?it/s]\r",
      " 50%|█████     | 1/2 [00:00<00:00,  5.51it/s]\r",
      "100%|██████████| 2/2 [00:00<00:00,  8.19it/s]\n"
     ]
    },
    {
     "name": "stdout",
     "output_type": "stream",
     "text": [
      "=> result\n",
      "* total: 106\n",
      "* correct: 8\n",
      "* accuracy: 7.5%\n",
      "* error: 92.5%\n",
      "* macro_f1: 1.7%\n",
      "epoch [4/200] batch [20/44] time 0.042 (0.047) data 0.000 (0.008) loss 3.6660 (3.3729) lr 3.4991e-03 eta 0:06:49\n",
      "epoch [4/200] batch [40/44] time 0.038 (0.043) data 0.000 (0.004) loss 3.9805 (3.4614) lr 3.4991e-03 eta 0:06:12\n",
      "Evaluate on the *val* set\n"
     ]
    },
    {
     "name": "stderr",
     "output_type": "stream",
     "text": [
      "\r",
      "  0%|          | 0/2 [00:00<?, ?it/s]\r",
      " 50%|█████     | 1/2 [00:00<00:00,  5.22it/s]\r",
      "100%|██████████| 2/2 [00:00<00:00,  7.71it/s]\n"
     ]
    },
    {
     "name": "stdout",
     "output_type": "stream",
     "text": [
      "=> result\n",
      "* total: 106\n",
      "* correct: 11\n",
      "* accuracy: 10.4%\n",
      "* error: 89.6%\n",
      "* macro_f1: 1.1%\n",
      "epoch [5/200] batch [20/44] time 0.042 (0.048) data 0.001 (0.008) loss 3.2344 (3.1584) lr 3.4981e-03 eta 0:06:49\n",
      "epoch [5/200] batch [40/44] time 0.040 (0.043) data 0.000 (0.004) loss 2.7852 (3.1708) lr 3.4981e-03 eta 0:06:07\n",
      "Evaluate on the *val* set\n"
     ]
    },
    {
     "name": "stderr",
     "output_type": "stream",
     "text": [
      "\r",
      "  0%|          | 0/2 [00:00<?, ?it/s]\r",
      " 50%|█████     | 1/2 [00:00<00:00,  5.12it/s]\r",
      "100%|██████████| 2/2 [00:00<00:00,  7.83it/s]\n"
     ]
    },
    {
     "name": "stdout",
     "output_type": "stream",
     "text": [
      "=> result\n",
      "* total: 106\n",
      "* correct: 8\n",
      "* accuracy: 7.5%\n",
      "* error: 92.5%\n",
      "* macro_f1: 3.0%\n",
      "epoch [6/200] batch [20/44] time 0.040 (0.049) data 0.000 (0.009) loss 3.7578 (3.4738) lr 3.4965e-03 eta 0:06:57\n",
      "epoch [6/200] batch [40/44] time 0.040 (0.044) data 0.000 (0.004) loss 2.8848 (3.2833) lr 3.4965e-03 eta 0:06:14\n",
      "Evaluate on the *val* set\n"
     ]
    },
    {
     "name": "stderr",
     "output_type": "stream",
     "text": [
      "\r",
      "  0%|          | 0/2 [00:00<?, ?it/s]\r",
      " 50%|█████     | 1/2 [00:00<00:00,  5.53it/s]\r",
      "100%|██████████| 2/2 [00:00<00:00,  8.02it/s]\n"
     ]
    },
    {
     "name": "stdout",
     "output_type": "stream",
     "text": [
      "=> result\n",
      "* total: 106\n",
      "* correct: 28\n",
      "* accuracy: 26.4%\n",
      "* error: 73.6%\n",
      "* macro_f1: 5.8%\n",
      "Checkpoint saved to output/replica/MaPLePromptScene/vit_b16_c2_ep200_batch4_ctx4_depth12_cross_datasets_-1shots/seed1/MultiModalPromptSceneLearner/model-best.pth.tar\n",
      "epoch [7/200] batch [20/44] time 0.039 (0.049) data 0.000 (0.010) loss 3.8594 (3.1346) lr 3.4946e-03 eta 0:06:55\n",
      "epoch [7/200] batch [40/44] time 0.037 (0.044) data 0.000 (0.005) loss 2.9688 (3.1394) lr 3.4946e-03 eta 0:06:13\n",
      "Evaluate on the *val* set\n"
     ]
    },
    {
     "name": "stderr",
     "output_type": "stream",
     "text": [
      "\r",
      "  0%|          | 0/2 [00:00<?, ?it/s]\r",
      " 50%|█████     | 1/2 [00:00<00:00,  5.54it/s]\r",
      "100%|██████████| 2/2 [00:00<00:00,  7.95it/s]\n"
     ]
    },
    {
     "name": "stdout",
     "output_type": "stream",
     "text": [
      "=> result\n",
      "* total: 106\n",
      "* correct: 8\n",
      "* accuracy: 7.5%\n",
      "* error: 92.5%\n",
      "* macro_f1: 1.2%\n",
      "epoch [8/200] batch [20/44] time 0.041 (0.050) data 0.000 (0.009) loss 3.7129 (3.4208) lr 3.4922e-03 eta 0:07:05\n",
      "epoch [8/200] batch [40/44] time 0.040 (0.045) data 0.000 (0.005) loss 3.3398 (3.1677) lr 3.4922e-03 eta 0:06:21\n",
      "Evaluate on the *val* set\n"
     ]
    },
    {
     "name": "stderr",
     "output_type": "stream",
     "text": [
      "\r",
      "  0%|          | 0/2 [00:00<?, ?it/s]\r",
      " 50%|█████     | 1/2 [00:00<00:00,  5.55it/s]\r",
      "100%|██████████| 2/2 [00:00<00:00,  8.20it/s]\n"
     ]
    },
    {
     "name": "stdout",
     "output_type": "stream",
     "text": [
      "=> result\n",
      "* total: 106\n",
      "* correct: 21\n",
      "* accuracy: 19.8%\n",
      "* error: 80.2%\n",
      "* macro_f1: 3.6%\n",
      "epoch [9/200] batch [20/44] time 0.041 (0.051) data 0.000 (0.010) loss 2.7207 (2.7300) lr 3.4894e-03 eta 0:07:12\n",
      "epoch [9/200] batch [40/44] time 0.040 (0.045) data 0.000 (0.005) loss 2.8223 (2.9570) lr 3.4894e-03 eta 0:06:19\n",
      "Evaluate on the *val* set\n"
     ]
    },
    {
     "name": "stderr",
     "output_type": "stream",
     "text": [
      "\r",
      "  0%|          | 0/2 [00:00<?, ?it/s]\r",
      " 50%|█████     | 1/2 [00:00<00:00,  5.23it/s]\r",
      "100%|██████████| 2/2 [00:00<00:00,  7.67it/s]\n"
     ]
    },
    {
     "name": "stdout",
     "output_type": "stream",
     "text": [
      "=> result\n",
      "* total: 106\n",
      "* correct: 29\n",
      "* accuracy: 27.4%\n",
      "* error: 72.6%\n",
      "* macro_f1: 7.4%\n",
      "Checkpoint saved to output/replica/MaPLePromptScene/vit_b16_c2_ep200_batch4_ctx4_depth12_cross_datasets_-1shots/seed1/MultiModalPromptSceneLearner/model-best.pth.tar\n",
      "epoch [10/200] batch [20/44] time 0.036 (0.048) data 0.000 (0.009) loss 2.7480 (2.9904) lr 3.4862e-03 eta 0:06:44\n",
      "epoch [10/200] batch [40/44] time 0.040 (0.044) data 0.000 (0.005) loss 3.8750 (2.9229) lr 3.4862e-03 eta 0:06:04\n",
      "Evaluate on the *val* set\n"
     ]
    },
    {
     "name": "stderr",
     "output_type": "stream",
     "text": [
      "\r",
      "  0%|          | 0/2 [00:00<?, ?it/s]\r",
      " 50%|█████     | 1/2 [00:00<00:00,  5.64it/s]\r",
      "100%|██████████| 2/2 [00:00<00:00,  8.32it/s]\n"
     ]
    },
    {
     "name": "stdout",
     "output_type": "stream",
     "text": [
      "=> result\n",
      "* total: 106\n",
      "* correct: 23\n",
      "* accuracy: 21.7%\n",
      "* error: 78.3%\n",
      "* macro_f1: 4.3%\n",
      "epoch [11/200] batch [20/44] time 0.039 (0.049) data 0.000 (0.008) loss 4.1055 (2.6803) lr 3.4825e-03 eta 0:06:46\n",
      "epoch [11/200] batch [40/44] time 0.040 (0.044) data 0.000 (0.004) loss 3.6328 (2.8314) lr 3.4825e-03 eta 0:06:09\n",
      "Evaluate on the *val* set\n"
     ]
    },
    {
     "name": "stderr",
     "output_type": "stream",
     "text": [
      "\r",
      "  0%|          | 0/2 [00:00<?, ?it/s]\r",
      " 50%|█████     | 1/2 [00:00<00:00,  5.33it/s]\r",
      "100%|██████████| 2/2 [00:00<00:00,  8.11it/s]\n"
     ]
    },
    {
     "name": "stdout",
     "output_type": "stream",
     "text": [
      "=> result\n",
      "* total: 106\n",
      "* correct: 28\n",
      "* accuracy: 26.4%\n",
      "* error: 73.6%\n",
      "* macro_f1: 7.3%\n",
      "epoch [12/200] batch [20/44] time 0.039 (0.049) data 0.000 (0.009) loss 3.3809 (2.7324) lr 3.4785e-03 eta 0:06:45\n",
      "epoch [12/200] batch [40/44] time 0.040 (0.044) data 0.000 (0.005) loss 3.0195 (2.6600) lr 3.4785e-03 eta 0:06:06\n",
      "Evaluate on the *val* set\n"
     ]
    },
    {
     "name": "stderr",
     "output_type": "stream",
     "text": [
      "\r",
      "  0%|          | 0/2 [00:00<?, ?it/s]\r",
      " 50%|█████     | 1/2 [00:00<00:00,  5.19it/s]\r",
      "100%|██████████| 2/2 [00:00<00:00,  7.72it/s]\n"
     ]
    },
    {
     "name": "stdout",
     "output_type": "stream",
     "text": [
      "=> result\n",
      "* total: 106\n",
      "* correct: 29\n",
      "* accuracy: 27.4%\n",
      "* error: 72.6%\n",
      "* macro_f1: 5.7%\n",
      "epoch [13/200] batch [20/44] time 0.041 (0.046) data 0.000 (0.008) loss 3.6289 (2.5010) lr 3.4739e-03 eta 0:06:23\n",
      "epoch [13/200] batch [40/44] time 0.040 (0.043) data 0.000 (0.004) loss 1.8828 (2.5979) lr 3.4739e-03 eta 0:05:55\n",
      "Evaluate on the *val* set\n"
     ]
    },
    {
     "name": "stderr",
     "output_type": "stream",
     "text": [
      "\r",
      "  0%|          | 0/2 [00:00<?, ?it/s]\r",
      " 50%|█████     | 1/2 [00:00<00:00,  5.75it/s]\r",
      "100%|██████████| 2/2 [00:00<00:00,  8.11it/s]\n"
     ]
    },
    {
     "name": "stdout",
     "output_type": "stream",
     "text": [
      "=> result\n",
      "* total: 106\n",
      "* correct: 12\n",
      "* accuracy: 11.3%\n",
      "* error: 88.7%\n",
      "* macro_f1: 3.5%\n",
      "epoch [14/200] batch [20/44] time 0.043 (0.049) data 0.000 (0.008) loss 3.8340 (3.0254) lr 3.4690e-03 eta 0:06:38\n",
      "epoch [14/200] batch [40/44] time 0.040 (0.044) data 0.000 (0.004) loss 3.6699 (2.8971) lr 3.4690e-03 eta 0:06:04\n",
      "Evaluate on the *val* set\n"
     ]
    },
    {
     "name": "stderr",
     "output_type": "stream",
     "text": [
      "\r",
      "  0%|          | 0/2 [00:00<?, ?it/s]\r",
      " 50%|█████     | 1/2 [00:00<00:00,  5.48it/s]\r",
      "100%|██████████| 2/2 [00:00<00:00,  8.23it/s]\n"
     ]
    },
    {
     "name": "stdout",
     "output_type": "stream",
     "text": [
      "=> result\n",
      "* total: 106\n",
      "* correct: 32\n",
      "* accuracy: 30.2%\n",
      "* error: 69.8%\n",
      "* macro_f1: 6.8%\n",
      "Checkpoint saved to output/replica/MaPLePromptScene/vit_b16_c2_ep200_batch4_ctx4_depth12_cross_datasets_-1shots/seed1/MultiModalPromptSceneLearner/model-best.pth.tar\n",
      "epoch [15/200] batch [20/44] time 0.040 (0.051) data 0.000 (0.010) loss 3.3789 (2.6190) lr 3.4636e-03 eta 0:06:55\n",
      "epoch [15/200] batch [40/44] time 0.039 (0.045) data 0.000 (0.005) loss 2.6406 (2.6288) lr 3.4636e-03 eta 0:06:04\n",
      "Evaluate on the *val* set\n"
     ]
    },
    {
     "name": "stderr",
     "output_type": "stream",
     "text": [
      "\r",
      "  0%|          | 0/2 [00:00<?, ?it/s]\r",
      " 50%|█████     | 1/2 [00:00<00:00,  5.48it/s]\r",
      "100%|██████████| 2/2 [00:00<00:00,  8.19it/s]\n"
     ]
    },
    {
     "name": "stdout",
     "output_type": "stream",
     "text": [
      "=> result\n",
      "* total: 106\n",
      "* correct: 31\n",
      "* accuracy: 29.2%\n",
      "* error: 70.8%\n",
      "* macro_f1: 7.9%\n",
      "epoch [16/200] batch [20/44] time 0.045 (0.050) data 0.000 (0.010) loss 1.9473 (2.6930) lr 3.4579e-03 eta 0:06:47\n",
      "epoch [16/200] batch [40/44] time 0.040 (0.045) data 0.000 (0.005) loss 2.6035 (2.7349) lr 3.4579e-03 eta 0:06:01\n",
      "Evaluate on the *val* set\n"
     ]
    },
    {
     "name": "stderr",
     "output_type": "stream",
     "text": [
      "\r",
      "  0%|          | 0/2 [00:00<?, ?it/s]\r",
      " 50%|█████     | 1/2 [00:00<00:00,  5.70it/s]\r",
      "100%|██████████| 2/2 [00:00<00:00,  8.27it/s]\n"
     ]
    },
    {
     "name": "stdout",
     "output_type": "stream",
     "text": [
      "=> result\n",
      "* total: 106\n",
      "* correct: 31\n",
      "* accuracy: 29.2%\n",
      "* error: 70.8%\n",
      "* macro_f1: 6.7%\n",
      "epoch [17/200] batch [20/44] time 0.039 (0.049) data 0.000 (0.009) loss 3.6211 (2.5047) lr 3.4516e-03 eta 0:06:32\n",
      "epoch [17/200] batch [40/44] time 0.040 (0.044) data 0.000 (0.004) loss 2.7637 (2.5758) lr 3.4516e-03 eta 0:05:56\n",
      "Evaluate on the *val* set\n"
     ]
    },
    {
     "name": "stderr",
     "output_type": "stream",
     "text": [
      "\r",
      "  0%|          | 0/2 [00:00<?, ?it/s]\r",
      " 50%|█████     | 1/2 [00:00<00:00,  5.24it/s]\r",
      "100%|██████████| 2/2 [00:00<00:00,  7.96it/s]\n"
     ]
    },
    {
     "name": "stdout",
     "output_type": "stream",
     "text": [
      "=> result\n",
      "* total: 106\n",
      "* correct: 31\n",
      "* accuracy: 29.2%\n",
      "* error: 70.8%\n",
      "* macro_f1: 6.4%\n",
      "epoch [18/200] batch [20/44] time 0.040 (0.048) data 0.000 (0.008) loss 3.2637 (2.5616) lr 3.4450e-03 eta 0:06:24\n",
      "epoch [18/200] batch [40/44] time 0.040 (0.044) data 0.000 (0.004) loss 1.9980 (2.5115) lr 3.4450e-03 eta 0:05:52\n",
      "Evaluate on the *val* set\n"
     ]
    },
    {
     "name": "stderr",
     "output_type": "stream",
     "text": [
      "\r",
      "  0%|          | 0/2 [00:00<?, ?it/s]\r",
      " 50%|█████     | 1/2 [00:00<00:00,  5.32it/s]\r",
      "100%|██████████| 2/2 [00:00<00:00,  7.71it/s]\n"
     ]
    },
    {
     "name": "stdout",
     "output_type": "stream",
     "text": [
      "=> result\n",
      "* total: 106\n",
      "* correct: 32\n",
      "* accuracy: 30.2%\n",
      "* error: 69.8%\n",
      "* macro_f1: 6.4%\n",
      "epoch [19/200] batch [20/44] time 0.040 (0.047) data 0.000 (0.008) loss 2.8145 (2.6452) lr 3.4380e-03 eta 0:06:14\n",
      "epoch [19/200] batch [40/44] time 0.040 (0.043) data 0.000 (0.004) loss 3.0527 (2.5188) lr 3.4380e-03 eta 0:05:42\n",
      "Evaluate on the *val* set\n"
     ]
    },
    {
     "name": "stderr",
     "output_type": "stream",
     "text": [
      "\r",
      "  0%|          | 0/2 [00:00<?, ?it/s]\r",
      " 50%|█████     | 1/2 [00:00<00:00,  5.34it/s]\r",
      "100%|██████████| 2/2 [00:00<00:00,  8.02it/s]\n"
     ]
    },
    {
     "name": "stdout",
     "output_type": "stream",
     "text": [
      "=> result\n",
      "* total: 106\n",
      "* correct: 26\n",
      "* accuracy: 24.5%\n",
      "* error: 75.5%\n",
      "* macro_f1: 5.2%\n",
      "epoch [20/200] batch [20/44] time 0.039 (0.048) data 0.000 (0.008) loss 2.4414 (2.6363) lr 3.4305e-03 eta 0:06:24\n",
      "epoch [20/200] batch [40/44] time 0.040 (0.044) data 0.000 (0.004) loss 2.9590 (2.4511) lr 3.4305e-03 eta 0:05:50\n",
      "Evaluate on the *val* set\n"
     ]
    },
    {
     "name": "stderr",
     "output_type": "stream",
     "text": [
      "\r",
      "  0%|          | 0/2 [00:00<?, ?it/s]\r",
      " 50%|█████     | 1/2 [00:00<00:00,  5.42it/s]\r",
      "100%|██████████| 2/2 [00:00<00:00,  8.03it/s]\n"
     ]
    },
    {
     "name": "stdout",
     "output_type": "stream",
     "text": [
      "=> result\n",
      "* total: 106\n",
      "* correct: 25\n",
      "* accuracy: 23.6%\n",
      "* error: 76.4%\n",
      "* macro_f1: 4.7%\n",
      "epoch [21/200] batch [20/44] time 0.035 (0.043) data 0.000 (0.008) loss 2.2676 (2.4590) lr 3.4226e-03 eta 0:05:40\n",
      "epoch [21/200] batch [40/44] time 0.036 (0.039) data 0.000 (0.004) loss 1.8779 (2.3566) lr 3.4226e-03 eta 0:05:04\n",
      "Evaluate on the *val* set\n"
     ]
    },
    {
     "name": "stderr",
     "output_type": "stream",
     "text": [
      "\r",
      "  0%|          | 0/2 [00:00<?, ?it/s]\r",
      " 50%|█████     | 1/2 [00:00<00:00,  5.38it/s]\r",
      "100%|██████████| 2/2 [00:00<00:00,  7.83it/s]\n"
     ]
    },
    {
     "name": "stdout",
     "output_type": "stream",
     "text": [
      "=> result\n",
      "* total: 106\n",
      "* correct: 31\n",
      "* accuracy: 29.2%\n",
      "* error: 70.8%\n",
      "* macro_f1: 6.3%\n",
      "epoch [22/200] batch [20/44] time 0.039 (0.048) data 0.000 (0.008) loss 3.3828 (2.2228) lr 3.4143e-03 eta 0:06:20\n",
      "epoch [22/200] batch [40/44] time 0.040 (0.044) data 0.000 (0.004) loss 2.0039 (2.2314) lr 3.4143e-03 eta 0:05:45\n",
      "Evaluate on the *val* set\n"
     ]
    },
    {
     "name": "stderr",
     "output_type": "stream",
     "text": [
      "\r",
      "  0%|          | 0/2 [00:00<?, ?it/s]\r",
      " 50%|█████     | 1/2 [00:00<00:00,  5.74it/s]\r",
      "100%|██████████| 2/2 [00:00<00:00,  8.36it/s]\n"
     ]
    },
    {
     "name": "stdout",
     "output_type": "stream",
     "text": [
      "=> result\n",
      "* total: 106\n",
      "* correct: 34\n",
      "* accuracy: 32.1%\n",
      "* error: 67.9%\n",
      "* macro_f1: 9.3%\n",
      "Checkpoint saved to output/replica/MaPLePromptScene/vit_b16_c2_ep200_batch4_ctx4_depth12_cross_datasets_-1shots/seed1/MultiModalPromptSceneLearner/model-best.pth.tar\n",
      "epoch [23/200] batch [20/44] time 0.040 (0.051) data 0.000 (0.009) loss 0.9570 (2.1140) lr 3.4056e-03 eta 0:06:41\n",
      "epoch [23/200] batch [40/44] time 0.040 (0.046) data 0.000 (0.005) loss 2.0859 (2.2268) lr 3.4056e-03 eta 0:05:55\n",
      "Evaluate on the *val* set\n"
     ]
    },
    {
     "name": "stderr",
     "output_type": "stream",
     "text": [
      "\r",
      "  0%|          | 0/2 [00:00<?, ?it/s]\r",
      " 50%|█████     | 1/2 [00:00<00:00,  5.52it/s]\r",
      "100%|██████████| 2/2 [00:00<00:00,  8.01it/s]\n"
     ]
    },
    {
     "name": "stdout",
     "output_type": "stream",
     "text": [
      "=> result\n",
      "* total: 106\n",
      "* correct: 37\n",
      "* accuracy: 34.9%\n",
      "* error: 65.1%\n",
      "* macro_f1: 10.5%\n",
      "Checkpoint saved to output/replica/MaPLePromptScene/vit_b16_c2_ep200_batch4_ctx4_depth12_cross_datasets_-1shots/seed1/MultiModalPromptSceneLearner/model-best.pth.tar\n",
      "epoch [24/200] batch [20/44] time 0.038 (0.050) data 0.000 (0.009) loss 3.4336 (2.1659) lr 3.3965e-03 eta 0:06:24\n",
      "epoch [24/200] batch [40/44] time 0.040 (0.043) data 0.000 (0.005) loss 1.5898 (2.1888) lr 3.3965e-03 eta 0:05:31\n",
      "Evaluate on the *val* set\n"
     ]
    },
    {
     "name": "stderr",
     "output_type": "stream",
     "text": [
      "\r",
      "  0%|          | 0/2 [00:00<?, ?it/s]\r",
      " 50%|█████     | 1/2 [00:00<00:00,  5.66it/s]\r",
      "100%|██████████| 2/2 [00:00<00:00,  8.16it/s]\n"
     ]
    },
    {
     "name": "stdout",
     "output_type": "stream",
     "text": [
      "=> result\n",
      "* total: 106\n",
      "* correct: 23\n",
      "* accuracy: 21.7%\n",
      "* error: 78.3%\n",
      "* macro_f1: 6.0%\n",
      "epoch [25/200] batch [20/44] time 0.040 (0.052) data 0.000 (0.011) loss 2.3535 (2.1436) lr 3.3870e-03 eta 0:06:45\n",
      "epoch [25/200] batch [40/44] time 0.040 (0.046) data 0.000 (0.006) loss 3.1094 (2.2365) lr 3.3870e-03 eta 0:05:54\n",
      "Evaluate on the *val* set\n"
     ]
    },
    {
     "name": "stderr",
     "output_type": "stream",
     "text": [
      "\r",
      "  0%|          | 0/2 [00:00<?, ?it/s]\r",
      " 50%|█████     | 1/2 [00:00<00:00,  5.75it/s]\r",
      "100%|██████████| 2/2 [00:00<00:00,  8.27it/s]\n"
     ]
    },
    {
     "name": "stdout",
     "output_type": "stream",
     "text": [
      "=> result\n",
      "* total: 106\n",
      "* correct: 37\n",
      "* accuracy: 34.9%\n",
      "* error: 65.1%\n",
      "* macro_f1: 9.1%\n",
      "epoch [26/200] batch [20/44] time 0.038 (0.049) data 0.000 (0.009) loss 1.1982 (2.2055) lr 3.3771e-03 eta 0:06:17\n",
      "epoch [26/200] batch [40/44] time 0.040 (0.044) data 0.000 (0.005) loss 1.9307 (2.2581) lr 3.3771e-03 eta 0:05:36\n",
      "Evaluate on the *val* set\n"
     ]
    },
    {
     "name": "stderr",
     "output_type": "stream",
     "text": [
      "\r",
      "  0%|          | 0/2 [00:00<?, ?it/s]\r",
      " 50%|█████     | 1/2 [00:00<00:00,  5.68it/s]\r",
      "100%|██████████| 2/2 [00:00<00:00,  8.33it/s]\n"
     ]
    },
    {
     "name": "stdout",
     "output_type": "stream",
     "text": [
      "=> result\n",
      "* total: 106\n",
      "* correct: 34\n",
      "* accuracy: 32.1%\n",
      "* error: 67.9%\n",
      "* macro_f1: 8.4%\n",
      "epoch [27/200] batch [20/44] time 0.035 (0.047) data 0.000 (0.008) loss 1.2305 (1.9419) lr 3.3668e-03 eta 0:05:58\n",
      "epoch [27/200] batch [40/44] time 0.040 (0.043) data 0.000 (0.004) loss 3.0762 (2.1559) lr 3.3668e-03 eta 0:05:28\n",
      "Evaluate on the *val* set\n"
     ]
    },
    {
     "name": "stderr",
     "output_type": "stream",
     "text": [
      "\r",
      "  0%|          | 0/2 [00:00<?, ?it/s]\r",
      " 50%|█████     | 1/2 [00:00<00:00,  5.73it/s]\r",
      "100%|██████████| 2/2 [00:00<00:00,  8.62it/s]\n"
     ]
    },
    {
     "name": "stdout",
     "output_type": "stream",
     "text": [
      "=> result\n",
      "* total: 106\n",
      "* correct: 31\n",
      "* accuracy: 29.2%\n",
      "* error: 70.8%\n",
      "* macro_f1: 7.0%\n",
      "epoch [28/200] batch [20/44] time 0.040 (0.048) data 0.000 (0.008) loss 1.3467 (2.3266) lr 3.3561e-03 eta 0:06:05\n",
      "epoch [28/200] batch [40/44] time 0.040 (0.044) data 0.000 (0.004) loss 1.5596 (2.1692) lr 3.3561e-03 eta 0:05:34\n",
      "Evaluate on the *val* set\n"
     ]
    },
    {
     "name": "stderr",
     "output_type": "stream",
     "text": [
      "\r",
      "  0%|          | 0/2 [00:00<?, ?it/s]\r",
      " 50%|█████     | 1/2 [00:00<00:00,  5.57it/s]\r",
      "100%|██████████| 2/2 [00:00<00:00,  8.36it/s]\n"
     ]
    },
    {
     "name": "stdout",
     "output_type": "stream",
     "text": [
      "=> result\n",
      "* total: 106\n",
      "* correct: 34\n",
      "* accuracy: 32.1%\n",
      "* error: 67.9%\n",
      "* macro_f1: 9.0%\n",
      "epoch [29/200] batch [20/44] time 0.041 (0.050) data 0.000 (0.009) loss 0.9292 (2.1853) lr 3.3450e-03 eta 0:06:16\n",
      "epoch [29/200] batch [40/44] time 0.040 (0.045) data 0.000 (0.004) loss 1.7227 (2.1691) lr 3.3450e-03 eta 0:05:38\n",
      "Evaluate on the *val* set\n"
     ]
    },
    {
     "name": "stderr",
     "output_type": "stream",
     "text": [
      "\r",
      "  0%|          | 0/2 [00:00<?, ?it/s]\r",
      " 50%|█████     | 1/2 [00:00<00:00,  5.12it/s]\r",
      "100%|██████████| 2/2 [00:00<00:00,  7.85it/s]\n"
     ]
    },
    {
     "name": "stdout",
     "output_type": "stream",
     "text": [
      "=> result\n",
      "* total: 106\n",
      "* correct: 36\n",
      "* accuracy: 34.0%\n",
      "* error: 66.0%\n",
      "* macro_f1: 9.7%\n",
      "epoch [30/200] batch [20/44] time 0.041 (0.048) data 0.000 (0.008) loss 2.0293 (1.9402) lr 3.3334e-03 eta 0:05:58\n",
      "epoch [30/200] batch [40/44] time 0.037 (0.043) data 0.000 (0.004) loss 0.9570 (2.0554) lr 3.3334e-03 eta 0:05:24\n",
      "Evaluate on the *val* set\n"
     ]
    },
    {
     "name": "stderr",
     "output_type": "stream",
     "text": [
      "\r",
      "  0%|          | 0/2 [00:00<?, ?it/s]\r",
      " 50%|█████     | 1/2 [00:00<00:00,  5.50it/s]\r",
      "100%|██████████| 2/2 [00:00<00:00,  8.23it/s]\n"
     ]
    },
    {
     "name": "stdout",
     "output_type": "stream",
     "text": [
      "=> result\n",
      "* total: 106\n",
      "* correct: 29\n",
      "* accuracy: 27.4%\n",
      "* error: 72.6%\n",
      "* macro_f1: 8.4%\n",
      "epoch [31/200] batch [20/44] time 0.040 (0.051) data 0.000 (0.010) loss 1.6084 (2.1316) lr 3.3215e-03 eta 0:06:18\n",
      "epoch [31/200] batch [40/44] time 0.040 (0.045) data 0.000 (0.005) loss 2.3516 (2.1025) lr 3.3215e-03 eta 0:05:32\n",
      "Evaluate on the *val* set\n"
     ]
    },
    {
     "name": "stderr",
     "output_type": "stream",
     "text": [
      "\r",
      "  0%|          | 0/2 [00:00<?, ?it/s]\r",
      " 50%|█████     | 1/2 [00:00<00:00,  5.55it/s]\r",
      "100%|██████████| 2/2 [00:00<00:00,  8.13it/s]\n"
     ]
    },
    {
     "name": "stdout",
     "output_type": "stream",
     "text": [
      "=> result\n",
      "* total: 106\n",
      "* correct: 31\n",
      "* accuracy: 29.2%\n",
      "* error: 70.8%\n",
      "* macro_f1: 8.2%\n",
      "epoch [32/200] batch [20/44] time 0.031 (0.050) data 0.000 (0.010) loss 3.1348 (2.1758) lr 3.3093e-03 eta 0:06:07\n",
      "epoch [32/200] batch [40/44] time 0.040 (0.044) data 0.000 (0.005) loss 2.8770 (2.1611) lr 3.3093e-03 eta 0:05:23\n",
      "Evaluate on the *val* set\n"
     ]
    },
    {
     "name": "stderr",
     "output_type": "stream",
     "text": [
      "\r",
      "  0%|          | 0/2 [00:00<?, ?it/s]\r",
      " 50%|█████     | 1/2 [00:00<00:00,  5.53it/s]\r",
      "100%|██████████| 2/2 [00:00<00:00,  8.11it/s]\n"
     ]
    },
    {
     "name": "stdout",
     "output_type": "stream",
     "text": [
      "=> result\n",
      "* total: 106\n",
      "* correct: 39\n",
      "* accuracy: 36.8%\n",
      "* error: 63.2%\n",
      "* macro_f1: 10.0%\n",
      "Checkpoint saved to output/replica/MaPLePromptScene/vit_b16_c2_ep200_batch4_ctx4_depth12_cross_datasets_-1shots/seed1/MultiModalPromptSceneLearner/model-best.pth.tar\n",
      "epoch [33/200] batch [20/44] time 0.041 (0.051) data 0.000 (0.010) loss 2.0449 (2.0662) lr 3.2966e-03 eta 0:06:12\n",
      "epoch [33/200] batch [40/44] time 0.035 (0.045) data 0.000 (0.005) loss 2.2090 (1.9933) lr 3.2966e-03 eta 0:05:30\n",
      "Evaluate on the *val* set\n"
     ]
    },
    {
     "name": "stderr",
     "output_type": "stream",
     "text": [
      "\r",
      "  0%|          | 0/2 [00:00<?, ?it/s]\r",
      " 50%|█████     | 1/2 [00:00<00:00,  5.43it/s]\r",
      "100%|██████████| 2/2 [00:00<00:00,  7.92it/s]\n"
     ]
    },
    {
     "name": "stdout",
     "output_type": "stream",
     "text": [
      "=> result\n",
      "* total: 106\n",
      "* correct: 36\n",
      "* accuracy: 34.0%\n",
      "* error: 66.0%\n",
      "* macro_f1: 9.3%\n",
      "epoch [34/200] batch [20/44] time 0.038 (0.050) data 0.000 (0.009) loss 1.0840 (2.0702) lr 3.2835e-03 eta 0:06:02\n",
      "epoch [34/200] batch [40/44] time 0.040 (0.044) data 0.000 (0.005) loss 2.2402 (2.0743) lr 3.2835e-03 eta 0:05:23\n",
      "Evaluate on the *val* set\n"
     ]
    },
    {
     "name": "stderr",
     "output_type": "stream",
     "text": [
      "\r",
      "  0%|          | 0/2 [00:00<?, ?it/s]\r",
      " 50%|█████     | 1/2 [00:00<00:00,  5.37it/s]\r",
      "100%|██████████| 2/2 [00:00<00:00,  7.89it/s]\n"
     ]
    },
    {
     "name": "stdout",
     "output_type": "stream",
     "text": [
      "=> result\n",
      "* total: 106\n",
      "* correct: 34\n",
      "* accuracy: 32.1%\n",
      "* error: 67.9%\n",
      "* macro_f1: 9.5%\n",
      "epoch [35/200] batch [20/44] time 0.038 (0.047) data 0.000 (0.008) loss 3.0176 (2.0029) lr 3.2701e-03 eta 0:05:43\n",
      "epoch [35/200] batch [40/44] time 0.039 (0.043) data 0.000 (0.004) loss 1.9277 (1.9082) lr 3.2701e-03 eta 0:05:11\n",
      "Evaluate on the *val* set\n"
     ]
    },
    {
     "name": "stderr",
     "output_type": "stream",
     "text": [
      "\r",
      "  0%|          | 0/2 [00:00<?, ?it/s]\r",
      " 50%|█████     | 1/2 [00:00<00:00,  5.51it/s]\r",
      "100%|██████████| 2/2 [00:00<00:00,  8.27it/s]\n"
     ]
    },
    {
     "name": "stdout",
     "output_type": "stream",
     "text": [
      "=> result\n",
      "* total: 106\n",
      "* correct: 34\n",
      "* accuracy: 32.1%\n",
      "* error: 67.9%\n",
      "* macro_f1: 11.3%\n",
      "epoch [36/200] batch [20/44] time 0.037 (0.049) data 0.000 (0.009) loss 1.1680 (1.8689) lr 3.2563e-03 eta 0:05:51\n",
      "epoch [36/200] batch [40/44] time 0.040 (0.044) data 0.000 (0.005) loss 1.7471 (1.9212) lr 3.2563e-03 eta 0:05:18\n",
      "Evaluate on the *val* set\n"
     ]
    },
    {
     "name": "stderr",
     "output_type": "stream",
     "text": [
      "\r",
      "  0%|          | 0/2 [00:00<?, ?it/s]\r",
      " 50%|█████     | 1/2 [00:00<00:00,  5.68it/s]\r",
      "100%|██████████| 2/2 [00:00<00:00,  8.21it/s]\n"
     ]
    },
    {
     "name": "stdout",
     "output_type": "stream",
     "text": [
      "=> result\n",
      "* total: 106\n",
      "* correct: 39\n",
      "* accuracy: 36.8%\n",
      "* error: 63.2%\n",
      "* macro_f1: 9.9%\n",
      "epoch [37/200] batch [20/44] time 0.040 (0.049) data 0.000 (0.009) loss 2.1934 (1.9109) lr 3.2421e-03 eta 0:05:49\n",
      "epoch [37/200] batch [40/44] time 0.040 (0.044) data 0.000 (0.005) loss 1.4453 (1.9852) lr 3.2421e-03 eta 0:05:17\n",
      "Evaluate on the *val* set\n"
     ]
    },
    {
     "name": "stderr",
     "output_type": "stream",
     "text": [
      "\r",
      "  0%|          | 0/2 [00:00<?, ?it/s]\r",
      " 50%|█████     | 1/2 [00:00<00:00,  5.22it/s]\r",
      "100%|██████████| 2/2 [00:00<00:00,  7.75it/s]\n"
     ]
    },
    {
     "name": "stdout",
     "output_type": "stream",
     "text": [
      "=> result\n",
      "* total: 106\n",
      "* correct: 36\n",
      "* accuracy: 34.0%\n",
      "* error: 66.0%\n",
      "* macro_f1: 9.3%\n",
      "epoch [38/200] batch [20/44] time 0.041 (0.051) data 0.000 (0.011) loss 1.1299 (2.0764) lr 3.2276e-03 eta 0:06:04\n",
      "epoch [38/200] batch [40/44] time 0.040 (0.046) data 0.000 (0.005) loss 1.5879 (1.9869) lr 3.2276e-03 eta 0:05:24\n",
      "Evaluate on the *val* set\n"
     ]
    },
    {
     "name": "stderr",
     "output_type": "stream",
     "text": [
      "\r",
      "  0%|          | 0/2 [00:00<?, ?it/s]\r",
      " 50%|█████     | 1/2 [00:00<00:00,  5.68it/s]\r",
      "100%|██████████| 2/2 [00:00<00:00,  8.23it/s]\n"
     ]
    },
    {
     "name": "stdout",
     "output_type": "stream",
     "text": [
      "=> result\n",
      "* total: 106\n",
      "* correct: 37\n",
      "* accuracy: 34.9%\n",
      "* error: 65.1%\n",
      "* macro_f1: 10.1%\n",
      "epoch [39/200] batch [20/44] time 0.040 (0.047) data 0.000 (0.009) loss 2.4551 (2.1681) lr 3.2127e-03 eta 0:05:35\n",
      "epoch [39/200] batch [40/44] time 0.040 (0.043) data 0.000 (0.005) loss 2.2832 (1.9694) lr 3.2127e-03 eta 0:05:05\n",
      "Evaluate on the *val* set\n"
     ]
    },
    {
     "name": "stderr",
     "output_type": "stream",
     "text": [
      "\r",
      "  0%|          | 0/2 [00:00<?, ?it/s]\r",
      " 50%|█████     | 1/2 [00:00<00:00,  5.64it/s]\r",
      "100%|██████████| 2/2 [00:00<00:00,  8.36it/s]\n"
     ]
    },
    {
     "name": "stdout",
     "output_type": "stream",
     "text": [
      "=> result\n",
      "* total: 106\n",
      "* correct: 41\n",
      "* accuracy: 38.7%\n",
      "* error: 61.3%\n",
      "* macro_f1: 13.6%\n",
      "Checkpoint saved to output/replica/MaPLePromptScene/vit_b16_c2_ep200_batch4_ctx4_depth12_cross_datasets_-1shots/seed1/MultiModalPromptSceneLearner/model-best.pth.tar\n",
      "epoch [40/200] batch [20/44] time 0.034 (0.050) data 0.000 (0.010) loss 1.9209 (1.9402) lr 3.1974e-03 eta 0:05:56\n",
      "epoch [40/200] batch [40/44] time 0.039 (0.045) data 0.000 (0.005) loss 1.1875 (1.9584) lr 3.1974e-03 eta 0:05:16\n",
      "Evaluate on the *val* set\n"
     ]
    },
    {
     "name": "stderr",
     "output_type": "stream",
     "text": [
      "\r",
      "  0%|          | 0/2 [00:00<?, ?it/s]\r",
      " 50%|█████     | 1/2 [00:00<00:00,  5.60it/s]\r",
      "100%|██████████| 2/2 [00:00<00:00,  8.35it/s]\n"
     ]
    },
    {
     "name": "stdout",
     "output_type": "stream",
     "text": [
      "=> result\n",
      "* total: 106\n",
      "* correct: 38\n",
      "* accuracy: 35.8%\n",
      "* error: 64.2%\n",
      "* macro_f1: 12.3%\n",
      "epoch [41/200] batch [20/44] time 0.043 (0.046) data 0.000 (0.009) loss 1.7207 (1.9540) lr 3.1818e-03 eta 0:05:20\n",
      "epoch [41/200] batch [40/44] time 0.039 (0.042) data 0.000 (0.005) loss 1.8438 (1.8741) lr 3.1818e-03 eta 0:04:53\n",
      "Evaluate on the *val* set\n"
     ]
    },
    {
     "name": "stderr",
     "output_type": "stream",
     "text": [
      "\r",
      "  0%|          | 0/2 [00:00<?, ?it/s]\r",
      " 50%|█████     | 1/2 [00:00<00:00,  5.28it/s]\r",
      "100%|██████████| 2/2 [00:00<00:00,  7.96it/s]\n"
     ]
    },
    {
     "name": "stdout",
     "output_type": "stream",
     "text": [
      "=> result\n",
      "* total: 106\n",
      "* correct: 34\n",
      "* accuracy: 32.1%\n",
      "* error: 67.9%\n",
      "* macro_f1: 11.6%\n",
      "epoch [42/200] batch [20/44] time 0.040 (0.049) data 0.000 (0.009) loss 0.9004 (1.7995) lr 3.1658e-03 eta 0:05:42\n",
      "epoch [42/200] batch [40/44] time 0.042 (0.044) data 0.000 (0.004) loss 2.2598 (1.8637) lr 3.1658e-03 eta 0:05:05\n",
      "Evaluate on the *val* set\n"
     ]
    },
    {
     "name": "stderr",
     "output_type": "stream",
     "text": [
      "\r",
      "  0%|          | 0/2 [00:00<?, ?it/s]\r",
      " 50%|█████     | 1/2 [00:00<00:00,  5.30it/s]\r",
      "100%|██████████| 2/2 [00:00<00:00,  8.10it/s]\n"
     ]
    },
    {
     "name": "stdout",
     "output_type": "stream",
     "text": [
      "=> result\n",
      "* total: 106\n",
      "* correct: 37\n",
      "* accuracy: 34.9%\n",
      "* error: 65.1%\n",
      "* macro_f1: 10.9%\n",
      "epoch [43/200] batch [20/44] time 0.040 (0.048) data 0.000 (0.008) loss 2.2988 (1.8808) lr 3.1494e-03 eta 0:05:31\n",
      "epoch [43/200] batch [40/44] time 0.034 (0.044) data 0.000 (0.004) loss 1.4580 (1.8972) lr 3.1494e-03 eta 0:05:02\n",
      "Evaluate on the *val* set\n"
     ]
    },
    {
     "name": "stderr",
     "output_type": "stream",
     "text": [
      "\r",
      "  0%|          | 0/2 [00:00<?, ?it/s]\r",
      " 50%|█████     | 1/2 [00:00<00:00,  5.03it/s]\r",
      "100%|██████████| 2/2 [00:00<00:00,  7.52it/s]\n"
     ]
    },
    {
     "name": "stdout",
     "output_type": "stream",
     "text": [
      "=> result\n",
      "* total: 106\n",
      "* correct: 31\n",
      "* accuracy: 29.2%\n",
      "* error: 70.8%\n",
      "* macro_f1: 9.2%\n",
      "epoch [44/200] batch [20/44] time 0.041 (0.049) data 0.000 (0.008) loss 3.4062 (1.7546) lr 3.1328e-03 eta 0:05:37\n",
      "epoch [44/200] batch [40/44] time 0.040 (0.044) data 0.000 (0.004) loss 1.9766 (1.8547) lr 3.1328e-03 eta 0:05:05\n",
      "Evaluate on the *val* set\n"
     ]
    },
    {
     "name": "stderr",
     "output_type": "stream",
     "text": [
      "\r",
      "  0%|          | 0/2 [00:00<?, ?it/s]\r",
      " 50%|█████     | 1/2 [00:00<00:00,  5.72it/s]\r",
      "100%|██████████| 2/2 [00:00<00:00,  8.18it/s]\n"
     ]
    },
    {
     "name": "stdout",
     "output_type": "stream",
     "text": [
      "=> result\n",
      "* total: 106\n",
      "* correct: 39\n",
      "* accuracy: 36.8%\n",
      "* error: 63.2%\n",
      "* macro_f1: 13.6%\n",
      "epoch [45/200] batch [20/44] time 0.037 (0.051) data 0.000 (0.012) loss 0.5278 (1.8962) lr 3.1158e-03 eta 0:05:51\n",
      "epoch [45/200] batch [40/44] time 0.040 (0.046) data 0.000 (0.006) loss 3.2500 (1.8626) lr 3.1158e-03 eta 0:05:10\n",
      "Evaluate on the *val* set\n"
     ]
    },
    {
     "name": "stderr",
     "output_type": "stream",
     "text": [
      "\r",
      "  0%|          | 0/2 [00:00<?, ?it/s]\r",
      " 50%|█████     | 1/2 [00:00<00:00,  5.37it/s]\r",
      "100%|██████████| 2/2 [00:00<00:00,  7.79it/s]\n"
     ]
    },
    {
     "name": "stdout",
     "output_type": "stream",
     "text": [
      "=> result\n",
      "* total: 106\n",
      "* correct: 35\n",
      "* accuracy: 33.0%\n",
      "* error: 67.0%\n",
      "* macro_f1: 9.6%\n",
      "epoch [46/200] batch [20/44] time 0.041 (0.047) data 0.000 (0.008) loss 1.2402 (1.8295) lr 3.0984e-03 eta 0:05:21\n",
      "epoch [46/200] batch [40/44] time 0.040 (0.043) data 0.000 (0.004) loss 1.6191 (1.8363) lr 3.0984e-03 eta 0:04:50\n",
      "Evaluate on the *val* set\n"
     ]
    },
    {
     "name": "stderr",
     "output_type": "stream",
     "text": [
      "\r",
      "  0%|          | 0/2 [00:00<?, ?it/s]\r",
      " 50%|█████     | 1/2 [00:00<00:00,  5.39it/s]\r",
      "100%|██████████| 2/2 [00:00<00:00,  7.91it/s]\n"
     ]
    },
    {
     "name": "stdout",
     "output_type": "stream",
     "text": [
      "=> result\n",
      "* total: 106\n",
      "* correct: 39\n",
      "* accuracy: 36.8%\n",
      "* error: 63.2%\n",
      "* macro_f1: 10.7%\n",
      "epoch [47/200] batch [20/44] time 0.038 (0.049) data 0.000 (0.008) loss 3.5488 (1.8354) lr 3.0807e-03 eta 0:05:30\n",
      "epoch [47/200] batch [40/44] time 0.041 (0.043) data 0.000 (0.004) loss 2.5410 (1.8497) lr 3.0807e-03 eta 0:04:52\n",
      "Evaluate on the *val* set\n"
     ]
    },
    {
     "name": "stderr",
     "output_type": "stream",
     "text": [
      "\r",
      "  0%|          | 0/2 [00:00<?, ?it/s]\r",
      " 50%|█████     | 1/2 [00:00<00:00,  5.60it/s]\r",
      "100%|██████████| 2/2 [00:00<00:00,  8.38it/s]\n"
     ]
    },
    {
     "name": "stdout",
     "output_type": "stream",
     "text": [
      "=> result\n",
      "* total: 106\n",
      "* correct: 35\n",
      "* accuracy: 33.0%\n",
      "* error: 67.0%\n",
      "* macro_f1: 9.3%\n",
      "epoch [48/200] batch [20/44] time 0.041 (0.049) data 0.000 (0.009) loss 2.0312 (1.7120) lr 3.0627e-03 eta 0:05:28\n",
      "epoch [48/200] batch [40/44] time 0.040 (0.044) data 0.000 (0.004) loss 3.0449 (1.8784) lr 3.0627e-03 eta 0:04:57\n",
      "Evaluate on the *val* set\n"
     ]
    },
    {
     "name": "stderr",
     "output_type": "stream",
     "text": [
      "\r",
      "  0%|          | 0/2 [00:00<?, ?it/s]\r",
      " 50%|█████     | 1/2 [00:00<00:00,  5.54it/s]\r",
      "100%|██████████| 2/2 [00:00<00:00,  8.30it/s]\n"
     ]
    },
    {
     "name": "stdout",
     "output_type": "stream",
     "text": [
      "=> result\n",
      "* total: 106\n",
      "* correct: 38\n",
      "* accuracy: 35.8%\n",
      "* error: 64.2%\n",
      "* macro_f1: 9.5%\n",
      "epoch [49/200] batch [20/44] time 0.035 (0.046) data 0.000 (0.008) loss 4.1797 (1.5478) lr 3.0444e-03 eta 0:05:09\n",
      "epoch [49/200] batch [40/44] time 0.041 (0.041) data 0.000 (0.004) loss 2.6621 (1.8137) lr 3.0444e-03 eta 0:04:34\n",
      "Evaluate on the *val* set\n"
     ]
    },
    {
     "name": "stderr",
     "output_type": "stream",
     "text": [
      "\r",
      "  0%|          | 0/2 [00:00<?, ?it/s]\r",
      " 50%|█████     | 1/2 [00:00<00:00,  5.69it/s]\r",
      "100%|██████████| 2/2 [00:00<00:00,  8.15it/s]\n"
     ]
    },
    {
     "name": "stdout",
     "output_type": "stream",
     "text": [
      "=> result\n",
      "* total: 106\n",
      "* correct: 38\n",
      "* accuracy: 35.8%\n",
      "* error: 64.2%\n",
      "* macro_f1: 10.2%\n",
      "epoch [50/200] batch [20/44] time 0.037 (0.044) data 0.000 (0.009) loss 1.0928 (1.7204) lr 3.0257e-03 eta 0:04:52\n",
      "epoch [50/200] batch [40/44] time 0.040 (0.040) data 0.000 (0.004) loss 2.6953 (1.7839) lr 3.0257e-03 eta 0:04:26\n",
      "Evaluate on the *val* set\n"
     ]
    },
    {
     "name": "stderr",
     "output_type": "stream",
     "text": [
      "\r",
      "  0%|          | 0/2 [00:00<?, ?it/s]\r",
      " 50%|█████     | 1/2 [00:00<00:00,  5.69it/s]\r",
      "100%|██████████| 2/2 [00:00<00:00,  8.11it/s]\n"
     ]
    },
    {
     "name": "stdout",
     "output_type": "stream",
     "text": [
      "=> result\n",
      "* total: 106\n",
      "* correct: 40\n",
      "* accuracy: 37.7%\n",
      "* error: 62.3%\n",
      "* macro_f1: 15.6%\n",
      "epoch [51/200] batch [20/44] time 0.041 (0.049) data 0.000 (0.010) loss 1.1455 (1.7056) lr 3.0067e-03 eta 0:05:22\n",
      "epoch [51/200] batch [40/44] time 0.040 (0.044) data 0.000 (0.005) loss 3.0898 (1.7868) lr 3.0067e-03 eta 0:04:50\n",
      "Evaluate on the *val* set\n"
     ]
    },
    {
     "name": "stderr",
     "output_type": "stream",
     "text": [
      "\r",
      "  0%|          | 0/2 [00:00<?, ?it/s]\r",
      " 50%|█████     | 1/2 [00:00<00:00,  5.74it/s]\r",
      "100%|██████████| 2/2 [00:00<00:00,  8.21it/s]\n"
     ]
    },
    {
     "name": "stdout",
     "output_type": "stream",
     "text": [
      "=> result\n",
      "* total: 106\n",
      "* correct: 40\n",
      "* accuracy: 37.7%\n",
      "* error: 62.3%\n",
      "* macro_f1: 14.7%\n",
      "epoch [52/200] batch [20/44] time 0.041 (0.049) data 0.000 (0.008) loss 3.3066 (1.8340) lr 2.9874e-03 eta 0:05:23\n",
      "epoch [52/200] batch [40/44] time 0.040 (0.045) data 0.000 (0.004) loss 3.1094 (1.7757) lr 2.9874e-03 eta 0:04:51\n",
      "Evaluate on the *val* set\n"
     ]
    },
    {
     "name": "stderr",
     "output_type": "stream",
     "text": [
      "\r",
      "  0%|          | 0/2 [00:00<?, ?it/s]\r",
      " 50%|█████     | 1/2 [00:00<00:00,  5.54it/s]\r",
      "100%|██████████| 2/2 [00:00<00:00,  8.01it/s]\n"
     ]
    },
    {
     "name": "stdout",
     "output_type": "stream",
     "text": [
      "=> result\n",
      "* total: 106\n",
      "* correct: 33\n",
      "* accuracy: 31.1%\n",
      "* error: 68.9%\n",
      "* macro_f1: 13.3%\n",
      "epoch [53/200] batch [20/44] time 0.040 (0.047) data 0.000 (0.009) loss 1.5811 (1.6814) lr 2.9678e-03 eta 0:05:04\n",
      "epoch [53/200] batch [40/44] time 0.037 (0.042) data 0.000 (0.004) loss 2.8184 (1.8565) lr 2.9678e-03 eta 0:04:34\n",
      "Evaluate on the *val* set\n"
     ]
    },
    {
     "name": "stderr",
     "output_type": "stream",
     "text": [
      "\r",
      "  0%|          | 0/2 [00:00<?, ?it/s]\r",
      " 50%|█████     | 1/2 [00:00<00:00,  5.25it/s]\r",
      "100%|██████████| 2/2 [00:00<00:00,  7.43it/s]\n"
     ]
    },
    {
     "name": "stdout",
     "output_type": "stream",
     "text": [
      "=> result\n",
      "* total: 106\n",
      "* correct: 37\n",
      "* accuracy: 34.9%\n",
      "* error: 65.1%\n",
      "* macro_f1: 10.7%\n",
      "epoch [54/200] batch [20/44] time 0.040 (0.049) data 0.000 (0.010) loss 2.1152 (2.0927) lr 2.9480e-03 eta 0:05:15\n",
      "epoch [54/200] batch [40/44] time 0.040 (0.044) data 0.000 (0.005) loss 1.1367 (1.9391) lr 2.9480e-03 eta 0:04:44\n",
      "Evaluate on the *val* set\n"
     ]
    },
    {
     "name": "stderr",
     "output_type": "stream",
     "text": [
      "\r",
      "  0%|          | 0/2 [00:00<?, ?it/s]\r",
      " 50%|█████     | 1/2 [00:00<00:00,  5.47it/s]\r",
      "100%|██████████| 2/2 [00:00<00:00,  7.88it/s]\n"
     ]
    },
    {
     "name": "stdout",
     "output_type": "stream",
     "text": [
      "=> result\n",
      "* total: 106\n",
      "* correct: 39\n",
      "* accuracy: 36.8%\n",
      "* error: 63.2%\n",
      "* macro_f1: 14.5%\n",
      "epoch [55/200] batch [20/44] time 0.039 (0.051) data 0.000 (0.010) loss 1.0547 (1.6879) lr 2.9278e-03 eta 0:05:25\n",
      "epoch [55/200] batch [40/44] time 0.040 (0.045) data 0.000 (0.005) loss 0.6016 (1.7701) lr 2.9278e-03 eta 0:04:48\n",
      "Evaluate on the *val* set\n"
     ]
    },
    {
     "name": "stderr",
     "output_type": "stream",
     "text": [
      "\r",
      "  0%|          | 0/2 [00:00<?, ?it/s]\r",
      " 50%|█████     | 1/2 [00:00<00:00,  5.64it/s]\r",
      "100%|██████████| 2/2 [00:00<00:00,  8.48it/s]\n"
     ]
    },
    {
     "name": "stdout",
     "output_type": "stream",
     "text": [
      "=> result\n",
      "* total: 106\n",
      "* correct: 40\n",
      "* accuracy: 37.7%\n",
      "* error: 62.3%\n",
      "* macro_f1: 12.2%\n",
      "epoch [56/200] batch [20/44] time 0.040 (0.049) data 0.000 (0.009) loss 2.5352 (1.6906) lr 2.9073e-03 eta 0:05:09\n",
      "epoch [56/200] batch [40/44] time 0.039 (0.043) data 0.000 (0.005) loss 1.0840 (1.7536) lr 2.9073e-03 eta 0:04:33\n",
      "Evaluate on the *val* set\n"
     ]
    },
    {
     "name": "stderr",
     "output_type": "stream",
     "text": [
      "\r",
      "  0%|          | 0/2 [00:00<?, ?it/s]\r",
      " 50%|█████     | 1/2 [00:00<00:00,  5.40it/s]\r",
      "100%|██████████| 2/2 [00:00<00:00,  8.26it/s]\n"
     ]
    },
    {
     "name": "stdout",
     "output_type": "stream",
     "text": [
      "=> result\n",
      "* total: 106\n",
      "* correct: 39\n",
      "* accuracy: 36.8%\n",
      "* error: 63.2%\n",
      "* macro_f1: 14.7%\n",
      "epoch [57/200] batch [20/44] time 0.041 (0.049) data 0.000 (0.009) loss 0.5176 (1.6419) lr 2.8865e-03 eta 0:05:11\n",
      "epoch [57/200] batch [40/44] time 0.039 (0.043) data 0.000 (0.005) loss 2.9023 (1.8702) lr 2.8865e-03 eta 0:04:32\n",
      "Evaluate on the *val* set\n"
     ]
    },
    {
     "name": "stderr",
     "output_type": "stream",
     "text": [
      "\r",
      "  0%|          | 0/2 [00:00<?, ?it/s]\r",
      " 50%|█████     | 1/2 [00:00<00:00,  5.40it/s]\r",
      "100%|██████████| 2/2 [00:00<00:00,  8.01it/s]\n"
     ]
    },
    {
     "name": "stdout",
     "output_type": "stream",
     "text": [
      "=> result\n",
      "* total: 106\n",
      "* correct: 34\n",
      "* accuracy: 32.1%\n",
      "* error: 67.9%\n",
      "* macro_f1: 8.4%\n",
      "epoch [58/200] batch [20/44] time 0.042 (0.050) data 0.000 (0.010) loss 1.5781 (1.9785) lr 2.8655e-03 eta 0:05:14\n",
      "epoch [58/200] batch [40/44] time 0.040 (0.045) data 0.000 (0.005) loss 2.2363 (1.8187) lr 2.8655e-03 eta 0:04:43\n",
      "Evaluate on the *val* set\n"
     ]
    },
    {
     "name": "stderr",
     "output_type": "stream",
     "text": [
      "\r",
      "  0%|          | 0/2 [00:00<?, ?it/s]\r",
      " 50%|█████     | 1/2 [00:00<00:00,  5.38it/s]\r",
      "100%|██████████| 2/2 [00:00<00:00,  8.00it/s]\n"
     ]
    },
    {
     "name": "stdout",
     "output_type": "stream",
     "text": [
      "=> result\n",
      "* total: 106\n",
      "* correct: 39\n",
      "* accuracy: 36.8%\n",
      "* error: 63.2%\n",
      "* macro_f1: 14.3%\n",
      "epoch [59/200] batch [20/44] time 0.040 (0.049) data 0.000 (0.009) loss 0.8467 (1.7606) lr 2.8442e-03 eta 0:05:07\n",
      "epoch [59/200] batch [40/44] time 0.040 (0.044) data 0.000 (0.005) loss 1.4932 (1.7004) lr 2.8442e-03 eta 0:04:32\n",
      "Evaluate on the *val* set\n"
     ]
    },
    {
     "name": "stderr",
     "output_type": "stream",
     "text": [
      "\r",
      "  0%|          | 0/2 [00:00<?, ?it/s]\r",
      " 50%|█████     | 1/2 [00:00<00:00,  5.59it/s]\r",
      "100%|██████████| 2/2 [00:00<00:00,  8.07it/s]\n"
     ]
    },
    {
     "name": "stdout",
     "output_type": "stream",
     "text": [
      "=> result\n",
      "* total: 106\n",
      "* correct: 38\n",
      "* accuracy: 35.8%\n",
      "* error: 64.2%\n",
      "* macro_f1: 15.7%\n",
      "epoch [60/200] batch [20/44] time 0.040 (0.049) data 0.000 (0.010) loss 2.4609 (1.5351) lr 2.8226e-03 eta 0:05:05\n",
      "epoch [60/200] batch [40/44] time 0.034 (0.044) data 0.000 (0.005) loss 2.0059 (1.6748) lr 2.8226e-03 eta 0:04:31\n",
      "Evaluate on the *val* set\n"
     ]
    },
    {
     "name": "stderr",
     "output_type": "stream",
     "text": [
      "\r",
      "  0%|          | 0/2 [00:00<?, ?it/s]\r",
      " 50%|█████     | 1/2 [00:00<00:00,  5.56it/s]\r",
      "100%|██████████| 2/2 [00:00<00:00,  7.80it/s]\n"
     ]
    },
    {
     "name": "stdout",
     "output_type": "stream",
     "text": [
      "=> result\n",
      "* total: 106\n",
      "* correct: 36\n",
      "* accuracy: 34.0%\n",
      "* error: 66.0%\n",
      "* macro_f1: 15.2%\n",
      "epoch [61/200] batch [20/44] time 0.042 (0.047) data 0.000 (0.009) loss 1.3887 (1.5606) lr 2.8007e-03 eta 0:04:50\n",
      "epoch [61/200] batch [40/44] time 0.040 (0.043) data 0.000 (0.004) loss 1.8594 (1.6524) lr 2.8007e-03 eta 0:04:24\n",
      "Evaluate on the *val* set\n"
     ]
    },
    {
     "name": "stderr",
     "output_type": "stream",
     "text": [
      "\r",
      "  0%|          | 0/2 [00:00<?, ?it/s]\r",
      " 50%|█████     | 1/2 [00:00<00:00,  5.14it/s]\r",
      "100%|██████████| 2/2 [00:00<00:00,  7.48it/s]\n"
     ]
    },
    {
     "name": "stdout",
     "output_type": "stream",
     "text": [
      "=> result\n",
      "* total: 106\n",
      "* correct: 44\n",
      "* accuracy: 41.5%\n",
      "* error: 58.5%\n",
      "* macro_f1: 15.1%\n",
      "Checkpoint saved to output/replica/MaPLePromptScene/vit_b16_c2_ep200_batch4_ctx4_depth12_cross_datasets_-1shots/seed1/MultiModalPromptSceneLearner/model-best.pth.tar\n",
      "epoch [62/200] batch [20/44] time 0.041 (0.049) data 0.000 (0.009) loss 2.4395 (1.7007) lr 2.7786e-03 eta 0:05:00\n",
      "epoch [62/200] batch [40/44] time 0.040 (0.045) data 0.000 (0.005) loss 1.2148 (1.6943) lr 2.7786e-03 eta 0:04:31\n",
      "Evaluate on the *val* set\n"
     ]
    },
    {
     "name": "stderr",
     "output_type": "stream",
     "text": [
      "\r",
      "  0%|          | 0/2 [00:00<?, ?it/s]\r",
      " 50%|█████     | 1/2 [00:00<00:00,  5.35it/s]\r",
      "100%|██████████| 2/2 [00:00<00:00,  7.84it/s]\n"
     ]
    },
    {
     "name": "stdout",
     "output_type": "stream",
     "text": [
      "=> result\n",
      "* total: 106\n",
      "* correct: 42\n",
      "* accuracy: 39.6%\n",
      "* error: 60.4%\n",
      "* macro_f1: 15.3%\n",
      "epoch [63/200] batch [20/44] time 0.040 (0.048) data 0.000 (0.009) loss 1.4541 (1.5899) lr 2.7563e-03 eta 0:04:48\n",
      "epoch [63/200] batch [40/44] time 0.040 (0.044) data 0.000 (0.005) loss 1.6172 (1.6312) lr 2.7563e-03 eta 0:04:24\n",
      "Evaluate on the *val* set\n"
     ]
    },
    {
     "name": "stderr",
     "output_type": "stream",
     "text": [
      "\r",
      "  0%|          | 0/2 [00:00<?, ?it/s]\r",
      " 50%|█████     | 1/2 [00:00<00:00,  5.61it/s]\r",
      "100%|██████████| 2/2 [00:00<00:00,  8.35it/s]\n"
     ]
    },
    {
     "name": "stdout",
     "output_type": "stream",
     "text": [
      "=> result\n",
      "* total: 106\n",
      "* correct: 42\n",
      "* accuracy: 39.6%\n",
      "* error: 60.4%\n",
      "* macro_f1: 16.6%\n",
      "epoch [64/200] batch [20/44] time 0.040 (0.050) data 0.000 (0.011) loss 1.0293 (1.6173) lr 2.7336e-03 eta 0:04:59\n",
      "epoch [64/200] batch [40/44] time 0.040 (0.045) data 0.000 (0.006) loss 2.3945 (1.6938) lr 2.7336e-03 eta 0:04:28\n",
      "Evaluate on the *val* set\n"
     ]
    },
    {
     "name": "stderr",
     "output_type": "stream",
     "text": [
      "\r",
      "  0%|          | 0/2 [00:00<?, ?it/s]\r",
      " 50%|█████     | 1/2 [00:00<00:00,  5.42it/s]\r",
      "100%|██████████| 2/2 [00:00<00:00,  7.97it/s]\n"
     ]
    },
    {
     "name": "stdout",
     "output_type": "stream",
     "text": [
      "=> result\n",
      "* total: 106\n",
      "* correct: 30\n",
      "* accuracy: 28.3%\n",
      "* error: 71.7%\n",
      "* macro_f1: 11.7%\n",
      "epoch [65/200] batch [20/44] time 0.039 (0.050) data 0.000 (0.009) loss 2.6152 (1.6893) lr 2.7108e-03 eta 0:04:58\n",
      "epoch [65/200] batch [40/44] time 0.039 (0.045) data 0.000 (0.005) loss 2.0840 (1.7353) lr 2.7108e-03 eta 0:04:27\n",
      "Evaluate on the *val* set\n"
     ]
    },
    {
     "name": "stderr",
     "output_type": "stream",
     "text": [
      "\r",
      "  0%|          | 0/2 [00:00<?, ?it/s]\r",
      " 50%|█████     | 1/2 [00:00<00:00,  5.73it/s]\r",
      "100%|██████████| 2/2 [00:00<00:00,  8.39it/s]\n"
     ]
    },
    {
     "name": "stdout",
     "output_type": "stream",
     "text": [
      "=> result\n",
      "* total: 106\n",
      "* correct: 41\n",
      "* accuracy: 38.7%\n",
      "* error: 61.3%\n",
      "* macro_f1: 15.2%\n",
      "epoch [66/200] batch [20/44] time 0.045 (0.050) data 0.000 (0.009) loss 1.4873 (1.5721) lr 2.6877e-03 eta 0:04:56\n",
      "epoch [66/200] batch [40/44] time 0.040 (0.045) data 0.000 (0.005) loss 0.8525 (1.5684) lr 2.6877e-03 eta 0:04:25\n",
      "Evaluate on the *val* set\n"
     ]
    },
    {
     "name": "stderr",
     "output_type": "stream",
     "text": [
      "\r",
      "  0%|          | 0/2 [00:00<?, ?it/s]\r",
      " 50%|█████     | 1/2 [00:00<00:00,  5.50it/s]\r",
      "100%|██████████| 2/2 [00:00<00:00,  8.02it/s]\n"
     ]
    },
    {
     "name": "stdout",
     "output_type": "stream",
     "text": [
      "=> result\n",
      "* total: 106\n",
      "* correct: 36\n",
      "* accuracy: 34.0%\n",
      "* error: 66.0%\n",
      "* macro_f1: 10.9%\n",
      "epoch [67/200] batch [20/44] time 0.040 (0.048) data 0.000 (0.008) loss 0.9424 (1.5280) lr 2.6644e-03 eta 0:04:41\n",
      "epoch [67/200] batch [40/44] time 0.040 (0.044) data 0.000 (0.004) loss 0.7017 (1.6513) lr 2.6644e-03 eta 0:04:17\n",
      "Evaluate on the *val* set\n"
     ]
    },
    {
     "name": "stderr",
     "output_type": "stream",
     "text": [
      "\r",
      "  0%|          | 0/2 [00:00<?, ?it/s]\r",
      " 50%|█████     | 1/2 [00:00<00:00,  5.50it/s]\r",
      "100%|██████████| 2/2 [00:00<00:00,  8.00it/s]\n"
     ]
    },
    {
     "name": "stdout",
     "output_type": "stream",
     "text": [
      "=> result\n",
      "* total: 106\n",
      "* correct: 43\n",
      "* accuracy: 40.6%\n",
      "* error: 59.4%\n",
      "* macro_f1: 15.3%\n",
      "epoch [68/200] batch [20/44] time 0.040 (0.049) data 0.000 (0.008) loss 2.2402 (1.3855) lr 2.6408e-03 eta 0:04:45\n",
      "epoch [68/200] batch [40/44] time 0.040 (0.045) data 0.000 (0.004) loss 2.8398 (1.5589) lr 2.6408e-03 eta 0:04:18\n",
      "Evaluate on the *val* set\n"
     ]
    },
    {
     "name": "stderr",
     "output_type": "stream",
     "text": [
      "\r",
      "  0%|          | 0/2 [00:00<?, ?it/s]\r",
      " 50%|█████     | 1/2 [00:00<00:00,  5.23it/s]\r",
      "100%|██████████| 2/2 [00:00<00:00,  7.39it/s]\n"
     ]
    },
    {
     "name": "stdout",
     "output_type": "stream",
     "text": [
      "=> result\n",
      "* total: 106\n",
      "* correct: 35\n",
      "* accuracy: 33.0%\n",
      "* error: 67.0%\n",
      "* macro_f1: 10.0%\n",
      "epoch [69/200] batch [20/44] time 0.041 (0.047) data 0.000 (0.010) loss 1.5518 (1.7743) lr 2.6171e-03 eta 0:04:33\n",
      "epoch [69/200] batch [40/44] time 0.041 (0.043) data 0.000 (0.005) loss 1.6611 (1.6965) lr 2.6171e-03 eta 0:04:05\n",
      "Evaluate on the *val* set\n"
     ]
    },
    {
     "name": "stderr",
     "output_type": "stream",
     "text": [
      "\r",
      "  0%|          | 0/2 [00:00<?, ?it/s]\r",
      " 50%|█████     | 1/2 [00:00<00:00,  5.47it/s]\r",
      "100%|██████████| 2/2 [00:00<00:00,  8.13it/s]\n"
     ]
    },
    {
     "name": "stdout",
     "output_type": "stream",
     "text": [
      "=> result\n",
      "* total: 106\n",
      "* correct: 38\n",
      "* accuracy: 35.8%\n",
      "* error: 64.2%\n",
      "* macro_f1: 15.0%\n",
      "epoch [70/200] batch [20/44] time 0.039 (0.048) data 0.000 (0.008) loss 1.0020 (1.5846) lr 2.5931e-03 eta 0:04:35\n",
      "epoch [70/200] batch [40/44] time 0.040 (0.044) data 0.000 (0.004) loss 1.6836 (1.5733) lr 2.5931e-03 eta 0:04:11\n",
      "Evaluate on the *val* set\n"
     ]
    },
    {
     "name": "stderr",
     "output_type": "stream",
     "text": [
      "\r",
      "  0%|          | 0/2 [00:00<?, ?it/s]\r",
      " 50%|█████     | 1/2 [00:00<00:00,  5.37it/s]\r",
      "100%|██████████| 2/2 [00:00<00:00,  7.70it/s]\n"
     ]
    },
    {
     "name": "stdout",
     "output_type": "stream",
     "text": [
      "=> result\n",
      "* total: 106\n",
      "* correct: 39\n",
      "* accuracy: 36.8%\n",
      "* error: 63.2%\n",
      "* macro_f1: 14.1%\n",
      "epoch [71/200] batch [20/44] time 0.041 (0.045) data 0.000 (0.008) loss 1.2197 (1.4483) lr 2.5689e-03 eta 0:04:15\n",
      "epoch [71/200] batch [40/44] time 0.040 (0.042) data 0.000 (0.004) loss 0.8027 (1.5125) lr 2.5689e-03 eta 0:03:58\n",
      "Evaluate on the *val* set\n"
     ]
    },
    {
     "name": "stderr",
     "output_type": "stream",
     "text": [
      "\r",
      "  0%|          | 0/2 [00:00<?, ?it/s]\r",
      " 50%|█████     | 1/2 [00:00<00:00,  5.53it/s]\r",
      "100%|██████████| 2/2 [00:00<00:00,  8.35it/s]\n"
     ]
    },
    {
     "name": "stdout",
     "output_type": "stream",
     "text": [
      "=> result\n",
      "* total: 106\n",
      "* correct: 40\n",
      "* accuracy: 37.7%\n",
      "* error: 62.3%\n",
      "* macro_f1: 17.6%\n",
      "epoch [72/200] batch [20/44] time 0.041 (0.049) data 0.000 (0.009) loss 2.3555 (1.3563) lr 2.5445e-03 eta 0:04:38\n",
      "epoch [72/200] batch [40/44] time 0.041 (0.045) data 0.000 (0.005) loss 1.2949 (1.5715) lr 2.5445e-03 eta 0:04:11\n",
      "Evaluate on the *val* set\n"
     ]
    },
    {
     "name": "stderr",
     "output_type": "stream",
     "text": [
      "\r",
      "  0%|          | 0/2 [00:00<?, ?it/s]\r",
      " 50%|█████     | 1/2 [00:00<00:00,  5.37it/s]\r",
      "100%|██████████| 2/2 [00:00<00:00,  7.94it/s]\n"
     ]
    },
    {
     "name": "stdout",
     "output_type": "stream",
     "text": [
      "=> result\n",
      "* total: 106\n",
      "* correct: 39\n",
      "* accuracy: 36.8%\n",
      "* error: 63.2%\n",
      "* macro_f1: 14.4%\n",
      "epoch [73/200] batch [20/44] time 0.041 (0.050) data 0.000 (0.008) loss 1.7764 (1.7102) lr 2.5199e-03 eta 0:04:39\n",
      "epoch [73/200] batch [40/44] time 0.040 (0.044) data 0.000 (0.004) loss 1.8154 (1.6162) lr 2.5199e-03 eta 0:04:08\n",
      "Evaluate on the *val* set\n"
     ]
    },
    {
     "name": "stderr",
     "output_type": "stream",
     "text": [
      "\r",
      "  0%|          | 0/2 [00:00<?, ?it/s]\r",
      " 50%|█████     | 1/2 [00:00<00:00,  5.22it/s]\r",
      "100%|██████████| 2/2 [00:00<00:00,  7.77it/s]\n"
     ]
    },
    {
     "name": "stdout",
     "output_type": "stream",
     "text": [
      "=> result\n",
      "* total: 106\n",
      "* correct: 41\n",
      "* accuracy: 38.7%\n",
      "* error: 61.3%\n",
      "* macro_f1: 14.6%\n",
      "epoch [74/200] batch [20/44] time 0.042 (0.047) data 0.000 (0.008) loss 1.2197 (1.4554) lr 2.4951e-03 eta 0:04:19\n",
      "epoch [74/200] batch [40/44] time 0.037 (0.043) data 0.000 (0.004) loss 2.8672 (1.5615) lr 2.4951e-03 eta 0:03:57\n",
      "Evaluate on the *val* set\n"
     ]
    },
    {
     "name": "stderr",
     "output_type": "stream",
     "text": [
      "\r",
      "  0%|          | 0/2 [00:00<?, ?it/s]\r",
      " 50%|█████     | 1/2 [00:00<00:00,  5.37it/s]\r",
      "100%|██████████| 2/2 [00:00<00:00,  8.12it/s]\n"
     ]
    },
    {
     "name": "stdout",
     "output_type": "stream",
     "text": [
      "=> result\n",
      "* total: 106\n",
      "* correct: 41\n",
      "* accuracy: 38.7%\n",
      "* error: 61.3%\n",
      "* macro_f1: 17.5%\n",
      "epoch [75/200] batch [20/44] time 0.032 (0.049) data 0.000 (0.009) loss 1.3477 (1.7752) lr 2.4702e-03 eta 0:04:32\n",
      "epoch [75/200] batch [40/44] time 0.038 (0.044) data 0.000 (0.004) loss 0.5698 (1.6869) lr 2.4702e-03 eta 0:04:02\n",
      "Evaluate on the *val* set\n"
     ]
    },
    {
     "name": "stderr",
     "output_type": "stream",
     "text": [
      "\r",
      "  0%|          | 0/2 [00:00<?, ?it/s]\r",
      " 50%|█████     | 1/2 [00:00<00:00,  5.40it/s]\r",
      "100%|██████████| 2/2 [00:00<00:00,  8.07it/s]\n"
     ]
    },
    {
     "name": "stdout",
     "output_type": "stream",
     "text": [
      "=> result\n",
      "* total: 106\n",
      "* correct: 43\n",
      "* accuracy: 40.6%\n",
      "* error: 59.4%\n",
      "* macro_f1: 17.5%\n",
      "epoch [76/200] batch [20/44] time 0.039 (0.050) data 0.000 (0.009) loss 1.2324 (1.5614) lr 2.4450e-03 eta 0:04:35\n",
      "epoch [76/200] batch [40/44] time 0.040 (0.045) data 0.000 (0.005) loss 0.8901 (1.5138) lr 2.4450e-03 eta 0:04:06\n",
      "Evaluate on the *val* set\n"
     ]
    },
    {
     "name": "stderr",
     "output_type": "stream",
     "text": [
      "\r",
      "  0%|          | 0/2 [00:00<?, ?it/s]\r",
      " 50%|█████     | 1/2 [00:00<00:00,  5.38it/s]\r",
      "100%|██████████| 2/2 [00:00<00:00,  8.19it/s]\n"
     ]
    },
    {
     "name": "stdout",
     "output_type": "stream",
     "text": [
      "=> result\n",
      "* total: 106\n",
      "* correct: 42\n",
      "* accuracy: 39.6%\n",
      "* error: 60.4%\n",
      "* macro_f1: 16.9%\n",
      "epoch [77/200] batch [20/44] time 0.039 (0.047) data 0.000 (0.008) loss 1.4883 (1.4548) lr 2.4197e-03 eta 0:04:13\n",
      "epoch [77/200] batch [40/44] time 0.040 (0.043) data 0.000 (0.004) loss 2.5137 (1.5883) lr 2.4197e-03 eta 0:03:54\n",
      "Evaluate on the *val* set\n"
     ]
    },
    {
     "name": "stderr",
     "output_type": "stream",
     "text": [
      "\r",
      "  0%|          | 0/2 [00:00<?, ?it/s]\r",
      " 50%|█████     | 1/2 [00:00<00:00,  5.60it/s]\r",
      "100%|██████████| 2/2 [00:00<00:00,  8.10it/s]\n"
     ]
    },
    {
     "name": "stdout",
     "output_type": "stream",
     "text": [
      "=> result\n",
      "* total: 106\n",
      "* correct: 43\n",
      "* accuracy: 40.6%\n",
      "* error: 59.4%\n",
      "* macro_f1: 17.8%\n",
      "epoch [78/200] batch [20/44] time 0.041 (0.049) data 0.000 (0.009) loss 2.2402 (1.7023) lr 2.3942e-03 eta 0:04:24\n",
      "epoch [78/200] batch [40/44] time 0.040 (0.044) data 0.000 (0.004) loss 2.0820 (1.5669) lr 2.3942e-03 eta 0:03:55\n",
      "Evaluate on the *val* set\n"
     ]
    },
    {
     "name": "stderr",
     "output_type": "stream",
     "text": [
      "\r",
      "  0%|          | 0/2 [00:00<?, ?it/s]\r",
      " 50%|█████     | 1/2 [00:00<00:00,  5.49it/s]\r",
      "100%|██████████| 2/2 [00:00<00:00,  7.85it/s]\n"
     ]
    },
    {
     "name": "stdout",
     "output_type": "stream",
     "text": [
      "=> result\n",
      "* total: 106\n",
      "* correct: 42\n",
      "* accuracy: 39.6%\n",
      "* error: 60.4%\n",
      "* macro_f1: 15.9%\n",
      "epoch [79/200] batch [20/44] time 0.041 (0.049) data 0.000 (0.008) loss 1.7715 (1.5731) lr 2.3686e-03 eta 0:04:21\n",
      "epoch [79/200] batch [40/44] time 0.040 (0.044) data 0.000 (0.004) loss 1.0176 (1.5450) lr 2.3686e-03 eta 0:03:52\n",
      "Evaluate on the *val* set\n"
     ]
    },
    {
     "name": "stderr",
     "output_type": "stream",
     "text": [
      "\r",
      "  0%|          | 0/2 [00:00<?, ?it/s]\r",
      " 50%|█████     | 1/2 [00:00<00:00,  5.64it/s]\r",
      "100%|██████████| 2/2 [00:00<00:00,  8.41it/s]\n"
     ]
    },
    {
     "name": "stdout",
     "output_type": "stream",
     "text": [
      "=> result\n",
      "* total: 106\n",
      "* correct: 39\n",
      "* accuracy: 36.8%\n",
      "* error: 63.2%\n",
      "* macro_f1: 16.1%\n",
      "epoch [80/200] batch [20/44] time 0.041 (0.051) data 0.000 (0.010) loss 1.8896 (1.5120) lr 2.3428e-03 eta 0:04:28\n",
      "epoch [80/200] batch [40/44] time 0.040 (0.045) data 0.000 (0.005) loss 1.7109 (1.4782) lr 2.3428e-03 eta 0:03:59\n",
      "Evaluate on the *val* set\n"
     ]
    },
    {
     "name": "stderr",
     "output_type": "stream",
     "text": [
      "\r",
      "  0%|          | 0/2 [00:00<?, ?it/s]\r",
      " 50%|█████     | 1/2 [00:00<00:00,  5.38it/s]\r",
      "100%|██████████| 2/2 [00:00<00:00,  7.87it/s]\n"
     ]
    },
    {
     "name": "stdout",
     "output_type": "stream",
     "text": [
      "=> result\n",
      "* total: 106\n",
      "* correct: 37\n",
      "* accuracy: 34.9%\n",
      "* error: 65.1%\n",
      "* macro_f1: 16.1%\n",
      "epoch [81/200] batch [20/44] time 0.038 (0.048) data 0.000 (0.009) loss 0.9170 (1.3671) lr 2.3169e-03 eta 0:04:12\n",
      "epoch [81/200] batch [40/44] time 0.040 (0.044) data 0.000 (0.005) loss 2.7734 (1.4869) lr 2.3169e-03 eta 0:03:50\n",
      "Evaluate on the *val* set\n"
     ]
    },
    {
     "name": "stderr",
     "output_type": "stream",
     "text": [
      "\r",
      "  0%|          | 0/2 [00:00<?, ?it/s]\r",
      " 50%|█████     | 1/2 [00:00<00:00,  5.53it/s]\r",
      "100%|██████████| 2/2 [00:00<00:00,  8.32it/s]\n"
     ]
    },
    {
     "name": "stdout",
     "output_type": "stream",
     "text": [
      "=> result\n",
      "* total: 106\n",
      "* correct: 37\n",
      "* accuracy: 34.9%\n",
      "* error: 65.1%\n",
      "* macro_f1: 14.8%\n",
      "epoch [82/200] batch [20/44] time 0.040 (0.048) data 0.000 (0.008) loss 1.8779 (1.5344) lr 2.2908e-03 eta 0:04:12\n",
      "epoch [82/200] batch [40/44] time 0.040 (0.044) data 0.000 (0.004) loss 1.2695 (1.5686) lr 2.2908e-03 eta 0:03:49\n",
      "Evaluate on the *val* set\n"
     ]
    },
    {
     "name": "stderr",
     "output_type": "stream",
     "text": [
      "\r",
      "  0%|          | 0/2 [00:00<?, ?it/s]\r",
      " 50%|█████     | 1/2 [00:00<00:00,  5.15it/s]\r",
      "100%|██████████| 2/2 [00:00<00:00,  7.85it/s]\n"
     ]
    },
    {
     "name": "stdout",
     "output_type": "stream",
     "text": [
      "=> result\n",
      "* total: 106\n",
      "* correct: 41\n",
      "* accuracy: 38.7%\n",
      "* error: 61.3%\n",
      "* macro_f1: 14.8%\n",
      "epoch [83/200] batch [20/44] time 0.039 (0.049) data 0.000 (0.009) loss 3.0137 (1.4299) lr 2.2646e-03 eta 0:04:12\n",
      "epoch [83/200] batch [40/44] time 0.041 (0.044) data 0.000 (0.005) loss 0.7349 (1.5420) lr 2.2646e-03 eta 0:03:48\n",
      "Evaluate on the *val* set\n"
     ]
    },
    {
     "name": "stderr",
     "output_type": "stream",
     "text": [
      "\r",
      "  0%|          | 0/2 [00:00<?, ?it/s]\r",
      " 50%|█████     | 1/2 [00:00<00:00,  5.22it/s]\r",
      "100%|██████████| 2/2 [00:00<00:00,  7.67it/s]\n"
     ]
    },
    {
     "name": "stdout",
     "output_type": "stream",
     "text": [
      "=> result\n",
      "* total: 106\n",
      "* correct: 40\n",
      "* accuracy: 37.7%\n",
      "* error: 62.3%\n",
      "* macro_f1: 19.3%\n",
      "epoch [84/200] batch [20/44] time 0.040 (0.050) data 0.000 (0.009) loss 1.0576 (1.2968) lr 2.2382e-03 eta 0:04:17\n",
      "epoch [84/200] batch [40/44] time 0.040 (0.044) data 0.000 (0.005) loss 1.5625 (1.4577) lr 2.2382e-03 eta 0:03:45\n",
      "Evaluate on the *val* set\n"
     ]
    },
    {
     "name": "stderr",
     "output_type": "stream",
     "text": [
      "\r",
      "  0%|          | 0/2 [00:00<?, ?it/s]\r",
      " 50%|█████     | 1/2 [00:00<00:00,  5.58it/s]\r",
      "100%|██████████| 2/2 [00:00<00:00,  8.21it/s]\n"
     ]
    },
    {
     "name": "stdout",
     "output_type": "stream",
     "text": [
      "=> result\n",
      "* total: 106\n",
      "* correct: 45\n",
      "* accuracy: 42.5%\n",
      "* error: 57.5%\n",
      "* macro_f1: 21.2%\n",
      "Checkpoint saved to output/replica/MaPLePromptScene/vit_b16_c2_ep200_batch4_ctx4_depth12_cross_datasets_-1shots/seed1/MultiModalPromptSceneLearner/model-best.pth.tar\n",
      "epoch [85/200] batch [20/44] time 0.035 (0.049) data 0.000 (0.011) loss 1.8457 (1.5594) lr 2.2118e-03 eta 0:04:10\n",
      "epoch [85/200] batch [40/44] time 0.040 (0.044) data 0.000 (0.005) loss 1.8535 (1.6267) lr 2.2118e-03 eta 0:03:42\n",
      "Evaluate on the *val* set\n"
     ]
    },
    {
     "name": "stderr",
     "output_type": "stream",
     "text": [
      "\r",
      "  0%|          | 0/2 [00:00<?, ?it/s]\r",
      " 50%|█████     | 1/2 [00:00<00:00,  5.50it/s]\r",
      "100%|██████████| 2/2 [00:00<00:00,  8.25it/s]\n"
     ]
    },
    {
     "name": "stdout",
     "output_type": "stream",
     "text": [
      "=> result\n",
      "* total: 106\n",
      "* correct: 43\n",
      "* accuracy: 40.6%\n",
      "* error: 59.4%\n",
      "* macro_f1: 13.5%\n",
      "epoch [86/200] batch [20/44] time 0.041 (0.048) data 0.000 (0.008) loss 1.7744 (1.3625) lr 2.1852e-03 eta 0:04:03\n",
      "epoch [86/200] batch [40/44] time 0.036 (0.043) data 0.000 (0.004) loss 1.2217 (1.4782) lr 2.1852e-03 eta 0:03:38\n",
      "Evaluate on the *val* set\n"
     ]
    },
    {
     "name": "stderr",
     "output_type": "stream",
     "text": [
      "\r",
      "  0%|          | 0/2 [00:00<?, ?it/s]\r",
      " 50%|█████     | 1/2 [00:00<00:00,  5.34it/s]\r",
      "100%|██████████| 2/2 [00:00<00:00,  7.80it/s]\n"
     ]
    },
    {
     "name": "stdout",
     "output_type": "stream",
     "text": [
      "=> result\n",
      "* total: 106\n",
      "* correct: 41\n",
      "* accuracy: 38.7%\n",
      "* error: 61.3%\n",
      "* macro_f1: 16.5%\n",
      "epoch [87/200] batch [20/44] time 0.040 (0.049) data 0.000 (0.009) loss 2.4023 (1.4587) lr 2.1585e-03 eta 0:04:07\n",
      "epoch [87/200] batch [40/44] time 0.040 (0.045) data 0.000 (0.005) loss 0.9785 (1.4354) lr 2.1585e-03 eta 0:03:42\n",
      "Evaluate on the *val* set\n"
     ]
    },
    {
     "name": "stderr",
     "output_type": "stream",
     "text": [
      "\r",
      "  0%|          | 0/2 [00:00<?, ?it/s]\r",
      " 50%|█████     | 1/2 [00:00<00:00,  5.01it/s]\r",
      "100%|██████████| 2/2 [00:00<00:00,  7.69it/s]\n"
     ]
    },
    {
     "name": "stdout",
     "output_type": "stream",
     "text": [
      "=> result\n",
      "* total: 106\n",
      "* correct: 41\n",
      "* accuracy: 38.7%\n",
      "* error: 61.3%\n",
      "* macro_f1: 15.8%\n",
      "epoch [88/200] batch [20/44] time 0.041 (0.048) data 0.000 (0.008) loss 2.2129 (1.2798) lr 2.1318e-03 eta 0:03:59\n",
      "epoch [88/200] batch [40/44] time 0.035 (0.044) data 0.000 (0.004) loss 0.6455 (1.5190) lr 2.1318e-03 eta 0:03:36\n",
      "Evaluate on the *val* set\n"
     ]
    },
    {
     "name": "stderr",
     "output_type": "stream",
     "text": [
      "\r",
      "  0%|          | 0/2 [00:00<?, ?it/s]\r",
      " 50%|█████     | 1/2 [00:00<00:00,  5.19it/s]\r",
      "100%|██████████| 2/2 [00:00<00:00,  7.74it/s]\n"
     ]
    },
    {
     "name": "stdout",
     "output_type": "stream",
     "text": [
      "=> result\n",
      "* total: 106\n",
      "* correct: 36\n",
      "* accuracy: 34.0%\n",
      "* error: 66.0%\n",
      "* macro_f1: 17.0%\n",
      "epoch [89/200] batch [20/44] time 0.041 (0.049) data 0.000 (0.009) loss 0.6260 (1.5100) lr 2.1049e-03 eta 0:04:00\n",
      "epoch [89/200] batch [40/44] time 0.038 (0.044) data 0.000 (0.004) loss 0.9761 (1.4482) lr 2.1049e-03 eta 0:03:36\n",
      "Evaluate on the *val* set\n"
     ]
    },
    {
     "name": "stderr",
     "output_type": "stream",
     "text": [
      "\r",
      "  0%|          | 0/2 [00:00<?, ?it/s]\r",
      " 50%|█████     | 1/2 [00:00<00:00,  5.05it/s]\r",
      "100%|██████████| 2/2 [00:00<00:00,  7.71it/s]\n"
     ]
    },
    {
     "name": "stdout",
     "output_type": "stream",
     "text": [
      "=> result\n",
      "* total: 106\n",
      "* correct: 40\n",
      "* accuracy: 37.7%\n",
      "* error: 62.3%\n",
      "* macro_f1: 21.3%\n",
      "epoch [90/200] batch [20/44] time 0.042 (0.048) data 0.000 (0.008) loss 1.0283 (1.4777) lr 2.0779e-03 eta 0:03:55\n",
      "epoch [90/200] batch [40/44] time 0.040 (0.044) data 0.000 (0.004) loss 1.3721 (1.5282) lr 2.0779e-03 eta 0:03:31\n",
      "Evaluate on the *val* set\n"
     ]
    },
    {
     "name": "stderr",
     "output_type": "stream",
     "text": [
      "\r",
      "  0%|          | 0/2 [00:00<?, ?it/s]\r",
      " 50%|█████     | 1/2 [00:00<00:00,  5.34it/s]\r",
      "100%|██████████| 2/2 [00:00<00:00,  7.83it/s]\n"
     ]
    },
    {
     "name": "stdout",
     "output_type": "stream",
     "text": [
      "=> result\n",
      "* total: 106\n",
      "* correct: 39\n",
      "* accuracy: 36.8%\n",
      "* error: 63.2%\n",
      "* macro_f1: 16.5%\n",
      "epoch [91/200] batch [20/44] time 0.039 (0.047) data 0.000 (0.008) loss 1.2881 (1.4480) lr 2.0509e-03 eta 0:03:46\n",
      "epoch [91/200] batch [40/44] time 0.041 (0.042) data 0.000 (0.004) loss 1.6377 (1.4163) lr 2.0509e-03 eta 0:03:22\n",
      "Evaluate on the *val* set\n"
     ]
    },
    {
     "name": "stderr",
     "output_type": "stream",
     "text": [
      "\r",
      "  0%|          | 0/2 [00:00<?, ?it/s]\r",
      " 50%|█████     | 1/2 [00:00<00:00,  5.31it/s]\r",
      "100%|██████████| 2/2 [00:00<00:00,  7.68it/s]\n"
     ]
    },
    {
     "name": "stdout",
     "output_type": "stream",
     "text": [
      "=> result\n",
      "* total: 106\n",
      "* correct: 41\n",
      "* accuracy: 38.7%\n",
      "* error: 61.3%\n",
      "* macro_f1: 19.8%\n",
      "epoch [92/200] batch [20/44] time 0.040 (0.049) data 0.000 (0.009) loss 2.2715 (1.4248) lr 2.0238e-03 eta 0:03:54\n",
      "epoch [92/200] batch [40/44] time 0.040 (0.044) data 0.000 (0.005) loss 1.0498 (1.3976) lr 2.0238e-03 eta 0:03:30\n",
      "Evaluate on the *val* set\n"
     ]
    },
    {
     "name": "stderr",
     "output_type": "stream",
     "text": [
      "\r",
      "  0%|          | 0/2 [00:00<?, ?it/s]\r",
      " 50%|█████     | 1/2 [00:00<00:00,  5.51it/s]\r",
      "100%|██████████| 2/2 [00:00<00:00,  8.28it/s]\n"
     ]
    },
    {
     "name": "stdout",
     "output_type": "stream",
     "text": [
      "=> result\n",
      "* total: 106\n",
      "* correct: 38\n",
      "* accuracy: 35.8%\n",
      "* error: 64.2%\n",
      "* macro_f1: 16.1%\n",
      "epoch [93/200] batch [20/44] time 0.041 (0.048) data 0.000 (0.008) loss 2.1348 (1.6405) lr 1.9966e-03 eta 0:03:48\n",
      "epoch [93/200] batch [40/44] time 0.040 (0.044) data 0.000 (0.004) loss 1.1562 (1.4898) lr 1.9966e-03 eta 0:03:28\n",
      "Evaluate on the *val* set\n"
     ]
    },
    {
     "name": "stderr",
     "output_type": "stream",
     "text": [
      "\r",
      "  0%|          | 0/2 [00:00<?, ?it/s]\r",
      " 50%|█████     | 1/2 [00:00<00:00,  5.63it/s]\r",
      "100%|██████████| 2/2 [00:00<00:00,  8.07it/s]\n"
     ]
    },
    {
     "name": "stdout",
     "output_type": "stream",
     "text": [
      "=> result\n",
      "* total: 106\n",
      "* correct: 40\n",
      "* accuracy: 37.7%\n",
      "* error: 62.3%\n",
      "* macro_f1: 14.6%\n",
      "epoch [94/200] batch [20/44] time 0.039 (0.050) data 0.000 (0.010) loss 2.0020 (1.4944) lr 1.9693e-03 eta 0:03:53\n",
      "epoch [94/200] batch [40/44] time 0.031 (0.044) data 0.000 (0.005) loss 1.1719 (1.3948) lr 1.9693e-03 eta 0:03:26\n",
      "Evaluate on the *val* set\n"
     ]
    },
    {
     "name": "stderr",
     "output_type": "stream",
     "text": [
      "\r",
      "  0%|          | 0/2 [00:00<?, ?it/s]\r",
      " 50%|█████     | 1/2 [00:00<00:00,  5.43it/s]\r",
      "100%|██████████| 2/2 [00:00<00:00,  8.11it/s]\n"
     ]
    },
    {
     "name": "stdout",
     "output_type": "stream",
     "text": [
      "=> result\n",
      "* total: 106\n",
      "* correct: 43\n",
      "* accuracy: 40.6%\n",
      "* error: 59.4%\n",
      "* macro_f1: 17.6%\n",
      "epoch [95/200] batch [20/44] time 0.041 (0.050) data 0.000 (0.010) loss 0.3923 (1.2686) lr 1.9420e-03 eta 0:03:54\n",
      "epoch [95/200] batch [40/44] time 0.040 (0.045) data 0.000 (0.005) loss 1.1895 (1.3283) lr 1.9420e-03 eta 0:03:28\n",
      "Evaluate on the *val* set\n"
     ]
    },
    {
     "name": "stderr",
     "output_type": "stream",
     "text": [
      "\r",
      "  0%|          | 0/2 [00:00<?, ?it/s]\r",
      " 50%|█████     | 1/2 [00:00<00:00,  5.48it/s]\r",
      "100%|██████████| 2/2 [00:00<00:00,  8.00it/s]\n"
     ]
    },
    {
     "name": "stdout",
     "output_type": "stream",
     "text": [
      "=> result\n",
      "* total: 106\n",
      "* correct: 42\n",
      "* accuracy: 39.6%\n",
      "* error: 60.4%\n",
      "* macro_f1: 17.7%\n",
      "epoch [96/200] batch [20/44] time 0.038 (0.049) data 0.000 (0.008) loss 2.3223 (1.4126) lr 1.9147e-03 eta 0:03:47\n",
      "epoch [96/200] batch [40/44] time 0.040 (0.044) data 0.000 (0.004) loss 3.2695 (1.3607) lr 1.9147e-03 eta 0:03:23\n",
      "Evaluate on the *val* set\n"
     ]
    },
    {
     "name": "stderr",
     "output_type": "stream",
     "text": [
      "\r",
      "  0%|          | 0/2 [00:00<?, ?it/s]\r",
      " 50%|█████     | 1/2 [00:00<00:00,  5.66it/s]\r",
      "100%|██████████| 2/2 [00:00<00:00,  8.45it/s]\n"
     ]
    },
    {
     "name": "stdout",
     "output_type": "stream",
     "text": [
      "=> result\n",
      "* total: 106\n",
      "* correct: 37\n",
      "* accuracy: 34.9%\n",
      "* error: 65.1%\n",
      "* macro_f1: 14.9%\n",
      "epoch [97/200] batch [20/44] time 0.042 (0.048) data 0.000 (0.008) loss 1.5645 (1.4242) lr 1.8873e-03 eta 0:03:38\n",
      "epoch [97/200] batch [40/44] time 0.037 (0.044) data 0.000 (0.004) loss 0.8423 (1.4257) lr 1.8873e-03 eta 0:03:18\n",
      "Evaluate on the *val* set\n"
     ]
    },
    {
     "name": "stderr",
     "output_type": "stream",
     "text": [
      "\r",
      "  0%|          | 0/2 [00:00<?, ?it/s]\r",
      " 50%|█████     | 1/2 [00:00<00:00,  5.46it/s]\r",
      "100%|██████████| 2/2 [00:00<00:00,  8.25it/s]\n"
     ]
    },
    {
     "name": "stdout",
     "output_type": "stream",
     "text": [
      "=> result\n",
      "* total: 106\n",
      "* correct: 43\n",
      "* accuracy: 40.6%\n",
      "* error: 59.4%\n",
      "* macro_f1: 18.5%\n",
      "epoch [98/200] batch [20/44] time 0.040 (0.048) data 0.000 (0.009) loss 1.5537 (1.3558) lr 1.8599e-03 eta 0:03:34\n",
      "epoch [98/200] batch [40/44] time 0.040 (0.044) data 0.000 (0.005) loss 1.2627 (1.3507) lr 1.8599e-03 eta 0:03:19\n",
      "Evaluate on the *val* set\n"
     ]
    },
    {
     "name": "stderr",
     "output_type": "stream",
     "text": [
      "\r",
      "  0%|          | 0/2 [00:00<?, ?it/s]\r",
      " 50%|█████     | 1/2 [00:00<00:00,  5.48it/s]\r",
      "100%|██████████| 2/2 [00:00<00:00,  7.94it/s]\n"
     ]
    },
    {
     "name": "stdout",
     "output_type": "stream",
     "text": [
      "=> result\n",
      "* total: 106\n",
      "* correct: 44\n",
      "* accuracy: 41.5%\n",
      "* error: 58.5%\n",
      "* macro_f1: 17.3%\n",
      "epoch [99/200] batch [20/44] time 0.040 (0.048) data 0.000 (0.008) loss 2.7559 (1.3768) lr 1.8324e-03 eta 0:03:34\n",
      "epoch [99/200] batch [40/44] time 0.035 (0.043) data 0.000 (0.004) loss 0.6172 (1.3490) lr 1.8324e-03 eta 0:03:12\n",
      "Evaluate on the *val* set\n"
     ]
    },
    {
     "name": "stderr",
     "output_type": "stream",
     "text": [
      "\r",
      "  0%|          | 0/2 [00:00<?, ?it/s]\r",
      " 50%|█████     | 1/2 [00:00<00:00,  5.09it/s]\r",
      "100%|██████████| 2/2 [00:00<00:00,  7.53it/s]\n"
     ]
    },
    {
     "name": "stdout",
     "output_type": "stream",
     "text": [
      "=> result\n",
      "* total: 106\n",
      "* correct: 45\n",
      "* accuracy: 42.5%\n",
      "* error: 57.5%\n",
      "* macro_f1: 20.4%\n",
      "epoch [100/200] batch [20/44] time 0.040 (0.049) data 0.000 (0.008) loss 0.8311 (1.2037) lr 1.8050e-03 eta 0:03:36\n",
      "epoch [100/200] batch [40/44] time 0.037 (0.044) data 0.000 (0.004) loss 0.9092 (1.3289) lr 1.8050e-03 eta 0:03:15\n",
      "Evaluate on the *val* set\n"
     ]
    },
    {
     "name": "stderr",
     "output_type": "stream",
     "text": [
      "\r",
      "  0%|          | 0/2 [00:00<?, ?it/s]\r",
      " 50%|█████     | 1/2 [00:00<00:00,  5.26it/s]\r",
      "100%|██████████| 2/2 [00:00<00:00,  7.88it/s]\n"
     ]
    },
    {
     "name": "stdout",
     "output_type": "stream",
     "text": [
      "=> result\n",
      "* total: 106\n",
      "* correct: 43\n",
      "* accuracy: 40.6%\n",
      "* error: 59.4%\n",
      "* macro_f1: 20.5%\n",
      "epoch [101/200] batch [20/44] time 0.040 (0.049) data 0.000 (0.008) loss 1.3408 (1.3251) lr 1.7775e-03 eta 0:03:33\n",
      "epoch [101/200] batch [40/44] time 0.040 (0.044) data 0.000 (0.004) loss 2.3906 (1.3585) lr 1.7775e-03 eta 0:03:10\n",
      "Evaluate on the *val* set\n"
     ]
    },
    {
     "name": "stderr",
     "output_type": "stream",
     "text": [
      "\r",
      "  0%|          | 0/2 [00:00<?, ?it/s]\r",
      " 50%|█████     | 1/2 [00:00<00:00,  5.44it/s]\r",
      "100%|██████████| 2/2 [00:00<00:00,  7.83it/s]\n"
     ]
    },
    {
     "name": "stdout",
     "output_type": "stream",
     "text": [
      "=> result\n",
      "* total: 106\n",
      "* correct: 44\n",
      "* accuracy: 41.5%\n",
      "* error: 58.5%\n",
      "* macro_f1: 19.1%\n",
      "epoch [102/200] batch [20/44] time 0.041 (0.048) data 0.000 (0.009) loss 0.6348 (1.5676) lr 1.7500e-03 eta 0:03:28\n",
      "epoch [102/200] batch [40/44] time 0.040 (0.044) data 0.000 (0.005) loss 0.6665 (1.4065) lr 1.7500e-03 eta 0:03:10\n",
      "Evaluate on the *val* set\n"
     ]
    },
    {
     "name": "stderr",
     "output_type": "stream",
     "text": [
      "\r",
      "  0%|          | 0/2 [00:00<?, ?it/s]\r",
      " 50%|█████     | 1/2 [00:00<00:00,  5.38it/s]\r",
      "100%|██████████| 2/2 [00:00<00:00,  7.51it/s]\n"
     ]
    },
    {
     "name": "stdout",
     "output_type": "stream",
     "text": [
      "=> result\n",
      "* total: 106\n",
      "* correct: 44\n",
      "* accuracy: 41.5%\n",
      "* error: 58.5%\n",
      "* macro_f1: 17.4%\n",
      "epoch [103/200] batch [20/44] time 0.041 (0.049) data 0.000 (0.008) loss 0.8296 (1.2004) lr 1.7225e-03 eta 0:03:28\n",
      "epoch [103/200] batch [40/44] time 0.040 (0.044) data 0.000 (0.004) loss 2.5293 (1.2955) lr 1.7225e-03 eta 0:03:09\n",
      "Evaluate on the *val* set\n"
     ]
    },
    {
     "name": "stderr",
     "output_type": "stream",
     "text": [
      "\r",
      "  0%|          | 0/2 [00:00<?, ?it/s]\r",
      " 50%|█████     | 1/2 [00:00<00:00,  5.48it/s]\r",
      "100%|██████████| 2/2 [00:00<00:00,  7.97it/s]\n"
     ]
    },
    {
     "name": "stdout",
     "output_type": "stream",
     "text": [
      "=> result\n",
      "* total: 106\n",
      "* correct: 41\n",
      "* accuracy: 38.7%\n",
      "* error: 61.3%\n",
      "* macro_f1: 17.6%\n",
      "epoch [104/200] batch [20/44] time 0.039 (0.048) data 0.000 (0.008) loss 1.2334 (1.2964) lr 1.6950e-03 eta 0:03:24\n",
      "epoch [104/200] batch [40/44] time 0.038 (0.043) data 0.000 (0.004) loss 1.5654 (1.3255) lr 1.6950e-03 eta 0:03:02\n",
      "Evaluate on the *val* set\n"
     ]
    },
    {
     "name": "stderr",
     "output_type": "stream",
     "text": [
      "\r",
      "  0%|          | 0/2 [00:00<?, ?it/s]\r",
      " 50%|█████     | 1/2 [00:00<00:00,  5.45it/s]\r",
      "100%|██████████| 2/2 [00:00<00:00,  7.93it/s]\n"
     ]
    },
    {
     "name": "stdout",
     "output_type": "stream",
     "text": [
      "=> result\n",
      "* total: 106\n",
      "* correct: 43\n",
      "* accuracy: 40.6%\n",
      "* error: 59.4%\n",
      "* macro_f1: 19.4%\n",
      "epoch [105/200] batch [20/44] time 0.040 (0.050) data 0.000 (0.009) loss 2.1387 (1.2512) lr 1.6676e-03 eta 0:03:31\n",
      "epoch [105/200] batch [40/44] time 0.036 (0.045) data 0.000 (0.005) loss 0.6909 (1.2712) lr 1.6676e-03 eta 0:03:07\n",
      "Evaluate on the *val* set\n"
     ]
    },
    {
     "name": "stderr",
     "output_type": "stream",
     "text": [
      "\r",
      "  0%|          | 0/2 [00:00<?, ?it/s]\r",
      " 50%|█████     | 1/2 [00:00<00:00,  5.13it/s]\r",
      "100%|██████████| 2/2 [00:00<00:00,  7.50it/s]\n"
     ]
    },
    {
     "name": "stdout",
     "output_type": "stream",
     "text": [
      "=> result\n",
      "* total: 106\n",
      "* correct: 38\n",
      "* accuracy: 35.8%\n",
      "* error: 64.2%\n",
      "* macro_f1: 17.5%\n",
      "epoch [106/200] batch [20/44] time 0.040 (0.049) data 0.000 (0.008) loss 0.3833 (1.4281) lr 1.6401e-03 eta 0:03:24\n",
      "epoch [106/200] batch [40/44] time 0.040 (0.045) data 0.000 (0.004) loss 1.0938 (1.4031) lr 1.6401e-03 eta 0:03:04\n",
      "Evaluate on the *val* set\n"
     ]
    },
    {
     "name": "stderr",
     "output_type": "stream",
     "text": [
      "\r",
      "  0%|          | 0/2 [00:00<?, ?it/s]\r",
      " 50%|█████     | 1/2 [00:00<00:00,  5.38it/s]\r",
      "100%|██████████| 2/2 [00:00<00:00,  8.09it/s]\n"
     ]
    },
    {
     "name": "stdout",
     "output_type": "stream",
     "text": [
      "=> result\n",
      "* total: 106\n",
      "* correct: 45\n",
      "* accuracy: 42.5%\n",
      "* error: 57.5%\n",
      "* macro_f1: 23.3%\n",
      "epoch [107/200] batch [20/44] time 0.040 (0.047) data 0.000 (0.008) loss 1.1523 (1.4274) lr 1.6127e-03 eta 0:03:15\n",
      "epoch [107/200] batch [40/44] time 0.041 (0.043) data 0.000 (0.004) loss 0.5615 (1.2869) lr 1.6127e-03 eta 0:02:55\n",
      "Evaluate on the *val* set\n"
     ]
    },
    {
     "name": "stderr",
     "output_type": "stream",
     "text": [
      "\r",
      "  0%|          | 0/2 [00:00<?, ?it/s]\r",
      " 50%|█████     | 1/2 [00:00<00:00,  5.50it/s]\r",
      "100%|██████████| 2/2 [00:00<00:00,  8.28it/s]\n"
     ]
    },
    {
     "name": "stdout",
     "output_type": "stream",
     "text": [
      "=> result\n",
      "* total: 106\n",
      "* correct: 41\n",
      "* accuracy: 38.7%\n",
      "* error: 61.3%\n",
      "* macro_f1: 15.1%\n",
      "epoch [108/200] batch [20/44] time 0.039 (0.049) data 0.000 (0.008) loss 1.7969 (1.3800) lr 1.5853e-03 eta 0:03:20\n",
      "epoch [108/200] batch [40/44] time 0.040 (0.045) data 0.000 (0.004) loss 1.6582 (1.3440) lr 1.5853e-03 eta 0:03:00\n",
      "Evaluate on the *val* set\n"
     ]
    },
    {
     "name": "stderr",
     "output_type": "stream",
     "text": [
      "\r",
      "  0%|          | 0/2 [00:00<?, ?it/s]\r",
      " 50%|█████     | 1/2 [00:00<00:00,  5.47it/s]\r",
      "100%|██████████| 2/2 [00:00<00:00,  7.91it/s]\n"
     ]
    },
    {
     "name": "stdout",
     "output_type": "stream",
     "text": [
      "=> result\n",
      "* total: 106\n",
      "* correct: 41\n",
      "* accuracy: 38.7%\n",
      "* error: 61.3%\n",
      "* macro_f1: 13.1%\n",
      "epoch [109/200] batch [20/44] time 0.039 (0.048) data 0.000 (0.008) loss 0.6963 (1.3076) lr 1.5580e-03 eta 0:03:12\n",
      "epoch [109/200] batch [40/44] time 0.040 (0.044) data 0.000 (0.004) loss 1.2070 (1.3414) lr 1.5580e-03 eta 0:02:56\n",
      "Evaluate on the *val* set\n"
     ]
    },
    {
     "name": "stderr",
     "output_type": "stream",
     "text": [
      "\r",
      "  0%|          | 0/2 [00:00<?, ?it/s]\r",
      " 50%|█████     | 1/2 [00:00<00:00,  5.41it/s]\r",
      "100%|██████████| 2/2 [00:00<00:00,  7.82it/s]\n"
     ]
    },
    {
     "name": "stdout",
     "output_type": "stream",
     "text": [
      "=> result\n",
      "* total: 106\n",
      "* correct: 43\n",
      "* accuracy: 40.6%\n",
      "* error: 59.4%\n",
      "* macro_f1: 16.4%\n",
      "epoch [110/200] batch [20/44] time 0.043 (0.046) data 0.000 (0.010) loss 0.7183 (1.1593) lr 1.5307e-03 eta 0:03:03\n",
      "epoch [110/200] batch [40/44] time 0.040 (0.043) data 0.000 (0.005) loss 1.8848 (1.2759) lr 1.5307e-03 eta 0:02:51\n",
      "Evaluate on the *val* set\n"
     ]
    },
    {
     "name": "stderr",
     "output_type": "stream",
     "text": [
      "\r",
      "  0%|          | 0/2 [00:00<?, ?it/s]\r",
      " 50%|█████     | 1/2 [00:00<00:00,  5.62it/s]\r",
      "100%|██████████| 2/2 [00:00<00:00,  8.22it/s]\n"
     ]
    },
    {
     "name": "stdout",
     "output_type": "stream",
     "text": [
      "=> result\n",
      "* total: 106\n",
      "* correct: 45\n",
      "* accuracy: 42.5%\n",
      "* error: 57.5%\n",
      "* macro_f1: 22.0%\n",
      "epoch [111/200] batch [20/44] time 0.039 (0.052) data 0.000 (0.011) loss 1.3701 (1.2693) lr 1.5034e-03 eta 0:03:25\n",
      "epoch [111/200] batch [40/44] time 0.040 (0.046) data 0.000 (0.006) loss 1.5547 (1.2846) lr 1.5034e-03 eta 0:03:00\n",
      "Evaluate on the *val* set\n"
     ]
    },
    {
     "name": "stderr",
     "output_type": "stream",
     "text": [
      "\r",
      "  0%|          | 0/2 [00:00<?, ?it/s]\r",
      " 50%|█████     | 1/2 [00:00<00:00,  5.52it/s]\r",
      "100%|██████████| 2/2 [00:00<00:00,  8.41it/s]\n"
     ]
    },
    {
     "name": "stdout",
     "output_type": "stream",
     "text": [
      "=> result\n",
      "* total: 106\n",
      "* correct: 39\n",
      "* accuracy: 36.8%\n",
      "* error: 63.2%\n",
      "* macro_f1: 22.4%\n",
      "epoch [112/200] batch [20/44] time 0.043 (0.051) data 0.000 (0.010) loss 0.9478 (1.1867) lr 1.4762e-03 eta 0:03:19\n",
      "epoch [112/200] batch [40/44] time 0.040 (0.046) data 0.000 (0.005) loss 1.2451 (1.3015) lr 1.4762e-03 eta 0:02:56\n",
      "Evaluate on the *val* set\n"
     ]
    },
    {
     "name": "stderr",
     "output_type": "stream",
     "text": [
      "\r",
      "  0%|          | 0/2 [00:00<?, ?it/s]\r",
      " 50%|█████     | 1/2 [00:00<00:00,  5.34it/s]\r",
      "100%|██████████| 2/2 [00:00<00:00,  7.68it/s]\n"
     ]
    },
    {
     "name": "stdout",
     "output_type": "stream",
     "text": [
      "=> result\n",
      "* total: 106\n",
      "* correct: 44\n",
      "* accuracy: 41.5%\n",
      "* error: 58.5%\n",
      "* macro_f1: 19.0%\n",
      "epoch [113/200] batch [20/44] time 0.039 (0.049) data 0.000 (0.009) loss 0.9111 (1.2558) lr 1.4491e-03 eta 0:03:10\n",
      "epoch [113/200] batch [40/44] time 0.040 (0.044) data 0.000 (0.005) loss 1.8887 (1.3523) lr 1.4491e-03 eta 0:02:49\n",
      "Evaluate on the *val* set\n"
     ]
    },
    {
     "name": "stderr",
     "output_type": "stream",
     "text": [
      "\r",
      "  0%|          | 0/2 [00:00<?, ?it/s]\r",
      " 50%|█████     | 1/2 [00:00<00:00,  5.27it/s]\r",
      "100%|██████████| 2/2 [00:00<00:00,  8.01it/s]\n"
     ]
    },
    {
     "name": "stdout",
     "output_type": "stream",
     "text": [
      "=> result\n",
      "* total: 106\n",
      "* correct: 40\n",
      "* accuracy: 37.7%\n",
      "* error: 62.3%\n",
      "* macro_f1: 15.6%\n",
      "epoch [114/200] batch [20/44] time 0.038 (0.049) data 0.000 (0.008) loss 2.1523 (1.3529) lr 1.4221e-03 eta 0:03:05\n",
      "epoch [114/200] batch [40/44] time 0.034 (0.043) data 0.000 (0.004) loss 1.5869 (1.2552) lr 1.4221e-03 eta 0:02:43\n",
      "Evaluate on the *val* set\n"
     ]
    },
    {
     "name": "stderr",
     "output_type": "stream",
     "text": [
      "\r",
      "  0%|          | 0/2 [00:00<?, ?it/s]\r",
      " 50%|█████     | 1/2 [00:00<00:00,  4.88it/s]\r",
      "100%|██████████| 2/2 [00:00<00:00,  7.55it/s]\n"
     ]
    },
    {
     "name": "stdout",
     "output_type": "stream",
     "text": [
      "=> result\n",
      "* total: 106\n",
      "* correct: 46\n",
      "* accuracy: 43.4%\n",
      "* error: 56.6%\n",
      "* macro_f1: 26.0%\n",
      "Checkpoint saved to output/replica/MaPLePromptScene/vit_b16_c2_ep200_batch4_ctx4_depth12_cross_datasets_-1shots/seed1/MultiModalPromptSceneLearner/model-best.pth.tar\n",
      "epoch [115/200] batch [20/44] time 0.042 (0.050) data 0.000 (0.009) loss 2.6270 (1.5081) lr 1.3951e-03 eta 0:03:07\n",
      "epoch [115/200] batch [40/44] time 0.040 (0.045) data 0.000 (0.005) loss 0.9541 (1.4076) lr 1.3951e-03 eta 0:02:47\n",
      "Evaluate on the *val* set\n"
     ]
    },
    {
     "name": "stderr",
     "output_type": "stream",
     "text": [
      "\r",
      "  0%|          | 0/2 [00:00<?, ?it/s]\r",
      " 50%|█████     | 1/2 [00:00<00:00,  5.26it/s]\r",
      "100%|██████████| 2/2 [00:00<00:00,  7.75it/s]\n"
     ]
    },
    {
     "name": "stdout",
     "output_type": "stream",
     "text": [
      "=> result\n",
      "* total: 106\n",
      "* correct: 43\n",
      "* accuracy: 40.6%\n",
      "* error: 59.4%\n",
      "* macro_f1: 21.5%\n",
      "epoch [116/200] batch [20/44] time 0.046 (0.051) data 0.000 (0.010) loss 0.8267 (1.0565) lr 1.3682e-03 eta 0:03:08\n",
      "epoch [116/200] batch [40/44] time 0.031 (0.044) data 0.000 (0.005) loss 0.9307 (1.2490) lr 1.3682e-03 eta 0:02:44\n",
      "Evaluate on the *val* set\n"
     ]
    },
    {
     "name": "stderr",
     "output_type": "stream",
     "text": [
      "\r",
      "  0%|          | 0/2 [00:00<?, ?it/s]\r",
      " 50%|█████     | 1/2 [00:00<00:00,  5.08it/s]\r",
      "100%|██████████| 2/2 [00:00<00:00,  7.73it/s]\n"
     ]
    },
    {
     "name": "stdout",
     "output_type": "stream",
     "text": [
      "=> result\n",
      "* total: 106\n",
      "* correct: 42\n",
      "* accuracy: 39.6%\n",
      "* error: 60.4%\n",
      "* macro_f1: 17.9%\n",
      "epoch [117/200] batch [20/44] time 0.038 (0.044) data 0.000 (0.008) loss 1.2402 (1.5434) lr 1.3415e-03 eta 0:02:41\n",
      "epoch [117/200] batch [40/44] time 0.037 (0.041) data 0.000 (0.004) loss 0.8896 (1.2883) lr 1.3415e-03 eta 0:02:29\n",
      "Evaluate on the *val* set\n"
     ]
    },
    {
     "name": "stderr",
     "output_type": "stream",
     "text": [
      "\r",
      "  0%|          | 0/2 [00:00<?, ?it/s]\r",
      " 50%|█████     | 1/2 [00:00<00:00,  5.32it/s]\r",
      "100%|██████████| 2/2 [00:00<00:00,  7.86it/s]\n"
     ]
    },
    {
     "name": "stdout",
     "output_type": "stream",
     "text": [
      "=> result\n",
      "* total: 106\n",
      "* correct: 43\n",
      "* accuracy: 40.6%\n",
      "* error: 59.4%\n",
      "* macro_f1: 19.6%\n",
      "epoch [118/200] batch [20/44] time 0.040 (0.049) data 0.000 (0.009) loss 0.5132 (1.1391) lr 1.3148e-03 eta 0:02:58\n",
      "epoch [118/200] batch [40/44] time 0.040 (0.044) data 0.000 (0.005) loss 1.0459 (1.2475) lr 1.3148e-03 eta 0:02:40\n",
      "Evaluate on the *val* set\n"
     ]
    },
    {
     "name": "stderr",
     "output_type": "stream",
     "text": [
      "\r",
      "  0%|          | 0/2 [00:00<?, ?it/s]\r",
      " 50%|█████     | 1/2 [00:00<00:00,  5.33it/s]\r",
      "100%|██████████| 2/2 [00:00<00:00,  7.84it/s]\n"
     ]
    },
    {
     "name": "stdout",
     "output_type": "stream",
     "text": [
      "=> result\n",
      "* total: 106\n",
      "* correct: 43\n",
      "* accuracy: 40.6%\n",
      "* error: 59.4%\n",
      "* macro_f1: 19.3%\n",
      "epoch [119/200] batch [20/44] time 0.039 (0.048) data 0.000 (0.010) loss 1.0635 (1.1989) lr 1.2882e-03 eta 0:02:53\n",
      "epoch [119/200] batch [40/44] time 0.035 (0.042) data 0.000 (0.005) loss 0.5708 (1.2424) lr 1.2882e-03 eta 0:02:29\n",
      "Evaluate on the *val* set\n"
     ]
    },
    {
     "name": "stderr",
     "output_type": "stream",
     "text": [
      "\r",
      "  0%|          | 0/2 [00:00<?, ?it/s]\r",
      " 50%|█████     | 1/2 [00:00<00:00,  5.17it/s]\r",
      "100%|██████████| 2/2 [00:00<00:00,  7.78it/s]\n"
     ]
    },
    {
     "name": "stdout",
     "output_type": "stream",
     "text": [
      "=> result\n",
      "* total: 106\n",
      "* correct: 46\n",
      "* accuracy: 43.4%\n",
      "* error: 56.6%\n",
      "* macro_f1: 25.0%\n",
      "epoch [120/200] batch [20/44] time 0.039 (0.047) data 0.000 (0.010) loss 0.7451 (1.1592) lr 1.2618e-03 eta 0:02:44\n",
      "epoch [120/200] batch [40/44] time 0.040 (0.043) data 0.000 (0.005) loss 0.8774 (1.1998) lr 1.2618e-03 eta 0:02:32\n",
      "Evaluate on the *val* set\n"
     ]
    },
    {
     "name": "stderr",
     "output_type": "stream",
     "text": [
      "\r",
      "  0%|          | 0/2 [00:00<?, ?it/s]\r",
      " 50%|█████     | 1/2 [00:00<00:00,  5.47it/s]\r",
      "100%|██████████| 2/2 [00:00<00:00,  8.25it/s]\n"
     ]
    },
    {
     "name": "stdout",
     "output_type": "stream",
     "text": [
      "=> result\n",
      "* total: 106\n",
      "* correct: 44\n",
      "* accuracy: 41.5%\n",
      "* error: 58.5%\n",
      "* macro_f1: 18.9%\n",
      "epoch [121/200] batch [20/44] time 0.042 (0.048) data 0.000 (0.009) loss 0.9316 (1.1652) lr 1.2354e-03 eta 0:02:47\n",
      "epoch [121/200] batch [40/44] time 0.034 (0.044) data 0.000 (0.004) loss 0.2100 (1.1925) lr 1.2354e-03 eta 0:02:31\n",
      "Evaluate on the *val* set\n"
     ]
    },
    {
     "name": "stderr",
     "output_type": "stream",
     "text": [
      "\r",
      "  0%|          | 0/2 [00:00<?, ?it/s]\r",
      " 50%|█████     | 1/2 [00:00<00:00,  5.38it/s]\r",
      "100%|██████████| 2/2 [00:00<00:00,  8.03it/s]\n"
     ]
    },
    {
     "name": "stdout",
     "output_type": "stream",
     "text": [
      "=> result\n",
      "* total: 106\n",
      "* correct: 42\n",
      "* accuracy: 39.6%\n",
      "* error: 60.4%\n",
      "* macro_f1: 18.2%\n",
      "epoch [122/200] batch [20/44] time 0.042 (0.051) data 0.000 (0.010) loss 2.5391 (1.2138) lr 1.2092e-03 eta 0:02:55\n",
      "epoch [122/200] batch [40/44] time 0.038 (0.045) data 0.000 (0.005) loss 1.6523 (1.2072) lr 1.2092e-03 eta 0:02:32\n",
      "Evaluate on the *val* set\n"
     ]
    },
    {
     "name": "stderr",
     "output_type": "stream",
     "text": [
      "\r",
      "  0%|          | 0/2 [00:00<?, ?it/s]\r",
      " 50%|█████     | 1/2 [00:00<00:00,  5.40it/s]\r",
      "100%|██████████| 2/2 [00:00<00:00,  8.10it/s]\n"
     ]
    },
    {
     "name": "stdout",
     "output_type": "stream",
     "text": [
      "=> result\n",
      "* total: 106\n",
      "* correct: 42\n",
      "* accuracy: 39.6%\n",
      "* error: 60.4%\n",
      "* macro_f1: 17.9%\n",
      "epoch [123/200] batch [20/44] time 0.041 (0.050) data 0.000 (0.009) loss 0.6670 (1.1608) lr 1.1831e-03 eta 0:02:51\n",
      "epoch [123/200] batch [40/44] time 0.037 (0.045) data 0.000 (0.005) loss 2.0625 (1.2006) lr 1.1831e-03 eta 0:02:32\n",
      "Evaluate on the *val* set\n"
     ]
    },
    {
     "name": "stderr",
     "output_type": "stream",
     "text": [
      "\r",
      "  0%|          | 0/2 [00:00<?, ?it/s]\r",
      " 50%|█████     | 1/2 [00:00<00:00,  5.41it/s]\r",
      "100%|██████████| 2/2 [00:00<00:00,  7.89it/s]\n"
     ]
    },
    {
     "name": "stdout",
     "output_type": "stream",
     "text": [
      "=> result\n",
      "* total: 106\n",
      "* correct: 43\n",
      "* accuracy: 40.6%\n",
      "* error: 59.4%\n",
      "* macro_f1: 17.6%\n",
      "epoch [124/200] batch [20/44] time 0.037 (0.049) data 0.000 (0.009) loss 1.1299 (1.2029) lr 1.1572e-03 eta 0:02:43\n",
      "epoch [124/200] batch [40/44] time 0.040 (0.044) data 0.000 (0.005) loss 1.8633 (1.2507) lr 1.1572e-03 eta 0:02:25\n",
      "Evaluate on the *val* set\n"
     ]
    },
    {
     "name": "stderr",
     "output_type": "stream",
     "text": [
      "\r",
      "  0%|          | 0/2 [00:00<?, ?it/s]\r",
      " 50%|█████     | 1/2 [00:00<00:00,  5.67it/s]\r",
      "100%|██████████| 2/2 [00:00<00:00,  8.52it/s]\n"
     ]
    },
    {
     "name": "stdout",
     "output_type": "stream",
     "text": [
      "=> result\n",
      "* total: 106\n",
      "* correct: 46\n",
      "* accuracy: 43.4%\n",
      "* error: 56.6%\n",
      "* macro_f1: 26.3%\n",
      "epoch [125/200] batch [20/44] time 0.041 (0.049) data 0.000 (0.008) loss 0.5400 (0.9988) lr 1.1314e-03 eta 0:02:41\n",
      "epoch [125/200] batch [40/44] time 0.040 (0.044) data 0.000 (0.004) loss 1.4453 (1.1192) lr 1.1314e-03 eta 0:02:26\n",
      "Evaluate on the *val* set\n"
     ]
    },
    {
     "name": "stderr",
     "output_type": "stream",
     "text": [
      "\r",
      "  0%|          | 0/2 [00:00<?, ?it/s]\r",
      " 50%|█████     | 1/2 [00:00<00:00,  5.19it/s]\r",
      "100%|██████████| 2/2 [00:00<00:00,  7.79it/s]\n"
     ]
    },
    {
     "name": "stdout",
     "output_type": "stream",
     "text": [
      "=> result\n",
      "* total: 106\n",
      "* correct: 42\n",
      "* accuracy: 39.6%\n",
      "* error: 60.4%\n",
      "* macro_f1: 18.9%\n",
      "epoch [126/200] batch [20/44] time 0.041 (0.050) data 0.000 (0.010) loss 1.5215 (1.1786) lr 1.1058e-03 eta 0:02:45\n",
      "epoch [126/200] batch [40/44] time 0.040 (0.045) data 0.000 (0.005) loss 1.3867 (1.1495) lr 1.1058e-03 eta 0:02:26\n",
      "Evaluate on the *val* set\n"
     ]
    },
    {
     "name": "stderr",
     "output_type": "stream",
     "text": [
      "\r",
      "  0%|          | 0/2 [00:00<?, ?it/s]\r",
      " 50%|█████     | 1/2 [00:00<00:00,  5.37it/s]\r",
      "100%|██████████| 2/2 [00:00<00:00,  7.77it/s]\n"
     ]
    },
    {
     "name": "stdout",
     "output_type": "stream",
     "text": [
      "=> result\n",
      "* total: 106\n",
      "* correct: 47\n",
      "* accuracy: 44.3%\n",
      "* error: 55.7%\n",
      "* macro_f1: 26.8%\n",
      "Checkpoint saved to output/replica/MaPLePromptScene/vit_b16_c2_ep200_batch4_ctx4_depth12_cross_datasets_-1shots/seed1/MultiModalPromptSceneLearner/model-best.pth.tar\n",
      "epoch [127/200] batch [20/44] time 0.026 (0.049) data 0.000 (0.010) loss 1.2021 (1.1136) lr 1.0803e-03 eta 0:02:38\n",
      "epoch [127/200] batch [40/44] time 0.032 (0.042) data 0.000 (0.005) loss 1.4863 (1.1490) lr 1.0803e-03 eta 0:02:15\n",
      "Evaluate on the *val* set\n"
     ]
    },
    {
     "name": "stderr",
     "output_type": "stream",
     "text": [
      "\r",
      "  0%|          | 0/2 [00:00<?, ?it/s]\r",
      " 50%|█████     | 1/2 [00:00<00:00,  5.54it/s]\r",
      "100%|██████████| 2/2 [00:00<00:00,  8.13it/s]\n"
     ]
    },
    {
     "name": "stdout",
     "output_type": "stream",
     "text": [
      "=> result\n",
      "* total: 106\n",
      "* correct: 44\n",
      "* accuracy: 41.5%\n",
      "* error: 58.5%\n",
      "* macro_f1: 25.6%\n",
      "epoch [128/200] batch [20/44] time 0.039 (0.047) data 0.000 (0.008) loss 2.9375 (1.0732) lr 1.0550e-03 eta 0:02:30\n",
      "epoch [128/200] batch [40/44] time 0.040 (0.043) data 0.000 (0.004) loss 0.6758 (1.1166) lr 1.0550e-03 eta 0:02:15\n",
      "Evaluate on the *val* set\n"
     ]
    },
    {
     "name": "stderr",
     "output_type": "stream",
     "text": [
      "\r",
      "  0%|          | 0/2 [00:00<?, ?it/s]\r",
      " 50%|█████     | 1/2 [00:00<00:00,  5.75it/s]\r",
      "100%|██████████| 2/2 [00:00<00:00,  8.06it/s]\n"
     ]
    },
    {
     "name": "stdout",
     "output_type": "stream",
     "text": [
      "=> result\n",
      "* total: 106\n",
      "* correct: 46\n",
      "* accuracy: 43.4%\n",
      "* error: 56.6%\n",
      "* macro_f1: 23.2%\n",
      "epoch [129/200] batch [20/44] time 0.041 (0.048) data 0.000 (0.009) loss 0.2729 (1.0427) lr 1.0298e-03 eta 0:02:31\n",
      "epoch [129/200] batch [40/44] time 0.040 (0.044) data 0.000 (0.005) loss 0.6343 (1.1652) lr 1.0298e-03 eta 0:02:17\n",
      "Evaluate on the *val* set\n"
     ]
    },
    {
     "name": "stderr",
     "output_type": "stream",
     "text": [
      "\r",
      "  0%|          | 0/2 [00:00<?, ?it/s]\r",
      " 50%|█████     | 1/2 [00:00<00:00,  5.02it/s]\r",
      "100%|██████████| 2/2 [00:00<00:00,  7.42it/s]\n"
     ]
    },
    {
     "name": "stdout",
     "output_type": "stream",
     "text": [
      "=> result\n",
      "* total: 106\n",
      "* correct: 45\n",
      "* accuracy: 42.5%\n",
      "* error: 57.5%\n",
      "* macro_f1: 20.5%\n",
      "epoch [130/200] batch [20/44] time 0.041 (0.045) data 0.000 (0.008) loss 1.4619 (1.2688) lr 1.0049e-03 eta 0:02:19\n",
      "epoch [130/200] batch [40/44] time 0.041 (0.042) data 0.000 (0.004) loss 0.6206 (1.1866) lr 1.0049e-03 eta 0:02:09\n",
      "Evaluate on the *val* set\n"
     ]
    },
    {
     "name": "stderr",
     "output_type": "stream",
     "text": [
      "\r",
      "  0%|          | 0/2 [00:00<?, ?it/s]\r",
      " 50%|█████     | 1/2 [00:00<00:00,  5.64it/s]\r",
      "100%|██████████| 2/2 [00:00<00:00,  8.35it/s]\n"
     ]
    },
    {
     "name": "stdout",
     "output_type": "stream",
     "text": [
      "=> result\n",
      "* total: 106\n",
      "* correct: 39\n",
      "* accuracy: 36.8%\n",
      "* error: 63.2%\n",
      "* macro_f1: 19.2%\n",
      "epoch [131/200] batch [20/44] time 0.039 (0.049) data 0.000 (0.009) loss 1.0850 (1.0012) lr 9.8011e-04 eta 0:02:31\n",
      "epoch [131/200] batch [40/44] time 0.040 (0.044) data 0.000 (0.004) loss 1.6416 (1.1054) lr 9.8011e-04 eta 0:02:15\n",
      "Evaluate on the *val* set\n"
     ]
    },
    {
     "name": "stderr",
     "output_type": "stream",
     "text": [
      "\r",
      "  0%|          | 0/2 [00:00<?, ?it/s]\r",
      " 50%|█████     | 1/2 [00:00<00:00,  5.60it/s]\r",
      "100%|██████████| 2/2 [00:00<00:00,  8.09it/s]\n"
     ]
    },
    {
     "name": "stdout",
     "output_type": "stream",
     "text": [
      "=> result\n",
      "* total: 106\n",
      "* correct: 46\n",
      "* accuracy: 43.4%\n",
      "* error: 56.6%\n",
      "* macro_f1: 25.9%\n",
      "epoch [132/200] batch [20/44] time 0.041 (0.048) data 0.000 (0.008) loss 1.4404 (1.1985) lr 9.5552e-04 eta 0:02:25\n",
      "epoch [132/200] batch [40/44] time 0.040 (0.043) data 0.000 (0.004) loss 1.2803 (1.1844) lr 9.5552e-04 eta 0:02:08\n",
      "Evaluate on the *val* set\n"
     ]
    },
    {
     "name": "stderr",
     "output_type": "stream",
     "text": [
      "\r",
      "  0%|          | 0/2 [00:00<?, ?it/s]\r",
      " 50%|█████     | 1/2 [00:00<00:00,  5.54it/s]\r",
      "100%|██████████| 2/2 [00:00<00:00,  7.95it/s]\n"
     ]
    },
    {
     "name": "stdout",
     "output_type": "stream",
     "text": [
      "=> result\n",
      "* total: 106\n",
      "* correct: 43\n",
      "* accuracy: 40.6%\n",
      "* error: 59.4%\n",
      "* macro_f1: 22.7%\n",
      "epoch [133/200] batch [20/44] time 0.039 (0.049) data 0.000 (0.008) loss 0.8218 (1.1440) lr 9.3112e-04 eta 0:02:26\n",
      "epoch [133/200] batch [40/44] time 0.040 (0.045) data 0.000 (0.004) loss 1.4443 (1.1564) lr 9.3112e-04 eta 0:02:11\n",
      "Evaluate on the *val* set\n"
     ]
    },
    {
     "name": "stderr",
     "output_type": "stream",
     "text": [
      "\r",
      "  0%|          | 0/2 [00:00<?, ?it/s]\r",
      " 50%|█████     | 1/2 [00:00<00:00,  5.02it/s]\r",
      "100%|██████████| 2/2 [00:00<00:00,  7.41it/s]\n"
     ]
    },
    {
     "name": "stdout",
     "output_type": "stream",
     "text": [
      "=> result\n",
      "* total: 106\n",
      "* correct: 39\n",
      "* accuracy: 36.8%\n",
      "* error: 63.2%\n",
      "* macro_f1: 21.0%\n",
      "epoch [134/200] batch [20/44] time 0.038 (0.049) data 0.000 (0.008) loss 2.4414 (1.1530) lr 9.0693e-04 eta 0:02:24\n",
      "epoch [134/200] batch [40/44] time 0.038 (0.042) data 0.000 (0.004) loss 1.4561 (1.1539) lr 9.0693e-04 eta 0:02:03\n",
      "Evaluate on the *val* set\n"
     ]
    },
    {
     "name": "stderr",
     "output_type": "stream",
     "text": [
      "\r",
      "  0%|          | 0/2 [00:00<?, ?it/s]\r",
      " 50%|█████     | 1/2 [00:00<00:00,  5.44it/s]\r",
      "100%|██████████| 2/2 [00:00<00:00,  8.11it/s]\n"
     ]
    },
    {
     "name": "stdout",
     "output_type": "stream",
     "text": [
      "=> result\n",
      "* total: 106\n",
      "* correct: 45\n",
      "* accuracy: 42.5%\n",
      "* error: 57.5%\n",
      "* macro_f1: 24.9%\n",
      "epoch [135/200] batch [20/44] time 0.040 (0.049) data 0.000 (0.009) loss 0.9863 (1.1235) lr 8.8295e-04 eta 0:02:21\n",
      "epoch [135/200] batch [40/44] time 0.040 (0.044) data 0.000 (0.005) loss 1.0654 (1.1273) lr 8.8295e-04 eta 0:02:07\n",
      "Evaluate on the *val* set\n"
     ]
    },
    {
     "name": "stderr",
     "output_type": "stream",
     "text": [
      "\r",
      "  0%|          | 0/2 [00:00<?, ?it/s]\r",
      " 50%|█████     | 1/2 [00:00<00:00,  5.75it/s]\r",
      "100%|██████████| 2/2 [00:00<00:00,  8.29it/s]\n"
     ]
    },
    {
     "name": "stdout",
     "output_type": "stream",
     "text": [
      "=> result\n",
      "* total: 106\n",
      "* correct: 47\n",
      "* accuracy: 44.3%\n",
      "* error: 55.7%\n",
      "* macro_f1: 27.4%\n",
      "epoch [136/200] batch [20/44] time 0.040 (0.050) data 0.000 (0.010) loss 0.7314 (1.0941) lr 8.5918e-04 eta 0:02:21\n",
      "epoch [136/200] batch [40/44] time 0.038 (0.045) data 0.000 (0.005) loss 2.1426 (1.1494) lr 8.5918e-04 eta 0:02:05\n",
      "Evaluate on the *val* set\n"
     ]
    },
    {
     "name": "stderr",
     "output_type": "stream",
     "text": [
      "\r",
      "  0%|          | 0/2 [00:00<?, ?it/s]\r",
      " 50%|█████     | 1/2 [00:00<00:00,  5.40it/s]\r",
      "100%|██████████| 2/2 [00:00<00:00,  8.16it/s]\n"
     ]
    },
    {
     "name": "stdout",
     "output_type": "stream",
     "text": [
      "=> result\n",
      "* total: 106\n",
      "* correct: 45\n",
      "* accuracy: 42.5%\n",
      "* error: 57.5%\n",
      "* macro_f1: 23.2%\n",
      "epoch [137/200] batch [20/44] time 0.042 (0.049) data 0.000 (0.008) loss 0.6401 (1.0655) lr 8.3563e-04 eta 0:02:17\n",
      "epoch [137/200] batch [40/44] time 0.040 (0.045) data 0.000 (0.004) loss 0.8193 (1.0951) lr 8.3563e-04 eta 0:02:03\n",
      "Evaluate on the *val* set\n"
     ]
    },
    {
     "name": "stderr",
     "output_type": "stream",
     "text": [
      "\r",
      "  0%|          | 0/2 [00:00<?, ?it/s]\r",
      " 50%|█████     | 1/2 [00:00<00:00,  5.25it/s]\r",
      "100%|██████████| 2/2 [00:00<00:00,  7.34it/s]\n"
     ]
    },
    {
     "name": "stdout",
     "output_type": "stream",
     "text": [
      "=> result\n",
      "* total: 106\n",
      "* correct: 48\n",
      "* accuracy: 45.3%\n",
      "* error: 54.7%\n",
      "* macro_f1: 26.5%\n",
      "Checkpoint saved to output/replica/MaPLePromptScene/vit_b16_c2_ep200_batch4_ctx4_depth12_cross_datasets_-1shots/seed1/MultiModalPromptSceneLearner/model-best.pth.tar\n",
      "epoch [138/200] batch [20/44] time 0.038 (0.051) data 0.000 (0.011) loss 1.2383 (1.1287) lr 8.1230e-04 eta 0:02:20\n",
      "epoch [138/200] batch [40/44] time 0.041 (0.045) data 0.000 (0.005) loss 0.4922 (1.1830) lr 8.1230e-04 eta 0:02:02\n",
      "Evaluate on the *val* set\n"
     ]
    },
    {
     "name": "stderr",
     "output_type": "stream",
     "text": [
      "\r",
      "  0%|          | 0/2 [00:00<?, ?it/s]\r",
      " 50%|█████     | 1/2 [00:00<00:00,  5.38it/s]\r",
      "100%|██████████| 2/2 [00:00<00:00,  7.89it/s]\n"
     ]
    },
    {
     "name": "stdout",
     "output_type": "stream",
     "text": [
      "=> result\n",
      "* total: 106\n",
      "* correct: 46\n",
      "* accuracy: 43.4%\n",
      "* error: 56.6%\n",
      "* macro_f1: 23.5%\n",
      "epoch [139/200] batch [20/44] time 0.038 (0.048) data 0.000 (0.008) loss 0.9434 (1.0826) lr 7.8921e-04 eta 0:02:09\n",
      "epoch [139/200] batch [40/44] time 0.033 (0.044) data 0.000 (0.004) loss 1.3438 (1.0925) lr 7.8921e-04 eta 0:01:57\n",
      "Evaluate on the *val* set\n"
     ]
    },
    {
     "name": "stderr",
     "output_type": "stream",
     "text": [
      "\r",
      "  0%|          | 0/2 [00:00<?, ?it/s]\r",
      " 50%|█████     | 1/2 [00:00<00:00,  5.45it/s]\r",
      "100%|██████████| 2/2 [00:00<00:00,  7.85it/s]\n"
     ]
    },
    {
     "name": "stdout",
     "output_type": "stream",
     "text": [
      "=> result\n",
      "* total: 106\n",
      "* correct: 46\n",
      "* accuracy: 43.4%\n",
      "* error: 56.6%\n",
      "* macro_f1: 24.3%\n",
      "epoch [140/200] batch [20/44] time 0.041 (0.051) data 0.000 (0.010) loss 1.6172 (1.0825) lr 7.6635e-04 eta 0:02:16\n",
      "epoch [140/200] batch [40/44] time 0.038 (0.045) data 0.000 (0.005) loss 1.8252 (1.1122) lr 7.6635e-04 eta 0:01:59\n",
      "Evaluate on the *val* set\n"
     ]
    },
    {
     "name": "stderr",
     "output_type": "stream",
     "text": [
      "\r",
      "  0%|          | 0/2 [00:00<?, ?it/s]\r",
      " 50%|█████     | 1/2 [00:00<00:00,  5.57it/s]\r",
      "100%|██████████| 2/2 [00:00<00:00,  8.04it/s]\n"
     ]
    },
    {
     "name": "stdout",
     "output_type": "stream",
     "text": [
      "=> result\n",
      "* total: 106\n",
      "* correct: 43\n",
      "* accuracy: 40.6%\n",
      "* error: 59.4%\n",
      "* macro_f1: 18.0%\n",
      "epoch [141/200] batch [20/44] time 0.043 (0.049) data 0.000 (0.009) loss 0.5444 (1.0794) lr 7.4374e-04 eta 0:02:09\n",
      "epoch [141/200] batch [40/44] time 0.042 (0.045) data 0.000 (0.005) loss 0.7344 (1.0489) lr 7.4374e-04 eta 0:01:56\n",
      "Evaluate on the *val* set\n"
     ]
    },
    {
     "name": "stderr",
     "output_type": "stream",
     "text": [
      "\r",
      "  0%|          | 0/2 [00:00<?, ?it/s]\r",
      " 50%|█████     | 1/2 [00:00<00:00,  5.38it/s]\r",
      "100%|██████████| 2/2 [00:00<00:00,  7.99it/s]\n"
     ]
    },
    {
     "name": "stdout",
     "output_type": "stream",
     "text": [
      "=> result\n",
      "* total: 106\n",
      "* correct: 47\n",
      "* accuracy: 44.3%\n",
      "* error: 55.7%\n",
      "* macro_f1: 25.7%\n",
      "epoch [142/200] batch [20/44] time 0.041 (0.048) data 0.000 (0.008) loss 0.3259 (1.0376) lr 7.2138e-04 eta 0:02:03\n",
      "epoch [142/200] batch [40/44] time 0.040 (0.044) data 0.000 (0.004) loss 1.3926 (1.0502) lr 7.2138e-04 eta 0:01:52\n",
      "Evaluate on the *val* set\n"
     ]
    },
    {
     "name": "stderr",
     "output_type": "stream",
     "text": [
      "\r",
      "  0%|          | 0/2 [00:00<?, ?it/s]\r",
      " 50%|█████     | 1/2 [00:00<00:00,  5.25it/s]\r",
      "100%|██████████| 2/2 [00:00<00:00,  7.97it/s]\n"
     ]
    },
    {
     "name": "stdout",
     "output_type": "stream",
     "text": [
      "=> result\n",
      "* total: 106\n",
      "* correct: 46\n",
      "* accuracy: 43.4%\n",
      "* error: 56.6%\n",
      "* macro_f1: 26.2%\n",
      "epoch [143/200] batch [20/44] time 0.041 (0.049) data 0.000 (0.009) loss 0.5596 (1.0630) lr 6.9926e-04 eta 0:02:04\n",
      "epoch [143/200] batch [40/44] time 0.040 (0.045) data 0.000 (0.005) loss 0.5288 (1.0335) lr 6.9926e-04 eta 0:01:52\n",
      "Evaluate on the *val* set\n"
     ]
    },
    {
     "name": "stderr",
     "output_type": "stream",
     "text": [
      "\r",
      "  0%|          | 0/2 [00:00<?, ?it/s]\r",
      " 50%|█████     | 1/2 [00:00<00:00,  5.58it/s]\r",
      "100%|██████████| 2/2 [00:00<00:00,  8.06it/s]\n"
     ]
    },
    {
     "name": "stdout",
     "output_type": "stream",
     "text": [
      "=> result\n",
      "* total: 106\n",
      "* correct: 46\n",
      "* accuracy: 43.4%\n",
      "* error: 56.6%\n",
      "* macro_f1: 28.8%\n",
      "epoch [144/200] batch [20/44] time 0.040 (0.049) data 0.000 (0.009) loss 1.5586 (0.9220) lr 6.7741e-04 eta 0:02:01\n",
      "epoch [144/200] batch [40/44] time 0.040 (0.044) data 0.000 (0.005) loss 0.8872 (1.0231) lr 6.7741e-04 eta 0:01:49\n",
      "Evaluate on the *val* set\n"
     ]
    },
    {
     "name": "stderr",
     "output_type": "stream",
     "text": [
      "\r",
      "  0%|          | 0/2 [00:00<?, ?it/s]\r",
      " 50%|█████     | 1/2 [00:00<00:00,  5.71it/s]\r",
      "100%|██████████| 2/2 [00:00<00:00,  8.25it/s]\n"
     ]
    },
    {
     "name": "stdout",
     "output_type": "stream",
     "text": [
      "=> result\n",
      "* total: 106\n",
      "* correct: 48\n",
      "* accuracy: 45.3%\n",
      "* error: 54.7%\n",
      "* macro_f1: 26.1%\n",
      "epoch [145/200] batch [20/44] time 0.041 (0.050) data 0.000 (0.009) loss 0.6655 (0.9500) lr 6.5583e-04 eta 0:02:01\n",
      "epoch [145/200] batch [40/44] time 0.040 (0.045) data 0.000 (0.005) loss 1.6074 (0.9923) lr 6.5583e-04 eta 0:01:48\n",
      "Evaluate on the *val* set\n"
     ]
    },
    {
     "name": "stderr",
     "output_type": "stream",
     "text": [
      "\r",
      "  0%|          | 0/2 [00:00<?, ?it/s]\r",
      " 50%|█████     | 1/2 [00:00<00:00,  5.40it/s]\r",
      "100%|██████████| 2/2 [00:00<00:00,  8.14it/s]\n"
     ]
    },
    {
     "name": "stdout",
     "output_type": "stream",
     "text": [
      "=> result\n",
      "* total: 106\n",
      "* correct: 46\n",
      "* accuracy: 43.4%\n",
      "* error: 56.6%\n",
      "* macro_f1: 23.0%\n",
      "epoch [146/200] batch [20/44] time 0.040 (0.049) data 0.000 (0.010) loss 0.7583 (1.0700) lr 6.3451e-04 eta 0:01:57\n",
      "epoch [146/200] batch [40/44] time 0.041 (0.043) data 0.000 (0.005) loss 1.1953 (1.0714) lr 6.3451e-04 eta 0:01:43\n",
      "Evaluate on the *val* set\n"
     ]
    },
    {
     "name": "stderr",
     "output_type": "stream",
     "text": [
      "\r",
      "  0%|          | 0/2 [00:00<?, ?it/s]\r",
      " 50%|█████     | 1/2 [00:00<00:00,  4.87it/s]\r",
      "100%|██████████| 2/2 [00:00<00:00,  7.38it/s]\n"
     ]
    },
    {
     "name": "stdout",
     "output_type": "stream",
     "text": [
      "=> result\n",
      "* total: 106\n",
      "* correct: 47\n",
      "* accuracy: 44.3%\n",
      "* error: 55.7%\n",
      "* macro_f1: 26.1%\n",
      "epoch [147/200] batch [20/44] time 0.040 (0.048) data 0.000 (0.009) loss 1.1338 (0.8937) lr 6.1347e-04 eta 0:01:52\n",
      "epoch [147/200] batch [40/44] time 0.040 (0.044) data 0.000 (0.005) loss 0.6138 (1.0465) lr 6.1347e-04 eta 0:01:41\n",
      "Evaluate on the *val* set\n"
     ]
    },
    {
     "name": "stderr",
     "output_type": "stream",
     "text": [
      "\r",
      "  0%|          | 0/2 [00:00<?, ?it/s]\r",
      " 50%|█████     | 1/2 [00:00<00:00,  5.48it/s]\r",
      "100%|██████████| 2/2 [00:00<00:00,  8.31it/s]\n"
     ]
    },
    {
     "name": "stdout",
     "output_type": "stream",
     "text": [
      "=> result\n",
      "* total: 106\n",
      "* correct: 47\n",
      "* accuracy: 44.3%\n",
      "* error: 55.7%\n",
      "* macro_f1: 26.4%\n",
      "epoch [148/200] batch [20/44] time 0.038 (0.048) data 0.000 (0.009) loss 1.8076 (0.8568) lr 5.9270e-04 eta 0:01:50\n",
      "epoch [148/200] batch [40/44] time 0.039 (0.044) data 0.000 (0.004) loss 1.6650 (1.0066) lr 5.9270e-04 eta 0:01:40\n",
      "Evaluate on the *val* set\n"
     ]
    },
    {
     "name": "stderr",
     "output_type": "stream",
     "text": [
      "\r",
      "  0%|          | 0/2 [00:00<?, ?it/s]\r",
      " 50%|█████     | 1/2 [00:00<00:00,  5.63it/s]\r",
      "100%|██████████| 2/2 [00:00<00:00,  8.25it/s]\n"
     ]
    },
    {
     "name": "stdout",
     "output_type": "stream",
     "text": [
      "=> result\n",
      "* total: 106\n",
      "* correct: 43\n",
      "* accuracy: 40.6%\n",
      "* error: 59.4%\n",
      "* macro_f1: 25.5%\n",
      "epoch [149/200] batch [20/44] time 0.040 (0.051) data 0.000 (0.011) loss 0.3848 (0.8788) lr 5.7223e-04 eta 0:01:56\n",
      "epoch [149/200] batch [40/44] time 0.039 (0.045) data 0.000 (0.005) loss 1.7666 (0.9714) lr 5.7223e-04 eta 0:01:41\n",
      "Evaluate on the *val* set\n"
     ]
    },
    {
     "name": "stderr",
     "output_type": "stream",
     "text": [
      "\r",
      "  0%|          | 0/2 [00:00<?, ?it/s]\r",
      " 50%|█████     | 1/2 [00:00<00:00,  5.44it/s]\r",
      "100%|██████████| 2/2 [00:00<00:00,  7.71it/s]\n"
     ]
    },
    {
     "name": "stdout",
     "output_type": "stream",
     "text": [
      "=> result\n",
      "* total: 106\n",
      "* correct: 46\n",
      "* accuracy: 43.4%\n",
      "* error: 56.6%\n",
      "* macro_f1: 24.5%\n",
      "epoch [150/200] batch [20/44] time 0.039 (0.049) data 0.000 (0.010) loss 0.4807 (1.0493) lr 5.5204e-04 eta 0:01:49\n",
      "epoch [150/200] batch [40/44] time 0.026 (0.044) data 0.000 (0.005) loss 0.6968 (0.9996) lr 5.5204e-04 eta 0:01:36\n",
      "Evaluate on the *val* set\n"
     ]
    },
    {
     "name": "stderr",
     "output_type": "stream",
     "text": [
      "\r",
      "  0%|          | 0/2 [00:00<?, ?it/s]\r",
      " 50%|█████     | 1/2 [00:00<00:00,  5.45it/s]\r",
      "100%|██████████| 2/2 [00:00<00:00,  7.93it/s]\n"
     ]
    },
    {
     "name": "stdout",
     "output_type": "stream",
     "text": [
      "=> result\n",
      "* total: 106\n",
      "* correct: 44\n",
      "* accuracy: 41.5%\n",
      "* error: 58.5%\n",
      "* macro_f1: 26.1%\n",
      "epoch [151/200] batch [20/44] time 0.038 (0.049) data 0.000 (0.009) loss 0.7007 (1.0777) lr 5.3215e-04 eta 0:01:46\n",
      "epoch [151/200] batch [40/44] time 0.040 (0.043) data 0.000 (0.004) loss 0.2440 (1.0295) lr 5.3215e-04 eta 0:01:32\n",
      "Evaluate on the *val* set\n"
     ]
    },
    {
     "name": "stderr",
     "output_type": "stream",
     "text": [
      "\r",
      "  0%|          | 0/2 [00:00<?, ?it/s]\r",
      " 50%|█████     | 1/2 [00:00<00:00,  5.34it/s]\r",
      "100%|██████████| 2/2 [00:00<00:00,  7.82it/s]\n"
     ]
    },
    {
     "name": "stdout",
     "output_type": "stream",
     "text": [
      "=> result\n",
      "* total: 106\n",
      "* correct: 44\n",
      "* accuracy: 41.5%\n",
      "* error: 58.5%\n",
      "* macro_f1: 23.6%\n",
      "epoch [152/200] batch [20/44] time 0.039 (0.051) data 0.000 (0.011) loss 0.8291 (0.9574) lr 5.1256e-04 eta 0:01:49\n",
      "epoch [152/200] batch [40/44] time 0.040 (0.046) data 0.000 (0.005) loss 0.7246 (0.9682) lr 5.1256e-04 eta 0:01:36\n",
      "Evaluate on the *val* set\n"
     ]
    },
    {
     "name": "stderr",
     "output_type": "stream",
     "text": [
      "\r",
      "  0%|          | 0/2 [00:00<?, ?it/s]\r",
      " 50%|█████     | 1/2 [00:00<00:00,  5.50it/s]\r",
      "100%|██████████| 2/2 [00:00<00:00,  8.27it/s]\n"
     ]
    },
    {
     "name": "stdout",
     "output_type": "stream",
     "text": [
      "=> result\n",
      "* total: 106\n",
      "* correct: 44\n",
      "* accuracy: 41.5%\n",
      "* error: 58.5%\n",
      "* macro_f1: 22.9%\n",
      "epoch [153/200] batch [20/44] time 0.040 (0.049) data 0.000 (0.010) loss 1.0234 (0.9723) lr 4.9328e-04 eta 0:01:43\n",
      "epoch [153/200] batch [40/44] time 0.034 (0.044) data 0.000 (0.005) loss 1.5586 (0.9980) lr 4.9328e-04 eta 0:01:31\n",
      "Evaluate on the *val* set\n"
     ]
    },
    {
     "name": "stderr",
     "output_type": "stream",
     "text": [
      "\r",
      "  0%|          | 0/2 [00:00<?, ?it/s]\r",
      " 50%|█████     | 1/2 [00:00<00:00,  5.43it/s]\r",
      "100%|██████████| 2/2 [00:00<00:00,  7.96it/s]\n"
     ]
    },
    {
     "name": "stdout",
     "output_type": "stream",
     "text": [
      "=> result\n",
      "* total: 106\n",
      "* correct: 47\n",
      "* accuracy: 44.3%\n",
      "* error: 55.7%\n",
      "* macro_f1: 25.4%\n",
      "epoch [154/200] batch [20/44] time 0.040 (0.049) data 0.000 (0.009) loss 0.2122 (1.1437) lr 4.7430e-04 eta 0:01:40\n",
      "epoch [154/200] batch [40/44] time 0.042 (0.045) data 0.000 (0.004) loss 0.6450 (1.0244) lr 4.7430e-04 eta 0:01:30\n",
      "Evaluate on the *val* set\n"
     ]
    },
    {
     "name": "stderr",
     "output_type": "stream",
     "text": [
      "\r",
      "  0%|          | 0/2 [00:00<?, ?it/s]\r",
      " 50%|█████     | 1/2 [00:00<00:00,  4.83it/s]\r",
      "100%|██████████| 2/2 [00:00<00:00,  7.45it/s]\n"
     ]
    },
    {
     "name": "stdout",
     "output_type": "stream",
     "text": [
      "=> result\n",
      "* total: 106\n",
      "* correct: 44\n",
      "* accuracy: 41.5%\n",
      "* error: 58.5%\n",
      "* macro_f1: 23.7%\n",
      "epoch [155/200] batch [20/44] time 0.038 (0.047) data 0.000 (0.009) loss 0.9946 (0.9391) lr 4.5565e-04 eta 0:01:34\n",
      "epoch [155/200] batch [40/44] time 0.040 (0.044) data 0.000 (0.005) loss 0.6108 (1.0116) lr 4.5565e-04 eta 0:01:27\n",
      "Evaluate on the *val* set\n"
     ]
    },
    {
     "name": "stderr",
     "output_type": "stream",
     "text": [
      "\r",
      "  0%|          | 0/2 [00:00<?, ?it/s]\r",
      " 50%|█████     | 1/2 [00:00<00:00,  5.14it/s]\r",
      "100%|██████████| 2/2 [00:00<00:00,  7.75it/s]\n"
     ]
    },
    {
     "name": "stdout",
     "output_type": "stream",
     "text": [
      "=> result\n",
      "* total: 106\n",
      "* correct: 45\n",
      "* accuracy: 42.5%\n",
      "* error: 57.5%\n",
      "* macro_f1: 24.8%\n",
      "epoch [156/200] batch [20/44] time 0.042 (0.051) data 0.000 (0.010) loss 1.0986 (1.0132) lr 4.3731e-04 eta 0:01:40\n",
      "epoch [156/200] batch [40/44] time 0.040 (0.046) data 0.000 (0.005) loss 0.8760 (0.9748) lr 4.3731e-04 eta 0:01:28\n",
      "Evaluate on the *val* set\n"
     ]
    },
    {
     "name": "stderr",
     "output_type": "stream",
     "text": [
      "\r",
      "  0%|          | 0/2 [00:00<?, ?it/s]\r",
      " 50%|█████     | 1/2 [00:00<00:00,  5.58it/s]\r",
      "100%|██████████| 2/2 [00:00<00:00,  8.41it/s]\n"
     ]
    },
    {
     "name": "stdout",
     "output_type": "stream",
     "text": [
      "=> result\n",
      "* total: 106\n",
      "* correct: 45\n",
      "* accuracy: 42.5%\n",
      "* error: 57.5%\n",
      "* macro_f1: 24.2%\n",
      "epoch [157/200] batch [20/44] time 0.038 (0.048) data 0.000 (0.009) loss 1.3711 (0.9755) lr 4.1929e-04 eta 0:01:31\n",
      "epoch [157/200] batch [40/44] time 0.037 (0.043) data 0.000 (0.004) loss 1.1973 (0.9564) lr 4.1929e-04 eta 0:01:22\n",
      "Evaluate on the *val* set\n"
     ]
    },
    {
     "name": "stderr",
     "output_type": "stream",
     "text": [
      "\r",
      "  0%|          | 0/2 [00:00<?, ?it/s]\r",
      " 50%|█████     | 1/2 [00:00<00:00,  5.62it/s]\r",
      "100%|██████████| 2/2 [00:00<00:00,  8.40it/s]\n"
     ]
    },
    {
     "name": "stdout",
     "output_type": "stream",
     "text": [
      "=> result\n",
      "* total: 106\n",
      "* correct: 47\n",
      "* accuracy: 44.3%\n",
      "* error: 55.7%\n",
      "* macro_f1: 29.4%\n",
      "epoch [158/200] batch [20/44] time 0.039 (0.049) data 0.000 (0.008) loss 0.4929 (1.0578) lr 4.0160e-04 eta 0:01:31\n",
      "epoch [158/200] batch [40/44] time 0.039 (0.043) data 0.000 (0.004) loss 1.4316 (0.9654) lr 4.0160e-04 eta 0:01:20\n",
      "Evaluate on the *val* set\n"
     ]
    },
    {
     "name": "stderr",
     "output_type": "stream",
     "text": [
      "\r",
      "  0%|          | 0/2 [00:00<?, ?it/s]\r",
      " 50%|█████     | 1/2 [00:00<00:00,  5.02it/s]\r",
      "100%|██████████| 2/2 [00:00<00:00,  7.41it/s]\n"
     ]
    },
    {
     "name": "stdout",
     "output_type": "stream",
     "text": [
      "=> result\n",
      "* total: 106\n",
      "* correct: 45\n",
      "* accuracy: 42.5%\n",
      "* error: 57.5%\n",
      "* macro_f1: 24.3%\n",
      "epoch [159/200] batch [20/44] time 0.041 (0.049) data 0.000 (0.009) loss 1.8730 (1.0211) lr 3.8425e-04 eta 0:01:30\n",
      "epoch [159/200] batch [40/44] time 0.040 (0.045) data 0.000 (0.005) loss 0.3838 (0.9331) lr 3.8425e-04 eta 0:01:20\n",
      "Evaluate on the *val* set\n"
     ]
    },
    {
     "name": "stderr",
     "output_type": "stream",
     "text": [
      "\r",
      "  0%|          | 0/2 [00:00<?, ?it/s]\r",
      " 50%|█████     | 1/2 [00:00<00:00,  5.30it/s]\r",
      "100%|██████████| 2/2 [00:00<00:00,  7.56it/s]\n"
     ]
    },
    {
     "name": "stdout",
     "output_type": "stream",
     "text": [
      "=> result\n",
      "* total: 106\n",
      "* correct: 44\n",
      "* accuracy: 41.5%\n",
      "* error: 58.5%\n",
      "* macro_f1: 23.6%\n",
      "epoch [160/200] batch [20/44] time 0.040 (0.050) data 0.000 (0.010) loss 1.0039 (0.8895) lr 3.6723e-04 eta 0:01:29\n",
      "epoch [160/200] batch [40/44] time 0.040 (0.045) data 0.000 (0.005) loss 0.8403 (0.9065) lr 3.6723e-04 eta 0:01:18\n",
      "Evaluate on the *val* set\n"
     ]
    },
    {
     "name": "stderr",
     "output_type": "stream",
     "text": [
      "\r",
      "  0%|          | 0/2 [00:00<?, ?it/s]\r",
      " 50%|█████     | 1/2 [00:00<00:00,  5.72it/s]\r",
      "100%|██████████| 2/2 [00:00<00:00,  8.47it/s]\n"
     ]
    },
    {
     "name": "stdout",
     "output_type": "stream",
     "text": [
      "=> result\n",
      "* total: 106\n",
      "* correct: 47\n",
      "* accuracy: 44.3%\n",
      "* error: 55.7%\n",
      "* macro_f1: 25.5%\n",
      "epoch [161/200] batch [20/44] time 0.040 (0.050) data 0.000 (0.010) loss 0.5522 (0.8876) lr 3.5055e-04 eta 0:01:27\n",
      "epoch [161/200] batch [40/44] time 0.040 (0.045) data 0.000 (0.005) loss 1.2275 (0.9226) lr 3.5055e-04 eta 0:01:17\n",
      "Evaluate on the *val* set\n"
     ]
    },
    {
     "name": "stderr",
     "output_type": "stream",
     "text": [
      "\r",
      "  0%|          | 0/2 [00:00<?, ?it/s]\r",
      " 50%|█████     | 1/2 [00:00<00:00,  5.51it/s]\r",
      "100%|██████████| 2/2 [00:00<00:00,  8.23it/s]\n"
     ]
    },
    {
     "name": "stdout",
     "output_type": "stream",
     "text": [
      "=> result\n",
      "* total: 106\n",
      "* correct: 48\n",
      "* accuracy: 45.3%\n",
      "* error: 54.7%\n",
      "* macro_f1: 26.8%\n",
      "epoch [162/200] batch [20/44] time 0.041 (0.049) data 0.000 (0.009) loss 0.9507 (0.8929) lr 3.3422e-04 eta 0:01:22\n",
      "epoch [162/200] batch [40/44] time 0.040 (0.044) data 0.000 (0.004) loss 0.5942 (0.9473) lr 3.3422e-04 eta 0:01:14\n",
      "Evaluate on the *val* set\n"
     ]
    },
    {
     "name": "stderr",
     "output_type": "stream",
     "text": [
      "\r",
      "  0%|          | 0/2 [00:00<?, ?it/s]\r",
      " 50%|█████     | 1/2 [00:00<00:00,  5.50it/s]\r",
      "100%|██████████| 2/2 [00:00<00:00,  8.08it/s]\n"
     ]
    },
    {
     "name": "stdout",
     "output_type": "stream",
     "text": [
      "=> result\n",
      "* total: 106\n",
      "* correct: 47\n",
      "* accuracy: 44.3%\n",
      "* error: 55.7%\n",
      "* macro_f1: 29.0%\n",
      "epoch [163/200] batch [20/44] time 0.041 (0.048) data 0.000 (0.009) loss 1.1973 (0.9996) lr 3.1824e-04 eta 0:01:18\n",
      "epoch [163/200] batch [40/44] time 0.038 (0.043) data 0.000 (0.005) loss 1.0010 (0.9570) lr 3.1824e-04 eta 0:01:09\n",
      "Evaluate on the *val* set\n"
     ]
    },
    {
     "name": "stderr",
     "output_type": "stream",
     "text": [
      "\r",
      "  0%|          | 0/2 [00:00<?, ?it/s]\r",
      " 50%|█████     | 1/2 [00:00<00:00,  5.30it/s]\r",
      "100%|██████████| 2/2 [00:00<00:00,  7.92it/s]\n"
     ]
    },
    {
     "name": "stdout",
     "output_type": "stream",
     "text": [
      "=> result\n",
      "* total: 106\n",
      "* correct: 46\n",
      "* accuracy: 43.4%\n",
      "* error: 56.6%\n",
      "* macro_f1: 24.7%\n",
      "epoch [164/200] batch [20/44] time 0.041 (0.049) data 0.000 (0.010) loss 0.7246 (0.8689) lr 3.0261e-04 eta 0:01:19\n",
      "epoch [164/200] batch [40/44] time 0.040 (0.044) data 0.000 (0.005) loss 1.8691 (0.9446) lr 3.0261e-04 eta 0:01:10\n",
      "Evaluate on the *val* set\n"
     ]
    },
    {
     "name": "stderr",
     "output_type": "stream",
     "text": [
      "\r",
      "  0%|          | 0/2 [00:00<?, ?it/s]\r",
      " 50%|█████     | 1/2 [00:00<00:00,  5.75it/s]\r",
      "100%|██████████| 2/2 [00:00<00:00,  8.31it/s]\n"
     ]
    },
    {
     "name": "stdout",
     "output_type": "stream",
     "text": [
      "=> result\n",
      "* total: 106\n",
      "* correct: 46\n",
      "* accuracy: 43.4%\n",
      "* error: 56.6%\n",
      "* macro_f1: 24.7%\n",
      "epoch [165/200] batch [20/44] time 0.040 (0.048) data 0.000 (0.008) loss 1.0918 (0.9168) lr 2.8734e-04 eta 0:01:14\n",
      "epoch [165/200] batch [40/44] time 0.040 (0.043) data 0.000 (0.004) loss 0.5708 (0.9437) lr 2.8734e-04 eta 0:01:06\n",
      "Evaluate on the *val* set\n"
     ]
    },
    {
     "name": "stderr",
     "output_type": "stream",
     "text": [
      "\r",
      "  0%|          | 0/2 [00:00<?, ?it/s]\r",
      " 50%|█████     | 1/2 [00:00<00:00,  5.51it/s]\r",
      "100%|██████████| 2/2 [00:00<00:00,  8.22it/s]\n"
     ]
    },
    {
     "name": "stdout",
     "output_type": "stream",
     "text": [
      "=> result\n",
      "* total: 106\n",
      "* correct: 47\n",
      "* accuracy: 44.3%\n",
      "* error: 55.7%\n",
      "* macro_f1: 26.8%\n",
      "epoch [166/200] batch [20/44] time 0.041 (0.051) data 0.000 (0.010) loss 1.3594 (0.8532) lr 2.7243e-04 eta 0:01:17\n",
      "epoch [166/200] batch [40/44] time 0.040 (0.046) data 0.000 (0.005) loss 0.6567 (0.9025) lr 2.7243e-04 eta 0:01:08\n",
      "Evaluate on the *val* set\n"
     ]
    },
    {
     "name": "stderr",
     "output_type": "stream",
     "text": [
      "\r",
      "  0%|          | 0/2 [00:00<?, ?it/s]\r",
      " 50%|█████     | 1/2 [00:00<00:00,  5.36it/s]\r",
      "100%|██████████| 2/2 [00:00<00:00,  8.08it/s]\n"
     ]
    },
    {
     "name": "stdout",
     "output_type": "stream",
     "text": [
      "=> result\n",
      "* total: 106\n",
      "* correct: 45\n",
      "* accuracy: 42.5%\n",
      "* error: 57.5%\n",
      "* macro_f1: 24.9%\n",
      "epoch [167/200] batch [20/44] time 0.040 (0.048) data 0.000 (0.008) loss 0.5508 (0.9530) lr 2.5788e-04 eta 0:01:11\n",
      "epoch [167/200] batch [40/44] time 0.040 (0.044) data 0.000 (0.004) loss 1.3223 (0.9164) lr 2.5788e-04 eta 0:01:04\n",
      "Evaluate on the *val* set\n"
     ]
    },
    {
     "name": "stderr",
     "output_type": "stream",
     "text": [
      "\r",
      "  0%|          | 0/2 [00:00<?, ?it/s]\r",
      " 50%|█████     | 1/2 [00:00<00:00,  5.69it/s]\r",
      "100%|██████████| 2/2 [00:00<00:00,  8.47it/s]\n"
     ]
    },
    {
     "name": "stdout",
     "output_type": "stream",
     "text": [
      "=> result\n",
      "* total: 106\n",
      "* correct: 47\n",
      "* accuracy: 44.3%\n",
      "* error: 55.7%\n",
      "* macro_f1: 25.6%\n",
      "epoch [168/200] batch [20/44] time 0.041 (0.048) data 0.000 (0.008) loss 0.4236 (0.8500) lr 2.4370e-04 eta 0:01:08\n",
      "epoch [168/200] batch [40/44] time 0.040 (0.044) data 0.000 (0.004) loss 0.5049 (0.8574) lr 2.4370e-04 eta 0:01:01\n",
      "Evaluate on the *val* set\n"
     ]
    },
    {
     "name": "stderr",
     "output_type": "stream",
     "text": [
      "\r",
      "  0%|          | 0/2 [00:00<?, ?it/s]\r",
      " 50%|█████     | 1/2 [00:00<00:00,  5.30it/s]\r",
      "100%|██████████| 2/2 [00:00<00:00,  7.62it/s]\n"
     ]
    },
    {
     "name": "stdout",
     "output_type": "stream",
     "text": [
      "=> result\n",
      "* total: 106\n",
      "* correct: 47\n",
      "* accuracy: 44.3%\n",
      "* error: 55.7%\n",
      "* macro_f1: 26.2%\n",
      "epoch [169/200] batch [20/44] time 0.039 (0.047) data 0.000 (0.009) loss 0.7134 (0.8841) lr 2.2989e-04 eta 0:01:05\n",
      "epoch [169/200] batch [40/44] time 0.040 (0.043) data 0.000 (0.005) loss 0.8486 (0.9225) lr 2.2989e-04 eta 0:00:58\n",
      "Evaluate on the *val* set\n"
     ]
    },
    {
     "name": "stderr",
     "output_type": "stream",
     "text": [
      "\r",
      "  0%|          | 0/2 [00:00<?, ?it/s]\r",
      " 50%|█████     | 1/2 [00:00<00:00,  5.32it/s]\r",
      "100%|██████████| 2/2 [00:00<00:00,  8.06it/s]\n"
     ]
    },
    {
     "name": "stdout",
     "output_type": "stream",
     "text": [
      "=> result\n",
      "* total: 106\n",
      "* correct: 45\n",
      "* accuracy: 42.5%\n",
      "* error: 57.5%\n",
      "* macro_f1: 24.5%\n",
      "epoch [170/200] batch [20/44] time 0.041 (0.048) data 0.000 (0.008) loss 0.4968 (0.8817) lr 2.1646e-04 eta 0:01:03\n",
      "epoch [170/200] batch [40/44] time 0.040 (0.044) data 0.000 (0.004) loss 1.6055 (0.9145) lr 2.1646e-04 eta 0:00:58\n",
      "Evaluate on the *val* set\n"
     ]
    },
    {
     "name": "stderr",
     "output_type": "stream",
     "text": [
      "\r",
      "  0%|          | 0/2 [00:00<?, ?it/s]\r",
      " 50%|█████     | 1/2 [00:00<00:00,  5.51it/s]\r",
      "100%|██████████| 2/2 [00:00<00:00,  7.96it/s]\n"
     ]
    },
    {
     "name": "stdout",
     "output_type": "stream",
     "text": [
      "=> result\n",
      "* total: 106\n",
      "* correct: 47\n",
      "* accuracy: 44.3%\n",
      "* error: 55.7%\n",
      "* macro_f1: 28.0%\n",
      "epoch [171/200] batch [20/44] time 0.037 (0.048) data 0.000 (0.009) loss 0.9526 (0.9086) lr 2.0341e-04 eta 0:01:01\n",
      "epoch [171/200] batch [40/44] time 0.039 (0.043) data 0.000 (0.005) loss 0.5034 (0.8636) lr 2.0341e-04 eta 0:00:55\n",
      "Evaluate on the *val* set\n"
     ]
    },
    {
     "name": "stderr",
     "output_type": "stream",
     "text": [
      "\r",
      "  0%|          | 0/2 [00:00<?, ?it/s]\r",
      " 50%|█████     | 1/2 [00:00<00:00,  5.46it/s]\r",
      "100%|██████████| 2/2 [00:00<00:00,  8.02it/s]\n"
     ]
    },
    {
     "name": "stdout",
     "output_type": "stream",
     "text": [
      "=> result\n",
      "* total: 106\n",
      "* correct: 47\n",
      "* accuracy: 44.3%\n",
      "* error: 55.7%\n",
      "* macro_f1: 26.3%\n",
      "epoch [172/200] batch [20/44] time 0.040 (0.049) data 0.000 (0.008) loss 1.1797 (0.8472) lr 1.9074e-04 eta 0:01:00\n",
      "epoch [172/200] batch [40/44] time 0.040 (0.043) data 0.000 (0.004) loss 1.0527 (0.9055) lr 1.9074e-04 eta 0:00:52\n",
      "Evaluate on the *val* set\n"
     ]
    },
    {
     "name": "stderr",
     "output_type": "stream",
     "text": [
      "\r",
      "  0%|          | 0/2 [00:00<?, ?it/s]\r",
      " 50%|█████     | 1/2 [00:00<00:00,  5.22it/s]\r",
      "100%|██████████| 2/2 [00:00<00:00,  7.98it/s]\n"
     ]
    },
    {
     "name": "stdout",
     "output_type": "stream",
     "text": [
      "=> result\n",
      "* total: 106\n",
      "* correct: 46\n",
      "* accuracy: 43.4%\n",
      "* error: 56.6%\n",
      "* macro_f1: 26.7%\n",
      "epoch [173/200] batch [20/44] time 0.041 (0.049) data 0.000 (0.010) loss 1.1318 (0.9815) lr 1.7845e-04 eta 0:00:58\n",
      "epoch [173/200] batch [40/44] time 0.040 (0.044) data 0.000 (0.005) loss 1.3135 (0.8798) lr 1.7845e-04 eta 0:00:52\n",
      "Evaluate on the *val* set\n"
     ]
    },
    {
     "name": "stderr",
     "output_type": "stream",
     "text": [
      "\r",
      "  0%|          | 0/2 [00:00<?, ?it/s]\r",
      " 50%|█████     | 1/2 [00:00<00:00,  5.45it/s]\r",
      "100%|██████████| 2/2 [00:00<00:00,  7.90it/s]\n"
     ]
    },
    {
     "name": "stdout",
     "output_type": "stream",
     "text": [
      "=> result\n",
      "* total: 106\n",
      "* correct: 46\n",
      "* accuracy: 43.4%\n",
      "* error: 56.6%\n",
      "* macro_f1: 24.7%\n",
      "epoch [174/200] batch [20/44] time 0.038 (0.050) data 0.000 (0.009) loss 0.3418 (0.8592) lr 1.6655e-04 eta 0:00:58\n",
      "epoch [174/200] batch [40/44] time 0.040 (0.044) data 0.000 (0.005) loss 0.8564 (0.8872) lr 1.6655e-04 eta 0:00:50\n",
      "Evaluate on the *val* set\n"
     ]
    },
    {
     "name": "stderr",
     "output_type": "stream",
     "text": [
      "\r",
      "  0%|          | 0/2 [00:00<?, ?it/s]\r",
      " 50%|█████     | 1/2 [00:00<00:00,  5.53it/s]\r",
      "100%|██████████| 2/2 [00:00<00:00,  8.11it/s]\n"
     ]
    },
    {
     "name": "stdout",
     "output_type": "stream",
     "text": [
      "=> result\n",
      "* total: 106\n",
      "* correct: 45\n",
      "* accuracy: 42.5%\n",
      "* error: 57.5%\n",
      "* macro_f1: 24.7%\n",
      "epoch [175/200] batch [20/44] time 0.040 (0.051) data 0.000 (0.010) loss 0.8140 (0.7841) lr 1.5504e-04 eta 0:00:56\n",
      "epoch [175/200] batch [40/44] time 0.037 (0.045) data 0.000 (0.005) loss 0.7373 (0.8761) lr 1.5504e-04 eta 0:00:49\n",
      "Evaluate on the *val* set\n"
     ]
    },
    {
     "name": "stderr",
     "output_type": "stream",
     "text": [
      "\r",
      "  0%|          | 0/2 [00:00<?, ?it/s]\r",
      " 50%|█████     | 1/2 [00:00<00:00,  5.58it/s]\r",
      "100%|██████████| 2/2 [00:00<00:00,  8.11it/s]\n"
     ]
    },
    {
     "name": "stdout",
     "output_type": "stream",
     "text": [
      "=> result\n",
      "* total: 106\n",
      "* correct: 45\n",
      "* accuracy: 42.5%\n",
      "* error: 57.5%\n",
      "* macro_f1: 25.1%\n",
      "epoch [176/200] batch [20/44] time 0.040 (0.049) data 0.000 (0.010) loss 0.2494 (0.6665) lr 1.4393e-04 eta 0:00:52\n",
      "epoch [176/200] batch [40/44] time 0.031 (0.043) data 0.000 (0.005) loss 1.4678 (0.8345) lr 1.4393e-04 eta 0:00:45\n",
      "Evaluate on the *val* set\n"
     ]
    },
    {
     "name": "stderr",
     "output_type": "stream",
     "text": [
      "\r",
      "  0%|          | 0/2 [00:00<?, ?it/s]\r",
      " 50%|█████     | 1/2 [00:00<00:00,  5.36it/s]\r",
      "100%|██████████| 2/2 [00:00<00:00,  8.04it/s]\n"
     ]
    },
    {
     "name": "stdout",
     "output_type": "stream",
     "text": [
      "=> result\n",
      "* total: 106\n",
      "* correct: 44\n",
      "* accuracy: 41.5%\n",
      "* error: 58.5%\n",
      "* macro_f1: 23.6%\n",
      "epoch [177/200] batch [20/44] time 0.035 (0.046) data 0.000 (0.008) loss 1.4873 (0.8698) lr 1.3321e-04 eta 0:00:47\n",
      "epoch [177/200] batch [40/44] time 0.041 (0.040) data 0.000 (0.004) loss 1.1191 (0.8553) lr 1.3321e-04 eta 0:00:40\n",
      "Evaluate on the *val* set\n"
     ]
    },
    {
     "name": "stderr",
     "output_type": "stream",
     "text": [
      "\r",
      "  0%|          | 0/2 [00:00<?, ?it/s]\r",
      " 50%|█████     | 1/2 [00:00<00:00,  5.46it/s]\r",
      "100%|██████████| 2/2 [00:00<00:00,  8.06it/s]\n"
     ]
    },
    {
     "name": "stdout",
     "output_type": "stream",
     "text": [
      "=> result\n",
      "* total: 106\n",
      "* correct: 45\n",
      "* accuracy: 42.5%\n",
      "* error: 57.5%\n",
      "* macro_f1: 24.3%\n",
      "epoch [178/200] batch [20/44] time 0.042 (0.050) data 0.000 (0.009) loss 1.0498 (0.7479) lr 1.2289e-04 eta 0:00:49\n",
      "epoch [178/200] batch [40/44] time 0.034 (0.045) data 0.000 (0.005) loss 0.3694 (0.8530) lr 1.2289e-04 eta 0:00:43\n",
      "Evaluate on the *val* set\n"
     ]
    },
    {
     "name": "stderr",
     "output_type": "stream",
     "text": [
      "\r",
      "  0%|          | 0/2 [00:00<?, ?it/s]\r",
      " 50%|█████     | 1/2 [00:00<00:00,  5.40it/s]\r",
      "100%|██████████| 2/2 [00:00<00:00,  7.88it/s]\n"
     ]
    },
    {
     "name": "stdout",
     "output_type": "stream",
     "text": [
      "=> result\n",
      "* total: 106\n",
      "* correct: 44\n",
      "* accuracy: 41.5%\n",
      "* error: 58.5%\n",
      "* macro_f1: 23.5%\n",
      "epoch [179/200] batch [20/44] time 0.041 (0.048) data 0.000 (0.008) loss 0.7529 (0.8684) lr 1.1297e-04 eta 0:00:45\n",
      "epoch [179/200] batch [40/44] time 0.040 (0.044) data 0.000 (0.004) loss 1.2891 (0.8552) lr 1.1297e-04 eta 0:00:40\n",
      "Evaluate on the *val* set\n"
     ]
    },
    {
     "name": "stderr",
     "output_type": "stream",
     "text": [
      "\r",
      "  0%|          | 0/2 [00:00<?, ?it/s]\r",
      " 50%|█████     | 1/2 [00:00<00:00,  5.59it/s]\r",
      "100%|██████████| 2/2 [00:00<00:00,  8.45it/s]\n"
     ]
    },
    {
     "name": "stdout",
     "output_type": "stream",
     "text": [
      "=> result\n",
      "* total: 106\n",
      "* correct: 45\n",
      "* accuracy: 42.5%\n",
      "* error: 57.5%\n",
      "* macro_f1: 24.6%\n",
      "epoch [180/200] batch [20/44] time 0.040 (0.050) data 0.000 (0.010) loss 1.2598 (0.8145) lr 1.0346e-04 eta 0:00:45\n",
      "epoch [180/200] batch [40/44] time 0.040 (0.045) data 0.000 (0.005) loss 0.3403 (0.8414) lr 1.0346e-04 eta 0:00:39\n",
      "Evaluate on the *val* set\n"
     ]
    },
    {
     "name": "stderr",
     "output_type": "stream",
     "text": [
      "\r",
      "  0%|          | 0/2 [00:00<?, ?it/s]\r",
      " 50%|█████     | 1/2 [00:00<00:00,  5.50it/s]\r",
      "100%|██████████| 2/2 [00:00<00:00,  8.14it/s]\n"
     ]
    },
    {
     "name": "stdout",
     "output_type": "stream",
     "text": [
      "=> result\n",
      "* total: 106\n",
      "* correct: 46\n",
      "* accuracy: 43.4%\n",
      "* error: 56.6%\n",
      "* macro_f1: 24.8%\n",
      "epoch [181/200] batch [20/44] time 0.039 (0.049) data 0.000 (0.008) loss 0.9805 (0.7462) lr 9.4351e-05 eta 0:00:42\n",
      "epoch [181/200] batch [40/44] time 0.040 (0.044) data 0.000 (0.004) loss 1.7520 (0.8155) lr 9.4351e-05 eta 0:00:37\n",
      "Evaluate on the *val* set\n"
     ]
    },
    {
     "name": "stderr",
     "output_type": "stream",
     "text": [
      "\r",
      "  0%|          | 0/2 [00:00<?, ?it/s]\r",
      " 50%|█████     | 1/2 [00:00<00:00,  5.46it/s]\r",
      "100%|██████████| 2/2 [00:00<00:00,  7.91it/s]\n"
     ]
    },
    {
     "name": "stdout",
     "output_type": "stream",
     "text": [
      "=> result\n",
      "* total: 106\n",
      "* correct: 46\n",
      "* accuracy: 43.4%\n",
      "* error: 56.6%\n",
      "* macro_f1: 24.8%\n",
      "epoch [182/200] batch [20/44] time 0.039 (0.049) data 0.000 (0.008) loss 1.0879 (0.8122) lr 8.5651e-05 eta 0:00:39\n",
      "epoch [182/200] batch [40/44] time 0.040 (0.044) data 0.000 (0.004) loss 0.1296 (0.8380) lr 8.5651e-05 eta 0:00:35\n",
      "Evaluate on the *val* set\n"
     ]
    },
    {
     "name": "stderr",
     "output_type": "stream",
     "text": [
      "\r",
      "  0%|          | 0/2 [00:00<?, ?it/s]\r",
      " 50%|█████     | 1/2 [00:00<00:00,  5.65it/s]\r",
      "100%|██████████| 2/2 [00:00<00:00,  8.44it/s]\n"
     ]
    },
    {
     "name": "stdout",
     "output_type": "stream",
     "text": [
      "=> result\n",
      "* total: 106\n",
      "* correct: 45\n",
      "* accuracy: 42.5%\n",
      "* error: 57.5%\n",
      "* macro_f1: 23.9%\n",
      "epoch [183/200] batch [20/44] time 0.041 (0.048) data 0.000 (0.009) loss 0.9785 (0.8214) lr 7.7362e-05 eta 0:00:36\n",
      "epoch [183/200] batch [40/44] time 0.040 (0.044) data 0.000 (0.004) loss 0.4670 (0.8690) lr 7.7362e-05 eta 0:00:32\n",
      "Evaluate on the *val* set\n"
     ]
    },
    {
     "name": "stderr",
     "output_type": "stream",
     "text": [
      "\r",
      "  0%|          | 0/2 [00:00<?, ?it/s]\r",
      " 50%|█████     | 1/2 [00:00<00:00,  5.57it/s]\r",
      "100%|██████████| 2/2 [00:00<00:00,  8.25it/s]\n"
     ]
    },
    {
     "name": "stdout",
     "output_type": "stream",
     "text": [
      "=> result\n",
      "* total: 106\n",
      "* correct: 46\n",
      "* accuracy: 43.4%\n",
      "* error: 56.6%\n",
      "* macro_f1: 24.6%\n",
      "epoch [184/200] batch [20/44] time 0.036 (0.049) data 0.000 (0.009) loss 1.2393 (0.7152) lr 6.9486e-05 eta 0:00:35\n",
      "epoch [184/200] batch [40/44] time 0.040 (0.044) data 0.000 (0.005) loss 0.9214 (0.8363) lr 6.9486e-05 eta 0:00:31\n",
      "Evaluate on the *val* set\n"
     ]
    },
    {
     "name": "stderr",
     "output_type": "stream",
     "text": [
      "\r",
      "  0%|          | 0/2 [00:00<?, ?it/s]\r",
      " 50%|█████     | 1/2 [00:00<00:00,  5.65it/s]\r",
      "100%|██████████| 2/2 [00:00<00:00,  8.57it/s]\n"
     ]
    },
    {
     "name": "stdout",
     "output_type": "stream",
     "text": [
      "=> result\n",
      "* total: 106\n",
      "* correct: 45\n",
      "* accuracy: 42.5%\n",
      "* error: 57.5%\n",
      "* macro_f1: 24.5%\n",
      "epoch [185/200] batch [20/44] time 0.039 (0.048) data 0.000 (0.009) loss 1.8271 (0.9059) lr 6.2025e-05 eta 0:00:32\n",
      "epoch [185/200] batch [40/44] time 0.040 (0.044) data 0.000 (0.005) loss 0.8594 (0.8294) lr 6.2025e-05 eta 0:00:29\n",
      "Evaluate on the *val* set\n"
     ]
    },
    {
     "name": "stderr",
     "output_type": "stream",
     "text": [
      "\r",
      "  0%|          | 0/2 [00:00<?, ?it/s]\r",
      " 50%|█████     | 1/2 [00:00<00:00,  5.40it/s]\r",
      "100%|██████████| 2/2 [00:00<00:00,  8.20it/s]\n"
     ]
    },
    {
     "name": "stdout",
     "output_type": "stream",
     "text": [
      "=> result\n",
      "* total: 106\n",
      "* correct: 46\n",
      "* accuracy: 43.4%\n",
      "* error: 56.6%\n",
      "* macro_f1: 24.6%\n",
      "epoch [186/200] batch [20/44] time 0.040 (0.047) data 0.000 (0.008) loss 0.8237 (0.7233) lr 5.4979e-05 eta 0:00:30\n",
      "epoch [186/200] batch [40/44] time 0.037 (0.043) data 0.000 (0.004) loss 0.6167 (0.8027) lr 5.4979e-05 eta 0:00:26\n",
      "Evaluate on the *val* set\n"
     ]
    },
    {
     "name": "stderr",
     "output_type": "stream",
     "text": [
      "\r",
      "  0%|          | 0/2 [00:00<?, ?it/s]\r",
      " 50%|█████     | 1/2 [00:00<00:00,  5.41it/s]\r",
      "100%|██████████| 2/2 [00:00<00:00,  8.00it/s]\n"
     ]
    },
    {
     "name": "stdout",
     "output_type": "stream",
     "text": [
      "=> result\n",
      "* total: 106\n",
      "* correct: 46\n",
      "* accuracy: 43.4%\n",
      "* error: 56.6%\n",
      "* macro_f1: 24.8%\n",
      "epoch [187/200] batch [20/44] time 0.039 (0.049) data 0.000 (0.008) loss 0.5601 (0.7846) lr 4.8353e-05 eta 0:00:29\n",
      "epoch [187/200] batch [40/44] time 0.040 (0.044) data 0.000 (0.004) loss 0.4067 (0.8181) lr 4.8353e-05 eta 0:00:25\n",
      "Evaluate on the *val* set\n"
     ]
    },
    {
     "name": "stderr",
     "output_type": "stream",
     "text": [
      "\r",
      "  0%|          | 0/2 [00:00<?, ?it/s]\r",
      " 50%|█████     | 1/2 [00:00<00:00,  5.19it/s]\r",
      "100%|██████████| 2/2 [00:00<00:00,  7.88it/s]\n"
     ]
    },
    {
     "name": "stdout",
     "output_type": "stream",
     "text": [
      "=> result\n",
      "* total: 106\n",
      "* correct: 45\n",
      "* accuracy: 42.5%\n",
      "* error: 57.5%\n",
      "* macro_f1: 24.2%\n",
      "epoch [188/200] batch [20/44] time 0.036 (0.048) data 0.000 (0.009) loss 1.0146 (0.8439) lr 4.2146e-05 eta 0:00:26\n",
      "epoch [188/200] batch [40/44] time 0.038 (0.044) data 0.000 (0.004) loss 0.9849 (0.8046) lr 4.2146e-05 eta 0:00:23\n",
      "Evaluate on the *val* set\n"
     ]
    },
    {
     "name": "stderr",
     "output_type": "stream",
     "text": [
      "\r",
      "  0%|          | 0/2 [00:00<?, ?it/s]\r",
      " 50%|█████     | 1/2 [00:00<00:00,  5.20it/s]\r",
      "100%|██████████| 2/2 [00:00<00:00,  7.92it/s]\n"
     ]
    },
    {
     "name": "stdout",
     "output_type": "stream",
     "text": [
      "=> result\n",
      "* total: 106\n",
      "* correct: 46\n",
      "* accuracy: 43.4%\n",
      "* error: 56.6%\n",
      "* macro_f1: 24.8%\n",
      "epoch [189/200] batch [20/44] time 0.041 (0.049) data 0.000 (0.008) loss 1.4639 (0.8947) lr 3.6360e-05 eta 0:00:24\n",
      "epoch [189/200] batch [40/44] time 0.040 (0.045) data 0.000 (0.004) loss 0.9399 (0.8472) lr 3.6360e-05 eta 0:00:21\n",
      "Evaluate on the *val* set\n"
     ]
    },
    {
     "name": "stderr",
     "output_type": "stream",
     "text": [
      "\r",
      "  0%|          | 0/2 [00:00<?, ?it/s]\r",
      " 50%|█████     | 1/2 [00:00<00:00,  5.55it/s]\r",
      "100%|██████████| 2/2 [00:00<00:00,  8.00it/s]\n"
     ]
    },
    {
     "name": "stdout",
     "output_type": "stream",
     "text": [
      "=> result\n",
      "* total: 106\n",
      "* correct: 46\n",
      "* accuracy: 43.4%\n",
      "* error: 56.6%\n",
      "* macro_f1: 24.8%\n",
      "epoch [190/200] batch [20/44] time 0.035 (0.048) data 0.000 (0.008) loss 0.4248 (0.7703) lr 3.0997e-05 eta 0:00:22\n",
      "epoch [190/200] batch [40/44] time 0.040 (0.044) data 0.000 (0.004) loss 0.8091 (0.7969) lr 3.0997e-05 eta 0:00:19\n",
      "Evaluate on the *val* set\n"
     ]
    },
    {
     "name": "stderr",
     "output_type": "stream",
     "text": [
      "\r",
      "  0%|          | 0/2 [00:00<?, ?it/s]\r",
      " 50%|█████     | 1/2 [00:00<00:00,  5.38it/s]\r",
      "100%|██████████| 2/2 [00:00<00:00,  7.97it/s]\n"
     ]
    },
    {
     "name": "stdout",
     "output_type": "stream",
     "text": [
      "=> result\n",
      "* total: 106\n",
      "* correct: 46\n",
      "* accuracy: 43.4%\n",
      "* error: 56.6%\n",
      "* macro_f1: 24.8%\n",
      "epoch [191/200] batch [20/44] time 0.044 (0.048) data 0.000 (0.009) loss 1.1533 (0.9109) lr 2.6059e-05 eta 0:00:20\n",
      "epoch [191/200] batch [40/44] time 0.037 (0.042) data 0.000 (0.004) loss 1.0020 (0.8047) lr 2.6059e-05 eta 0:00:16\n",
      "Evaluate on the *val* set\n"
     ]
    },
    {
     "name": "stderr",
     "output_type": "stream",
     "text": [
      "\r",
      "  0%|          | 0/2 [00:00<?, ?it/s]\r",
      " 50%|█████     | 1/2 [00:00<00:00,  5.31it/s]\r",
      "100%|██████████| 2/2 [00:00<00:00,  7.87it/s]\n"
     ]
    },
    {
     "name": "stdout",
     "output_type": "stream",
     "text": [
      "=> result\n",
      "* total: 106\n",
      "* correct: 46\n",
      "* accuracy: 43.4%\n",
      "* error: 56.6%\n",
      "* macro_f1: 24.8%\n",
      "epoch [192/200] batch [20/44] time 0.040 (0.051) data 0.000 (0.010) loss 0.6064 (0.7661) lr 2.1545e-05 eta 0:00:19\n",
      "epoch [192/200] batch [40/44] time 0.040 (0.046) data 0.000 (0.005) loss 0.5542 (0.8200) lr 2.1545e-05 eta 0:00:16\n",
      "Evaluate on the *val* set\n"
     ]
    },
    {
     "name": "stderr",
     "output_type": "stream",
     "text": [
      "\r",
      "  0%|          | 0/2 [00:00<?, ?it/s]\r",
      " 50%|█████     | 1/2 [00:00<00:00,  5.69it/s]\r",
      "100%|██████████| 2/2 [00:00<00:00,  8.50it/s]\n"
     ]
    },
    {
     "name": "stdout",
     "output_type": "stream",
     "text": [
      "=> result\n",
      "* total: 106\n",
      "* correct: 46\n",
      "* accuracy: 43.4%\n",
      "* error: 56.6%\n",
      "* macro_f1: 24.8%\n",
      "epoch [193/200] batch [20/44] time 0.033 (0.043) data 0.000 (0.008) loss 1.1680 (0.6968) lr 1.7459e-05 eta 0:00:14\n",
      "epoch [193/200] batch [40/44] time 0.040 (0.042) data 0.000 (0.004) loss 0.9639 (0.7951) lr 1.7459e-05 eta 0:00:12\n",
      "Evaluate on the *val* set\n"
     ]
    },
    {
     "name": "stderr",
     "output_type": "stream",
     "text": [
      "\r",
      "  0%|          | 0/2 [00:00<?, ?it/s]\r",
      " 50%|█████     | 1/2 [00:00<00:00,  5.78it/s]\r",
      "100%|██████████| 2/2 [00:00<00:00,  8.58it/s]\n"
     ]
    },
    {
     "name": "stdout",
     "output_type": "stream",
     "text": [
      "=> result\n",
      "* total: 106\n",
      "* correct: 46\n",
      "* accuracy: 43.4%\n",
      "* error: 56.6%\n",
      "* macro_f1: 24.8%\n",
      "epoch [194/200] batch [20/44] time 0.043 (0.049) data 0.000 (0.009) loss 0.9805 (0.7278) lr 1.3799e-05 eta 0:00:14\n",
      "epoch [194/200] batch [40/44] time 0.040 (0.044) data 0.000 (0.004) loss 0.4578 (0.7987) lr 1.3799e-05 eta 0:00:11\n",
      "Evaluate on the *val* set\n"
     ]
    },
    {
     "name": "stderr",
     "output_type": "stream",
     "text": [
      "\r",
      "  0%|          | 0/2 [00:00<?, ?it/s]\r",
      " 50%|█████     | 1/2 [00:00<00:00,  5.36it/s]\r",
      "100%|██████████| 2/2 [00:00<00:00,  7.89it/s]\n"
     ]
    },
    {
     "name": "stdout",
     "output_type": "stream",
     "text": [
      "=> result\n",
      "* total: 106\n",
      "* correct: 46\n",
      "* accuracy: 43.4%\n",
      "* error: 56.6%\n",
      "* macro_f1: 24.8%\n",
      "epoch [195/200] batch [20/44] time 0.041 (0.049) data 0.000 (0.009) loss 0.2446 (0.7283) lr 1.0568e-05 eta 0:00:11\n",
      "epoch [195/200] batch [40/44] time 0.040 (0.044) data 0.000 (0.004) loss 1.0303 (0.8113) lr 1.0568e-05 eta 0:00:09\n",
      "Evaluate on the *val* set\n"
     ]
    },
    {
     "name": "stderr",
     "output_type": "stream",
     "text": [
      "\r",
      "  0%|          | 0/2 [00:00<?, ?it/s]\r",
      " 50%|█████     | 1/2 [00:00<00:00,  5.47it/s]\r",
      "100%|██████████| 2/2 [00:00<00:00,  8.28it/s]\n"
     ]
    },
    {
     "name": "stdout",
     "output_type": "stream",
     "text": [
      "=> result\n",
      "* total: 106\n",
      "* correct: 46\n",
      "* accuracy: 43.4%\n",
      "* error: 56.6%\n",
      "* macro_f1: 24.8%\n",
      "epoch [196/200] batch [20/44] time 0.041 (0.048) data 0.000 (0.008) loss 1.3174 (0.8367) lr 7.7666e-06 eta 0:00:09\n",
      "epoch [196/200] batch [40/44] time 0.040 (0.044) data 0.000 (0.004) loss 0.6851 (0.8404) lr 7.7666e-06 eta 0:00:07\n",
      "Evaluate on the *val* set\n"
     ]
    },
    {
     "name": "stderr",
     "output_type": "stream",
     "text": [
      "\r",
      "  0%|          | 0/2 [00:00<?, ?it/s]\r",
      " 50%|█████     | 1/2 [00:00<00:00,  5.64it/s]\r",
      "100%|██████████| 2/2 [00:00<00:00,  8.42it/s]\n"
     ]
    },
    {
     "name": "stdout",
     "output_type": "stream",
     "text": [
      "=> result\n",
      "* total: 106\n",
      "* correct: 46\n",
      "* accuracy: 43.4%\n",
      "* error: 56.6%\n",
      "* macro_f1: 24.8%\n",
      "epoch [197/200] batch [20/44] time 0.042 (0.051) data 0.000 (0.011) loss 0.8472 (0.9640) lr 5.3947e-06 eta 0:00:07\n",
      "epoch [197/200] batch [40/44] time 0.040 (0.045) data 0.000 (0.005) loss 0.6904 (0.8070) lr 5.3947e-06 eta 0:00:06\n",
      "Evaluate on the *val* set\n"
     ]
    },
    {
     "name": "stderr",
     "output_type": "stream",
     "text": [
      "\r",
      "  0%|          | 0/2 [00:00<?, ?it/s]\r",
      " 50%|█████     | 1/2 [00:00<00:00,  5.72it/s]\r",
      "100%|██████████| 2/2 [00:00<00:00,  8.54it/s]\n"
     ]
    },
    {
     "name": "stdout",
     "output_type": "stream",
     "text": [
      "=> result\n",
      "* total: 106\n",
      "* correct: 46\n",
      "* accuracy: 43.4%\n",
      "* error: 56.6%\n",
      "* macro_f1: 24.8%\n",
      "epoch [198/200] batch [20/44] time 0.041 (0.047) data 0.000 (0.008) loss 0.6860 (0.8704) lr 3.4532e-06 eta 0:00:05\n",
      "epoch [198/200] batch [40/44] time 0.040 (0.044) data 0.000 (0.004) loss 1.0781 (0.8300) lr 3.4532e-06 eta 0:00:04\n",
      "Evaluate on the *val* set\n"
     ]
    },
    {
     "name": "stderr",
     "output_type": "stream",
     "text": [
      "\r",
      "  0%|          | 0/2 [00:00<?, ?it/s]\r",
      " 50%|█████     | 1/2 [00:00<00:00,  5.50it/s]\r",
      "100%|██████████| 2/2 [00:00<00:00,  7.94it/s]\n"
     ]
    },
    {
     "name": "stdout",
     "output_type": "stream",
     "text": [
      "=> result\n",
      "* total: 106\n",
      "* correct: 46\n",
      "* accuracy: 43.4%\n",
      "* error: 56.6%\n",
      "* macro_f1: 24.8%\n",
      "epoch [199/200] batch [20/44] time 0.041 (0.056) data 0.000 (0.014) loss 0.7563 (0.8100) lr 1.9427e-06 eta 0:00:03\n",
      "epoch [199/200] batch [40/44] time 0.037 (0.047) data 0.000 (0.007) loss 0.8867 (0.8109) lr 1.9427e-06 eta 0:00:02\n",
      "Evaluate on the *val* set\n"
     ]
    },
    {
     "name": "stderr",
     "output_type": "stream",
     "text": [
      "\r",
      "  0%|          | 0/2 [00:00<?, ?it/s]\r",
      " 50%|█████     | 1/2 [00:00<00:00,  5.82it/s]\r",
      "100%|██████████| 2/2 [00:00<00:00,  8.37it/s]\n"
     ]
    },
    {
     "name": "stdout",
     "output_type": "stream",
     "text": [
      "=> result\n",
      "* total: 106\n",
      "* correct: 46\n",
      "* accuracy: 43.4%\n",
      "* error: 56.6%\n",
      "* macro_f1: 24.8%\n",
      "epoch [200/200] batch [20/44] time 0.039 (0.049) data 0.000 (0.009) loss 0.7964 (0.8385) lr 8.6352e-07 eta 0:00:01\n",
      "epoch [200/200] batch [40/44] time 0.040 (0.044) data 0.000 (0.005) loss 0.1755 (0.8252) lr 8.6352e-07 eta 0:00:00\n",
      "Evaluate on the *val* set\n"
     ]
    },
    {
     "name": "stderr",
     "output_type": "stream",
     "text": [
      "\r",
      "  0%|          | 0/2 [00:00<?, ?it/s]\r",
      " 50%|█████     | 1/2 [00:00<00:00,  5.39it/s]\r",
      "100%|██████████| 2/2 [00:00<00:00,  8.10it/s]\n"
     ]
    },
    {
     "name": "stdout",
     "output_type": "stream",
     "text": [
      "=> result\n",
      "* total: 106\n",
      "* correct: 46\n",
      "* accuracy: 43.4%\n",
      "* error: 56.6%\n",
      "* macro_f1: 24.8%\n",
      "Checkpoint saved to output/replica/MaPLePromptScene/vit_b16_c2_ep200_batch4_ctx4_depth12_cross_datasets_-1shots/seed1/MultiModalPromptSceneLearner/model.pth.tar-200\n",
      "Finish training\n",
      "Deploy the model with the best val performance\n",
      "Loading weights to MultiModalPromptSceneLearner from \"output/replica/MaPLePromptScene/vit_b16_c2_ep200_batch4_ctx4_depth12_cross_datasets_-1shots/seed1/MultiModalPromptSceneLearner/model-best.pth.tar\" (epoch = 137)\n",
      "Evaluate on the *test* set\n"
     ]
    },
    {
     "name": "stderr",
     "output_type": "stream",
     "text": [
      "\r",
      "  0%|          | 0/1 [00:00<?, ?it/s]\r",
      "100%|██████████| 1/1 [00:00<00:00,  5.55it/s]\r",
      "100%|██████████| 1/1 [00:00<00:00,  4.49it/s]\n"
     ]
    },
    {
     "name": "stdout",
     "output_type": "stream",
     "text": [
      "=> result\n",
      "* total: 83\n",
      "* correct: 47\n",
      "* accuracy: 56.6%\n",
      "* error: 43.4%\n",
      "* macro_f1: 30.3%\n",
      "Elapsed: 0:07:45\n"
     ]
    }
   ],
   "source": [
    "%%bash\n",
    "bash scripts/maple_prompt_scene/xd_train_maple_prompt_scene.sh replica 1 ../../dataset/data/ vit_b16_c2_ep200_batch4_ctx4_depth12_cross_datasets"
   ]
  },
  {
   "cell_type": "code",
   "execution_count": 22,
   "id": "085a6465",
   "metadata": {},
   "outputs": [],
   "source": [
    "!rm -r output/evaluation/MaPLePromptScene/vit_b16_c2_ep200_batch4_ctx4_depth12_cross_datasets_-1shots/replica/seed1"
   ]
  },
  {
   "cell_type": "code",
   "execution_count": 23,
   "id": "fb54a22b",
   "metadata": {},
   "outputs": [
    {
     "name": "stdout",
     "output_type": "stream",
     "text": [
      "Run this job and save the output to output/evaluation/MaPLePromptScene/vit_b16_c2_ep200_batch4_ctx4_depth12_cross_datasets_-1shots/replica/seed1\n"
     ]
    },
    {
     "name": "stderr",
     "output_type": "stream",
     "text": [
      "/cluster/54/nanriayaka/ml3d/models/multimodal-prompt-learning/clip/clip.py:23: UserWarning: PyTorch version 1.7.1 or higher is recommended\n",
      "  warnings.warn(\"PyTorch version 1.7.1 or higher is recommended\")\n"
     ]
    },
    {
     "name": "stdout",
     "output_type": "stream",
     "text": [
      "Setting fixed seed: 1\n",
      "***************\n",
      "** Arguments **\n",
      "***************\n",
      "backbone: \n",
      "config_file: configs/trainers/MaPLePromptScene/vit_b16_c2_ep200_batch4_ctx4_depth12_cross_datasets.yaml\n",
      "dataset_config_file: configs/datasets/replica.yaml\n",
      "eval_only: True\n",
      "head: \n",
      "load_epoch: None\n",
      "model_dir: output/replica/MaPLePromptScene/vit_b16_c2_ep200_batch4_ctx4_depth12_cross_datasets_-1shots/seed1\n",
      "no_train: False\n",
      "opts: []\n",
      "output_dir: output/evaluation/MaPLePromptScene/vit_b16_c2_ep200_batch4_ctx4_depth12_cross_datasets_-1shots/replica/seed1\n",
      "resume: \n",
      "root: ../../dataset/data/\n",
      "seed: 1\n",
      "source_domains: None\n",
      "target_domains: None\n",
      "trainer: MaPLePromptScene\n",
      "transforms: None\n",
      "************\n",
      "** Config **\n",
      "************\n",
      "DATALOADER:\n",
      "  K_TRANSFORMS: 1\n",
      "  NUM_WORKERS: 8\n",
      "  RETURN_IMG0: False\n",
      "  TEST:\n",
      "    BATCH_SIZE: 100\n",
      "    SAMPLER: SequentialSampler\n",
      "  TRAIN_U:\n",
      "    BATCH_SIZE: 32\n",
      "    N_DOMAIN: 0\n",
      "    N_INS: 16\n",
      "    SAME_AS_X: True\n",
      "    SAMPLER: RandomSampler\n",
      "  TRAIN_X:\n",
      "    BATCH_SIZE: 4\n",
      "    N_DOMAIN: 0\n",
      "    N_INS: 16\n",
      "    SAMPLER: RandomSampler\n",
      "DATASET:\n",
      "  ALL_AS_UNLABELED: False\n",
      "  CIFAR_C_LEVEL: 1\n",
      "  CIFAR_C_TYPE: \n",
      "  NAME: Replica\n",
      "  NUM_LABELED: -1\n",
      "  NUM_SHOTS: -1\n",
      "  ROOT: ../../dataset/data/\n",
      "  SOURCE_DOMAINS: ()\n",
      "  STL10_FOLD: -1\n",
      "  SUBSAMPLE_CLASSES: all\n",
      "  TARGET_DOMAINS: ()\n",
      "  VAL_PERCENT: 0.1\n",
      "INPUT:\n",
      "  COLORJITTER_B: 0.4\n",
      "  COLORJITTER_C: 0.4\n",
      "  COLORJITTER_H: 0.1\n",
      "  COLORJITTER_S: 0.4\n",
      "  CROP_PADDING: 4\n",
      "  CUTOUT_LEN: 16\n",
      "  CUTOUT_N: 1\n",
      "  GB_K: 21\n",
      "  GB_P: 0.5\n",
      "  GN_MEAN: 0.0\n",
      "  GN_STD: 0.15\n",
      "  INTERPOLATION: bicubic\n",
      "  NO_TRANSFORM: False\n",
      "  PIXEL_MEAN: [0.48145466, 0.4578275, 0.40821073]\n",
      "  PIXEL_STD: [0.26862954, 0.26130258, 0.27577711]\n",
      "  RANDAUGMENT_M: 10\n",
      "  RANDAUGMENT_N: 2\n",
      "  RGS_P: 0.2\n",
      "  RRCROP_SCALE: (0.08, 1.0)\n",
      "  SIZE: (224, 224)\n",
      "  TRANSFORMS: ('random_resized_crop', 'random_flip', 'normalize')\n",
      "MODEL:\n",
      "  BACKBONE:\n",
      "    NAME: ViT-B/16\n",
      "    PRETRAINED: True\n",
      "  HEAD:\n",
      "    ACTIVATION: relu\n",
      "    BN: True\n",
      "    DROPOUT: 0.0\n",
      "    HIDDEN_LAYERS: ()\n",
      "    NAME: \n",
      "  INIT_WEIGHTS: \n",
      "OPTIM:\n",
      "  ADAM_BETA1: 0.9\n",
      "  ADAM_BETA2: 0.999\n",
      "  BASE_LR_MULT: 0.1\n",
      "  GAMMA: 0.1\n",
      "  LR: 0.0035\n",
      "  LR_SCHEDULER: cosine\n",
      "  MAX_EPOCH: 200\n",
      "  MOMENTUM: 0.9\n",
      "  NAME: sgd\n",
      "  NEW_LAYERS: ()\n",
      "  RMSPROP_ALPHA: 0.99\n",
      "  SGD_DAMPNING: 0\n",
      "  SGD_NESTEROV: False\n",
      "  STAGED_LR: False\n",
      "  STEPSIZE: (-1,)\n",
      "  WARMUP_CONS_LR: 1e-05\n",
      "  WARMUP_EPOCH: 1\n",
      "  WARMUP_MIN_LR: 1e-05\n",
      "  WARMUP_RECOUNT: True\n",
      "  WARMUP_TYPE: constant\n",
      "  WEIGHT_DECAY: 0.0005\n",
      "OUTPUT_DIR: output/evaluation/MaPLePromptScene/vit_b16_c2_ep200_batch4_ctx4_depth12_cross_datasets_-1shots/replica/seed1\n",
      "RESUME: \n",
      "SEED: 1\n",
      "TEST:\n",
      "  COMPUTE_CMAT: False\n",
      "  EVALUATOR: Classification\n",
      "  FINAL_MODEL: best_val\n",
      "  NO_TEST: False\n",
      "  PER_CLASS_RESULT: False\n",
      "  SPLIT: test\n",
      "TRAIN:\n",
      "  CHECKPOINT_FREQ: 0\n",
      "  COUNT_ITER: train_x\n",
      "  PRINT_FREQ: 20\n",
      "TRAINER:\n",
      "  CDAC:\n",
      "    CLASS_LR_MULTI: 10\n",
      "    P_THRESH: 0.95\n",
      "    RAMPUP_COEF: 30\n",
      "    RAMPUP_ITRS: 1000\n",
      "    STRONG_TRANSFORMS: ()\n",
      "    TOPK_MATCH: 5\n",
      "  COCOOP:\n",
      "    CTX_INIT: \n",
      "    N_CTX: 16\n",
      "    PREC: fp16\n",
      "  COOP:\n",
      "    CLASS_TOKEN_POSITION: end\n",
      "    CSC: False\n",
      "    CTX_INIT: \n",
      "    N_CTX: 16\n",
      "    PREC: fp16\n",
      "  CROSSGRAD:\n",
      "    ALPHA_D: 0.5\n",
      "    ALPHA_F: 0.5\n",
      "    EPS_D: 1.0\n",
      "    EPS_F: 1.0\n",
      "  DAEL:\n",
      "    CONF_THRE: 0.95\n",
      "    STRONG_TRANSFORMS: ()\n",
      "    WEIGHT_U: 0.5\n",
      "  DAELDG:\n",
      "    CONF_THRE: 0.95\n",
      "    STRONG_TRANSFORMS: ()\n",
      "    WEIGHT_U: 0.5\n",
      "  DDAIG:\n",
      "    ALPHA: 0.5\n",
      "    CLAMP: False\n",
      "    CLAMP_MAX: 1.0\n",
      "    CLAMP_MIN: -1.0\n",
      "    G_ARCH: \n",
      "    LMDA: 0.3\n",
      "    WARMUP: 0\n",
      "  DOMAINMIX:\n",
      "    ALPHA: 1.0\n",
      "    BETA: 1.0\n",
      "    TYPE: crossdomain\n",
      "  ENTMIN:\n",
      "    LMDA: 0.001\n",
      "  FIXMATCH:\n",
      "    CONF_THRE: 0.95\n",
      "    STRONG_TRANSFORMS: ()\n",
      "    WEIGHT_U: 1.0\n",
      "  IVLP:\n",
      "    CTX_INIT: a photo of a\n",
      "    N_CTX_TEXT: 2\n",
      "    N_CTX_VISION: 2\n",
      "    PREC: fp16\n",
      "    PROMPT_DEPTH_TEXT: 9\n",
      "    PROMPT_DEPTH_VISION: 9\n",
      "  M3SDA:\n",
      "    LMDA: 0.5\n",
      "    N_STEP_F: 4\n",
      "  MAPLE:\n",
      "    CTX_INIT: a photo of a\n",
      "    N_CTX: 2\n",
      "    PREC: fp16\n",
      "    PROMPT_DEPTH: 9\n",
      "  MAPLE_PROMPT_SCENE:\n",
      "    CTX_INIT: a photo of a {label}.\n",
      "    N_CTX: 4\n",
      "    PREC: fp16\n",
      "    PROMPT_DEPTH: 12\n",
      "  MCD:\n",
      "    N_STEP_F: 4\n",
      "  MEANTEACHER:\n",
      "    EMA_ALPHA: 0.999\n",
      "    RAMPUP: 5\n",
      "    WEIGHT_U: 1.0\n",
      "  MIXMATCH:\n",
      "    MIXUP_BETA: 0.75\n",
      "    RAMPUP: 20000\n",
      "    TEMP: 2.0\n",
      "    WEIGHT_U: 100.0\n",
      "  MME:\n",
      "    LMDA: 0.1\n",
      "  NAME: MaPLePromptScene\n",
      "  SE:\n",
      "    CONF_THRE: 0.95\n",
      "    EMA_ALPHA: 0.999\n",
      "    RAMPUP: 300\n",
      "  VPT:\n",
      "    CTX_INIT: a photo of a\n",
      "    N_CTX_VISION: 2\n",
      "    PREC: fp16\n",
      "    PROMPT_DEPTH_VISION: 1\n",
      "USE_CUDA: True\n",
      "VERBOSE: True\n",
      "VERSION: 1\n",
      "Collecting env info ...\n",
      "** System info **\n",
      "PyTorch version: 1.12.1+cu113\n",
      "Is debug build: False\n",
      "CUDA used to build PyTorch: 11.3\n",
      "ROCM used to build PyTorch: N/A\n",
      "\n",
      "OS: Ubuntu 20.04.4 LTS (x86_64)\n",
      "GCC version: (conda-forge gcc 9.5.0-17) 9.5.0\n",
      "Clang version: Could not collect\n",
      "CMake version: version 3.16.3\n",
      "Libc version: glibc-2.31\n",
      "\n",
      "Python version: 3.10.9 (main, Jan 11 2023, 15:21:40) [GCC 11.2.0] (64-bit runtime)\n",
      "Python platform: Linux-5.15.0-92-generic-x86_64-with-glibc2.31\n",
      "Is CUDA available: True\n",
      "CUDA runtime version: 11.3.122\n",
      "GPU models and configuration: GPU 0: NVIDIA GeForce RTX 3090\n",
      "Nvidia driver version: 525.147.05\n",
      "cuDNN version: Could not collect\n",
      "HIP runtime version: N/A\n",
      "MIOpen runtime version: N/A\n",
      "Is XNNPACK available: True\n",
      "\n",
      "Versions of relevant libraries:\n",
      "[pip3] mypy-extensions==1.0.0\n",
      "[pip3] numpy==1.24.2\n",
      "[pip3] pytorch-lightning==1.7.2\n",
      "[pip3] torch==1.12.1+cu113\n",
      "[pip3] torch-scatter==2.1.2\n",
      "[pip3] torchvision==0.13.1+cu113\n",
      "[conda] nomkl                     3.0                           0    anaconda\n",
      "[conda] numpy                     1.24.2                   pypi_0    pypi\n",
      "[conda] pytorch-lightning         1.7.2                    pypi_0    pypi\n",
      "[conda] torch                     1.12.1+cu113             pypi_0    pypi\n",
      "[conda] torch-scatter             2.1.2                    pypi_0    pypi\n",
      "[conda] torchvision               0.13.1+cu113             pypi_0    pypi\n",
      "        Pillow (9.5.0)\n",
      "\n",
      "Loading trainer: MaPLePromptScene\n",
      "Loading dataset: Replica\n",
      "[[ 0.16580392  0.42014274 -0.05035872 ... -1.3437905   0.06063112\n",
      "   0.38182712]\n",
      " [-0.14396423 -0.23980789 -0.03581798 ... -0.38452122 -0.27852157\n",
      "  -0.08892798]\n",
      " [-0.16517632 -0.08392607 -0.16438788 ... -0.38914844 -0.27581286\n",
      "  -0.05494805]\n",
      " ...\n",
      " [ 0.16474219  0.44753984 -0.06039088 ... -1.0437315   0.02224086\n",
      "   0.22220664]\n",
      " [-0.18075551 -0.35276285 -0.02773243 ... -0.42411137 -0.35918525\n",
      "  -0.08738346]\n",
      " [ 0.11741301  0.3667751  -0.21803148 ... -0.95950216 -0.00487911\n",
      "   0.30221578]]\n",
      "(100, 512)\n",
      "[[ 1.0492585   0.58256054 -0.79810715 ... -0.69788617  0.04951961\n",
      "  -1.1608106 ]\n",
      " [-0.05753413  0.2228871  -0.13225693 ... -0.6738755   0.02602124\n",
      "   0.02537858]\n",
      " [-0.18091743 -0.74941677  0.02806827 ... -0.34795663 -0.45708713\n",
      "  -0.10535818]\n",
      " ...\n",
      " [-0.41639286 -0.16208021 -0.24801876 ... -0.5737544  -0.3719646\n",
      "   0.01322712]\n",
      " [-0.46988183 -0.15147518 -0.26682517 ... -0.606382   -0.40134063\n",
      "   0.00511356]\n",
      " [-0.21550733 -0.47078982  0.0166251  ... -0.4229156  -0.42274767\n",
      "  -0.08106031]]\n",
      "(92, 512)\n",
      "-----------------------------------------------------------\n",
      "train: [<datasets.replica.Datum_feature object at 0x7f76085dcbb0>, <datasets.replica.Datum_feature object at 0x7f76085dcac0>, <datasets.replica.Datum_feature object at 0x7f76085dd810>, <datasets.replica.Datum_feature object at 0x7f76085dcd60>, <datasets.replica.Datum_feature object at 0x7f76085dd660>, <datasets.replica.Datum_feature object at 0x7f76085dd780>, <datasets.replica.Datum_feature object at 0x7f76085dd540>, <datasets.replica.Datum_feature object at 0x7f76085dcfa0>, <datasets.replica.Datum_feature object at 0x7f76085dd270>, <datasets.replica.Datum_feature object at 0x7f76085dc160>, <datasets.replica.Datum_feature object at 0x7f76085dc910>, <datasets.replica.Datum_feature object at 0x7f76085dd6c0>, <datasets.replica.Datum_feature object at 0x7f76085dca90>, <datasets.replica.Datum_feature object at 0x7f76085dd2d0>, <datasets.replica.Datum_feature object at 0x7f76085dd360>, <datasets.replica.Datum_feature object at 0x7f76085dd4b0>, <datasets.replica.Datum_feature object at 0x7f76085dd450>, <datasets.replica.Datum_feature object at 0x7f76085dd4e0>, <datasets.replica.Datum_feature object at 0x7f76085dd690>, <datasets.replica.Datum_feature object at 0x7f76085dd5d0>, <datasets.replica.Datum_feature object at 0x7f76085dd5a0>, <datasets.replica.Datum_feature object at 0x7f76085dd420>, <datasets.replica.Datum_feature object at 0x7f76085dd0f0>, <datasets.replica.Datum_feature object at 0x7f76085dd510>, <datasets.replica.Datum_feature object at 0x7f76085dd120>, <datasets.replica.Datum_feature object at 0x7f76085dcfd0>, <datasets.replica.Datum_feature object at 0x7f76085dd060>, <datasets.replica.Datum_feature object at 0x7f76085dd090>, <datasets.replica.Datum_feature object at 0x7f76085dd930>, <datasets.replica.Datum_feature object at 0x7f76085dd8d0>, <datasets.replica.Datum_feature object at 0x7f76085dd300>, <datasets.replica.Datum_feature object at 0x7f76085dc610>, <datasets.replica.Datum_feature object at 0x7f76085dd180>, <datasets.replica.Datum_feature object at 0x7f76085dd1b0>, <datasets.replica.Datum_feature object at 0x7f76085dcee0>, <datasets.replica.Datum_feature object at 0x7f76085dd030>, <datasets.replica.Datum_feature object at 0x7f76085dc880>, <datasets.replica.Datum_feature object at 0x7f76085dd240>, <datasets.replica.Datum_feature object at 0x7f76085dd150>, <datasets.replica.Datum_feature object at 0x7f76085dd000>, <datasets.replica.Datum_feature object at 0x7f76085dc640>, <datasets.replica.Datum_feature object at 0x7f76085dc790>, <datasets.replica.Datum_feature object at 0x7f76085dc4f0>, <datasets.replica.Datum_feature object at 0x7f76085dcdc0>, <datasets.replica.Datum_feature object at 0x7f76085dcd00>, <datasets.replica.Datum_feature object at 0x7f76085dcc10>, <datasets.replica.Datum_feature object at 0x7f76085dcd90>, <datasets.replica.Datum_feature object at 0x7f76085dcf40>, <datasets.replica.Datum_feature object at 0x7f76085dcb50>, <datasets.replica.Datum_feature object at 0x7f76085dcd30>, <datasets.replica.Datum_feature object at 0x7f76085dceb0>, <datasets.replica.Datum_feature object at 0x7f76085dce80>, <datasets.replica.Datum_feature object at 0x7f76085dcdf0>, <datasets.replica.Datum_feature object at 0x7f76085dccd0>, <datasets.replica.Datum_feature object at 0x7f76085dcb20>, <datasets.replica.Datum_feature object at 0x7f76085dc9a0>, <datasets.replica.Datum_feature object at 0x7f76085dcbe0>, <datasets.replica.Datum_feature object at 0x7f76085dcc70>, <datasets.replica.Datum_feature object at 0x7f76085dcf10>, <datasets.replica.Datum_feature object at 0x7f76085dca30>, <datasets.replica.Datum_feature object at 0x7f76085dcf70>, <datasets.replica.Datum_feature object at 0x7f76085dd7b0>, <datasets.replica.Datum_feature object at 0x7f76085dce50>, <datasets.replica.Datum_feature object at 0x7f76085dc8b0>, <datasets.replica.Datum_feature object at 0x7f76085dc970>, <datasets.replica.Datum_feature object at 0x7f76085dc400>, <datasets.replica.Datum_feature object at 0x7f76085dc850>, <datasets.replica.Datum_feature object at 0x7f76085dca60>, <datasets.replica.Datum_feature object at 0x7f76085dc7f0>, <datasets.replica.Datum_feature object at 0x7f76085dc7c0>, <datasets.replica.Datum_feature object at 0x7f76085dc430>, <datasets.replica.Datum_feature object at 0x7f76085dc730>, <datasets.replica.Datum_feature object at 0x7f76085dc6d0>, <datasets.replica.Datum_feature object at 0x7f76085dc4c0>, <datasets.replica.Datum_feature object at 0x7f76085dc5b0>, <datasets.replica.Datum_feature object at 0x7f76085dc5e0>, <datasets.replica.Datum_feature object at 0x7f76085dc670>, <datasets.replica.Datum_feature object at 0x7f76085dc2e0>, <datasets.replica.Datum_feature object at 0x7f76085dc310>, <datasets.replica.Datum_feature object at 0x7f76085dc550>, <datasets.replica.Datum_feature object at 0x7f76085dc520>, <datasets.replica.Datum_feature object at 0x7f76085dc0d0>, <datasets.replica.Datum_feature object at 0x7f76085dc3d0>, <datasets.replica.Datum_feature object at 0x7f76085dc490>, <datasets.replica.Datum_feature object at 0x7f76085dc460>, <datasets.replica.Datum_feature object at 0x7f76085dc190>, <datasets.replica.Datum_feature object at 0x7f76085dc220>, <datasets.replica.Datum_feature object at 0x7f76085dc370>, <datasets.replica.Datum_feature object at 0x7f76085dc340>, <datasets.replica.Datum_feature object at 0x7f76085dc130>, <datasets.replica.Datum_feature object at 0x7f76085dc1f0>, <datasets.replica.Datum_feature object at 0x7f76085dc1c0>, <datasets.replica.Datum_feature object at 0x7f76085dc040>, <datasets.replica.Datum_feature object at 0x7f76085dc070>, <datasets.replica.Datum_feature object at 0x7f76085dc100>, <datasets.replica.Datum_feature object at 0x7f76085dc580>, <datasets.replica.Datum_feature object at 0x7f76085dd990>, <datasets.replica.Datum_feature object at 0x7f76085dd720>, <datasets.replica.Datum_feature object at 0x7f76085dda20>, <datasets.replica.Datum_feature object at 0x7f76085dd330>, <datasets.replica.Datum_feature object at 0x7f76085dda50>, <datasets.replica.Datum_feature object at 0x7f76085f9060>, <datasets.replica.Datum_feature object at 0x7f76085f8f10>, <datasets.replica.Datum_feature object at 0x7f76085f91e0>, <datasets.replica.Datum_feature object at 0x7f76085f9750>, <datasets.replica.Datum_feature object at 0x7f76085f9090>, <datasets.replica.Datum_feature object at 0x7f76085f8c70>, <datasets.replica.Datum_feature object at 0x7f76085f8e50>, <datasets.replica.Datum_feature object at 0x7f76085f8e20>, <datasets.replica.Datum_feature object at 0x7f76085f8940>, <datasets.replica.Datum_feature object at 0x7f76085f8c40>, <datasets.replica.Datum_feature object at 0x7f76085f8b80>, <datasets.replica.Datum_feature object at 0x7f76085f8be0>, <datasets.replica.Datum_feature object at 0x7f76085f87f0>, <datasets.replica.Datum_feature object at 0x7f76085f8bb0>, <datasets.replica.Datum_feature object at 0x7f76085f97b0>, <datasets.replica.Datum_feature object at 0x7f76085f8ca0>, <datasets.replica.Datum_feature object at 0x7f76085f8fa0>, <datasets.replica.Datum_feature object at 0x7f76085f8a30>, <datasets.replica.Datum_feature object at 0x7f76085f8f40>, <datasets.replica.Datum_feature object at 0x7f76085f9240>, <datasets.replica.Datum_feature object at 0x7f76085f9000>, <datasets.replica.Datum_feature object at 0x7f76085f8cd0>, <datasets.replica.Datum_feature object at 0x7f76085fbe50>, <datasets.replica.Datum_feature object at 0x7f76085f8a00>, <datasets.replica.Datum_feature object at 0x7f76085fb940>, <datasets.replica.Datum_feature object at 0x7f76085f8df0>, <datasets.replica.Datum_feature object at 0x7f76085dd2a0>, <datasets.replica.Datum_feature object at 0x7f76085dce20>, <datasets.replica.Datum_feature object at 0x7f76085dd900>, <datasets.replica.Datum_feature object at 0x7f76085dc760>, <datasets.replica.Datum_feature object at 0x7f76085dc8e0>, <datasets.replica.Datum_feature object at 0x7f76085dc820>, <datasets.replica.Datum_feature object at 0x7f76085dc6a0>, <datasets.replica.Datum_feature object at 0x7f76085dd480>, <datasets.replica.Datum_feature object at 0x7f76085dd390>, <datasets.replica.Datum_feature object at 0x7f76085dd750>, <datasets.replica.Datum_feature object at 0x7f76085dd9c0>, <datasets.replica.Datum_feature object at 0x7f76085de050>, <datasets.replica.Datum_feature object at 0x7f76085dcb80>, <datasets.replica.Datum_feature object at 0x7f76085dd6f0>, <datasets.replica.Datum_feature object at 0x7f76085ddab0>, <datasets.replica.Datum_feature object at 0x7f76085dd7e0>, <datasets.replica.Datum_feature object at 0x7f76085de020>, <datasets.replica.Datum_feature object at 0x7f76085dd3c0>, <datasets.replica.Datum_feature object at 0x7f76085dd840>, <datasets.replica.Datum_feature object at 0x7f76085dd960>, <datasets.replica.Datum_feature object at 0x7f76085de080>, <datasets.replica.Datum_feature object at 0x7f76085dde10>, <datasets.replica.Datum_feature object at 0x7f76085ddf90>, <datasets.replica.Datum_feature object at 0x7f76085ddc90>, <datasets.replica.Datum_feature object at 0x7f76085dd8a0>, <datasets.replica.Datum_feature object at 0x7f76085ddc00>, <datasets.replica.Datum_feature object at 0x7f76085ddae0>, <datasets.replica.Datum_feature object at 0x7f76085ddb10>, <datasets.replica.Datum_feature object at 0x7f76085ddb40>, <datasets.replica.Datum_feature object at 0x7f76085ddb70>, <datasets.replica.Datum_feature object at 0x7f76085ddba0>, <datasets.replica.Datum_feature object at 0x7f76085ddbd0>, <datasets.replica.Datum_feature object at 0x7f76085ddc60>, <datasets.replica.Datum_feature object at 0x7f76085ddd50>, <datasets.replica.Datum_feature object at 0x7f76085ddcf0>, <datasets.replica.Datum_feature object at 0x7f76085ddcc0>, <datasets.replica.Datum_feature object at 0x7f76085dddb0>, <datasets.replica.Datum_feature object at 0x7f76085ddde0>, <datasets.replica.Datum_feature object at 0x7f76085ddd80>, <datasets.replica.Datum_feature object at 0x7f76085ddd20>, <datasets.replica.Datum_feature object at 0x7f76085dd870>, <datasets.replica.Datum_feature object at 0x7f76085dd600>, <datasets.replica.Datum_feature object at 0x7f76085dd9f0>, <datasets.replica.Datum_feature object at 0x7f76085ddff0>, <datasets.replica.Datum_feature object at 0x7f76085ddf30>, <datasets.replica.Datum_feature object at 0x7f76085ddf60>, <datasets.replica.Datum_feature object at 0x7f76085dde40>, <datasets.replica.Datum_feature object at 0x7f76085dde70>, <datasets.replica.Datum_feature object at 0x7f76085de0b0>, <datasets.replica.Datum_feature object at 0x7f76085de0e0>, <datasets.replica.Datum_feature object at 0x7f76085de110>]\n"
     ]
    },
    {
     "name": "stdout",
     "output_type": "stream",
     "text": [
      "val: [<datasets.replica.Datum_feature object at 0x7f76085de170>, <datasets.replica.Datum_feature object at 0x7f76085dc280>, <datasets.replica.Datum_feature object at 0x7f76085de1a0>, <datasets.replica.Datum_feature object at 0x7f76085dea10>, <datasets.replica.Datum_feature object at 0x7f76085de320>, <datasets.replica.Datum_feature object at 0x7f76085de350>, <datasets.replica.Datum_feature object at 0x7f76085de3b0>, <datasets.replica.Datum_feature object at 0x7f76085de3e0>, <datasets.replica.Datum_feature object at 0x7f76085de9e0>, <datasets.replica.Datum_feature object at 0x7f76085de290>, <datasets.replica.Datum_feature object at 0x7f76085de2c0>, <datasets.replica.Datum_feature object at 0x7f76085de410>, <datasets.replica.Datum_feature object at 0x7f76085dea40>, <datasets.replica.Datum_feature object at 0x7f76085de7d0>, <datasets.replica.Datum_feature object at 0x7f76085de950>, <datasets.replica.Datum_feature object at 0x7f76085de650>, <datasets.replica.Datum_feature object at 0x7f76085de470>, <datasets.replica.Datum_feature object at 0x7f76085de5c0>, <datasets.replica.Datum_feature object at 0x7f76085de440>, <datasets.replica.Datum_feature object at 0x7f76085de4d0>, <datasets.replica.Datum_feature object at 0x7f76085de500>, <datasets.replica.Datum_feature object at 0x7f76085de530>, <datasets.replica.Datum_feature object at 0x7f76085de560>, <datasets.replica.Datum_feature object at 0x7f76085de590>, <datasets.replica.Datum_feature object at 0x7f76085de620>, <datasets.replica.Datum_feature object at 0x7f76085de740>, <datasets.replica.Datum_feature object at 0x7f76085de7a0>, <datasets.replica.Datum_feature object at 0x7f76085de770>, <datasets.replica.Datum_feature object at 0x7f76085de710>, <datasets.replica.Datum_feature object at 0x7f76085de6e0>, <datasets.replica.Datum_feature object at 0x7f76085de6b0>, <datasets.replica.Datum_feature object at 0x7f76085de680>, <datasets.replica.Datum_feature object at 0x7f76085de4a0>, <datasets.replica.Datum_feature object at 0x7f76085de2f0>, <datasets.replica.Datum_feature object at 0x7f76085de380>, <datasets.replica.Datum_feature object at 0x7f76085de9b0>, <datasets.replica.Datum_feature object at 0x7f76085de8f0>, <datasets.replica.Datum_feature object at 0x7f76085de920>, <datasets.replica.Datum_feature object at 0x7f76085de800>, <datasets.replica.Datum_feature object at 0x7f76085de830>, <datasets.replica.Datum_feature object at 0x7f76085dea70>, <datasets.replica.Datum_feature object at 0x7f76085deaa0>, <datasets.replica.Datum_feature object at 0x7f76085dead0>, <datasets.replica.Datum_feature object at 0x7f76085deb00>, <datasets.replica.Datum_feature object at 0x7f76085deb30>, <datasets.replica.Datum_feature object at 0x7f76085deb90>, <datasets.replica.Datum_feature object at 0x7f76085de140>, <datasets.replica.Datum_feature object at 0x7f76085debc0>, <datasets.replica.Datum_feature object at 0x7f76085dfd90>, <datasets.replica.Datum_feature object at 0x7f76085ded40>, <datasets.replica.Datum_feature object at 0x7f76085ded70>, <datasets.replica.Datum_feature object at 0x7f76085dedd0>, <datasets.replica.Datum_feature object at 0x7f76085dee00>, <datasets.replica.Datum_feature object at 0x7f76085dfdc0>, <datasets.replica.Datum_feature object at 0x7f76085decb0>, <datasets.replica.Datum_feature object at 0x7f76085dece0>, <datasets.replica.Datum_feature object at 0x7f76085dee30>, <datasets.replica.Datum_feature object at 0x7f76085dfd60>, <datasets.replica.Datum_feature object at 0x7f76085dffd0>, <datasets.replica.Datum_feature object at 0x7f76085dfe50>, <datasets.replica.Datum_feature object at 0x7f76085df010>, <datasets.replica.Datum_feature object at 0x7f76085dee90>, <datasets.replica.Datum_feature object at 0x7f76085defe0>, <datasets.replica.Datum_feature object at 0x7f76085dee60>, <datasets.replica.Datum_feature object at 0x7f76085deef0>, <datasets.replica.Datum_feature object at 0x7f76085def20>, <datasets.replica.Datum_feature object at 0x7f76085def50>, <datasets.replica.Datum_feature object at 0x7f76085def80>, <datasets.replica.Datum_feature object at 0x7f76085defb0>, <datasets.replica.Datum_feature object at 0x7f76085df0d0>, <datasets.replica.Datum_feature object at 0x7f76085df220>, <datasets.replica.Datum_feature object at 0x7f76085df190>, <datasets.replica.Datum_feature object at 0x7f76085df1c0>, <datasets.replica.Datum_feature object at 0x7f76085df040>, <datasets.replica.Datum_feature object at 0x7f76085df100>, <datasets.replica.Datum_feature object at 0x7f76085df250>, <datasets.replica.Datum_feature object at 0x7f76085df160>, <datasets.replica.Datum_feature object at 0x7f76085deec0>, <datasets.replica.Datum_feature object at 0x7f76085ded10>, <datasets.replica.Datum_feature object at 0x7f76085deda0>, <datasets.replica.Datum_feature object at 0x7f76085dfdf0>, <datasets.replica.Datum_feature object at 0x7f76085dfeb0>, <datasets.replica.Datum_feature object at 0x7f76085dfe80>, <datasets.replica.Datum_feature object at 0x7f76085dffa0>, <datasets.replica.Datum_feature object at 0x7f76085dff70>, <datasets.replica.Datum_feature object at 0x7f76085dfd30>, <datasets.replica.Datum_feature object at 0x7f76085dfd00>, <datasets.replica.Datum_feature object at 0x7f76085dfcd0>, <datasets.replica.Datum_feature object at 0x7f76085dfca0>, <datasets.replica.Datum_feature object at 0x7f76085dfc70>, <datasets.replica.Datum_feature object at 0x7f76085dfc40>, <datasets.replica.Datum_feature object at 0x7f76085dfc10>, <datasets.replica.Datum_feature object at 0x7f76085dfbe0>, <datasets.replica.Datum_feature object at 0x7f76085dfbb0>, <datasets.replica.Datum_feature object at 0x7f76085dfb80>, <datasets.replica.Datum_feature object at 0x7f76085dfb50>, <datasets.replica.Datum_feature object at 0x7f76085dfb20>, <datasets.replica.Datum_feature object at 0x7f76085dfaf0>, <datasets.replica.Datum_feature object at 0x7f76085dfac0>, <datasets.replica.Datum_feature object at 0x7f76085dfa90>, <datasets.replica.Datum_feature object at 0x7f76085dfa60>, <datasets.replica.Datum_feature object at 0x7f76085dfa30>, <datasets.replica.Datum_feature object at 0x7f76085dfa00>, <datasets.replica.Datum_feature object at 0x7f76085df9d0>, <datasets.replica.Datum_feature object at 0x7f76085df9a0>, <datasets.replica.Datum_feature object at 0x7f76085df970>]\n",
      "test: [<datasets.replica.Datum_feature object at 0x7f76085df910>, <datasets.replica.Datum_feature object at 0x7f76085df310>, <datasets.replica.Datum_feature object at 0x7f76085df2e0>, <datasets.replica.Datum_feature object at 0x7f76085df0a0>, <datasets.replica.Datum_feature object at 0x7f76085df8e0>, <datasets.replica.Datum_feature object at 0x7f76085df940>, <datasets.replica.Datum_feature object at 0x7f76085deb60>, <datasets.replica.Datum_feature object at 0x7f76085df130>, <datasets.replica.Datum_feature object at 0x7f76085df3a0>, <datasets.replica.Datum_feature object at 0x7f76085df370>, <datasets.replica.Datum_feature object at 0x7f76085df1f0>, <datasets.replica.Datum_feature object at 0x7f76085df2b0>, <datasets.replica.Datum_feature object at 0x7f76085df460>, <datasets.replica.Datum_feature object at 0x7f76085df280>, <datasets.replica.Datum_feature object at 0x7f76085df700>, <datasets.replica.Datum_feature object at 0x7f76085df790>, <datasets.replica.Datum_feature object at 0x7f76085df5e0>, <datasets.replica.Datum_feature object at 0x7f76085df610>, <datasets.replica.Datum_feature object at 0x7f76085df430>, <datasets.replica.Datum_feature object at 0x7f76085df400>, <datasets.replica.Datum_feature object at 0x7f76085df3d0>, <datasets.replica.Datum_feature object at 0x7f76085df490>, <datasets.replica.Datum_feature object at 0x7f76085df4c0>, <datasets.replica.Datum_feature object at 0x7f76085df4f0>, <datasets.replica.Datum_feature object at 0x7f76085df520>, <datasets.replica.Datum_feature object at 0x7f76085df550>, <datasets.replica.Datum_feature object at 0x7f76085df580>, <datasets.replica.Datum_feature object at 0x7f76085df5b0>, <datasets.replica.Datum_feature object at 0x7f76085df640>, <datasets.replica.Datum_feature object at 0x7f76085df670>, <datasets.replica.Datum_feature object at 0x7f76085df6a0>, <datasets.replica.Datum_feature object at 0x7f76085df6d0>, <datasets.replica.Datum_feature object at 0x7f76085df730>, <datasets.replica.Datum_feature object at 0x7f76085df760>, <datasets.replica.Datum_feature object at 0x7f76085df7c0>, <datasets.replica.Datum_feature object at 0x7f76085df7f0>, <datasets.replica.Datum_feature object at 0x7f76085cc130>, <datasets.replica.Datum_feature object at 0x7f76085cc100>, <datasets.replica.Datum_feature object at 0x7f76085cc0d0>, <datasets.replica.Datum_feature object at 0x7f76085cc0a0>, <datasets.replica.Datum_feature object at 0x7f76085cc070>, <datasets.replica.Datum_feature object at 0x7f76085cc040>, <datasets.replica.Datum_feature object at 0x7f76085cc160>, <datasets.replica.Datum_feature object at 0x7f76085cc190>, <datasets.replica.Datum_feature object at 0x7f76085cc1c0>, <datasets.replica.Datum_feature object at 0x7f76085cc1f0>, <datasets.replica.Datum_feature object at 0x7f76085cc220>, <datasets.replica.Datum_feature object at 0x7f76085cc250>, <datasets.replica.Datum_feature object at 0x7f76085cc280>, <datasets.replica.Datum_feature object at 0x7f76085cc2b0>, <datasets.replica.Datum_feature object at 0x7f76085cc2e0>, <datasets.replica.Datum_feature object at 0x7f76085cc310>, <datasets.replica.Datum_feature object at 0x7f76085cc340>, <datasets.replica.Datum_feature object at 0x7f76085cc370>, <datasets.replica.Datum_feature object at 0x7f76085cc3a0>, <datasets.replica.Datum_feature object at 0x7f76085cc3d0>, <datasets.replica.Datum_feature object at 0x7f76085cc400>, <datasets.replica.Datum_feature object at 0x7f76085cc430>, <datasets.replica.Datum_feature object at 0x7f76085cc460>, <datasets.replica.Datum_feature object at 0x7f76085cc490>, <datasets.replica.Datum_feature object at 0x7f76085cc4c0>, <datasets.replica.Datum_feature object at 0x7f76085cc4f0>, <datasets.replica.Datum_feature object at 0x7f76085cc520>, <datasets.replica.Datum_feature object at 0x7f76085cc550>, <datasets.replica.Datum_feature object at 0x7f76085cc580>, <datasets.replica.Datum_feature object at 0x7f76085cc5b0>, <datasets.replica.Datum_feature object at 0x7f76085cc5e0>, <datasets.replica.Datum_feature object at 0x7f76085cc610>, <datasets.replica.Datum_feature object at 0x7f76085cc640>, <datasets.replica.Datum_feature object at 0x7f76085cc670>, <datasets.replica.Datum_feature object at 0x7f76085cc6a0>, <datasets.replica.Datum_feature object at 0x7f76085cc6d0>, <datasets.replica.Datum_feature object at 0x7f76085cc700>, <datasets.replica.Datum_feature object at 0x7f76085cc730>, <datasets.replica.Datum_feature object at 0x7f76085cc760>, <datasets.replica.Datum_feature object at 0x7f76085cc790>, <datasets.replica.Datum_feature object at 0x7f76085cc7c0>, <datasets.replica.Datum_feature object at 0x7f76085cc7f0>, <datasets.replica.Datum_feature object at 0x7f76085cc820>, <datasets.replica.Datum_feature object at 0x7f76085cc850>, <datasets.replica.Datum_feature object at 0x7f76085cc880>, <datasets.replica.Datum_feature object at 0x7f76085cc8b0>, <datasets.replica.Datum_feature object at 0x7f76085cc8e0>, <datasets.replica.Datum_feature object at 0x7f76085cc910>, <datasets.replica.Datum_feature object at 0x7f76085cc940>, <datasets.replica.Datum_feature object at 0x7f76085cc970>, <datasets.replica.Datum_feature object at 0x7f76085cc9a0>, <datasets.replica.Datum_feature object at 0x7f76085cc9d0>, <datasets.replica.Datum_feature object at 0x7f76085cca00>, <datasets.replica.Datum_feature object at 0x7f76085cca30>, <datasets.replica.Datum_feature object at 0x7f76085cca60>, <datasets.replica.Datum_feature object at 0x7f76085cca90>, <datasets.replica.Datum_feature object at 0x7f76085ccac0>, <datasets.replica.Datum_feature object at 0x7f76085ccaf0>, <datasets.replica.Datum_feature object at 0x7f76085ccb20>, <datasets.replica.Datum_feature object at 0x7f76085ccb50>, <datasets.replica.Datum_feature object at 0x7f76085ccb80>, <datasets.replica.Datum_feature object at 0x7f76085ccbb0>, <datasets.replica.Datum_feature object at 0x7f76085ccbe0>, <datasets.replica.Datum_feature object at 0x7f76085ccc10>, <datasets.replica.Datum_feature object at 0x7f76085f8d90>, <datasets.replica.Datum_feature object at 0x7f76085f92d0>, <datasets.replica.Datum_feature object at 0x7f76085fbbb0>, <datasets.replica.Datum_feature object at 0x7f76085fbb50>, <datasets.replica.Datum_feature object at 0x7f76085f9210>, <datasets.replica.Datum_feature object at 0x7f76085f9690>, <datasets.replica.Datum_feature object at 0x7f76085fbac0>, <datasets.replica.Datum_feature object at 0x7f76085dded0>, <datasets.replica.Datum_feature object at 0x7f76085dd0c0>, <datasets.replica.Datum_feature object at 0x7f76085df340>, <datasets.replica.Datum_feature object at 0x7f76085ddea0>, <datasets.replica.Datum_feature object at 0x7f76085dec20>, <datasets.replica.Datum_feature object at 0x7f76085dff40>, <datasets.replica.Datum_feature object at 0x7f76085de890>, <datasets.replica.Datum_feature object at 0x7f76085de860>, <datasets.replica.Datum_feature object at 0x7f76085dda80>, <datasets.replica.Datum_feature object at 0x7f76085dcca0>, <datasets.replica.Datum_feature object at 0x7f76085dd3f0>, <datasets.replica.Datum_feature object at 0x7f76085ddf00>, <datasets.replica.Datum_feature object at 0x7f76085ddfc0>, <datasets.replica.Datum_feature object at 0x7f76085de230>, <datasets.replica.Datum_feature object at 0x7f76085de260>, <datasets.replica.Datum_feature object at 0x7f76085de200>, <datasets.replica.Datum_feature object at 0x7f76085de1d0>, <datasets.replica.Datum_feature object at 0x7f76085de8c0>, <datasets.replica.Datum_feature object at 0x7f76085de980>, <datasets.replica.Datum_feature object at 0x7f76085dec50>, <datasets.replica.Datum_feature object at 0x7f76085dec80>, <datasets.replica.Datum_feature object at 0x7f76085debf0>, <datasets.replica.Datum_feature object at 0x7f76085dff10>, <datasets.replica.Datum_feature object at 0x7f76085dfee0>, <datasets.replica.Datum_feature object at 0x7f76085dfe20>, <datasets.replica.Datum_feature object at 0x7f76085ccc70>, <datasets.replica.Datum_feature object at 0x7f76085ccca0>, <datasets.replica.Datum_feature object at 0x7f76085ccc40>, <datasets.replica.Datum_feature object at 0x7f76085ccdf0>, <datasets.replica.Datum_feature object at 0x7f76085ccdc0>, <datasets.replica.Datum_feature object at 0x7f76085ccd90>, <datasets.replica.Datum_feature object at 0x7f76085ccd60>, <datasets.replica.Datum_feature object at 0x7f76085ccd30>, <datasets.replica.Datum_feature object at 0x7f76085ccd00>, <datasets.replica.Datum_feature object at 0x7f76085cccd0>, <datasets.replica.Datum_feature object at 0x7f76085cce20>, <datasets.replica.Datum_feature object at 0x7f76085cce80>, <datasets.replica.Datum_feature object at 0x7f76085cceb0>, <datasets.replica.Datum_feature object at 0x7f76085ccee0>, <datasets.replica.Datum_feature object at 0x7f76085ccf10>, <datasets.replica.Datum_feature object at 0x7f76085ccf40>, <datasets.replica.Datum_feature object at 0x7f76085ccf70>, <datasets.replica.Datum_feature object at 0x7f76085ccfa0>, <datasets.replica.Datum_feature object at 0x7f76085ccfd0>, <datasets.replica.Datum_feature object at 0x7f76085cd000>, <datasets.replica.Datum_feature object at 0x7f76085cd030>, <datasets.replica.Datum_feature object at 0x7f76085cd060>, <datasets.replica.Datum_feature object at 0x7f76085cd090>, <datasets.replica.Datum_feature object at 0x7f76085cd0c0>, <datasets.replica.Datum_feature object at 0x7f76085cd0f0>, <datasets.replica.Datum_feature object at 0x7f76085cd120>, <datasets.replica.Datum_feature object at 0x7f76085cd150>, <datasets.replica.Datum_feature object at 0x7f76085cd180>, <datasets.replica.Datum_feature object at 0x7f76085cd1b0>, <datasets.replica.Datum_feature object at 0x7f76085cd1e0>, <datasets.replica.Datum_feature object at 0x7f76085cd210>, <datasets.replica.Datum_feature object at 0x7f76085cd240>, <datasets.replica.Datum_feature object at 0x7f76085cd270>, <datasets.replica.Datum_feature object at 0x7f76085cd2a0>, <datasets.replica.Datum_feature object at 0x7f76085cd2d0>, <datasets.replica.Datum_feature object at 0x7f76085cd300>, <datasets.replica.Datum_feature object at 0x7f76085cd330>, <datasets.replica.Datum_feature object at 0x7f76085cd360>, <datasets.replica.Datum_feature object at 0x7f76085cd390>, <datasets.replica.Datum_feature object at 0x7f76085cd3c0>, <datasets.replica.Datum_feature object at 0x7f76085cd3f0>, <datasets.replica.Datum_feature object at 0x7f76085cd420>, <datasets.replica.Datum_feature object at 0x7f76085cd450>, <datasets.replica.Datum_feature object at 0x7f76085cd480>, <datasets.replica.Datum_feature object at 0x7f76085cd4b0>, <datasets.replica.Datum_feature object at 0x7f76085cd4e0>, <datasets.replica.Datum_feature object at 0x7f76085cd510>, <datasets.replica.Datum_feature object at 0x7f76085cd540>, <datasets.replica.Datum_feature object at 0x7f76085cd570>, <datasets.replica.Datum_feature object at 0x7f76085cd5a0>, <datasets.replica.Datum_feature object at 0x7f76085cd5d0>, <datasets.replica.Datum_feature object at 0x7f76085cd600>, <datasets.replica.Datum_feature object at 0x7f76085cd630>, <datasets.replica.Datum_feature object at 0x7f76085cd660>, <datasets.replica.Datum_feature object at 0x7f76085cd690>, <datasets.replica.Datum_feature object at 0x7f76085cd6c0>, <datasets.replica.Datum_feature object at 0x7f76085cd6f0>, <datasets.replica.Datum_feature object at 0x7f76085cd720>, <datasets.replica.Datum_feature object at 0x7f76085cd750>, <datasets.replica.Datum_feature object at 0x7f76085cd780>]\n"
     ]
    },
    {
     "name": "stdout",
     "output_type": "stream",
     "text": [
      "-----------------------------------------------------------\n",
      "-----------------------------------------------------------\n",
      "train: [<datasets.replica.Datum_feature object at 0x7f76085dcbb0>, <datasets.replica.Datum_feature object at 0x7f76085dcac0>, <datasets.replica.Datum_feature object at 0x7f76085dd810>, <datasets.replica.Datum_feature object at 0x7f76085dcd60>, <datasets.replica.Datum_feature object at 0x7f76085dd660>, <datasets.replica.Datum_feature object at 0x7f76085dd780>, <datasets.replica.Datum_feature object at 0x7f76085dd540>, <datasets.replica.Datum_feature object at 0x7f76085dcfa0>, <datasets.replica.Datum_feature object at 0x7f76085dd270>, <datasets.replica.Datum_feature object at 0x7f76085dc160>, <datasets.replica.Datum_feature object at 0x7f76085dc910>, <datasets.replica.Datum_feature object at 0x7f76085dd6c0>, <datasets.replica.Datum_feature object at 0x7f76085dca90>, <datasets.replica.Datum_feature object at 0x7f76085dd2d0>, <datasets.replica.Datum_feature object at 0x7f76085dd360>, <datasets.replica.Datum_feature object at 0x7f76085dd4b0>, <datasets.replica.Datum_feature object at 0x7f76085dd450>, <datasets.replica.Datum_feature object at 0x7f76085dd4e0>, <datasets.replica.Datum_feature object at 0x7f76085dd690>, <datasets.replica.Datum_feature object at 0x7f76085dd5d0>, <datasets.replica.Datum_feature object at 0x7f76085dd5a0>, <datasets.replica.Datum_feature object at 0x7f76085dd420>, <datasets.replica.Datum_feature object at 0x7f76085dd0f0>, <datasets.replica.Datum_feature object at 0x7f76085dd510>, <datasets.replica.Datum_feature object at 0x7f76085dd120>, <datasets.replica.Datum_feature object at 0x7f76085dcfd0>, <datasets.replica.Datum_feature object at 0x7f76085dd060>, <datasets.replica.Datum_feature object at 0x7f76085dd090>, <datasets.replica.Datum_feature object at 0x7f76085dd930>, <datasets.replica.Datum_feature object at 0x7f76085dd8d0>, <datasets.replica.Datum_feature object at 0x7f76085dd300>, <datasets.replica.Datum_feature object at 0x7f76085dc610>, <datasets.replica.Datum_feature object at 0x7f76085dd180>, <datasets.replica.Datum_feature object at 0x7f76085dd1b0>, <datasets.replica.Datum_feature object at 0x7f76085dcee0>, <datasets.replica.Datum_feature object at 0x7f76085dd030>, <datasets.replica.Datum_feature object at 0x7f76085dc880>, <datasets.replica.Datum_feature object at 0x7f76085dd240>, <datasets.replica.Datum_feature object at 0x7f76085dd150>, <datasets.replica.Datum_feature object at 0x7f76085dd000>, <datasets.replica.Datum_feature object at 0x7f76085dc640>, <datasets.replica.Datum_feature object at 0x7f76085dc790>, <datasets.replica.Datum_feature object at 0x7f76085dc4f0>, <datasets.replica.Datum_feature object at 0x7f76085dcdc0>, <datasets.replica.Datum_feature object at 0x7f76085dcd00>, <datasets.replica.Datum_feature object at 0x7f76085dcc10>, <datasets.replica.Datum_feature object at 0x7f76085dcd90>, <datasets.replica.Datum_feature object at 0x7f76085dcf40>, <datasets.replica.Datum_feature object at 0x7f76085dcb50>, <datasets.replica.Datum_feature object at 0x7f76085dcd30>, <datasets.replica.Datum_feature object at 0x7f76085dceb0>, <datasets.replica.Datum_feature object at 0x7f76085dce80>, <datasets.replica.Datum_feature object at 0x7f76085dcdf0>, <datasets.replica.Datum_feature object at 0x7f76085dccd0>, <datasets.replica.Datum_feature object at 0x7f76085dcb20>, <datasets.replica.Datum_feature object at 0x7f76085dc9a0>, <datasets.replica.Datum_feature object at 0x7f76085dcbe0>, <datasets.replica.Datum_feature object at 0x7f76085dcc70>, <datasets.replica.Datum_feature object at 0x7f76085dcf10>, <datasets.replica.Datum_feature object at 0x7f76085dca30>, <datasets.replica.Datum_feature object at 0x7f76085dcf70>, <datasets.replica.Datum_feature object at 0x7f76085dd7b0>, <datasets.replica.Datum_feature object at 0x7f76085dce50>, <datasets.replica.Datum_feature object at 0x7f76085dc8b0>, <datasets.replica.Datum_feature object at 0x7f76085dc970>, <datasets.replica.Datum_feature object at 0x7f76085dc400>, <datasets.replica.Datum_feature object at 0x7f76085dc850>, <datasets.replica.Datum_feature object at 0x7f76085dca60>, <datasets.replica.Datum_feature object at 0x7f76085dc7f0>, <datasets.replica.Datum_feature object at 0x7f76085dc7c0>, <datasets.replica.Datum_feature object at 0x7f76085dc430>, <datasets.replica.Datum_feature object at 0x7f76085dc730>, <datasets.replica.Datum_feature object at 0x7f76085dc6d0>, <datasets.replica.Datum_feature object at 0x7f76085dc4c0>, <datasets.replica.Datum_feature object at 0x7f76085dc5b0>, <datasets.replica.Datum_feature object at 0x7f76085dc5e0>, <datasets.replica.Datum_feature object at 0x7f76085dc670>, <datasets.replica.Datum_feature object at 0x7f76085dc2e0>, <datasets.replica.Datum_feature object at 0x7f76085dc310>, <datasets.replica.Datum_feature object at 0x7f76085dc550>, <datasets.replica.Datum_feature object at 0x7f76085dc520>, <datasets.replica.Datum_feature object at 0x7f76085dc0d0>, <datasets.replica.Datum_feature object at 0x7f76085dc3d0>, <datasets.replica.Datum_feature object at 0x7f76085dc490>, <datasets.replica.Datum_feature object at 0x7f76085dc460>, <datasets.replica.Datum_feature object at 0x7f76085dc190>, <datasets.replica.Datum_feature object at 0x7f76085dc220>, <datasets.replica.Datum_feature object at 0x7f76085dc370>, <datasets.replica.Datum_feature object at 0x7f76085dc340>, <datasets.replica.Datum_feature object at 0x7f76085dc130>, <datasets.replica.Datum_feature object at 0x7f76085dc1f0>, <datasets.replica.Datum_feature object at 0x7f76085dc1c0>, <datasets.replica.Datum_feature object at 0x7f76085dc040>, <datasets.replica.Datum_feature object at 0x7f76085dc070>, <datasets.replica.Datum_feature object at 0x7f76085dc100>, <datasets.replica.Datum_feature object at 0x7f76085dc580>, <datasets.replica.Datum_feature object at 0x7f76085dd990>, <datasets.replica.Datum_feature object at 0x7f76085dd720>, <datasets.replica.Datum_feature object at 0x7f76085dda20>, <datasets.replica.Datum_feature object at 0x7f76085dd330>, <datasets.replica.Datum_feature object at 0x7f76085dda50>, <datasets.replica.Datum_feature object at 0x7f76085f9060>, <datasets.replica.Datum_feature object at 0x7f76085f8f10>, <datasets.replica.Datum_feature object at 0x7f76085f91e0>, <datasets.replica.Datum_feature object at 0x7f76085f9750>, <datasets.replica.Datum_feature object at 0x7f76085f9090>, <datasets.replica.Datum_feature object at 0x7f76085f8c70>, <datasets.replica.Datum_feature object at 0x7f76085f8e50>, <datasets.replica.Datum_feature object at 0x7f76085f8e20>, <datasets.replica.Datum_feature object at 0x7f76085f8940>, <datasets.replica.Datum_feature object at 0x7f76085f8c40>, <datasets.replica.Datum_feature object at 0x7f76085f8b80>, <datasets.replica.Datum_feature object at 0x7f76085f8be0>, <datasets.replica.Datum_feature object at 0x7f76085f87f0>, <datasets.replica.Datum_feature object at 0x7f76085f8bb0>, <datasets.replica.Datum_feature object at 0x7f76085f97b0>, <datasets.replica.Datum_feature object at 0x7f76085f8ca0>, <datasets.replica.Datum_feature object at 0x7f76085f8fa0>, <datasets.replica.Datum_feature object at 0x7f76085f8a30>, <datasets.replica.Datum_feature object at 0x7f76085f8f40>, <datasets.replica.Datum_feature object at 0x7f76085f9240>, <datasets.replica.Datum_feature object at 0x7f76085f9000>, <datasets.replica.Datum_feature object at 0x7f76085f8cd0>, <datasets.replica.Datum_feature object at 0x7f76085fbe50>, <datasets.replica.Datum_feature object at 0x7f76085f8a00>, <datasets.replica.Datum_feature object at 0x7f76085fb940>, <datasets.replica.Datum_feature object at 0x7f76085f8df0>, <datasets.replica.Datum_feature object at 0x7f76085dd2a0>, <datasets.replica.Datum_feature object at 0x7f76085dce20>, <datasets.replica.Datum_feature object at 0x7f76085dd900>, <datasets.replica.Datum_feature object at 0x7f76085dc760>, <datasets.replica.Datum_feature object at 0x7f76085dc8e0>, <datasets.replica.Datum_feature object at 0x7f76085dc820>, <datasets.replica.Datum_feature object at 0x7f76085dc6a0>, <datasets.replica.Datum_feature object at 0x7f76085dd480>, <datasets.replica.Datum_feature object at 0x7f76085dd390>, <datasets.replica.Datum_feature object at 0x7f76085dd750>, <datasets.replica.Datum_feature object at 0x7f76085dd9c0>, <datasets.replica.Datum_feature object at 0x7f76085de050>, <datasets.replica.Datum_feature object at 0x7f76085dcb80>, <datasets.replica.Datum_feature object at 0x7f76085dd6f0>, <datasets.replica.Datum_feature object at 0x7f76085ddab0>, <datasets.replica.Datum_feature object at 0x7f76085dd7e0>, <datasets.replica.Datum_feature object at 0x7f76085de020>, <datasets.replica.Datum_feature object at 0x7f76085dd3c0>, <datasets.replica.Datum_feature object at 0x7f76085dd840>, <datasets.replica.Datum_feature object at 0x7f76085dd960>, <datasets.replica.Datum_feature object at 0x7f76085de080>, <datasets.replica.Datum_feature object at 0x7f76085dde10>, <datasets.replica.Datum_feature object at 0x7f76085ddf90>, <datasets.replica.Datum_feature object at 0x7f76085ddc90>, <datasets.replica.Datum_feature object at 0x7f76085dd8a0>, <datasets.replica.Datum_feature object at 0x7f76085ddc00>, <datasets.replica.Datum_feature object at 0x7f76085ddae0>, <datasets.replica.Datum_feature object at 0x7f76085ddb10>, <datasets.replica.Datum_feature object at 0x7f76085ddb40>, <datasets.replica.Datum_feature object at 0x7f76085ddb70>, <datasets.replica.Datum_feature object at 0x7f76085ddba0>, <datasets.replica.Datum_feature object at 0x7f76085ddbd0>, <datasets.replica.Datum_feature object at 0x7f76085ddc60>, <datasets.replica.Datum_feature object at 0x7f76085ddd50>, <datasets.replica.Datum_feature object at 0x7f76085ddcf0>, <datasets.replica.Datum_feature object at 0x7f76085ddcc0>, <datasets.replica.Datum_feature object at 0x7f76085dddb0>, <datasets.replica.Datum_feature object at 0x7f76085ddde0>, <datasets.replica.Datum_feature object at 0x7f76085ddd80>, <datasets.replica.Datum_feature object at 0x7f76085ddd20>, <datasets.replica.Datum_feature object at 0x7f76085dd870>, <datasets.replica.Datum_feature object at 0x7f76085dd600>, <datasets.replica.Datum_feature object at 0x7f76085dd9f0>, <datasets.replica.Datum_feature object at 0x7f76085ddff0>, <datasets.replica.Datum_feature object at 0x7f76085ddf30>, <datasets.replica.Datum_feature object at 0x7f76085ddf60>, <datasets.replica.Datum_feature object at 0x7f76085dde40>, <datasets.replica.Datum_feature object at 0x7f76085dde70>, <datasets.replica.Datum_feature object at 0x7f76085de0b0>, <datasets.replica.Datum_feature object at 0x7f76085de0e0>, <datasets.replica.Datum_feature object at 0x7f76085de110>]\n"
     ]
    },
    {
     "name": "stdout",
     "output_type": "stream",
     "text": [
      "val: [<datasets.replica.Datum_feature object at 0x7f76085de170>, <datasets.replica.Datum_feature object at 0x7f76085dc280>, <datasets.replica.Datum_feature object at 0x7f76085de1a0>, <datasets.replica.Datum_feature object at 0x7f76085dea10>, <datasets.replica.Datum_feature object at 0x7f76085de320>, <datasets.replica.Datum_feature object at 0x7f76085de350>, <datasets.replica.Datum_feature object at 0x7f76085de3b0>, <datasets.replica.Datum_feature object at 0x7f76085de3e0>, <datasets.replica.Datum_feature object at 0x7f76085de9e0>, <datasets.replica.Datum_feature object at 0x7f76085de290>, <datasets.replica.Datum_feature object at 0x7f76085de2c0>, <datasets.replica.Datum_feature object at 0x7f76085de410>, <datasets.replica.Datum_feature object at 0x7f76085dea40>, <datasets.replica.Datum_feature object at 0x7f76085de7d0>, <datasets.replica.Datum_feature object at 0x7f76085de950>, <datasets.replica.Datum_feature object at 0x7f76085de650>, <datasets.replica.Datum_feature object at 0x7f76085de470>, <datasets.replica.Datum_feature object at 0x7f76085de5c0>, <datasets.replica.Datum_feature object at 0x7f76085de440>, <datasets.replica.Datum_feature object at 0x7f76085de4d0>, <datasets.replica.Datum_feature object at 0x7f76085de500>, <datasets.replica.Datum_feature object at 0x7f76085de530>, <datasets.replica.Datum_feature object at 0x7f76085de560>, <datasets.replica.Datum_feature object at 0x7f76085de590>, <datasets.replica.Datum_feature object at 0x7f76085de620>, <datasets.replica.Datum_feature object at 0x7f76085de740>, <datasets.replica.Datum_feature object at 0x7f76085de7a0>, <datasets.replica.Datum_feature object at 0x7f76085de770>, <datasets.replica.Datum_feature object at 0x7f76085de710>, <datasets.replica.Datum_feature object at 0x7f76085de6e0>, <datasets.replica.Datum_feature object at 0x7f76085de6b0>, <datasets.replica.Datum_feature object at 0x7f76085de680>, <datasets.replica.Datum_feature object at 0x7f76085de4a0>, <datasets.replica.Datum_feature object at 0x7f76085de2f0>, <datasets.replica.Datum_feature object at 0x7f76085de380>, <datasets.replica.Datum_feature object at 0x7f76085de9b0>, <datasets.replica.Datum_feature object at 0x7f76085de8f0>, <datasets.replica.Datum_feature object at 0x7f76085de920>, <datasets.replica.Datum_feature object at 0x7f76085de800>, <datasets.replica.Datum_feature object at 0x7f76085de830>, <datasets.replica.Datum_feature object at 0x7f76085dea70>, <datasets.replica.Datum_feature object at 0x7f76085deaa0>, <datasets.replica.Datum_feature object at 0x7f76085dead0>, <datasets.replica.Datum_feature object at 0x7f76085deb00>, <datasets.replica.Datum_feature object at 0x7f76085deb30>, <datasets.replica.Datum_feature object at 0x7f76085deb90>, <datasets.replica.Datum_feature object at 0x7f76085de140>, <datasets.replica.Datum_feature object at 0x7f76085debc0>, <datasets.replica.Datum_feature object at 0x7f76085dfd90>, <datasets.replica.Datum_feature object at 0x7f76085ded40>, <datasets.replica.Datum_feature object at 0x7f76085ded70>, <datasets.replica.Datum_feature object at 0x7f76085dedd0>, <datasets.replica.Datum_feature object at 0x7f76085dee00>, <datasets.replica.Datum_feature object at 0x7f76085dfdc0>, <datasets.replica.Datum_feature object at 0x7f76085decb0>, <datasets.replica.Datum_feature object at 0x7f76085dece0>, <datasets.replica.Datum_feature object at 0x7f76085dee30>, <datasets.replica.Datum_feature object at 0x7f76085dfd60>, <datasets.replica.Datum_feature object at 0x7f76085dffd0>, <datasets.replica.Datum_feature object at 0x7f76085dfe50>, <datasets.replica.Datum_feature object at 0x7f76085df010>, <datasets.replica.Datum_feature object at 0x7f76085dee90>, <datasets.replica.Datum_feature object at 0x7f76085defe0>, <datasets.replica.Datum_feature object at 0x7f76085dee60>, <datasets.replica.Datum_feature object at 0x7f76085deef0>, <datasets.replica.Datum_feature object at 0x7f76085def20>, <datasets.replica.Datum_feature object at 0x7f76085def50>, <datasets.replica.Datum_feature object at 0x7f76085def80>, <datasets.replica.Datum_feature object at 0x7f76085defb0>, <datasets.replica.Datum_feature object at 0x7f76085df0d0>, <datasets.replica.Datum_feature object at 0x7f76085df220>, <datasets.replica.Datum_feature object at 0x7f76085df190>, <datasets.replica.Datum_feature object at 0x7f76085df1c0>, <datasets.replica.Datum_feature object at 0x7f76085df040>, <datasets.replica.Datum_feature object at 0x7f76085df100>, <datasets.replica.Datum_feature object at 0x7f76085df250>, <datasets.replica.Datum_feature object at 0x7f76085df160>, <datasets.replica.Datum_feature object at 0x7f76085deec0>, <datasets.replica.Datum_feature object at 0x7f76085ded10>, <datasets.replica.Datum_feature object at 0x7f76085deda0>, <datasets.replica.Datum_feature object at 0x7f76085dfdf0>, <datasets.replica.Datum_feature object at 0x7f76085dfeb0>, <datasets.replica.Datum_feature object at 0x7f76085dfe80>, <datasets.replica.Datum_feature object at 0x7f76085dffa0>, <datasets.replica.Datum_feature object at 0x7f76085dff70>, <datasets.replica.Datum_feature object at 0x7f76085dfd30>, <datasets.replica.Datum_feature object at 0x7f76085dfd00>, <datasets.replica.Datum_feature object at 0x7f76085dfcd0>, <datasets.replica.Datum_feature object at 0x7f76085dfca0>, <datasets.replica.Datum_feature object at 0x7f76085dfc70>, <datasets.replica.Datum_feature object at 0x7f76085dfc40>, <datasets.replica.Datum_feature object at 0x7f76085dfc10>, <datasets.replica.Datum_feature object at 0x7f76085dfbe0>, <datasets.replica.Datum_feature object at 0x7f76085dfbb0>, <datasets.replica.Datum_feature object at 0x7f76085dfb80>, <datasets.replica.Datum_feature object at 0x7f76085dfb50>, <datasets.replica.Datum_feature object at 0x7f76085dfb20>, <datasets.replica.Datum_feature object at 0x7f76085dfaf0>, <datasets.replica.Datum_feature object at 0x7f76085dfac0>, <datasets.replica.Datum_feature object at 0x7f76085dfa90>, <datasets.replica.Datum_feature object at 0x7f76085dfa60>, <datasets.replica.Datum_feature object at 0x7f76085dfa30>, <datasets.replica.Datum_feature object at 0x7f76085dfa00>, <datasets.replica.Datum_feature object at 0x7f76085df9d0>, <datasets.replica.Datum_feature object at 0x7f76085df9a0>, <datasets.replica.Datum_feature object at 0x7f76085df970>]\n",
      "test: [<datasets.replica.Datum_feature object at 0x7f76085df910>, <datasets.replica.Datum_feature object at 0x7f76085df310>, <datasets.replica.Datum_feature object at 0x7f76085df2e0>, <datasets.replica.Datum_feature object at 0x7f76085df0a0>, <datasets.replica.Datum_feature object at 0x7f76085df8e0>, <datasets.replica.Datum_feature object at 0x7f76085df940>, <datasets.replica.Datum_feature object at 0x7f76085deb60>, <datasets.replica.Datum_feature object at 0x7f76085df130>, <datasets.replica.Datum_feature object at 0x7f76085df3a0>, <datasets.replica.Datum_feature object at 0x7f76085df370>, <datasets.replica.Datum_feature object at 0x7f76085df1f0>, <datasets.replica.Datum_feature object at 0x7f76085df2b0>, <datasets.replica.Datum_feature object at 0x7f76085df460>, <datasets.replica.Datum_feature object at 0x7f76085df280>, <datasets.replica.Datum_feature object at 0x7f76085df700>, <datasets.replica.Datum_feature object at 0x7f76085df790>, <datasets.replica.Datum_feature object at 0x7f76085df5e0>, <datasets.replica.Datum_feature object at 0x7f76085df610>, <datasets.replica.Datum_feature object at 0x7f76085df430>, <datasets.replica.Datum_feature object at 0x7f76085df400>, <datasets.replica.Datum_feature object at 0x7f76085df3d0>, <datasets.replica.Datum_feature object at 0x7f76085df490>, <datasets.replica.Datum_feature object at 0x7f76085df4c0>, <datasets.replica.Datum_feature object at 0x7f76085df4f0>, <datasets.replica.Datum_feature object at 0x7f76085df520>, <datasets.replica.Datum_feature object at 0x7f76085df550>, <datasets.replica.Datum_feature object at 0x7f76085df580>, <datasets.replica.Datum_feature object at 0x7f76085df5b0>, <datasets.replica.Datum_feature object at 0x7f76085df640>, <datasets.replica.Datum_feature object at 0x7f76085df670>, <datasets.replica.Datum_feature object at 0x7f76085df6a0>, <datasets.replica.Datum_feature object at 0x7f76085df6d0>, <datasets.replica.Datum_feature object at 0x7f76085df730>, <datasets.replica.Datum_feature object at 0x7f76085df760>, <datasets.replica.Datum_feature object at 0x7f76085df7c0>, <datasets.replica.Datum_feature object at 0x7f76085df7f0>, <datasets.replica.Datum_feature object at 0x7f76085cc130>, <datasets.replica.Datum_feature object at 0x7f76085cc100>, <datasets.replica.Datum_feature object at 0x7f76085cc0d0>, <datasets.replica.Datum_feature object at 0x7f76085cc0a0>, <datasets.replica.Datum_feature object at 0x7f76085cc070>, <datasets.replica.Datum_feature object at 0x7f76085cc040>, <datasets.replica.Datum_feature object at 0x7f76085cc160>, <datasets.replica.Datum_feature object at 0x7f76085cc190>, <datasets.replica.Datum_feature object at 0x7f76085cc1c0>, <datasets.replica.Datum_feature object at 0x7f76085cc1f0>, <datasets.replica.Datum_feature object at 0x7f76085cc220>, <datasets.replica.Datum_feature object at 0x7f76085cc250>, <datasets.replica.Datum_feature object at 0x7f76085cc280>, <datasets.replica.Datum_feature object at 0x7f76085cc2b0>, <datasets.replica.Datum_feature object at 0x7f76085cc2e0>, <datasets.replica.Datum_feature object at 0x7f76085cc310>, <datasets.replica.Datum_feature object at 0x7f76085cc340>, <datasets.replica.Datum_feature object at 0x7f76085cc370>, <datasets.replica.Datum_feature object at 0x7f76085cc3a0>, <datasets.replica.Datum_feature object at 0x7f76085cc3d0>, <datasets.replica.Datum_feature object at 0x7f76085cc400>, <datasets.replica.Datum_feature object at 0x7f76085cc430>, <datasets.replica.Datum_feature object at 0x7f76085cc460>, <datasets.replica.Datum_feature object at 0x7f76085cc490>, <datasets.replica.Datum_feature object at 0x7f76085cc4c0>, <datasets.replica.Datum_feature object at 0x7f76085cc4f0>, <datasets.replica.Datum_feature object at 0x7f76085cc520>, <datasets.replica.Datum_feature object at 0x7f76085cc550>, <datasets.replica.Datum_feature object at 0x7f76085cc580>, <datasets.replica.Datum_feature object at 0x7f76085cc5b0>, <datasets.replica.Datum_feature object at 0x7f76085cc5e0>, <datasets.replica.Datum_feature object at 0x7f76085cc610>, <datasets.replica.Datum_feature object at 0x7f76085cc640>, <datasets.replica.Datum_feature object at 0x7f76085cc670>, <datasets.replica.Datum_feature object at 0x7f76085cc6a0>, <datasets.replica.Datum_feature object at 0x7f76085cc6d0>, <datasets.replica.Datum_feature object at 0x7f76085cc700>, <datasets.replica.Datum_feature object at 0x7f76085cc730>, <datasets.replica.Datum_feature object at 0x7f76085cc760>, <datasets.replica.Datum_feature object at 0x7f76085cc790>, <datasets.replica.Datum_feature object at 0x7f76085cc7c0>, <datasets.replica.Datum_feature object at 0x7f76085cc7f0>, <datasets.replica.Datum_feature object at 0x7f76085cc820>, <datasets.replica.Datum_feature object at 0x7f76085cc850>, <datasets.replica.Datum_feature object at 0x7f76085cc880>, <datasets.replica.Datum_feature object at 0x7f76085cc8b0>, <datasets.replica.Datum_feature object at 0x7f76085cc8e0>, <datasets.replica.Datum_feature object at 0x7f76085cc910>, <datasets.replica.Datum_feature object at 0x7f76085cc940>, <datasets.replica.Datum_feature object at 0x7f76085cc970>, <datasets.replica.Datum_feature object at 0x7f76085cc9a0>, <datasets.replica.Datum_feature object at 0x7f76085cc9d0>, <datasets.replica.Datum_feature object at 0x7f76085cca00>, <datasets.replica.Datum_feature object at 0x7f76085cca30>, <datasets.replica.Datum_feature object at 0x7f76085cca60>, <datasets.replica.Datum_feature object at 0x7f76085cca90>, <datasets.replica.Datum_feature object at 0x7f76085ccac0>, <datasets.replica.Datum_feature object at 0x7f76085ccaf0>, <datasets.replica.Datum_feature object at 0x7f76085ccb20>, <datasets.replica.Datum_feature object at 0x7f76085ccb50>, <datasets.replica.Datum_feature object at 0x7f76085ccb80>, <datasets.replica.Datum_feature object at 0x7f76085ccbb0>, <datasets.replica.Datum_feature object at 0x7f76085ccbe0>, <datasets.replica.Datum_feature object at 0x7f76085ccc10>, <datasets.replica.Datum_feature object at 0x7f76085f8d90>, <datasets.replica.Datum_feature object at 0x7f76085f92d0>, <datasets.replica.Datum_feature object at 0x7f76085fbbb0>, <datasets.replica.Datum_feature object at 0x7f76085fbb50>, <datasets.replica.Datum_feature object at 0x7f76085f9210>, <datasets.replica.Datum_feature object at 0x7f76085f9690>, <datasets.replica.Datum_feature object at 0x7f76085fbac0>, <datasets.replica.Datum_feature object at 0x7f76085dded0>, <datasets.replica.Datum_feature object at 0x7f76085dd0c0>, <datasets.replica.Datum_feature object at 0x7f76085df340>, <datasets.replica.Datum_feature object at 0x7f76085ddea0>, <datasets.replica.Datum_feature object at 0x7f76085dec20>, <datasets.replica.Datum_feature object at 0x7f76085dff40>, <datasets.replica.Datum_feature object at 0x7f76085de890>, <datasets.replica.Datum_feature object at 0x7f76085de860>, <datasets.replica.Datum_feature object at 0x7f76085dda80>, <datasets.replica.Datum_feature object at 0x7f76085dcca0>, <datasets.replica.Datum_feature object at 0x7f76085dd3f0>, <datasets.replica.Datum_feature object at 0x7f76085ddf00>, <datasets.replica.Datum_feature object at 0x7f76085ddfc0>, <datasets.replica.Datum_feature object at 0x7f76085de230>, <datasets.replica.Datum_feature object at 0x7f76085de260>, <datasets.replica.Datum_feature object at 0x7f76085de200>, <datasets.replica.Datum_feature object at 0x7f76085de1d0>, <datasets.replica.Datum_feature object at 0x7f76085de8c0>, <datasets.replica.Datum_feature object at 0x7f76085de980>, <datasets.replica.Datum_feature object at 0x7f76085dec50>, <datasets.replica.Datum_feature object at 0x7f76085dec80>, <datasets.replica.Datum_feature object at 0x7f76085debf0>, <datasets.replica.Datum_feature object at 0x7f76085dff10>, <datasets.replica.Datum_feature object at 0x7f76085dfee0>, <datasets.replica.Datum_feature object at 0x7f76085dfe20>, <datasets.replica.Datum_feature object at 0x7f76085ccc70>, <datasets.replica.Datum_feature object at 0x7f76085ccca0>, <datasets.replica.Datum_feature object at 0x7f76085ccc40>, <datasets.replica.Datum_feature object at 0x7f76085ccdf0>, <datasets.replica.Datum_feature object at 0x7f76085ccdc0>, <datasets.replica.Datum_feature object at 0x7f76085ccd90>, <datasets.replica.Datum_feature object at 0x7f76085ccd60>, <datasets.replica.Datum_feature object at 0x7f76085ccd30>, <datasets.replica.Datum_feature object at 0x7f76085ccd00>, <datasets.replica.Datum_feature object at 0x7f76085cccd0>, <datasets.replica.Datum_feature object at 0x7f76085cce20>, <datasets.replica.Datum_feature object at 0x7f76085cce80>, <datasets.replica.Datum_feature object at 0x7f76085cceb0>, <datasets.replica.Datum_feature object at 0x7f76085ccee0>, <datasets.replica.Datum_feature object at 0x7f76085ccf10>, <datasets.replica.Datum_feature object at 0x7f76085ccf40>, <datasets.replica.Datum_feature object at 0x7f76085ccf70>, <datasets.replica.Datum_feature object at 0x7f76085ccfa0>, <datasets.replica.Datum_feature object at 0x7f76085ccfd0>, <datasets.replica.Datum_feature object at 0x7f76085cd000>, <datasets.replica.Datum_feature object at 0x7f76085cd030>, <datasets.replica.Datum_feature object at 0x7f76085cd060>, <datasets.replica.Datum_feature object at 0x7f76085cd090>, <datasets.replica.Datum_feature object at 0x7f76085cd0c0>, <datasets.replica.Datum_feature object at 0x7f76085cd0f0>, <datasets.replica.Datum_feature object at 0x7f76085cd120>, <datasets.replica.Datum_feature object at 0x7f76085cd150>, <datasets.replica.Datum_feature object at 0x7f76085cd180>, <datasets.replica.Datum_feature object at 0x7f76085cd1b0>, <datasets.replica.Datum_feature object at 0x7f76085cd1e0>, <datasets.replica.Datum_feature object at 0x7f76085cd210>, <datasets.replica.Datum_feature object at 0x7f76085cd240>, <datasets.replica.Datum_feature object at 0x7f76085cd270>, <datasets.replica.Datum_feature object at 0x7f76085cd2a0>, <datasets.replica.Datum_feature object at 0x7f76085cd2d0>, <datasets.replica.Datum_feature object at 0x7f76085cd300>, <datasets.replica.Datum_feature object at 0x7f76085cd330>, <datasets.replica.Datum_feature object at 0x7f76085cd360>, <datasets.replica.Datum_feature object at 0x7f76085cd390>, <datasets.replica.Datum_feature object at 0x7f76085cd3c0>, <datasets.replica.Datum_feature object at 0x7f76085cd3f0>, <datasets.replica.Datum_feature object at 0x7f76085cd420>, <datasets.replica.Datum_feature object at 0x7f76085cd450>, <datasets.replica.Datum_feature object at 0x7f76085cd480>, <datasets.replica.Datum_feature object at 0x7f76085cd4b0>, <datasets.replica.Datum_feature object at 0x7f76085cd4e0>, <datasets.replica.Datum_feature object at 0x7f76085cd510>, <datasets.replica.Datum_feature object at 0x7f76085cd540>, <datasets.replica.Datum_feature object at 0x7f76085cd570>, <datasets.replica.Datum_feature object at 0x7f76085cd5a0>, <datasets.replica.Datum_feature object at 0x7f76085cd5d0>, <datasets.replica.Datum_feature object at 0x7f76085cd600>, <datasets.replica.Datum_feature object at 0x7f76085cd630>, <datasets.replica.Datum_feature object at 0x7f76085cd660>, <datasets.replica.Datum_feature object at 0x7f76085cd690>, <datasets.replica.Datum_feature object at 0x7f76085cd6c0>, <datasets.replica.Datum_feature object at 0x7f76085cd6f0>, <datasets.replica.Datum_feature object at 0x7f76085cd720>, <datasets.replica.Datum_feature object at 0x7f76085cd750>, <datasets.replica.Datum_feature object at 0x7f76085cd780>]\n"
     ]
    },
    {
     "name": "stdout",
     "output_type": "stream",
     "text": [
      "-----------------------------------------------------------\n",
      "Label range: 0-47\n",
      "Unique labels: {0, 3, 4, 5, 6, 7, 10, 11, 12, 13, 14, 15, 17, 18, 19, 20, 21, 22, 23, 25, 26, 27, 28, 30, 31, 32, 35, 36, 37, 38, 39, 40, 41, 43, 44, 45, 46, 47}\n",
      "Label range: 0-47\n",
      "Unique labels: {0, 1, 2, 3, 4, 5, 6, 7, 8, 10, 11, 13, 14, 16, 17, 19, 20, 21, 22, 24, 25, 26, 28, 29, 31, 35, 37, 38, 39, 40, 42, 43, 44, 45, 46, 47}\n",
      "Label range: 0-0\n",
      "Unique labels: {0}\n",
      "Building transform_train\n",
      "+ random resized crop (size=(224, 224), scale=(0.08, 1.0))\n",
      "+ random flip\n",
      "+ to torch tensor of range [0, 1]\n",
      "+ normalization (mean=[0.48145466, 0.4578275, 0.40821073], std=[0.26862954, 0.26130258, 0.27577711])\n",
      "Building transform_test\n",
      "+ resize the smaller edge to 224\n",
      "+ 224x224 center crop\n",
      "+ to torch tensor of range [0, 1]\n",
      "+ normalization (mean=[0.48145466, 0.4578275, 0.40821073], std=[0.26862954, 0.26130258, 0.27577711])\n",
      "---------  -------\n",
      "Dataset    Replica\n",
      "# classes  48\n",
      "# train_x  178\n",
      "# val      106\n",
      "# test     192\n",
      "---------  -------\n",
      "Loading CLIP (backbone: ViT-B/16)\n",
      "Building custom CLIP\n",
      "whole prompts\n",
      "['a photo of a .', 'a photo of a bed.', 'a photo of a bench.', 'a photo of a bin.', 'a photo of a blanket.', 'a photo of a blinds.', 'a photo of a book.', 'a photo of a bottle.', 'a photo of a box.', 'a photo of a camera.', 'a photo of a cabinet.', 'a photo of a candle.', 'a photo of a chair.', 'a photo of a clock.', 'a photo of a cloth.', 'a photo of a comforter.', 'a photo of a cushion.', 'a photo of a desk.', 'a photo of a desk-organizer.', 'a photo of a door.', 'a photo of a indoor-plant.', 'a photo of a lamp.', 'a photo of a monitor.', 'a photo of a nightstand.', 'a photo of a panel.', 'a photo of a picture.', 'a photo of a pillar.', 'a photo of a pillow.', 'a photo of a pipe.', 'a photo of a plant-stand.', 'a photo of a plate.', 'a photo of a pot.', 'a photo of a sofa.', 'a photo of a stool.', 'a photo of a switch.', 'a photo of a table.', 'a photo of a tablet.', 'a photo of a tissue-paper.', 'a photo of a tv-screen.', 'a photo of a tv-stand.', 'a photo of a vase.', 'a photo of a vent.', 'a photo of a wall-plug.', 'a photo of a window.', 'a photo of a rug.']\n",
      "Turning off gradients in both the image and the text encoder\n",
      "Parameters to be updated: {'prompt_learner.compound_prompts_text.2', 'prompt_learner.ctx', 'prompt_learner.compound_prompts_text.8', 'prompt_learner.compound_prompts_text.1', 'prompt_learner.compound_prompts_text.4', 'prompt_learner.compound_prompts_text.5', 'prompt_learner.compound_prompts_text.6', 'prompt_learner.compound_prompts_text.10', 'prompt_learner.compound_prompts_text.3', 'prompt_learner.compound_prompts_text.9', 'prompt_learner.compound_prompts_text.0', 'prompt_learner.compound_prompts_text.7'}\n",
      "Loading evaluator: Classification\n",
      "Loading weights to MultiModalPromptSceneLearner from \"output/replica/MaPLePromptScene/vit_b16_c2_ep200_batch4_ctx4_depth12_cross_datasets_-1shots/seed1/MultiModalPromptSceneLearner/model-best.pth.tar\" (epoch = 137)\n",
      "Evaluate on the *test* set\n"
     ]
    },
    {
     "name": "stderr",
     "output_type": "stream",
     "text": [
      "\r",
      "  0%|          | 0/2 [00:00<?, ?it/s]\r",
      " 50%|█████     | 1/2 [00:00<00:00,  1.20it/s]\r",
      "100%|██████████| 2/2 [00:00<00:00,  2.23it/s]\n"
     ]
    },
    {
     "name": "stdout",
     "output_type": "stream",
     "text": [
      "=> result\n",
      "* total: 192\n",
      "* correct: 0\n",
      "* accuracy: 0.0%\n",
      "* error: 100.0%\n",
      "* macro_f1: 0.0%\n"
     ]
    }
   ],
   "source": [
    "%%bash\n",
    "bash scripts/maple_prompt_scene/xd_test_maple_prompt_scene.sh replica 1 ../../dataset/data/ vit_b16_c2_ep200_batch4_ctx4_depth12_cross_datasets"
   ]
  },
  {
   "cell_type": "code",
   "execution_count": null,
   "id": "265779f5",
   "metadata": {},
   "outputs": [],
   "source": []
  }
 ],
 "metadata": {
  "kernelspec": {
   "display_name": "Python 3 (ipykernel)",
   "language": "python",
   "name": "python3"
  },
  "language_info": {
   "codemirror_mode": {
    "name": "ipython",
    "version": 3
   },
   "file_extension": ".py",
   "mimetype": "text/x-python",
   "name": "python",
   "nbconvert_exporter": "python",
   "pygments_lexer": "ipython3",
   "version": "3.10.9"
  }
 },
 "nbformat": 4,
 "nbformat_minor": 5
}
