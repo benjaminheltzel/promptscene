{
 "cells": [
  {
   "cell_type": "markdown",
   "id": "0f9e7098",
   "metadata": {},
   "source": [
    "### Install dependencies"
   ]
  },
  {
   "cell_type": "code",
   "execution_count": null,
   "id": "2859e39f",
   "metadata": {},
   "outputs": [],
   "source": [
    "%%bash\n",
    "git clone https://github.com/KaiyangZhou/Dassl.pytorch.git\n",
    "cd Dassl.pytorch/\n",
    "# Install dependencies\n",
    "pip install -r requirements.txt\n",
    "# Install this library (no need to re-build if the source code is modified)\n",
    "python setup.py develop\n",
    "cd ..\n",
    "# Install dependencies of MaPLe\n",
    "pip install -r requirements.txt"
   ]
  },
  {
   "cell_type": "markdown",
   "id": "e16ad673",
   "metadata": {},
   "source": [
    "### Download dataset (OxfordPets)"
   ]
  },
  {
   "cell_type": "code",
   "execution_count": null,
   "id": "ed03da44",
   "metadata": {},
   "outputs": [],
   "source": [
    "%%bash\n",
    "cd ../../datasets/data\n",
    "mkdir oxford_pets\n",
    "cd oxford_pets\n",
    "wget https://www.robots.ox.ac.uk/~vgg/data/pets/data/images.tar.gz\n",
    "wget https://www.robots.ox.ac.uk/~vgg/data/pets/data/annotations.tar.gz\n",
    "gdown 1501r8Ber4nNKvmlFVQZ8SeUHTcdTTEqs\n",
    "tar -zxvf images.tar.gz\n",
    "tar -zxvf annotations.tar.gz"
   ]
  },
  {
   "cell_type": "markdown",
   "id": "2f024b29",
   "metadata": {},
   "source": [
    "### Run MaPLe"
   ]
  },
  {
   "cell_type": "code",
   "execution_count": null,
   "id": "8907086e",
   "metadata": {},
   "outputs": [],
   "source": [
    "%%bash\n",
    "# seed=1\n",
    "# trains and evaluates on base classes\n",
    "bash scripts/maple/base2new_train_maple.sh oxford_pets 1 ../../datasets/data/\n",
    "# evaluates on novel classes\n",
    "bash scripts/maple/base2new_test_maple.sh oxford_pets 1 ../../datasets/data/"
   ]
  },
  {
   "cell_type": "code",
   "execution_count": null,
   "id": "b459f8a6",
   "metadata": {},
   "outputs": [],
   "source": [
    "%%bash\n",
    "# seed=2\n",
    "# trains and evaluates on base classes\n",
    "bash scripts/maple/base2new_train_maple.sh oxford_pets 2 ../../datasets/data/\n",
    "# evaluates on novel classes\n",
    "bash scripts/maple/base2new_test_maple.sh oxford_pets 2 ../../datasets/data/"
   ]
  },
  {
   "cell_type": "code",
   "execution_count": null,
   "id": "9b73a22c",
   "metadata": {},
   "outputs": [],
   "source": [
    "%%bash\n",
    "# seed=3\n",
    "# trains and evaluates on base classes\n",
    "bash scripts/maple/base2new_train_maple.sh oxford_pets 3 ../../datasets/data/\n",
    "# evaluates on novel classes\n",
    "bash scripts/maple/base2new_test_maple.sh oxford_pets 3 ../../datasets/data/"
   ]
  }
 ],
 "metadata": {
  "kernelspec": {
   "display_name": "Python 3 (ipykernel)",
   "language": "python",
   "name": "python3"
  },
  "language_info": {
   "codemirror_mode": {
    "name": "ipython",
    "version": 3
   },
   "file_extension": ".py",
   "mimetype": "text/x-python",
   "name": "python",
   "nbconvert_exporter": "python",
   "pygments_lexer": "ipython3",
   "version": "3.10.9"
  }
 },
 "nbformat": 4,
 "nbformat_minor": 5
}
