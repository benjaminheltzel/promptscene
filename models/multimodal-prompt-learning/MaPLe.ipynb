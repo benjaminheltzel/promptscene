{
 "cells": [
  {
   "cell_type": "markdown",
   "id": "0f9e7098",
   "metadata": {},
   "source": [
    "### Install dependencies"
   ]
  },
  {
   "cell_type": "code",
   "execution_count": null,
   "id": "2859e39f",
   "metadata": {},
   "outputs": [],
   "source": [
    "%%bash\n",
    "# git clone https://github.com/KaiyangZhou/Dassl.pytorch.git\n",
    "cd Dassl.pytorch/\n",
    "# Install dependencies\n",
    "pip install -r requirements.txt\n",
    "# Install this library (no need to re-build if the source code is modified)\n",
    "python setup.py develop\n",
    "cd ..\n",
    "# Install dependencies of MaPLe\n",
    "pip install -r requirements.txt"
   ]
  },
  {
   "cell_type": "markdown",
   "id": "bd5dd747",
   "metadata": {},
   "source": [
    "## generate ground truth instance labels"
   ]
  },
  {
   "cell_type": "code",
   "execution_count": 44,
   "id": "a97f04f2",
   "metadata": {},
   "outputs": [],
   "source": [
    "import os\n",
    "import numpy as np\n",
    "import torch\n",
    "import glob\n",
    "\n",
    "os.makedirs(\"../../dataset/data/replica_features/train\", exist_ok=True)\n",
    "os.makedirs(\"../../dataset/data/replica_features/val\", exist_ok=True)\n",
    "os.makedirs(\"../../dataset/data/replica_features/test\", exist_ok=True)\n",
    "train_test_dict = {\n",
    "    \"office0\": \"train\",\n",
    "    \"office1\": \"train\",\n",
    "    \"office2\": \"train\",\n",
    "    \"office3\": \"val\",\n",
    "    \"office4\": \"test\",\n",
    "    \"room0\": \"train\",\n",
    "    \"room1\": \"val\",\n",
    "    \"room2\": \"test\",\n",
    "}\n",
    "\n",
    "gt_masks = glob.glob(\"../../dataset/OpenYOLO3D/output/replica/replica_ground_truth_masks/*.pt\")\n",
    "# gt_instances = glob.glob(\"dataset/replica_split/ground_truth/*.txt\")\n",
    "for gt_mask_path in gt_masks:\n",
    "    gt_mask = torch.load(gt_mask_path)[0]\n",
    "    gt_instance_id_path = gt_mask_path.replace(\"OpenYOLO3D/output/replica/replica_ground_truth_masks/\", \"data/replica_split/ground_truth/\").replace(\".pt\", \".txt\")\n",
    "    gt_instance_id = np.loadtxt(gt_instance_id_path, dtype='int')\n",
    "    assert gt_mask.shape[0] == gt_instance_id.shape[0]\n",
    "    \n",
    "    labels = np.zeros(gt_mask.shape[1])\n",
    "    for instance_id in range(gt_mask.shape[1]):\n",
    "        mask_points = gt_mask[:, instance_id].bool()\n",
    "        instance_label = gt_instance_id[mask_points][0]\n",
    "        semantics_label = instance_label // 1000\n",
    "        labels[instance_id] = semantics_label\n",
    "    scene_name = os.path.splitext(os.path.basename(gt_mask_path))[0]\n",
    "    split = train_test_dict[scene_name]\n",
    "    output_path = f\"../../dataset/data/replica_features/{split}/{scene_name}_labels\"\n",
    "    np.save(output_path, labels)"
   ]
  },
  {
   "cell_type": "markdown",
   "id": "360f9aab",
   "metadata": {},
   "source": [
    "## generate instance feature (openscene features and ground truth masks)"
   ]
  },
  {
   "cell_type": "code",
   "execution_count": 60,
   "id": "d0eecd36",
   "metadata": {},
   "outputs": [
    {
     "name": "stdout",
     "output_type": "stream",
     "text": [
      "../../experiments/merged_pipline/run_2025-01-28-00-04-02/openscene/train/office1_features.npy\n",
      "../../experiments/merged_pipline/run_2025-01-28-00-04-02/openscene/train/room0_features.npy\n",
      "../../experiments/merged_pipline/run_2025-01-28-00-04-02/openscene/train/office0_features.npy\n",
      "../../experiments/merged_pipline/run_2025-01-28-00-04-02/openscene/train/office2_features.npy\n",
      "../../experiments/merged_pipline/run_2025-01-28-00-04-02/openscene/val/room1_features.npy\n",
      "../../experiments/merged_pipline/run_2025-01-28-00-04-02/openscene/val/office3_features.npy\n",
      "../../experiments/merged_pipline/run_2025-01-28-00-04-02/openscene/test/office4_features.npy\n",
      "../../experiments/merged_pipline/run_2025-01-28-00-04-02/openscene/test/room2_features.npy\n"
     ]
    }
   ],
   "source": [
    "# ADJUST PATH!!!\n",
    "openscene_feature_path = glob.glob(\"../../experiments/merged_pipline/run_2025-01-28-00-04-02/openscene/train/*_features.npy\")\n",
    "openscene_feature_path.extend(glob.glob(\"../../experiments/merged_pipline/run_2025-01-28-00-04-02/openscene/val/*_features.npy\"))\n",
    "openscene_feature_path.extend(glob.glob(\"../../experiments/merged_pipline/run_2025-01-28-00-04-02/openscene/test/*_features.npy\"))\n",
    "\n",
    "for feature_path in openscene_feature_path:\n",
    "    print(feature_path)\n",
    "    scene_name = os.path.splitext(os.path.basename(feature_path))[0]\n",
    "    scene_name = scene_name.replace(\"_features\", \"\")\n",
    "    gt_mask_path = f\"../../dataset/OpenYOLO3D/output/replica/replica_ground_truth_masks/{scene_name}.pt\"\n",
    "\n",
    "    point_features = np.load(feature_path)\n",
    "    gt_mask = torch.load(gt_mask_path)[0]\n",
    "    instance_features = np.zeros((gt_mask.shape[1], point_features.shape[1]))\n",
    "    for instance_id in range(gt_mask.shape[1]):\n",
    "        mask_points = gt_mask[:, instance_id].bool()\n",
    "        mask_features = point_features[mask_points, :]\n",
    "        instance_feature = np.mean(mask_features, axis=0)  # aggregate\n",
    "        instance_features[instance_id, :] = instance_feature\n",
    "    split = train_test_dict[scene_name]\n",
    "    output_path = f\"../../dataset/data/replica_features/{split}/{scene_name}_features\"\n",
    "    np.save(output_path, instance_features)\n",
    "    "
   ]
  },
  {
   "cell_type": "markdown",
   "id": "5e3a34a4",
   "metadata": {},
   "source": [
    "## Prompt Learning"
   ]
  },
  {
   "cell_type": "code",
   "execution_count": 1,
   "id": "bdc8cee8",
   "metadata": {},
   "outputs": [
    {
     "name": "stdout",
     "output_type": "stream",
     "text": [
      "Run this job and save the output to output/base2new/train_base/replica/shots_16/MaPLePromptScene/vit_b16_c2_ep5_batch4_2ctx/seed1\n",
      "Error while terminating subprocess (pid=2879446): \n"
     ]
    }
   ],
   "source": [
    "# %%bash\n",
    "# bash scripts/maple_prompt_scene/base2new_train_maple_prompt_scene.sh replica 1 ../../dataset/data/"
   ]
  },
  {
   "cell_type": "code",
   "execution_count": 3,
   "id": "40eea4db",
   "metadata": {},
   "outputs": [
    {
     "name": "stdout",
     "output_type": "stream",
     "text": [
      "Evaluating model\n",
      "Runing the first phase job and save the output to output/base2new/test_new/replica/shots_16/MaPLePromptScene/vit_b16_c2_ep5_batch4_2ctx/seed1\n"
     ]
    },
    {
     "name": "stderr",
     "output_type": "stream",
     "text": [
      "/cluster/54/nanriayaka/ml3d/models/multimodal-prompt-learning/clip/clip.py:23: UserWarning: PyTorch version 1.7.1 or higher is recommended\n",
      "  warnings.warn(\"PyTorch version 1.7.1 or higher is recommended\")\n"
     ]
    },
    {
     "name": "stdout",
     "output_type": "stream",
     "text": [
      "Error while terminating subprocess (pid=2879966): \n"
     ]
    }
   ],
   "source": [
    "# %%bash\n",
    "# bash scripts/maple_prompt_scene/base2new_test_maple_prompt_scene.sh replica 1 ../../dataset/data/"
   ]
  },
  {
   "cell_type": "code",
   "execution_count": 63,
   "id": "ce093352",
   "metadata": {},
   "outputs": [],
   "source": [
    "os.makedirs(\"../../dataset/data/replica_features/split_fewshot\", exist_ok=True)"
   ]
  },
  {
   "cell_type": "code",
   "execution_count": 4,
   "id": "e220989e",
   "metadata": {
    "scrolled": true
   },
   "outputs": [
    {
     "name": "stdout",
     "output_type": "stream",
     "text": [
      "Run this job and save the output to output/replica/MaPLePromptScene/vit_b16_c2_ep200_batch4_ctx4_depth12_cross_datasets_-1shots/seed1\n"
     ]
    },
    {
     "name": "stderr",
     "output_type": "stream",
     "text": [
      "/cluster/54/nanriayaka/ml3d/models/multimodal-prompt-learning/clip/clip.py:23: UserWarning: PyTorch version 1.7.1 or higher is recommended\n",
      "  warnings.warn(\"PyTorch version 1.7.1 or higher is recommended\")\n"
     ]
    },
    {
     "name": "stdout",
     "output_type": "stream",
     "text": [
      "Setting fixed seed: 1\n",
      "***************\n",
      "** Arguments **\n",
      "***************\n",
      "backbone: \n",
      "config_file: configs/trainers/MaPLePromptScene/vit_b16_c2_ep200_batch4_ctx4_depth12_cross_datasets.yaml\n",
      "dataset_config_file: configs/datasets/replica.yaml\n",
      "eval_only: False\n",
      "head: \n",
      "load_epoch: None\n",
      "model_dir: \n",
      "no_train: False\n",
      "opts: ['DATASET.NUM_SHOTS', '-1']\n",
      "output_dir: output/replica/MaPLePromptScene/vit_b16_c2_ep200_batch4_ctx4_depth12_cross_datasets_-1shots/seed1\n",
      "resume: \n",
      "root: ../../dataset/data/\n",
      "seed: 1\n",
      "source_domains: None\n",
      "target_domains: None\n",
      "trainer: MaPLePromptScene\n",
      "transforms: None\n",
      "************\n",
      "** Config **\n",
      "************\n",
      "DATALOADER:\n",
      "  K_TRANSFORMS: 1\n",
      "  NUM_WORKERS: 8\n",
      "  RETURN_IMG0: False\n",
      "  TEST:\n",
      "    BATCH_SIZE: 100\n",
      "    SAMPLER: SequentialSampler\n",
      "  TRAIN_U:\n",
      "    BATCH_SIZE: 32\n",
      "    N_DOMAIN: 0\n",
      "    N_INS: 16\n",
      "    SAME_AS_X: True\n",
      "    SAMPLER: RandomSampler\n",
      "  TRAIN_X:\n",
      "    BATCH_SIZE: 4\n",
      "    N_DOMAIN: 0\n",
      "    N_INS: 16\n",
      "    SAMPLER: RandomSampler\n",
      "DATASET:\n",
      "  ALL_AS_UNLABELED: False\n",
      "  CIFAR_C_LEVEL: 1\n",
      "  CIFAR_C_TYPE: \n",
      "  NAME: Replica\n",
      "  NUM_LABELED: -1\n",
      "  NUM_SHOTS: -1\n",
      "  ROOT: ../../dataset/data/\n",
      "  SOURCE_DOMAINS: ()\n",
      "  STL10_FOLD: -1\n",
      "  SUBSAMPLE_CLASSES: all\n",
      "  TARGET_DOMAINS: ()\n",
      "  VAL_PERCENT: 0.1\n",
      "INPUT:\n",
      "  COLORJITTER_B: 0.4\n",
      "  COLORJITTER_C: 0.4\n",
      "  COLORJITTER_H: 0.1\n",
      "  COLORJITTER_S: 0.4\n",
      "  CROP_PADDING: 4\n",
      "  CUTOUT_LEN: 16\n",
      "  CUTOUT_N: 1\n",
      "  GB_K: 21\n",
      "  GB_P: 0.5\n",
      "  GN_MEAN: 0.0\n",
      "  GN_STD: 0.15\n",
      "  INTERPOLATION: bicubic\n",
      "  NO_TRANSFORM: False\n",
      "  PIXEL_MEAN: [0.48145466, 0.4578275, 0.40821073]\n",
      "  PIXEL_STD: [0.26862954, 0.26130258, 0.27577711]\n",
      "  RANDAUGMENT_M: 10\n",
      "  RANDAUGMENT_N: 2\n",
      "  RGS_P: 0.2\n",
      "  RRCROP_SCALE: (0.08, 1.0)\n",
      "  SIZE: (224, 224)\n",
      "  TRANSFORMS: ('random_resized_crop', 'random_flip', 'normalize')\n",
      "MODEL:\n",
      "  BACKBONE:\n",
      "    NAME: ViT-B/16\n",
      "    PRETRAINED: True\n",
      "  HEAD:\n",
      "    ACTIVATION: relu\n",
      "    BN: True\n",
      "    DROPOUT: 0.0\n",
      "    HIDDEN_LAYERS: ()\n",
      "    NAME: \n",
      "  INIT_WEIGHTS: \n",
      "OPTIM:\n",
      "  ADAM_BETA1: 0.9\n",
      "  ADAM_BETA2: 0.999\n",
      "  BASE_LR_MULT: 0.1\n",
      "  GAMMA: 0.1\n",
      "  LR: 0.0035\n",
      "  LR_SCHEDULER: cosine\n",
      "  MAX_EPOCH: 1000\n",
      "  MOMENTUM: 0.9\n",
      "  NAME: sgd\n",
      "  NEW_LAYERS: ()\n",
      "  RMSPROP_ALPHA: 0.99\n",
      "  SGD_DAMPNING: 0\n",
      "  SGD_NESTEROV: False\n",
      "  STAGED_LR: False\n",
      "  STEPSIZE: (-1,)\n",
      "  WARMUP_CONS_LR: 1e-05\n",
      "  WARMUP_EPOCH: 1\n",
      "  WARMUP_MIN_LR: 1e-05\n",
      "  WARMUP_RECOUNT: True\n",
      "  WARMUP_TYPE: constant\n",
      "  WEIGHT_DECAY: 0.0005\n",
      "OUTPUT_DIR: output/replica/MaPLePromptScene/vit_b16_c2_ep200_batch4_ctx4_depth12_cross_datasets_-1shots/seed1\n",
      "RESUME: \n",
      "SEED: 1\n",
      "TEST:\n",
      "  COMPUTE_CMAT: False\n",
      "  EVALUATOR: Classification\n",
      "  FINAL_MODEL: best_val\n",
      "  NO_TEST: False\n",
      "  PER_CLASS_RESULT: False\n",
      "  SPLIT: test\n",
      "TRAIN:\n",
      "  CHECKPOINT_FREQ: 0\n",
      "  COUNT_ITER: train_x\n",
      "  PRINT_FREQ: 20\n",
      "TRAINER:\n",
      "  CDAC:\n",
      "    CLASS_LR_MULTI: 10\n",
      "    P_THRESH: 0.95\n",
      "    RAMPUP_COEF: 30\n",
      "    RAMPUP_ITRS: 1000\n",
      "    STRONG_TRANSFORMS: ()\n",
      "    TOPK_MATCH: 5\n",
      "  COCOOP:\n",
      "    CTX_INIT: \n",
      "    N_CTX: 16\n",
      "    PREC: fp16\n",
      "  COOP:\n",
      "    CLASS_TOKEN_POSITION: end\n",
      "    CSC: False\n",
      "    CTX_INIT: \n",
      "    N_CTX: 16\n",
      "    PREC: fp16\n",
      "  CROSSGRAD:\n",
      "    ALPHA_D: 0.5\n",
      "    ALPHA_F: 0.5\n",
      "    EPS_D: 1.0\n",
      "    EPS_F: 1.0\n",
      "  DAEL:\n",
      "    CONF_THRE: 0.95\n",
      "    STRONG_TRANSFORMS: ()\n",
      "    WEIGHT_U: 0.5\n",
      "  DAELDG:\n",
      "    CONF_THRE: 0.95\n",
      "    STRONG_TRANSFORMS: ()\n",
      "    WEIGHT_U: 0.5\n",
      "  DDAIG:\n",
      "    ALPHA: 0.5\n",
      "    CLAMP: False\n",
      "    CLAMP_MAX: 1.0\n",
      "    CLAMP_MIN: -1.0\n",
      "    G_ARCH: \n",
      "    LMDA: 0.3\n",
      "    WARMUP: 0\n",
      "  DOMAINMIX:\n",
      "    ALPHA: 1.0\n",
      "    BETA: 1.0\n",
      "    TYPE: crossdomain\n",
      "  ENTMIN:\n",
      "    LMDA: 0.001\n",
      "  FIXMATCH:\n",
      "    CONF_THRE: 0.95\n",
      "    STRONG_TRANSFORMS: ()\n",
      "    WEIGHT_U: 1.0\n",
      "  IVLP:\n",
      "    CTX_INIT: a photo of a\n",
      "    N_CTX_TEXT: 2\n",
      "    N_CTX_VISION: 2\n",
      "    PREC: fp16\n",
      "    PROMPT_DEPTH_TEXT: 9\n",
      "    PROMPT_DEPTH_VISION: 9\n",
      "  M3SDA:\n",
      "    LMDA: 0.5\n",
      "    N_STEP_F: 4\n",
      "  MAPLE:\n",
      "    CTX_INIT: a photo of a\n",
      "    N_CTX: 2\n",
      "    PREC: fp16\n",
      "    PROMPT_DEPTH: 9\n",
      "  MAPLE_PROMPT_SCENE:\n",
      "    CTX_INIT: a photo of a {label}.\n",
      "    N_CTX: 4\n",
      "    PREC: fp16\n",
      "    PROMPT_DEPTH: 12\n",
      "  MCD:\n",
      "    N_STEP_F: 4\n",
      "  MEANTEACHER:\n",
      "    EMA_ALPHA: 0.999\n",
      "    RAMPUP: 5\n",
      "    WEIGHT_U: 1.0\n",
      "  MIXMATCH:\n",
      "    MIXUP_BETA: 0.75\n",
      "    RAMPUP: 20000\n",
      "    TEMP: 2.0\n",
      "    WEIGHT_U: 100.0\n",
      "  MME:\n",
      "    LMDA: 0.1\n",
      "  NAME: MaPLePromptScene\n",
      "  SE:\n",
      "    CONF_THRE: 0.95\n",
      "    EMA_ALPHA: 0.999\n",
      "    RAMPUP: 300\n",
      "  VPT:\n",
      "    CTX_INIT: a photo of a\n",
      "    N_CTX_VISION: 2\n",
      "    PREC: fp16\n",
      "    PROMPT_DEPTH_VISION: 1\n",
      "USE_CUDA: True\n",
      "VERBOSE: True\n",
      "VERSION: 1\n",
      "Collecting env info ...\n",
      "** System info **\n",
      "PyTorch version: 1.12.1+cu113\n",
      "Is debug build: False\n",
      "CUDA used to build PyTorch: 11.3\n",
      "ROCM used to build PyTorch: N/A\n",
      "\n",
      "OS: Ubuntu 20.04.4 LTS (x86_64)\n",
      "GCC version: (conda-forge gcc 9.5.0-17) 9.5.0\n",
      "Clang version: Could not collect\n",
      "CMake version: version 3.16.3\n",
      "Libc version: glibc-2.31\n",
      "\n",
      "Python version: 3.10.9 (main, Jan 11 2023, 15:21:40) [GCC 11.2.0] (64-bit runtime)\n",
      "Python platform: Linux-5.15.0-92-generic-x86_64-with-glibc2.31\n",
      "Is CUDA available: True\n",
      "CUDA runtime version: 11.3.122\n",
      "GPU models and configuration: GPU 0: NVIDIA GeForce RTX 3090\n",
      "Nvidia driver version: 525.147.05\n",
      "cuDNN version: Could not collect\n",
      "HIP runtime version: N/A\n",
      "MIOpen runtime version: N/A\n",
      "Is XNNPACK available: True\n",
      "\n",
      "Versions of relevant libraries:\n",
      "[pip3] mypy-extensions==1.0.0\n",
      "[pip3] numpy==1.24.2\n",
      "[pip3] pytorch-lightning==1.7.2\n",
      "[pip3] torch==1.12.1+cu113\n",
      "[pip3] torch-scatter==2.1.2\n",
      "[pip3] torchvision==0.13.1+cu113\n",
      "[conda] nomkl                     3.0                           0    anaconda\n",
      "[conda] numpy                     1.24.2                   pypi_0    pypi\n",
      "[conda] pytorch-lightning         1.7.2                    pypi_0    pypi\n",
      "[conda] torch                     1.12.1+cu113             pypi_0    pypi\n",
      "[conda] torch-scatter             2.1.2                    pypi_0    pypi\n",
      "[conda] torchvision               0.13.1+cu113             pypi_0    pypi\n",
      "        Pillow (9.5.0)\n",
      "\n",
      "Loading trainer: MaPLePromptScene\n",
      "Loading dataset: Replica\n",
      "-----------------------------------------------------------\n",
      "train: [<datasets.replica.Datum_feature object at 0x7f3ba0331a20>, <datasets.replica.Datum_feature object at 0x7f3ba0330f10>, <datasets.replica.Datum_feature object at 0x7f3ba0331240>, <datasets.replica.Datum_feature object at 0x7f3ba0330df0>, <datasets.replica.Datum_feature object at 0x7f3ba0331750>, <datasets.replica.Datum_feature object at 0x7f3ba0331930>, <datasets.replica.Datum_feature object at 0x7f3ba0331840>, <datasets.replica.Datum_feature object at 0x7f3ba0331870>, <datasets.replica.Datum_feature object at 0x7f3ba03311e0>, <datasets.replica.Datum_feature object at 0x7f3ba0331660>, <datasets.replica.Datum_feature object at 0x7f3ba0331780>, <datasets.replica.Datum_feature object at 0x7f3ba0331570>, <datasets.replica.Datum_feature object at 0x7f3ba0330fd0>, <datasets.replica.Datum_feature object at 0x7f3ba0331180>, <datasets.replica.Datum_feature object at 0x7f3ba0331030>, <datasets.replica.Datum_feature object at 0x7f3ba03313c0>, <datasets.replica.Datum_feature object at 0x7f3ba03318a0>, <datasets.replica.Datum_feature object at 0x7f3ba0331bd0>, <datasets.replica.Datum_feature object at 0x7f3ba03316c0>, <datasets.replica.Datum_feature object at 0x7f3ba03314b0>, <datasets.replica.Datum_feature object at 0x7f3ba0331270>, <datasets.replica.Datum_feature object at 0x7f3ba0331960>, <datasets.replica.Datum_feature object at 0x7f3ba03317e0>, <datasets.replica.Datum_feature object at 0x7f3ba0330f40>, <datasets.replica.Datum_feature object at 0x7f3ba03315a0>, <datasets.replica.Datum_feature object at 0x7f3ba03314e0>, <datasets.replica.Datum_feature object at 0x7f3ba0331330>, <datasets.replica.Datum_feature object at 0x7f3ba0331a50>, <datasets.replica.Datum_feature object at 0x7f3ba03310c0>, <datasets.replica.Datum_feature object at 0x7f3ba0331420>, <datasets.replica.Datum_feature object at 0x7f3ba0331510>, <datasets.replica.Datum_feature object at 0x7f3ba03308e0>, <datasets.replica.Datum_feature object at 0x7f3ba0331360>, <datasets.replica.Datum_feature object at 0x7f3ba0331390>, <datasets.replica.Datum_feature object at 0x7f3ba0331120>, <datasets.replica.Datum_feature object at 0x7f3ba0330eb0>, <datasets.replica.Datum_feature object at 0x7f3ba0330850>, <datasets.replica.Datum_feature object at 0x7f3ba0331210>, <datasets.replica.Datum_feature object at 0x7f3ba03312d0>, <datasets.replica.Datum_feature object at 0x7f3ba0330ee0>, <datasets.replica.Datum_feature object at 0x7f3ba0330580>, <datasets.replica.Datum_feature object at 0x7f3ba0330b50>, <datasets.replica.Datum_feature object at 0x7f3ba0330970>, <datasets.replica.Datum_feature object at 0x7f3ba0330c70>, <datasets.replica.Datum_feature object at 0x7f3ba0331060>, <datasets.replica.Datum_feature object at 0x7f3ba0330d60>, <datasets.replica.Datum_feature object at 0x7f3ba0331090>, <datasets.replica.Datum_feature object at 0x7f3ba03311b0>, <datasets.replica.Datum_feature object at 0x7f3ba0330f70>, <datasets.replica.Datum_feature object at 0x7f3ba0330dc0>, <datasets.replica.Datum_feature object at 0x7f3ba0330c40>, <datasets.replica.Datum_feature object at 0x7f3ba0330e80>, <datasets.replica.Datum_feature object at 0x7f3ba0330ca0>, <datasets.replica.Datum_feature object at 0x7f3ba0330b80>, <datasets.replica.Datum_feature object at 0x7f3ba0330c10>, <datasets.replica.Datum_feature object at 0x7f3ba0330670>, <datasets.replica.Datum_feature object at 0x7f3ba0330760>, <datasets.replica.Datum_feature object at 0x7f3ba0330a00>, <datasets.replica.Datum_feature object at 0x7f3ba0330940>, <datasets.replica.Datum_feature object at 0x7f3ba0330ac0>, <datasets.replica.Datum_feature object at 0x7f3ba0330cd0>, <datasets.replica.Datum_feature object at 0x7f3ba03312a0>, <datasets.replica.Datum_feature object at 0x7f3ba0331150>, <datasets.replica.Datum_feature object at 0x7f3ba0330820>, <datasets.replica.Datum_feature object at 0x7f3ba03306a0>, <datasets.replica.Datum_feature object at 0x7f3ba03309d0>, <datasets.replica.Datum_feature object at 0x7f3ba0330b20>, <datasets.replica.Datum_feature object at 0x7f3ba0330880>, <datasets.replica.Datum_feature object at 0x7f3ba03305b0>, <datasets.replica.Datum_feature object at 0x7f3ba03307c0>, <datasets.replica.Datum_feature object at 0x7f3ba0330790>, <datasets.replica.Datum_feature object at 0x7f3ba0330370>, <datasets.replica.Datum_feature object at 0x7f3ba0330640>, <datasets.replica.Datum_feature object at 0x7f3ba0330700>, <datasets.replica.Datum_feature object at 0x7f3ba03306d0>, <datasets.replica.Datum_feature object at 0x7f3ba0330400>, <datasets.replica.Datum_feature object at 0x7f3ba0330340>, <datasets.replica.Datum_feature object at 0x7f3ba0330550>, <datasets.replica.Datum_feature object at 0x7f3ba0330520>, <datasets.replica.Datum_feature object at 0x7f3ba03302b0>, <datasets.replica.Datum_feature object at 0x7f3ba03301f0>, <datasets.replica.Datum_feature object at 0x7f3ba0330490>, <datasets.replica.Datum_feature object at 0x7f3ba0330460>, <datasets.replica.Datum_feature object at 0x7f3ba0330280>, <datasets.replica.Datum_feature object at 0x7f3ba0330070>, <datasets.replica.Datum_feature object at 0x7f3ba03303d0>, <datasets.replica.Datum_feature object at 0x7f3ba03303a0>, <datasets.replica.Datum_feature object at 0x7f3ba0330130>, <datasets.replica.Datum_feature object at 0x7f3ba03301c0>, <datasets.replica.Datum_feature object at 0x7f3ba0330310>, <datasets.replica.Datum_feature object at 0x7f3ba03302e0>, <datasets.replica.Datum_feature object at 0x7f3ba03300d0>, <datasets.replica.Datum_feature object at 0x7f3ba0330190>, <datasets.replica.Datum_feature object at 0x7f3ba0330160>, <datasets.replica.Datum_feature object at 0x7f3ba03300a0>, <datasets.replica.Datum_feature object at 0x7f3ba03307f0>, <datasets.replica.Datum_feature object at 0x7f3ba0331c30>, <datasets.replica.Datum_feature object at 0x7f3ba0331d20>, <datasets.replica.Datum_feature object at 0x7f3ba0331300>, <datasets.replica.Datum_feature object at 0x7f3ba0331c60>, <datasets.replica.Datum_feature object at 0x7f3ba0331c90>, <datasets.replica.Datum_feature object at 0x7f3ba034cb80>, <datasets.replica.Datum_feature object at 0x7f3ba034ca30>, <datasets.replica.Datum_feature object at 0x7f3ba034cd00>, <datasets.replica.Datum_feature object at 0x7f3ba034fd30>, <datasets.replica.Datum_feature object at 0x7f3ba034c550>, <datasets.replica.Datum_feature object at 0x7f3ba034c6a0>, <datasets.replica.Datum_feature object at 0x7f3ba034cbb0>, <datasets.replica.Datum_feature object at 0x7f3ba034c7f0>, <datasets.replica.Datum_feature object at 0x7f3ba034fdf0>, <datasets.replica.Datum_feature object at 0x7f3ba034e2c0>, <datasets.replica.Datum_feature object at 0x7f3ba034e6e0>, <datasets.replica.Datum_feature object at 0x7f3ba034c6d0>, <datasets.replica.Datum_feature object at 0x7f3ba034fe50>, <datasets.replica.Datum_feature object at 0x7f3ba034c760>, <datasets.replica.Datum_feature object at 0x7f3ba034d2d0>, <datasets.replica.Datum_feature object at 0x7f3ba034c8b0>, <datasets.replica.Datum_feature object at 0x7f3ba034cb20>, <datasets.replica.Datum_feature object at 0x7f3ba034c4f0>, <datasets.replica.Datum_feature object at 0x7f3ba034c790>, <datasets.replica.Datum_feature object at 0x7f3ba034c970>, <datasets.replica.Datum_feature object at 0x7f3ba034c940>, <datasets.replica.Datum_feature object at 0x7f3ba034c700>, <datasets.replica.Datum_feature object at 0x7f3ba034fbe0>, <datasets.replica.Datum_feature object at 0x7f3ba034cac0>, <datasets.replica.Datum_feature object at 0x7f3ba034c7c0>, <datasets.replica.Datum_feature object at 0x7f3ba034c460>, <datasets.replica.Datum_feature object at 0x7f3ba034feb0>, <datasets.replica.Datum_feature object at 0x7f3ba034e500>, <datasets.replica.Datum_feature object at 0x7f3ba034cd60>, <datasets.replica.Datum_feature object at 0x7f3ba034c910>, <datasets.replica.Datum_feature object at 0x7f3ba03318d0>, <datasets.replica.Datum_feature object at 0x7f3ba03313f0>, <datasets.replica.Datum_feature object at 0x7f3ba0330a90>, <datasets.replica.Datum_feature object at 0x7f3ba0330730>, <datasets.replica.Datum_feature object at 0x7f3ba0330a60>, <datasets.replica.Datum_feature object at 0x7f3ba03308b0>, <datasets.replica.Datum_feature object at 0x7f3ba0331c00>, <datasets.replica.Datum_feature object at 0x7f3ba0332230>, <datasets.replica.Datum_feature object at 0x7f3ba0331000>, <datasets.replica.Datum_feature object at 0x7f3ba0330d30>, <datasets.replica.Datum_feature object at 0x7f3ba0331600>, <datasets.replica.Datum_feature object at 0x7f3ba0331690>, <datasets.replica.Datum_feature object at 0x7f3ba0332260>, <datasets.replica.Datum_feature object at 0x7f3ba0331720>, <datasets.replica.Datum_feature object at 0x7f3ba0330fa0>, <datasets.replica.Datum_feature object at 0x7f3ba0331900>, <datasets.replica.Datum_feature object at 0x7f3ba0332320>, <datasets.replica.Datum_feature object at 0x7f3ba03320b0>, <datasets.replica.Datum_feature object at 0x7f3ba0332290>, <datasets.replica.Datum_feature object at 0x7f3ba0331f30>, <datasets.replica.Datum_feature object at 0x7f3ba0331b40>, <datasets.replica.Datum_feature object at 0x7f3ba0331ea0>, <datasets.replica.Datum_feature object at 0x7f3ba0331d80>, <datasets.replica.Datum_feature object at 0x7f3ba0331db0>, <datasets.replica.Datum_feature object at 0x7f3ba0331de0>, <datasets.replica.Datum_feature object at 0x7f3ba0331e10>, <datasets.replica.Datum_feature object at 0x7f3ba0331e40>, <datasets.replica.Datum_feature object at 0x7f3ba0331e70>, <datasets.replica.Datum_feature object at 0x7f3ba0331f00>, <datasets.replica.Datum_feature object at 0x7f3ba0331fc0>, <datasets.replica.Datum_feature object at 0x7f3ba0331ff0>, <datasets.replica.Datum_feature object at 0x7f3ba0332020>, <datasets.replica.Datum_feature object at 0x7f3ba0332050>, <datasets.replica.Datum_feature object at 0x7f3ba0332080>, <datasets.replica.Datum_feature object at 0x7f3ba0331f90>, <datasets.replica.Datum_feature object at 0x7f3ba0331f60>, <datasets.replica.Datum_feature object at 0x7f3ba0331b10>, <datasets.replica.Datum_feature object at 0x7f3ba03310f0>, <datasets.replica.Datum_feature object at 0x7f3ba03315d0>, <datasets.replica.Datum_feature object at 0x7f3ba03322c0>, <datasets.replica.Datum_feature object at 0x7f3ba03321d0>, <datasets.replica.Datum_feature object at 0x7f3ba0332200>, <datasets.replica.Datum_feature object at 0x7f3ba03320e0>, <datasets.replica.Datum_feature object at 0x7f3ba0332110>, <datasets.replica.Datum_feature object at 0x7f3ba0332350>, <datasets.replica.Datum_feature object at 0x7f3ba0332380>, <datasets.replica.Datum_feature object at 0x7f3ba03323b0>]\n"
     ]
    },
    {
     "name": "stdout",
     "output_type": "stream",
     "text": [
      "val: [<datasets.replica.Datum_feature object at 0x7f3ba0332410>, <datasets.replica.Datum_feature object at 0x7f3ba0331990>, <datasets.replica.Datum_feature object at 0x7f3ba0332440>, <datasets.replica.Datum_feature object at 0x7f3ba0332ce0>, <datasets.replica.Datum_feature object at 0x7f3ba03325c0>, <datasets.replica.Datum_feature object at 0x7f3ba03325f0>, <datasets.replica.Datum_feature object at 0x7f3ba0332650>, <datasets.replica.Datum_feature object at 0x7f3ba0332680>, <datasets.replica.Datum_feature object at 0x7f3ba0332d10>, <datasets.replica.Datum_feature object at 0x7f3ba0332530>, <datasets.replica.Datum_feature object at 0x7f3ba0332560>, <datasets.replica.Datum_feature object at 0x7f3ba03326b0>, <datasets.replica.Datum_feature object at 0x7f3ba0332c80>, <datasets.replica.Datum_feature object at 0x7f3ba0332a70>, <datasets.replica.Datum_feature object at 0x7f3ba0332bf0>, <datasets.replica.Datum_feature object at 0x7f3ba03328f0>, <datasets.replica.Datum_feature object at 0x7f3ba0332710>, <datasets.replica.Datum_feature object at 0x7f3ba0332860>, <datasets.replica.Datum_feature object at 0x7f3ba03326e0>, <datasets.replica.Datum_feature object at 0x7f3ba0332770>, <datasets.replica.Datum_feature object at 0x7f3ba03327a0>, <datasets.replica.Datum_feature object at 0x7f3ba03327d0>, <datasets.replica.Datum_feature object at 0x7f3ba0332800>, <datasets.replica.Datum_feature object at 0x7f3ba0332830>, <datasets.replica.Datum_feature object at 0x7f3ba03328c0>, <datasets.replica.Datum_feature object at 0x7f3ba0332980>, <datasets.replica.Datum_feature object at 0x7f3ba03329b0>, <datasets.replica.Datum_feature object at 0x7f3ba03329e0>, <datasets.replica.Datum_feature object at 0x7f3ba0332a10>, <datasets.replica.Datum_feature object at 0x7f3ba0332a40>, <datasets.replica.Datum_feature object at 0x7f3ba0332950>, <datasets.replica.Datum_feature object at 0x7f3ba0332920>, <datasets.replica.Datum_feature object at 0x7f3ba0332740>, <datasets.replica.Datum_feature object at 0x7f3ba0332590>, <datasets.replica.Datum_feature object at 0x7f3ba0332620>, <datasets.replica.Datum_feature object at 0x7f3ba0332cb0>, <datasets.replica.Datum_feature object at 0x7f3ba0332b90>, <datasets.replica.Datum_feature object at 0x7f3ba0332bc0>, <datasets.replica.Datum_feature object at 0x7f3ba0332aa0>, <datasets.replica.Datum_feature object at 0x7f3ba0332ad0>, <datasets.replica.Datum_feature object at 0x7f3ba0332c50>, <datasets.replica.Datum_feature object at 0x7f3ba0332d40>, <datasets.replica.Datum_feature object at 0x7f3ba0332d70>, <datasets.replica.Datum_feature object at 0x7f3ba0332da0>, <datasets.replica.Datum_feature object at 0x7f3ba0332dd0>, <datasets.replica.Datum_feature object at 0x7f3ba0332e30>, <datasets.replica.Datum_feature object at 0x7f3ba03323e0>, <datasets.replica.Datum_feature object at 0x7f3ba0332e60>, <datasets.replica.Datum_feature object at 0x7f3ba0333e50>, <datasets.replica.Datum_feature object at 0x7f3ba0332fe0>, <datasets.replica.Datum_feature object at 0x7f3ba0333010>, <datasets.replica.Datum_feature object at 0x7f3ba0333070>, <datasets.replica.Datum_feature object at 0x7f3ba03330a0>, <datasets.replica.Datum_feature object at 0x7f3ba0333e80>, <datasets.replica.Datum_feature object at 0x7f3ba0332f50>, <datasets.replica.Datum_feature object at 0x7f3ba0332f80>, <datasets.replica.Datum_feature object at 0x7f3ba03330d0>, <datasets.replica.Datum_feature object at 0x7f3ba0333e20>, <datasets.replica.Datum_feature object at 0x7f3ba0333490>, <datasets.replica.Datum_feature object at 0x7f3ba0333f10>, <datasets.replica.Datum_feature object at 0x7f3ba0333310>, <datasets.replica.Datum_feature object at 0x7f3ba0333130>, <datasets.replica.Datum_feature object at 0x7f3ba0333280>, <datasets.replica.Datum_feature object at 0x7f3ba0333100>, <datasets.replica.Datum_feature object at 0x7f3ba0333190>, <datasets.replica.Datum_feature object at 0x7f3ba03331c0>, <datasets.replica.Datum_feature object at 0x7f3ba03331f0>, <datasets.replica.Datum_feature object at 0x7f3ba0333220>, <datasets.replica.Datum_feature object at 0x7f3ba0333250>, <datasets.replica.Datum_feature object at 0x7f3ba03332e0>, <datasets.replica.Datum_feature object at 0x7f3ba03333a0>, <datasets.replica.Datum_feature object at 0x7f3ba03333d0>, <datasets.replica.Datum_feature object at 0x7f3ba0333400>, <datasets.replica.Datum_feature object at 0x7f3ba0333430>, <datasets.replica.Datum_feature object at 0x7f3ba0333460>, <datasets.replica.Datum_feature object at 0x7f3ba0333370>, <datasets.replica.Datum_feature object at 0x7f3ba0333340>, <datasets.replica.Datum_feature object at 0x7f3ba0333160>, <datasets.replica.Datum_feature object at 0x7f3ba0332fb0>, <datasets.replica.Datum_feature object at 0x7f3ba0333040>, <datasets.replica.Datum_feature object at 0x7f3ba0333eb0>, <datasets.replica.Datum_feature object at 0x7f3ba0333f70>, <datasets.replica.Datum_feature object at 0x7f3ba0333f40>, <datasets.replica.Datum_feature object at 0x7f3ba03334c0>, <datasets.replica.Datum_feature object at 0x7f3ba03334f0>, <datasets.replica.Datum_feature object at 0x7f3ba0333df0>, <datasets.replica.Datum_feature object at 0x7f3ba0333dc0>, <datasets.replica.Datum_feature object at 0x7f3ba0333d90>, <datasets.replica.Datum_feature object at 0x7f3ba0333d60>, <datasets.replica.Datum_feature object at 0x7f3ba0333d30>, <datasets.replica.Datum_feature object at 0x7f3ba0333d00>, <datasets.replica.Datum_feature object at 0x7f3ba0333cd0>, <datasets.replica.Datum_feature object at 0x7f3ba0333ca0>, <datasets.replica.Datum_feature object at 0x7f3ba0333c70>, <datasets.replica.Datum_feature object at 0x7f3ba0333c40>, <datasets.replica.Datum_feature object at 0x7f3ba0333c10>, <datasets.replica.Datum_feature object at 0x7f3ba0333be0>, <datasets.replica.Datum_feature object at 0x7f3ba0333bb0>, <datasets.replica.Datum_feature object at 0x7f3ba0333b80>, <datasets.replica.Datum_feature object at 0x7f3ba0333b50>, <datasets.replica.Datum_feature object at 0x7f3ba0333b20>, <datasets.replica.Datum_feature object at 0x7f3ba0333af0>, <datasets.replica.Datum_feature object at 0x7f3ba0333ac0>, <datasets.replica.Datum_feature object at 0x7f3ba0333a90>, <datasets.replica.Datum_feature object at 0x7f3ba0333a60>, <datasets.replica.Datum_feature object at 0x7f3ba0333a30>]\n",
      "test: [<datasets.replica.Datum_feature object at 0x7f3ba03339d0>, <datasets.replica.Datum_feature object at 0x7f3ba0332e00>, <datasets.replica.Datum_feature object at 0x7f3ba03339a0>, <datasets.replica.Datum_feature object at 0x7f3ba0333880>, <datasets.replica.Datum_feature object at 0x7f3ba03337c0>, <datasets.replica.Datum_feature object at 0x7f3ba0333550>, <datasets.replica.Datum_feature object at 0x7f3ba0333610>, <datasets.replica.Datum_feature object at 0x7f3ba03335e0>, <datasets.replica.Datum_feature object at 0x7f3ba0333820>, <datasets.replica.Datum_feature object at 0x7f3ba03336a0>, <datasets.replica.Datum_feature object at 0x7f3ba0333850>, <datasets.replica.Datum_feature object at 0x7f3ba0333760>, <datasets.replica.Datum_feature object at 0x7f3ba03338b0>, <datasets.replica.Datum_feature object at 0x7f3ba0333790>, <datasets.replica.Datum_feature object at 0x7f3ba03335b0>, <datasets.replica.Datum_feature object at 0x7f3ba03337f0>, <datasets.replica.Datum_feature object at 0x7f3ba03336d0>, <datasets.replica.Datum_feature object at 0x7f3ba03206a0>, <datasets.replica.Datum_feature object at 0x7f3ba0320670>, <datasets.replica.Datum_feature object at 0x7f3ba0320790>, <datasets.replica.Datum_feature object at 0x7f3ba0320760>, <datasets.replica.Datum_feature object at 0x7f3ba0320730>, <datasets.replica.Datum_feature object at 0x7f3ba0320370>, <datasets.replica.Datum_feature object at 0x7f3ba0320430>, <datasets.replica.Datum_feature object at 0x7f3ba0320460>, <datasets.replica.Datum_feature object at 0x7f3ba0320490>, <datasets.replica.Datum_feature object at 0x7f3ba03204c0>, <datasets.replica.Datum_feature object at 0x7f3ba03204f0>, <datasets.replica.Datum_feature object at 0x7f3ba0320520>, <datasets.replica.Datum_feature object at 0x7f3ba0320550>, <datasets.replica.Datum_feature object at 0x7f3ba0320580>, <datasets.replica.Datum_feature object at 0x7f3ba03205b0>, <datasets.replica.Datum_feature object at 0x7f3ba03205e0>, <datasets.replica.Datum_feature object at 0x7f3ba0320610>, <datasets.replica.Datum_feature object at 0x7f3ba0320ee0>, <datasets.replica.Datum_feature object at 0x7f3ba03207f0>, <datasets.replica.Datum_feature object at 0x7f3ba0320820>, <datasets.replica.Datum_feature object at 0x7f3ba0320880>, <datasets.replica.Datum_feature object at 0x7f3ba03208b0>, <datasets.replica.Datum_feature object at 0x7f3ba0320eb0>, <datasets.replica.Datum_feature object at 0x7f3ba03203d0>, <datasets.replica.Datum_feature object at 0x7f3ba03203a0>, <datasets.replica.Datum_feature object at 0x7f3ba03208e0>, <datasets.replica.Datum_feature object at 0x7f3ba0320f10>, <datasets.replica.Datum_feature object at 0x7f3ba0320ca0>, <datasets.replica.Datum_feature object at 0x7f3ba0320e20>, <datasets.replica.Datum_feature object at 0x7f3ba0320b20>, <datasets.replica.Datum_feature object at 0x7f3ba0320940>, <datasets.replica.Datum_feature object at 0x7f3ba0320a90>, <datasets.replica.Datum_feature object at 0x7f3ba0320910>, <datasets.replica.Datum_feature object at 0x7f3ba03209a0>, <datasets.replica.Datum_feature object at 0x7f3ba03209d0>, <datasets.replica.Datum_feature object at 0x7f3ba0320a00>, <datasets.replica.Datum_feature object at 0x7f3ba0320a30>, <datasets.replica.Datum_feature object at 0x7f3ba0320a60>, <datasets.replica.Datum_feature object at 0x7f3ba0320af0>, <datasets.replica.Datum_feature object at 0x7f3ba0320bb0>, <datasets.replica.Datum_feature object at 0x7f3ba0320be0>, <datasets.replica.Datum_feature object at 0x7f3ba0320c10>, <datasets.replica.Datum_feature object at 0x7f3ba0320c40>, <datasets.replica.Datum_feature object at 0x7f3ba0320c70>, <datasets.replica.Datum_feature object at 0x7f3ba0320b80>, <datasets.replica.Datum_feature object at 0x7f3ba0320b50>, <datasets.replica.Datum_feature object at 0x7f3ba0320970>, <datasets.replica.Datum_feature object at 0x7f3ba03207c0>, <datasets.replica.Datum_feature object at 0x7f3ba0320850>, <datasets.replica.Datum_feature object at 0x7f3ba0320e80>, <datasets.replica.Datum_feature object at 0x7f3ba0320dc0>, <datasets.replica.Datum_feature object at 0x7f3ba0320df0>, <datasets.replica.Datum_feature object at 0x7f3ba0320cd0>, <datasets.replica.Datum_feature object at 0x7f3ba0320d00>, <datasets.replica.Datum_feature object at 0x7f3ba0320f40>, <datasets.replica.Datum_feature object at 0x7f3ba0320f70>, <datasets.replica.Datum_feature object at 0x7f3ba0320fa0>, <datasets.replica.Datum_feature object at 0x7f3ba0320fd0>, <datasets.replica.Datum_feature object at 0x7f3ba0321000>, <datasets.replica.Datum_feature object at 0x7f3ba0321030>, <datasets.replica.Datum_feature object at 0x7f3ba0321060>, <datasets.replica.Datum_feature object at 0x7f3ba0321090>, <datasets.replica.Datum_feature object at 0x7f3ba03210c0>, <datasets.replica.Datum_feature object at 0x7f3ba03210f0>, <datasets.replica.Datum_feature object at 0x7f3ba0321120>, <datasets.replica.Datum_feature object at 0x7f3ba0321150>]\n"
     ]
    },
    {
     "name": "stdout",
     "output_type": "stream",
     "text": [
      "-----------------------------------------------------------\n",
      "-----------------------------------------------------------\n",
      "train: [<datasets.replica.Datum_feature object at 0x7f3ba0331a20>, <datasets.replica.Datum_feature object at 0x7f3ba0330f10>, <datasets.replica.Datum_feature object at 0x7f3ba0331240>, <datasets.replica.Datum_feature object at 0x7f3ba0330df0>, <datasets.replica.Datum_feature object at 0x7f3ba0331750>, <datasets.replica.Datum_feature object at 0x7f3ba0331930>, <datasets.replica.Datum_feature object at 0x7f3ba0331840>, <datasets.replica.Datum_feature object at 0x7f3ba0331870>, <datasets.replica.Datum_feature object at 0x7f3ba03311e0>, <datasets.replica.Datum_feature object at 0x7f3ba0331660>, <datasets.replica.Datum_feature object at 0x7f3ba0331780>, <datasets.replica.Datum_feature object at 0x7f3ba0331570>, <datasets.replica.Datum_feature object at 0x7f3ba0330fd0>, <datasets.replica.Datum_feature object at 0x7f3ba0331180>, <datasets.replica.Datum_feature object at 0x7f3ba0331030>, <datasets.replica.Datum_feature object at 0x7f3ba03313c0>, <datasets.replica.Datum_feature object at 0x7f3ba03318a0>, <datasets.replica.Datum_feature object at 0x7f3ba0331bd0>, <datasets.replica.Datum_feature object at 0x7f3ba03316c0>, <datasets.replica.Datum_feature object at 0x7f3ba03314b0>, <datasets.replica.Datum_feature object at 0x7f3ba0331270>, <datasets.replica.Datum_feature object at 0x7f3ba0331960>, <datasets.replica.Datum_feature object at 0x7f3ba03317e0>, <datasets.replica.Datum_feature object at 0x7f3ba0330f40>, <datasets.replica.Datum_feature object at 0x7f3ba03315a0>, <datasets.replica.Datum_feature object at 0x7f3ba03314e0>, <datasets.replica.Datum_feature object at 0x7f3ba0331330>, <datasets.replica.Datum_feature object at 0x7f3ba0331a50>, <datasets.replica.Datum_feature object at 0x7f3ba03310c0>, <datasets.replica.Datum_feature object at 0x7f3ba0331420>, <datasets.replica.Datum_feature object at 0x7f3ba0331510>, <datasets.replica.Datum_feature object at 0x7f3ba03308e0>, <datasets.replica.Datum_feature object at 0x7f3ba0331360>, <datasets.replica.Datum_feature object at 0x7f3ba0331390>, <datasets.replica.Datum_feature object at 0x7f3ba0331120>, <datasets.replica.Datum_feature object at 0x7f3ba0330eb0>, <datasets.replica.Datum_feature object at 0x7f3ba0330850>, <datasets.replica.Datum_feature object at 0x7f3ba0331210>, <datasets.replica.Datum_feature object at 0x7f3ba03312d0>, <datasets.replica.Datum_feature object at 0x7f3ba0330ee0>, <datasets.replica.Datum_feature object at 0x7f3ba0330580>, <datasets.replica.Datum_feature object at 0x7f3ba0330b50>, <datasets.replica.Datum_feature object at 0x7f3ba0330970>, <datasets.replica.Datum_feature object at 0x7f3ba0330c70>, <datasets.replica.Datum_feature object at 0x7f3ba0331060>, <datasets.replica.Datum_feature object at 0x7f3ba0330d60>, <datasets.replica.Datum_feature object at 0x7f3ba0331090>, <datasets.replica.Datum_feature object at 0x7f3ba03311b0>, <datasets.replica.Datum_feature object at 0x7f3ba0330f70>, <datasets.replica.Datum_feature object at 0x7f3ba0330dc0>, <datasets.replica.Datum_feature object at 0x7f3ba0330c40>, <datasets.replica.Datum_feature object at 0x7f3ba0330e80>, <datasets.replica.Datum_feature object at 0x7f3ba0330ca0>, <datasets.replica.Datum_feature object at 0x7f3ba0330b80>, <datasets.replica.Datum_feature object at 0x7f3ba0330c10>, <datasets.replica.Datum_feature object at 0x7f3ba0330670>, <datasets.replica.Datum_feature object at 0x7f3ba0330760>, <datasets.replica.Datum_feature object at 0x7f3ba0330a00>, <datasets.replica.Datum_feature object at 0x7f3ba0330940>, <datasets.replica.Datum_feature object at 0x7f3ba0330ac0>, <datasets.replica.Datum_feature object at 0x7f3ba0330cd0>, <datasets.replica.Datum_feature object at 0x7f3ba03312a0>, <datasets.replica.Datum_feature object at 0x7f3ba0331150>, <datasets.replica.Datum_feature object at 0x7f3ba0330820>, <datasets.replica.Datum_feature object at 0x7f3ba03306a0>, <datasets.replica.Datum_feature object at 0x7f3ba03309d0>, <datasets.replica.Datum_feature object at 0x7f3ba0330b20>, <datasets.replica.Datum_feature object at 0x7f3ba0330880>, <datasets.replica.Datum_feature object at 0x7f3ba03305b0>, <datasets.replica.Datum_feature object at 0x7f3ba03307c0>, <datasets.replica.Datum_feature object at 0x7f3ba0330790>, <datasets.replica.Datum_feature object at 0x7f3ba0330370>, <datasets.replica.Datum_feature object at 0x7f3ba0330640>, <datasets.replica.Datum_feature object at 0x7f3ba0330700>, <datasets.replica.Datum_feature object at 0x7f3ba03306d0>, <datasets.replica.Datum_feature object at 0x7f3ba0330400>, <datasets.replica.Datum_feature object at 0x7f3ba0330340>, <datasets.replica.Datum_feature object at 0x7f3ba0330550>, <datasets.replica.Datum_feature object at 0x7f3ba0330520>, <datasets.replica.Datum_feature object at 0x7f3ba03302b0>, <datasets.replica.Datum_feature object at 0x7f3ba03301f0>, <datasets.replica.Datum_feature object at 0x7f3ba0330490>, <datasets.replica.Datum_feature object at 0x7f3ba0330460>, <datasets.replica.Datum_feature object at 0x7f3ba0330280>, <datasets.replica.Datum_feature object at 0x7f3ba0330070>, <datasets.replica.Datum_feature object at 0x7f3ba03303d0>, <datasets.replica.Datum_feature object at 0x7f3ba03303a0>, <datasets.replica.Datum_feature object at 0x7f3ba0330130>, <datasets.replica.Datum_feature object at 0x7f3ba03301c0>, <datasets.replica.Datum_feature object at 0x7f3ba0330310>, <datasets.replica.Datum_feature object at 0x7f3ba03302e0>, <datasets.replica.Datum_feature object at 0x7f3ba03300d0>, <datasets.replica.Datum_feature object at 0x7f3ba0330190>, <datasets.replica.Datum_feature object at 0x7f3ba0330160>, <datasets.replica.Datum_feature object at 0x7f3ba03300a0>, <datasets.replica.Datum_feature object at 0x7f3ba03307f0>, <datasets.replica.Datum_feature object at 0x7f3ba0331c30>, <datasets.replica.Datum_feature object at 0x7f3ba0331d20>, <datasets.replica.Datum_feature object at 0x7f3ba0331300>, <datasets.replica.Datum_feature object at 0x7f3ba0331c60>, <datasets.replica.Datum_feature object at 0x7f3ba0331c90>, <datasets.replica.Datum_feature object at 0x7f3ba034cb80>, <datasets.replica.Datum_feature object at 0x7f3ba034ca30>, <datasets.replica.Datum_feature object at 0x7f3ba034cd00>, <datasets.replica.Datum_feature object at 0x7f3ba034fd30>, <datasets.replica.Datum_feature object at 0x7f3ba034c550>, <datasets.replica.Datum_feature object at 0x7f3ba034c6a0>, <datasets.replica.Datum_feature object at 0x7f3ba034cbb0>, <datasets.replica.Datum_feature object at 0x7f3ba034c7f0>, <datasets.replica.Datum_feature object at 0x7f3ba034fdf0>, <datasets.replica.Datum_feature object at 0x7f3ba034e2c0>, <datasets.replica.Datum_feature object at 0x7f3ba034e6e0>, <datasets.replica.Datum_feature object at 0x7f3ba034c6d0>, <datasets.replica.Datum_feature object at 0x7f3ba034fe50>, <datasets.replica.Datum_feature object at 0x7f3ba034c760>, <datasets.replica.Datum_feature object at 0x7f3ba034d2d0>, <datasets.replica.Datum_feature object at 0x7f3ba034c8b0>, <datasets.replica.Datum_feature object at 0x7f3ba034cb20>, <datasets.replica.Datum_feature object at 0x7f3ba034c4f0>, <datasets.replica.Datum_feature object at 0x7f3ba034c790>, <datasets.replica.Datum_feature object at 0x7f3ba034c970>, <datasets.replica.Datum_feature object at 0x7f3ba034c940>, <datasets.replica.Datum_feature object at 0x7f3ba034c700>, <datasets.replica.Datum_feature object at 0x7f3ba034fbe0>, <datasets.replica.Datum_feature object at 0x7f3ba034cac0>, <datasets.replica.Datum_feature object at 0x7f3ba034c7c0>, <datasets.replica.Datum_feature object at 0x7f3ba034c460>, <datasets.replica.Datum_feature object at 0x7f3ba034feb0>, <datasets.replica.Datum_feature object at 0x7f3ba034e500>, <datasets.replica.Datum_feature object at 0x7f3ba034cd60>, <datasets.replica.Datum_feature object at 0x7f3ba034c910>, <datasets.replica.Datum_feature object at 0x7f3ba03318d0>, <datasets.replica.Datum_feature object at 0x7f3ba03313f0>, <datasets.replica.Datum_feature object at 0x7f3ba0330a90>, <datasets.replica.Datum_feature object at 0x7f3ba0330730>, <datasets.replica.Datum_feature object at 0x7f3ba0330a60>, <datasets.replica.Datum_feature object at 0x7f3ba03308b0>, <datasets.replica.Datum_feature object at 0x7f3ba0331c00>, <datasets.replica.Datum_feature object at 0x7f3ba0332230>, <datasets.replica.Datum_feature object at 0x7f3ba0331000>, <datasets.replica.Datum_feature object at 0x7f3ba0330d30>, <datasets.replica.Datum_feature object at 0x7f3ba0331600>, <datasets.replica.Datum_feature object at 0x7f3ba0331690>, <datasets.replica.Datum_feature object at 0x7f3ba0332260>, <datasets.replica.Datum_feature object at 0x7f3ba0331720>, <datasets.replica.Datum_feature object at 0x7f3ba0330fa0>, <datasets.replica.Datum_feature object at 0x7f3ba0331900>, <datasets.replica.Datum_feature object at 0x7f3ba0332320>, <datasets.replica.Datum_feature object at 0x7f3ba03320b0>, <datasets.replica.Datum_feature object at 0x7f3ba0332290>, <datasets.replica.Datum_feature object at 0x7f3ba0331f30>, <datasets.replica.Datum_feature object at 0x7f3ba0331b40>, <datasets.replica.Datum_feature object at 0x7f3ba0331ea0>, <datasets.replica.Datum_feature object at 0x7f3ba0331d80>, <datasets.replica.Datum_feature object at 0x7f3ba0331db0>, <datasets.replica.Datum_feature object at 0x7f3ba0331de0>, <datasets.replica.Datum_feature object at 0x7f3ba0331e10>, <datasets.replica.Datum_feature object at 0x7f3ba0331e40>, <datasets.replica.Datum_feature object at 0x7f3ba0331e70>, <datasets.replica.Datum_feature object at 0x7f3ba0331f00>, <datasets.replica.Datum_feature object at 0x7f3ba0331fc0>, <datasets.replica.Datum_feature object at 0x7f3ba0331ff0>, <datasets.replica.Datum_feature object at 0x7f3ba0332020>, <datasets.replica.Datum_feature object at 0x7f3ba0332050>, <datasets.replica.Datum_feature object at 0x7f3ba0332080>, <datasets.replica.Datum_feature object at 0x7f3ba0331f90>, <datasets.replica.Datum_feature object at 0x7f3ba0331f60>, <datasets.replica.Datum_feature object at 0x7f3ba0331b10>, <datasets.replica.Datum_feature object at 0x7f3ba03310f0>, <datasets.replica.Datum_feature object at 0x7f3ba03315d0>, <datasets.replica.Datum_feature object at 0x7f3ba03322c0>, <datasets.replica.Datum_feature object at 0x7f3ba03321d0>, <datasets.replica.Datum_feature object at 0x7f3ba0332200>, <datasets.replica.Datum_feature object at 0x7f3ba03320e0>, <datasets.replica.Datum_feature object at 0x7f3ba0332110>, <datasets.replica.Datum_feature object at 0x7f3ba0332350>, <datasets.replica.Datum_feature object at 0x7f3ba0332380>, <datasets.replica.Datum_feature object at 0x7f3ba03323b0>]\n"
     ]
    },
    {
     "name": "stdout",
     "output_type": "stream",
     "text": [
      "val: [<datasets.replica.Datum_feature object at 0x7f3ba0332410>, <datasets.replica.Datum_feature object at 0x7f3ba0331990>, <datasets.replica.Datum_feature object at 0x7f3ba0332440>, <datasets.replica.Datum_feature object at 0x7f3ba0332ce0>, <datasets.replica.Datum_feature object at 0x7f3ba03325c0>, <datasets.replica.Datum_feature object at 0x7f3ba03325f0>, <datasets.replica.Datum_feature object at 0x7f3ba0332650>, <datasets.replica.Datum_feature object at 0x7f3ba0332680>, <datasets.replica.Datum_feature object at 0x7f3ba0332d10>, <datasets.replica.Datum_feature object at 0x7f3ba0332530>, <datasets.replica.Datum_feature object at 0x7f3ba0332560>, <datasets.replica.Datum_feature object at 0x7f3ba03326b0>, <datasets.replica.Datum_feature object at 0x7f3ba0332c80>, <datasets.replica.Datum_feature object at 0x7f3ba0332a70>, <datasets.replica.Datum_feature object at 0x7f3ba0332bf0>, <datasets.replica.Datum_feature object at 0x7f3ba03328f0>, <datasets.replica.Datum_feature object at 0x7f3ba0332710>, <datasets.replica.Datum_feature object at 0x7f3ba0332860>, <datasets.replica.Datum_feature object at 0x7f3ba03326e0>, <datasets.replica.Datum_feature object at 0x7f3ba0332770>, <datasets.replica.Datum_feature object at 0x7f3ba03327a0>, <datasets.replica.Datum_feature object at 0x7f3ba03327d0>, <datasets.replica.Datum_feature object at 0x7f3ba0332800>, <datasets.replica.Datum_feature object at 0x7f3ba0332830>, <datasets.replica.Datum_feature object at 0x7f3ba03328c0>, <datasets.replica.Datum_feature object at 0x7f3ba0332980>, <datasets.replica.Datum_feature object at 0x7f3ba03329b0>, <datasets.replica.Datum_feature object at 0x7f3ba03329e0>, <datasets.replica.Datum_feature object at 0x7f3ba0332a10>, <datasets.replica.Datum_feature object at 0x7f3ba0332a40>, <datasets.replica.Datum_feature object at 0x7f3ba0332950>, <datasets.replica.Datum_feature object at 0x7f3ba0332920>, <datasets.replica.Datum_feature object at 0x7f3ba0332740>, <datasets.replica.Datum_feature object at 0x7f3ba0332590>, <datasets.replica.Datum_feature object at 0x7f3ba0332620>, <datasets.replica.Datum_feature object at 0x7f3ba0332cb0>, <datasets.replica.Datum_feature object at 0x7f3ba0332b90>, <datasets.replica.Datum_feature object at 0x7f3ba0332bc0>, <datasets.replica.Datum_feature object at 0x7f3ba0332aa0>, <datasets.replica.Datum_feature object at 0x7f3ba0332ad0>, <datasets.replica.Datum_feature object at 0x7f3ba0332c50>, <datasets.replica.Datum_feature object at 0x7f3ba0332d40>, <datasets.replica.Datum_feature object at 0x7f3ba0332d70>, <datasets.replica.Datum_feature object at 0x7f3ba0332da0>, <datasets.replica.Datum_feature object at 0x7f3ba0332dd0>, <datasets.replica.Datum_feature object at 0x7f3ba0332e30>, <datasets.replica.Datum_feature object at 0x7f3ba03323e0>, <datasets.replica.Datum_feature object at 0x7f3ba0332e60>, <datasets.replica.Datum_feature object at 0x7f3ba0333e50>, <datasets.replica.Datum_feature object at 0x7f3ba0332fe0>, <datasets.replica.Datum_feature object at 0x7f3ba0333010>, <datasets.replica.Datum_feature object at 0x7f3ba0333070>, <datasets.replica.Datum_feature object at 0x7f3ba03330a0>, <datasets.replica.Datum_feature object at 0x7f3ba0333e80>, <datasets.replica.Datum_feature object at 0x7f3ba0332f50>, <datasets.replica.Datum_feature object at 0x7f3ba0332f80>, <datasets.replica.Datum_feature object at 0x7f3ba03330d0>, <datasets.replica.Datum_feature object at 0x7f3ba0333e20>, <datasets.replica.Datum_feature object at 0x7f3ba0333490>, <datasets.replica.Datum_feature object at 0x7f3ba0333f10>, <datasets.replica.Datum_feature object at 0x7f3ba0333310>, <datasets.replica.Datum_feature object at 0x7f3ba0333130>, <datasets.replica.Datum_feature object at 0x7f3ba0333280>, <datasets.replica.Datum_feature object at 0x7f3ba0333100>, <datasets.replica.Datum_feature object at 0x7f3ba0333190>, <datasets.replica.Datum_feature object at 0x7f3ba03331c0>, <datasets.replica.Datum_feature object at 0x7f3ba03331f0>, <datasets.replica.Datum_feature object at 0x7f3ba0333220>, <datasets.replica.Datum_feature object at 0x7f3ba0333250>, <datasets.replica.Datum_feature object at 0x7f3ba03332e0>, <datasets.replica.Datum_feature object at 0x7f3ba03333a0>, <datasets.replica.Datum_feature object at 0x7f3ba03333d0>, <datasets.replica.Datum_feature object at 0x7f3ba0333400>, <datasets.replica.Datum_feature object at 0x7f3ba0333430>, <datasets.replica.Datum_feature object at 0x7f3ba0333460>, <datasets.replica.Datum_feature object at 0x7f3ba0333370>, <datasets.replica.Datum_feature object at 0x7f3ba0333340>, <datasets.replica.Datum_feature object at 0x7f3ba0333160>, <datasets.replica.Datum_feature object at 0x7f3ba0332fb0>, <datasets.replica.Datum_feature object at 0x7f3ba0333040>, <datasets.replica.Datum_feature object at 0x7f3ba0333eb0>, <datasets.replica.Datum_feature object at 0x7f3ba0333f70>, <datasets.replica.Datum_feature object at 0x7f3ba0333f40>, <datasets.replica.Datum_feature object at 0x7f3ba03334c0>, <datasets.replica.Datum_feature object at 0x7f3ba03334f0>, <datasets.replica.Datum_feature object at 0x7f3ba0333df0>, <datasets.replica.Datum_feature object at 0x7f3ba0333dc0>, <datasets.replica.Datum_feature object at 0x7f3ba0333d90>, <datasets.replica.Datum_feature object at 0x7f3ba0333d60>, <datasets.replica.Datum_feature object at 0x7f3ba0333d30>, <datasets.replica.Datum_feature object at 0x7f3ba0333d00>, <datasets.replica.Datum_feature object at 0x7f3ba0333cd0>, <datasets.replica.Datum_feature object at 0x7f3ba0333ca0>, <datasets.replica.Datum_feature object at 0x7f3ba0333c70>, <datasets.replica.Datum_feature object at 0x7f3ba0333c40>, <datasets.replica.Datum_feature object at 0x7f3ba0333c10>, <datasets.replica.Datum_feature object at 0x7f3ba0333be0>, <datasets.replica.Datum_feature object at 0x7f3ba0333bb0>, <datasets.replica.Datum_feature object at 0x7f3ba0333b80>, <datasets.replica.Datum_feature object at 0x7f3ba0333b50>, <datasets.replica.Datum_feature object at 0x7f3ba0333b20>, <datasets.replica.Datum_feature object at 0x7f3ba0333af0>, <datasets.replica.Datum_feature object at 0x7f3ba0333ac0>, <datasets.replica.Datum_feature object at 0x7f3ba0333a90>, <datasets.replica.Datum_feature object at 0x7f3ba0333a60>, <datasets.replica.Datum_feature object at 0x7f3ba0333a30>]\n",
      "test: [<datasets.replica.Datum_feature object at 0x7f3ba03339d0>, <datasets.replica.Datum_feature object at 0x7f3ba0332e00>, <datasets.replica.Datum_feature object at 0x7f3ba03339a0>, <datasets.replica.Datum_feature object at 0x7f3ba0333880>, <datasets.replica.Datum_feature object at 0x7f3ba03337c0>, <datasets.replica.Datum_feature object at 0x7f3ba0333550>, <datasets.replica.Datum_feature object at 0x7f3ba0333610>, <datasets.replica.Datum_feature object at 0x7f3ba03335e0>, <datasets.replica.Datum_feature object at 0x7f3ba0333820>, <datasets.replica.Datum_feature object at 0x7f3ba03336a0>, <datasets.replica.Datum_feature object at 0x7f3ba0333850>, <datasets.replica.Datum_feature object at 0x7f3ba0333760>, <datasets.replica.Datum_feature object at 0x7f3ba03338b0>, <datasets.replica.Datum_feature object at 0x7f3ba0333790>, <datasets.replica.Datum_feature object at 0x7f3ba03335b0>, <datasets.replica.Datum_feature object at 0x7f3ba03337f0>, <datasets.replica.Datum_feature object at 0x7f3ba03336d0>, <datasets.replica.Datum_feature object at 0x7f3ba03206a0>, <datasets.replica.Datum_feature object at 0x7f3ba0320670>, <datasets.replica.Datum_feature object at 0x7f3ba0320790>, <datasets.replica.Datum_feature object at 0x7f3ba0320760>, <datasets.replica.Datum_feature object at 0x7f3ba0320730>, <datasets.replica.Datum_feature object at 0x7f3ba0320370>, <datasets.replica.Datum_feature object at 0x7f3ba0320430>, <datasets.replica.Datum_feature object at 0x7f3ba0320460>, <datasets.replica.Datum_feature object at 0x7f3ba0320490>, <datasets.replica.Datum_feature object at 0x7f3ba03204c0>, <datasets.replica.Datum_feature object at 0x7f3ba03204f0>, <datasets.replica.Datum_feature object at 0x7f3ba0320520>, <datasets.replica.Datum_feature object at 0x7f3ba0320550>, <datasets.replica.Datum_feature object at 0x7f3ba0320580>, <datasets.replica.Datum_feature object at 0x7f3ba03205b0>, <datasets.replica.Datum_feature object at 0x7f3ba03205e0>, <datasets.replica.Datum_feature object at 0x7f3ba0320610>, <datasets.replica.Datum_feature object at 0x7f3ba0320ee0>, <datasets.replica.Datum_feature object at 0x7f3ba03207f0>, <datasets.replica.Datum_feature object at 0x7f3ba0320820>, <datasets.replica.Datum_feature object at 0x7f3ba0320880>, <datasets.replica.Datum_feature object at 0x7f3ba03208b0>, <datasets.replica.Datum_feature object at 0x7f3ba0320eb0>, <datasets.replica.Datum_feature object at 0x7f3ba03203d0>, <datasets.replica.Datum_feature object at 0x7f3ba03203a0>, <datasets.replica.Datum_feature object at 0x7f3ba03208e0>, <datasets.replica.Datum_feature object at 0x7f3ba0320f10>, <datasets.replica.Datum_feature object at 0x7f3ba0320ca0>, <datasets.replica.Datum_feature object at 0x7f3ba0320e20>, <datasets.replica.Datum_feature object at 0x7f3ba0320b20>, <datasets.replica.Datum_feature object at 0x7f3ba0320940>, <datasets.replica.Datum_feature object at 0x7f3ba0320a90>, <datasets.replica.Datum_feature object at 0x7f3ba0320910>, <datasets.replica.Datum_feature object at 0x7f3ba03209a0>, <datasets.replica.Datum_feature object at 0x7f3ba03209d0>, <datasets.replica.Datum_feature object at 0x7f3ba0320a00>, <datasets.replica.Datum_feature object at 0x7f3ba0320a30>, <datasets.replica.Datum_feature object at 0x7f3ba0320a60>, <datasets.replica.Datum_feature object at 0x7f3ba0320af0>, <datasets.replica.Datum_feature object at 0x7f3ba0320bb0>, <datasets.replica.Datum_feature object at 0x7f3ba0320be0>, <datasets.replica.Datum_feature object at 0x7f3ba0320c10>, <datasets.replica.Datum_feature object at 0x7f3ba0320c40>, <datasets.replica.Datum_feature object at 0x7f3ba0320c70>, <datasets.replica.Datum_feature object at 0x7f3ba0320b80>, <datasets.replica.Datum_feature object at 0x7f3ba0320b50>, <datasets.replica.Datum_feature object at 0x7f3ba0320970>, <datasets.replica.Datum_feature object at 0x7f3ba03207c0>, <datasets.replica.Datum_feature object at 0x7f3ba0320850>, <datasets.replica.Datum_feature object at 0x7f3ba0320e80>, <datasets.replica.Datum_feature object at 0x7f3ba0320dc0>, <datasets.replica.Datum_feature object at 0x7f3ba0320df0>, <datasets.replica.Datum_feature object at 0x7f3ba0320cd0>, <datasets.replica.Datum_feature object at 0x7f3ba0320d00>, <datasets.replica.Datum_feature object at 0x7f3ba0320f40>, <datasets.replica.Datum_feature object at 0x7f3ba0320f70>, <datasets.replica.Datum_feature object at 0x7f3ba0320fa0>, <datasets.replica.Datum_feature object at 0x7f3ba0320fd0>, <datasets.replica.Datum_feature object at 0x7f3ba0321000>, <datasets.replica.Datum_feature object at 0x7f3ba0321030>, <datasets.replica.Datum_feature object at 0x7f3ba0321060>, <datasets.replica.Datum_feature object at 0x7f3ba0321090>, <datasets.replica.Datum_feature object at 0x7f3ba03210c0>, <datasets.replica.Datum_feature object at 0x7f3ba03210f0>, <datasets.replica.Datum_feature object at 0x7f3ba0321120>, <datasets.replica.Datum_feature object at 0x7f3ba0321150>]\n"
     ]
    },
    {
     "name": "stdout",
     "output_type": "stream",
     "text": [
      "-----------------------------------------------------------\n",
      "Label range: 0-47\n",
      "Unique labels: {0, 3, 4, 5, 6, 7, 10, 11, 12, 13, 14, 15, 17, 18, 19, 20, 21, 22, 23, 25, 26, 27, 28, 30, 31, 32, 35, 36, 37, 38, 39, 40, 41, 43, 44, 45, 46, 47}\n",
      "Label range: 0-47\n",
      "Unique labels: {0, 1, 2, 3, 4, 5, 6, 7, 8, 10, 11, 13, 14, 16, 17, 19, 20, 21, 22, 24, 25, 26, 28, 29, 31, 35, 37, 38, 39, 40, 42, 43, 44, 45, 46, 47}\n",
      "Label range: 2-47\n",
      "Unique labels: {2, 3, 5, 7, 8, 9, 10, 13, 14, 20, 21, 22, 25, 31, 33, 34, 37, 38, 41, 43, 44, 45, 46, 47}\n",
      "Building transform_train\n",
      "+ random resized crop (size=(224, 224), scale=(0.08, 1.0))\n",
      "+ random flip\n",
      "+ to torch tensor of range [0, 1]\n",
      "+ normalization (mean=[0.48145466, 0.4578275, 0.40821073], std=[0.26862954, 0.26130258, 0.27577711])\n",
      "Building transform_test\n",
      "+ resize the smaller edge to 224\n",
      "+ 224x224 center crop\n",
      "+ to torch tensor of range [0, 1]\n",
      "+ normalization (mean=[0.48145466, 0.4578275, 0.40821073], std=[0.26862954, 0.26130258, 0.27577711])\n",
      "---------  -------\n",
      "Dataset    Replica\n",
      "# classes  48\n",
      "# train_x  178\n",
      "# val      106\n",
      "# test     83\n",
      "---------  -------\n",
      "Loading CLIP (backbone: ViT-B/16)\n",
      "Building custom CLIP\n",
      "whole prompts\n",
      "['a photo of a basket.', 'a photo of a bed.', 'a photo of a bench.', 'a photo of a bin.', 'a photo of a blanket.', 'a photo of a blinds.', 'a photo of a book.', 'a photo of a bottle.', 'a photo of a box.', 'a photo of a bowl.', 'a photo of a camera.', 'a photo of a cabinet.', 'a photo of a candle.', 'a photo of a chair.', 'a photo of a clock.', 'a photo of a cloth.', 'a photo of a comforter.', 'a photo of a cushion.', 'a photo of a desk.', 'a photo of a desk-organizer.', 'a photo of a door.', 'a photo of a indoor-plant.', 'a photo of a lamp.', 'a photo of a monitor.', 'a photo of a nightstand.', 'a photo of a panel.', 'a photo of a picture.', 'a photo of a pillar.', 'a photo of a pillow.', 'a photo of a pipe.', 'a photo of a plant-stand.', 'a photo of a plate.', 'a photo of a pot.', 'a photo of a sculpture.', 'a photo of a shelf.', 'a photo of a sofa.', 'a photo of a stool.', 'a photo of a switch.', 'a photo of a table.', 'a photo of a tablet.', 'a photo of a tissue-paper.', 'a photo of a tv-screen.', 'a photo of a tv-stand.', 'a photo of a vase.', 'a photo of a vent.', 'a photo of a wall-plug.', 'a photo of a window.', 'a photo of a rug.']\n",
      "Turning off gradients in both the image and the text encoder\n",
      "Parameters to be updated: {'prompt_learner.compound_prompts_text.9', 'prompt_learner.compound_prompts_text.8', 'prompt_learner.compound_prompts_text.0', 'prompt_learner.compound_prompts_text.3', 'prompt_learner.compound_prompts_text.5', 'prompt_learner.compound_prompts_text.4', 'prompt_learner.compound_prompts_text.6', 'prompt_learner.compound_prompts_text.10', 'prompt_learner.compound_prompts_text.7', 'prompt_learner.ctx', 'prompt_learner.compound_prompts_text.1', 'prompt_learner.compound_prompts_text.2'}\n",
      "Loading evaluator: Classification\n",
      "No checkpoint found, train from scratch\n",
      "Initialize tensorboard (log_dir=output/replica/MaPLePromptScene/vit_b16_c2_ep200_batch4_ctx4_depth12_cross_datasets_-1shots/seed1/tensorboard)\n",
      "epoch [1/1000] batch [20/44] time 0.042 (0.087) data 0.000 (0.014) loss 4.0781 (3.9235) lr 1.0000e-05 eta 1:03:46\n",
      "epoch [1/1000] batch [40/44] time 0.041 (0.063) data 0.000 (0.007) loss 3.9336 (3.8225) lr 1.0000e-05 eta 0:46:31\n",
      "Evaluate on the *val* set\n"
     ]
    },
    {
     "name": "stderr",
     "output_type": "stream",
     "text": [
      "\r",
      "  0%|          | 0/2 [00:00<?, ?it/s]\r",
      " 50%|█████     | 1/2 [00:00<00:00,  3.26it/s]\r",
      "100%|██████████| 2/2 [00:00<00:00,  5.27it/s]\n"
     ]
    },
    {
     "name": "stdout",
     "output_type": "stream",
     "text": [
      "=> result\n",
      "* total: 106\n",
      "* correct: 8\n",
      "* accuracy: 7.5%\n",
      "* error: 92.5%\n",
      "* macro_f1: 0.9%\n",
      "Checkpoint saved to output/replica/MaPLePromptScene/vit_b16_c2_ep200_batch4_ctx4_depth12_cross_datasets_-1shots/seed1/MultiModalPromptSceneLearner/model-best.pth.tar\n",
      "epoch [2/1000] batch [20/44] time 0.047 (0.055) data 0.000 (0.014) loss 2.8711 (3.7450) lr 3.5000e-03 eta 0:40:15\n",
      "epoch [2/1000] batch [40/44] time 0.043 (0.048) data 0.000 (0.007) loss 3.7480 (3.7629) lr 3.5000e-03 eta 0:34:50\n",
      "Evaluate on the *val* set\n"
     ]
    },
    {
     "name": "stderr",
     "output_type": "stream",
     "text": [
      "\r",
      "  0%|          | 0/2 [00:00<?, ?it/s]\r",
      " 50%|█████     | 1/2 [00:00<00:00,  3.30it/s]\r",
      "100%|██████████| 2/2 [00:00<00:00,  5.19it/s]\n"
     ]
    },
    {
     "name": "stdout",
     "output_type": "stream",
     "text": [
      "=> result\n",
      "* total: 106\n",
      "* correct: 11\n",
      "* accuracy: 10.4%\n",
      "* error: 89.6%\n",
      "* macro_f1: 1.2%\n",
      "Checkpoint saved to output/replica/MaPLePromptScene/vit_b16_c2_ep200_batch4_ctx4_depth12_cross_datasets_-1shots/seed1/MultiModalPromptSceneLearner/model-best.pth.tar\n",
      "epoch [3/1000] batch [20/44] time 0.044 (0.059) data 0.000 (0.017) loss 3.6113 (3.4487) lr 3.5000e-03 eta 0:43:13\n",
      "epoch [3/1000] batch [40/44] time 0.040 (0.050) data 0.000 (0.009) loss 3.4395 (3.4685) lr 3.5000e-03 eta 0:36:31\n",
      "Evaluate on the *val* set\n"
     ]
    },
    {
     "name": "stderr",
     "output_type": "stream",
     "text": [
      "\r",
      "  0%|          | 0/2 [00:00<?, ?it/s]\r",
      " 50%|█████     | 1/2 [00:00<00:00,  3.26it/s]\r",
      "100%|██████████| 2/2 [00:00<00:00,  5.18it/s]\n"
     ]
    },
    {
     "name": "stdout",
     "output_type": "stream",
     "text": [
      "=> result\n",
      "* total: 106\n",
      "* correct: 8\n",
      "* accuracy: 7.5%\n",
      "* error: 92.5%\n",
      "* macro_f1: 1.7%\n",
      "epoch [4/1000] batch [20/44] time 0.043 (0.056) data 0.000 (0.014) loss 3.6660 (3.3730) lr 3.5000e-03 eta 0:41:06\n",
      "epoch [4/1000] batch [40/44] time 0.041 (0.048) data 0.000 (0.007) loss 4.0039 (3.4653) lr 3.5000e-03 eta 0:35:02\n",
      "Evaluate on the *val* set\n"
     ]
    },
    {
     "name": "stderr",
     "output_type": "stream",
     "text": [
      "\r",
      "  0%|          | 0/2 [00:00<?, ?it/s]\r",
      " 50%|█████     | 1/2 [00:00<00:00,  3.29it/s]\r",
      "100%|██████████| 2/2 [00:00<00:00,  5.20it/s]\n"
     ]
    },
    {
     "name": "stdout",
     "output_type": "stream",
     "text": [
      "=> result\n",
      "* total: 106\n",
      "* correct: 11\n",
      "* accuracy: 10.4%\n",
      "* error: 89.6%\n",
      "* macro_f1: 1.2%\n",
      "epoch [5/1000] batch [20/44] time 0.044 (0.054) data 0.000 (0.014) loss 3.1836 (3.1573) lr 3.4999e-03 eta 0:39:27\n",
      "epoch [5/1000] batch [40/44] time 0.033 (0.047) data 0.000 (0.007) loss 2.8301 (3.1909) lr 3.4999e-03 eta 0:34:24\n",
      "Evaluate on the *val* set\n"
     ]
    },
    {
     "name": "stderr",
     "output_type": "stream",
     "text": [
      "\r",
      "  0%|          | 0/2 [00:00<?, ?it/s]\r",
      " 50%|█████     | 1/2 [00:00<00:00,  3.22it/s]\r",
      "100%|██████████| 2/2 [00:00<00:00,  4.98it/s]\n"
     ]
    },
    {
     "name": "stdout",
     "output_type": "stream",
     "text": [
      "=> result\n",
      "* total: 106\n",
      "* correct: 30\n",
      "* accuracy: 28.3%\n",
      "* error: 71.7%\n",
      "* macro_f1: 6.0%\n",
      "Checkpoint saved to output/replica/MaPLePromptScene/vit_b16_c2_ep200_batch4_ctx4_depth12_cross_datasets_-1shots/seed1/MultiModalPromptSceneLearner/model-best.pth.tar\n",
      "epoch [6/1000] batch [20/44] time 0.040 (0.058) data 0.000 (0.019) loss 3.7539 (3.3695) lr 3.4999e-03 eta 0:42:34\n",
      "epoch [6/1000] batch [40/44] time 0.040 (0.049) data 0.000 (0.010) loss 2.8887 (3.1994) lr 3.4999e-03 eta 0:35:52\n",
      "Evaluate on the *val* set\n"
     ]
    },
    {
     "name": "stderr",
     "output_type": "stream",
     "text": [
      "\r",
      "  0%|          | 0/2 [00:00<?, ?it/s]\r",
      " 50%|█████     | 1/2 [00:00<00:00,  3.25it/s]\r",
      "100%|██████████| 2/2 [00:00<00:00,  5.25it/s]\n"
     ]
    },
    {
     "name": "stdout",
     "output_type": "stream",
     "text": [
      "=> result\n",
      "* total: 106\n",
      "* correct: 18\n",
      "* accuracy: 17.0%\n",
      "* error: 83.0%\n",
      "* macro_f1: 3.8%\n",
      "epoch [7/1000] batch [20/44] time 0.039 (0.057) data 0.000 (0.015) loss 3.8965 (3.3158) lr 3.4998e-03 eta 0:41:31\n",
      "epoch [7/1000] batch [40/44] time 0.041 (0.048) data 0.000 (0.008) loss 2.2480 (3.1323) lr 3.4998e-03 eta 0:35:11\n",
      "Evaluate on the *val* set\n"
     ]
    },
    {
     "name": "stderr",
     "output_type": "stream",
     "text": [
      "\r",
      "  0%|          | 0/2 [00:00<?, ?it/s]\r",
      " 50%|█████     | 1/2 [00:00<00:00,  3.37it/s]\r",
      "100%|██████████| 2/2 [00:00<00:00,  5.31it/s]\n"
     ]
    },
    {
     "name": "stdout",
     "output_type": "stream",
     "text": [
      "=> result\n",
      "* total: 106\n",
      "* correct: 9\n",
      "* accuracy: 8.5%\n",
      "* error: 91.5%\n",
      "* macro_f1: 1.2%\n",
      "epoch [8/1000] batch [20/44] time 0.038 (0.056) data 0.000 (0.015) loss 3.6836 (3.4081) lr 3.4997e-03 eta 0:40:54\n",
      "epoch [8/1000] batch [40/44] time 0.041 (0.048) data 0.000 (0.008) loss 3.1836 (3.0860) lr 3.4997e-03 eta 0:35:00\n",
      "Evaluate on the *val* set\n"
     ]
    },
    {
     "name": "stderr",
     "output_type": "stream",
     "text": [
      "\r",
      "  0%|          | 0/2 [00:00<?, ?it/s]\r",
      " 50%|█████     | 1/2 [00:00<00:00,  3.28it/s]\r",
      "100%|██████████| 2/2 [00:00<00:00,  4.99it/s]\n"
     ]
    },
    {
     "name": "stdout",
     "output_type": "stream",
     "text": [
      "=> result\n",
      "* total: 106\n",
      "* correct: 29\n",
      "* accuracy: 27.4%\n",
      "* error: 72.6%\n",
      "* macro_f1: 6.4%\n",
      "epoch [9/1000] batch [20/44] time 0.037 (0.055) data 0.000 (0.014) loss 2.2539 (2.5532) lr 3.4996e-03 eta 0:40:06\n",
      "epoch [9/1000] batch [40/44] time 0.042 (0.048) data 0.000 (0.007) loss 2.9902 (2.8707) lr 3.4996e-03 eta 0:34:40\n",
      "Evaluate on the *val* set\n"
     ]
    },
    {
     "name": "stderr",
     "output_type": "stream",
     "text": [
      "\r",
      "  0%|          | 0/2 [00:00<?, ?it/s]\r",
      " 50%|█████     | 1/2 [00:00<00:00,  3.23it/s]\r",
      "100%|██████████| 2/2 [00:00<00:00,  5.12it/s]\n"
     ]
    },
    {
     "name": "stdout",
     "output_type": "stream",
     "text": [
      "=> result\n",
      "* total: 106\n",
      "* correct: 25\n",
      "* accuracy: 23.6%\n",
      "* error: 76.4%\n",
      "* macro_f1: 4.8%\n",
      "epoch [10/1000] batch [20/44] time 0.039 (0.055) data 0.000 (0.014) loss 2.7812 (2.8175) lr 3.4994e-03 eta 0:39:56\n",
      "epoch [10/1000] batch [40/44] time 0.038 (0.048) data 0.000 (0.007) loss 3.7812 (2.8548) lr 3.4994e-03 eta 0:34:33\n",
      "Evaluate on the *val* set\n"
     ]
    },
    {
     "name": "stderr",
     "output_type": "stream",
     "text": [
      "\r",
      "  0%|          | 0/2 [00:00<?, ?it/s]\r",
      " 50%|█████     | 1/2 [00:00<00:00,  3.36it/s]\r",
      "100%|██████████| 2/2 [00:00<00:00,  5.24it/s]\n"
     ]
    },
    {
     "name": "stdout",
     "output_type": "stream",
     "text": [
      "=> result\n",
      "* total: 106\n",
      "* correct: 21\n",
      "* accuracy: 19.8%\n",
      "* error: 80.2%\n",
      "* macro_f1: 3.7%\n",
      "epoch [11/1000] batch [20/44] time 0.043 (0.057) data 0.000 (0.015) loss 4.2188 (2.6251) lr 3.4993e-03 eta 0:41:36\n",
      "epoch [11/1000] batch [40/44] time 0.034 (0.049) data 0.000 (0.008) loss 3.4492 (2.7888) lr 3.4993e-03 eta 0:35:19\n",
      "Evaluate on the *val* set\n"
     ]
    },
    {
     "name": "stderr",
     "output_type": "stream",
     "text": [
      "\r",
      "  0%|          | 0/2 [00:00<?, ?it/s]\r",
      " 50%|█████     | 1/2 [00:00<00:00,  3.26it/s]\r",
      "100%|██████████| 2/2 [00:00<00:00,  5.35it/s]\n"
     ]
    },
    {
     "name": "stdout",
     "output_type": "stream",
     "text": [
      "=> result\n",
      "* total: 106\n",
      "* correct: 30\n",
      "* accuracy: 28.3%\n",
      "* error: 71.7%\n",
      "* macro_f1: 6.1%\n",
      "epoch [12/1000] batch [20/44] time 0.036 (0.055) data 0.000 (0.015) loss 3.1426 (2.6490) lr 3.4991e-03 eta 0:39:35\n",
      "epoch [12/1000] batch [40/44] time 0.042 (0.047) data 0.000 (0.008) loss 2.4375 (2.6373) lr 3.4991e-03 eta 0:34:13\n",
      "Evaluate on the *val* set\n"
     ]
    },
    {
     "name": "stderr",
     "output_type": "stream",
     "text": [
      "\r",
      "  0%|          | 0/2 [00:00<?, ?it/s]\r",
      " 50%|█████     | 1/2 [00:00<00:00,  3.21it/s]\r",
      "100%|██████████| 2/2 [00:00<00:00,  5.30it/s]\n"
     ]
    },
    {
     "name": "stdout",
     "output_type": "stream",
     "text": [
      "=> result\n",
      "* total: 106\n",
      "* correct: 31\n",
      "* accuracy: 29.2%\n",
      "* error: 70.8%\n",
      "* macro_f1: 5.8%\n",
      "Checkpoint saved to output/replica/MaPLePromptScene/vit_b16_c2_ep200_batch4_ctx4_depth12_cross_datasets_-1shots/seed1/MultiModalPromptSceneLearner/model-best.pth.tar\n",
      "epoch [13/1000] batch [20/44] time 0.044 (0.062) data 0.000 (0.020) loss 3.5977 (2.3937) lr 3.4990e-03 eta 0:44:44\n",
      "epoch [13/1000] batch [40/44] time 0.037 (0.051) data 0.000 (0.010) loss 2.0898 (2.5282) lr 3.4990e-03 eta 0:36:47\n",
      "Evaluate on the *val* set\n"
     ]
    },
    {
     "name": "stderr",
     "output_type": "stream",
     "text": [
      "\r",
      "  0%|          | 0/2 [00:00<?, ?it/s]\r",
      " 50%|█████     | 1/2 [00:00<00:00,  3.02it/s]\r",
      "100%|██████████| 2/2 [00:00<00:00,  4.89it/s]\n"
     ]
    },
    {
     "name": "stdout",
     "output_type": "stream",
     "text": [
      "=> result\n",
      "* total: 106\n",
      "* correct: 31\n",
      "* accuracy: 29.2%\n",
      "* error: 70.8%\n",
      "* macro_f1: 5.8%\n",
      "epoch [14/1000] batch [20/44] time 0.038 (0.057) data 0.000 (0.015) loss 3.4004 (2.3267) lr 3.4988e-03 eta 0:41:05\n",
      "epoch [14/1000] batch [40/44] time 0.038 (0.048) data 0.000 (0.008) loss 3.1543 (2.5170) lr 3.4988e-03 eta 0:34:53\n",
      "Evaluate on the *val* set\n"
     ]
    },
    {
     "name": "stderr",
     "output_type": "stream",
     "text": [
      "\r",
      "  0%|          | 0/2 [00:00<?, ?it/s]\r",
      " 50%|█████     | 1/2 [00:00<00:00,  3.30it/s]\r",
      "100%|██████████| 2/2 [00:00<00:00,  5.25it/s]\n"
     ]
    },
    {
     "name": "stdout",
     "output_type": "stream",
     "text": [
      "=> result\n",
      "* total: 106\n",
      "* correct: 22\n",
      "* accuracy: 20.8%\n",
      "* error: 79.2%\n",
      "* macro_f1: 5.3%\n",
      "epoch [15/1000] batch [20/44] time 0.042 (0.057) data 0.000 (0.015) loss 3.1445 (2.5364) lr 3.4985e-03 eta 0:40:52\n",
      "epoch [15/1000] batch [40/44] time 0.042 (0.049) data 0.000 (0.008) loss 2.6016 (2.5892) lr 3.4985e-03 eta 0:35:16\n",
      "Evaluate on the *val* set\n"
     ]
    },
    {
     "name": "stderr",
     "output_type": "stream",
     "text": [
      "\r",
      "  0%|          | 0/2 [00:00<?, ?it/s]\r",
      " 50%|█████     | 1/2 [00:00<00:00,  3.32it/s]\r",
      "100%|██████████| 2/2 [00:00<00:00,  5.06it/s]\n"
     ]
    },
    {
     "name": "stdout",
     "output_type": "stream",
     "text": [
      "=> result\n",
      "* total: 106\n",
      "* correct: 24\n",
      "* accuracy: 22.6%\n",
      "* error: 77.4%\n",
      "* macro_f1: 4.4%\n",
      "epoch [16/1000] batch [20/44] time 0.042 (0.058) data 0.000 (0.014) loss 1.8418 (2.4861) lr 3.4983e-03 eta 0:41:38\n",
      "epoch [16/1000] batch [40/44] time 0.034 (0.049) data 0.000 (0.007) loss 2.1641 (2.5441) lr 3.4983e-03 eta 0:35:13\n",
      "Evaluate on the *val* set\n"
     ]
    },
    {
     "name": "stderr",
     "output_type": "stream",
     "text": [
      "\r",
      "  0%|          | 0/2 [00:00<?, ?it/s]\r",
      " 50%|█████     | 1/2 [00:00<00:00,  3.16it/s]\r",
      "100%|██████████| 2/2 [00:00<00:00,  5.19it/s]\n"
     ]
    },
    {
     "name": "stdout",
     "output_type": "stream",
     "text": [
      "=> result\n",
      "* total: 106\n",
      "* correct: 30\n",
      "* accuracy: 28.3%\n",
      "* error: 71.7%\n",
      "* macro_f1: 5.7%\n",
      "epoch [17/1000] batch [20/44] time 0.040 (0.056) data 0.000 (0.015) loss 2.9922 (2.4155) lr 3.4981e-03 eta 0:40:05\n",
      "epoch [17/1000] batch [40/44] time 0.042 (0.048) data 0.000 (0.008) loss 2.7109 (2.4293) lr 3.4981e-03 eta 0:34:55\n",
      "Evaluate on the *val* set\n"
     ]
    },
    {
     "name": "stderr",
     "output_type": "stream",
     "text": [
      "\r",
      "  0%|          | 0/2 [00:00<?, ?it/s]\r",
      " 50%|█████     | 1/2 [00:00<00:00,  3.29it/s]\r",
      "100%|██████████| 2/2 [00:00<00:00,  5.22it/s]\n"
     ]
    },
    {
     "name": "stdout",
     "output_type": "stream",
     "text": [
      "=> result\n",
      "* total: 106\n",
      "* correct: 39\n",
      "* accuracy: 36.8%\n",
      "* error: 63.2%\n",
      "* macro_f1: 10.5%\n",
      "Checkpoint saved to output/replica/MaPLePromptScene/vit_b16_c2_ep200_batch4_ctx4_depth12_cross_datasets_-1shots/seed1/MultiModalPromptSceneLearner/model-best.pth.tar\n",
      "epoch [18/1000] batch [20/44] time 0.039 (0.057) data 0.000 (0.018) loss 3.6406 (2.2496) lr 3.4978e-03 eta 0:40:55\n",
      "epoch [18/1000] batch [40/44] time 0.038 (0.048) data 0.000 (0.009) loss 2.1504 (2.4106) lr 3.4978e-03 eta 0:34:40\n",
      "Evaluate on the *val* set\n"
     ]
    },
    {
     "name": "stderr",
     "output_type": "stream",
     "text": [
      "\r",
      "  0%|          | 0/2 [00:00<?, ?it/s]\r",
      " 50%|█████     | 1/2 [00:00<00:00,  3.16it/s]\r",
      "100%|██████████| 2/2 [00:00<00:00,  5.04it/s]\n"
     ]
    },
    {
     "name": "stdout",
     "output_type": "stream",
     "text": [
      "=> result\n",
      "* total: 106\n",
      "* correct: 31\n",
      "* accuracy: 29.2%\n",
      "* error: 70.8%\n",
      "* macro_f1: 6.1%\n",
      "epoch [19/1000] batch [20/44] time 0.042 (0.058) data 0.000 (0.016) loss 2.8945 (2.6128) lr 3.4975e-03 eta 0:41:44\n",
      "epoch [19/1000] batch [40/44] time 0.042 (0.049) data 0.000 (0.008) loss 2.5156 (2.4114) lr 3.4975e-03 eta 0:35:15\n",
      "Evaluate on the *val* set\n"
     ]
    },
    {
     "name": "stderr",
     "output_type": "stream",
     "text": [
      "\r",
      "  0%|          | 0/2 [00:00<?, ?it/s]\r",
      " 50%|█████     | 1/2 [00:00<00:00,  3.21it/s]\r",
      "100%|██████████| 2/2 [00:00<00:00,  5.15it/s]\n"
     ]
    },
    {
     "name": "stdout",
     "output_type": "stream",
     "text": [
      "=> result\n",
      "* total: 106\n",
      "* correct: 34\n",
      "* accuracy: 32.1%\n",
      "* error: 67.9%\n",
      "* macro_f1: 8.9%\n",
      "epoch [20/1000] batch [20/44] time 0.042 (0.054) data 0.000 (0.014) loss 2.1289 (2.3167) lr 3.4972e-03 eta 0:38:55\n",
      "epoch [20/1000] batch [40/44] time 0.037 (0.047) data 0.000 (0.007) loss 2.9316 (2.3357) lr 3.4972e-03 eta 0:33:37\n",
      "Evaluate on the *val* set\n"
     ]
    },
    {
     "name": "stderr",
     "output_type": "stream",
     "text": [
      "\r",
      "  0%|          | 0/2 [00:00<?, ?it/s]\r",
      " 50%|█████     | 1/2 [00:00<00:00,  3.29it/s]\r",
      "100%|██████████| 2/2 [00:00<00:00,  5.24it/s]\n"
     ]
    },
    {
     "name": "stdout",
     "output_type": "stream",
     "text": [
      "=> result\n",
      "* total: 106\n",
      "* correct: 31\n",
      "* accuracy: 29.2%\n",
      "* error: 70.8%\n",
      "* macro_f1: 6.3%\n",
      "epoch [21/1000] batch [20/44] time 0.040 (0.057) data 0.000 (0.016) loss 2.0547 (2.2203) lr 3.4969e-03 eta 0:40:47\n",
      "epoch [21/1000] batch [40/44] time 0.038 (0.048) data 0.000 (0.008) loss 1.7773 (2.2350) lr 3.4969e-03 eta 0:34:21\n",
      "Evaluate on the *val* set\n"
     ]
    },
    {
     "name": "stderr",
     "output_type": "stream",
     "text": [
      "\r",
      "  0%|          | 0/2 [00:00<?, ?it/s]\r",
      " 50%|█████     | 1/2 [00:00<00:00,  3.30it/s]\r",
      "100%|██████████| 2/2 [00:00<00:00,  5.24it/s]\n"
     ]
    },
    {
     "name": "stdout",
     "output_type": "stream",
     "text": [
      "=> result\n",
      "* total: 106\n",
      "* correct: 37\n",
      "* accuracy: 34.9%\n",
      "* error: 65.1%\n",
      "* macro_f1: 8.2%\n",
      "epoch [22/1000] batch [20/44] time 0.035 (0.056) data 0.000 (0.016) loss 3.0391 (2.1787) lr 3.4965e-03 eta 0:40:14\n",
      "epoch [22/1000] batch [40/44] time 0.042 (0.047) data 0.000 (0.008) loss 2.2695 (2.2513) lr 3.4965e-03 eta 0:33:59\n",
      "Evaluate on the *val* set\n"
     ]
    },
    {
     "name": "stderr",
     "output_type": "stream",
     "text": [
      "\r",
      "  0%|          | 0/2 [00:00<?, ?it/s]\r",
      " 50%|█████     | 1/2 [00:00<00:00,  3.27it/s]\r",
      "100%|██████████| 2/2 [00:00<00:00,  5.28it/s]\n"
     ]
    },
    {
     "name": "stdout",
     "output_type": "stream",
     "text": [
      "=> result\n",
      "* total: 106\n",
      "* correct: 32\n",
      "* accuracy: 30.2%\n",
      "* error: 69.8%\n",
      "* macro_f1: 8.1%\n",
      "epoch [23/1000] batch [20/44] time 0.045 (0.055) data 0.000 (0.014) loss 1.1348 (2.0769) lr 3.4962e-03 eta 0:39:27\n",
      "epoch [23/1000] batch [40/44] time 0.036 (0.047) data 0.000 (0.007) loss 2.2988 (2.1713) lr 3.4962e-03 eta 0:33:59\n",
      "Evaluate on the *val* set\n"
     ]
    },
    {
     "name": "stderr",
     "output_type": "stream",
     "text": [
      "\r",
      "  0%|          | 0/2 [00:00<?, ?it/s]\r",
      " 50%|█████     | 1/2 [00:00<00:00,  3.27it/s]\r",
      "100%|██████████| 2/2 [00:00<00:00,  5.32it/s]\n"
     ]
    },
    {
     "name": "stdout",
     "output_type": "stream",
     "text": [
      "=> result\n",
      "* total: 106\n",
      "* correct: 34\n",
      "* accuracy: 32.1%\n",
      "* error: 67.9%\n",
      "* macro_f1: 10.1%\n",
      "epoch [24/1000] batch [20/44] time 0.042 (0.056) data 0.000 (0.016) loss 3.5488 (2.2126) lr 3.4958e-03 eta 0:40:11\n",
      "epoch [24/1000] batch [40/44] time 0.038 (0.048) data 0.000 (0.008) loss 1.2959 (2.2072) lr 3.4958e-03 eta 0:34:12\n",
      "Evaluate on the *val* set\n"
     ]
    },
    {
     "name": "stderr",
     "output_type": "stream",
     "text": [
      "\r",
      "  0%|          | 0/2 [00:00<?, ?it/s]\r",
      " 50%|█████     | 1/2 [00:00<00:00,  3.31it/s]\r",
      "100%|██████████| 2/2 [00:00<00:00,  5.23it/s]\n"
     ]
    },
    {
     "name": "stdout",
     "output_type": "stream",
     "text": [
      "=> result\n",
      "* total: 106\n",
      "* correct: 32\n",
      "* accuracy: 30.2%\n",
      "* error: 69.8%\n",
      "* macro_f1: 9.8%\n",
      "epoch [25/1000] batch [20/44] time 0.038 (0.058) data 0.000 (0.016) loss 2.5527 (2.0166) lr 3.4954e-03 eta 0:41:10\n",
      "epoch [25/1000] batch [40/44] time 0.034 (0.049) data 0.000 (0.008) loss 3.1484 (2.1871) lr 3.4954e-03 eta 0:34:52\n",
      "Evaluate on the *val* set\n"
     ]
    },
    {
     "name": "stderr",
     "output_type": "stream",
     "text": [
      "\r",
      "  0%|          | 0/2 [00:00<?, ?it/s]\r",
      " 50%|█████     | 1/2 [00:00<00:00,  3.27it/s]\r",
      "100%|██████████| 2/2 [00:00<00:00,  5.23it/s]\n"
     ]
    },
    {
     "name": "stdout",
     "output_type": "stream",
     "text": [
      "=> result\n",
      "* total: 106\n",
      "* correct: 25\n",
      "* accuracy: 23.6%\n",
      "* error: 76.4%\n",
      "* macro_f1: 7.4%\n",
      "epoch [26/1000] batch [20/44] time 0.040 (0.055) data 0.000 (0.014) loss 1.0088 (2.4512) lr 3.4950e-03 eta 0:39:16\n",
      "epoch [26/1000] batch [40/44] time 0.041 (0.047) data 0.000 (0.007) loss 2.0527 (2.3627) lr 3.4950e-03 eta 0:33:46\n",
      "Evaluate on the *val* set\n"
     ]
    },
    {
     "name": "stderr",
     "output_type": "stream",
     "text": [
      "\r",
      "  0%|          | 0/2 [00:00<?, ?it/s]\r",
      " 50%|█████     | 1/2 [00:00<00:00,  3.11it/s]\r",
      "100%|██████████| 2/2 [00:00<00:00,  5.02it/s]\n"
     ]
    },
    {
     "name": "stdout",
     "output_type": "stream",
     "text": [
      "=> result\n",
      "* total: 106\n",
      "* correct: 35\n",
      "* accuracy: 33.0%\n",
      "* error: 67.0%\n",
      "* macro_f1: 9.1%\n",
      "epoch [27/1000] batch [20/44] time 0.042 (0.057) data 0.000 (0.016) loss 1.2539 (1.9627) lr 3.4946e-03 eta 0:40:36\n",
      "epoch [27/1000] batch [40/44] time 0.035 (0.049) data 0.000 (0.008) loss 3.1270 (2.1752) lr 3.4946e-03 eta 0:35:13\n",
      "Evaluate on the *val* set\n"
     ]
    },
    {
     "name": "stderr",
     "output_type": "stream",
     "text": [
      "\r",
      "  0%|          | 0/2 [00:00<?, ?it/s]\r",
      " 50%|█████     | 1/2 [00:00<00:00,  3.26it/s]\r",
      "100%|██████████| 2/2 [00:00<00:00,  5.20it/s]\n"
     ]
    },
    {
     "name": "stdout",
     "output_type": "stream",
     "text": [
      "=> result\n",
      "* total: 106\n",
      "* correct: 33\n",
      "* accuracy: 31.1%\n",
      "* error: 68.9%\n",
      "* macro_f1: 7.6%\n",
      "epoch [28/1000] batch [20/44] time 0.042 (0.057) data 0.000 (0.015) loss 1.7949 (2.3640) lr 3.4942e-03 eta 0:40:38\n",
      "epoch [28/1000] batch [40/44] time 0.041 (0.049) data 0.000 (0.008) loss 1.9258 (2.2427) lr 3.4942e-03 eta 0:34:51\n",
      "Evaluate on the *val* set\n"
     ]
    },
    {
     "name": "stderr",
     "output_type": "stream",
     "text": [
      "\r",
      "  0%|          | 0/2 [00:00<?, ?it/s]\r",
      " 50%|█████     | 1/2 [00:00<00:00,  3.28it/s]\r",
      "100%|██████████| 2/2 [00:00<00:00,  5.22it/s]\n"
     ]
    },
    {
     "name": "stdout",
     "output_type": "stream",
     "text": [
      "=> result\n",
      "* total: 106\n",
      "* correct: 35\n",
      "* accuracy: 33.0%\n",
      "* error: 67.0%\n",
      "* macro_f1: 9.4%\n",
      "epoch [29/1000] batch [20/44] time 0.036 (0.054) data 0.000 (0.014) loss 0.9282 (2.1313) lr 3.4937e-03 eta 0:38:31\n",
      "epoch [29/1000] batch [40/44] time 0.042 (0.047) data 0.000 (0.007) loss 1.9258 (2.2101) lr 3.4937e-03 eta 0:33:23\n",
      "Evaluate on the *val* set\n"
     ]
    },
    {
     "name": "stderr",
     "output_type": "stream",
     "text": [
      "\r",
      "  0%|          | 0/2 [00:00<?, ?it/s]\r",
      " 50%|█████     | 1/2 [00:00<00:00,  3.34it/s]\r",
      "100%|██████████| 2/2 [00:00<00:00,  5.27it/s]\n"
     ]
    },
    {
     "name": "stdout",
     "output_type": "stream",
     "text": [
      "=> result\n",
      "* total: 106\n",
      "* correct: 36\n",
      "* accuracy: 34.0%\n",
      "* error: 66.0%\n",
      "* macro_f1: 9.1%\n",
      "epoch [30/1000] batch [20/44] time 0.043 (0.056) data 0.000 (0.015) loss 1.7637 (1.8137) lr 3.4932e-03 eta 0:40:06\n",
      "epoch [30/1000] batch [40/44] time 0.041 (0.048) data 0.000 (0.008) loss 1.0332 (1.9706) lr 3.4932e-03 eta 0:34:20\n",
      "Evaluate on the *val* set\n"
     ]
    },
    {
     "name": "stderr",
     "output_type": "stream",
     "text": [
      "\r",
      "  0%|          | 0/2 [00:00<?, ?it/s]\r",
      " 50%|█████     | 1/2 [00:00<00:00,  3.27it/s]\r",
      "100%|██████████| 2/2 [00:00<00:00,  5.20it/s]\n"
     ]
    },
    {
     "name": "stdout",
     "output_type": "stream",
     "text": [
      "=> result\n",
      "* total: 106\n",
      "* correct: 28\n",
      "* accuracy: 26.4%\n",
      "* error: 73.6%\n",
      "* macro_f1: 9.4%\n",
      "epoch [31/1000] batch [20/44] time 0.040 (0.055) data 0.000 (0.014) loss 1.4619 (2.0598) lr 3.4927e-03 eta 0:39:24\n",
      "epoch [31/1000] batch [40/44] time 0.040 (0.047) data 0.000 (0.007) loss 2.2910 (2.0410) lr 3.4927e-03 eta 0:33:18\n",
      "Evaluate on the *val* set\n"
     ]
    },
    {
     "name": "stderr",
     "output_type": "stream",
     "text": [
      "\r",
      "  0%|          | 0/2 [00:00<?, ?it/s]\r",
      " 50%|█████     | 1/2 [00:00<00:00,  3.12it/s]\r",
      "100%|██████████| 2/2 [00:00<00:00,  5.15it/s]\n"
     ]
    },
    {
     "name": "stdout",
     "output_type": "stream",
     "text": [
      "=> result\n",
      "* total: 106\n",
      "* correct: 35\n",
      "* accuracy: 33.0%\n",
      "* error: 67.0%\n",
      "* macro_f1: 8.6%\n",
      "epoch [32/1000] batch [20/44] time 0.038 (0.056) data 0.000 (0.014) loss 2.9980 (2.0160) lr 3.4922e-03 eta 0:39:59\n",
      "epoch [32/1000] batch [40/44] time 0.039 (0.048) data 0.000 (0.007) loss 2.4336 (2.0500) lr 3.4922e-03 eta 0:33:57\n",
      "Evaluate on the *val* set\n"
     ]
    },
    {
     "name": "stderr",
     "output_type": "stream",
     "text": [
      "\r",
      "  0%|          | 0/2 [00:00<?, ?it/s]\r",
      " 50%|█████     | 1/2 [00:00<00:00,  3.25it/s]\r",
      "100%|██████████| 2/2 [00:00<00:00,  5.02it/s]\n"
     ]
    },
    {
     "name": "stdout",
     "output_type": "stream",
     "text": [
      "=> result\n",
      "* total: 106\n",
      "* correct: 38\n",
      "* accuracy: 35.8%\n",
      "* error: 64.2%\n",
      "* macro_f1: 11.6%\n",
      "epoch [33/1000] batch [20/44] time 0.039 (0.056) data 0.000 (0.014) loss 2.4434 (2.0841) lr 3.4917e-03 eta 0:39:41\n",
      "epoch [33/1000] batch [40/44] time 0.042 (0.047) data 0.000 (0.007) loss 2.0449 (1.9539) lr 3.4917e-03 eta 0:33:18\n",
      "Evaluate on the *val* set\n"
     ]
    },
    {
     "name": "stderr",
     "output_type": "stream",
     "text": [
      "\r",
      "  0%|          | 0/2 [00:00<?, ?it/s]\r",
      " 50%|█████     | 1/2 [00:00<00:00,  3.28it/s]\r",
      "100%|██████████| 2/2 [00:00<00:00,  5.20it/s]\n"
     ]
    },
    {
     "name": "stdout",
     "output_type": "stream",
     "text": [
      "=> result\n",
      "* total: 106\n",
      "* correct: 37\n",
      "* accuracy: 34.9%\n",
      "* error: 65.1%\n",
      "* macro_f1: 11.2%\n",
      "epoch [34/1000] batch [20/44] time 0.040 (0.055) data 0.000 (0.014) loss 1.1406 (2.1056) lr 3.4912e-03 eta 0:39:17\n",
      "epoch [34/1000] batch [40/44] time 0.042 (0.048) data 0.000 (0.007) loss 2.5586 (2.0853) lr 3.4912e-03 eta 0:33:54\n",
      "Evaluate on the *val* set\n"
     ]
    },
    {
     "name": "stderr",
     "output_type": "stream",
     "text": [
      "\r",
      "  0%|          | 0/2 [00:00<?, ?it/s]\r",
      " 50%|█████     | 1/2 [00:00<00:00,  3.34it/s]\r",
      "100%|██████████| 2/2 [00:00<00:00,  5.13it/s]\n"
     ]
    },
    {
     "name": "stdout",
     "output_type": "stream",
     "text": [
      "=> result\n",
      "* total: 106\n",
      "* correct: 34\n",
      "* accuracy: 32.1%\n",
      "* error: 67.9%\n",
      "* macro_f1: 9.6%\n",
      "epoch [35/1000] batch [20/44] time 0.047 (0.059) data 0.000 (0.016) loss 2.7637 (2.0845) lr 3.4906e-03 eta 0:41:54\n",
      "epoch [35/1000] batch [40/44] time 0.036 (0.050) data 0.000 (0.008) loss 1.7705 (1.8837) lr 3.4906e-03 eta 0:35:41\n",
      "Evaluate on the *val* set\n"
     ]
    },
    {
     "name": "stderr",
     "output_type": "stream",
     "text": [
      "\r",
      "  0%|          | 0/2 [00:00<?, ?it/s]\r",
      " 50%|█████     | 1/2 [00:00<00:00,  3.21it/s]\r",
      "100%|██████████| 2/2 [00:00<00:00,  5.06it/s]\n"
     ]
    },
    {
     "name": "stdout",
     "output_type": "stream",
     "text": [
      "=> result\n",
      "* total: 106\n",
      "* correct: 35\n",
      "* accuracy: 33.0%\n",
      "* error: 67.0%\n",
      "* macro_f1: 12.6%\n",
      "epoch [36/1000] batch [20/44] time 0.043 (0.056) data 0.000 (0.014) loss 1.0303 (1.9510) lr 3.4900e-03 eta 0:39:53\n",
      "epoch [36/1000] batch [40/44] time 0.034 (0.048) data 0.000 (0.007) loss 1.8418 (1.9638) lr 3.4900e-03 eta 0:34:01\n",
      "Evaluate on the *val* set\n"
     ]
    },
    {
     "name": "stderr",
     "output_type": "stream",
     "text": [
      "\r",
      "  0%|          | 0/2 [00:00<?, ?it/s]\r",
      " 50%|█████     | 1/2 [00:00<00:00,  3.31it/s]\r",
      "100%|██████████| 2/2 [00:00<00:00,  5.25it/s]\n"
     ]
    },
    {
     "name": "stdout",
     "output_type": "stream",
     "text": [
      "=> result\n",
      "* total: 106\n",
      "* correct: 34\n",
      "* accuracy: 32.1%\n",
      "* error: 67.9%\n",
      "* macro_f1: 9.5%\n",
      "epoch [37/1000] batch [20/44] time 0.037 (0.055) data 0.000 (0.015) loss 2.4277 (1.8994) lr 3.4894e-03 eta 0:39:10\n",
      "epoch [37/1000] batch [40/44] time 0.036 (0.047) data 0.000 (0.007) loss 1.7646 (1.9237) lr 3.4894e-03 eta 0:33:17\n",
      "Evaluate on the *val* set\n"
     ]
    },
    {
     "name": "stderr",
     "output_type": "stream",
     "text": [
      "\r",
      "  0%|          | 0/2 [00:00<?, ?it/s]\r",
      " 50%|█████     | 1/2 [00:00<00:00,  3.28it/s]\r",
      "100%|██████████| 2/2 [00:00<00:00,  5.25it/s]\n"
     ]
    },
    {
     "name": "stdout",
     "output_type": "stream",
     "text": [
      "=> result\n",
      "* total: 106\n",
      "* correct: 23\n",
      "* accuracy: 21.7%\n",
      "* error: 78.3%\n",
      "* macro_f1: 4.8%\n",
      "epoch [38/1000] batch [20/44] time 0.042 (0.057) data 0.000 (0.014) loss 1.7588 (2.2538) lr 3.4888e-03 eta 0:40:30\n",
      "epoch [38/1000] batch [40/44] time 0.042 (0.049) data 0.000 (0.007) loss 1.2168 (2.0492) lr 3.4888e-03 eta 0:34:39\n",
      "Evaluate on the *val* set\n"
     ]
    },
    {
     "name": "stderr",
     "output_type": "stream",
     "text": [
      "\r",
      "  0%|          | 0/2 [00:00<?, ?it/s]\r",
      " 50%|█████     | 1/2 [00:00<00:00,  3.31it/s]\r",
      "100%|██████████| 2/2 [00:00<00:00,  5.26it/s]\n"
     ]
    },
    {
     "name": "stdout",
     "output_type": "stream",
     "text": [
      "=> result\n",
      "* total: 106\n",
      "* correct: 35\n",
      "* accuracy: 33.0%\n",
      "* error: 67.0%\n",
      "* macro_f1: 7.6%\n",
      "epoch [39/1000] batch [20/44] time 0.043 (0.056) data 0.000 (0.014) loss 2.5410 (2.4537) lr 3.4882e-03 eta 0:39:19\n",
      "epoch [39/1000] batch [40/44] time 0.041 (0.048) data 0.000 (0.007) loss 2.1406 (2.1178) lr 3.4882e-03 eta 0:33:35\n",
      "Evaluate on the *val* set\n"
     ]
    },
    {
     "name": "stderr",
     "output_type": "stream",
     "text": [
      "\r",
      "  0%|          | 0/2 [00:00<?, ?it/s]\r",
      " 50%|█████     | 1/2 [00:00<00:00,  3.20it/s]\r",
      "100%|██████████| 2/2 [00:00<00:00,  4.97it/s]\n"
     ]
    },
    {
     "name": "stdout",
     "output_type": "stream",
     "text": [
      "=> result\n",
      "* total: 106\n",
      "* correct: 39\n",
      "* accuracy: 36.8%\n",
      "* error: 63.2%\n",
      "* macro_f1: 11.4%\n",
      "epoch [40/1000] batch [20/44] time 0.038 (0.055) data 0.000 (0.014) loss 1.6465 (1.9004) lr 3.4875e-03 eta 0:38:35\n",
      "epoch [40/1000] batch [40/44] time 0.036 (0.048) data 0.000 (0.007) loss 1.5381 (1.9940) lr 3.4875e-03 eta 0:33:34\n",
      "Evaluate on the *val* set\n"
     ]
    },
    {
     "name": "stderr",
     "output_type": "stream",
     "text": [
      "\r",
      "  0%|          | 0/2 [00:00<?, ?it/s]\r",
      " 50%|█████     | 1/2 [00:00<00:00,  3.32it/s]\r",
      "100%|██████████| 2/2 [00:00<00:00,  5.34it/s]\n"
     ]
    },
    {
     "name": "stdout",
     "output_type": "stream",
     "text": [
      "=> result\n",
      "* total: 106\n",
      "* correct: 34\n",
      "* accuracy: 32.1%\n",
      "* error: 67.9%\n",
      "* macro_f1: 9.1%\n",
      "epoch [41/1000] batch [20/44] time 0.044 (0.056) data 0.000 (0.014) loss 1.8037 (2.0161) lr 3.4869e-03 eta 0:39:40\n",
      "epoch [41/1000] batch [40/44] time 0.035 (0.048) data 0.000 (0.007) loss 1.7793 (1.9058) lr 3.4869e-03 eta 0:33:33\n",
      "Evaluate on the *val* set\n"
     ]
    },
    {
     "name": "stderr",
     "output_type": "stream",
     "text": [
      "\r",
      "  0%|          | 0/2 [00:00<?, ?it/s]\r",
      " 50%|█████     | 1/2 [00:00<00:00,  3.24it/s]\r",
      "100%|██████████| 2/2 [00:00<00:00,  5.25it/s]\n"
     ]
    },
    {
     "name": "stdout",
     "output_type": "stream",
     "text": [
      "=> result\n",
      "* total: 106\n",
      "* correct: 28\n",
      "* accuracy: 26.4%\n",
      "* error: 73.6%\n",
      "* macro_f1: 7.1%\n",
      "epoch [42/1000] batch [20/44] time 0.042 (0.054) data 0.000 (0.015) loss 0.8560 (1.9059) lr 3.4862e-03 eta 0:37:58\n",
      "epoch [42/1000] batch [40/44] time 0.028 (0.044) data 0.000 (0.008) loss 2.3047 (1.8753) lr 3.4862e-03 eta 0:31:13\n",
      "Evaluate on the *val* set\n"
     ]
    },
    {
     "name": "stderr",
     "output_type": "stream",
     "text": [
      "\r",
      "  0%|          | 0/2 [00:00<?, ?it/s]\r",
      " 50%|█████     | 1/2 [00:00<00:00,  3.28it/s]\r",
      "100%|██████████| 2/2 [00:00<00:00,  5.05it/s]\n"
     ]
    },
    {
     "name": "stdout",
     "output_type": "stream",
     "text": [
      "=> result\n",
      "* total: 106\n",
      "* correct: 40\n",
      "* accuracy: 37.7%\n",
      "* error: 62.3%\n",
      "* macro_f1: 11.5%\n",
      "Checkpoint saved to output/replica/MaPLePromptScene/vit_b16_c2_ep200_batch4_ctx4_depth12_cross_datasets_-1shots/seed1/MultiModalPromptSceneLearner/model-best.pth.tar\n",
      "epoch [43/1000] batch [20/44] time 0.040 (0.059) data 0.000 (0.017) loss 2.4121 (1.9053) lr 3.4855e-03 eta 0:41:24\n",
      "epoch [43/1000] batch [40/44] time 0.038 (0.050) data 0.000 (0.009) loss 1.3193 (1.9339) lr 3.4855e-03 eta 0:35:04\n",
      "Evaluate on the *val* set\n"
     ]
    },
    {
     "name": "stderr",
     "output_type": "stream",
     "text": [
      "\r",
      "  0%|          | 0/2 [00:00<?, ?it/s]\r",
      " 50%|█████     | 1/2 [00:00<00:00,  3.31it/s]\r",
      "100%|██████████| 2/2 [00:00<00:00,  5.27it/s]\n"
     ]
    },
    {
     "name": "stdout",
     "output_type": "stream",
     "text": [
      "=> result\n",
      "* total: 106\n",
      "* correct: 35\n",
      "* accuracy: 33.0%\n",
      "* error: 67.0%\n",
      "* macro_f1: 9.6%\n",
      "epoch [44/1000] batch [20/44] time 0.038 (0.057) data 0.000 (0.016) loss 3.1328 (1.5975) lr 3.4848e-03 eta 0:40:10\n",
      "epoch [44/1000] batch [40/44] time 0.041 (0.049) data 0.000 (0.008) loss 2.3027 (1.7680) lr 3.4848e-03 eta 0:34:24\n",
      "Evaluate on the *val* set\n"
     ]
    },
    {
     "name": "stderr",
     "output_type": "stream",
     "text": [
      "\r",
      "  0%|          | 0/2 [00:00<?, ?it/s]\r",
      " 50%|█████     | 1/2 [00:00<00:00,  3.31it/s]\r",
      "100%|██████████| 2/2 [00:00<00:00,  5.20it/s]\n"
     ]
    },
    {
     "name": "stdout",
     "output_type": "stream",
     "text": [
      "=> result\n",
      "* total: 106\n",
      "* correct: 36\n",
      "* accuracy: 34.0%\n",
      "* error: 66.0%\n",
      "* macro_f1: 13.3%\n",
      "epoch [45/1000] batch [20/44] time 0.042 (0.056) data 0.000 (0.014) loss 0.5312 (1.8518) lr 3.4841e-03 eta 0:39:03\n",
      "epoch [45/1000] batch [40/44] time 0.037 (0.048) data 0.000 (0.007) loss 3.5234 (1.8497) lr 3.4841e-03 eta 0:33:50\n",
      "Evaluate on the *val* set\n"
     ]
    },
    {
     "name": "stderr",
     "output_type": "stream",
     "text": [
      "\r",
      "  0%|          | 0/2 [00:00<?, ?it/s]\r",
      " 50%|█████     | 1/2 [00:00<00:00,  3.18it/s]\r",
      "100%|██████████| 2/2 [00:00<00:00,  5.01it/s]\n"
     ]
    },
    {
     "name": "stdout",
     "output_type": "stream",
     "text": [
      "=> result\n",
      "* total: 106\n",
      "* correct: 36\n",
      "* accuracy: 34.0%\n",
      "* error: 66.0%\n",
      "* macro_f1: 11.7%\n",
      "epoch [46/1000] batch [20/44] time 0.036 (0.055) data 0.000 (0.014) loss 1.0439 (1.8239) lr 3.4833e-03 eta 0:38:19\n",
      "epoch [46/1000] batch [40/44] time 0.039 (0.048) data 0.000 (0.007) loss 1.6152 (1.7999) lr 3.4833e-03 eta 0:33:24\n",
      "Evaluate on the *val* set\n"
     ]
    },
    {
     "name": "stderr",
     "output_type": "stream",
     "text": [
      "\r",
      "  0%|          | 0/2 [00:00<?, ?it/s]\r",
      " 50%|█████     | 1/2 [00:00<00:00,  3.29it/s]\r",
      "100%|██████████| 2/2 [00:00<00:00,  5.03it/s]\n"
     ]
    },
    {
     "name": "stdout",
     "output_type": "stream",
     "text": [
      "=> result\n",
      "* total: 106\n",
      "* correct: 33\n",
      "* accuracy: 31.1%\n",
      "* error: 68.9%\n",
      "* macro_f1: 9.8%\n",
      "epoch [47/1000] batch [20/44] time 0.045 (0.054) data 0.000 (0.014) loss 2.8984 (1.8698) lr 3.4825e-03 eta 0:37:59\n",
      "epoch [47/1000] batch [40/44] time 0.041 (0.048) data 0.000 (0.007) loss 2.4258 (1.8231) lr 3.4825e-03 eta 0:33:15\n",
      "Evaluate on the *val* set\n"
     ]
    },
    {
     "name": "stderr",
     "output_type": "stream",
     "text": [
      "\r",
      "  0%|          | 0/2 [00:00<?, ?it/s]\r",
      " 50%|█████     | 1/2 [00:00<00:00,  3.22it/s]\r",
      "100%|██████████| 2/2 [00:00<00:00,  5.22it/s]\n"
     ]
    },
    {
     "name": "stdout",
     "output_type": "stream",
     "text": [
      "=> result\n",
      "* total: 106\n",
      "* correct: 39\n",
      "* accuracy: 36.8%\n",
      "* error: 63.2%\n",
      "* macro_f1: 13.3%\n",
      "epoch [48/1000] batch [20/44] time 0.041 (0.055) data 0.000 (0.014) loss 1.8096 (1.7696) lr 3.4818e-03 eta 0:38:15\n",
      "epoch [48/1000] batch [40/44] time 0.037 (0.047) data 0.000 (0.007) loss 2.7461 (1.8333) lr 3.4818e-03 eta 0:33:02\n",
      "Evaluate on the *val* set\n"
     ]
    },
    {
     "name": "stderr",
     "output_type": "stream",
     "text": [
      "\r",
      "  0%|          | 0/2 [00:00<?, ?it/s]\r",
      " 50%|█████     | 1/2 [00:00<00:00,  3.26it/s]\r",
      "100%|██████████| 2/2 [00:00<00:00,  5.14it/s]\n"
     ]
    },
    {
     "name": "stdout",
     "output_type": "stream",
     "text": [
      "=> result\n",
      "* total: 106\n",
      "* correct: 38\n",
      "* accuracy: 35.8%\n",
      "* error: 64.2%\n",
      "* macro_f1: 11.8%\n",
      "epoch [49/1000] batch [20/44] time 0.040 (0.054) data 0.000 (0.014) loss 3.0078 (1.5097) lr 3.4810e-03 eta 0:37:59\n",
      "epoch [49/1000] batch [40/44] time 0.042 (0.047) data 0.000 (0.007) loss 2.6816 (1.7772) lr 3.4810e-03 eta 0:32:37\n",
      "Evaluate on the *val* set\n"
     ]
    },
    {
     "name": "stderr",
     "output_type": "stream",
     "text": [
      "\r",
      "  0%|          | 0/2 [00:00<?, ?it/s]\r",
      " 50%|█████     | 1/2 [00:00<00:00,  3.26it/s]\r",
      "100%|██████████| 2/2 [00:00<00:00,  5.17it/s]\n"
     ]
    },
    {
     "name": "stdout",
     "output_type": "stream",
     "text": [
      "=> result\n",
      "* total: 106\n",
      "* correct: 39\n",
      "* accuracy: 36.8%\n",
      "* error: 63.2%\n",
      "* macro_f1: 11.2%\n",
      "epoch [50/1000] batch [20/44] time 0.036 (0.055) data 0.000 (0.015) loss 1.0801 (1.7870) lr 3.4801e-03 eta 0:38:09\n",
      "epoch [50/1000] batch [40/44] time 0.040 (0.047) data 0.000 (0.007) loss 2.3301 (1.8248) lr 3.4801e-03 eta 0:32:55\n",
      "Evaluate on the *val* set\n"
     ]
    },
    {
     "name": "stderr",
     "output_type": "stream",
     "text": [
      "\r",
      "  0%|          | 0/2 [00:00<?, ?it/s]\r",
      " 50%|█████     | 1/2 [00:00<00:00,  3.13it/s]\r",
      "100%|██████████| 2/2 [00:00<00:00,  4.92it/s]\n"
     ]
    },
    {
     "name": "stdout",
     "output_type": "stream",
     "text": [
      "=> result\n",
      "* total: 106\n",
      "* correct: 38\n",
      "* accuracy: 35.8%\n",
      "* error: 64.2%\n",
      "* macro_f1: 11.3%\n",
      "epoch [51/1000] batch [20/44] time 0.038 (0.056) data 0.000 (0.015) loss 1.2715 (1.7209) lr 3.4793e-03 eta 0:38:43\n",
      "epoch [51/1000] batch [40/44] time 0.042 (0.048) data 0.000 (0.007) loss 2.9453 (1.7538) lr 3.4793e-03 eta 0:33:17\n",
      "Evaluate on the *val* set\n"
     ]
    },
    {
     "name": "stderr",
     "output_type": "stream",
     "text": [
      "\r",
      "  0%|          | 0/2 [00:00<?, ?it/s]\r",
      " 50%|█████     | 1/2 [00:00<00:00,  3.18it/s]\r",
      "100%|██████████| 2/2 [00:00<00:00,  5.09it/s]\n"
     ]
    },
    {
     "name": "stdout",
     "output_type": "stream",
     "text": [
      "=> result\n",
      "* total: 106\n",
      "* correct: 35\n",
      "* accuracy: 33.0%\n",
      "* error: 67.0%\n",
      "* macro_f1: 12.0%\n",
      "epoch [52/1000] batch [20/44] time 0.044 (0.055) data 0.000 (0.014) loss 3.0977 (1.6870) lr 3.4785e-03 eta 0:38:17\n",
      "epoch [52/1000] batch [40/44] time 0.039 (0.048) data 0.000 (0.007) loss 2.8223 (1.7195) lr 3.4785e-03 eta 0:33:08\n",
      "Evaluate on the *val* set\n"
     ]
    },
    {
     "name": "stderr",
     "output_type": "stream",
     "text": [
      "\r",
      "  0%|          | 0/2 [00:00<?, ?it/s]\r",
      " 50%|█████     | 1/2 [00:00<00:00,  3.33it/s]\r",
      "100%|██████████| 2/2 [00:00<00:00,  5.18it/s]\n"
     ]
    },
    {
     "name": "stdout",
     "output_type": "stream",
     "text": [
      "=> result\n",
      "* total: 106\n",
      "* correct: 34\n",
      "* accuracy: 32.1%\n",
      "* error: 67.9%\n",
      "* macro_f1: 11.6%\n",
      "epoch [53/1000] batch [20/44] time 0.043 (0.058) data 0.000 (0.016) loss 1.4648 (1.7174) lr 3.4776e-03 eta 0:40:17\n",
      "epoch [53/1000] batch [40/44] time 0.037 (0.049) data 0.000 (0.008) loss 2.4863 (1.8284) lr 3.4776e-03 eta 0:34:13\n",
      "Evaluate on the *val* set\n"
     ]
    },
    {
     "name": "stderr",
     "output_type": "stream",
     "text": [
      "\r",
      "  0%|          | 0/2 [00:00<?, ?it/s]\r",
      " 50%|█████     | 1/2 [00:00<00:00,  3.31it/s]\r",
      "100%|██████████| 2/2 [00:00<00:00,  5.25it/s]\n"
     ]
    },
    {
     "name": "stdout",
     "output_type": "stream",
     "text": [
      "=> result\n",
      "* total: 106\n",
      "* correct: 27\n",
      "* accuracy: 25.5%\n",
      "* error: 74.5%\n",
      "* macro_f1: 10.1%\n",
      "epoch [54/1000] batch [20/44] time 0.038 (0.054) data 0.000 (0.014) loss 2.0547 (1.8132) lr 3.4767e-03 eta 0:37:41\n",
      "epoch [54/1000] batch [40/44] time 0.042 (0.047) data 0.000 (0.007) loss 1.1250 (1.7680) lr 3.4767e-03 eta 0:32:54\n",
      "Evaluate on the *val* set\n"
     ]
    },
    {
     "name": "stderr",
     "output_type": "stream",
     "text": [
      "\r",
      "  0%|          | 0/2 [00:00<?, ?it/s]\r",
      " 50%|█████     | 1/2 [00:00<00:00,  3.22it/s]\r",
      "100%|██████████| 2/2 [00:00<00:00,  5.16it/s]\n"
     ]
    },
    {
     "name": "stdout",
     "output_type": "stream",
     "text": [
      "=> result\n",
      "* total: 106\n",
      "* correct: 38\n",
      "* accuracy: 35.8%\n",
      "* error: 64.2%\n",
      "* macro_f1: 12.7%\n",
      "epoch [55/1000] batch [20/44] time 0.036 (0.056) data 0.000 (0.015) loss 1.1865 (1.7543) lr 3.4758e-03 eta 0:38:37\n",
      "epoch [55/1000] batch [40/44] time 0.038 (0.048) data 0.000 (0.008) loss 0.6660 (1.6597) lr 3.4758e-03 eta 0:33:10\n",
      "Evaluate on the *val* set\n"
     ]
    },
    {
     "name": "stderr",
     "output_type": "stream",
     "text": [
      "\r",
      "  0%|          | 0/2 [00:00<?, ?it/s]\r",
      " 50%|█████     | 1/2 [00:00<00:00,  3.27it/s]\r",
      "100%|██████████| 2/2 [00:00<00:00,  4.96it/s]\n"
     ]
    },
    {
     "name": "stdout",
     "output_type": "stream",
     "text": [
      "=> result\n",
      "* total: 106\n",
      "* correct: 38\n",
      "* accuracy: 35.8%\n",
      "* error: 64.2%\n",
      "* macro_f1: 13.6%\n",
      "epoch [56/1000] batch [20/44] time 0.041 (0.055) data 0.000 (0.014) loss 2.3848 (1.7407) lr 3.4749e-03 eta 0:38:03\n",
      "epoch [56/1000] batch [40/44] time 0.039 (0.048) data 0.000 (0.007) loss 1.5859 (1.7803) lr 3.4749e-03 eta 0:32:59\n",
      "Evaluate on the *val* set\n"
     ]
    },
    {
     "name": "stderr",
     "output_type": "stream",
     "text": [
      "\r",
      "  0%|          | 0/2 [00:00<?, ?it/s]\r",
      " 50%|█████     | 1/2 [00:00<00:00,  3.28it/s]\r",
      "100%|██████████| 2/2 [00:00<00:00,  5.07it/s]\n"
     ]
    },
    {
     "name": "stdout",
     "output_type": "stream",
     "text": [
      "=> result\n",
      "* total: 106\n",
      "* correct: 37\n",
      "* accuracy: 34.9%\n",
      "* error: 65.1%\n",
      "* macro_f1: 11.1%\n",
      "epoch [57/1000] batch [20/44] time 0.043 (0.058) data 0.000 (0.016) loss 0.4604 (1.7674) lr 3.4739e-03 eta 0:40:11\n",
      "epoch [57/1000] batch [40/44] time 0.037 (0.049) data 0.000 (0.008) loss 2.9141 (1.8389) lr 3.4739e-03 eta 0:33:58\n",
      "Evaluate on the *val* set\n"
     ]
    },
    {
     "name": "stderr",
     "output_type": "stream",
     "text": [
      "\r",
      "  0%|          | 0/2 [00:00<?, ?it/s]\r",
      " 50%|█████     | 1/2 [00:00<00:00,  3.18it/s]\r",
      "100%|██████████| 2/2 [00:00<00:00,  5.00it/s]\n"
     ]
    },
    {
     "name": "stdout",
     "output_type": "stream",
     "text": [
      "=> result\n",
      "* total: 106\n",
      "* correct: 37\n",
      "* accuracy: 34.9%\n",
      "* error: 65.1%\n",
      "* macro_f1: 10.4%\n",
      "epoch [58/1000] batch [20/44] time 0.043 (0.058) data 0.000 (0.016) loss 1.4541 (1.9089) lr 3.4730e-03 eta 0:40:01\n",
      "epoch [58/1000] batch [40/44] time 0.034 (0.049) data 0.000 (0.008) loss 2.2598 (1.7684) lr 3.4730e-03 eta 0:33:44\n",
      "Evaluate on the *val* set\n"
     ]
    },
    {
     "name": "stderr",
     "output_type": "stream",
     "text": [
      "\r",
      "  0%|          | 0/2 [00:00<?, ?it/s]\r",
      " 50%|█████     | 1/2 [00:00<00:00,  3.22it/s]\r",
      "100%|██████████| 2/2 [00:00<00:00,  5.17it/s]\n"
     ]
    },
    {
     "name": "stdout",
     "output_type": "stream",
     "text": [
      "=> result\n",
      "* total: 106\n",
      "* correct: 41\n",
      "* accuracy: 38.7%\n",
      "* error: 61.3%\n",
      "* macro_f1: 12.9%\n",
      "Checkpoint saved to output/replica/MaPLePromptScene/vit_b16_c2_ep200_batch4_ctx4_depth12_cross_datasets_-1shots/seed1/MultiModalPromptSceneLearner/model-best.pth.tar\n",
      "epoch [59/1000] batch [20/44] time 0.043 (0.060) data 0.000 (0.019) loss 0.5859 (1.7733) lr 3.4720e-03 eta 0:41:45\n",
      "epoch [59/1000] batch [40/44] time 0.034 (0.051) data 0.000 (0.010) loss 1.6025 (1.6974) lr 3.4720e-03 eta 0:34:58\n",
      "Evaluate on the *val* set\n"
     ]
    },
    {
     "name": "stderr",
     "output_type": "stream",
     "text": [
      "\r",
      "  0%|          | 0/2 [00:00<?, ?it/s]\r",
      " 50%|█████     | 1/2 [00:00<00:00,  3.04it/s]\r",
      "100%|██████████| 2/2 [00:00<00:00,  4.91it/s]\n"
     ]
    },
    {
     "name": "stdout",
     "output_type": "stream",
     "text": [
      "=> result\n",
      "* total: 106\n",
      "* correct: 33\n",
      "* accuracy: 31.1%\n",
      "* error: 68.9%\n",
      "* macro_f1: 12.0%\n",
      "epoch [60/1000] batch [20/44] time 0.044 (0.055) data 0.000 (0.014) loss 2.4180 (1.5487) lr 3.4710e-03 eta 0:37:42\n",
      "epoch [60/1000] batch [40/44] time 0.041 (0.048) data 0.000 (0.007) loss 1.7910 (1.7392) lr 3.4710e-03 eta 0:33:08\n",
      "Evaluate on the *val* set\n"
     ]
    },
    {
     "name": "stderr",
     "output_type": "stream",
     "text": [
      "\r",
      "  0%|          | 0/2 [00:00<?, ?it/s]\r",
      " 50%|█████     | 1/2 [00:00<00:00,  3.30it/s]\r",
      "100%|██████████| 2/2 [00:00<00:00,  5.26it/s]\n"
     ]
    },
    {
     "name": "stdout",
     "output_type": "stream",
     "text": [
      "=> result\n",
      "* total: 106\n",
      "* correct: 41\n",
      "* accuracy: 38.7%\n",
      "* error: 61.3%\n",
      "* macro_f1: 14.2%\n",
      "epoch [61/1000] batch [20/44] time 0.041 (0.058) data 0.000 (0.015) loss 1.5879 (1.6771) lr 3.4700e-03 eta 0:39:43\n",
      "epoch [61/1000] batch [40/44] time 0.043 (0.049) data 0.000 (0.007) loss 1.8027 (1.7766) lr 3.4700e-03 eta 0:33:42\n",
      "Evaluate on the *val* set\n"
     ]
    },
    {
     "name": "stderr",
     "output_type": "stream",
     "text": [
      "\r",
      "  0%|          | 0/2 [00:00<?, ?it/s]\r",
      " 50%|█████     | 1/2 [00:00<00:00,  3.25it/s]\r",
      "100%|██████████| 2/2 [00:00<00:00,  4.98it/s]\n"
     ]
    },
    {
     "name": "stdout",
     "output_type": "stream",
     "text": [
      "=> result\n",
      "* total: 106\n",
      "* correct: 42\n",
      "* accuracy: 39.6%\n",
      "* error: 60.4%\n",
      "* macro_f1: 14.0%\n",
      "Checkpoint saved to output/replica/MaPLePromptScene/vit_b16_c2_ep200_batch4_ctx4_depth12_cross_datasets_-1shots/seed1/MultiModalPromptSceneLearner/model-best.pth.tar\n",
      "epoch [62/1000] batch [20/44] time 0.036 (0.056) data 0.000 (0.019) loss 2.1270 (1.7746) lr 3.4690e-03 eta 0:38:31\n",
      "epoch [62/1000] batch [40/44] time 0.034 (0.048) data 0.000 (0.010) loss 1.3486 (1.7225) lr 3.4690e-03 eta 0:32:57\n",
      "Evaluate on the *val* set\n"
     ]
    },
    {
     "name": "stderr",
     "output_type": "stream",
     "text": [
      "\r",
      "  0%|          | 0/2 [00:00<?, ?it/s]\r",
      " 50%|█████     | 1/2 [00:00<00:00,  2.96it/s]\r",
      "100%|██████████| 2/2 [00:00<00:00,  4.77it/s]\n"
     ]
    },
    {
     "name": "stdout",
     "output_type": "stream",
     "text": [
      "=> result\n",
      "* total: 106\n",
      "* correct: 40\n",
      "* accuracy: 37.7%\n",
      "* error: 62.3%\n",
      "* macro_f1: 15.2%\n",
      "epoch [63/1000] batch [20/44] time 0.044 (0.057) data 0.000 (0.014) loss 1.8467 (1.6231) lr 3.4680e-03 eta 0:39:10\n",
      "epoch [63/1000] batch [40/44] time 0.035 (0.048) data 0.000 (0.007) loss 1.6553 (1.6940) lr 3.4680e-03 eta 0:33:08\n",
      "Evaluate on the *val* set\n"
     ]
    },
    {
     "name": "stderr",
     "output_type": "stream",
     "text": [
      "\r",
      "  0%|          | 0/2 [00:00<?, ?it/s]\r",
      " 50%|█████     | 1/2 [00:00<00:00,  3.23it/s]\r",
      "100%|██████████| 2/2 [00:00<00:00,  5.26it/s]\n"
     ]
    },
    {
     "name": "stdout",
     "output_type": "stream",
     "text": [
      "=> result\n",
      "* total: 106\n",
      "* correct: 41\n",
      "* accuracy: 38.7%\n",
      "* error: 61.3%\n",
      "* macro_f1: 15.7%\n",
      "epoch [64/1000] batch [20/44] time 0.044 (0.057) data 0.000 (0.016) loss 1.0957 (1.6144) lr 3.4669e-03 eta 0:38:49\n",
      "epoch [64/1000] batch [40/44] time 0.041 (0.049) data 0.000 (0.008) loss 2.1230 (1.7234) lr 3.4669e-03 eta 0:33:18\n",
      "Evaluate on the *val* set\n"
     ]
    },
    {
     "name": "stderr",
     "output_type": "stream",
     "text": [
      "\r",
      "  0%|          | 0/2 [00:00<?, ?it/s]\r",
      " 50%|█████     | 1/2 [00:00<00:00,  3.30it/s]\r",
      "100%|██████████| 2/2 [00:00<00:00,  5.21it/s]\n"
     ]
    },
    {
     "name": "stdout",
     "output_type": "stream",
     "text": [
      "=> result\n",
      "* total: 106\n",
      "* correct: 36\n",
      "* accuracy: 34.0%\n",
      "* error: 66.0%\n",
      "* macro_f1: 10.4%\n",
      "epoch [65/1000] batch [20/44] time 0.042 (0.058) data 0.000 (0.016) loss 2.1055 (1.7747) lr 3.4658e-03 eta 0:39:47\n",
      "epoch [65/1000] batch [40/44] time 0.041 (0.049) data 0.000 (0.008) loss 2.4121 (1.8437) lr 3.4658e-03 eta 0:33:53\n",
      "Evaluate on the *val* set\n"
     ]
    },
    {
     "name": "stderr",
     "output_type": "stream",
     "text": [
      "\r",
      "  0%|          | 0/2 [00:00<?, ?it/s]\r",
      " 50%|█████     | 1/2 [00:00<00:00,  3.33it/s]\r",
      "100%|██████████| 2/2 [00:00<00:00,  5.19it/s]\n"
     ]
    },
    {
     "name": "stdout",
     "output_type": "stream",
     "text": [
      "=> result\n",
      "* total: 106\n",
      "* correct: 38\n",
      "* accuracy: 35.8%\n",
      "* error: 64.2%\n",
      "* macro_f1: 11.9%\n",
      "epoch [66/1000] batch [20/44] time 0.040 (0.057) data 0.000 (0.016) loss 1.3232 (1.7772) lr 3.4647e-03 eta 0:39:04\n",
      "epoch [66/1000] batch [40/44] time 0.039 (0.049) data 0.000 (0.008) loss 1.4512 (1.6912) lr 3.4647e-03 eta 0:33:14\n",
      "Evaluate on the *val* set\n"
     ]
    },
    {
     "name": "stderr",
     "output_type": "stream",
     "text": [
      "\r",
      "  0%|          | 0/2 [00:00<?, ?it/s]\r",
      " 50%|█████     | 1/2 [00:00<00:00,  3.34it/s]\r",
      "100%|██████████| 2/2 [00:00<00:00,  5.23it/s]\n"
     ]
    },
    {
     "name": "stdout",
     "output_type": "stream",
     "text": [
      "=> result\n",
      "* total: 106\n",
      "* correct: 38\n",
      "* accuracy: 35.8%\n",
      "* error: 64.2%\n",
      "* macro_f1: 15.4%\n",
      "epoch [67/1000] batch [20/44] time 0.040 (0.056) data 0.000 (0.015) loss 1.2715 (1.5308) lr 3.4636e-03 eta 0:38:36\n",
      "epoch [67/1000] batch [40/44] time 0.040 (0.048) data 0.000 (0.007) loss 0.3608 (1.6434) lr 3.4636e-03 eta 0:33:07\n",
      "Evaluate on the *val* set\n"
     ]
    },
    {
     "name": "stderr",
     "output_type": "stream",
     "text": [
      "\r",
      "  0%|          | 0/2 [00:00<?, ?it/s]\r",
      " 50%|█████     | 1/2 [00:00<00:00,  3.21it/s]\r",
      "100%|██████████| 2/2 [00:00<00:00,  5.14it/s]\n"
     ]
    },
    {
     "name": "stdout",
     "output_type": "stream",
     "text": [
      "=> result\n",
      "* total: 106\n",
      "* correct: 42\n",
      "* accuracy: 39.6%\n",
      "* error: 60.4%\n",
      "* macro_f1: 15.4%\n",
      "epoch [68/1000] batch [20/44] time 0.041 (0.058) data 0.000 (0.016) loss 1.8330 (1.3375) lr 3.4625e-03 eta 0:39:57\n",
      "epoch [68/1000] batch [40/44] time 0.042 (0.050) data 0.000 (0.008) loss 3.1641 (1.5703) lr 3.4625e-03 eta 0:33:56\n",
      "Evaluate on the *val* set\n"
     ]
    },
    {
     "name": "stderr",
     "output_type": "stream",
     "text": [
      "\r",
      "  0%|          | 0/2 [00:00<?, ?it/s]\r",
      " 50%|█████     | 1/2 [00:00<00:00,  3.34it/s]\r",
      "100%|██████████| 2/2 [00:00<00:00,  5.27it/s]\n"
     ]
    },
    {
     "name": "stdout",
     "output_type": "stream",
     "text": [
      "=> result\n",
      "* total: 106\n",
      "* correct: 37\n",
      "* accuracy: 34.9%\n",
      "* error: 65.1%\n",
      "* macro_f1: 12.7%\n",
      "epoch [69/1000] batch [20/44] time 0.044 (0.056) data 0.000 (0.014) loss 2.0664 (1.8417) lr 3.4614e-03 eta 0:38:20\n",
      "epoch [69/1000] batch [40/44] time 0.041 (0.048) data 0.000 (0.007) loss 2.3242 (1.7515) lr 3.4614e-03 eta 0:33:00\n",
      "Evaluate on the *val* set\n"
     ]
    },
    {
     "name": "stderr",
     "output_type": "stream",
     "text": [
      "\r",
      "  0%|          | 0/2 [00:00<?, ?it/s]\r",
      " 50%|█████     | 1/2 [00:00<00:00,  3.25it/s]\r",
      "100%|██████████| 2/2 [00:00<00:00,  5.16it/s]\n"
     ]
    },
    {
     "name": "stdout",
     "output_type": "stream",
     "text": [
      "=> result\n",
      "* total: 106\n",
      "* correct: 35\n",
      "* accuracy: 33.0%\n",
      "* error: 67.0%\n",
      "* macro_f1: 10.3%\n",
      "epoch [70/1000] batch [20/44] time 0.038 (0.059) data 0.000 (0.016) loss 1.1631 (1.6879) lr 3.4602e-03 eta 0:40:31\n",
      "epoch [70/1000] batch [40/44] time 0.042 (0.050) data 0.000 (0.008) loss 1.5732 (1.6905) lr 3.4602e-03 eta 0:33:55\n",
      "Evaluate on the *val* set\n"
     ]
    },
    {
     "name": "stderr",
     "output_type": "stream",
     "text": [
      "\r",
      "  0%|          | 0/2 [00:00<?, ?it/s]\r",
      " 50%|█████     | 1/2 [00:00<00:00,  3.30it/s]\r",
      "100%|██████████| 2/2 [00:00<00:00,  5.00it/s]\n"
     ]
    },
    {
     "name": "stdout",
     "output_type": "stream",
     "text": [
      "=> result\n",
      "* total: 106\n",
      "* correct: 32\n",
      "* accuracy: 30.2%\n",
      "* error: 69.8%\n",
      "* macro_f1: 13.8%\n",
      "epoch [71/1000] batch [20/44] time 0.046 (0.058) data 0.000 (0.014) loss 1.2715 (1.6781) lr 3.4590e-03 eta 0:39:20\n",
      "epoch [71/1000] batch [40/44] time 0.042 (0.049) data 0.000 (0.007) loss 0.8892 (1.7001) lr 3.4590e-03 eta 0:33:23\n",
      "Evaluate on the *val* set\n"
     ]
    },
    {
     "name": "stderr",
     "output_type": "stream",
     "text": [
      "\r",
      "  0%|          | 0/2 [00:00<?, ?it/s]\r",
      " 50%|█████     | 1/2 [00:00<00:00,  3.34it/s]\r",
      "100%|██████████| 2/2 [00:00<00:00,  5.29it/s]\n"
     ]
    },
    {
     "name": "stdout",
     "output_type": "stream",
     "text": [
      "=> result\n",
      "* total: 106\n",
      "* correct: 43\n",
      "* accuracy: 40.6%\n",
      "* error: 59.4%\n",
      "* macro_f1: 18.7%\n",
      "Checkpoint saved to output/replica/MaPLePromptScene/vit_b16_c2_ep200_batch4_ctx4_depth12_cross_datasets_-1shots/seed1/MultiModalPromptSceneLearner/model-best.pth.tar\n",
      "epoch [72/1000] batch [20/44] time 0.042 (0.060) data 0.000 (0.018) loss 2.3906 (1.4080) lr 3.4579e-03 eta 0:41:01\n",
      "epoch [72/1000] batch [40/44] time 0.038 (0.050) data 0.000 (0.009) loss 1.7549 (1.6597) lr 3.4579e-03 eta 0:34:09\n",
      "Evaluate on the *val* set\n"
     ]
    },
    {
     "name": "stderr",
     "output_type": "stream",
     "text": [
      "\r",
      "  0%|          | 0/2 [00:00<?, ?it/s]\r",
      " 50%|█████     | 1/2 [00:00<00:00,  3.24it/s]\r",
      "100%|██████████| 2/2 [00:00<00:00,  5.30it/s]\n"
     ]
    },
    {
     "name": "stdout",
     "output_type": "stream",
     "text": [
      "=> result\n",
      "* total: 106\n",
      "* correct: 36\n",
      "* accuracy: 34.0%\n",
      "* error: 66.0%\n",
      "* macro_f1: 13.1%\n",
      "epoch [73/1000] batch [20/44] time 0.043 (0.057) data 0.000 (0.016) loss 1.9277 (1.6451) lr 3.4566e-03 eta 0:38:34\n",
      "epoch [73/1000] batch [40/44] time 0.042 (0.048) data 0.000 (0.008) loss 1.8994 (1.5984) lr 3.4566e-03 eta 0:32:42\n",
      "Evaluate on the *val* set\n"
     ]
    },
    {
     "name": "stderr",
     "output_type": "stream",
     "text": [
      "\r",
      "  0%|          | 0/2 [00:00<?, ?it/s]\r",
      " 50%|█████     | 1/2 [00:00<00:00,  3.19it/s]\r",
      "100%|██████████| 2/2 [00:00<00:00,  5.01it/s]\n"
     ]
    },
    {
     "name": "stdout",
     "output_type": "stream",
     "text": [
      "=> result\n",
      "* total: 106\n",
      "* correct: 38\n",
      "* accuracy: 35.8%\n",
      "* error: 64.2%\n",
      "* macro_f1: 13.2%\n",
      "epoch [74/1000] batch [20/44] time 0.040 (0.057) data 0.000 (0.016) loss 1.3994 (1.4989) lr 3.4554e-03 eta 0:38:54\n",
      "epoch [74/1000] batch [40/44] time 0.036 (0.048) data 0.000 (0.008) loss 3.0273 (1.5875) lr 3.4554e-03 eta 0:32:47\n",
      "Evaluate on the *val* set\n"
     ]
    },
    {
     "name": "stderr",
     "output_type": "stream",
     "text": [
      "\r",
      "  0%|          | 0/2 [00:00<?, ?it/s]\r",
      " 50%|█████     | 1/2 [00:00<00:00,  3.29it/s]\r",
      "100%|██████████| 2/2 [00:00<00:00,  5.02it/s]\n"
     ]
    },
    {
     "name": "stdout",
     "output_type": "stream",
     "text": [
      "=> result\n",
      "* total: 106\n",
      "* correct: 40\n",
      "* accuracy: 37.7%\n",
      "* error: 62.3%\n",
      "* macro_f1: 12.4%\n",
      "epoch [75/1000] batch [20/44] time 0.039 (0.055) data 0.000 (0.014) loss 1.1523 (1.6694) lr 3.4542e-03 eta 0:37:18\n",
      "epoch [75/1000] batch [40/44] time 0.039 (0.047) data 0.000 (0.007) loss 0.6714 (1.6356) lr 3.4542e-03 eta 0:32:02\n",
      "Evaluate on the *val* set\n"
     ]
    },
    {
     "name": "stderr",
     "output_type": "stream",
     "text": [
      "\r",
      "  0%|          | 0/2 [00:00<?, ?it/s]\r",
      " 50%|█████     | 1/2 [00:00<00:00,  3.24it/s]\r",
      "100%|██████████| 2/2 [00:00<00:00,  5.13it/s]\n"
     ]
    },
    {
     "name": "stdout",
     "output_type": "stream",
     "text": [
      "=> result\n",
      "* total: 106\n",
      "* correct: 30\n",
      "* accuracy: 28.3%\n",
      "* error: 71.7%\n",
      "* macro_f1: 9.9%\n",
      "epoch [76/1000] batch [20/44] time 0.037 (0.057) data 0.000 (0.015) loss 1.4365 (1.5896) lr 3.4529e-03 eta 0:38:30\n",
      "epoch [76/1000] batch [40/44] time 0.041 (0.048) data 0.000 (0.008) loss 0.7236 (1.6058) lr 3.4529e-03 eta 0:32:50\n",
      "Evaluate on the *val* set\n"
     ]
    },
    {
     "name": "stderr",
     "output_type": "stream",
     "text": [
      "\r",
      "  0%|          | 0/2 [00:00<?, ?it/s]\r",
      " 50%|█████     | 1/2 [00:00<00:00,  3.18it/s]\r",
      "100%|██████████| 2/2 [00:00<00:00,  5.07it/s]\n"
     ]
    },
    {
     "name": "stdout",
     "output_type": "stream",
     "text": [
      "=> result\n",
      "* total: 106\n",
      "* correct: 41\n",
      "* accuracy: 38.7%\n",
      "* error: 61.3%\n",
      "* macro_f1: 13.8%\n",
      "epoch [77/1000] batch [20/44] time 0.048 (0.056) data 0.000 (0.014) loss 1.2578 (1.6625) lr 3.4516e-03 eta 0:37:59\n",
      "epoch [77/1000] batch [40/44] time 0.036 (0.048) data 0.000 (0.007) loss 2.6387 (1.6366) lr 3.4516e-03 eta 0:32:23\n",
      "Evaluate on the *val* set\n"
     ]
    },
    {
     "name": "stderr",
     "output_type": "stream",
     "text": [
      "\r",
      "  0%|          | 0/2 [00:00<?, ?it/s]\r",
      " 50%|█████     | 1/2 [00:00<00:00,  3.22it/s]\r",
      "100%|██████████| 2/2 [00:00<00:00,  5.10it/s]\n"
     ]
    },
    {
     "name": "stdout",
     "output_type": "stream",
     "text": [
      "=> result\n",
      "* total: 106\n",
      "* correct: 44\n",
      "* accuracy: 41.5%\n",
      "* error: 58.5%\n",
      "* macro_f1: 17.3%\n",
      "Checkpoint saved to output/replica/MaPLePromptScene/vit_b16_c2_ep200_batch4_ctx4_depth12_cross_datasets_-1shots/seed1/MultiModalPromptSceneLearner/model-best.pth.tar\n",
      "epoch [78/1000] batch [20/44] time 0.049 (0.059) data 0.000 (0.018) loss 2.0059 (1.7392) lr 3.4504e-03 eta 0:39:52\n",
      "epoch [78/1000] batch [40/44] time 0.042 (0.050) data 0.000 (0.009) loss 2.1934 (1.6008) lr 3.4504e-03 eta 0:33:30\n",
      "Evaluate on the *val* set\n"
     ]
    },
    {
     "name": "stderr",
     "output_type": "stream",
     "text": [
      "\r",
      "  0%|          | 0/2 [00:00<?, ?it/s]\r",
      " 50%|█████     | 1/2 [00:00<00:00,  3.15it/s]\r",
      "100%|██████████| 2/2 [00:00<00:00,  5.01it/s]\n"
     ]
    },
    {
     "name": "stdout",
     "output_type": "stream",
     "text": [
      "=> result\n",
      "* total: 106\n",
      "* correct: 37\n",
      "* accuracy: 34.9%\n",
      "* error: 65.1%\n",
      "* macro_f1: 13.3%\n",
      "epoch [79/1000] batch [20/44] time 0.040 (0.056) data 0.000 (0.016) loss 1.5137 (1.6528) lr 3.4490e-03 eta 0:37:42\n",
      "epoch [79/1000] batch [40/44] time 0.036 (0.047) data 0.000 (0.008) loss 1.4902 (1.6401) lr 3.4490e-03 eta 0:32:03\n",
      "Evaluate on the *val* set\n"
     ]
    },
    {
     "name": "stderr",
     "output_type": "stream",
     "text": [
      "\r",
      "  0%|          | 0/2 [00:00<?, ?it/s]\r",
      " 50%|█████     | 1/2 [00:00<00:00,  3.22it/s]\r",
      "100%|██████████| 2/2 [00:00<00:00,  4.96it/s]\n"
     ]
    },
    {
     "name": "stdout",
     "output_type": "stream",
     "text": [
      "=> result\n",
      "* total: 106\n",
      "* correct: 38\n",
      "* accuracy: 35.8%\n",
      "* error: 64.2%\n",
      "* macro_f1: 18.0%\n",
      "epoch [80/1000] batch [20/44] time 0.043 (0.056) data 0.000 (0.014) loss 2.0195 (1.5522) lr 3.4477e-03 eta 0:37:36\n",
      "epoch [80/1000] batch [40/44] time 0.040 (0.048) data 0.000 (0.007) loss 1.6631 (1.5608) lr 3.4477e-03 eta 0:32:21\n",
      "Evaluate on the *val* set\n"
     ]
    },
    {
     "name": "stderr",
     "output_type": "stream",
     "text": [
      "\r",
      "  0%|          | 0/2 [00:00<?, ?it/s]\r",
      " 50%|█████     | 1/2 [00:00<00:00,  3.30it/s]\r",
      "100%|██████████| 2/2 [00:00<00:00,  5.20it/s]\n"
     ]
    },
    {
     "name": "stdout",
     "output_type": "stream",
     "text": [
      "=> result\n",
      "* total: 106\n",
      "* correct: 42\n",
      "* accuracy: 39.6%\n",
      "* error: 60.4%\n",
      "* macro_f1: 15.0%\n",
      "epoch [81/1000] batch [20/44] time 0.045 (0.057) data 0.000 (0.015) loss 0.8906 (1.4838) lr 3.4464e-03 eta 0:38:36\n",
      "epoch [81/1000] batch [40/44] time 0.041 (0.049) data 0.000 (0.007) loss 2.7539 (1.6137) lr 3.4464e-03 eta 0:33:07\n",
      "Evaluate on the *val* set\n"
     ]
    },
    {
     "name": "stderr",
     "output_type": "stream",
     "text": [
      "\r",
      "  0%|          | 0/2 [00:00<?, ?it/s]\r",
      " 50%|█████     | 1/2 [00:00<00:00,  3.20it/s]\r",
      "100%|██████████| 2/2 [00:00<00:00,  4.96it/s]\n"
     ]
    },
    {
     "name": "stdout",
     "output_type": "stream",
     "text": [
      "=> result\n",
      "* total: 106\n",
      "* correct: 40\n",
      "* accuracy: 37.7%\n",
      "* error: 62.3%\n",
      "* macro_f1: 15.5%\n",
      "epoch [82/1000] batch [20/44] time 0.041 (0.057) data 0.000 (0.015) loss 1.3730 (1.6088) lr 3.4450e-03 eta 0:38:27\n",
      "epoch [82/1000] batch [40/44] time 0.041 (0.048) data 0.000 (0.008) loss 1.2930 (1.6090) lr 3.4450e-03 eta 0:32:31\n",
      "Evaluate on the *val* set\n"
     ]
    },
    {
     "name": "stderr",
     "output_type": "stream",
     "text": [
      "\r",
      "  0%|          | 0/2 [00:00<?, ?it/s]\r",
      " 50%|█████     | 1/2 [00:00<00:00,  3.28it/s]\r",
      "100%|██████████| 2/2 [00:00<00:00,  5.06it/s]\n"
     ]
    },
    {
     "name": "stdout",
     "output_type": "stream",
     "text": [
      "=> result\n",
      "* total: 106\n",
      "* correct: 41\n",
      "* accuracy: 38.7%\n",
      "* error: 61.3%\n",
      "* macro_f1: 16.1%\n",
      "epoch [83/1000] batch [20/44] time 0.037 (0.055) data 0.000 (0.015) loss 2.9688 (1.5103) lr 3.4436e-03 eta 0:37:15\n",
      "epoch [83/1000] batch [40/44] time 0.035 (0.048) data 0.000 (0.007) loss 0.5752 (1.6523) lr 3.4436e-03 eta 0:32:03\n",
      "Evaluate on the *val* set\n"
     ]
    },
    {
     "name": "stderr",
     "output_type": "stream",
     "text": [
      "\r",
      "  0%|          | 0/2 [00:00<?, ?it/s]\r",
      " 50%|█████     | 1/2 [00:00<00:00,  3.28it/s]\r",
      "100%|██████████| 2/2 [00:00<00:00,  5.18it/s]\n"
     ]
    },
    {
     "name": "stdout",
     "output_type": "stream",
     "text": [
      "=> result\n",
      "* total: 106\n",
      "* correct: 36\n",
      "* accuracy: 34.0%\n",
      "* error: 66.0%\n",
      "* macro_f1: 11.4%\n",
      "epoch [84/1000] batch [20/44] time 0.040 (0.057) data 0.000 (0.015) loss 1.1328 (1.3588) lr 3.4423e-03 eta 0:38:09\n",
      "epoch [84/1000] batch [40/44] time 0.039 (0.048) data 0.000 (0.007) loss 1.7549 (1.5765) lr 3.4423e-03 eta 0:32:31\n",
      "Evaluate on the *val* set\n"
     ]
    },
    {
     "name": "stderr",
     "output_type": "stream",
     "text": [
      "\r",
      "  0%|          | 0/2 [00:00<?, ?it/s]\r",
      " 50%|█████     | 1/2 [00:00<00:00,  3.26it/s]\r",
      "100%|██████████| 2/2 [00:00<00:00,  5.17it/s]\n"
     ]
    },
    {
     "name": "stdout",
     "output_type": "stream",
     "text": [
      "=> result\n",
      "* total: 106\n",
      "* correct: 35\n",
      "* accuracy: 33.0%\n",
      "* error: 67.0%\n",
      "* macro_f1: 12.0%\n",
      "epoch [85/1000] batch [20/44] time 0.043 (0.058) data 0.000 (0.016) loss 1.7119 (1.5745) lr 3.4408e-03 eta 0:39:01\n",
      "epoch [85/1000] batch [40/44] time 0.042 (0.049) data 0.000 (0.008) loss 2.2070 (1.6805) lr 3.4408e-03 eta 0:33:12\n",
      "Evaluate on the *val* set\n"
     ]
    },
    {
     "name": "stderr",
     "output_type": "stream",
     "text": [
      "\r",
      "  0%|          | 0/2 [00:00<?, ?it/s]\r",
      " 50%|█████     | 1/2 [00:00<00:00,  3.22it/s]\r",
      "100%|██████████| 2/2 [00:00<00:00,  5.05it/s]\n"
     ]
    },
    {
     "name": "stdout",
     "output_type": "stream",
     "text": [
      "=> result\n",
      "* total: 106\n",
      "* correct: 44\n",
      "* accuracy: 41.5%\n",
      "* error: 58.5%\n",
      "* macro_f1: 16.1%\n",
      "epoch [86/1000] batch [20/44] time 0.040 (0.056) data 0.000 (0.014) loss 1.9609 (1.5351) lr 3.4394e-03 eta 0:37:19\n",
      "epoch [86/1000] batch [40/44] time 0.041 (0.048) data 0.000 (0.007) loss 1.3398 (1.6253) lr 3.4394e-03 eta 0:31:54\n",
      "Evaluate on the *val* set\n"
     ]
    },
    {
     "name": "stderr",
     "output_type": "stream",
     "text": [
      "\r",
      "  0%|          | 0/2 [00:00<?, ?it/s]\r",
      " 50%|█████     | 1/2 [00:00<00:00,  3.15it/s]\r",
      "100%|██████████| 2/2 [00:00<00:00,  5.07it/s]\n"
     ]
    },
    {
     "name": "stdout",
     "output_type": "stream",
     "text": [
      "=> result\n",
      "* total: 106\n",
      "* correct: 42\n",
      "* accuracy: 39.6%\n",
      "* error: 60.4%\n",
      "* macro_f1: 15.5%\n",
      "epoch [87/1000] batch [20/44] time 0.036 (0.056) data 0.000 (0.016) loss 2.8809 (1.5579) lr 3.4380e-03 eta 0:37:47\n",
      "epoch [87/1000] batch [40/44] time 0.041 (0.049) data 0.000 (0.008) loss 0.8784 (1.5563) lr 3.4380e-03 eta 0:32:39\n",
      "Evaluate on the *val* set\n"
     ]
    },
    {
     "name": "stderr",
     "output_type": "stream",
     "text": [
      "\r",
      "  0%|          | 0/2 [00:00<?, ?it/s]\r",
      " 50%|█████     | 1/2 [00:00<00:00,  3.14it/s]\r",
      "100%|██████████| 2/2 [00:00<00:00,  5.03it/s]\n"
     ]
    },
    {
     "name": "stdout",
     "output_type": "stream",
     "text": [
      "=> result\n",
      "* total: 106\n",
      "* correct: 43\n",
      "* accuracy: 40.6%\n",
      "* error: 59.4%\n",
      "* macro_f1: 17.7%\n",
      "epoch [88/1000] batch [20/44] time 0.035 (0.057) data 0.000 (0.016) loss 2.4551 (1.3355) lr 3.4365e-03 eta 0:38:09\n",
      "epoch [88/1000] batch [40/44] time 0.037 (0.048) data 0.000 (0.008) loss 1.0254 (1.5754) lr 3.4365e-03 eta 0:32:00\n",
      "Evaluate on the *val* set\n"
     ]
    },
    {
     "name": "stderr",
     "output_type": "stream",
     "text": [
      "\r",
      "  0%|          | 0/2 [00:00<?, ?it/s]\r",
      " 50%|█████     | 1/2 [00:00<00:00,  3.30it/s]\r",
      "100%|██████████| 2/2 [00:00<00:00,  5.12it/s]\n"
     ]
    },
    {
     "name": "stdout",
     "output_type": "stream",
     "text": [
      "=> result\n",
      "* total: 106\n",
      "* correct: 40\n",
      "* accuracy: 37.7%\n",
      "* error: 62.3%\n",
      "* macro_f1: 15.8%\n",
      "epoch [89/1000] batch [20/44] time 0.042 (0.055) data 0.000 (0.015) loss 0.6836 (1.5220) lr 3.4350e-03 eta 0:36:53\n",
      "epoch [89/1000] batch [40/44] time 0.043 (0.048) data 0.000 (0.007) loss 1.0645 (1.5054) lr 3.4350e-03 eta 0:31:53\n",
      "Evaluate on the *val* set\n"
     ]
    },
    {
     "name": "stderr",
     "output_type": "stream",
     "text": [
      "\r",
      "  0%|          | 0/2 [00:00<?, ?it/s]\r",
      " 50%|█████     | 1/2 [00:00<00:00,  3.27it/s]\r",
      "100%|██████████| 2/2 [00:00<00:00,  5.16it/s]\n"
     ]
    },
    {
     "name": "stdout",
     "output_type": "stream",
     "text": [
      "=> result\n",
      "* total: 106\n",
      "* correct: 33\n",
      "* accuracy: 31.1%\n",
      "* error: 68.9%\n",
      "* macro_f1: 13.3%\n",
      "epoch [90/1000] batch [20/44] time 0.040 (0.056) data 0.000 (0.014) loss 1.4375 (1.5385) lr 3.4335e-03 eta 0:37:07\n",
      "epoch [90/1000] batch [40/44] time 0.036 (0.048) data 0.000 (0.007) loss 1.6240 (1.6571) lr 3.4335e-03 eta 0:32:02\n",
      "Evaluate on the *val* set\n"
     ]
    },
    {
     "name": "stderr",
     "output_type": "stream",
     "text": [
      "\r",
      "  0%|          | 0/2 [00:00<?, ?it/s]\r",
      " 50%|█████     | 1/2 [00:00<00:00,  3.31it/s]\r",
      "100%|██████████| 2/2 [00:00<00:00,  5.26it/s]\n"
     ]
    },
    {
     "name": "stdout",
     "output_type": "stream",
     "text": [
      "=> result\n",
      "* total: 106\n",
      "* correct: 37\n",
      "* accuracy: 34.9%\n",
      "* error: 65.1%\n",
      "* macro_f1: 13.7%\n",
      "epoch [91/1000] batch [20/44] time 0.045 (0.057) data 0.000 (0.014) loss 1.5215 (1.5240) lr 3.4320e-03 eta 0:37:45\n",
      "epoch [91/1000] batch [40/44] time 0.042 (0.048) data 0.000 (0.007) loss 1.9102 (1.5359) lr 3.4320e-03 eta 0:31:57\n",
      "Evaluate on the *val* set\n"
     ]
    },
    {
     "name": "stderr",
     "output_type": "stream",
     "text": [
      "\r",
      "  0%|          | 0/2 [00:00<?, ?it/s]\r",
      " 50%|█████     | 1/2 [00:00<00:00,  3.24it/s]\r",
      "100%|██████████| 2/2 [00:00<00:00,  4.96it/s]\n"
     ]
    },
    {
     "name": "stdout",
     "output_type": "stream",
     "text": [
      "=> result\n",
      "* total: 106\n",
      "* correct: 43\n",
      "* accuracy: 40.6%\n",
      "* error: 59.4%\n",
      "* macro_f1: 17.1%\n",
      "epoch [92/1000] batch [20/44] time 0.041 (0.055) data 0.000 (0.014) loss 2.3105 (1.5361) lr 3.4305e-03 eta 0:36:28\n",
      "epoch [92/1000] batch [40/44] time 0.043 (0.047) data 0.000 (0.007) loss 1.6826 (1.5165) lr 3.4305e-03 eta 0:31:33\n",
      "Evaluate on the *val* set\n"
     ]
    },
    {
     "name": "stderr",
     "output_type": "stream",
     "text": [
      "\r",
      "  0%|          | 0/2 [00:00<?, ?it/s]\r",
      " 50%|█████     | 1/2 [00:00<00:00,  3.30it/s]\r",
      "100%|██████████| 2/2 [00:00<00:00,  5.24it/s]\n"
     ]
    },
    {
     "name": "stdout",
     "output_type": "stream",
     "text": [
      "=> result\n",
      "* total: 106\n",
      "* correct: 33\n",
      "* accuracy: 31.1%\n",
      "* error: 68.9%\n",
      "* macro_f1: 10.1%\n",
      "epoch [93/1000] batch [20/44] time 0.044 (0.058) data 0.000 (0.016) loss 2.3750 (1.6402) lr 3.4290e-03 eta 0:38:43\n",
      "epoch [93/1000] batch [40/44] time 0.037 (0.049) data 0.000 (0.008) loss 1.1660 (1.5302) lr 3.4290e-03 eta 0:32:23\n",
      "Evaluate on the *val* set\n"
     ]
    },
    {
     "name": "stderr",
     "output_type": "stream",
     "text": [
      "\r",
      "  0%|          | 0/2 [00:00<?, ?it/s]\r",
      " 50%|█████     | 1/2 [00:00<00:00,  3.23it/s]\r",
      "100%|██████████| 2/2 [00:00<00:00,  5.17it/s]\n"
     ]
    },
    {
     "name": "stdout",
     "output_type": "stream",
     "text": [
      "=> result\n",
      "* total: 106\n",
      "* correct: 39\n",
      "* accuracy: 36.8%\n",
      "* error: 63.2%\n",
      "* macro_f1: 14.4%\n",
      "epoch [94/1000] batch [20/44] time 0.041 (0.054) data 0.000 (0.014) loss 2.4609 (1.5889) lr 3.4274e-03 eta 0:36:05\n",
      "epoch [94/1000] batch [40/44] time 0.036 (0.046) data 0.000 (0.007) loss 1.2246 (1.4958) lr 3.4274e-03 eta 0:30:51\n",
      "Evaluate on the *val* set\n"
     ]
    },
    {
     "name": "stderr",
     "output_type": "stream",
     "text": [
      "\r",
      "  0%|          | 0/2 [00:00<?, ?it/s]\r",
      " 50%|█████     | 1/2 [00:00<00:00,  3.13it/s]\r",
      "100%|██████████| 2/2 [00:00<00:00,  4.88it/s]\n"
     ]
    },
    {
     "name": "stdout",
     "output_type": "stream",
     "text": [
      "=> result\n",
      "* total: 106\n",
      "* correct: 44\n",
      "* accuracy: 41.5%\n",
      "* error: 58.5%\n",
      "* macro_f1: 17.3%\n",
      "epoch [95/1000] batch [20/44] time 0.040 (0.058) data 0.000 (0.017) loss 0.6045 (1.3667) lr 3.4258e-03 eta 0:38:27\n",
      "epoch [95/1000] batch [40/44] time 0.041 (0.049) data 0.000 (0.008) loss 1.4512 (1.4216) lr 3.4258e-03 eta 0:32:32\n",
      "Evaluate on the *val* set\n"
     ]
    },
    {
     "name": "stderr",
     "output_type": "stream",
     "text": [
      "\r",
      "  0%|          | 0/2 [00:00<?, ?it/s]\r",
      " 50%|█████     | 1/2 [00:00<00:00,  3.25it/s]\r",
      "100%|██████████| 2/2 [00:00<00:00,  5.22it/s]\n"
     ]
    },
    {
     "name": "stdout",
     "output_type": "stream",
     "text": [
      "=> result\n",
      "* total: 106\n",
      "* correct: 35\n",
      "* accuracy: 33.0%\n",
      "* error: 67.0%\n",
      "* macro_f1: 18.2%\n",
      "epoch [96/1000] batch [20/44] time 0.041 (0.058) data 0.000 (0.016) loss 2.5488 (1.6099) lr 3.4242e-03 eta 0:38:29\n",
      "epoch [96/1000] batch [40/44] time 0.036 (0.049) data 0.000 (0.008) loss 2.8105 (1.4648) lr 3.4242e-03 eta 0:32:31\n",
      "Evaluate on the *val* set\n"
     ]
    },
    {
     "name": "stderr",
     "output_type": "stream",
     "text": [
      "\r",
      "  0%|          | 0/2 [00:00<?, ?it/s]\r",
      " 50%|█████     | 1/2 [00:00<00:00,  3.33it/s]\r",
      "100%|██████████| 2/2 [00:00<00:00,  5.17it/s]\n"
     ]
    },
    {
     "name": "stdout",
     "output_type": "stream",
     "text": [
      "=> result\n",
      "* total: 106\n",
      "* correct: 40\n",
      "* accuracy: 37.7%\n",
      "* error: 62.3%\n",
      "* macro_f1: 13.0%\n",
      "epoch [97/1000] batch [20/44] time 0.041 (0.058) data 0.000 (0.016) loss 1.6826 (1.4159) lr 3.4226e-03 eta 0:38:22\n",
      "epoch [97/1000] batch [40/44] time 0.038 (0.049) data 0.000 (0.008) loss 1.1543 (1.5223) lr 3.4226e-03 eta 0:32:21\n",
      "Evaluate on the *val* set\n"
     ]
    },
    {
     "name": "stderr",
     "output_type": "stream",
     "text": [
      "\r",
      "  0%|          | 0/2 [00:00<?, ?it/s]\r",
      " 50%|█████     | 1/2 [00:00<00:00,  3.30it/s]\r",
      "100%|██████████| 2/2 [00:00<00:00,  5.25it/s]\n"
     ]
    },
    {
     "name": "stdout",
     "output_type": "stream",
     "text": [
      "=> result\n",
      "* total: 106\n",
      "* correct: 34\n",
      "* accuracy: 32.1%\n",
      "* error: 67.9%\n",
      "* macro_f1: 15.3%\n",
      "epoch [98/1000] batch [20/44] time 0.038 (0.058) data 0.000 (0.017) loss 1.4434 (1.5840) lr 3.4210e-03 eta 0:38:18\n",
      "epoch [98/1000] batch [40/44] time 0.038 (0.049) data 0.000 (0.009) loss 1.2910 (1.5562) lr 3.4210e-03 eta 0:32:32\n",
      "Evaluate on the *val* set\n"
     ]
    },
    {
     "name": "stderr",
     "output_type": "stream",
     "text": [
      "\r",
      "  0%|          | 0/2 [00:00<?, ?it/s]\r",
      " 50%|█████     | 1/2 [00:00<00:00,  3.23it/s]\r",
      "100%|██████████| 2/2 [00:00<00:00,  4.97it/s]\n"
     ]
    },
    {
     "name": "stdout",
     "output_type": "stream",
     "text": [
      "=> result\n",
      "* total: 106\n",
      "* correct: 42\n",
      "* accuracy: 39.6%\n",
      "* error: 60.4%\n",
      "* macro_f1: 13.8%\n",
      "epoch [99/1000] batch [20/44] time 0.041 (0.053) data 0.000 (0.015) loss 2.6562 (1.4317) lr 3.4194e-03 eta 0:35:06\n",
      "epoch [99/1000] batch [40/44] time 0.042 (0.047) data 0.000 (0.007) loss 0.9229 (1.4285) lr 3.4194e-03 eta 0:30:46\n",
      "Evaluate on the *val* set\n"
     ]
    },
    {
     "name": "stderr",
     "output_type": "stream",
     "text": [
      "\r",
      "  0%|          | 0/2 [00:00<?, ?it/s]\r",
      " 50%|█████     | 1/2 [00:00<00:00,  3.21it/s]\r",
      "100%|██████████| 2/2 [00:00<00:00,  5.05it/s]\n"
     ]
    },
    {
     "name": "stdout",
     "output_type": "stream",
     "text": [
      "=> result\n",
      "* total: 106\n",
      "* correct: 43\n",
      "* accuracy: 40.6%\n",
      "* error: 59.4%\n",
      "* macro_f1: 15.3%\n",
      "epoch [100/1000] batch [20/44] time 0.040 (0.057) data 0.000 (0.016) loss 1.3213 (1.4615) lr 3.4177e-03 eta 0:37:23\n",
      "epoch [100/1000] batch [40/44] time 0.035 (0.048) data 0.000 (0.008) loss 1.0791 (1.5734) lr 3.4177e-03 eta 0:31:53\n",
      "Evaluate on the *val* set\n"
     ]
    },
    {
     "name": "stderr",
     "output_type": "stream",
     "text": [
      "\r",
      "  0%|          | 0/2 [00:00<?, ?it/s]\r",
      " 50%|█████     | 1/2 [00:00<00:00,  3.23it/s]\r",
      "100%|██████████| 2/2 [00:00<00:00,  4.94it/s]\n"
     ]
    },
    {
     "name": "stdout",
     "output_type": "stream",
     "text": [
      "=> result\n",
      "* total: 106\n",
      "* correct: 36\n",
      "* accuracy: 34.0%\n",
      "* error: 66.0%\n",
      "* macro_f1: 14.9%\n",
      "epoch [101/1000] batch [20/44] time 0.041 (0.055) data 0.000 (0.014) loss 1.6260 (1.5459) lr 3.4160e-03 eta 0:36:19\n",
      "epoch [101/1000] batch [40/44] time 0.040 (0.048) data 0.000 (0.007) loss 2.6621 (1.4637) lr 3.4160e-03 eta 0:31:31\n",
      "Evaluate on the *val* set\n"
     ]
    },
    {
     "name": "stderr",
     "output_type": "stream",
     "text": [
      "\r",
      "  0%|          | 0/2 [00:00<?, ?it/s]\r",
      " 50%|█████     | 1/2 [00:00<00:00,  3.22it/s]\r",
      "100%|██████████| 2/2 [00:00<00:00,  5.09it/s]\n"
     ]
    },
    {
     "name": "stdout",
     "output_type": "stream",
     "text": [
      "=> result\n",
      "* total: 106\n",
      "* correct: 39\n",
      "* accuracy: 36.8%\n",
      "* error: 63.2%\n",
      "* macro_f1: 17.2%\n",
      "epoch [102/1000] batch [20/44] time 0.041 (0.054) data 0.000 (0.014) loss 1.1885 (1.6472) lr 3.4143e-03 eta 0:35:50\n",
      "epoch [102/1000] batch [40/44] time 0.038 (0.048) data 0.000 (0.007) loss 0.9136 (1.5114) lr 3.4143e-03 eta 0:31:25\n",
      "Evaluate on the *val* set\n"
     ]
    },
    {
     "name": "stderr",
     "output_type": "stream",
     "text": [
      "\r",
      "  0%|          | 0/2 [00:00<?, ?it/s]\r",
      " 50%|█████     | 1/2 [00:00<00:00,  3.32it/s]\r",
      "100%|██████████| 2/2 [00:00<00:00,  5.26it/s]\n"
     ]
    },
    {
     "name": "stdout",
     "output_type": "stream",
     "text": [
      "=> result\n",
      "* total: 106\n",
      "* correct: 40\n",
      "* accuracy: 37.7%\n",
      "* error: 62.3%\n",
      "* macro_f1: 16.1%\n",
      "epoch [103/1000] batch [20/44] time 0.036 (0.054) data 0.000 (0.014) loss 1.1748 (1.3084) lr 3.4126e-03 eta 0:35:37\n",
      "epoch [103/1000] batch [40/44] time 0.039 (0.047) data 0.000 (0.007) loss 2.7773 (1.4482) lr 3.4126e-03 eta 0:31:01\n",
      "Evaluate on the *val* set\n"
     ]
    },
    {
     "name": "stderr",
     "output_type": "stream",
     "text": [
      "\r",
      "  0%|          | 0/2 [00:00<?, ?it/s]\r",
      " 50%|█████     | 1/2 [00:00<00:00,  3.25it/s]\r",
      "100%|██████████| 2/2 [00:00<00:00,  5.07it/s]\n"
     ]
    },
    {
     "name": "stdout",
     "output_type": "stream",
     "text": [
      "=> result\n",
      "* total: 106\n",
      "* correct: 42\n",
      "* accuracy: 39.6%\n",
      "* error: 60.4%\n",
      "* macro_f1: 18.9%\n",
      "epoch [104/1000] batch [20/44] time 0.035 (0.055) data 0.000 (0.014) loss 1.6279 (1.4816) lr 3.4109e-03 eta 0:36:16\n",
      "epoch [104/1000] batch [40/44] time 0.040 (0.048) data 0.000 (0.007) loss 1.7529 (1.4589) lr 3.4109e-03 eta 0:31:27\n",
      "Evaluate on the *val* set\n"
     ]
    },
    {
     "name": "stderr",
     "output_type": "stream",
     "text": [
      "\r",
      "  0%|          | 0/2 [00:00<?, ?it/s]\r",
      " 50%|█████     | 1/2 [00:00<00:00,  3.22it/s]\r",
      "100%|██████████| 2/2 [00:00<00:00,  5.13it/s]\n"
     ]
    },
    {
     "name": "stdout",
     "output_type": "stream",
     "text": [
      "=> result\n",
      "* total: 106\n",
      "* correct: 39\n",
      "* accuracy: 36.8%\n",
      "* error: 63.2%\n",
      "* macro_f1: 12.8%\n",
      "epoch [105/1000] batch [20/44] time 0.037 (0.055) data 0.000 (0.014) loss 1.9990 (1.4598) lr 3.4092e-03 eta 0:35:56\n",
      "epoch [105/1000] batch [40/44] time 0.042 (0.048) data 0.000 (0.007) loss 0.9951 (1.4416) lr 3.4092e-03 eta 0:31:19\n",
      "Evaluate on the *val* set\n"
     ]
    },
    {
     "name": "stderr",
     "output_type": "stream",
     "text": [
      "\r",
      "  0%|          | 0/2 [00:00<?, ?it/s]\r",
      " 50%|█████     | 1/2 [00:00<00:00,  3.25it/s]\r",
      "100%|██████████| 2/2 [00:00<00:00,  5.15it/s]\n"
     ]
    },
    {
     "name": "stdout",
     "output_type": "stream",
     "text": [
      "=> result\n",
      "* total: 106\n",
      "* correct: 44\n",
      "* accuracy: 41.5%\n",
      "* error: 58.5%\n",
      "* macro_f1: 17.9%\n",
      "epoch [106/1000] batch [20/44] time 0.040 (0.054) data 0.000 (0.015) loss 0.3560 (1.4780) lr 3.4074e-03 eta 0:35:36\n",
      "epoch [106/1000] batch [40/44] time 0.036 (0.047) data 0.000 (0.008) loss 1.1367 (1.4349) lr 3.4074e-03 eta 0:30:52\n",
      "Evaluate on the *val* set\n"
     ]
    },
    {
     "name": "stderr",
     "output_type": "stream",
     "text": [
      "\r",
      "  0%|          | 0/2 [00:00<?, ?it/s]\r",
      " 50%|█████     | 1/2 [00:00<00:00,  3.16it/s]\r",
      "100%|██████████| 2/2 [00:00<00:00,  5.03it/s]\n"
     ]
    },
    {
     "name": "stdout",
     "output_type": "stream",
     "text": [
      "=> result\n",
      "* total: 106\n",
      "* correct: 42\n",
      "* accuracy: 39.6%\n",
      "* error: 60.4%\n",
      "* macro_f1: 18.9%\n",
      "epoch [107/1000] batch [20/44] time 0.038 (0.056) data 0.000 (0.015) loss 1.2822 (1.6638) lr 3.4056e-03 eta 0:36:36\n",
      "epoch [107/1000] batch [40/44] time 0.042 (0.048) data 0.000 (0.007) loss 0.9355 (1.5674) lr 3.4056e-03 eta 0:31:25\n",
      "Evaluate on the *val* set\n"
     ]
    },
    {
     "name": "stderr",
     "output_type": "stream",
     "text": [
      "\r",
      "  0%|          | 0/2 [00:00<?, ?it/s]\r",
      " 50%|█████     | 1/2 [00:00<00:00,  3.33it/s]\r",
      "100%|██████████| 2/2 [00:00<00:00,  5.21it/s]\n"
     ]
    },
    {
     "name": "stdout",
     "output_type": "stream",
     "text": [
      "=> result\n",
      "* total: 106\n",
      "* correct: 41\n",
      "* accuracy: 38.7%\n",
      "* error: 61.3%\n",
      "* macro_f1: 15.1%\n",
      "epoch [108/1000] batch [20/44] time 0.039 (0.056) data 0.000 (0.015) loss 2.0352 (1.4524) lr 3.4039e-03 eta 0:36:28\n",
      "epoch [108/1000] batch [40/44] time 0.035 (0.047) data 0.000 (0.007) loss 1.0508 (1.4313) lr 3.4039e-03 eta 0:31:01\n",
      "Evaluate on the *val* set\n"
     ]
    },
    {
     "name": "stderr",
     "output_type": "stream",
     "text": [
      "\r",
      "  0%|          | 0/2 [00:00<?, ?it/s]\r",
      " 50%|█████     | 1/2 [00:00<00:00,  3.31it/s]\r",
      "100%|██████████| 2/2 [00:00<00:00,  5.16it/s]\n"
     ]
    },
    {
     "name": "stdout",
     "output_type": "stream",
     "text": [
      "=> result\n",
      "* total: 106\n",
      "* correct: 40\n",
      "* accuracy: 37.7%\n",
      "* error: 62.3%\n",
      "* macro_f1: 14.5%\n",
      "epoch [109/1000] batch [20/44] time 0.041 (0.055) data 0.000 (0.015) loss 0.5283 (1.3378) lr 3.4021e-03 eta 0:35:48\n",
      "epoch [109/1000] batch [40/44] time 0.041 (0.047) data 0.000 (0.007) loss 1.3701 (1.4216) lr 3.4021e-03 eta 0:30:45\n",
      "Evaluate on the *val* set\n"
     ]
    },
    {
     "name": "stderr",
     "output_type": "stream",
     "text": [
      "\r",
      "  0%|          | 0/2 [00:00<?, ?it/s]\r",
      " 50%|█████     | 1/2 [00:00<00:00,  3.30it/s]\r",
      "100%|██████████| 2/2 [00:00<00:00,  5.16it/s]\n"
     ]
    },
    {
     "name": "stdout",
     "output_type": "stream",
     "text": [
      "=> result\n",
      "* total: 106\n",
      "* correct: 43\n",
      "* accuracy: 40.6%\n",
      "* error: 59.4%\n",
      "* macro_f1: 17.3%\n",
      "epoch [110/1000] batch [20/44] time 0.035 (0.055) data 0.000 (0.015) loss 1.1104 (1.2409) lr 3.4002e-03 eta 0:35:54\n",
      "epoch [110/1000] batch [40/44] time 0.041 (0.047) data 0.000 (0.007) loss 2.1973 (1.4382) lr 3.4002e-03 eta 0:30:52\n",
      "Evaluate on the *val* set\n"
     ]
    },
    {
     "name": "stderr",
     "output_type": "stream",
     "text": [
      "\r",
      "  0%|          | 0/2 [00:00<?, ?it/s]\r",
      " 50%|█████     | 1/2 [00:00<00:00,  3.24it/s]\r",
      "100%|██████████| 2/2 [00:00<00:00,  5.18it/s]\n"
     ]
    },
    {
     "name": "stdout",
     "output_type": "stream",
     "text": [
      "=> result\n",
      "* total: 106\n",
      "* correct: 44\n",
      "* accuracy: 41.5%\n",
      "* error: 58.5%\n",
      "* macro_f1: 20.4%\n",
      "epoch [111/1000] batch [20/44] time 0.040 (0.055) data 0.000 (0.015) loss 1.5732 (1.4313) lr 3.3984e-03 eta 0:36:06\n",
      "epoch [111/1000] batch [40/44] time 0.037 (0.047) data 0.000 (0.008) loss 1.6748 (1.4181) lr 3.3984e-03 eta 0:30:54\n",
      "Evaluate on the *val* set\n"
     ]
    },
    {
     "name": "stderr",
     "output_type": "stream",
     "text": [
      "\r",
      "  0%|          | 0/2 [00:00<?, ?it/s]\r",
      " 50%|█████     | 1/2 [00:00<00:00,  3.33it/s]\r",
      "100%|██████████| 2/2 [00:00<00:00,  5.30it/s]\n"
     ]
    },
    {
     "name": "stdout",
     "output_type": "stream",
     "text": [
      "=> result\n",
      "* total: 106\n",
      "* correct: 32\n",
      "* accuracy: 30.2%\n",
      "* error: 69.8%\n",
      "* macro_f1: 13.2%\n",
      "epoch [112/1000] batch [20/44] time 0.028 (0.055) data 0.000 (0.014) loss 1.3887 (1.2709) lr 3.3965e-03 eta 0:36:00\n",
      "epoch [112/1000] batch [40/44] time 0.040 (0.046) data 0.000 (0.007) loss 1.3984 (1.4831) lr 3.3965e-03 eta 0:30:04\n",
      "Evaluate on the *val* set\n"
     ]
    },
    {
     "name": "stderr",
     "output_type": "stream",
     "text": [
      "\r",
      "  0%|          | 0/2 [00:00<?, ?it/s]\r",
      " 50%|█████     | 1/2 [00:00<00:00,  3.23it/s]\r",
      "100%|██████████| 2/2 [00:00<00:00,  4.94it/s]\n"
     ]
    },
    {
     "name": "stdout",
     "output_type": "stream",
     "text": [
      "=> result\n",
      "* total: 106\n",
      "* correct: 39\n",
      "* accuracy: 36.8%\n",
      "* error: 63.2%\n",
      "* macro_f1: 17.8%\n",
      "epoch [113/1000] batch [20/44] time 0.045 (0.055) data 0.000 (0.014) loss 1.0723 (1.2356) lr 3.3947e-03 eta 0:35:38\n",
      "epoch [113/1000] batch [40/44] time 0.041 (0.047) data 0.000 (0.007) loss 2.4785 (1.4685) lr 3.3947e-03 eta 0:30:52\n",
      "Evaluate on the *val* set\n"
     ]
    },
    {
     "name": "stderr",
     "output_type": "stream",
     "text": [
      "\r",
      "  0%|          | 0/2 [00:00<?, ?it/s]\r",
      " 50%|█████     | 1/2 [00:00<00:00,  3.26it/s]\r",
      "100%|██████████| 2/2 [00:00<00:00,  5.13it/s]\n"
     ]
    },
    {
     "name": "stdout",
     "output_type": "stream",
     "text": [
      "=> result\n",
      "* total: 106\n",
      "* correct: 37\n",
      "* accuracy: 34.9%\n",
      "* error: 65.1%\n",
      "* macro_f1: 16.1%\n",
      "epoch [114/1000] batch [20/44] time 0.037 (0.056) data 0.000 (0.015) loss 2.5801 (1.9161) lr 3.3928e-03 eta 0:36:34\n",
      "epoch [114/1000] batch [40/44] time 0.037 (0.048) data 0.000 (0.008) loss 2.3105 (1.5947) lr 3.3928e-03 eta 0:31:07\n",
      "Evaluate on the *val* set\n"
     ]
    },
    {
     "name": "stderr",
     "output_type": "stream",
     "text": [
      "\r",
      "  0%|          | 0/2 [00:00<?, ?it/s]\r",
      " 50%|█████     | 1/2 [00:00<00:00,  3.32it/s]\r",
      "100%|██████████| 2/2 [00:00<00:00,  5.24it/s]\n"
     ]
    },
    {
     "name": "stdout",
     "output_type": "stream",
     "text": [
      "=> result\n",
      "* total: 106\n",
      "* correct: 38\n",
      "* accuracy: 35.8%\n",
      "* error: 64.2%\n",
      "* macro_f1: 15.5%\n",
      "epoch [115/1000] batch [20/44] time 0.041 (0.058) data 0.000 (0.016) loss 2.3965 (1.7126) lr 3.3909e-03 eta 0:37:36\n",
      "epoch [115/1000] batch [40/44] time 0.041 (0.049) data 0.000 (0.008) loss 0.7632 (1.4881) lr 3.3909e-03 eta 0:32:04\n",
      "Evaluate on the *val* set\n"
     ]
    },
    {
     "name": "stderr",
     "output_type": "stream",
     "text": [
      "\r",
      "  0%|          | 0/2 [00:00<?, ?it/s]\r",
      " 50%|█████     | 1/2 [00:00<00:00,  3.18it/s]\r",
      "100%|██████████| 2/2 [00:00<00:00,  5.04it/s]\n"
     ]
    },
    {
     "name": "stdout",
     "output_type": "stream",
     "text": [
      "=> result\n",
      "* total: 106\n",
      "* correct: 46\n",
      "* accuracy: 43.4%\n",
      "* error: 56.6%\n",
      "* macro_f1: 20.2%\n",
      "Checkpoint saved to output/replica/MaPLePromptScene/vit_b16_c2_ep200_batch4_ctx4_depth12_cross_datasets_-1shots/seed1/MultiModalPromptSceneLearner/model-best.pth.tar\n",
      "epoch [116/1000] batch [20/44] time 0.043 (0.059) data 0.000 (0.019) loss 1.0156 (1.1280) lr 3.3890e-03 eta 0:38:06\n",
      "epoch [116/1000] batch [40/44] time 0.042 (0.050) data 0.000 (0.009) loss 1.0635 (1.3458) lr 3.3890e-03 eta 0:32:06\n",
      "Evaluate on the *val* set\n"
     ]
    },
    {
     "name": "stderr",
     "output_type": "stream",
     "text": [
      "\r",
      "  0%|          | 0/2 [00:00<?, ?it/s]\r",
      " 50%|█████     | 1/2 [00:00<00:00,  3.18it/s]\r",
      "100%|██████████| 2/2 [00:00<00:00,  5.04it/s]\n"
     ]
    },
    {
     "name": "stdout",
     "output_type": "stream",
     "text": [
      "=> result\n",
      "* total: 106\n",
      "* correct: 39\n",
      "* accuracy: 36.8%\n",
      "* error: 63.2%\n",
      "* macro_f1: 14.7%\n",
      "epoch [117/1000] batch [20/44] time 0.046 (0.054) data 0.000 (0.015) loss 1.1367 (1.5898) lr 3.3870e-03 eta 0:35:02\n",
      "epoch [117/1000] batch [40/44] time 0.042 (0.048) data 0.000 (0.007) loss 0.8320 (1.3770) lr 3.3870e-03 eta 0:30:51\n",
      "Evaluate on the *val* set\n"
     ]
    },
    {
     "name": "stderr",
     "output_type": "stream",
     "text": [
      "\r",
      "  0%|          | 0/2 [00:00<?, ?it/s]\r",
      " 50%|█████     | 1/2 [00:00<00:00,  3.30it/s]\r",
      "100%|██████████| 2/2 [00:00<00:00,  5.27it/s]\n"
     ]
    },
    {
     "name": "stdout",
     "output_type": "stream",
     "text": [
      "=> result\n",
      "* total: 106\n",
      "* correct: 41\n",
      "* accuracy: 38.7%\n",
      "* error: 61.3%\n",
      "* macro_f1: 16.3%\n",
      "epoch [118/1000] batch [20/44] time 0.043 (0.057) data 0.000 (0.015) loss 0.3184 (1.2847) lr 3.3851e-03 eta 0:36:45\n",
      "epoch [118/1000] batch [40/44] time 0.041 (0.048) data 0.000 (0.007) loss 0.9780 (1.4787) lr 3.3851e-03 eta 0:30:58\n",
      "Evaluate on the *val* set\n"
     ]
    },
    {
     "name": "stderr",
     "output_type": "stream",
     "text": [
      "\r",
      "  0%|          | 0/2 [00:00<?, ?it/s]\r",
      " 50%|█████     | 1/2 [00:00<00:00,  3.23it/s]\r",
      "100%|██████████| 2/2 [00:00<00:00,  5.04it/s]\n"
     ]
    },
    {
     "name": "stdout",
     "output_type": "stream",
     "text": [
      "=> result\n",
      "* total: 106\n",
      "* correct: 37\n",
      "* accuracy: 34.9%\n",
      "* error: 65.1%\n",
      "* macro_f1: 15.7%\n",
      "epoch [119/1000] batch [20/44] time 0.034 (0.057) data 0.000 (0.015) loss 1.2568 (1.2278) lr 3.3831e-03 eta 0:36:35\n",
      "epoch [119/1000] batch [40/44] time 0.042 (0.049) data 0.000 (0.008) loss 0.9746 (1.3697) lr 3.3831e-03 eta 0:31:23\n",
      "Evaluate on the *val* set\n"
     ]
    },
    {
     "name": "stderr",
     "output_type": "stream",
     "text": [
      "\r",
      "  0%|          | 0/2 [00:00<?, ?it/s]\r",
      " 50%|█████     | 1/2 [00:00<00:00,  3.17it/s]\r",
      "100%|██████████| 2/2 [00:00<00:00,  5.06it/s]\n"
     ]
    },
    {
     "name": "stdout",
     "output_type": "stream",
     "text": [
      "=> result\n",
      "* total: 106\n",
      "* correct: 40\n",
      "* accuracy: 37.7%\n",
      "* error: 62.3%\n",
      "* macro_f1: 16.0%\n",
      "epoch [120/1000] batch [20/44] time 0.041 (0.055) data 0.000 (0.014) loss 1.7100 (1.3926) lr 3.3811e-03 eta 0:35:21\n",
      "epoch [120/1000] batch [40/44] time 0.040 (0.047) data 0.000 (0.007) loss 0.9951 (1.3680) lr 3.3811e-03 eta 0:30:30\n",
      "Evaluate on the *val* set\n"
     ]
    },
    {
     "name": "stderr",
     "output_type": "stream",
     "text": [
      "\r",
      "  0%|          | 0/2 [00:00<?, ?it/s]\r",
      " 50%|█████     | 1/2 [00:00<00:00,  3.32it/s]\r",
      "100%|██████████| 2/2 [00:00<00:00,  5.27it/s]\n"
     ]
    },
    {
     "name": "stdout",
     "output_type": "stream",
     "text": [
      "=> result\n",
      "* total: 106\n",
      "* correct: 46\n",
      "* accuracy: 43.4%\n",
      "* error: 56.6%\n",
      "* macro_f1: 21.7%\n",
      "epoch [121/1000] batch [20/44] time 0.039 (0.057) data 0.000 (0.015) loss 0.9380 (1.3925) lr 3.3791e-03 eta 0:36:36\n",
      "epoch [121/1000] batch [40/44] time 0.041 (0.048) data 0.000 (0.008) loss 0.2360 (1.3652) lr 3.3791e-03 eta 0:31:15\n",
      "Evaluate on the *val* set\n"
     ]
    },
    {
     "name": "stderr",
     "output_type": "stream",
     "text": [
      "\r",
      "  0%|          | 0/2 [00:00<?, ?it/s]\r",
      " 50%|█████     | 1/2 [00:00<00:00,  3.29it/s]\r",
      "100%|██████████| 2/2 [00:00<00:00,  5.22it/s]\n"
     ]
    },
    {
     "name": "stdout",
     "output_type": "stream",
     "text": [
      "=> result\n",
      "* total: 106\n",
      "* correct: 35\n",
      "* accuracy: 33.0%\n",
      "* error: 67.0%\n",
      "* macro_f1: 12.0%\n",
      "epoch [122/1000] batch [20/44] time 0.043 (0.056) data 0.000 (0.015) loss 2.7812 (1.7174) lr 3.3771e-03 eta 0:36:06\n",
      "epoch [122/1000] batch [40/44] time 0.041 (0.048) data 0.000 (0.007) loss 1.9932 (1.5466) lr 3.3771e-03 eta 0:31:03\n",
      "Evaluate on the *val* set\n"
     ]
    },
    {
     "name": "stderr",
     "output_type": "stream",
     "text": [
      "\r",
      "  0%|          | 0/2 [00:00<?, ?it/s]\r",
      " 50%|█████     | 1/2 [00:00<00:00,  3.24it/s]\r",
      "100%|██████████| 2/2 [00:00<00:00,  5.09it/s]\n"
     ]
    },
    {
     "name": "stdout",
     "output_type": "stream",
     "text": [
      "=> result\n",
      "* total: 106\n",
      "* correct: 41\n",
      "* accuracy: 38.7%\n",
      "* error: 61.3%\n",
      "* macro_f1: 17.3%\n",
      "epoch [123/1000] batch [20/44] time 0.037 (0.055) data 0.000 (0.015) loss 0.6050 (1.3421) lr 3.3751e-03 eta 0:35:14\n",
      "epoch [123/1000] batch [40/44] time 0.040 (0.047) data 0.000 (0.007) loss 2.2051 (1.3416) lr 3.3751e-03 eta 0:30:29\n",
      "Evaluate on the *val* set\n"
     ]
    },
    {
     "name": "stderr",
     "output_type": "stream",
     "text": [
      "\r",
      "  0%|          | 0/2 [00:00<?, ?it/s]\r",
      " 50%|█████     | 1/2 [00:00<00:00,  3.28it/s]\r",
      "100%|██████████| 2/2 [00:00<00:00,  5.23it/s]\n"
     ]
    },
    {
     "name": "stdout",
     "output_type": "stream",
     "text": [
      "=> result\n",
      "* total: 106\n",
      "* correct: 41\n",
      "* accuracy: 38.7%\n",
      "* error: 61.3%\n",
      "* macro_f1: 18.9%\n",
      "epoch [124/1000] batch [20/44] time 0.040 (0.055) data 0.000 (0.014) loss 1.0020 (1.3687) lr 3.3730e-03 eta 0:35:33\n",
      "epoch [124/1000] batch [40/44] time 0.042 (0.048) data 0.000 (0.007) loss 2.2578 (1.5054) lr 3.3730e-03 eta 0:30:36\n",
      "Evaluate on the *val* set\n"
     ]
    },
    {
     "name": "stderr",
     "output_type": "stream",
     "text": [
      "\r",
      "  0%|          | 0/2 [00:00<?, ?it/s]\r",
      " 50%|█████     | 1/2 [00:00<00:00,  3.34it/s]\r",
      "100%|██████████| 2/2 [00:00<00:00,  5.35it/s]\n"
     ]
    },
    {
     "name": "stdout",
     "output_type": "stream",
     "text": [
      "=> result\n",
      "* total: 106\n",
      "* correct: 40\n",
      "* accuracy: 37.7%\n",
      "* error: 62.3%\n",
      "* macro_f1: 13.3%\n",
      "epoch [125/1000] batch [20/44] time 0.035 (0.055) data 0.000 (0.015) loss 0.7500 (1.3162) lr 3.3710e-03 eta 0:35:02\n",
      "epoch [125/1000] batch [40/44] time 0.041 (0.047) data 0.000 (0.008) loss 1.5840 (1.3244) lr 3.3710e-03 eta 0:30:12\n",
      "Evaluate on the *val* set\n"
     ]
    },
    {
     "name": "stderr",
     "output_type": "stream",
     "text": [
      "\r",
      "  0%|          | 0/2 [00:00<?, ?it/s]\r",
      " 50%|█████     | 1/2 [00:00<00:00,  3.29it/s]\r",
      "100%|██████████| 2/2 [00:00<00:00,  5.12it/s]\n"
     ]
    },
    {
     "name": "stdout",
     "output_type": "stream",
     "text": [
      "=> result\n",
      "* total: 106\n",
      "* correct: 40\n",
      "* accuracy: 37.7%\n",
      "* error: 62.3%\n",
      "* macro_f1: 14.6%\n",
      "epoch [126/1000] batch [20/44] time 0.042 (0.054) data 0.000 (0.015) loss 2.0332 (1.5040) lr 3.3689e-03 eta 0:34:43\n",
      "epoch [126/1000] batch [40/44] time 0.042 (0.047) data 0.000 (0.008) loss 1.5225 (1.4401) lr 3.3689e-03 eta 0:30:02\n",
      "Evaluate on the *val* set\n"
     ]
    },
    {
     "name": "stderr",
     "output_type": "stream",
     "text": [
      "\r",
      "  0%|          | 0/2 [00:00<?, ?it/s]\r",
      " 50%|█████     | 1/2 [00:00<00:00,  3.15it/s]\r",
      "100%|██████████| 2/2 [00:00<00:00,  5.03it/s]\n"
     ]
    },
    {
     "name": "stdout",
     "output_type": "stream",
     "text": [
      "=> result\n",
      "* total: 106\n",
      "* correct: 44\n",
      "* accuracy: 41.5%\n",
      "* error: 58.5%\n",
      "* macro_f1: 19.8%\n",
      "epoch [127/1000] batch [20/44] time 0.043 (0.055) data 0.000 (0.014) loss 1.4346 (1.2808) lr 3.3668e-03 eta 0:34:56\n",
      "epoch [127/1000] batch [40/44] time 0.034 (0.047) data 0.000 (0.007) loss 1.9756 (1.2922) lr 3.3668e-03 eta 0:29:47\n",
      "Evaluate on the *val* set\n"
     ]
    },
    {
     "name": "stderr",
     "output_type": "stream",
     "text": [
      "\r",
      "  0%|          | 0/2 [00:00<?, ?it/s]\r",
      " 50%|█████     | 1/2 [00:00<00:00,  3.30it/s]\r",
      "100%|██████████| 2/2 [00:00<00:00,  5.25it/s]\n"
     ]
    },
    {
     "name": "stdout",
     "output_type": "stream",
     "text": [
      "=> result\n",
      "* total: 106\n",
      "* correct: 42\n",
      "* accuracy: 39.6%\n",
      "* error: 60.4%\n",
      "* macro_f1: 19.8%\n",
      "epoch [128/1000] batch [20/44] time 0.041 (0.055) data 0.000 (0.014) loss 2.8125 (1.3098) lr 3.3647e-03 eta 0:34:56\n",
      "epoch [128/1000] batch [40/44] time 0.038 (0.047) data 0.000 (0.007) loss 0.8262 (1.3299) lr 3.3647e-03 eta 0:30:17\n",
      "Evaluate on the *val* set\n"
     ]
    },
    {
     "name": "stderr",
     "output_type": "stream",
     "text": [
      "\r",
      "  0%|          | 0/2 [00:00<?, ?it/s]\r",
      " 50%|█████     | 1/2 [00:00<00:00,  3.25it/s]\r",
      "100%|██████████| 2/2 [00:00<00:00,  5.15it/s]\n"
     ]
    },
    {
     "name": "stdout",
     "output_type": "stream",
     "text": [
      "=> result\n",
      "* total: 106\n",
      "* correct: 40\n",
      "* accuracy: 37.7%\n",
      "* error: 62.3%\n",
      "* macro_f1: 17.2%\n",
      "epoch [129/1000] batch [20/44] time 0.042 (0.056) data 0.000 (0.015) loss 0.2944 (1.3391) lr 3.3625e-03 eta 0:35:57\n",
      "epoch [129/1000] batch [40/44] time 0.042 (0.049) data 0.000 (0.008) loss 0.7114 (1.4214) lr 3.3625e-03 eta 0:31:08\n",
      "Evaluate on the *val* set\n"
     ]
    },
    {
     "name": "stderr",
     "output_type": "stream",
     "text": [
      "\r",
      "  0%|          | 0/2 [00:00<?, ?it/s]\r",
      " 50%|█████     | 1/2 [00:00<00:00,  3.27it/s]\r",
      "100%|██████████| 2/2 [00:00<00:00,  5.23it/s]\n"
     ]
    },
    {
     "name": "stdout",
     "output_type": "stream",
     "text": [
      "=> result\n",
      "* total: 106\n",
      "* correct: 36\n",
      "* accuracy: 34.0%\n",
      "* error: 66.0%\n",
      "* macro_f1: 18.9%\n",
      "epoch [130/1000] batch [20/44] time 0.039 (0.055) data 0.000 (0.014) loss 2.2617 (1.3948) lr 3.3604e-03 eta 0:35:24\n",
      "epoch [130/1000] batch [40/44] time 0.035 (0.048) data 0.000 (0.007) loss 0.9087 (1.3880) lr 3.3604e-03 eta 0:30:40\n",
      "Evaluate on the *val* set\n"
     ]
    },
    {
     "name": "stderr",
     "output_type": "stream",
     "text": [
      "\r",
      "  0%|          | 0/2 [00:00<?, ?it/s]\r",
      " 50%|█████     | 1/2 [00:00<00:00,  3.27it/s]\r",
      "100%|██████████| 2/2 [00:00<00:00,  4.98it/s]\n"
     ]
    },
    {
     "name": "stdout",
     "output_type": "stream",
     "text": [
      "=> result\n",
      "* total: 106\n",
      "* correct: 43\n",
      "* accuracy: 40.6%\n",
      "* error: 59.4%\n",
      "* macro_f1: 19.6%\n",
      "epoch [131/1000] batch [20/44] time 0.041 (0.057) data 0.000 (0.014) loss 1.2432 (1.2046) lr 3.3582e-03 eta 0:36:08\n",
      "epoch [131/1000] batch [40/44] time 0.038 (0.048) data 0.000 (0.007) loss 2.6621 (1.3684) lr 3.3582e-03 eta 0:30:39\n",
      "Evaluate on the *val* set\n"
     ]
    },
    {
     "name": "stderr",
     "output_type": "stream",
     "text": [
      "\r",
      "  0%|          | 0/2 [00:00<?, ?it/s]\r",
      " 50%|█████     | 1/2 [00:00<00:00,  3.28it/s]\r",
      "100%|██████████| 2/2 [00:00<00:00,  5.14it/s]\n"
     ]
    },
    {
     "name": "stdout",
     "output_type": "stream",
     "text": [
      "=> result\n",
      "* total: 106\n",
      "* correct: 44\n",
      "* accuracy: 41.5%\n",
      "* error: 58.5%\n",
      "* macro_f1: 21.8%\n",
      "epoch [132/1000] batch [20/44] time 0.039 (0.059) data 0.000 (0.016) loss 1.8809 (1.4385) lr 3.3561e-03 eta 0:37:29\n",
      "epoch [132/1000] batch [40/44] time 0.042 (0.050) data 0.000 (0.008) loss 1.0293 (1.3957) lr 3.3561e-03 eta 0:31:33\n",
      "Evaluate on the *val* set\n"
     ]
    },
    {
     "name": "stderr",
     "output_type": "stream",
     "text": [
      "\r",
      "  0%|          | 0/2 [00:00<?, ?it/s]\r",
      " 50%|█████     | 1/2 [00:00<00:00,  3.24it/s]\r",
      "100%|██████████| 2/2 [00:00<00:00,  5.22it/s]\n"
     ]
    },
    {
     "name": "stdout",
     "output_type": "stream",
     "text": [
      "=> result\n",
      "* total: 106\n",
      "* correct: 43\n",
      "* accuracy: 40.6%\n",
      "* error: 59.4%\n",
      "* macro_f1: 17.8%\n",
      "epoch [133/1000] batch [20/44] time 0.036 (0.058) data 0.000 (0.015) loss 0.8643 (1.2963) lr 3.3539e-03 eta 0:36:37\n",
      "epoch [133/1000] batch [40/44] time 0.042 (0.049) data 0.000 (0.007) loss 1.8096 (1.3439) lr 3.3539e-03 eta 0:31:04\n",
      "Evaluate on the *val* set\n"
     ]
    },
    {
     "name": "stderr",
     "output_type": "stream",
     "text": [
      "\r",
      "  0%|          | 0/2 [00:00<?, ?it/s]\r",
      " 50%|█████     | 1/2 [00:00<00:00,  3.25it/s]\r",
      "100%|██████████| 2/2 [00:00<00:00,  4.93it/s]\n"
     ]
    },
    {
     "name": "stdout",
     "output_type": "stream",
     "text": [
      "=> result\n",
      "* total: 106\n",
      "* correct: 45\n",
      "* accuracy: 42.5%\n",
      "* error: 57.5%\n",
      "* macro_f1: 20.1%\n",
      "epoch [134/1000] batch [20/44] time 0.038 (0.055) data 0.000 (0.015) loss 2.1914 (1.2889) lr 3.3517e-03 eta 0:35:15\n",
      "epoch [134/1000] batch [40/44] time 0.039 (0.048) data 0.000 (0.008) loss 2.2715 (1.3431) lr 3.3517e-03 eta 0:30:22\n",
      "Evaluate on the *val* set\n"
     ]
    },
    {
     "name": "stderr",
     "output_type": "stream",
     "text": [
      "\r",
      "  0%|          | 0/2 [00:00<?, ?it/s]\r",
      " 50%|█████     | 1/2 [00:00<00:00,  3.30it/s]\r",
      "100%|██████████| 2/2 [00:00<00:00,  5.05it/s]\n"
     ]
    },
    {
     "name": "stdout",
     "output_type": "stream",
     "text": [
      "=> result\n",
      "* total: 106\n",
      "* correct: 45\n",
      "* accuracy: 42.5%\n",
      "* error: 57.5%\n",
      "* macro_f1: 21.7%\n",
      "epoch [135/1000] batch [20/44] time 0.037 (0.056) data 0.000 (0.014) loss 0.8467 (1.3577) lr 3.3494e-03 eta 0:35:28\n",
      "epoch [135/1000] batch [40/44] time 0.040 (0.048) data 0.000 (0.007) loss 1.1699 (1.3401) lr 3.3494e-03 eta 0:30:22\n",
      "Evaluate on the *val* set\n"
     ]
    },
    {
     "name": "stderr",
     "output_type": "stream",
     "text": [
      "\r",
      "  0%|          | 0/2 [00:00<?, ?it/s]\r",
      " 50%|█████     | 1/2 [00:00<00:00,  3.31it/s]\r",
      "100%|██████████| 2/2 [00:00<00:00,  5.26it/s]\n"
     ]
    },
    {
     "name": "stdout",
     "output_type": "stream",
     "text": [
      "=> result\n",
      "* total: 106\n",
      "* correct: 40\n",
      "* accuracy: 37.7%\n",
      "* error: 62.3%\n",
      "* macro_f1: 17.2%\n",
      "epoch [136/1000] batch [20/44] time 0.041 (0.056) data 0.000 (0.014) loss 1.2334 (1.2591) lr 3.3472e-03 eta 0:35:11\n",
      "epoch [136/1000] batch [40/44] time 0.036 (0.048) data 0.000 (0.007) loss 2.3633 (1.3563) lr 3.3472e-03 eta 0:30:06\n",
      "Evaluate on the *val* set\n"
     ]
    },
    {
     "name": "stderr",
     "output_type": "stream",
     "text": [
      "\r",
      "  0%|          | 0/2 [00:00<?, ?it/s]\r",
      " 50%|█████     | 1/2 [00:00<00:00,  3.18it/s]\r",
      "100%|██████████| 2/2 [00:00<00:00,  5.06it/s]\n"
     ]
    },
    {
     "name": "stdout",
     "output_type": "stream",
     "text": [
      "=> result\n",
      "* total: 106\n",
      "* correct: 44\n",
      "* accuracy: 41.5%\n",
      "* error: 58.5%\n",
      "* macro_f1: 19.0%\n",
      "epoch [137/1000] batch [20/44] time 0.042 (0.057) data 0.000 (0.015) loss 1.5508 (1.3036) lr 3.3450e-03 eta 0:35:56\n",
      "epoch [137/1000] batch [40/44] time 0.043 (0.049) data 0.000 (0.007) loss 0.8022 (1.3162) lr 3.3450e-03 eta 0:30:58\n",
      "Evaluate on the *val* set\n"
     ]
    },
    {
     "name": "stderr",
     "output_type": "stream",
     "text": [
      "\r",
      "  0%|          | 0/2 [00:00<?, ?it/s]\r",
      " 50%|█████     | 1/2 [00:00<00:00,  3.28it/s]\r",
      "100%|██████████| 2/2 [00:00<00:00,  5.21it/s]\n"
     ]
    },
    {
     "name": "stdout",
     "output_type": "stream",
     "text": [
      "=> result\n",
      "* total: 106\n",
      "* correct: 42\n",
      "* accuracy: 39.6%\n",
      "* error: 60.4%\n",
      "* macro_f1: 20.2%\n",
      "epoch [138/1000] batch [20/44] time 0.039 (0.055) data 0.000 (0.015) loss 1.3779 (1.3903) lr 3.3427e-03 eta 0:34:54\n",
      "epoch [138/1000] batch [40/44] time 0.034 (0.047) data 0.000 (0.007) loss 0.5767 (1.3982) lr 3.3427e-03 eta 0:29:47\n",
      "Evaluate on the *val* set\n"
     ]
    },
    {
     "name": "stderr",
     "output_type": "stream",
     "text": [
      "\r",
      "  0%|          | 0/2 [00:00<?, ?it/s]\r",
      " 50%|█████     | 1/2 [00:00<00:00,  3.31it/s]\r",
      "100%|██████████| 2/2 [00:00<00:00,  5.29it/s]\n"
     ]
    },
    {
     "name": "stdout",
     "output_type": "stream",
     "text": [
      "=> result\n",
      "* total: 106\n",
      "* correct: 41\n",
      "* accuracy: 38.7%\n",
      "* error: 61.3%\n",
      "* macro_f1: 19.9%\n",
      "epoch [139/1000] batch [20/44] time 0.040 (0.053) data 0.000 (0.014) loss 1.3291 (1.3424) lr 3.3404e-03 eta 0:33:27\n",
      "epoch [139/1000] batch [40/44] time 0.040 (0.046) data 0.000 (0.007) loss 1.5430 (1.2971) lr 3.3404e-03 eta 0:29:20\n",
      "Evaluate on the *val* set\n"
     ]
    },
    {
     "name": "stderr",
     "output_type": "stream",
     "text": [
      "\r",
      "  0%|          | 0/2 [00:00<?, ?it/s]\r",
      " 50%|█████     | 1/2 [00:00<00:00,  3.37it/s]\r",
      "100%|██████████| 2/2 [00:00<00:00,  5.32it/s]\n"
     ]
    },
    {
     "name": "stdout",
     "output_type": "stream",
     "text": [
      "=> result\n",
      "* total: 106\n",
      "* correct: 39\n",
      "* accuracy: 36.8%\n",
      "* error: 63.2%\n",
      "* macro_f1: 17.9%\n",
      "epoch [140/1000] batch [20/44] time 0.039 (0.059) data 0.000 (0.016) loss 2.3906 (1.3332) lr 3.3381e-03 eta 0:37:03\n",
      "epoch [140/1000] batch [40/44] time 0.040 (0.047) data 0.000 (0.008) loss 1.8291 (1.3166) lr 3.3381e-03 eta 0:29:23\n",
      "Evaluate on the *val* set\n"
     ]
    },
    {
     "name": "stderr",
     "output_type": "stream",
     "text": [
      "\r",
      "  0%|          | 0/2 [00:00<?, ?it/s]\r",
      " 50%|█████     | 1/2 [00:00<00:00,  3.28it/s]\r",
      "100%|██████████| 2/2 [00:00<00:00,  5.19it/s]\n"
     ]
    },
    {
     "name": "stdout",
     "output_type": "stream",
     "text": [
      "=> result\n",
      "* total: 106\n",
      "* correct: 42\n",
      "* accuracy: 39.6%\n",
      "* error: 60.4%\n",
      "* macro_f1: 14.9%\n",
      "epoch [141/1000] batch [20/44] time 0.048 (0.057) data 0.000 (0.015) loss 0.8794 (1.3517) lr 3.3358e-03 eta 0:35:37\n",
      "epoch [141/1000] batch [40/44] time 0.038 (0.048) data 0.000 (0.008) loss 0.9849 (1.3197) lr 3.3358e-03 eta 0:30:26\n",
      "Evaluate on the *val* set\n"
     ]
    },
    {
     "name": "stderr",
     "output_type": "stream",
     "text": [
      "\r",
      "  0%|          | 0/2 [00:00<?, ?it/s]\r",
      " 50%|█████     | 1/2 [00:00<00:00,  3.33it/s]\r",
      "100%|██████████| 2/2 [00:00<00:00,  5.25it/s]\n"
     ]
    },
    {
     "name": "stdout",
     "output_type": "stream",
     "text": [
      "=> result\n",
      "* total: 106\n",
      "* correct: 45\n",
      "* accuracy: 42.5%\n",
      "* error: 57.5%\n",
      "* macro_f1: 25.2%\n",
      "epoch [142/1000] batch [20/44] time 0.036 (0.058) data 0.000 (0.017) loss 0.3462 (1.4013) lr 3.3334e-03 eta 0:36:27\n",
      "epoch [142/1000] batch [40/44] time 0.038 (0.049) data 0.000 (0.008) loss 2.0449 (1.3600) lr 3.3334e-03 eta 0:30:59\n",
      "Evaluate on the *val* set\n"
     ]
    },
    {
     "name": "stderr",
     "output_type": "stream",
     "text": [
      "\r",
      "  0%|          | 0/2 [00:00<?, ?it/s]\r",
      " 50%|█████     | 1/2 [00:00<00:00,  3.25it/s]\r",
      "100%|██████████| 2/2 [00:00<00:00,  4.95it/s]\n"
     ]
    },
    {
     "name": "stdout",
     "output_type": "stream",
     "text": [
      "=> result\n",
      "* total: 106\n",
      "* correct: 42\n",
      "* accuracy: 39.6%\n",
      "* error: 60.4%\n",
      "* macro_f1: 22.2%\n",
      "epoch [143/1000] batch [20/44] time 0.037 (0.058) data 0.000 (0.017) loss 0.6523 (1.3472) lr 3.3311e-03 eta 0:36:26\n",
      "epoch [143/1000] batch [40/44] time 0.041 (0.049) data 0.000 (0.009) loss 1.0137 (1.2809) lr 3.3311e-03 eta 0:30:57\n",
      "Evaluate on the *val* set\n"
     ]
    },
    {
     "name": "stderr",
     "output_type": "stream",
     "text": [
      "\r",
      "  0%|          | 0/2 [00:00<?, ?it/s]\r",
      " 50%|█████     | 1/2 [00:00<00:00,  3.30it/s]\r",
      "100%|██████████| 2/2 [00:00<00:00,  5.25it/s]\n"
     ]
    },
    {
     "name": "stdout",
     "output_type": "stream",
     "text": [
      "=> result\n",
      "* total: 106\n",
      "* correct: 45\n",
      "* accuracy: 42.5%\n",
      "* error: 57.5%\n",
      "* macro_f1: 20.6%\n",
      "epoch [144/1000] batch [20/44] time 0.044 (0.057) data 0.000 (0.015) loss 1.7930 (1.2137) lr 3.3287e-03 eta 0:35:48\n",
      "epoch [144/1000] batch [40/44] time 0.039 (0.048) data 0.000 (0.008) loss 1.1543 (1.2778) lr 3.3287e-03 eta 0:30:03\n",
      "Evaluate on the *val* set\n"
     ]
    },
    {
     "name": "stderr",
     "output_type": "stream",
     "text": [
      "\r",
      "  0%|          | 0/2 [00:00<?, ?it/s]\r",
      " 50%|█████     | 1/2 [00:00<00:00,  3.36it/s]\r",
      "100%|██████████| 2/2 [00:00<00:00,  5.33it/s]\n"
     ]
    },
    {
     "name": "stdout",
     "output_type": "stream",
     "text": [
      "=> result\n",
      "* total: 106\n",
      "* correct: 39\n",
      "* accuracy: 36.8%\n",
      "* error: 63.2%\n",
      "* macro_f1: 16.5%\n",
      "epoch [145/1000] batch [20/44] time 0.042 (0.057) data 0.000 (0.016) loss 0.6240 (1.1386) lr 3.3264e-03 eta 0:35:53\n",
      "epoch [145/1000] batch [40/44] time 0.042 (0.049) data 0.000 (0.008) loss 2.4688 (1.2291) lr 3.3264e-03 eta 0:30:37\n",
      "Evaluate on the *val* set\n"
     ]
    },
    {
     "name": "stderr",
     "output_type": "stream",
     "text": [
      "\r",
      "  0%|          | 0/2 [00:00<?, ?it/s]\r",
      " 50%|█████     | 1/2 [00:00<00:00,  3.21it/s]\r",
      "100%|██████████| 2/2 [00:00<00:00,  5.13it/s]\n"
     ]
    },
    {
     "name": "stdout",
     "output_type": "stream",
     "text": [
      "=> result\n",
      "* total: 106\n",
      "* correct: 46\n",
      "* accuracy: 43.4%\n",
      "* error: 56.6%\n",
      "* macro_f1: 22.1%\n",
      "epoch [146/1000] batch [20/44] time 0.044 (0.056) data 0.000 (0.015) loss 1.1133 (1.2677) lr 3.3240e-03 eta 0:34:59\n",
      "epoch [146/1000] batch [40/44] time 0.036 (0.048) data 0.000 (0.008) loss 1.6436 (1.3397) lr 3.3240e-03 eta 0:29:56\n",
      "Evaluate on the *val* set\n"
     ]
    },
    {
     "name": "stderr",
     "output_type": "stream",
     "text": [
      "\r",
      "  0%|          | 0/2 [00:00<?, ?it/s]\r",
      " 50%|█████     | 1/2 [00:00<00:00,  3.25it/s]\r",
      "100%|██████████| 2/2 [00:00<00:00,  5.13it/s]\n"
     ]
    },
    {
     "name": "stdout",
     "output_type": "stream",
     "text": [
      "=> result\n",
      "* total: 106\n",
      "* correct: 40\n",
      "* accuracy: 37.7%\n",
      "* error: 62.3%\n",
      "* macro_f1: 16.7%\n",
      "epoch [147/1000] batch [20/44] time 0.040 (0.056) data 0.000 (0.014) loss 1.7666 (1.1558) lr 3.3215e-03 eta 0:35:19\n",
      "epoch [147/1000] batch [40/44] time 0.041 (0.048) data 0.000 (0.007) loss 0.3760 (1.2929) lr 3.3215e-03 eta 0:30:09\n",
      "Evaluate on the *val* set\n"
     ]
    },
    {
     "name": "stderr",
     "output_type": "stream",
     "text": [
      "\r",
      "  0%|          | 0/2 [00:00<?, ?it/s]\r",
      " 50%|█████     | 1/2 [00:00<00:00,  3.33it/s]\r",
      "100%|██████████| 2/2 [00:00<00:00,  5.03it/s]\n"
     ]
    },
    {
     "name": "stdout",
     "output_type": "stream",
     "text": [
      "=> result\n",
      "* total: 106\n",
      "* correct: 39\n",
      "* accuracy: 36.8%\n",
      "* error: 63.2%\n",
      "* macro_f1: 16.9%\n",
      "epoch [148/1000] batch [20/44] time 0.042 (0.057) data 0.000 (0.016) loss 2.9746 (1.2086) lr 3.3191e-03 eta 0:35:56\n",
      "epoch [148/1000] batch [40/44] time 0.036 (0.048) data 0.000 (0.008) loss 2.2285 (1.3578) lr 3.3191e-03 eta 0:30:08\n",
      "Evaluate on the *val* set\n"
     ]
    },
    {
     "name": "stderr",
     "output_type": "stream",
     "text": [
      "\r",
      "  0%|          | 0/2 [00:00<?, ?it/s]\r",
      " 50%|█████     | 1/2 [00:00<00:00,  3.27it/s]\r",
      "100%|██████████| 2/2 [00:00<00:00,  5.20it/s]\n"
     ]
    },
    {
     "name": "stdout",
     "output_type": "stream",
     "text": [
      "=> result\n",
      "* total: 106\n",
      "* correct: 43\n",
      "* accuracy: 40.6%\n",
      "* error: 59.4%\n",
      "* macro_f1: 21.5%\n",
      "epoch [149/1000] batch [20/44] time 0.042 (0.055) data 0.000 (0.014) loss 0.3931 (1.0985) lr 3.3167e-03 eta 0:34:15\n",
      "epoch [149/1000] batch [40/44] time 0.037 (0.047) data 0.000 (0.007) loss 1.9678 (1.2131) lr 3.3167e-03 eta 0:29:37\n",
      "Evaluate on the *val* set\n"
     ]
    },
    {
     "name": "stderr",
     "output_type": "stream",
     "text": [
      "\r",
      "  0%|          | 0/2 [00:00<?, ?it/s]\r",
      " 50%|█████     | 1/2 [00:00<00:00,  3.15it/s]\r",
      "100%|██████████| 2/2 [00:00<00:00,  5.07it/s]\n"
     ]
    },
    {
     "name": "stdout",
     "output_type": "stream",
     "text": [
      "=> result\n",
      "* total: 106\n",
      "* correct: 45\n",
      "* accuracy: 42.5%\n",
      "* error: 57.5%\n",
      "* macro_f1: 24.5%\n",
      "epoch [150/1000] batch [20/44] time 0.036 (0.055) data 0.000 (0.014) loss 0.5571 (1.2575) lr 3.3142e-03 eta 0:34:11\n",
      "epoch [150/1000] batch [40/44] time 0.039 (0.048) data 0.000 (0.007) loss 0.7031 (1.2874) lr 3.3142e-03 eta 0:29:42\n",
      "Evaluate on the *val* set\n"
     ]
    },
    {
     "name": "stderr",
     "output_type": "stream",
     "text": [
      "\r",
      "  0%|          | 0/2 [00:00<?, ?it/s]\r",
      " 50%|█████     | 1/2 [00:00<00:00,  3.28it/s]\r",
      "100%|██████████| 2/2 [00:00<00:00,  5.22it/s]\n"
     ]
    },
    {
     "name": "stdout",
     "output_type": "stream",
     "text": [
      "=> result\n",
      "* total: 106\n",
      "* correct: 40\n",
      "* accuracy: 37.7%\n",
      "* error: 62.3%\n",
      "* macro_f1: 19.2%\n",
      "epoch [151/1000] batch [20/44] time 0.041 (0.057) data 0.000 (0.015) loss 1.0225 (1.3406) lr 3.3117e-03 eta 0:35:29\n",
      "epoch [151/1000] batch [40/44] time 0.041 (0.048) data 0.000 (0.008) loss 0.4050 (1.3216) lr 3.3117e-03 eta 0:29:59\n",
      "Evaluate on the *val* set\n"
     ]
    },
    {
     "name": "stderr",
     "output_type": "stream",
     "text": [
      "\r",
      "  0%|          | 0/2 [00:00<?, ?it/s]\r",
      " 50%|█████     | 1/2 [00:00<00:00,  3.22it/s]\r",
      "100%|██████████| 2/2 [00:00<00:00,  5.21it/s]\n"
     ]
    },
    {
     "name": "stdout",
     "output_type": "stream",
     "text": [
      "=> result\n",
      "* total: 106\n",
      "* correct: 45\n",
      "* accuracy: 42.5%\n",
      "* error: 57.5%\n",
      "* macro_f1: 28.0%\n",
      "epoch [152/1000] batch [20/44] time 0.040 (0.059) data 0.000 (0.016) loss 1.5430 (1.2422) lr 3.3093e-03 eta 0:36:29\n",
      "epoch [152/1000] batch [40/44] time 0.041 (0.049) data 0.000 (0.008) loss 0.6919 (1.3039) lr 3.3093e-03 eta 0:30:42\n",
      "Evaluate on the *val* set\n"
     ]
    },
    {
     "name": "stderr",
     "output_type": "stream",
     "text": [
      "\r",
      "  0%|          | 0/2 [00:00<?, ?it/s]\r",
      " 50%|█████     | 1/2 [00:00<00:00,  3.27it/s]\r",
      "100%|██████████| 2/2 [00:00<00:00,  5.14it/s]\n"
     ]
    },
    {
     "name": "stdout",
     "output_type": "stream",
     "text": [
      "=> result\n",
      "* total: 106\n",
      "* correct: 43\n",
      "* accuracy: 40.6%\n",
      "* error: 59.4%\n",
      "* macro_f1: 20.3%\n",
      "epoch [153/1000] batch [20/44] time 0.043 (0.055) data 0.000 (0.016) loss 1.4121 (1.1007) lr 3.3068e-03 eta 0:33:55\n",
      "epoch [153/1000] batch [40/44] time 0.041 (0.047) data 0.000 (0.008) loss 1.5410 (1.1962) lr 3.3068e-03 eta 0:29:17\n",
      "Evaluate on the *val* set\n"
     ]
    },
    {
     "name": "stderr",
     "output_type": "stream",
     "text": [
      "\r",
      "  0%|          | 0/2 [00:00<?, ?it/s]\r",
      " 50%|█████     | 1/2 [00:00<00:00,  3.30it/s]\r",
      "100%|██████████| 2/2 [00:00<00:00,  5.23it/s]\n"
     ]
    },
    {
     "name": "stdout",
     "output_type": "stream",
     "text": [
      "=> result\n",
      "* total: 106\n",
      "* correct: 44\n",
      "* accuracy: 41.5%\n",
      "* error: 58.5%\n",
      "* macro_f1: 21.5%\n",
      "epoch [154/1000] batch [20/44] time 0.035 (0.056) data 0.000 (0.014) loss 0.8555 (1.4848) lr 3.3042e-03 eta 0:34:36\n",
      "epoch [154/1000] batch [40/44] time 0.035 (0.048) data 0.000 (0.007) loss 0.9619 (1.4589) lr 3.3042e-03 eta 0:29:35\n",
      "Evaluate on the *val* set\n"
     ]
    },
    {
     "name": "stderr",
     "output_type": "stream",
     "text": [
      "\r",
      "  0%|          | 0/2 [00:00<?, ?it/s]\r",
      " 50%|█████     | 1/2 [00:00<00:00,  3.24it/s]\r",
      "100%|██████████| 2/2 [00:00<00:00,  5.19it/s]\n"
     ]
    },
    {
     "name": "stdout",
     "output_type": "stream",
     "text": [
      "=> result\n",
      "* total: 106\n",
      "* correct: 40\n",
      "* accuracy: 37.7%\n",
      "* error: 62.3%\n",
      "* macro_f1: 18.2%\n",
      "epoch [155/1000] batch [20/44] time 0.043 (0.056) data 0.000 (0.015) loss 1.4053 (1.2447) lr 3.3017e-03 eta 0:34:48\n",
      "epoch [155/1000] batch [40/44] time 0.041 (0.049) data 0.000 (0.007) loss 1.1719 (1.2793) lr 3.3017e-03 eta 0:30:07\n",
      "Evaluate on the *val* set\n"
     ]
    },
    {
     "name": "stderr",
     "output_type": "stream",
     "text": [
      "\r",
      "  0%|          | 0/2 [00:00<?, ?it/s]\r",
      " 50%|█████     | 1/2 [00:00<00:00,  3.28it/s]\r",
      "100%|██████████| 2/2 [00:00<00:00,  5.11it/s]\n"
     ]
    },
    {
     "name": "stdout",
     "output_type": "stream",
     "text": [
      "=> result\n",
      "* total: 106\n",
      "* correct: 41\n",
      "* accuracy: 38.7%\n",
      "* error: 61.3%\n",
      "* macro_f1: 25.7%\n",
      "epoch [156/1000] batch [20/44] time 0.043 (0.054) data 0.000 (0.014) loss 1.4541 (1.3350) lr 3.2992e-03 eta 0:33:11\n",
      "epoch [156/1000] batch [40/44] time 0.040 (0.047) data 0.000 (0.007) loss 0.8906 (1.2877) lr 3.2992e-03 eta 0:28:47\n",
      "Evaluate on the *val* set\n"
     ]
    },
    {
     "name": "stderr",
     "output_type": "stream",
     "text": [
      "\r",
      "  0%|          | 0/2 [00:00<?, ?it/s]\r",
      " 50%|█████     | 1/2 [00:00<00:00,  3.15it/s]\r",
      "100%|██████████| 2/2 [00:00<00:00,  5.05it/s]\n"
     ]
    },
    {
     "name": "stdout",
     "output_type": "stream",
     "text": [
      "=> result\n",
      "* total: 106\n",
      "* correct: 42\n",
      "* accuracy: 39.6%\n",
      "* error: 60.4%\n",
      "* macro_f1: 19.4%\n",
      "epoch [157/1000] batch [20/44] time 0.041 (0.057) data 0.000 (0.015) loss 1.8711 (1.2547) lr 3.2966e-03 eta 0:35:18\n",
      "epoch [157/1000] batch [40/44] time 0.039 (0.048) data 0.000 (0.007) loss 1.6377 (1.2862) lr 3.2966e-03 eta 0:29:28\n",
      "Evaluate on the *val* set\n"
     ]
    },
    {
     "name": "stderr",
     "output_type": "stream",
     "text": [
      "\r",
      "  0%|          | 0/2 [00:00<?, ?it/s]\r",
      " 50%|█████     | 1/2 [00:00<00:00,  3.24it/s]\r",
      "100%|██████████| 2/2 [00:00<00:00,  5.16it/s]\n"
     ]
    },
    {
     "name": "stdout",
     "output_type": "stream",
     "text": [
      "=> result\n",
      "* total: 106\n",
      "* correct: 40\n",
      "* accuracy: 37.7%\n",
      "* error: 62.3%\n",
      "* macro_f1: 19.6%\n",
      "epoch [158/1000] batch [20/44] time 0.039 (0.058) data 0.000 (0.016) loss 0.6914 (1.4347) lr 3.2940e-03 eta 0:35:55\n",
      "epoch [158/1000] batch [40/44] time 0.041 (0.049) data 0.000 (0.008) loss 2.0000 (1.2931) lr 3.2940e-03 eta 0:30:23\n",
      "Evaluate on the *val* set\n"
     ]
    },
    {
     "name": "stderr",
     "output_type": "stream",
     "text": [
      "\r",
      "  0%|          | 0/2 [00:00<?, ?it/s]\r",
      " 50%|█████     | 1/2 [00:00<00:00,  3.31it/s]\r",
      "100%|██████████| 2/2 [00:00<00:00,  5.20it/s]\n"
     ]
    },
    {
     "name": "stdout",
     "output_type": "stream",
     "text": [
      "=> result\n",
      "* total: 106\n",
      "* correct: 39\n",
      "* accuracy: 36.8%\n",
      "* error: 63.2%\n",
      "* macro_f1: 18.0%\n",
      "epoch [159/1000] batch [20/44] time 0.043 (0.057) data 0.000 (0.014) loss 2.0293 (1.3873) lr 3.2914e-03 eta 0:34:52\n",
      "epoch [159/1000] batch [40/44] time 0.038 (0.048) data 0.000 (0.007) loss 0.5205 (1.2682) lr 3.2914e-03 eta 0:29:53\n",
      "Evaluate on the *val* set\n"
     ]
    },
    {
     "name": "stderr",
     "output_type": "stream",
     "text": [
      "\r",
      "  0%|          | 0/2 [00:00<?, ?it/s]\r",
      " 50%|█████     | 1/2 [00:00<00:00,  3.33it/s]\r",
      "100%|██████████| 2/2 [00:00<00:00,  5.19it/s]\n"
     ]
    },
    {
     "name": "stdout",
     "output_type": "stream",
     "text": [
      "=> result\n",
      "* total: 106\n",
      "* correct: 47\n",
      "* accuracy: 44.3%\n",
      "* error: 55.7%\n",
      "* macro_f1: 23.5%\n",
      "Checkpoint saved to output/replica/MaPLePromptScene/vit_b16_c2_ep200_batch4_ctx4_depth12_cross_datasets_-1shots/seed1/MultiModalPromptSceneLearner/model-best.pth.tar\n",
      "epoch [160/1000] batch [20/44] time 0.043 (0.060) data 0.000 (0.018) loss 2.0254 (1.1506) lr 3.2888e-03 eta 0:37:03\n",
      "epoch [160/1000] batch [40/44] time 0.044 (0.050) data 0.000 (0.009) loss 0.9194 (1.2014) lr 3.2888e-03 eta 0:31:05\n",
      "Evaluate on the *val* set\n"
     ]
    },
    {
     "name": "stderr",
     "output_type": "stream",
     "text": [
      "\r",
      "  0%|          | 0/2 [00:00<?, ?it/s]\r",
      " 50%|█████     | 1/2 [00:00<00:00,  3.15it/s]\r",
      "100%|██████████| 2/2 [00:00<00:00,  5.03it/s]\n"
     ]
    },
    {
     "name": "stdout",
     "output_type": "stream",
     "text": [
      "=> result\n",
      "* total: 106\n",
      "* correct: 39\n",
      "* accuracy: 36.8%\n",
      "* error: 63.2%\n",
      "* macro_f1: 20.0%\n",
      "epoch [161/1000] batch [20/44] time 0.043 (0.055) data 0.000 (0.014) loss 0.6748 (1.1539) lr 3.2862e-03 eta 0:33:45\n",
      "epoch [161/1000] batch [40/44] time 0.043 (0.047) data 0.000 (0.007) loss 1.4375 (1.3270) lr 3.2862e-03 eta 0:29:03\n",
      "Evaluate on the *val* set\n"
     ]
    },
    {
     "name": "stderr",
     "output_type": "stream",
     "text": [
      "\r",
      "  0%|          | 0/2 [00:00<?, ?it/s]\r",
      " 50%|█████     | 1/2 [00:00<00:00,  3.29it/s]\r",
      "100%|██████████| 2/2 [00:00<00:00,  5.25it/s]\n"
     ]
    },
    {
     "name": "stdout",
     "output_type": "stream",
     "text": [
      "=> result\n",
      "* total: 106\n",
      "* correct: 41\n",
      "* accuracy: 38.7%\n",
      "* error: 61.3%\n",
      "* macro_f1: 21.6%\n",
      "epoch [162/1000] batch [20/44] time 0.044 (0.056) data 0.000 (0.014) loss 1.2021 (1.1701) lr 3.2835e-03 eta 0:34:41\n",
      "epoch [162/1000] batch [40/44] time 0.042 (0.048) data 0.000 (0.007) loss 1.3428 (1.2478) lr 3.2835e-03 eta 0:29:37\n",
      "Evaluate on the *val* set\n"
     ]
    },
    {
     "name": "stderr",
     "output_type": "stream",
     "text": [
      "\r",
      "  0%|          | 0/2 [00:00<?, ?it/s]\r",
      " 50%|█████     | 1/2 [00:00<00:00,  3.12it/s]\r",
      "100%|██████████| 2/2 [00:00<00:00,  5.08it/s]\n"
     ]
    },
    {
     "name": "stdout",
     "output_type": "stream",
     "text": [
      "=> result\n",
      "* total: 106\n",
      "* correct: 44\n",
      "* accuracy: 41.5%\n",
      "* error: 58.5%\n",
      "* macro_f1: 23.6%\n",
      "epoch [163/1000] batch [20/44] time 0.036 (0.056) data 0.000 (0.015) loss 1.5459 (1.2669) lr 3.2809e-03 eta 0:34:41\n",
      "epoch [163/1000] batch [40/44] time 0.042 (0.049) data 0.000 (0.007) loss 1.1768 (1.2075) lr 3.2809e-03 eta 0:29:50\n",
      "Evaluate on the *val* set\n"
     ]
    },
    {
     "name": "stderr",
     "output_type": "stream",
     "text": [
      "\r",
      "  0%|          | 0/2 [00:00<?, ?it/s]\r",
      " 50%|█████     | 1/2 [00:00<00:00,  3.25it/s]\r",
      "100%|██████████| 2/2 [00:00<00:00,  5.18it/s]\n"
     ]
    },
    {
     "name": "stdout",
     "output_type": "stream",
     "text": [
      "=> result\n",
      "* total: 106\n",
      "* correct: 47\n",
      "* accuracy: 44.3%\n",
      "* error: 55.7%\n",
      "* macro_f1: 24.3%\n",
      "epoch [164/1000] batch [20/44] time 0.042 (0.056) data 0.000 (0.015) loss 0.9019 (1.1208) lr 3.2782e-03 eta 0:34:20\n",
      "epoch [164/1000] batch [40/44] time 0.041 (0.048) data 0.000 (0.007) loss 2.1621 (1.2336) lr 3.2782e-03 eta 0:29:41\n",
      "Evaluate on the *val* set\n"
     ]
    },
    {
     "name": "stderr",
     "output_type": "stream",
     "text": [
      "\r",
      "  0%|          | 0/2 [00:00<?, ?it/s]\r",
      " 50%|█████     | 1/2 [00:00<00:00,  3.29it/s]\r",
      "100%|██████████| 2/2 [00:00<00:00,  5.31it/s]\n"
     ]
    },
    {
     "name": "stdout",
     "output_type": "stream",
     "text": [
      "=> result\n",
      "* total: 106\n",
      "* correct: 46\n",
      "* accuracy: 43.4%\n",
      "* error: 56.6%\n",
      "* macro_f1: 21.7%\n",
      "epoch [165/1000] batch [20/44] time 0.040 (0.056) data 0.000 (0.015) loss 1.3018 (1.2080) lr 3.2755e-03 eta 0:34:08\n",
      "epoch [165/1000] batch [40/44] time 0.041 (0.047) data 0.000 (0.007) loss 0.9507 (1.2720) lr 3.2755e-03 eta 0:29:03\n",
      "Evaluate on the *val* set\n"
     ]
    },
    {
     "name": "stderr",
     "output_type": "stream",
     "text": [
      "\r",
      "  0%|          | 0/2 [00:00<?, ?it/s]\r",
      " 50%|█████     | 1/2 [00:00<00:00,  3.28it/s]\r",
      "100%|██████████| 2/2 [00:00<00:00,  5.24it/s]\n"
     ]
    },
    {
     "name": "stdout",
     "output_type": "stream",
     "text": [
      "=> result\n",
      "* total: 106\n",
      "* correct: 42\n",
      "* accuracy: 39.6%\n",
      "* error: 60.4%\n",
      "* macro_f1: 18.2%\n",
      "epoch [166/1000] batch [20/44] time 0.039 (0.054) data 0.000 (0.014) loss 1.4805 (1.2075) lr 3.2728e-03 eta 0:33:11\n",
      "epoch [166/1000] batch [40/44] time 0.034 (0.047) data 0.000 (0.007) loss 0.8770 (1.2210) lr 3.2728e-03 eta 0:28:39\n",
      "Evaluate on the *val* set\n"
     ]
    },
    {
     "name": "stderr",
     "output_type": "stream",
     "text": [
      "\r",
      "  0%|          | 0/2 [00:00<?, ?it/s]\r",
      " 50%|█████     | 1/2 [00:00<00:00,  3.32it/s]\r",
      "100%|██████████| 2/2 [00:00<00:00,  5.34it/s]\n"
     ]
    },
    {
     "name": "stdout",
     "output_type": "stream",
     "text": [
      "=> result\n",
      "* total: 106\n",
      "* correct: 45\n",
      "* accuracy: 42.5%\n",
      "* error: 57.5%\n",
      "* macro_f1: 24.2%\n",
      "epoch [167/1000] batch [20/44] time 0.041 (0.054) data 0.000 (0.014) loss 0.6694 (1.1847) lr 3.2701e-03 eta 0:32:55\n",
      "epoch [167/1000] batch [40/44] time 0.041 (0.047) data 0.000 (0.007) loss 1.6094 (1.1775) lr 3.2701e-03 eta 0:28:52\n",
      "Evaluate on the *val* set\n"
     ]
    },
    {
     "name": "stderr",
     "output_type": "stream",
     "text": [
      "\r",
      "  0%|          | 0/2 [00:00<?, ?it/s]\r",
      " 50%|█████     | 1/2 [00:00<00:00,  3.28it/s]\r",
      "100%|██████████| 2/2 [00:00<00:00,  5.23it/s]\n"
     ]
    },
    {
     "name": "stdout",
     "output_type": "stream",
     "text": [
      "=> result\n",
      "* total: 106\n",
      "* correct: 35\n",
      "* accuracy: 33.0%\n",
      "* error: 67.0%\n",
      "* macro_f1: 20.5%\n",
      "epoch [168/1000] batch [20/44] time 0.041 (0.056) data 0.000 (0.014) loss 0.6421 (1.1476) lr 3.2674e-03 eta 0:34:03\n",
      "epoch [168/1000] batch [40/44] time 0.035 (0.048) data 0.000 (0.007) loss 0.4902 (1.1866) lr 3.2674e-03 eta 0:29:06\n",
      "Evaluate on the *val* set\n"
     ]
    },
    {
     "name": "stderr",
     "output_type": "stream",
     "text": [
      "\r",
      "  0%|          | 0/2 [00:00<?, ?it/s]\r",
      " 50%|█████     | 1/2 [00:00<00:00,  3.35it/s]\r",
      "100%|██████████| 2/2 [00:00<00:00,  5.33it/s]\n"
     ]
    },
    {
     "name": "stdout",
     "output_type": "stream",
     "text": [
      "=> result\n",
      "* total: 106\n",
      "* correct: 44\n",
      "* accuracy: 41.5%\n",
      "* error: 58.5%\n",
      "* macro_f1: 23.5%\n",
      "epoch [169/1000] batch [20/44] time 0.043 (0.055) data 0.000 (0.015) loss 0.9204 (1.4228) lr 3.2646e-03 eta 0:33:38\n",
      "epoch [169/1000] batch [40/44] time 0.042 (0.047) data 0.000 (0.007) loss 0.8545 (1.3418) lr 3.2646e-03 eta 0:28:55\n",
      "Evaluate on the *val* set\n"
     ]
    },
    {
     "name": "stderr",
     "output_type": "stream",
     "text": [
      "\r",
      "  0%|          | 0/2 [00:00<?, ?it/s]\r",
      " 50%|█████     | 1/2 [00:00<00:00,  3.32it/s]\r",
      "100%|██████████| 2/2 [00:00<00:00,  5.24it/s]\n"
     ]
    },
    {
     "name": "stdout",
     "output_type": "stream",
     "text": [
      "=> result\n",
      "* total: 106\n",
      "* correct: 46\n",
      "* accuracy: 43.4%\n",
      "* error: 56.6%\n",
      "* macro_f1: 22.5%\n",
      "epoch [170/1000] batch [20/44] time 0.038 (0.056) data 0.000 (0.014) loss 0.5654 (1.2597) lr 3.2619e-03 eta 0:33:49\n",
      "epoch [170/1000] batch [40/44] time 0.039 (0.048) data 0.000 (0.007) loss 1.8164 (1.3179) lr 3.2619e-03 eta 0:29:12\n",
      "Evaluate on the *val* set\n"
     ]
    },
    {
     "name": "stderr",
     "output_type": "stream",
     "text": [
      "\r",
      "  0%|          | 0/2 [00:00<?, ?it/s]\r",
      " 50%|█████     | 1/2 [00:00<00:00,  3.27it/s]\r",
      "100%|██████████| 2/2 [00:00<00:00,  5.18it/s]\n"
     ]
    },
    {
     "name": "stdout",
     "output_type": "stream",
     "text": [
      "=> result\n",
      "* total: 106\n",
      "* correct: 45\n",
      "* accuracy: 42.5%\n",
      "* error: 57.5%\n",
      "* macro_f1: 23.4%\n",
      "epoch [171/1000] batch [20/44] time 0.041 (0.054) data 0.000 (0.014) loss 1.5684 (1.2432) lr 3.2591e-03 eta 0:32:44\n",
      "epoch [171/1000] batch [40/44] time 0.042 (0.047) data 0.000 (0.007) loss 0.6470 (1.2327) lr 3.2591e-03 eta 0:28:45\n",
      "Evaluate on the *val* set\n"
     ]
    },
    {
     "name": "stderr",
     "output_type": "stream",
     "text": [
      "\r",
      "  0%|          | 0/2 [00:00<?, ?it/s]\r",
      " 50%|█████     | 1/2 [00:00<00:00,  3.29it/s]\r",
      "100%|██████████| 2/2 [00:00<00:00,  5.26it/s]\n"
     ]
    },
    {
     "name": "stdout",
     "output_type": "stream",
     "text": [
      "=> result\n",
      "* total: 106\n",
      "* correct: 37\n",
      "* accuracy: 34.9%\n",
      "* error: 65.1%\n",
      "* macro_f1: 20.3%\n",
      "epoch [172/1000] batch [20/44] time 0.045 (0.057) data 0.000 (0.014) loss 1.9883 (1.2336) lr 3.2563e-03 eta 0:34:24\n",
      "epoch [172/1000] batch [40/44] time 0.039 (0.049) data 0.000 (0.007) loss 1.7031 (1.2989) lr 3.2563e-03 eta 0:29:27\n",
      "Evaluate on the *val* set\n"
     ]
    },
    {
     "name": "stderr",
     "output_type": "stream",
     "text": [
      "\r",
      "  0%|          | 0/2 [00:00<?, ?it/s]\r",
      " 50%|█████     | 1/2 [00:00<00:00,  3.25it/s]\r",
      "100%|██████████| 2/2 [00:00<00:00,  5.21it/s]\n"
     ]
    },
    {
     "name": "stdout",
     "output_type": "stream",
     "text": [
      "=> result\n",
      "* total: 106\n",
      "* correct: 38\n",
      "* accuracy: 35.8%\n",
      "* error: 64.2%\n",
      "* macro_f1: 18.1%\n",
      "epoch [173/1000] batch [20/44] time 0.037 (0.055) data 0.000 (0.015) loss 1.1611 (1.3183) lr 3.2535e-03 eta 0:33:36\n",
      "epoch [173/1000] batch [40/44] time 0.042 (0.048) data 0.000 (0.008) loss 1.4648 (1.2542) lr 3.2535e-03 eta 0:28:51\n",
      "Evaluate on the *val* set\n"
     ]
    },
    {
     "name": "stderr",
     "output_type": "stream",
     "text": [
      "\r",
      "  0%|          | 0/2 [00:00<?, ?it/s]\r",
      " 50%|█████     | 1/2 [00:00<00:00,  3.34it/s]\r",
      "100%|██████████| 2/2 [00:00<00:00,  5.24it/s]\n"
     ]
    },
    {
     "name": "stdout",
     "output_type": "stream",
     "text": [
      "=> result\n",
      "* total: 106\n",
      "* correct: 42\n",
      "* accuracy: 39.6%\n",
      "* error: 60.4%\n",
      "* macro_f1: 22.3%\n",
      "epoch [174/1000] batch [20/44] time 0.040 (0.054) data 0.000 (0.014) loss 0.6880 (1.1062) lr 3.2507e-03 eta 0:32:54\n",
      "epoch [174/1000] batch [40/44] time 0.039 (0.047) data 0.000 (0.007) loss 1.4980 (1.1877) lr 3.2507e-03 eta 0:28:22\n",
      "Evaluate on the *val* set\n"
     ]
    },
    {
     "name": "stderr",
     "output_type": "stream",
     "text": [
      "\r",
      "  0%|          | 0/2 [00:00<?, ?it/s]\r",
      " 50%|█████     | 1/2 [00:00<00:00,  3.34it/s]\r",
      "100%|██████████| 2/2 [00:00<00:00,  5.31it/s]\n"
     ]
    },
    {
     "name": "stdout",
     "output_type": "stream",
     "text": [
      "=> result\n",
      "* total: 106\n",
      "* correct: 43\n",
      "* accuracy: 40.6%\n",
      "* error: 59.4%\n",
      "* macro_f1: 21.6%\n",
      "epoch [175/1000] batch [20/44] time 0.040 (0.055) data 0.000 (0.014) loss 1.8506 (1.5127) lr 3.2478e-03 eta 0:33:15\n",
      "epoch [175/1000] batch [40/44] time 0.037 (0.047) data 0.000 (0.007) loss 0.9712 (1.4096) lr 3.2478e-03 eta 0:28:37\n",
      "Evaluate on the *val* set\n"
     ]
    },
    {
     "name": "stderr",
     "output_type": "stream",
     "text": [
      "\r",
      "  0%|          | 0/2 [00:00<?, ?it/s]\r",
      " 50%|█████     | 1/2 [00:00<00:00,  3.31it/s]\r",
      "100%|██████████| 2/2 [00:00<00:00,  5.29it/s]\n"
     ]
    },
    {
     "name": "stdout",
     "output_type": "stream",
     "text": [
      "=> result\n",
      "* total: 106\n",
      "* correct: 47\n",
      "* accuracy: 44.3%\n",
      "* error: 55.7%\n",
      "* macro_f1: 26.8%\n",
      "epoch [176/1000] batch [20/44] time 0.044 (0.059) data 0.000 (0.017) loss 0.2681 (0.9206) lr 3.2450e-03 eta 0:35:37\n",
      "epoch [176/1000] batch [40/44] time 0.037 (0.049) data 0.000 (0.008) loss 2.5879 (1.1660) lr 3.2450e-03 eta 0:29:41\n",
      "Evaluate on the *val* set\n"
     ]
    },
    {
     "name": "stderr",
     "output_type": "stream",
     "text": [
      "\r",
      "  0%|          | 0/2 [00:00<?, ?it/s]\r",
      " 50%|█████     | 1/2 [00:00<00:00,  3.33it/s]\r",
      "100%|██████████| 2/2 [00:00<00:00,  5.26it/s]\n"
     ]
    },
    {
     "name": "stdout",
     "output_type": "stream",
     "text": [
      "=> result\n",
      "* total: 106\n",
      "* correct: 45\n",
      "* accuracy: 42.5%\n",
      "* error: 57.5%\n",
      "* macro_f1: 26.3%\n",
      "epoch [177/1000] batch [20/44] time 0.040 (0.056) data 0.000 (0.014) loss 1.5693 (1.1248) lr 3.2421e-03 eta 0:34:01\n",
      "epoch [177/1000] batch [40/44] time 0.034 (0.048) data 0.000 (0.007) loss 1.5586 (1.1698) lr 3.2421e-03 eta 0:29:02\n",
      "Evaluate on the *val* set\n"
     ]
    },
    {
     "name": "stderr",
     "output_type": "stream",
     "text": [
      "\r",
      "  0%|          | 0/2 [00:00<?, ?it/s]\r",
      " 50%|█████     | 1/2 [00:00<00:00,  3.29it/s]\r",
      "100%|██████████| 2/2 [00:00<00:00,  5.10it/s]\n"
     ]
    },
    {
     "name": "stdout",
     "output_type": "stream",
     "text": [
      "=> result\n",
      "* total: 106\n",
      "* correct: 35\n",
      "* accuracy: 33.0%\n",
      "* error: 67.0%\n",
      "* macro_f1: 16.8%\n",
      "epoch [178/1000] batch [20/44] time 0.036 (0.053) data 0.000 (0.014) loss 1.5303 (1.1349) lr 3.2392e-03 eta 0:31:50\n",
      "epoch [178/1000] batch [40/44] time 0.041 (0.046) data 0.000 (0.007) loss 0.5820 (1.1808) lr 3.2392e-03 eta 0:27:51\n",
      "Evaluate on the *val* set\n"
     ]
    },
    {
     "name": "stderr",
     "output_type": "stream",
     "text": [
      "\r",
      "  0%|          | 0/2 [00:00<?, ?it/s]\r",
      " 50%|█████     | 1/2 [00:00<00:00,  3.30it/s]\r",
      "100%|██████████| 2/2 [00:00<00:00,  5.36it/s]\n"
     ]
    },
    {
     "name": "stdout",
     "output_type": "stream",
     "text": [
      "=> result\n",
      "* total: 106\n",
      "* correct: 44\n",
      "* accuracy: 41.5%\n",
      "* error: 58.5%\n",
      "* macro_f1: 25.0%\n",
      "epoch [179/1000] batch [20/44] time 0.040 (0.054) data 0.000 (0.015) loss 1.1748 (1.2214) lr 3.2363e-03 eta 0:32:46\n",
      "epoch [179/1000] batch [40/44] time 0.038 (0.047) data 0.000 (0.007) loss 2.1074 (1.1927) lr 3.2363e-03 eta 0:28:33\n",
      "Evaluate on the *val* set\n"
     ]
    },
    {
     "name": "stderr",
     "output_type": "stream",
     "text": [
      "\r",
      "  0%|          | 0/2 [00:00<?, ?it/s]\r",
      " 50%|█████     | 1/2 [00:00<00:00,  3.33it/s]\r",
      "100%|██████████| 2/2 [00:00<00:00,  5.28it/s]\n"
     ]
    },
    {
     "name": "stdout",
     "output_type": "stream",
     "text": [
      "=> result\n",
      "* total: 106\n",
      "* correct: 42\n",
      "* accuracy: 39.6%\n",
      "* error: 60.4%\n",
      "* macro_f1: 19.2%\n",
      "epoch [180/1000] batch [20/44] time 0.039 (0.054) data 0.000 (0.014) loss 1.1406 (1.0961) lr 3.2334e-03 eta 0:32:14\n",
      "epoch [180/1000] batch [40/44] time 0.040 (0.047) data 0.000 (0.007) loss 0.3953 (1.1653) lr 3.2334e-03 eta 0:28:09\n",
      "Evaluate on the *val* set\n"
     ]
    },
    {
     "name": "stderr",
     "output_type": "stream",
     "text": [
      "\r",
      "  0%|          | 0/2 [00:00<?, ?it/s]\r",
      " 50%|█████     | 1/2 [00:00<00:00,  3.36it/s]\r",
      "100%|██████████| 2/2 [00:00<00:00,  5.29it/s]\n"
     ]
    },
    {
     "name": "stdout",
     "output_type": "stream",
     "text": [
      "=> result\n",
      "* total: 106\n",
      "* correct: 42\n",
      "* accuracy: 39.6%\n",
      "* error: 60.4%\n",
      "* macro_f1: 21.4%\n",
      "epoch [181/1000] batch [20/44] time 0.039 (0.051) data 0.000 (0.014) loss 1.3779 (1.0377) lr 3.2305e-03 eta 0:30:34\n",
      "epoch [181/1000] batch [40/44] time 0.040 (0.045) data 0.000 (0.007) loss 2.3320 (1.1139) lr 3.2305e-03 eta 0:27:15\n",
      "Evaluate on the *val* set\n"
     ]
    },
    {
     "name": "stderr",
     "output_type": "stream",
     "text": [
      "\r",
      "  0%|          | 0/2 [00:00<?, ?it/s]\r",
      " 50%|█████     | 1/2 [00:00<00:00,  3.19it/s]\r",
      "100%|██████████| 2/2 [00:00<00:00,  5.26it/s]\n"
     ]
    },
    {
     "name": "stdout",
     "output_type": "stream",
     "text": [
      "=> result\n",
      "* total: 106\n",
      "* correct: 43\n",
      "* accuracy: 40.6%\n",
      "* error: 59.4%\n",
      "* macro_f1: 22.1%\n",
      "epoch [182/1000] batch [20/44] time 0.038 (0.055) data 0.000 (0.016) loss 1.5664 (1.0867) lr 3.2276e-03 eta 0:33:09\n",
      "epoch [182/1000] batch [40/44] time 0.038 (0.047) data 0.000 (0.008) loss 0.1721 (1.1017) lr 3.2276e-03 eta 0:28:09\n",
      "Evaluate on the *val* set\n"
     ]
    },
    {
     "name": "stderr",
     "output_type": "stream",
     "text": [
      "\r",
      "  0%|          | 0/2 [00:00<?, ?it/s]\r",
      " 50%|█████     | 1/2 [00:00<00:00,  3.28it/s]\r",
      "100%|██████████| 2/2 [00:00<00:00,  5.19it/s]\n"
     ]
    },
    {
     "name": "stdout",
     "output_type": "stream",
     "text": [
      "=> result\n",
      "* total: 106\n",
      "* correct: 43\n",
      "* accuracy: 40.6%\n",
      "* error: 59.4%\n",
      "* macro_f1: 19.6%\n",
      "epoch [183/1000] batch [20/44] time 0.040 (0.056) data 0.000 (0.015) loss 1.2617 (1.2657) lr 3.2246e-03 eta 0:33:27\n",
      "epoch [183/1000] batch [40/44] time 0.038 (0.048) data 0.000 (0.007) loss 0.9653 (1.2902) lr 3.2246e-03 eta 0:28:38\n",
      "Evaluate on the *val* set\n"
     ]
    },
    {
     "name": "stderr",
     "output_type": "stream",
     "text": [
      "\r",
      "  0%|          | 0/2 [00:00<?, ?it/s]\r",
      " 50%|█████     | 1/2 [00:00<00:00,  3.29it/s]\r",
      "100%|██████████| 2/2 [00:00<00:00,  5.12it/s]\n"
     ]
    },
    {
     "name": "stdout",
     "output_type": "stream",
     "text": [
      "=> result\n",
      "* total: 106\n",
      "* correct: 45\n",
      "* accuracy: 42.5%\n",
      "* error: 57.5%\n",
      "* macro_f1: 22.5%\n",
      "epoch [184/1000] batch [20/44] time 0.041 (0.057) data 0.000 (0.014) loss 1.8965 (1.0222) lr 3.2217e-03 eta 0:33:58\n",
      "epoch [184/1000] batch [40/44] time 0.036 (0.049) data 0.000 (0.007) loss 1.4756 (1.2593) lr 3.2217e-03 eta 0:29:02\n",
      "Evaluate on the *val* set\n"
     ]
    },
    {
     "name": "stderr",
     "output_type": "stream",
     "text": [
      "\r",
      "  0%|          | 0/2 [00:00<?, ?it/s]\r",
      " 50%|█████     | 1/2 [00:00<00:00,  3.33it/s]\r",
      "100%|██████████| 2/2 [00:00<00:00,  5.33it/s]\n"
     ]
    },
    {
     "name": "stdout",
     "output_type": "stream",
     "text": [
      "=> result\n",
      "* total: 106\n",
      "* correct: 39\n",
      "* accuracy: 36.8%\n",
      "* error: 63.2%\n",
      "* macro_f1: 18.6%\n",
      "epoch [185/1000] batch [20/44] time 0.037 (0.057) data 0.000 (0.014) loss 3.7051 (1.4322) lr 3.2187e-03 eta 0:33:59\n",
      "epoch [185/1000] batch [40/44] time 0.038 (0.049) data 0.000 (0.007) loss 2.1152 (1.3542) lr 3.2187e-03 eta 0:29:03\n",
      "Evaluate on the *val* set\n"
     ]
    },
    {
     "name": "stderr",
     "output_type": "stream",
     "text": [
      "\r",
      "  0%|          | 0/2 [00:00<?, ?it/s]\r",
      " 50%|█████     | 1/2 [00:00<00:00,  3.34it/s]\r",
      "100%|██████████| 2/2 [00:00<00:00,  5.29it/s]\n"
     ]
    },
    {
     "name": "stdout",
     "output_type": "stream",
     "text": [
      "=> result\n",
      "* total: 106\n",
      "* correct: 39\n",
      "* accuracy: 36.8%\n",
      "* error: 63.2%\n",
      "* macro_f1: 16.0%\n",
      "epoch [186/1000] batch [20/44] time 0.040 (0.055) data 0.000 (0.014) loss 1.0420 (1.3729) lr 3.2157e-03 eta 0:32:58\n",
      "epoch [186/1000] batch [40/44] time 0.041 (0.048) data 0.000 (0.007) loss 0.8530 (1.3531) lr 3.2157e-03 eta 0:28:35\n",
      "Evaluate on the *val* set\n"
     ]
    },
    {
     "name": "stderr",
     "output_type": "stream",
     "text": [
      "\r",
      "  0%|          | 0/2 [00:00<?, ?it/s]\r",
      " 50%|█████     | 1/2 [00:00<00:00,  3.18it/s]\r",
      "100%|██████████| 2/2 [00:00<00:00,  5.01it/s]\n"
     ]
    },
    {
     "name": "stdout",
     "output_type": "stream",
     "text": [
      "=> result\n",
      "* total: 106\n",
      "* correct: 44\n",
      "* accuracy: 41.5%\n",
      "* error: 58.5%\n",
      "* macro_f1: 22.8%\n",
      "epoch [187/1000] batch [20/44] time 0.040 (0.054) data 0.000 (0.015) loss 0.8931 (1.1642) lr 3.2127e-03 eta 0:32:13\n",
      "epoch [187/1000] batch [40/44] time 0.041 (0.047) data 0.000 (0.008) loss 0.5464 (1.1827) lr 3.2127e-03 eta 0:27:59\n",
      "Evaluate on the *val* set\n"
     ]
    },
    {
     "name": "stderr",
     "output_type": "stream",
     "text": [
      "\r",
      "  0%|          | 0/2 [00:00<?, ?it/s]\r",
      " 50%|█████     | 1/2 [00:00<00:00,  3.20it/s]\r",
      "100%|██████████| 2/2 [00:00<00:00,  5.22it/s]\n"
     ]
    },
    {
     "name": "stdout",
     "output_type": "stream",
     "text": [
      "=> result\n",
      "* total: 106\n",
      "* correct: 42\n",
      "* accuracy: 39.6%\n",
      "* error: 60.4%\n",
      "* macro_f1: 20.4%\n",
      "epoch [188/1000] batch [20/44] time 0.044 (0.055) data 0.000 (0.014) loss 1.0225 (1.2317) lr 3.2096e-03 eta 0:32:48\n",
      "epoch [188/1000] batch [40/44] time 0.042 (0.047) data 0.000 (0.007) loss 0.9785 (1.1843) lr 3.2096e-03 eta 0:28:07\n",
      "Evaluate on the *val* set\n"
     ]
    },
    {
     "name": "stderr",
     "output_type": "stream",
     "text": [
      "\r",
      "  0%|          | 0/2 [00:00<?, ?it/s]\r",
      " 50%|█████     | 1/2 [00:00<00:00,  3.31it/s]\r",
      "100%|██████████| 2/2 [00:00<00:00,  5.23it/s]\n"
     ]
    },
    {
     "name": "stdout",
     "output_type": "stream",
     "text": [
      "=> result\n",
      "* total: 106\n",
      "* correct: 46\n",
      "* accuracy: 43.4%\n",
      "* error: 56.6%\n",
      "* macro_f1: 24.7%\n",
      "epoch [189/1000] batch [20/44] time 0.039 (0.055) data 0.000 (0.014) loss 2.1328 (1.2750) lr 3.2066e-03 eta 0:32:43\n",
      "epoch [189/1000] batch [40/44] time 0.042 (0.048) data 0.000 (0.007) loss 1.1328 (1.2073) lr 3.2066e-03 eta 0:28:16\n",
      "Evaluate on the *val* set\n"
     ]
    },
    {
     "name": "stderr",
     "output_type": "stream",
     "text": [
      "\r",
      "  0%|          | 0/2 [00:00<?, ?it/s]\r",
      " 50%|█████     | 1/2 [00:00<00:00,  3.29it/s]\r",
      "100%|██████████| 2/2 [00:00<00:00,  5.31it/s]\n"
     ]
    },
    {
     "name": "stdout",
     "output_type": "stream",
     "text": [
      "=> result\n",
      "* total: 106\n",
      "* correct: 43\n",
      "* accuracy: 40.6%\n",
      "* error: 59.4%\n",
      "* macro_f1: 23.8%\n",
      "epoch [190/1000] batch [20/44] time 0.041 (0.057) data 0.000 (0.014) loss 0.3762 (1.0590) lr 3.2035e-03 eta 0:33:48\n",
      "epoch [190/1000] batch [40/44] time 0.043 (0.049) data 0.000 (0.007) loss 1.3359 (1.1225) lr 3.2035e-03 eta 0:28:50\n",
      "Evaluate on the *val* set\n"
     ]
    },
    {
     "name": "stderr",
     "output_type": "stream",
     "text": [
      "\r",
      "  0%|          | 0/2 [00:00<?, ?it/s]\r",
      " 50%|█████     | 1/2 [00:00<00:00,  3.33it/s]\r",
      "100%|██████████| 2/2 [00:00<00:00,  5.20it/s]\n"
     ]
    },
    {
     "name": "stdout",
     "output_type": "stream",
     "text": [
      "=> result\n",
      "* total: 106\n",
      "* correct: 45\n",
      "* accuracy: 42.5%\n",
      "* error: 57.5%\n",
      "* macro_f1: 25.4%\n",
      "epoch [191/1000] batch [20/44] time 0.044 (0.059) data 0.000 (0.016) loss 1.8721 (1.3534) lr 3.2005e-03 eta 0:34:51\n",
      "epoch [191/1000] batch [40/44] time 0.028 (0.048) data 0.000 (0.008) loss 1.5156 (1.1947) lr 3.2005e-03 eta 0:28:41\n",
      "Evaluate on the *val* set\n"
     ]
    },
    {
     "name": "stderr",
     "output_type": "stream",
     "text": [
      "\r",
      "  0%|          | 0/2 [00:00<?, ?it/s]\r",
      " 50%|█████     | 1/2 [00:00<00:00,  3.36it/s]\r",
      "100%|██████████| 2/2 [00:00<00:00,  5.21it/s]\n"
     ]
    },
    {
     "name": "stdout",
     "output_type": "stream",
     "text": [
      "=> result\n",
      "* total: 106\n",
      "* correct: 35\n",
      "* accuracy: 33.0%\n",
      "* error: 67.0%\n",
      "* macro_f1: 20.0%\n",
      "epoch [192/1000] batch [20/44] time 0.040 (0.058) data 0.000 (0.016) loss 0.9370 (1.1512) lr 3.1974e-03 eta 0:34:22\n",
      "epoch [192/1000] batch [40/44] time 0.042 (0.049) data 0.000 (0.008) loss 0.7070 (1.1956) lr 3.1974e-03 eta 0:28:55\n",
      "Evaluate on the *val* set\n"
     ]
    },
    {
     "name": "stderr",
     "output_type": "stream",
     "text": [
      "\r",
      "  0%|          | 0/2 [00:00<?, ?it/s]\r",
      " 50%|█████     | 1/2 [00:00<00:00,  3.28it/s]\r",
      "100%|██████████| 2/2 [00:00<00:00,  5.18it/s]\n"
     ]
    },
    {
     "name": "stdout",
     "output_type": "stream",
     "text": [
      "=> result\n",
      "* total: 106\n",
      "* correct: 43\n",
      "* accuracy: 40.6%\n",
      "* error: 59.4%\n",
      "* macro_f1: 24.8%\n",
      "epoch [193/1000] batch [20/44] time 0.042 (0.057) data 0.000 (0.015) loss 1.2686 (0.9047) lr 3.1943e-03 eta 0:33:31\n",
      "epoch [193/1000] batch [40/44] time 0.039 (0.048) data 0.000 (0.008) loss 1.4834 (1.0690) lr 3.1943e-03 eta 0:28:13\n",
      "Evaluate on the *val* set\n"
     ]
    },
    {
     "name": "stderr",
     "output_type": "stream",
     "text": [
      "\r",
      "  0%|          | 0/2 [00:00<?, ?it/s]\r",
      " 50%|█████     | 1/2 [00:00<00:00,  3.25it/s]\r",
      "100%|██████████| 2/2 [00:00<00:00,  5.13it/s]\n"
     ]
    },
    {
     "name": "stdout",
     "output_type": "stream",
     "text": [
      "=> result\n",
      "* total: 106\n",
      "* correct: 43\n",
      "* accuracy: 40.6%\n",
      "* error: 59.4%\n",
      "* macro_f1: 25.6%\n",
      "epoch [194/1000] batch [20/44] time 0.040 (0.055) data 0.000 (0.016) loss 1.1172 (0.9964) lr 3.1912e-03 eta 0:32:30\n",
      "epoch [194/1000] batch [40/44] time 0.042 (0.047) data 0.000 (0.008) loss 0.7017 (1.0921) lr 3.1912e-03 eta 0:27:57\n",
      "Evaluate on the *val* set\n"
     ]
    },
    {
     "name": "stderr",
     "output_type": "stream",
     "text": [
      "\r",
      "  0%|          | 0/2 [00:00<?, ?it/s]\r",
      " 50%|█████     | 1/2 [00:00<00:00,  3.34it/s]\r",
      "100%|██████████| 2/2 [00:00<00:00,  5.30it/s]\n"
     ]
    },
    {
     "name": "stdout",
     "output_type": "stream",
     "text": [
      "=> result\n",
      "* total: 106\n",
      "* correct: 44\n",
      "* accuracy: 41.5%\n",
      "* error: 58.5%\n",
      "* macro_f1: 24.0%\n",
      "epoch [195/1000] batch [20/44] time 0.040 (0.057) data 0.000 (0.016) loss 0.5996 (0.9936) lr 3.1881e-03 eta 0:33:24\n",
      "epoch [195/1000] batch [40/44] time 0.036 (0.048) data 0.000 (0.008) loss 1.5166 (1.1189) lr 3.1881e-03 eta 0:28:22\n",
      "Evaluate on the *val* set\n"
     ]
    },
    {
     "name": "stderr",
     "output_type": "stream",
     "text": [
      "\r",
      "  0%|          | 0/2 [00:00<?, ?it/s]\r",
      " 50%|█████     | 1/2 [00:00<00:00,  3.17it/s]\r",
      "100%|██████████| 2/2 [00:00<00:00,  5.07it/s]\n"
     ]
    },
    {
     "name": "stdout",
     "output_type": "stream",
     "text": [
      "=> result\n",
      "* total: 106\n",
      "* correct: 41\n",
      "* accuracy: 38.7%\n",
      "* error: 61.3%\n",
      "* macro_f1: 21.9%\n",
      "epoch [196/1000] batch [20/44] time 0.045 (0.057) data 0.000 (0.015) loss 1.9043 (1.0899) lr 3.1849e-03 eta 0:33:30\n",
      "epoch [196/1000] batch [40/44] time 0.040 (0.048) data 0.000 (0.007) loss 1.1211 (1.1446) lr 3.1849e-03 eta 0:28:27\n",
      "Evaluate on the *val* set\n"
     ]
    },
    {
     "name": "stderr",
     "output_type": "stream",
     "text": [
      "\r",
      "  0%|          | 0/2 [00:00<?, ?it/s]\r",
      " 50%|█████     | 1/2 [00:00<00:00,  3.16it/s]\r",
      "100%|██████████| 2/2 [00:00<00:00,  5.08it/s]\n"
     ]
    },
    {
     "name": "stdout",
     "output_type": "stream",
     "text": [
      "=> result\n",
      "* total: 106\n",
      "* correct: 38\n",
      "* accuracy: 35.8%\n",
      "* error: 64.2%\n",
      "* macro_f1: 15.7%\n",
      "epoch [197/1000] batch [20/44] time 0.043 (0.056) data 0.000 (0.015) loss 1.1201 (1.4012) lr 3.1818e-03 eta 0:32:44\n",
      "epoch [197/1000] batch [40/44] time 0.041 (0.048) data 0.000 (0.007) loss 1.4346 (1.1790) lr 3.1818e-03 eta 0:28:05\n",
      "Evaluate on the *val* set\n"
     ]
    },
    {
     "name": "stderr",
     "output_type": "stream",
     "text": [
      "\r",
      "  0%|          | 0/2 [00:00<?, ?it/s]\r",
      " 50%|█████     | 1/2 [00:00<00:00,  3.23it/s]\r",
      "100%|██████████| 2/2 [00:00<00:00,  5.00it/s]\n"
     ]
    },
    {
     "name": "stdout",
     "output_type": "stream",
     "text": [
      "=> result\n",
      "* total: 106\n",
      "* correct: 45\n",
      "* accuracy: 42.5%\n",
      "* error: 57.5%\n",
      "* macro_f1: 25.2%\n",
      "epoch [198/1000] batch [20/44] time 0.041 (0.057) data 0.000 (0.016) loss 0.8848 (1.1495) lr 3.1786e-03 eta 0:33:18\n",
      "epoch [198/1000] batch [40/44] time 0.038 (0.047) data 0.000 (0.008) loss 1.4912 (1.1926) lr 3.1786e-03 eta 0:27:51\n",
      "Evaluate on the *val* set\n"
     ]
    },
    {
     "name": "stderr",
     "output_type": "stream",
     "text": [
      "\r",
      "  0%|          | 0/2 [00:00<?, ?it/s]\r",
      " 50%|█████     | 1/2 [00:00<00:00,  3.28it/s]\r",
      "100%|██████████| 2/2 [00:00<00:00,  5.28it/s]\n"
     ]
    },
    {
     "name": "stdout",
     "output_type": "stream",
     "text": [
      "=> result\n",
      "* total: 106\n",
      "* correct: 44\n",
      "* accuracy: 41.5%\n",
      "* error: 58.5%\n",
      "* macro_f1: 17.9%\n",
      "epoch [199/1000] batch [20/44] time 0.038 (0.055) data 0.000 (0.014) loss 1.2490 (1.1888) lr 3.1754e-03 eta 0:32:24\n",
      "epoch [199/1000] batch [40/44] time 0.043 (0.047) data 0.000 (0.007) loss 1.1992 (1.1399) lr 3.1754e-03 eta 0:27:51\n",
      "Evaluate on the *val* set\n"
     ]
    },
    {
     "name": "stderr",
     "output_type": "stream",
     "text": [
      "\r",
      "  0%|          | 0/2 [00:00<?, ?it/s]\r",
      " 50%|█████     | 1/2 [00:00<00:00,  3.32it/s]\r",
      "100%|██████████| 2/2 [00:00<00:00,  5.28it/s]\n"
     ]
    },
    {
     "name": "stdout",
     "output_type": "stream",
     "text": [
      "=> result\n",
      "* total: 106\n",
      "* correct: 42\n",
      "* accuracy: 39.6%\n",
      "* error: 60.4%\n",
      "* macro_f1: 22.7%\n",
      "epoch [200/1000] batch [20/44] time 0.043 (0.059) data 0.000 (0.017) loss 1.2607 (1.2010) lr 3.1722e-03 eta 0:34:26\n",
      "epoch [200/1000] batch [40/44] time 0.041 (0.049) data 0.000 (0.008) loss 0.3286 (1.1548) lr 3.1722e-03 eta 0:28:38\n",
      "Evaluate on the *val* set\n"
     ]
    },
    {
     "name": "stderr",
     "output_type": "stream",
     "text": [
      "\r",
      "  0%|          | 0/2 [00:00<?, ?it/s]\r",
      " 50%|█████     | 1/2 [00:00<00:00,  3.29it/s]\r",
      "100%|██████████| 2/2 [00:00<00:00,  5.25it/s]\n"
     ]
    },
    {
     "name": "stdout",
     "output_type": "stream",
     "text": [
      "=> result\n",
      "* total: 106\n",
      "* correct: 44\n",
      "* accuracy: 41.5%\n",
      "* error: 58.5%\n",
      "* macro_f1: 25.0%\n",
      "epoch [201/1000] batch [20/44] time 0.041 (0.057) data 0.000 (0.014) loss 0.3806 (1.0413) lr 3.1690e-03 eta 0:33:08\n",
      "epoch [201/1000] batch [40/44] time 0.040 (0.048) data 0.000 (0.007) loss 1.4893 (1.1804) lr 3.1690e-03 eta 0:28:08\n",
      "Evaluate on the *val* set\n"
     ]
    },
    {
     "name": "stderr",
     "output_type": "stream",
     "text": [
      "\r",
      "  0%|          | 0/2 [00:00<?, ?it/s]\r",
      " 50%|█████     | 1/2 [00:00<00:00,  3.31it/s]\r",
      "100%|██████████| 2/2 [00:00<00:00,  5.24it/s]\n"
     ]
    },
    {
     "name": "stdout",
     "output_type": "stream",
     "text": [
      "=> result\n",
      "* total: 106\n",
      "* correct: 44\n",
      "* accuracy: 41.5%\n",
      "* error: 58.5%\n",
      "* macro_f1: 21.9%\n",
      "epoch [202/1000] batch [20/44] time 0.040 (0.058) data 0.000 (0.015) loss 1.5723 (1.0854) lr 3.1658e-03 eta 0:33:41\n",
      "epoch [202/1000] batch [40/44] time 0.040 (0.049) data 0.000 (0.007) loss 1.3418 (1.1510) lr 3.1658e-03 eta 0:28:40\n",
      "Evaluate on the *val* set\n"
     ]
    },
    {
     "name": "stderr",
     "output_type": "stream",
     "text": [
      "\r",
      "  0%|          | 0/2 [00:00<?, ?it/s]\r",
      " 50%|█████     | 1/2 [00:00<00:00,  3.35it/s]\r",
      "100%|██████████| 2/2 [00:00<00:00,  5.26it/s]\n"
     ]
    },
    {
     "name": "stdout",
     "output_type": "stream",
     "text": [
      "=> result\n",
      "* total: 106\n",
      "* correct: 43\n",
      "* accuracy: 40.6%\n",
      "* error: 59.4%\n",
      "* macro_f1: 20.7%\n",
      "epoch [203/1000] batch [20/44] time 0.041 (0.056) data 0.000 (0.014) loss 1.7012 (1.1452) lr 3.1625e-03 eta 0:32:55\n",
      "epoch [203/1000] batch [40/44] time 0.042 (0.048) data 0.000 (0.007) loss 1.6621 (1.1507) lr 3.1625e-03 eta 0:28:08\n",
      "Evaluate on the *val* set\n"
     ]
    },
    {
     "name": "stderr",
     "output_type": "stream",
     "text": [
      "\r",
      "  0%|          | 0/2 [00:00<?, ?it/s]\r",
      " 50%|█████     | 1/2 [00:00<00:00,  3.31it/s]\r",
      "100%|██████████| 2/2 [00:00<00:00,  5.42it/s]\n"
     ]
    },
    {
     "name": "stdout",
     "output_type": "stream",
     "text": [
      "=> result\n",
      "* total: 106\n",
      "* correct: 39\n",
      "* accuracy: 36.8%\n",
      "* error: 63.2%\n",
      "* macro_f1: 21.4%\n",
      "epoch [204/1000] batch [20/44] time 0.041 (0.057) data 0.000 (0.016) loss 0.7700 (1.2008) lr 3.1593e-03 eta 0:33:07\n",
      "epoch [204/1000] batch [40/44] time 0.039 (0.048) data 0.000 (0.008) loss 1.8281 (1.3016) lr 3.1593e-03 eta 0:28:14\n",
      "Evaluate on the *val* set\n"
     ]
    },
    {
     "name": "stderr",
     "output_type": "stream",
     "text": [
      "\r",
      "  0%|          | 0/2 [00:00<?, ?it/s]\r",
      " 50%|█████     | 1/2 [00:00<00:00,  3.24it/s]\r",
      "100%|██████████| 2/2 [00:00<00:00,  4.96it/s]\n"
     ]
    },
    {
     "name": "stdout",
     "output_type": "stream",
     "text": [
      "=> result\n",
      "* total: 106\n",
      "* correct: 44\n",
      "* accuracy: 41.5%\n",
      "* error: 58.5%\n",
      "* macro_f1: 24.1%\n",
      "epoch [205/1000] batch [20/44] time 0.043 (0.055) data 0.000 (0.014) loss 1.3379 (1.1262) lr 3.1560e-03 eta 0:32:09\n",
      "epoch [205/1000] batch [40/44] time 0.038 (0.048) data 0.000 (0.007) loss 2.4668 (1.1496) lr 3.1560e-03 eta 0:27:54\n",
      "Evaluate on the *val* set\n"
     ]
    },
    {
     "name": "stderr",
     "output_type": "stream",
     "text": [
      "\r",
      "  0%|          | 0/2 [00:00<?, ?it/s]\r",
      " 50%|█████     | 1/2 [00:00<00:00,  3.28it/s]\r",
      "100%|██████████| 2/2 [00:00<00:00,  5.22it/s]\n"
     ]
    },
    {
     "name": "stdout",
     "output_type": "stream",
     "text": [
      "=> result\n",
      "* total: 106\n",
      "* correct: 41\n",
      "* accuracy: 38.7%\n",
      "* error: 61.3%\n",
      "* macro_f1: 23.5%\n",
      "epoch [206/1000] batch [20/44] time 0.039 (0.055) data 0.000 (0.014) loss 1.1709 (1.2120) lr 3.1527e-03 eta 0:32:09\n",
      "epoch [206/1000] batch [40/44] time 0.037 (0.047) data 0.000 (0.007) loss 0.4805 (1.1647) lr 3.1527e-03 eta 0:27:36\n",
      "Evaluate on the *val* set\n"
     ]
    },
    {
     "name": "stderr",
     "output_type": "stream",
     "text": [
      "\r",
      "  0%|          | 0/2 [00:00<?, ?it/s]\r",
      " 50%|█████     | 1/2 [00:00<00:00,  3.27it/s]\r",
      "100%|██████████| 2/2 [00:00<00:00,  5.14it/s]\n"
     ]
    },
    {
     "name": "stdout",
     "output_type": "stream",
     "text": [
      "=> result\n",
      "* total: 106\n",
      "* correct: 43\n",
      "* accuracy: 40.6%\n",
      "* error: 59.4%\n",
      "* macro_f1: 23.1%\n",
      "epoch [207/1000] batch [20/44] time 0.041 (0.056) data 0.000 (0.015) loss 1.0742 (0.9497) lr 3.1494e-03 eta 0:32:27\n",
      "epoch [207/1000] batch [40/44] time 0.039 (0.048) data 0.000 (0.007) loss 1.8682 (1.1226) lr 3.1494e-03 eta 0:27:47\n",
      "Evaluate on the *val* set\n"
     ]
    },
    {
     "name": "stderr",
     "output_type": "stream",
     "text": [
      "\r",
      "  0%|          | 0/2 [00:00<?, ?it/s]\r",
      " 50%|█████     | 1/2 [00:00<00:00,  3.16it/s]\r",
      "100%|██████████| 2/2 [00:00<00:00,  4.87it/s]\n"
     ]
    },
    {
     "name": "stdout",
     "output_type": "stream",
     "text": [
      "=> result\n",
      "* total: 106\n",
      "* correct: 42\n",
      "* accuracy: 39.6%\n",
      "* error: 60.4%\n",
      "* macro_f1: 23.0%\n",
      "epoch [208/1000] batch [20/44] time 0.039 (0.056) data 0.000 (0.014) loss 0.5063 (1.0771) lr 3.1461e-03 eta 0:32:32\n",
      "epoch [208/1000] batch [40/44] time 0.038 (0.048) data 0.000 (0.007) loss 0.9058 (1.2209) lr 3.1461e-03 eta 0:27:43\n",
      "Evaluate on the *val* set\n"
     ]
    },
    {
     "name": "stderr",
     "output_type": "stream",
     "text": [
      "\r",
      "  0%|          | 0/2 [00:00<?, ?it/s]\r",
      " 50%|█████     | 1/2 [00:00<00:00,  3.23it/s]\r",
      "100%|██████████| 2/2 [00:00<00:00,  5.14it/s]\n"
     ]
    },
    {
     "name": "stdout",
     "output_type": "stream",
     "text": [
      "=> result\n",
      "* total: 106\n",
      "* correct: 43\n",
      "* accuracy: 40.6%\n",
      "* error: 59.4%\n",
      "* macro_f1: 16.3%\n",
      "epoch [209/1000] batch [20/44] time 0.037 (0.057) data 0.000 (0.015) loss 1.0693 (1.3736) lr 3.1428e-03 eta 0:32:53\n",
      "epoch [209/1000] batch [40/44] time 0.036 (0.048) data 0.000 (0.008) loss 0.1783 (1.3375) lr 3.1428e-03 eta 0:28:02\n",
      "Evaluate on the *val* set\n"
     ]
    },
    {
     "name": "stderr",
     "output_type": "stream",
     "text": [
      "\r",
      "  0%|          | 0/2 [00:00<?, ?it/s]\r",
      " 50%|█████     | 1/2 [00:00<00:00,  3.23it/s]\r",
      "100%|██████████| 2/2 [00:00<00:00,  4.95it/s]\n"
     ]
    },
    {
     "name": "stdout",
     "output_type": "stream",
     "text": [
      "=> result\n",
      "* total: 106\n",
      "* correct: 46\n",
      "* accuracy: 43.4%\n",
      "* error: 56.6%\n",
      "* macro_f1: 26.9%\n",
      "epoch [210/1000] batch [20/44] time 0.041 (0.054) data 0.000 (0.014) loss 1.2549 (1.2145) lr 3.1395e-03 eta 0:31:30\n",
      "epoch [210/1000] batch [40/44] time 0.038 (0.047) data 0.000 (0.007) loss 0.1478 (1.0748) lr 3.1395e-03 eta 0:27:03\n",
      "Evaluate on the *val* set\n"
     ]
    },
    {
     "name": "stderr",
     "output_type": "stream",
     "text": [
      "\r",
      "  0%|          | 0/2 [00:00<?, ?it/s]\r",
      " 50%|█████     | 1/2 [00:00<00:00,  3.30it/s]\r",
      "100%|██████████| 2/2 [00:00<00:00,  5.20it/s]\n"
     ]
    },
    {
     "name": "stdout",
     "output_type": "stream",
     "text": [
      "=> result\n",
      "* total: 106\n",
      "* correct: 45\n",
      "* accuracy: 42.5%\n",
      "* error: 57.5%\n",
      "* macro_f1: 26.6%\n",
      "epoch [211/1000] batch [20/44] time 0.042 (0.057) data 0.000 (0.016) loss 0.9854 (1.1464) lr 3.1361e-03 eta 0:32:46\n",
      "epoch [211/1000] batch [40/44] time 0.041 (0.048) data 0.000 (0.008) loss 1.4492 (1.1580) lr 3.1361e-03 eta 0:27:56\n",
      "Evaluate on the *val* set\n"
     ]
    },
    {
     "name": "stderr",
     "output_type": "stream",
     "text": [
      "\r",
      "  0%|          | 0/2 [00:00<?, ?it/s]\r",
      " 50%|█████     | 1/2 [00:00<00:00,  3.28it/s]\r",
      "100%|██████████| 2/2 [00:00<00:00,  5.20it/s]\n"
     ]
    },
    {
     "name": "stdout",
     "output_type": "stream",
     "text": [
      "=> result\n",
      "* total: 106\n",
      "* correct: 43\n",
      "* accuracy: 40.6%\n",
      "* error: 59.4%\n",
      "* macro_f1: 20.3%\n",
      "epoch [212/1000] batch [20/44] time 0.043 (0.056) data 0.000 (0.015) loss 1.9141 (1.1873) lr 3.1328e-03 eta 0:32:19\n",
      "epoch [212/1000] batch [40/44] time 0.041 (0.048) data 0.000 (0.007) loss 1.3418 (1.2049) lr 3.1328e-03 eta 0:27:34\n",
      "Evaluate on the *val* set\n"
     ]
    },
    {
     "name": "stderr",
     "output_type": "stream",
     "text": [
      "\r",
      "  0%|          | 0/2 [00:00<?, ?it/s]\r",
      " 50%|█████     | 1/2 [00:00<00:00,  3.24it/s]\r",
      "100%|██████████| 2/2 [00:00<00:00,  5.18it/s]\n"
     ]
    },
    {
     "name": "stdout",
     "output_type": "stream",
     "text": [
      "=> result\n",
      "* total: 106\n",
      "* correct: 46\n",
      "* accuracy: 43.4%\n",
      "* error: 56.6%\n",
      "* macro_f1: 25.7%\n",
      "epoch [213/1000] batch [20/44] time 0.043 (0.058) data 0.000 (0.016) loss 1.8652 (1.0197) lr 3.1294e-03 eta 0:33:15\n",
      "epoch [213/1000] batch [40/44] time 0.036 (0.049) data 0.000 (0.008) loss 1.3105 (1.0923) lr 3.1294e-03 eta 0:28:06\n",
      "Evaluate on the *val* set\n"
     ]
    },
    {
     "name": "stderr",
     "output_type": "stream",
     "text": [
      "\r",
      "  0%|          | 0/2 [00:00<?, ?it/s]\r",
      " 50%|█████     | 1/2 [00:00<00:00,  3.35it/s]\r",
      "100%|██████████| 2/2 [00:00<00:00,  5.17it/s]\n"
     ]
    },
    {
     "name": "stdout",
     "output_type": "stream",
     "text": [
      "=> result\n",
      "* total: 106\n",
      "* correct: 44\n",
      "* accuracy: 41.5%\n",
      "* error: 58.5%\n",
      "* macro_f1: 22.6%\n",
      "epoch [214/1000] batch [20/44] time 0.039 (0.055) data 0.000 (0.014) loss 1.6582 (1.0523) lr 3.1260e-03 eta 0:31:35\n",
      "epoch [214/1000] batch [40/44] time 0.038 (0.047) data 0.000 (0.007) loss 0.9136 (1.1330) lr 3.1260e-03 eta 0:27:20\n",
      "Evaluate on the *val* set\n"
     ]
    },
    {
     "name": "stderr",
     "output_type": "stream",
     "text": [
      "\r",
      "  0%|          | 0/2 [00:00<?, ?it/s]\r",
      " 50%|█████     | 1/2 [00:00<00:00,  3.33it/s]\r",
      "100%|██████████| 2/2 [00:00<00:00,  5.19it/s]\n"
     ]
    },
    {
     "name": "stdout",
     "output_type": "stream",
     "text": [
      "=> result\n",
      "* total: 106\n",
      "* correct: 42\n",
      "* accuracy: 39.6%\n",
      "* error: 60.4%\n",
      "* macro_f1: 22.5%\n",
      "epoch [215/1000] batch [20/44] time 0.038 (0.055) data 0.000 (0.015) loss 0.9297 (1.0610) lr 3.1226e-03 eta 0:31:45\n",
      "epoch [215/1000] batch [40/44] time 0.047 (0.048) data 0.001 (0.007) loss 1.3438 (1.0149) lr 3.1226e-03 eta 0:27:31\n",
      "Evaluate on the *val* set\n"
     ]
    },
    {
     "name": "stderr",
     "output_type": "stream",
     "text": [
      "\r",
      "  0%|          | 0/2 [00:00<?, ?it/s]\r",
      " 50%|█████     | 1/2 [00:00<00:00,  3.25it/s]\r",
      "100%|██████████| 2/2 [00:00<00:00,  4.07it/s]\n"
     ]
    },
    {
     "name": "stdout",
     "output_type": "stream",
     "text": [
      "=> result\n",
      "* total: 106\n",
      "* correct: 45\n",
      "* accuracy: 42.5%\n",
      "* error: 57.5%\n",
      "* macro_f1: 24.5%\n",
      "epoch [216/1000] batch [20/44] time 0.047 (0.055) data 0.000 (0.014) loss 1.1113 (1.1133) lr 3.1192e-03 eta 0:31:35\n",
      "epoch [216/1000] batch [40/44] time 0.040 (0.047) data 0.000 (0.007) loss 1.0840 (1.0500) lr 3.1192e-03 eta 0:26:55\n",
      "Evaluate on the *val* set\n"
     ]
    },
    {
     "name": "stderr",
     "output_type": "stream",
     "text": [
      "\r",
      "  0%|          | 0/2 [00:00<?, ?it/s]\r",
      " 50%|█████     | 1/2 [00:00<00:00,  3.32it/s]\r",
      "100%|██████████| 2/2 [00:00<00:00,  5.23it/s]\n"
     ]
    },
    {
     "name": "stdout",
     "output_type": "stream",
     "text": [
      "=> result\n",
      "* total: 106\n",
      "* correct: 43\n",
      "* accuracy: 40.6%\n",
      "* error: 59.4%\n",
      "* macro_f1: 23.0%\n",
      "epoch [217/1000] batch [20/44] time 0.027 (0.054) data 0.000 (0.014) loss 0.5820 (1.2466) lr 3.1158e-03 eta 0:31:06\n",
      "epoch [217/1000] batch [40/44] time 0.042 (0.047) data 0.000 (0.007) loss 2.5703 (1.3205) lr 3.1158e-03 eta 0:27:04\n",
      "Evaluate on the *val* set\n"
     ]
    },
    {
     "name": "stderr",
     "output_type": "stream",
     "text": [
      "\r",
      "  0%|          | 0/2 [00:00<?, ?it/s]\r",
      " 50%|█████     | 1/2 [00:00<00:00,  3.23it/s]\r",
      "100%|██████████| 2/2 [00:00<00:00,  5.23it/s]\n"
     ]
    },
    {
     "name": "stdout",
     "output_type": "stream",
     "text": [
      "=> result\n",
      "* total: 106\n",
      "* correct: 43\n",
      "* accuracy: 40.6%\n",
      "* error: 59.4%\n",
      "* macro_f1: 23.6%\n",
      "epoch [218/1000] batch [20/44] time 0.044 (0.058) data 0.000 (0.016) loss 1.0957 (1.1670) lr 3.1123e-03 eta 0:33:28\n",
      "epoch [218/1000] batch [40/44] time 0.042 (0.049) data 0.000 (0.008) loss 0.7031 (1.1035) lr 3.1123e-03 eta 0:27:54\n",
      "Evaluate on the *val* set\n"
     ]
    },
    {
     "name": "stderr",
     "output_type": "stream",
     "text": [
      "\r",
      "  0%|          | 0/2 [00:00<?, ?it/s]\r",
      " 50%|█████     | 1/2 [00:00<00:00,  3.02it/s]\r",
      "100%|██████████| 2/2 [00:00<00:00,  4.84it/s]\n"
     ]
    },
    {
     "name": "stdout",
     "output_type": "stream",
     "text": [
      "=> result\n",
      "* total: 106\n",
      "* correct: 45\n",
      "* accuracy: 42.5%\n",
      "* error: 57.5%\n",
      "* macro_f1: 25.4%\n",
      "epoch [219/1000] batch [20/44] time 0.041 (0.056) data 0.000 (0.015) loss 1.8320 (1.1587) lr 3.1089e-03 eta 0:32:12\n",
      "epoch [219/1000] batch [40/44] time 0.042 (0.048) data 0.000 (0.008) loss 1.5947 (1.2108) lr 3.1089e-03 eta 0:27:36\n",
      "Evaluate on the *val* set\n"
     ]
    },
    {
     "name": "stderr",
     "output_type": "stream",
     "text": [
      "\r",
      "  0%|          | 0/2 [00:00<?, ?it/s]\r",
      " 50%|█████     | 1/2 [00:00<00:00,  3.24it/s]\r",
      "100%|██████████| 2/2 [00:00<00:00,  5.19it/s]\n"
     ]
    },
    {
     "name": "stdout",
     "output_type": "stream",
     "text": [
      "=> result\n",
      "* total: 106\n",
      "* correct: 47\n",
      "* accuracy: 44.3%\n",
      "* error: 55.7%\n",
      "* macro_f1: 24.3%\n",
      "epoch [220/1000] batch [20/44] time 0.044 (0.057) data 0.000 (0.016) loss 0.5698 (1.0218) lr 3.1054e-03 eta 0:32:37\n",
      "epoch [220/1000] batch [40/44] time 0.036 (0.048) data 0.000 (0.008) loss 0.8369 (1.0540) lr 3.1054e-03 eta 0:27:27\n",
      "Evaluate on the *val* set\n"
     ]
    },
    {
     "name": "stderr",
     "output_type": "stream",
     "text": [
      "\r",
      "  0%|          | 0/2 [00:00<?, ?it/s]\r",
      " 50%|█████     | 1/2 [00:00<00:00,  3.18it/s]\r",
      "100%|██████████| 2/2 [00:00<00:00,  5.04it/s]\n"
     ]
    },
    {
     "name": "stdout",
     "output_type": "stream",
     "text": [
      "=> result\n",
      "* total: 106\n",
      "* correct: 45\n",
      "* accuracy: 42.5%\n",
      "* error: 57.5%\n",
      "* macro_f1: 25.8%\n",
      "epoch [221/1000] batch [20/44] time 0.044 (0.057) data 0.000 (0.014) loss 1.4209 (1.1299) lr 3.1019e-03 eta 0:32:28\n",
      "epoch [221/1000] batch [40/44] time 0.036 (0.048) data 0.000 (0.007) loss 0.8921 (1.0988) lr 3.1019e-03 eta 0:27:39\n",
      "Evaluate on the *val* set\n"
     ]
    },
    {
     "name": "stderr",
     "output_type": "stream",
     "text": [
      "\r",
      "  0%|          | 0/2 [00:00<?, ?it/s]\r",
      " 50%|█████     | 1/2 [00:00<00:00,  3.30it/s]\r",
      "100%|██████████| 2/2 [00:00<00:00,  5.25it/s]\n"
     ]
    },
    {
     "name": "stdout",
     "output_type": "stream",
     "text": [
      "=> result\n",
      "* total: 106\n",
      "* correct: 34\n",
      "* accuracy: 32.1%\n",
      "* error: 67.9%\n",
      "* macro_f1: 17.8%\n",
      "epoch [222/1000] batch [20/44] time 0.044 (0.058) data 0.000 (0.016) loss 0.3650 (1.0435) lr 3.0984e-03 eta 0:32:58\n",
      "epoch [222/1000] batch [40/44] time 0.037 (0.049) data 0.000 (0.008) loss 1.8184 (1.0755) lr 3.0984e-03 eta 0:28:01\n",
      "Evaluate on the *val* set\n"
     ]
    },
    {
     "name": "stderr",
     "output_type": "stream",
     "text": [
      "\r",
      "  0%|          | 0/2 [00:00<?, ?it/s]\r",
      " 50%|█████     | 1/2 [00:00<00:00,  3.25it/s]\r",
      "100%|██████████| 2/2 [00:00<00:00,  5.11it/s]\n"
     ]
    },
    {
     "name": "stdout",
     "output_type": "stream",
     "text": [
      "=> result\n",
      "* total: 106\n",
      "* correct: 42\n",
      "* accuracy: 39.6%\n",
      "* error: 60.4%\n",
      "* macro_f1: 23.6%\n",
      "epoch [223/1000] batch [20/44] time 0.041 (0.057) data 0.000 (0.015) loss 0.1665 (1.1169) lr 3.0949e-03 eta 0:32:19\n",
      "epoch [223/1000] batch [40/44] time 0.042 (0.049) data 0.000 (0.008) loss 1.7539 (1.1539) lr 3.0949e-03 eta 0:27:53\n",
      "Evaluate on the *val* set\n"
     ]
    },
    {
     "name": "stderr",
     "output_type": "stream",
     "text": [
      "\r",
      "  0%|          | 0/2 [00:00<?, ?it/s]\r",
      " 50%|█████     | 1/2 [00:00<00:00,  3.32it/s]\r",
      "100%|██████████| 2/2 [00:00<00:00,  5.28it/s]\n"
     ]
    },
    {
     "name": "stdout",
     "output_type": "stream",
     "text": [
      "=> result\n",
      "* total: 106\n",
      "* correct: 42\n",
      "* accuracy: 39.6%\n",
      "* error: 60.4%\n",
      "* macro_f1: 23.0%\n",
      "epoch [224/1000] batch [20/44] time 0.045 (0.057) data 0.000 (0.016) loss 1.5957 (1.1053) lr 3.0914e-03 eta 0:32:35\n",
      "epoch [224/1000] batch [40/44] time 0.042 (0.049) data 0.000 (0.008) loss 1.3057 (1.1439) lr 3.0914e-03 eta 0:27:46\n",
      "Evaluate on the *val* set\n"
     ]
    },
    {
     "name": "stderr",
     "output_type": "stream",
     "text": [
      "\r",
      "  0%|          | 0/2 [00:00<?, ?it/s]\r",
      " 50%|█████     | 1/2 [00:00<00:00,  3.30it/s]\r",
      "100%|██████████| 2/2 [00:00<00:00,  5.22it/s]\n"
     ]
    },
    {
     "name": "stdout",
     "output_type": "stream",
     "text": [
      "=> result\n",
      "* total: 106\n",
      "* correct: 45\n",
      "* accuracy: 42.5%\n",
      "* error: 57.5%\n",
      "* macro_f1: 23.2%\n",
      "epoch [225/1000] batch [20/44] time 0.038 (0.056) data 0.000 (0.016) loss 0.6777 (1.0562) lr 3.0878e-03 eta 0:32:05\n",
      "epoch [225/1000] batch [40/44] time 0.041 (0.048) data 0.000 (0.008) loss 1.3379 (1.1096) lr 3.0878e-03 eta 0:27:10\n",
      "Evaluate on the *val* set\n"
     ]
    },
    {
     "name": "stderr",
     "output_type": "stream",
     "text": [
      "\r",
      "  0%|          | 0/2 [00:00<?, ?it/s]\r",
      " 50%|█████     | 1/2 [00:00<00:00,  3.36it/s]\r",
      "100%|██████████| 2/2 [00:00<00:00,  5.31it/s]\n"
     ]
    },
    {
     "name": "stdout",
     "output_type": "stream",
     "text": [
      "=> result\n",
      "* total: 106\n",
      "* correct: 45\n",
      "* accuracy: 42.5%\n",
      "* error: 57.5%\n",
      "* macro_f1: 29.0%\n",
      "epoch [226/1000] batch [20/44] time 0.043 (0.057) data 0.000 (0.014) loss 1.0527 (1.0758) lr 3.0843e-03 eta 0:32:12\n",
      "epoch [226/1000] batch [40/44] time 0.040 (0.049) data 0.000 (0.007) loss 0.2496 (1.0917) lr 3.0843e-03 eta 0:27:33\n",
      "Evaluate on the *val* set\n"
     ]
    },
    {
     "name": "stderr",
     "output_type": "stream",
     "text": [
      "\r",
      "  0%|          | 0/2 [00:00<?, ?it/s]\r",
      " 50%|█████     | 1/2 [00:00<00:00,  3.37it/s]\r",
      "100%|██████████| 2/2 [00:00<00:00,  5.33it/s]\n"
     ]
    },
    {
     "name": "stdout",
     "output_type": "stream",
     "text": [
      "=> result\n",
      "* total: 106\n",
      "* correct: 45\n",
      "* accuracy: 42.5%\n",
      "* error: 57.5%\n",
      "* macro_f1: 24.0%\n",
      "epoch [227/1000] batch [20/44] time 0.044 (0.056) data 0.000 (0.015) loss 0.9561 (0.9879) lr 3.0807e-03 eta 0:31:49\n",
      "epoch [227/1000] batch [40/44] time 0.041 (0.048) data 0.000 (0.007) loss 0.9316 (1.0994) lr 3.0807e-03 eta 0:27:22\n",
      "Evaluate on the *val* set\n"
     ]
    },
    {
     "name": "stderr",
     "output_type": "stream",
     "text": [
      "\r",
      "  0%|          | 0/2 [00:00<?, ?it/s]\r",
      " 50%|█████     | 1/2 [00:00<00:00,  3.22it/s]\r",
      "100%|██████████| 2/2 [00:00<00:00,  5.32it/s]\n"
     ]
    },
    {
     "name": "stdout",
     "output_type": "stream",
     "text": [
      "=> result\n",
      "* total: 106\n",
      "* correct: 43\n",
      "* accuracy: 40.6%\n",
      "* error: 59.4%\n",
      "* macro_f1: 21.4%\n",
      "epoch [228/1000] batch [20/44] time 0.043 (0.056) data 0.000 (0.015) loss 1.5400 (1.0011) lr 3.0771e-03 eta 0:31:37\n",
      "epoch [228/1000] batch [40/44] time 0.042 (0.048) data 0.000 (0.007) loss 0.5278 (1.0759) lr 3.0771e-03 eta 0:27:26\n",
      "Evaluate on the *val* set\n"
     ]
    },
    {
     "name": "stderr",
     "output_type": "stream",
     "text": [
      "\r",
      "  0%|          | 0/2 [00:00<?, ?it/s]\r",
      " 50%|█████     | 1/2 [00:00<00:00,  3.36it/s]\r",
      "100%|██████████| 2/2 [00:00<00:00,  5.32it/s]\n"
     ]
    },
    {
     "name": "stdout",
     "output_type": "stream",
     "text": [
      "=> result\n",
      "* total: 106\n",
      "* correct: 44\n",
      "* accuracy: 41.5%\n",
      "* error: 58.5%\n",
      "* macro_f1: 24.1%\n",
      "epoch [229/1000] batch [20/44] time 0.038 (0.056) data 0.000 (0.015) loss 1.0645 (1.1576) lr 3.0735e-03 eta 0:31:34\n",
      "epoch [229/1000] batch [40/44] time 0.037 (0.048) data 0.000 (0.008) loss 0.3606 (1.0662) lr 3.0735e-03 eta 0:26:56\n",
      "Evaluate on the *val* set\n"
     ]
    },
    {
     "name": "stderr",
     "output_type": "stream",
     "text": [
      "\r",
      "  0%|          | 0/2 [00:00<?, ?it/s]\r",
      " 50%|█████     | 1/2 [00:00<00:00,  3.30it/s]\r",
      "100%|██████████| 2/2 [00:00<00:00,  5.21it/s]\n"
     ]
    },
    {
     "name": "stdout",
     "output_type": "stream",
     "text": [
      "=> result\n",
      "* total: 106\n",
      "* correct: 40\n",
      "* accuracy: 37.7%\n",
      "* error: 62.3%\n",
      "* macro_f1: 21.3%\n",
      "epoch [230/1000] batch [20/44] time 0.043 (0.054) data 0.000 (0.015) loss 1.1367 (1.0329) lr 3.0699e-03 eta 0:30:26\n",
      "epoch [230/1000] batch [40/44] time 0.043 (0.048) data 0.000 (0.008) loss 1.5771 (1.0608) lr 3.0699e-03 eta 0:26:55\n",
      "Evaluate on the *val* set\n"
     ]
    },
    {
     "name": "stderr",
     "output_type": "stream",
     "text": [
      "\r",
      "  0%|          | 0/2 [00:00<?, ?it/s]\r",
      " 50%|█████     | 1/2 [00:00<00:00,  3.27it/s]\r",
      "100%|██████████| 2/2 [00:00<00:00,  5.16it/s]\n"
     ]
    },
    {
     "name": "stdout",
     "output_type": "stream",
     "text": [
      "=> result\n",
      "* total: 106\n",
      "* correct: 35\n",
      "* accuracy: 33.0%\n",
      "* error: 67.0%\n",
      "* macro_f1: 17.9%\n",
      "epoch [231/1000] batch [20/44] time 0.044 (0.056) data 0.000 (0.014) loss 0.4136 (0.9320) lr 3.0663e-03 eta 0:31:48\n",
      "epoch [231/1000] batch [40/44] time 0.042 (0.048) data 0.000 (0.007) loss 1.3809 (0.9515) lr 3.0663e-03 eta 0:27:01\n",
      "Evaluate on the *val* set\n"
     ]
    },
    {
     "name": "stderr",
     "output_type": "stream",
     "text": [
      "\r",
      "  0%|          | 0/2 [00:00<?, ?it/s]\r",
      " 50%|█████     | 1/2 [00:00<00:00,  3.26it/s]\r",
      "100%|██████████| 2/2 [00:00<00:00,  5.18it/s]\n"
     ]
    },
    {
     "name": "stdout",
     "output_type": "stream",
     "text": [
      "=> result\n",
      "* total: 106\n",
      "* correct: 43\n",
      "* accuracy: 40.6%\n",
      "* error: 59.4%\n",
      "* macro_f1: 26.9%\n",
      "epoch [232/1000] batch [20/44] time 0.043 (0.055) data 0.000 (0.014) loss 0.7139 (1.0221) lr 3.0627e-03 eta 0:31:12\n",
      "epoch [232/1000] batch [40/44] time 0.035 (0.048) data 0.000 (0.007) loss 0.8232 (1.0408) lr 3.0627e-03 eta 0:26:56\n",
      "Evaluate on the *val* set\n"
     ]
    },
    {
     "name": "stderr",
     "output_type": "stream",
     "text": [
      "\r",
      "  0%|          | 0/2 [00:00<?, ?it/s]\r",
      " 50%|█████     | 1/2 [00:00<00:00,  3.29it/s]\r",
      "100%|██████████| 2/2 [00:00<00:00,  5.20it/s]\n"
     ]
    },
    {
     "name": "stdout",
     "output_type": "stream",
     "text": [
      "=> result\n",
      "* total: 106\n",
      "* correct: 46\n",
      "* accuracy: 43.4%\n",
      "* error: 56.6%\n",
      "* macro_f1: 27.7%\n",
      "epoch [233/1000] batch [20/44] time 0.040 (0.057) data 0.000 (0.016) loss 1.5186 (0.8537) lr 3.0591e-03 eta 0:32:02\n",
      "epoch [233/1000] batch [40/44] time 0.041 (0.048) data 0.000 (0.008) loss 1.5576 (1.0004) lr 3.0591e-03 eta 0:27:16\n",
      "Evaluate on the *val* set\n"
     ]
    },
    {
     "name": "stderr",
     "output_type": "stream",
     "text": [
      "\r",
      "  0%|          | 0/2 [00:00<?, ?it/s]\r",
      " 50%|█████     | 1/2 [00:00<00:00,  3.24it/s]\r",
      "100%|██████████| 2/2 [00:00<00:00,  5.22it/s]\n"
     ]
    },
    {
     "name": "stdout",
     "output_type": "stream",
     "text": [
      "=> result\n",
      "* total: 106\n",
      "* correct: 43\n",
      "* accuracy: 40.6%\n",
      "* error: 59.4%\n",
      "* macro_f1: 23.6%\n",
      "epoch [234/1000] batch [20/44] time 0.043 (0.056) data 0.000 (0.015) loss 0.5278 (1.2386) lr 3.0554e-03 eta 0:31:33\n",
      "epoch [234/1000] batch [40/44] time 0.042 (0.048) data 0.000 (0.008) loss 3.3711 (1.1701) lr 3.0554e-03 eta 0:26:49\n",
      "Evaluate on the *val* set\n"
     ]
    },
    {
     "name": "stderr",
     "output_type": "stream",
     "text": [
      "\r",
      "  0%|          | 0/2 [00:00<?, ?it/s]\r",
      " 50%|█████     | 1/2 [00:00<00:00,  3.24it/s]\r",
      "100%|██████████| 2/2 [00:00<00:00,  5.12it/s]\n"
     ]
    },
    {
     "name": "stdout",
     "output_type": "stream",
     "text": [
      "=> result\n",
      "* total: 106\n",
      "* correct: 42\n",
      "* accuracy: 39.6%\n",
      "* error: 60.4%\n",
      "* macro_f1: 19.6%\n",
      "epoch [235/1000] batch [20/44] time 0.042 (0.057) data 0.000 (0.016) loss 0.7700 (1.2041) lr 3.0517e-03 eta 0:31:50\n",
      "epoch [235/1000] batch [40/44] time 0.041 (0.048) data 0.000 (0.008) loss 0.5962 (1.1775) lr 3.0517e-03 eta 0:26:54\n",
      "Evaluate on the *val* set\n"
     ]
    },
    {
     "name": "stderr",
     "output_type": "stream",
     "text": [
      "\r",
      "  0%|          | 0/2 [00:00<?, ?it/s]\r",
      " 50%|█████     | 1/2 [00:00<00:00,  3.27it/s]\r",
      "100%|██████████| 2/2 [00:00<00:00,  5.25it/s]\n"
     ]
    },
    {
     "name": "stdout",
     "output_type": "stream",
     "text": [
      "=> result\n",
      "* total: 106\n",
      "* correct: 43\n",
      "* accuracy: 40.6%\n",
      "* error: 59.4%\n",
      "* macro_f1: 23.0%\n",
      "epoch [236/1000] batch [20/44] time 0.043 (0.055) data 0.000 (0.014) loss 1.8672 (1.0517) lr 3.0480e-03 eta 0:30:49\n",
      "epoch [236/1000] batch [40/44] time 0.042 (0.048) data 0.000 (0.007) loss 1.8281 (1.1921) lr 3.0480e-03 eta 0:27:02\n",
      "Evaluate on the *val* set\n"
     ]
    },
    {
     "name": "stderr",
     "output_type": "stream",
     "text": [
      "\r",
      "  0%|          | 0/2 [00:00<?, ?it/s]\r",
      " 50%|█████     | 1/2 [00:00<00:00,  3.32it/s]\r",
      "100%|██████████| 2/2 [00:00<00:00,  5.30it/s]\n"
     ]
    },
    {
     "name": "stdout",
     "output_type": "stream",
     "text": [
      "=> result\n",
      "* total: 106\n",
      "* correct: 44\n",
      "* accuracy: 41.5%\n",
      "* error: 58.5%\n",
      "* macro_f1: 24.1%\n",
      "epoch [237/1000] batch [20/44] time 0.043 (0.055) data 0.000 (0.014) loss 1.0518 (1.1093) lr 3.0444e-03 eta 0:30:58\n",
      "epoch [237/1000] batch [40/44] time 0.038 (0.048) data 0.000 (0.007) loss 1.4443 (1.0992) lr 3.0444e-03 eta 0:26:53\n",
      "Evaluate on the *val* set\n"
     ]
    },
    {
     "name": "stderr",
     "output_type": "stream",
     "text": [
      "\r",
      "  0%|          | 0/2 [00:00<?, ?it/s]\r",
      " 50%|█████     | 1/2 [00:00<00:00,  3.17it/s]\r",
      "100%|██████████| 2/2 [00:00<00:00,  5.00it/s]\n"
     ]
    },
    {
     "name": "stdout",
     "output_type": "stream",
     "text": [
      "=> result\n",
      "* total: 106\n",
      "* correct: 43\n",
      "* accuracy: 40.6%\n",
      "* error: 59.4%\n",
      "* macro_f1: 23.7%\n",
      "epoch [238/1000] batch [20/44] time 0.045 (0.055) data 0.000 (0.014) loss 0.8589 (1.1186) lr 3.0406e-03 eta 0:31:01\n",
      "epoch [238/1000] batch [40/44] time 0.041 (0.048) data 0.000 (0.007) loss 0.6421 (1.0310) lr 3.0406e-03 eta 0:26:54\n",
      "Evaluate on the *val* set\n"
     ]
    },
    {
     "name": "stderr",
     "output_type": "stream",
     "text": [
      "\r",
      "  0%|          | 0/2 [00:00<?, ?it/s]\r",
      " 50%|█████     | 1/2 [00:00<00:00,  3.22it/s]\r",
      "100%|██████████| 2/2 [00:00<00:00,  4.94it/s]\n"
     ]
    },
    {
     "name": "stdout",
     "output_type": "stream",
     "text": [
      "=> result\n",
      "* total: 106\n",
      "* correct: 42\n",
      "* accuracy: 39.6%\n",
      "* error: 60.4%\n",
      "* macro_f1: 23.0%\n",
      "epoch [239/1000] batch [20/44] time 0.041 (0.056) data 0.000 (0.014) loss 0.9126 (0.9433) lr 3.0369e-03 eta 0:31:17\n",
      "epoch [239/1000] batch [40/44] time 0.040 (0.048) data 0.000 (0.007) loss 1.4541 (1.1155) lr 3.0369e-03 eta 0:26:58\n",
      "Evaluate on the *val* set\n"
     ]
    },
    {
     "name": "stderr",
     "output_type": "stream",
     "text": [
      "\r",
      "  0%|          | 0/2 [00:00<?, ?it/s]\r",
      " 50%|█████     | 1/2 [00:00<00:00,  3.28it/s]\r",
      "100%|██████████| 2/2 [00:00<00:00,  5.29it/s]\n"
     ]
    },
    {
     "name": "stdout",
     "output_type": "stream",
     "text": [
      "=> result\n",
      "* total: 106\n",
      "* correct: 45\n",
      "* accuracy: 42.5%\n",
      "* error: 57.5%\n",
      "* macro_f1: 25.2%\n",
      "epoch [240/1000] batch [20/44] time 0.040 (0.055) data 0.000 (0.015) loss 1.5938 (0.9338) lr 3.0332e-03 eta 0:30:53\n",
      "epoch [240/1000] batch [40/44] time 0.035 (0.047) data 0.000 (0.007) loss 0.6753 (1.0290) lr 3.0332e-03 eta 0:26:25\n",
      "Evaluate on the *val* set\n"
     ]
    },
    {
     "name": "stderr",
     "output_type": "stream",
     "text": [
      "\r",
      "  0%|          | 0/2 [00:00<?, ?it/s]\r",
      " 50%|█████     | 1/2 [00:00<00:00,  3.17it/s]\r",
      "100%|██████████| 2/2 [00:00<00:00,  4.88it/s]\n"
     ]
    },
    {
     "name": "stdout",
     "output_type": "stream",
     "text": [
      "=> result\n",
      "* total: 106\n",
      "* correct: 43\n",
      "* accuracy: 40.6%\n",
      "* error: 59.4%\n",
      "* macro_f1: 22.4%\n",
      "epoch [241/1000] batch [20/44] time 0.047 (0.057) data 0.000 (0.015) loss 1.0430 (1.0008) lr 3.0295e-03 eta 0:31:31\n",
      "epoch [241/1000] batch [40/44] time 0.038 (0.048) data 0.000 (0.008) loss 1.3887 (1.0835) lr 3.0295e-03 eta 0:26:41\n",
      "Evaluate on the *val* set\n"
     ]
    },
    {
     "name": "stderr",
     "output_type": "stream",
     "text": [
      "\r",
      "  0%|          | 0/2 [00:00<?, ?it/s]\r",
      " 50%|█████     | 1/2 [00:00<00:00,  3.24it/s]\r",
      "100%|██████████| 2/2 [00:00<00:00,  5.11it/s]\n"
     ]
    },
    {
     "name": "stdout",
     "output_type": "stream",
     "text": [
      "=> result\n",
      "* total: 106\n",
      "* correct: 43\n",
      "* accuracy: 40.6%\n",
      "* error: 59.4%\n",
      "* macro_f1: 24.4%\n",
      "epoch [242/1000] batch [20/44] time 0.042 (0.057) data 0.000 (0.014) loss 0.7944 (0.9516) lr 3.0257e-03 eta 0:31:42\n",
      "epoch [242/1000] batch [40/44] time 0.041 (0.049) data 0.000 (0.007) loss 1.9229 (1.0165) lr 3.0257e-03 eta 0:27:13\n",
      "Evaluate on the *val* set\n"
     ]
    },
    {
     "name": "stderr",
     "output_type": "stream",
     "text": [
      "\r",
      "  0%|          | 0/2 [00:00<?, ?it/s]\r",
      " 50%|█████     | 1/2 [00:00<00:00,  3.28it/s]\r",
      "100%|██████████| 2/2 [00:00<00:00,  5.31it/s]\n"
     ]
    },
    {
     "name": "stdout",
     "output_type": "stream",
     "text": [
      "=> result\n",
      "* total: 106\n",
      "* correct: 45\n",
      "* accuracy: 42.5%\n",
      "* error: 57.5%\n",
      "* macro_f1: 22.6%\n",
      "epoch [243/1000] batch [20/44] time 0.044 (0.055) data 0.000 (0.014) loss 2.3789 (1.2799) lr 3.0219e-03 eta 0:30:38\n",
      "epoch [243/1000] batch [40/44] time 0.038 (0.048) data 0.000 (0.007) loss 0.9321 (1.1397) lr 3.0219e-03 eta 0:26:39\n",
      "Evaluate on the *val* set\n"
     ]
    },
    {
     "name": "stderr",
     "output_type": "stream",
     "text": [
      "\r",
      "  0%|          | 0/2 [00:00<?, ?it/s]\r",
      " 50%|█████     | 1/2 [00:00<00:00,  3.31it/s]\r",
      "100%|██████████| 2/2 [00:00<00:00,  5.20it/s]\n"
     ]
    },
    {
     "name": "stdout",
     "output_type": "stream",
     "text": [
      "=> result\n",
      "* total: 106\n",
      "* correct: 45\n",
      "* accuracy: 42.5%\n",
      "* error: 57.5%\n",
      "* macro_f1: 24.5%\n",
      "epoch [244/1000] batch [20/44] time 0.041 (0.055) data 0.000 (0.015) loss 0.9116 (1.0011) lr 3.0181e-03 eta 0:30:37\n",
      "epoch [244/1000] batch [40/44] time 0.041 (0.047) data 0.000 (0.008) loss 1.1318 (1.1181) lr 3.0181e-03 eta 0:26:14\n",
      "Evaluate on the *val* set\n"
     ]
    },
    {
     "name": "stderr",
     "output_type": "stream",
     "text": [
      "\r",
      "  0%|          | 0/2 [00:00<?, ?it/s]\r",
      " 50%|█████     | 1/2 [00:00<00:00,  3.29it/s]\r",
      "100%|██████████| 2/2 [00:00<00:00,  5.22it/s]\n"
     ]
    },
    {
     "name": "stdout",
     "output_type": "stream",
     "text": [
      "=> result\n",
      "* total: 106\n",
      "* correct: 44\n",
      "* accuracy: 41.5%\n",
      "* error: 58.5%\n",
      "* macro_f1: 20.5%\n",
      "epoch [245/1000] batch [20/44] time 0.036 (0.056) data 0.000 (0.015) loss 1.1035 (1.0650) lr 3.0143e-03 eta 0:30:58\n",
      "epoch [245/1000] batch [40/44] time 0.038 (0.047) data 0.000 (0.007) loss 1.1797 (1.0719) lr 3.0143e-03 eta 0:26:08\n",
      "Evaluate on the *val* set\n"
     ]
    },
    {
     "name": "stderr",
     "output_type": "stream",
     "text": [
      "\r",
      "  0%|          | 0/2 [00:00<?, ?it/s]\r",
      " 50%|█████     | 1/2 [00:00<00:00,  3.30it/s]\r",
      "100%|██████████| 2/2 [00:00<00:00,  5.29it/s]\n"
     ]
    },
    {
     "name": "stdout",
     "output_type": "stream",
     "text": [
      "=> result\n",
      "* total: 106\n",
      "* correct: 45\n",
      "* accuracy: 42.5%\n",
      "* error: 57.5%\n",
      "* macro_f1: 26.3%\n",
      "epoch [246/1000] batch [20/44] time 0.040 (0.055) data 0.000 (0.014) loss 1.1748 (0.9959) lr 3.0105e-03 eta 0:30:30\n",
      "epoch [246/1000] batch [40/44] time 0.042 (0.048) data 0.000 (0.007) loss 1.0166 (1.0613) lr 3.0105e-03 eta 0:26:22\n",
      "Evaluate on the *val* set\n"
     ]
    },
    {
     "name": "stderr",
     "output_type": "stream",
     "text": [
      "\r",
      "  0%|          | 0/2 [00:00<?, ?it/s]\r",
      " 50%|█████     | 1/2 [00:00<00:00,  3.29it/s]\r",
      "100%|██████████| 2/2 [00:00<00:00,  5.30it/s]\n"
     ]
    },
    {
     "name": "stdout",
     "output_type": "stream",
     "text": [
      "=> result\n",
      "* total: 106\n",
      "* correct: 42\n",
      "* accuracy: 39.6%\n",
      "* error: 60.4%\n",
      "* macro_f1: 24.2%\n",
      "epoch [247/1000] batch [20/44] time 0.039 (0.057) data 0.000 (0.016) loss 0.6738 (0.9721) lr 3.0067e-03 eta 0:31:38\n",
      "epoch [247/1000] batch [40/44] time 0.040 (0.049) data 0.000 (0.008) loss 0.7173 (1.0133) lr 3.0067e-03 eta 0:26:49\n",
      "Evaluate on the *val* set\n"
     ]
    },
    {
     "name": "stderr",
     "output_type": "stream",
     "text": [
      "\r",
      "  0%|          | 0/2 [00:00<?, ?it/s]\r",
      " 50%|█████     | 1/2 [00:00<00:00,  3.24it/s]\r",
      "100%|██████████| 2/2 [00:00<00:00,  4.99it/s]\n"
     ]
    },
    {
     "name": "stdout",
     "output_type": "stream",
     "text": [
      "=> result\n",
      "* total: 106\n",
      "* correct: 42\n",
      "* accuracy: 39.6%\n",
      "* error: 60.4%\n",
      "* macro_f1: 23.1%\n",
      "epoch [248/1000] batch [20/44] time 0.042 (0.058) data 0.000 (0.016) loss 1.1855 (1.1420) lr 3.0029e-03 eta 0:31:59\n",
      "epoch [248/1000] batch [40/44] time 0.041 (0.049) data 0.000 (0.008) loss 1.2744 (1.0257) lr 3.0029e-03 eta 0:26:51\n",
      "Evaluate on the *val* set\n"
     ]
    },
    {
     "name": "stderr",
     "output_type": "stream",
     "text": [
      "\r",
      "  0%|          | 0/2 [00:00<?, ?it/s]\r",
      " 50%|█████     | 1/2 [00:00<00:00,  3.12it/s]\r",
      "100%|██████████| 2/2 [00:00<00:00,  4.97it/s]\n"
     ]
    },
    {
     "name": "stdout",
     "output_type": "stream",
     "text": [
      "=> result\n",
      "* total: 106\n",
      "* correct: 45\n",
      "* accuracy: 42.5%\n",
      "* error: 57.5%\n",
      "* macro_f1: 27.4%\n",
      "epoch [249/1000] batch [20/44] time 0.039 (0.054) data 0.000 (0.014) loss 1.1533 (0.9311) lr 2.9990e-03 eta 0:29:47\n",
      "epoch [249/1000] batch [40/44] time 0.038 (0.047) data 0.000 (0.007) loss 0.7402 (1.0320) lr 2.9990e-03 eta 0:26:04\n",
      "Evaluate on the *val* set\n"
     ]
    },
    {
     "name": "stderr",
     "output_type": "stream",
     "text": [
      "\r",
      "  0%|          | 0/2 [00:00<?, ?it/s]\r",
      " 50%|█████     | 1/2 [00:00<00:00,  3.30it/s]\r",
      "100%|██████████| 2/2 [00:00<00:00,  5.22it/s]\n"
     ]
    },
    {
     "name": "stdout",
     "output_type": "stream",
     "text": [
      "=> result\n",
      "* total: 106\n",
      "* correct: 45\n",
      "* accuracy: 42.5%\n",
      "* error: 57.5%\n",
      "* macro_f1: 22.9%\n",
      "epoch [250/1000] batch [20/44] time 0.041 (0.055) data 0.000 (0.014) loss 1.2100 (1.0768) lr 2.9952e-03 eta 0:30:12\n",
      "epoch [250/1000] batch [40/44] time 0.039 (0.047) data 0.000 (0.007) loss 1.7881 (1.1502) lr 2.9952e-03 eta 0:25:44\n",
      "Evaluate on the *val* set\n"
     ]
    },
    {
     "name": "stderr",
     "output_type": "stream",
     "text": [
      "\r",
      "  0%|          | 0/2 [00:00<?, ?it/s]\r",
      " 50%|█████     | 1/2 [00:00<00:00,  3.28it/s]\r",
      "100%|██████████| 2/2 [00:00<00:00,  5.00it/s]\n"
     ]
    },
    {
     "name": "stdout",
     "output_type": "stream",
     "text": [
      "=> result\n",
      "* total: 106\n",
      "* correct: 42\n",
      "* accuracy: 39.6%\n",
      "* error: 60.4%\n",
      "* macro_f1: 23.2%\n",
      "epoch [251/1000] batch [20/44] time 0.040 (0.055) data 0.000 (0.015) loss 1.4648 (1.0102) lr 2.9913e-03 eta 0:30:21\n",
      "epoch [251/1000] batch [40/44] time 0.042 (0.048) data 0.000 (0.008) loss 1.7021 (0.9980) lr 2.9913e-03 eta 0:26:12\n",
      "Evaluate on the *val* set\n"
     ]
    },
    {
     "name": "stderr",
     "output_type": "stream",
     "text": [
      "\r",
      "  0%|          | 0/2 [00:00<?, ?it/s]\r",
      " 50%|█████     | 1/2 [00:00<00:00,  3.33it/s]\r",
      "100%|██████████| 2/2 [00:00<00:00,  5.22it/s]\n"
     ]
    },
    {
     "name": "stdout",
     "output_type": "stream",
     "text": [
      "=> result\n",
      "* total: 106\n",
      "* correct: 44\n",
      "* accuracy: 41.5%\n",
      "* error: 58.5%\n",
      "* macro_f1: 22.7%\n",
      "epoch [252/1000] batch [20/44] time 0.042 (0.056) data 0.000 (0.014) loss 0.4526 (0.9172) lr 2.9874e-03 eta 0:30:36\n",
      "epoch [252/1000] batch [40/44] time 0.041 (0.048) data 0.000 (0.007) loss 0.9517 (1.0680) lr 2.9874e-03 eta 0:26:05\n",
      "Evaluate on the *val* set\n"
     ]
    },
    {
     "name": "stderr",
     "output_type": "stream",
     "text": [
      "\r",
      "  0%|          | 0/2 [00:00<?, ?it/s]\r",
      " 50%|█████     | 1/2 [00:00<00:00,  3.35it/s]\r",
      "100%|██████████| 2/2 [00:00<00:00,  5.11it/s]\n"
     ]
    },
    {
     "name": "stdout",
     "output_type": "stream",
     "text": [
      "=> result\n",
      "* total: 106\n",
      "* correct: 41\n",
      "* accuracy: 38.7%\n",
      "* error: 61.3%\n",
      "* macro_f1: 23.4%\n",
      "epoch [253/1000] batch [20/44] time 0.041 (0.056) data 0.000 (0.014) loss 1.2578 (0.8620) lr 2.9835e-03 eta 0:30:26\n",
      "epoch [253/1000] batch [40/44] time 0.042 (0.048) data 0.000 (0.007) loss 0.9731 (0.9771) lr 2.9835e-03 eta 0:26:11\n",
      "Evaluate on the *val* set\n"
     ]
    },
    {
     "name": "stderr",
     "output_type": "stream",
     "text": [
      "\r",
      "  0%|          | 0/2 [00:00<?, ?it/s]\r",
      " 50%|█████     | 1/2 [00:00<00:00,  3.33it/s]\r",
      "100%|██████████| 2/2 [00:00<00:00,  5.27it/s]\n"
     ]
    },
    {
     "name": "stdout",
     "output_type": "stream",
     "text": [
      "=> result\n",
      "* total: 106\n",
      "* correct: 44\n",
      "* accuracy: 41.5%\n",
      "* error: 58.5%\n",
      "* macro_f1: 25.7%\n",
      "epoch [254/1000] batch [20/44] time 0.042 (0.056) data 0.000 (0.015) loss 1.1055 (0.9591) lr 2.9796e-03 eta 0:30:40\n",
      "epoch [254/1000] batch [40/44] time 0.037 (0.048) data 0.000 (0.007) loss 1.9346 (0.9993) lr 2.9796e-03 eta 0:26:08\n",
      "Evaluate on the *val* set\n"
     ]
    },
    {
     "name": "stderr",
     "output_type": "stream",
     "text": [
      "\r",
      "  0%|          | 0/2 [00:00<?, ?it/s]\r",
      " 50%|█████     | 1/2 [00:00<00:00,  3.30it/s]\r",
      "100%|██████████| 2/2 [00:00<00:00,  5.19it/s]\n"
     ]
    },
    {
     "name": "stdout",
     "output_type": "stream",
     "text": [
      "=> result\n",
      "* total: 106\n",
      "* correct: 45\n",
      "* accuracy: 42.5%\n",
      "* error: 57.5%\n",
      "* macro_f1: 26.7%\n",
      "epoch [255/1000] batch [20/44] time 0.040 (0.056) data 0.000 (0.015) loss 1.8359 (1.1542) lr 2.9757e-03 eta 0:30:39\n",
      "epoch [255/1000] batch [40/44] time 0.041 (0.048) data 0.000 (0.008) loss 2.0215 (1.0647) lr 2.9757e-03 eta 0:26:23\n",
      "Evaluate on the *val* set\n"
     ]
    },
    {
     "name": "stderr",
     "output_type": "stream",
     "text": [
      "\r",
      "  0%|          | 0/2 [00:00<?, ?it/s]\r",
      " 50%|█████     | 1/2 [00:00<00:00,  3.27it/s]\r",
      "100%|██████████| 2/2 [00:00<00:00,  5.14it/s]\n"
     ]
    },
    {
     "name": "stdout",
     "output_type": "stream",
     "text": [
      "=> result\n",
      "* total: 106\n",
      "* correct: 44\n",
      "* accuracy: 41.5%\n",
      "* error: 58.5%\n",
      "* macro_f1: 25.3%\n",
      "epoch [256/1000] batch [20/44] time 0.040 (0.056) data 0.000 (0.015) loss 0.8584 (1.0092) lr 2.9718e-03 eta 0:30:26\n",
      "epoch [256/1000] batch [40/44] time 0.042 (0.048) data 0.000 (0.007) loss 1.4854 (1.1304) lr 2.9718e-03 eta 0:26:10\n",
      "Evaluate on the *val* set\n"
     ]
    },
    {
     "name": "stderr",
     "output_type": "stream",
     "text": [
      "\r",
      "  0%|          | 0/2 [00:00<?, ?it/s]\r",
      " 50%|█████     | 1/2 [00:00<00:00,  3.28it/s]\r",
      "100%|██████████| 2/2 [00:00<00:00,  5.25it/s]\n"
     ]
    },
    {
     "name": "stdout",
     "output_type": "stream",
     "text": [
      "=> result\n",
      "* total: 106\n",
      "* correct: 44\n",
      "* accuracy: 41.5%\n",
      "* error: 58.5%\n",
      "* macro_f1: 29.6%\n",
      "epoch [257/1000] batch [20/44] time 0.038 (0.056) data 0.000 (0.015) loss 0.6660 (1.0586) lr 2.9678e-03 eta 0:30:27\n",
      "epoch [257/1000] batch [40/44] time 0.038 (0.048) data 0.000 (0.008) loss 0.8760 (1.0162) lr 2.9678e-03 eta 0:25:57\n",
      "Evaluate on the *val* set\n"
     ]
    },
    {
     "name": "stderr",
     "output_type": "stream",
     "text": [
      "\r",
      "  0%|          | 0/2 [00:00<?, ?it/s]\r",
      " 50%|█████     | 1/2 [00:00<00:00,  3.22it/s]\r",
      "100%|██████████| 2/2 [00:00<00:00,  5.14it/s]\n"
     ]
    },
    {
     "name": "stdout",
     "output_type": "stream",
     "text": [
      "=> result\n",
      "* total: 106\n",
      "* correct: 36\n",
      "* accuracy: 34.0%\n",
      "* error: 66.0%\n",
      "* macro_f1: 23.4%\n",
      "epoch [258/1000] batch [20/44] time 0.043 (0.058) data 0.000 (0.015) loss 0.6572 (1.0766) lr 2.9639e-03 eta 0:31:27\n",
      "epoch [258/1000] batch [40/44] time 0.042 (0.049) data 0.000 (0.008) loss 0.7432 (1.0785) lr 2.9639e-03 eta 0:26:40\n",
      "Evaluate on the *val* set\n"
     ]
    },
    {
     "name": "stderr",
     "output_type": "stream",
     "text": [
      "\r",
      "  0%|          | 0/2 [00:00<?, ?it/s]\r",
      " 50%|█████     | 1/2 [00:00<00:00,  3.19it/s]\r",
      "100%|██████████| 2/2 [00:00<00:00,  5.13it/s]\n"
     ]
    },
    {
     "name": "stdout",
     "output_type": "stream",
     "text": [
      "=> result\n",
      "* total: 106\n",
      "* correct: 43\n",
      "* accuracy: 40.6%\n",
      "* error: 59.4%\n",
      "* macro_f1: 24.5%\n",
      "epoch [259/1000] batch [20/44] time 0.039 (0.055) data 0.000 (0.014) loss 0.9712 (0.8737) lr 2.9599e-03 eta 0:30:04\n",
      "epoch [259/1000] batch [40/44] time 0.035 (0.047) data 0.000 (0.007) loss 0.8579 (0.9421) lr 2.9599e-03 eta 0:25:45\n",
      "Evaluate on the *val* set\n"
     ]
    },
    {
     "name": "stderr",
     "output_type": "stream",
     "text": [
      "\r",
      "  0%|          | 0/2 [00:00<?, ?it/s]\r",
      " 50%|█████     | 1/2 [00:00<00:00,  3.29it/s]\r",
      "100%|██████████| 2/2 [00:00<00:00,  5.18it/s]\n"
     ]
    },
    {
     "name": "stdout",
     "output_type": "stream",
     "text": [
      "=> result\n",
      "* total: 106\n",
      "* correct: 44\n",
      "* accuracy: 41.5%\n",
      "* error: 58.5%\n",
      "* macro_f1: 25.2%\n",
      "epoch [260/1000] batch [20/44] time 0.040 (0.054) data 0.000 (0.014) loss 1.9131 (0.9032) lr 2.9559e-03 eta 0:29:14\n",
      "epoch [260/1000] batch [40/44] time 0.037 (0.047) data 0.000 (0.007) loss 2.3945 (1.0456) lr 2.9559e-03 eta 0:25:29\n",
      "Evaluate on the *val* set\n"
     ]
    },
    {
     "name": "stderr",
     "output_type": "stream",
     "text": [
      "\r",
      "  0%|          | 0/2 [00:00<?, ?it/s]\r",
      " 50%|█████     | 1/2 [00:00<00:00,  3.26it/s]\r",
      "100%|██████████| 2/2 [00:00<00:00,  5.00it/s]\n"
     ]
    },
    {
     "name": "stdout",
     "output_type": "stream",
     "text": [
      "=> result\n",
      "* total: 106\n",
      "* correct: 36\n",
      "* accuracy: 34.0%\n",
      "* error: 66.0%\n",
      "* macro_f1: 25.5%\n",
      "epoch [261/1000] batch [20/44] time 0.037 (0.055) data 0.000 (0.015) loss 0.6460 (1.1090) lr 2.9520e-03 eta 0:29:43\n",
      "epoch [261/1000] batch [40/44] time 0.035 (0.047) data 0.000 (0.008) loss 1.5928 (1.0835) lr 2.9520e-03 eta 0:25:20\n",
      "Evaluate on the *val* set\n"
     ]
    },
    {
     "name": "stderr",
     "output_type": "stream",
     "text": [
      "\r",
      "  0%|          | 0/2 [00:00<?, ?it/s]\r",
      " 50%|█████     | 1/2 [00:00<00:00,  3.26it/s]\r",
      "100%|██████████| 2/2 [00:00<00:00,  5.23it/s]\n"
     ]
    },
    {
     "name": "stdout",
     "output_type": "stream",
     "text": [
      "=> result\n",
      "* total: 106\n",
      "* correct: 44\n",
      "* accuracy: 41.5%\n",
      "* error: 58.5%\n",
      "* macro_f1: 23.6%\n",
      "epoch [262/1000] batch [20/44] time 0.044 (0.057) data 0.000 (0.014) loss 1.1104 (0.8995) lr 2.9480e-03 eta 0:30:51\n",
      "epoch [262/1000] batch [40/44] time 0.042 (0.049) data 0.000 (0.007) loss 1.9102 (1.0014) lr 2.9480e-03 eta 0:26:35\n",
      "Evaluate on the *val* set\n"
     ]
    },
    {
     "name": "stderr",
     "output_type": "stream",
     "text": [
      "\r",
      "  0%|          | 0/2 [00:00<?, ?it/s]\r",
      " 50%|█████     | 1/2 [00:00<00:00,  3.17it/s]\r",
      "100%|██████████| 2/2 [00:00<00:00,  5.15it/s]\n"
     ]
    },
    {
     "name": "stdout",
     "output_type": "stream",
     "text": [
      "=> result\n",
      "* total: 106\n",
      "* correct: 47\n",
      "* accuracy: 44.3%\n",
      "* error: 55.7%\n",
      "* macro_f1: 28.8%\n",
      "epoch [263/1000] batch [20/44] time 0.041 (0.055) data 0.000 (0.015) loss 0.5781 (0.8198) lr 2.9439e-03 eta 0:29:42\n",
      "epoch [263/1000] batch [40/44] time 0.036 (0.047) data 0.000 (0.007) loss 0.6211 (0.9660) lr 2.9439e-03 eta 0:25:37\n",
      "Evaluate on the *val* set\n"
     ]
    },
    {
     "name": "stderr",
     "output_type": "stream",
     "text": [
      "\r",
      "  0%|          | 0/2 [00:00<?, ?it/s]\r",
      " 50%|█████     | 1/2 [00:00<00:00,  3.31it/s]\r",
      "100%|██████████| 2/2 [00:00<00:00,  5.28it/s]\n"
     ]
    },
    {
     "name": "stdout",
     "output_type": "stream",
     "text": [
      "=> result\n",
      "* total: 106\n",
      "* correct: 42\n",
      "* accuracy: 39.6%\n",
      "* error: 60.4%\n",
      "* macro_f1: 20.0%\n",
      "epoch [264/1000] batch [20/44] time 0.038 (0.057) data 0.000 (0.017) loss 1.0508 (1.0396) lr 2.9399e-03 eta 0:30:56\n",
      "epoch [264/1000] batch [40/44] time 0.040 (0.048) data 0.000 (0.009) loss 0.3801 (1.0075) lr 2.9399e-03 eta 0:26:08\n",
      "Evaluate on the *val* set\n"
     ]
    },
    {
     "name": "stderr",
     "output_type": "stream",
     "text": [
      "\r",
      "  0%|          | 0/2 [00:00<?, ?it/s]\r",
      " 50%|█████     | 1/2 [00:00<00:00,  3.28it/s]\r",
      "100%|██████████| 2/2 [00:00<00:00,  5.21it/s]\n"
     ]
    },
    {
     "name": "stdout",
     "output_type": "stream",
     "text": [
      "=> result\n",
      "* total: 106\n",
      "* correct: 41\n",
      "* accuracy: 38.7%\n",
      "* error: 61.3%\n",
      "* macro_f1: 22.4%\n",
      "epoch [265/1000] batch [20/44] time 0.037 (0.056) data 0.000 (0.015) loss 0.3613 (0.9559) lr 2.9359e-03 eta 0:29:57\n",
      "epoch [265/1000] batch [40/44] time 0.036 (0.048) data 0.000 (0.007) loss 0.3584 (1.0446) lr 2.9359e-03 eta 0:25:44\n",
      "Evaluate on the *val* set\n"
     ]
    },
    {
     "name": "stderr",
     "output_type": "stream",
     "text": [
      "\r",
      "  0%|          | 0/2 [00:00<?, ?it/s]\r",
      " 50%|█████     | 1/2 [00:00<00:00,  3.13it/s]\r",
      "100%|██████████| 2/2 [00:00<00:00,  4.99it/s]\n"
     ]
    },
    {
     "name": "stdout",
     "output_type": "stream",
     "text": [
      "=> result\n",
      "* total: 106\n",
      "* correct: 44\n",
      "* accuracy: 41.5%\n",
      "* error: 58.5%\n",
      "* macro_f1: 24.9%\n",
      "epoch [266/1000] batch [20/44] time 0.044 (0.056) data 0.000 (0.014) loss 0.3022 (0.9740) lr 2.9318e-03 eta 0:30:13\n",
      "epoch [266/1000] batch [40/44] time 0.039 (0.048) data 0.000 (0.007) loss 0.3901 (1.0097) lr 2.9318e-03 eta 0:25:46\n",
      "Evaluate on the *val* set\n"
     ]
    },
    {
     "name": "stderr",
     "output_type": "stream",
     "text": [
      "\r",
      "  0%|          | 0/2 [00:00<?, ?it/s]\r",
      " 50%|█████     | 1/2 [00:00<00:00,  3.38it/s]\r",
      "100%|██████████| 2/2 [00:00<00:00,  5.46it/s]\n"
     ]
    },
    {
     "name": "stdout",
     "output_type": "stream",
     "text": [
      "=> result\n",
      "* total: 106\n",
      "* correct: 47\n",
      "* accuracy: 44.3%\n",
      "* error: 55.7%\n",
      "* macro_f1: 29.0%\n",
      "epoch [267/1000] batch [20/44] time 0.037 (0.057) data 0.000 (0.017) loss 0.8374 (0.9822) lr 2.9278e-03 eta 0:30:29\n",
      "epoch [267/1000] batch [40/44] time 0.042 (0.048) data 0.000 (0.008) loss 0.2354 (0.9831) lr 2.9278e-03 eta 0:25:56\n",
      "Evaluate on the *val* set\n"
     ]
    },
    {
     "name": "stderr",
     "output_type": "stream",
     "text": [
      "\r",
      "  0%|          | 0/2 [00:00<?, ?it/s]\r",
      " 50%|█████     | 1/2 [00:00<00:00,  3.29it/s]\r",
      "100%|██████████| 2/2 [00:00<00:00,  5.25it/s]\n"
     ]
    },
    {
     "name": "stdout",
     "output_type": "stream",
     "text": [
      "=> result\n",
      "* total: 106\n",
      "* correct: 44\n",
      "* accuracy: 41.5%\n",
      "* error: 58.5%\n",
      "* macro_f1: 23.9%\n",
      "epoch [268/1000] batch [20/44] time 0.042 (0.056) data 0.000 (0.015) loss 0.9561 (0.8578) lr 2.9237e-03 eta 0:30:11\n",
      "epoch [268/1000] batch [40/44] time 0.042 (0.048) data 0.000 (0.007) loss 1.0850 (1.0097) lr 2.9237e-03 eta 0:25:33\n",
      "Evaluate on the *val* set\n"
     ]
    },
    {
     "name": "stderr",
     "output_type": "stream",
     "text": [
      "\r",
      "  0%|          | 0/2 [00:00<?, ?it/s]\r",
      " 50%|█████     | 1/2 [00:00<00:00,  3.26it/s]\r",
      "100%|██████████| 2/2 [00:00<00:00,  5.19it/s]\n"
     ]
    },
    {
     "name": "stdout",
     "output_type": "stream",
     "text": [
      "=> result\n",
      "* total: 106\n",
      "* correct: 47\n",
      "* accuracy: 44.3%\n",
      "* error: 55.7%\n",
      "* macro_f1: 24.7%\n",
      "epoch [269/1000] batch [20/44] time 0.042 (0.056) data 0.000 (0.015) loss 0.5938 (0.8658) lr 2.9196e-03 eta 0:30:09\n",
      "epoch [269/1000] batch [40/44] time 0.037 (0.048) data 0.000 (0.008) loss 1.5283 (0.9464) lr 2.9196e-03 eta 0:25:29\n",
      "Evaluate on the *val* set\n"
     ]
    },
    {
     "name": "stderr",
     "output_type": "stream",
     "text": [
      "\r",
      "  0%|          | 0/2 [00:00<?, ?it/s]\r",
      " 50%|█████     | 1/2 [00:00<00:00,  3.28it/s]\r",
      "100%|██████████| 2/2 [00:00<00:00,  5.17it/s]\n"
     ]
    },
    {
     "name": "stdout",
     "output_type": "stream",
     "text": [
      "=> result\n",
      "* total: 106\n",
      "* correct: 45\n",
      "* accuracy: 42.5%\n",
      "* error: 57.5%\n",
      "* macro_f1: 25.6%\n",
      "epoch [270/1000] batch [20/44] time 0.040 (0.055) data 0.000 (0.015) loss 1.2012 (0.9974) lr 2.9155e-03 eta 0:29:19\n",
      "epoch [270/1000] batch [40/44] time 0.036 (0.047) data 0.000 (0.007) loss 1.0078 (1.0362) lr 2.9155e-03 eta 0:25:22\n",
      "Evaluate on the *val* set\n"
     ]
    },
    {
     "name": "stderr",
     "output_type": "stream",
     "text": [
      "\r",
      "  0%|          | 0/2 [00:00<?, ?it/s]\r",
      " 50%|█████     | 1/2 [00:00<00:00,  3.26it/s]\r",
      "100%|██████████| 2/2 [00:00<00:00,  5.13it/s]\n"
     ]
    },
    {
     "name": "stdout",
     "output_type": "stream",
     "text": [
      "=> result\n",
      "* total: 106\n",
      "* correct: 45\n",
      "* accuracy: 42.5%\n",
      "* error: 57.5%\n",
      "* macro_f1: 25.4%\n",
      "epoch [271/1000] batch [20/44] time 0.043 (0.055) data 0.000 (0.014) loss 0.8682 (0.8905) lr 2.9114e-03 eta 0:29:26\n",
      "epoch [271/1000] batch [40/44] time 0.042 (0.048) data 0.000 (0.007) loss 0.5903 (0.9974) lr 2.9114e-03 eta 0:25:31\n",
      "Evaluate on the *val* set\n"
     ]
    },
    {
     "name": "stderr",
     "output_type": "stream",
     "text": [
      "\r",
      "  0%|          | 0/2 [00:00<?, ?it/s]\r",
      " 50%|█████     | 1/2 [00:00<00:00,  3.31it/s]\r",
      "100%|██████████| 2/2 [00:00<00:00,  5.27it/s]\n"
     ]
    },
    {
     "name": "stdout",
     "output_type": "stream",
     "text": [
      "=> result\n",
      "* total: 106\n",
      "* correct: 43\n",
      "* accuracy: 40.6%\n",
      "* error: 59.4%\n",
      "* macro_f1: 23.8%\n",
      "epoch [272/1000] batch [20/44] time 0.045 (0.057) data 0.000 (0.016) loss 0.7798 (0.9383) lr 2.9073e-03 eta 0:30:42\n",
      "epoch [272/1000] batch [40/44] time 0.041 (0.048) data 0.000 (0.008) loss 0.5957 (0.9728) lr 2.9073e-03 eta 0:25:39\n",
      "Evaluate on the *val* set\n"
     ]
    },
    {
     "name": "stderr",
     "output_type": "stream",
     "text": [
      "\r",
      "  0%|          | 0/2 [00:00<?, ?it/s]\r",
      " 50%|█████     | 1/2 [00:00<00:00,  3.30it/s]\r",
      "100%|██████████| 2/2 [00:00<00:00,  5.28it/s]\n"
     ]
    },
    {
     "name": "stdout",
     "output_type": "stream",
     "text": [
      "=> result\n",
      "* total: 106\n",
      "* correct: 41\n",
      "* accuracy: 38.7%\n",
      "* error: 61.3%\n",
      "* macro_f1: 22.9%\n",
      "epoch [273/1000] batch [20/44] time 0.039 (0.053) data 0.000 (0.016) loss 1.2588 (1.0687) lr 2.9032e-03 eta 0:28:29\n",
      "epoch [273/1000] batch [40/44] time 0.038 (0.047) data 0.000 (0.008) loss 0.6587 (1.0261) lr 2.9032e-03 eta 0:25:02\n",
      "Evaluate on the *val* set\n"
     ]
    },
    {
     "name": "stderr",
     "output_type": "stream",
     "text": [
      "\r",
      "  0%|          | 0/2 [00:00<?, ?it/s]\r",
      " 50%|█████     | 1/2 [00:00<00:00,  3.31it/s]\r",
      "100%|██████████| 2/2 [00:00<00:00,  5.33it/s]\n"
     ]
    },
    {
     "name": "stdout",
     "output_type": "stream",
     "text": [
      "=> result\n",
      "* total: 106\n",
      "* correct: 44\n",
      "* accuracy: 41.5%\n",
      "* error: 58.5%\n",
      "* macro_f1: 24.1%\n",
      "epoch [274/1000] batch [20/44] time 0.038 (0.054) data 0.000 (0.014) loss 1.2090 (0.8389) lr 2.8990e-03 eta 0:28:49\n",
      "epoch [274/1000] batch [40/44] time 0.034 (0.047) data 0.000 (0.007) loss 1.3477 (0.9483) lr 2.8990e-03 eta 0:24:52\n",
      "Evaluate on the *val* set\n"
     ]
    },
    {
     "name": "stderr",
     "output_type": "stream",
     "text": [
      "\r",
      "  0%|          | 0/2 [00:00<?, ?it/s]\r",
      " 50%|█████     | 1/2 [00:00<00:00,  3.23it/s]\r",
      "100%|██████████| 2/2 [00:00<00:00,  5.12it/s]\n"
     ]
    },
    {
     "name": "stdout",
     "output_type": "stream",
     "text": [
      "=> result\n",
      "* total: 106\n",
      "* correct: 44\n",
      "* accuracy: 41.5%\n",
      "* error: 58.5%\n",
      "* macro_f1: 26.0%\n",
      "epoch [275/1000] batch [20/44] time 0.043 (0.054) data 0.000 (0.014) loss 0.9243 (1.0817) lr 2.8949e-03 eta 0:28:57\n",
      "epoch [275/1000] batch [40/44] time 0.036 (0.047) data 0.000 (0.007) loss 0.6206 (0.9699) lr 2.8949e-03 eta 0:25:05\n",
      "Evaluate on the *val* set\n"
     ]
    },
    {
     "name": "stderr",
     "output_type": "stream",
     "text": [
      "\r",
      "  0%|          | 0/2 [00:00<?, ?it/s]\r",
      " 50%|█████     | 1/2 [00:00<00:00,  3.18it/s]\r",
      "100%|██████████| 2/2 [00:00<00:00,  5.10it/s]\n"
     ]
    },
    {
     "name": "stdout",
     "output_type": "stream",
     "text": [
      "=> result\n",
      "* total: 106\n",
      "* correct: 44\n",
      "* accuracy: 41.5%\n",
      "* error: 58.5%\n",
      "* macro_f1: 22.2%\n",
      "epoch [276/1000] batch [20/44] time 0.038 (0.052) data 0.000 (0.015) loss 1.0645 (0.9402) lr 2.8907e-03 eta 0:27:44\n",
      "epoch [276/1000] batch [40/44] time 0.042 (0.046) data 0.000 (0.007) loss 1.3555 (0.9668) lr 2.8907e-03 eta 0:24:32\n",
      "Evaluate on the *val* set\n"
     ]
    },
    {
     "name": "stderr",
     "output_type": "stream",
     "text": [
      "\r",
      "  0%|          | 0/2 [00:00<?, ?it/s]\r",
      " 50%|█████     | 1/2 [00:00<00:00,  3.33it/s]\r",
      "100%|██████████| 2/2 [00:00<00:00,  5.15it/s]\n"
     ]
    },
    {
     "name": "stdout",
     "output_type": "stream",
     "text": [
      "=> result\n",
      "* total: 106\n",
      "* correct: 43\n",
      "* accuracy: 40.6%\n",
      "* error: 59.4%\n",
      "* macro_f1: 24.0%\n",
      "epoch [277/1000] batch [20/44] time 0.042 (0.057) data 0.000 (0.015) loss 1.1963 (0.9702) lr 2.8865e-03 eta 0:30:00\n",
      "epoch [277/1000] batch [40/44] time 0.035 (0.048) data 0.000 (0.008) loss 1.5322 (0.9456) lr 2.8865e-03 eta 0:25:35\n",
      "Evaluate on the *val* set\n"
     ]
    },
    {
     "name": "stderr",
     "output_type": "stream",
     "text": [
      "\r",
      "  0%|          | 0/2 [00:00<?, ?it/s]\r",
      " 50%|█████     | 1/2 [00:00<00:00,  3.29it/s]\r",
      "100%|██████████| 2/2 [00:00<00:00,  5.22it/s]\n"
     ]
    },
    {
     "name": "stdout",
     "output_type": "stream",
     "text": [
      "=> result\n",
      "* total: 106\n",
      "* correct: 40\n",
      "* accuracy: 37.7%\n",
      "* error: 62.3%\n",
      "* macro_f1: 20.8%\n",
      "epoch [278/1000] batch [20/44] time 0.036 (0.057) data 0.000 (0.017) loss 0.8262 (1.0191) lr 2.8823e-03 eta 0:30:16\n",
      "epoch [278/1000] batch [40/44] time 0.039 (0.049) data 0.000 (0.008) loss 0.6548 (0.9713) lr 2.8823e-03 eta 0:25:48\n",
      "Evaluate on the *val* set\n"
     ]
    },
    {
     "name": "stderr",
     "output_type": "stream",
     "text": [
      "\r",
      "  0%|          | 0/2 [00:00<?, ?it/s]\r",
      " 50%|█████     | 1/2 [00:00<00:00,  3.28it/s]\r",
      "100%|██████████| 2/2 [00:00<00:00,  4.99it/s]\n"
     ]
    },
    {
     "name": "stdout",
     "output_type": "stream",
     "text": [
      "=> result\n",
      "* total: 106\n",
      "* correct: 38\n",
      "* accuracy: 35.8%\n",
      "* error: 64.2%\n",
      "* macro_f1: 16.6%\n",
      "epoch [279/1000] batch [20/44] time 0.042 (0.056) data 0.000 (0.015) loss 1.0303 (0.9493) lr 2.8782e-03 eta 0:29:42\n",
      "epoch [279/1000] batch [40/44] time 0.040 (0.048) data 0.000 (0.007) loss 0.6714 (0.9631) lr 2.8782e-03 eta 0:25:28\n",
      "Evaluate on the *val* set\n"
     ]
    },
    {
     "name": "stderr",
     "output_type": "stream",
     "text": [
      "\r",
      "  0%|          | 0/2 [00:00<?, ?it/s]\r",
      " 50%|█████     | 1/2 [00:00<00:00,  3.30it/s]\r",
      "100%|██████████| 2/2 [00:00<00:00,  5.24it/s]\n"
     ]
    },
    {
     "name": "stdout",
     "output_type": "stream",
     "text": [
      "=> result\n",
      "* total: 106\n",
      "* correct: 43\n",
      "* accuracy: 40.6%\n",
      "* error: 59.4%\n",
      "* macro_f1: 24.3%\n",
      "epoch [280/1000] batch [20/44] time 0.039 (0.057) data 0.000 (0.016) loss 1.1797 (0.8270) lr 2.8739e-03 eta 0:30:08\n",
      "epoch [280/1000] batch [40/44] time 0.041 (0.049) data 0.000 (0.008) loss 1.1543 (1.0121) lr 2.8739e-03 eta 0:25:46\n",
      "Evaluate on the *val* set\n"
     ]
    },
    {
     "name": "stderr",
     "output_type": "stream",
     "text": [
      "\r",
      "  0%|          | 0/2 [00:00<?, ?it/s]\r",
      " 50%|█████     | 1/2 [00:00<00:00,  3.26it/s]\r",
      "100%|██████████| 2/2 [00:00<00:00,  5.24it/s]\n"
     ]
    },
    {
     "name": "stdout",
     "output_type": "stream",
     "text": [
      "=> result\n",
      "* total: 106\n",
      "* correct: 42\n",
      "* accuracy: 39.6%\n",
      "* error: 60.4%\n",
      "* macro_f1: 23.8%\n",
      "epoch [281/1000] batch [20/44] time 0.043 (0.058) data 0.000 (0.017) loss 0.7627 (0.8460) lr 2.8697e-03 eta 0:30:23\n",
      "epoch [281/1000] batch [40/44] time 0.038 (0.048) data 0.000 (0.009) loss 0.6421 (0.9821) lr 2.8697e-03 eta 0:25:33\n",
      "Evaluate on the *val* set\n"
     ]
    },
    {
     "name": "stderr",
     "output_type": "stream",
     "text": [
      "\r",
      "  0%|          | 0/2 [00:00<?, ?it/s]\r",
      " 50%|█████     | 1/2 [00:00<00:00,  3.29it/s]\r",
      "100%|██████████| 2/2 [00:00<00:00,  5.19it/s]\n"
     ]
    },
    {
     "name": "stdout",
     "output_type": "stream",
     "text": [
      "=> result\n",
      "* total: 106\n",
      "* correct: 43\n",
      "* accuracy: 40.6%\n",
      "* error: 59.4%\n",
      "* macro_f1: 23.8%\n",
      "epoch [282/1000] batch [20/44] time 0.039 (0.058) data 0.000 (0.016) loss 0.9805 (0.9388) lr 2.8655e-03 eta 0:30:30\n",
      "epoch [282/1000] batch [40/44] time 0.042 (0.049) data 0.000 (0.008) loss 1.7627 (0.9811) lr 2.8655e-03 eta 0:25:39\n",
      "Evaluate on the *val* set\n"
     ]
    },
    {
     "name": "stderr",
     "output_type": "stream",
     "text": [
      "\r",
      "  0%|          | 0/2 [00:00<?, ?it/s]\r",
      " 50%|█████     | 1/2 [00:00<00:00,  3.33it/s]\r",
      "100%|██████████| 2/2 [00:00<00:00,  5.23it/s]\n"
     ]
    },
    {
     "name": "stdout",
     "output_type": "stream",
     "text": [
      "=> result\n",
      "* total: 106\n",
      "* correct: 38\n",
      "* accuracy: 35.8%\n",
      "* error: 64.2%\n",
      "* macro_f1: 16.1%\n",
      "epoch [283/1000] batch [20/44] time 0.039 (0.055) data 0.000 (0.015) loss 1.2471 (0.9905) lr 2.8613e-03 eta 0:29:11\n",
      "epoch [283/1000] batch [40/44] time 0.039 (0.048) data 0.000 (0.008) loss 1.2754 (1.0551) lr 2.8613e-03 eta 0:25:04\n",
      "Evaluate on the *val* set\n"
     ]
    },
    {
     "name": "stderr",
     "output_type": "stream",
     "text": [
      "\r",
      "  0%|          | 0/2 [00:00<?, ?it/s]\r",
      " 50%|█████     | 1/2 [00:00<00:00,  3.22it/s]\r",
      "100%|██████████| 2/2 [00:00<00:00,  5.02it/s]\n"
     ]
    },
    {
     "name": "stdout",
     "output_type": "stream",
     "text": [
      "=> result\n",
      "* total: 106\n",
      "* correct: 44\n",
      "* accuracy: 41.5%\n",
      "* error: 58.5%\n",
      "* macro_f1: 25.9%\n",
      "epoch [284/1000] batch [20/44] time 0.039 (0.056) data 0.000 (0.014) loss 0.3245 (1.0302) lr 2.8570e-03 eta 0:29:24\n",
      "epoch [284/1000] batch [40/44] time 0.041 (0.048) data 0.000 (0.007) loss 1.3066 (0.9548) lr 2.8570e-03 eta 0:25:16\n",
      "Evaluate on the *val* set\n"
     ]
    },
    {
     "name": "stderr",
     "output_type": "stream",
     "text": [
      "\r",
      "  0%|          | 0/2 [00:00<?, ?it/s]\r",
      " 50%|█████     | 1/2 [00:00<00:00,  3.29it/s]\r",
      "100%|██████████| 2/2 [00:00<00:00,  5.15it/s]\n"
     ]
    },
    {
     "name": "stdout",
     "output_type": "stream",
     "text": [
      "=> result\n",
      "* total: 106\n",
      "* correct: 42\n",
      "* accuracy: 39.6%\n",
      "* error: 60.4%\n",
      "* macro_f1: 24.3%\n",
      "epoch [285/1000] batch [20/44] time 0.037 (0.056) data 0.000 (0.014) loss 1.8701 (0.9530) lr 2.8527e-03 eta 0:29:12\n",
      "epoch [285/1000] batch [40/44] time 0.034 (0.047) data 0.000 (0.007) loss 0.8901 (0.9426) lr 2.8527e-03 eta 0:24:48\n",
      "Evaluate on the *val* set\n"
     ]
    },
    {
     "name": "stderr",
     "output_type": "stream",
     "text": [
      "\r",
      "  0%|          | 0/2 [00:00<?, ?it/s]\r",
      " 50%|█████     | 1/2 [00:00<00:00,  3.30it/s]\r",
      "100%|██████████| 2/2 [00:00<00:00,  5.17it/s]\n"
     ]
    },
    {
     "name": "stdout",
     "output_type": "stream",
     "text": [
      "=> result\n",
      "* total: 106\n",
      "* correct: 42\n",
      "* accuracy: 39.6%\n",
      "* error: 60.4%\n",
      "* macro_f1: 24.0%\n",
      "epoch [286/1000] batch [20/44] time 0.039 (0.056) data 0.000 (0.014) loss 1.5381 (0.9929) lr 2.8485e-03 eta 0:29:05\n",
      "epoch [286/1000] batch [40/44] time 0.038 (0.048) data 0.000 (0.007) loss 0.7075 (0.9974) lr 2.8485e-03 eta 0:25:06\n",
      "Evaluate on the *val* set\n"
     ]
    },
    {
     "name": "stderr",
     "output_type": "stream",
     "text": [
      "\r",
      "  0%|          | 0/2 [00:00<?, ?it/s]\r",
      " 50%|█████     | 1/2 [00:00<00:00,  3.27it/s]\r",
      "100%|██████████| 2/2 [00:00<00:00,  5.18it/s]\n"
     ]
    },
    {
     "name": "stdout",
     "output_type": "stream",
     "text": [
      "=> result\n",
      "* total: 106\n",
      "* correct: 43\n",
      "* accuracy: 40.6%\n",
      "* error: 59.4%\n",
      "* macro_f1: 23.1%\n",
      "epoch [287/1000] batch [20/44] time 0.043 (0.059) data 0.000 (0.016) loss 1.2051 (0.9537) lr 2.8442e-03 eta 0:30:51\n",
      "epoch [287/1000] batch [40/44] time 0.041 (0.050) data 0.000 (0.008) loss 0.3604 (0.9913) lr 2.8442e-03 eta 0:26:04\n",
      "Evaluate on the *val* set\n"
     ]
    },
    {
     "name": "stderr",
     "output_type": "stream",
     "text": [
      "\r",
      "  0%|          | 0/2 [00:00<?, ?it/s]\r",
      " 50%|█████     | 1/2 [00:00<00:00,  3.25it/s]\r",
      "100%|██████████| 2/2 [00:00<00:00,  5.14it/s]\n"
     ]
    },
    {
     "name": "stdout",
     "output_type": "stream",
     "text": [
      "=> result\n",
      "* total: 106\n",
      "* correct: 43\n",
      "* accuracy: 40.6%\n",
      "* error: 59.4%\n",
      "* macro_f1: 24.1%\n",
      "epoch [288/1000] batch [20/44] time 0.045 (0.055) data 0.000 (0.014) loss 0.3623 (0.8225) lr 2.8399e-03 eta 0:28:56\n",
      "epoch [288/1000] batch [40/44] time 0.040 (0.048) data 0.000 (0.007) loss 2.7559 (0.9509) lr 2.8399e-03 eta 0:24:59\n",
      "Evaluate on the *val* set\n"
     ]
    },
    {
     "name": "stderr",
     "output_type": "stream",
     "text": [
      "\r",
      "  0%|          | 0/2 [00:00<?, ?it/s]\r",
      " 50%|█████     | 1/2 [00:00<00:00,  3.33it/s]\r",
      "100%|██████████| 2/2 [00:00<00:00,  5.32it/s]\n"
     ]
    },
    {
     "name": "stdout",
     "output_type": "stream",
     "text": [
      "=> result\n",
      "* total: 106\n",
      "* correct: 41\n",
      "* accuracy: 38.7%\n",
      "* error: 61.3%\n",
      "* macro_f1: 22.6%\n",
      "epoch [289/1000] batch [20/44] time 0.036 (0.055) data 0.000 (0.014) loss 0.5615 (0.9886) lr 2.8356e-03 eta 0:28:53\n",
      "epoch [289/1000] batch [40/44] time 0.036 (0.048) data 0.000 (0.007) loss 0.9141 (0.9560) lr 2.8356e-03 eta 0:25:14\n",
      "Evaluate on the *val* set\n"
     ]
    },
    {
     "name": "stderr",
     "output_type": "stream",
     "text": [
      "\r",
      "  0%|          | 0/2 [00:00<?, ?it/s]\r",
      " 50%|█████     | 1/2 [00:00<00:00,  3.32it/s]\r",
      "100%|██████████| 2/2 [00:00<00:00,  5.29it/s]\n"
     ]
    },
    {
     "name": "stdout",
     "output_type": "stream",
     "text": [
      "=> result\n",
      "* total: 106\n",
      "* correct: 46\n",
      "* accuracy: 43.4%\n",
      "* error: 56.6%\n",
      "* macro_f1: 24.9%\n",
      "epoch [290/1000] batch [20/44] time 0.040 (0.055) data 0.000 (0.014) loss 0.2859 (0.9701) lr 2.8313e-03 eta 0:28:49\n",
      "epoch [290/1000] batch [40/44] time 0.042 (0.048) data 0.000 (0.007) loss 0.4326 (0.9273) lr 2.8313e-03 eta 0:25:03\n",
      "Evaluate on the *val* set\n"
     ]
    },
    {
     "name": "stderr",
     "output_type": "stream",
     "text": [
      "\r",
      "  0%|          | 0/2 [00:00<?, ?it/s]\r",
      " 50%|█████     | 1/2 [00:00<00:00,  3.27it/s]\r",
      "100%|██████████| 2/2 [00:00<00:00,  5.20it/s]\n"
     ]
    },
    {
     "name": "stdout",
     "output_type": "stream",
     "text": [
      "=> result\n",
      "* total: 106\n",
      "* correct: 42\n",
      "* accuracy: 39.6%\n",
      "* error: 60.4%\n",
      "* macro_f1: 21.9%\n",
      "epoch [291/1000] batch [20/44] time 0.046 (0.058) data 0.000 (0.016) loss 2.5938 (1.0733) lr 2.8269e-03 eta 0:30:06\n",
      "epoch [291/1000] batch [40/44] time 0.041 (0.049) data 0.000 (0.008) loss 0.5679 (1.1103) lr 2.8269e-03 eta 0:25:28\n",
      "Evaluate on the *val* set\n"
     ]
    },
    {
     "name": "stderr",
     "output_type": "stream",
     "text": [
      "\r",
      "  0%|          | 0/2 [00:00<?, ?it/s]\r",
      " 50%|█████     | 1/2 [00:00<00:00,  3.31it/s]\r",
      "100%|██████████| 2/2 [00:00<00:00,  5.14it/s]\n"
     ]
    },
    {
     "name": "stdout",
     "output_type": "stream",
     "text": [
      "=> result\n",
      "* total: 106\n",
      "* correct: 40\n",
      "* accuracy: 37.7%\n",
      "* error: 62.3%\n",
      "* macro_f1: 25.9%\n",
      "epoch [292/1000] batch [20/44] time 0.038 (0.055) data 0.000 (0.014) loss 0.5156 (0.8389) lr 2.8226e-03 eta 0:28:30\n",
      "epoch [292/1000] batch [40/44] time 0.039 (0.048) data 0.000 (0.007) loss 0.9282 (0.9760) lr 2.8226e-03 eta 0:24:54\n",
      "Evaluate on the *val* set\n"
     ]
    },
    {
     "name": "stderr",
     "output_type": "stream",
     "text": [
      "\r",
      "  0%|          | 0/2 [00:00<?, ?it/s]\r",
      " 50%|█████     | 1/2 [00:00<00:00,  3.24it/s]\r",
      "100%|██████████| 2/2 [00:00<00:00,  5.06it/s]\n"
     ]
    },
    {
     "name": "stdout",
     "output_type": "stream",
     "text": [
      "=> result\n",
      "* total: 106\n",
      "* correct: 42\n",
      "* accuracy: 39.6%\n",
      "* error: 60.4%\n",
      "* macro_f1: 23.2%\n",
      "epoch [293/1000] batch [20/44] time 0.039 (0.055) data 0.000 (0.015) loss 0.8848 (0.7826) lr 2.8182e-03 eta 0:28:37\n",
      "epoch [293/1000] batch [40/44] time 0.039 (0.048) data 0.000 (0.007) loss 1.6064 (0.9497) lr 2.8182e-03 eta 0:24:49\n",
      "Evaluate on the *val* set\n"
     ]
    },
    {
     "name": "stderr",
     "output_type": "stream",
     "text": [
      "\r",
      "  0%|          | 0/2 [00:00<?, ?it/s]\r",
      " 50%|█████     | 1/2 [00:00<00:00,  3.33it/s]\r",
      "100%|██████████| 2/2 [00:00<00:00,  5.25it/s]\n"
     ]
    },
    {
     "name": "stdout",
     "output_type": "stream",
     "text": [
      "=> result\n",
      "* total: 106\n",
      "* correct: 46\n",
      "* accuracy: 43.4%\n",
      "* error: 56.6%\n",
      "* macro_f1: 29.0%\n",
      "epoch [294/1000] batch [20/44] time 0.041 (0.055) data 0.000 (0.014) loss 0.8076 (1.0432) lr 2.8139e-03 eta 0:28:43\n",
      "epoch [294/1000] batch [40/44] time 0.042 (0.048) data 0.000 (0.007) loss 0.9150 (0.9520) lr 2.8139e-03 eta 0:24:44\n",
      "Evaluate on the *val* set\n"
     ]
    },
    {
     "name": "stderr",
     "output_type": "stream",
     "text": [
      "\r",
      "  0%|          | 0/2 [00:00<?, ?it/s]\r",
      " 50%|█████     | 1/2 [00:00<00:00,  3.21it/s]\r",
      "100%|██████████| 2/2 [00:00<00:00,  5.12it/s]\n"
     ]
    },
    {
     "name": "stdout",
     "output_type": "stream",
     "text": [
      "=> result\n",
      "* total: 106\n",
      "* correct: 43\n",
      "* accuracy: 40.6%\n",
      "* error: 59.4%\n",
      "* macro_f1: 23.0%\n",
      "epoch [295/1000] batch [20/44] time 0.038 (0.055) data 0.000 (0.014) loss 1.3965 (1.0486) lr 2.8095e-03 eta 0:28:15\n",
      "epoch [295/1000] batch [40/44] time 0.036 (0.047) data 0.000 (0.007) loss 0.5557 (1.1273) lr 2.8095e-03 eta 0:24:24\n",
      "Evaluate on the *val* set\n"
     ]
    },
    {
     "name": "stderr",
     "output_type": "stream",
     "text": [
      "\r",
      "  0%|          | 0/2 [00:00<?, ?it/s]\r",
      " 50%|█████     | 1/2 [00:00<00:00,  3.24it/s]\r",
      "100%|██████████| 2/2 [00:00<00:00,  5.09it/s]\n"
     ]
    },
    {
     "name": "stdout",
     "output_type": "stream",
     "text": [
      "=> result\n",
      "* total: 106\n",
      "* correct: 43\n",
      "* accuracy: 40.6%\n",
      "* error: 59.4%\n",
      "* macro_f1: 22.9%\n",
      "epoch [296/1000] batch [20/44] time 0.040 (0.054) data 0.000 (0.014) loss 1.5439 (0.8969) lr 2.8051e-03 eta 0:28:03\n",
      "epoch [296/1000] batch [40/44] time 0.041 (0.047) data 0.000 (0.007) loss 1.3408 (0.9698) lr 2.8051e-03 eta 0:24:21\n",
      "Evaluate on the *val* set\n"
     ]
    },
    {
     "name": "stderr",
     "output_type": "stream",
     "text": [
      "\r",
      "  0%|          | 0/2 [00:00<?, ?it/s]\r",
      " 50%|█████     | 1/2 [00:00<00:00,  3.26it/s]\r",
      "100%|██████████| 2/2 [00:00<00:00,  5.25it/s]\n"
     ]
    },
    {
     "name": "stdout",
     "output_type": "stream",
     "text": [
      "=> result\n",
      "* total: 106\n",
      "* correct: 43\n",
      "* accuracy: 40.6%\n",
      "* error: 59.4%\n",
      "* macro_f1: 23.9%\n",
      "epoch [297/1000] batch [20/44] time 0.043 (0.055) data 0.000 (0.015) loss 0.0300 (0.8597) lr 2.8007e-03 eta 0:28:32\n",
      "epoch [297/1000] batch [40/44] time 0.039 (0.048) data 0.000 (0.007) loss 0.9277 (0.9639) lr 2.8007e-03 eta 0:24:32\n",
      "Evaluate on the *val* set\n"
     ]
    },
    {
     "name": "stderr",
     "output_type": "stream",
     "text": [
      "\r",
      "  0%|          | 0/2 [00:00<?, ?it/s]\r",
      " 50%|█████     | 1/2 [00:00<00:00,  3.33it/s]\r",
      "100%|██████████| 2/2 [00:00<00:00,  5.26it/s]\n"
     ]
    },
    {
     "name": "stdout",
     "output_type": "stream",
     "text": [
      "=> result\n",
      "* total: 106\n",
      "* correct: 46\n",
      "* accuracy: 43.4%\n",
      "* error: 56.6%\n",
      "* macro_f1: 25.1%\n",
      "epoch [298/1000] batch [20/44] time 0.042 (0.057) data 0.000 (0.015) loss 0.4329 (0.8604) lr 2.7963e-03 eta 0:29:20\n",
      "epoch [298/1000] batch [40/44] time 0.037 (0.048) data 0.000 (0.008) loss 1.5234 (0.9825) lr 2.7963e-03 eta 0:24:48\n",
      "Evaluate on the *val* set\n"
     ]
    },
    {
     "name": "stderr",
     "output_type": "stream",
     "text": [
      "\r",
      "  0%|          | 0/2 [00:00<?, ?it/s]\r",
      " 50%|█████     | 1/2 [00:00<00:00,  3.27it/s]\r",
      "100%|██████████| 2/2 [00:00<00:00,  5.19it/s]\n"
     ]
    },
    {
     "name": "stdout",
     "output_type": "stream",
     "text": [
      "=> result\n",
      "* total: 106\n",
      "* correct: 44\n",
      "* accuracy: 41.5%\n",
      "* error: 58.5%\n",
      "* macro_f1: 23.6%\n",
      "epoch [299/1000] batch [20/44] time 0.038 (0.057) data 0.000 (0.016) loss 0.3008 (0.7959) lr 2.7919e-03 eta 0:29:19\n",
      "epoch [299/1000] batch [40/44] time 0.038 (0.049) data 0.000 (0.008) loss 1.3818 (0.9443) lr 2.7919e-03 eta 0:25:11\n",
      "Evaluate on the *val* set\n"
     ]
    },
    {
     "name": "stderr",
     "output_type": "stream",
     "text": [
      "\r",
      "  0%|          | 0/2 [00:00<?, ?it/s]\r",
      " 50%|█████     | 1/2 [00:00<00:00,  3.34it/s]\r",
      "100%|██████████| 2/2 [00:00<00:00,  5.14it/s]\n"
     ]
    },
    {
     "name": "stdout",
     "output_type": "stream",
     "text": [
      "=> result\n",
      "* total: 106\n",
      "* correct: 42\n",
      "* accuracy: 39.6%\n",
      "* error: 60.4%\n",
      "* macro_f1: 21.3%\n",
      "epoch [300/1000] batch [20/44] time 0.043 (0.055) data 0.000 (0.014) loss 0.9385 (0.9543) lr 2.7875e-03 eta 0:28:11\n",
      "epoch [300/1000] batch [40/44] time 0.035 (0.047) data 0.000 (0.007) loss 0.8208 (0.9305) lr 2.7875e-03 eta 0:24:19\n",
      "Evaluate on the *val* set\n"
     ]
    },
    {
     "name": "stderr",
     "output_type": "stream",
     "text": [
      "\r",
      "  0%|          | 0/2 [00:00<?, ?it/s]\r",
      " 50%|█████     | 1/2 [00:00<00:00,  3.25it/s]\r",
      "100%|██████████| 2/2 [00:00<00:00,  5.09it/s]\n"
     ]
    },
    {
     "name": "stdout",
     "output_type": "stream",
     "text": [
      "=> result\n",
      "* total: 106\n",
      "* correct: 43\n",
      "* accuracy: 40.6%\n",
      "* error: 59.4%\n",
      "* macro_f1: 24.0%\n",
      "epoch [301/1000] batch [20/44] time 0.040 (0.057) data 0.000 (0.015) loss 1.0215 (0.8196) lr 2.7831e-03 eta 0:29:02\n",
      "epoch [301/1000] batch [40/44] time 0.042 (0.048) data 0.000 (0.008) loss 0.8516 (0.8998) lr 2.7831e-03 eta 0:24:43\n",
      "Evaluate on the *val* set\n"
     ]
    },
    {
     "name": "stderr",
     "output_type": "stream",
     "text": [
      "\r",
      "  0%|          | 0/2 [00:00<?, ?it/s]\r",
      " 50%|█████     | 1/2 [00:00<00:00,  3.14it/s]\r",
      "100%|██████████| 2/2 [00:00<00:00,  4.89it/s]\n"
     ]
    },
    {
     "name": "stdout",
     "output_type": "stream",
     "text": [
      "=> result\n",
      "* total: 106\n",
      "* correct: 45\n",
      "* accuracy: 42.5%\n",
      "* error: 57.5%\n",
      "* macro_f1: 26.7%\n",
      "epoch [302/1000] batch [20/44] time 0.038 (0.054) data 0.000 (0.014) loss 1.0068 (0.8970) lr 2.7786e-03 eta 0:27:49\n",
      "epoch [302/1000] batch [40/44] time 0.041 (0.047) data 0.000 (0.007) loss 2.1211 (1.0106) lr 2.7786e-03 eta 0:24:09\n",
      "Evaluate on the *val* set\n"
     ]
    },
    {
     "name": "stderr",
     "output_type": "stream",
     "text": [
      "\r",
      "  0%|          | 0/2 [00:00<?, ?it/s]\r",
      " 50%|█████     | 1/2 [00:00<00:00,  3.32it/s]\r",
      "100%|██████████| 2/2 [00:00<00:00,  5.17it/s]\n"
     ]
    },
    {
     "name": "stdout",
     "output_type": "stream",
     "text": [
      "=> result\n",
      "* total: 106\n",
      "* correct: 44\n",
      "* accuracy: 41.5%\n",
      "* error: 58.5%\n",
      "* macro_f1: 24.4%\n",
      "epoch [303/1000] batch [20/44] time 0.039 (0.055) data 0.000 (0.014) loss 0.7749 (0.9873) lr 2.7742e-03 eta 0:28:07\n",
      "epoch [303/1000] batch [40/44] time 0.042 (0.047) data 0.000 (0.007) loss 0.8809 (0.9979) lr 2.7742e-03 eta 0:24:08\n",
      "Evaluate on the *val* set\n"
     ]
    },
    {
     "name": "stderr",
     "output_type": "stream",
     "text": [
      "\r",
      "  0%|          | 0/2 [00:00<?, ?it/s]\r",
      " 50%|█████     | 1/2 [00:00<00:00,  3.23it/s]\r",
      "100%|██████████| 2/2 [00:00<00:00,  5.01it/s]\n"
     ]
    },
    {
     "name": "stdout",
     "output_type": "stream",
     "text": [
      "=> result\n",
      "* total: 106\n",
      "* correct: 44\n",
      "* accuracy: 41.5%\n",
      "* error: 58.5%\n",
      "* macro_f1: 25.1%\n",
      "epoch [304/1000] batch [20/44] time 0.039 (0.058) data 0.000 (0.017) loss 0.8364 (0.8810) lr 2.7697e-03 eta 0:29:42\n",
      "epoch [304/1000] batch [40/44] time 0.041 (0.050) data 0.000 (0.008) loss 0.6299 (0.9105) lr 2.7697e-03 eta 0:25:29\n",
      "Evaluate on the *val* set\n"
     ]
    },
    {
     "name": "stderr",
     "output_type": "stream",
     "text": [
      "\r",
      "  0%|          | 0/2 [00:00<?, ?it/s]\r",
      " 50%|█████     | 1/2 [00:00<00:00,  3.26it/s]\r",
      "100%|██████████| 2/2 [00:00<00:00,  5.26it/s]\n"
     ]
    },
    {
     "name": "stdout",
     "output_type": "stream",
     "text": [
      "=> result\n",
      "* total: 106\n",
      "* correct: 45\n",
      "* accuracy: 42.5%\n",
      "* error: 57.5%\n",
      "* macro_f1: 25.3%\n",
      "epoch [305/1000] batch [20/44] time 0.044 (0.054) data 0.000 (0.014) loss 1.2578 (0.8804) lr 2.7652e-03 eta 0:27:46\n",
      "epoch [305/1000] batch [40/44] time 0.041 (0.047) data 0.000 (0.007) loss 1.5234 (0.9266) lr 2.7652e-03 eta 0:24:02\n",
      "Evaluate on the *val* set\n"
     ]
    },
    {
     "name": "stderr",
     "output_type": "stream",
     "text": [
      "\r",
      "  0%|          | 0/2 [00:00<?, ?it/s]\r",
      " 50%|█████     | 1/2 [00:00<00:00,  3.33it/s]\r",
      "100%|██████████| 2/2 [00:00<00:00,  5.32it/s]\n"
     ]
    },
    {
     "name": "stdout",
     "output_type": "stream",
     "text": [
      "=> result\n",
      "* total: 106\n",
      "* correct: 44\n",
      "* accuracy: 41.5%\n",
      "* error: 58.5%\n",
      "* macro_f1: 24.7%\n",
      "epoch [306/1000] batch [20/44] time 0.043 (0.055) data 0.000 (0.014) loss 0.8198 (0.8647) lr 2.7608e-03 eta 0:27:58\n",
      "epoch [306/1000] batch [40/44] time 0.036 (0.047) data 0.000 (0.007) loss 0.4629 (0.9185) lr 2.7608e-03 eta 0:23:51\n",
      "Evaluate on the *val* set\n"
     ]
    },
    {
     "name": "stderr",
     "output_type": "stream",
     "text": [
      "\r",
      "  0%|          | 0/2 [00:00<?, ?it/s]\r",
      " 50%|█████     | 1/2 [00:00<00:00,  3.25it/s]\r",
      "100%|██████████| 2/2 [00:00<00:00,  5.17it/s]\n"
     ]
    },
    {
     "name": "stdout",
     "output_type": "stream",
     "text": [
      "=> result\n",
      "* total: 106\n",
      "* correct: 42\n",
      "* accuracy: 39.6%\n",
      "* error: 60.4%\n",
      "* macro_f1: 24.7%\n",
      "epoch [307/1000] batch [20/44] time 0.039 (0.053) data 0.000 (0.014) loss 0.9990 (0.9156) lr 2.7563e-03 eta 0:27:01\n",
      "epoch [307/1000] batch [40/44] time 0.041 (0.047) data 0.000 (0.007) loss 1.4922 (0.9192) lr 2.7563e-03 eta 0:23:41\n",
      "Evaluate on the *val* set\n"
     ]
    },
    {
     "name": "stderr",
     "output_type": "stream",
     "text": [
      "\r",
      "  0%|          | 0/2 [00:00<?, ?it/s]\r",
      " 50%|█████     | 1/2 [00:00<00:00,  3.28it/s]\r",
      "100%|██████████| 2/2 [00:00<00:00,  5.13it/s]\n"
     ]
    },
    {
     "name": "stdout",
     "output_type": "stream",
     "text": [
      "=> result\n",
      "* total: 106\n",
      "* correct: 45\n",
      "* accuracy: 42.5%\n",
      "* error: 57.5%\n",
      "* macro_f1: 24.5%\n",
      "epoch [308/1000] batch [20/44] time 0.040 (0.054) data 0.000 (0.014) loss 0.8882 (0.6973) lr 2.7518e-03 eta 0:27:16\n",
      "epoch [308/1000] batch [40/44] time 0.041 (0.047) data 0.000 (0.007) loss 1.4697 (0.9317) lr 2.7518e-03 eta 0:23:47\n",
      "Evaluate on the *val* set\n"
     ]
    },
    {
     "name": "stderr",
     "output_type": "stream",
     "text": [
      "\r",
      "  0%|          | 0/2 [00:00<?, ?it/s]\r",
      " 50%|█████     | 1/2 [00:00<00:00,  3.16it/s]\r",
      "100%|██████████| 2/2 [00:00<00:00,  5.03it/s]\n"
     ]
    },
    {
     "name": "stdout",
     "output_type": "stream",
     "text": [
      "=> result\n",
      "* total: 106\n",
      "* correct: 40\n",
      "* accuracy: 37.7%\n",
      "* error: 62.3%\n",
      "* macro_f1: 19.6%\n",
      "epoch [309/1000] batch [20/44] time 0.036 (0.057) data 0.000 (0.015) loss 1.1846 (0.9925) lr 2.7472e-03 eta 0:28:40\n",
      "epoch [309/1000] batch [40/44] time 0.040 (0.048) data 0.000 (0.008) loss 0.8662 (0.9420) lr 2.7472e-03 eta 0:24:13\n",
      "Evaluate on the *val* set\n"
     ]
    },
    {
     "name": "stderr",
     "output_type": "stream",
     "text": [
      "\r",
      "  0%|          | 0/2 [00:00<?, ?it/s]\r",
      " 50%|█████     | 1/2 [00:00<00:00,  3.15it/s]\r",
      "100%|██████████| 2/2 [00:00<00:00,  5.13it/s]\n"
     ]
    },
    {
     "name": "stdout",
     "output_type": "stream",
     "text": [
      "=> result\n",
      "* total: 106\n",
      "* correct: 39\n",
      "* accuracy: 36.8%\n",
      "* error: 63.2%\n",
      "* macro_f1: 18.7%\n",
      "epoch [310/1000] batch [20/44] time 0.037 (0.058) data 0.000 (0.016) loss 0.8726 (0.9074) lr 2.7427e-03 eta 0:29:12\n",
      "epoch [310/1000] batch [40/44] time 0.041 (0.049) data 0.000 (0.008) loss 1.6094 (0.9551) lr 2.7427e-03 eta 0:24:53\n",
      "Evaluate on the *val* set\n"
     ]
    },
    {
     "name": "stderr",
     "output_type": "stream",
     "text": [
      "\r",
      "  0%|          | 0/2 [00:00<?, ?it/s]\r",
      " 50%|█████     | 1/2 [00:00<00:00,  3.28it/s]\r",
      "100%|██████████| 2/2 [00:00<00:00,  5.17it/s]\n"
     ]
    },
    {
     "name": "stdout",
     "output_type": "stream",
     "text": [
      "=> result\n",
      "* total: 106\n",
      "* correct: 45\n",
      "* accuracy: 42.5%\n",
      "* error: 57.5%\n",
      "* macro_f1: 24.8%\n",
      "epoch [311/1000] batch [20/44] time 0.042 (0.058) data 0.000 (0.016) loss 0.8643 (0.9338) lr 2.7382e-03 eta 0:29:12\n",
      "epoch [311/1000] batch [40/44] time 0.035 (0.049) data 0.000 (0.008) loss 0.9756 (0.9436) lr 2.7382e-03 eta 0:24:39\n",
      "Evaluate on the *val* set\n"
     ]
    },
    {
     "name": "stderr",
     "output_type": "stream",
     "text": [
      "\r",
      "  0%|          | 0/2 [00:00<?, ?it/s]\r",
      " 50%|█████     | 1/2 [00:00<00:00,  3.21it/s]\r",
      "100%|██████████| 2/2 [00:00<00:00,  5.14it/s]\n"
     ]
    },
    {
     "name": "stdout",
     "output_type": "stream",
     "text": [
      "=> result\n",
      "* total: 106\n",
      "* correct: 46\n",
      "* accuracy: 43.4%\n",
      "* error: 56.6%\n",
      "* macro_f1: 25.3%\n",
      "epoch [312/1000] batch [20/44] time 0.039 (0.055) data 0.000 (0.014) loss 1.0645 (0.8900) lr 2.7336e-03 eta 0:27:45\n",
      "epoch [312/1000] batch [40/44] time 0.041 (0.047) data 0.000 (0.007) loss 0.6685 (0.8927) lr 2.7336e-03 eta 0:23:44\n",
      "Evaluate on the *val* set\n"
     ]
    },
    {
     "name": "stderr",
     "output_type": "stream",
     "text": [
      "\r",
      "  0%|          | 0/2 [00:00<?, ?it/s]\r",
      " 50%|█████     | 1/2 [00:00<00:00,  3.19it/s]\r",
      "100%|██████████| 2/2 [00:00<00:00,  4.93it/s]\n"
     ]
    },
    {
     "name": "stdout",
     "output_type": "stream",
     "text": [
      "=> result\n",
      "* total: 106\n",
      "* correct: 44\n",
      "* accuracy: 41.5%\n",
      "* error: 58.5%\n",
      "* macro_f1: 25.3%\n",
      "epoch [313/1000] batch [20/44] time 0.038 (0.057) data 0.000 (0.017) loss 0.7607 (0.9743) lr 2.7291e-03 eta 0:28:57\n",
      "epoch [313/1000] batch [40/44] time 0.041 (0.049) data 0.000 (0.009) loss 1.1221 (0.9526) lr 2.7291e-03 eta 0:24:29\n",
      "Evaluate on the *val* set\n"
     ]
    },
    {
     "name": "stderr",
     "output_type": "stream",
     "text": [
      "\r",
      "  0%|          | 0/2 [00:00<?, ?it/s]\r",
      " 50%|█████     | 1/2 [00:00<00:00,  3.32it/s]\r",
      "100%|██████████| 2/2 [00:00<00:00,  5.24it/s]\n"
     ]
    },
    {
     "name": "stdout",
     "output_type": "stream",
     "text": [
      "=> result\n",
      "* total: 106\n",
      "* correct: 42\n",
      "* accuracy: 39.6%\n",
      "* error: 60.4%\n",
      "* macro_f1: 23.6%\n",
      "epoch [314/1000] batch [20/44] time 0.039 (0.058) data 0.000 (0.015) loss 1.0918 (0.8338) lr 2.7245e-03 eta 0:29:23\n",
      "epoch [314/1000] batch [40/44] time 0.041 (0.049) data 0.000 (0.008) loss 0.6270 (0.9842) lr 2.7245e-03 eta 0:24:43\n",
      "Evaluate on the *val* set\n"
     ]
    },
    {
     "name": "stderr",
     "output_type": "stream",
     "text": [
      "\r",
      "  0%|          | 0/2 [00:00<?, ?it/s]\r",
      " 50%|█████     | 1/2 [00:00<00:00,  3.34it/s]\r",
      "100%|██████████| 2/2 [00:00<00:00,  5.27it/s]\n"
     ]
    },
    {
     "name": "stdout",
     "output_type": "stream",
     "text": [
      "=> result\n",
      "* total: 106\n",
      "* correct: 42\n",
      "* accuracy: 39.6%\n",
      "* error: 60.4%\n",
      "* macro_f1: 17.4%\n",
      "epoch [315/1000] batch [20/44] time 0.039 (0.055) data 0.000 (0.014) loss 1.2979 (1.2468) lr 2.7200e-03 eta 0:27:48\n",
      "epoch [315/1000] batch [40/44] time 0.035 (0.047) data 0.000 (0.007) loss 1.6445 (1.1962) lr 2.7200e-03 eta 0:23:47\n",
      "Evaluate on the *val* set\n"
     ]
    },
    {
     "name": "stderr",
     "output_type": "stream",
     "text": [
      "\r",
      "  0%|          | 0/2 [00:00<?, ?it/s]\r",
      " 50%|█████     | 1/2 [00:00<00:00,  3.32it/s]\r",
      "100%|██████████| 2/2 [00:00<00:00,  5.28it/s]\n"
     ]
    },
    {
     "name": "stdout",
     "output_type": "stream",
     "text": [
      "=> result\n",
      "* total: 106\n",
      "* correct: 45\n",
      "* accuracy: 42.5%\n",
      "* error: 57.5%\n",
      "* macro_f1: 24.9%\n",
      "epoch [316/1000] batch [20/44] time 0.044 (0.055) data 0.000 (0.015) loss 0.6968 (0.9500) lr 2.7154e-03 eta 0:27:22\n",
      "epoch [316/1000] batch [40/44] time 0.041 (0.047) data 0.000 (0.007) loss 0.7173 (0.9131) lr 2.7154e-03 eta 0:23:44\n",
      "Evaluate on the *val* set\n"
     ]
    },
    {
     "name": "stderr",
     "output_type": "stream",
     "text": [
      "\r",
      "  0%|          | 0/2 [00:00<?, ?it/s]\r",
      " 50%|█████     | 1/2 [00:00<00:00,  3.32it/s]\r",
      "100%|██████████| 2/2 [00:00<00:00,  5.29it/s]\n"
     ]
    },
    {
     "name": "stdout",
     "output_type": "stream",
     "text": [
      "=> result\n",
      "* total: 106\n",
      "* correct: 46\n",
      "* accuracy: 43.4%\n",
      "* error: 56.6%\n",
      "* macro_f1: 25.7%\n",
      "epoch [317/1000] batch [20/44] time 0.040 (0.055) data 0.000 (0.014) loss 0.3738 (0.7099) lr 2.7108e-03 eta 0:27:38\n",
      "epoch [317/1000] batch [40/44] time 0.038 (0.048) data 0.000 (0.007) loss 0.5723 (0.8944) lr 2.7108e-03 eta 0:23:57\n",
      "Evaluate on the *val* set\n"
     ]
    },
    {
     "name": "stderr",
     "output_type": "stream",
     "text": [
      "\r",
      "  0%|          | 0/2 [00:00<?, ?it/s]\r",
      " 50%|█████     | 1/2 [00:00<00:00,  3.25it/s]\r",
      "100%|██████████| 2/2 [00:00<00:00,  5.18it/s]\n"
     ]
    },
    {
     "name": "stdout",
     "output_type": "stream",
     "text": [
      "=> result\n",
      "* total: 106\n",
      "* correct: 46\n",
      "* accuracy: 43.4%\n",
      "* error: 56.6%\n",
      "* macro_f1: 26.6%\n",
      "epoch [318/1000] batch [20/44] time 0.041 (0.050) data 0.000 (0.015) loss 1.4248 (0.8150) lr 2.7062e-03 eta 0:24:59\n",
      "epoch [318/1000] batch [40/44] time 0.028 (0.042) data 0.000 (0.007) loss 1.4170 (0.9258) lr 2.7062e-03 eta 0:20:50\n",
      "Evaluate on the *val* set\n"
     ]
    },
    {
     "name": "stderr",
     "output_type": "stream",
     "text": [
      "\r",
      "  0%|          | 0/2 [00:00<?, ?it/s]\r",
      " 50%|█████     | 1/2 [00:00<00:00,  3.26it/s]\r",
      "100%|██████████| 2/2 [00:00<00:00,  5.26it/s]\n"
     ]
    },
    {
     "name": "stdout",
     "output_type": "stream",
     "text": [
      "=> result\n",
      "* total: 106\n",
      "* correct: 44\n",
      "* accuracy: 41.5%\n",
      "* error: 58.5%\n",
      "* macro_f1: 24.5%\n",
      "epoch [319/1000] batch [20/44] time 0.034 (0.047) data 0.000 (0.014) loss 1.3779 (0.8886) lr 2.7016e-03 eta 0:23:21\n",
      "epoch [319/1000] batch [40/44] time 0.039 (0.040) data 0.000 (0.007) loss 0.5991 (0.8807) lr 2.7016e-03 eta 0:20:07\n",
      "Evaluate on the *val* set\n"
     ]
    },
    {
     "name": "stderr",
     "output_type": "stream",
     "text": [
      "\r",
      "  0%|          | 0/2 [00:00<?, ?it/s]\r",
      " 50%|█████     | 1/2 [00:00<00:00,  3.15it/s]\r",
      "100%|██████████| 2/2 [00:00<00:00,  4.92it/s]\n"
     ]
    },
    {
     "name": "stdout",
     "output_type": "stream",
     "text": [
      "=> result\n",
      "* total: 106\n",
      "* correct: 44\n",
      "* accuracy: 41.5%\n",
      "* error: 58.5%\n",
      "* macro_f1: 24.1%\n",
      "epoch [320/1000] batch [20/44] time 0.035 (0.052) data 0.000 (0.017) loss 0.9634 (0.9928) lr 2.6970e-03 eta 0:25:48\n",
      "epoch [320/1000] batch [40/44] time 0.031 (0.043) data 0.000 (0.009) loss 0.2379 (0.9454) lr 2.6970e-03 eta 0:21:39\n",
      "Evaluate on the *val* set\n"
     ]
    },
    {
     "name": "stderr",
     "output_type": "stream",
     "text": [
      "\r",
      "  0%|          | 0/2 [00:00<?, ?it/s]\r",
      " 50%|█████     | 1/2 [00:00<00:00,  3.22it/s]\r",
      "100%|██████████| 2/2 [00:00<00:00,  5.06it/s]\n"
     ]
    },
    {
     "name": "stdout",
     "output_type": "stream",
     "text": [
      "=> result\n",
      "* total: 106\n",
      "* correct: 45\n",
      "* accuracy: 42.5%\n",
      "* error: 57.5%\n",
      "* macro_f1: 24.3%\n",
      "epoch [321/1000] batch [20/44] time 0.043 (0.056) data 0.000 (0.016) loss 0.5449 (1.0247) lr 2.6923e-03 eta 0:27:49\n",
      "epoch [321/1000] batch [40/44] time 0.038 (0.048) data 0.000 (0.008) loss 1.2148 (0.9325) lr 2.6923e-03 eta 0:23:58\n",
      "Evaluate on the *val* set\n"
     ]
    },
    {
     "name": "stderr",
     "output_type": "stream",
     "text": [
      "\r",
      "  0%|          | 0/2 [00:00<?, ?it/s]\r",
      " 50%|█████     | 1/2 [00:00<00:00,  3.29it/s]\r",
      "100%|██████████| 2/2 [00:00<00:00,  5.23it/s]\n"
     ]
    },
    {
     "name": "stdout",
     "output_type": "stream",
     "text": [
      "=> result\n",
      "* total: 106\n",
      "* correct: 45\n",
      "* accuracy: 42.5%\n",
      "* error: 57.5%\n",
      "* macro_f1: 24.3%\n",
      "epoch [322/1000] batch [20/44] time 0.044 (0.056) data 0.000 (0.015) loss 1.1445 (0.8715) lr 2.6877e-03 eta 0:28:01\n",
      "epoch [322/1000] batch [40/44] time 0.035 (0.048) data 0.000 (0.007) loss 1.6895 (0.9029) lr 2.6877e-03 eta 0:23:40\n",
      "Evaluate on the *val* set\n"
     ]
    },
    {
     "name": "stderr",
     "output_type": "stream",
     "text": [
      "\r",
      "  0%|          | 0/2 [00:00<?, ?it/s]\r",
      " 50%|█████     | 1/2 [00:00<00:00,  3.33it/s]\r",
      "100%|██████████| 2/2 [00:00<00:00,  5.17it/s]\n"
     ]
    },
    {
     "name": "stdout",
     "output_type": "stream",
     "text": [
      "=> result\n",
      "* total: 106\n",
      "* correct: 39\n",
      "* accuracy: 36.8%\n",
      "* error: 63.2%\n",
      "* macro_f1: 19.3%\n",
      "epoch [323/1000] batch [20/44] time 0.037 (0.056) data 0.000 (0.015) loss 0.3789 (0.8817) lr 2.6831e-03 eta 0:27:43\n",
      "epoch [323/1000] batch [40/44] time 0.041 (0.049) data 0.000 (0.008) loss 1.5000 (0.9297) lr 2.6831e-03 eta 0:24:11\n",
      "Evaluate on the *val* set\n"
     ]
    },
    {
     "name": "stderr",
     "output_type": "stream",
     "text": [
      "\r",
      "  0%|          | 0/2 [00:00<?, ?it/s]\r",
      " 50%|█████     | 1/2 [00:00<00:00,  3.31it/s]\r",
      "100%|██████████| 2/2 [00:00<00:00,  5.33it/s]\n"
     ]
    },
    {
     "name": "stdout",
     "output_type": "stream",
     "text": [
      "=> result\n",
      "* total: 106\n",
      "* correct: 42\n",
      "* accuracy: 39.6%\n",
      "* error: 60.4%\n",
      "* macro_f1: 22.7%\n",
      "epoch [324/1000] batch [20/44] time 0.041 (0.056) data 0.000 (0.015) loss 0.8735 (0.7527) lr 2.6784e-03 eta 0:28:00\n",
      "epoch [324/1000] batch [40/44] time 0.038 (0.048) data 0.000 (0.008) loss 0.8364 (0.8480) lr 2.6784e-03 eta 0:24:00\n",
      "Evaluate on the *val* set\n"
     ]
    },
    {
     "name": "stderr",
     "output_type": "stream",
     "text": [
      "\r",
      "  0%|          | 0/2 [00:00<?, ?it/s]\r",
      " 50%|█████     | 1/2 [00:00<00:00,  3.25it/s]\r",
      "100%|██████████| 2/2 [00:00<00:00,  5.17it/s]\n"
     ]
    },
    {
     "name": "stdout",
     "output_type": "stream",
     "text": [
      "=> result\n",
      "* total: 106\n",
      "* correct: 43\n",
      "* accuracy: 40.6%\n",
      "* error: 59.4%\n",
      "* macro_f1: 26.5%\n",
      "epoch [325/1000] batch [20/44] time 0.040 (0.057) data 0.000 (0.015) loss 0.7588 (0.8507) lr 2.6737e-03 eta 0:28:16\n",
      "epoch [325/1000] batch [40/44] time 0.041 (0.049) data 0.000 (0.007) loss 1.3662 (0.9419) lr 2.6737e-03 eta 0:24:02\n",
      "Evaluate on the *val* set\n"
     ]
    },
    {
     "name": "stderr",
     "output_type": "stream",
     "text": [
      "\r",
      "  0%|          | 0/2 [00:00<?, ?it/s]\r",
      " 50%|█████     | 1/2 [00:00<00:00,  3.27it/s]\r",
      "100%|██████████| 2/2 [00:00<00:00,  5.14it/s]\n"
     ]
    },
    {
     "name": "stdout",
     "output_type": "stream",
     "text": [
      "=> result\n",
      "* total: 106\n",
      "* correct: 45\n",
      "* accuracy: 42.5%\n",
      "* error: 57.5%\n",
      "* macro_f1: 25.7%\n",
      "epoch [326/1000] batch [20/44] time 0.043 (0.053) data 0.000 (0.015) loss 1.1719 (1.0907) lr 2.6691e-03 eta 0:26:25\n",
      "epoch [326/1000] batch [40/44] time 0.040 (0.047) data 0.000 (0.007) loss 1.7676 (0.9945) lr 2.6691e-03 eta 0:23:20\n",
      "Evaluate on the *val* set\n"
     ]
    },
    {
     "name": "stderr",
     "output_type": "stream",
     "text": [
      "\r",
      "  0%|          | 0/2 [00:00<?, ?it/s]\r",
      " 50%|█████     | 1/2 [00:00<00:00,  3.20it/s]\r",
      "100%|██████████| 2/2 [00:00<00:00,  4.93it/s]\n"
     ]
    },
    {
     "name": "stdout",
     "output_type": "stream",
     "text": [
      "=> result\n",
      "* total: 106\n",
      "* correct: 44\n",
      "* accuracy: 41.5%\n",
      "* error: 58.5%\n",
      "* macro_f1: 26.6%\n",
      "epoch [327/1000] batch [20/44] time 0.043 (0.055) data 0.000 (0.014) loss 1.4062 (0.8039) lr 2.6644e-03 eta 0:27:23\n",
      "epoch [327/1000] batch [40/44] time 0.042 (0.048) data 0.000 (0.007) loss 0.6201 (0.9640) lr 2.6644e-03 eta 0:23:40\n",
      "Evaluate on the *val* set\n"
     ]
    },
    {
     "name": "stderr",
     "output_type": "stream",
     "text": [
      "\r",
      "  0%|          | 0/2 [00:00<?, ?it/s]\r",
      " 50%|█████     | 1/2 [00:00<00:00,  3.32it/s]\r",
      "100%|██████████| 2/2 [00:00<00:00,  5.30it/s]\n"
     ]
    },
    {
     "name": "stdout",
     "output_type": "stream",
     "text": [
      "=> result\n",
      "* total: 106\n",
      "* correct: 42\n",
      "* accuracy: 39.6%\n",
      "* error: 60.4%\n",
      "* macro_f1: 23.6%\n",
      "epoch [328/1000] batch [20/44] time 0.040 (0.056) data 0.000 (0.014) loss 1.7656 (0.9640) lr 2.6597e-03 eta 0:27:48\n",
      "epoch [328/1000] batch [40/44] time 0.040 (0.048) data 0.000 (0.007) loss 0.5552 (0.8960) lr 2.6597e-03 eta 0:23:30\n",
      "Evaluate on the *val* set\n"
     ]
    },
    {
     "name": "stderr",
     "output_type": "stream",
     "text": [
      "\r",
      "  0%|          | 0/2 [00:00<?, ?it/s]\r",
      " 50%|█████     | 1/2 [00:00<00:00,  3.27it/s]\r",
      "100%|██████████| 2/2 [00:00<00:00,  5.13it/s]\n"
     ]
    },
    {
     "name": "stdout",
     "output_type": "stream",
     "text": [
      "=> result\n",
      "* total: 106\n",
      "* correct: 36\n",
      "* accuracy: 34.0%\n",
      "* error: 66.0%\n",
      "* macro_f1: 20.7%\n",
      "epoch [329/1000] batch [20/44] time 0.039 (0.055) data 0.000 (0.015) loss 0.7490 (1.0315) lr 2.6550e-03 eta 0:27:07\n",
      "epoch [329/1000] batch [40/44] time 0.041 (0.047) data 0.000 (0.007) loss 1.0840 (0.9385) lr 2.6550e-03 eta 0:23:18\n",
      "Evaluate on the *val* set\n"
     ]
    },
    {
     "name": "stderr",
     "output_type": "stream",
     "text": [
      "\r",
      "  0%|          | 0/2 [00:00<?, ?it/s]\r",
      " 50%|█████     | 1/2 [00:00<00:00,  3.22it/s]\r",
      "100%|██████████| 2/2 [00:00<00:00,  5.01it/s]\n"
     ]
    },
    {
     "name": "stdout",
     "output_type": "stream",
     "text": [
      "=> result\n",
      "* total: 106\n",
      "* correct: 43\n",
      "* accuracy: 40.6%\n",
      "* error: 59.4%\n",
      "* macro_f1: 23.7%\n",
      "epoch [330/1000] batch [20/44] time 0.040 (0.056) data 0.000 (0.015) loss 1.7197 (0.9610) lr 2.6503e-03 eta 0:27:33\n",
      "epoch [330/1000] batch [40/44] time 0.041 (0.048) data 0.000 (0.007) loss 0.7295 (0.9426) lr 2.6503e-03 eta 0:23:49\n",
      "Evaluate on the *val* set\n"
     ]
    },
    {
     "name": "stderr",
     "output_type": "stream",
     "text": [
      "\r",
      "  0%|          | 0/2 [00:00<?, ?it/s]\r",
      " 50%|█████     | 1/2 [00:00<00:00,  3.29it/s]\r",
      "100%|██████████| 2/2 [00:00<00:00,  5.24it/s]\n"
     ]
    },
    {
     "name": "stdout",
     "output_type": "stream",
     "text": [
      "=> result\n",
      "* total: 106\n",
      "* correct: 42\n",
      "* accuracy: 39.6%\n",
      "* error: 60.4%\n",
      "* macro_f1: 25.1%\n",
      "epoch [331/1000] batch [20/44] time 0.038 (0.054) data 0.000 (0.014) loss 0.9155 (0.9137) lr 2.6456e-03 eta 0:26:19\n",
      "epoch [331/1000] batch [40/44] time 0.037 (0.047) data 0.000 (0.007) loss 0.6260 (0.8685) lr 2.6456e-03 eta 0:22:50\n",
      "Evaluate on the *val* set\n"
     ]
    },
    {
     "name": "stderr",
     "output_type": "stream",
     "text": [
      "\r",
      "  0%|          | 0/2 [00:00<?, ?it/s]\r",
      " 50%|█████     | 1/2 [00:00<00:00,  3.27it/s]\r",
      "100%|██████████| 2/2 [00:00<00:00,  5.24it/s]\n"
     ]
    },
    {
     "name": "stdout",
     "output_type": "stream",
     "text": [
      "=> result\n",
      "* total: 106\n",
      "* correct: 45\n",
      "* accuracy: 42.5%\n",
      "* error: 57.5%\n",
      "* macro_f1: 24.8%\n",
      "epoch [332/1000] batch [20/44] time 0.042 (0.057) data 0.000 (0.016) loss 0.8130 (0.8993) lr 2.6408e-03 eta 0:28:06\n",
      "epoch [332/1000] batch [40/44] time 0.041 (0.049) data 0.000 (0.008) loss 0.6128 (0.8688) lr 2.6408e-03 eta 0:23:47\n",
      "Evaluate on the *val* set\n"
     ]
    },
    {
     "name": "stderr",
     "output_type": "stream",
     "text": [
      "\r",
      "  0%|          | 0/2 [00:00<?, ?it/s]\r",
      " 50%|█████     | 1/2 [00:00<00:00,  3.22it/s]\r",
      "100%|██████████| 2/2 [00:00<00:00,  5.29it/s]\n"
     ]
    },
    {
     "name": "stdout",
     "output_type": "stream",
     "text": [
      "=> result\n",
      "* total: 106\n",
      "* correct: 44\n",
      "* accuracy: 41.5%\n",
      "* error: 58.5%\n",
      "* macro_f1: 24.6%\n",
      "epoch [333/1000] batch [20/44] time 0.039 (0.056) data 0.000 (0.015) loss 1.3955 (0.8810) lr 2.6361e-03 eta 0:27:29\n",
      "epoch [333/1000] batch [40/44] time 0.034 (0.047) data 0.000 (0.008) loss 1.2549 (0.8751) lr 2.6361e-03 eta 0:23:09\n",
      "Evaluate on the *val* set\n"
     ]
    },
    {
     "name": "stderr",
     "output_type": "stream",
     "text": [
      "\r",
      "  0%|          | 0/2 [00:00<?, ?it/s]\r",
      " 50%|█████     | 1/2 [00:00<00:00,  3.27it/s]\r",
      "100%|██████████| 2/2 [00:00<00:00,  5.15it/s]\n"
     ]
    },
    {
     "name": "stdout",
     "output_type": "stream",
     "text": [
      "=> result\n",
      "* total: 106\n",
      "* correct: 44\n",
      "* accuracy: 41.5%\n",
      "* error: 58.5%\n",
      "* macro_f1: 24.5%\n",
      "epoch [334/1000] batch [20/44] time 0.039 (0.055) data 0.000 (0.014) loss 1.0820 (0.8102) lr 2.6313e-03 eta 0:26:53\n",
      "epoch [334/1000] batch [40/44] time 0.037 (0.048) data 0.000 (0.007) loss 0.6748 (0.8860) lr 2.6313e-03 eta 0:23:14\n",
      "Evaluate on the *val* set\n"
     ]
    },
    {
     "name": "stderr",
     "output_type": "stream",
     "text": [
      "\r",
      "  0%|          | 0/2 [00:00<?, ?it/s]\r",
      " 50%|█████     | 1/2 [00:00<00:00,  3.29it/s]\r",
      "100%|██████████| 2/2 [00:00<00:00,  5.18it/s]\n"
     ]
    },
    {
     "name": "stdout",
     "output_type": "stream",
     "text": [
      "=> result\n",
      "* total: 106\n",
      "* correct: 49\n",
      "* accuracy: 46.2%\n",
      "* error: 53.8%\n",
      "* macro_f1: 30.1%\n",
      "Checkpoint saved to output/replica/MaPLePromptScene/vit_b16_c2_ep200_batch4_ctx4_depth12_cross_datasets_-1shots/seed1/MultiModalPromptSceneLearner/model-best.pth.tar\n",
      "epoch [335/1000] batch [20/44] time 0.041 (0.056) data 0.000 (0.016) loss 0.4197 (0.7279) lr 2.6266e-03 eta 0:27:24\n",
      "epoch [335/1000] batch [40/44] time 0.038 (0.048) data 0.000 (0.008) loss 0.8618 (0.8688) lr 2.6266e-03 eta 0:23:32\n",
      "Evaluate on the *val* set\n"
     ]
    },
    {
     "name": "stderr",
     "output_type": "stream",
     "text": [
      "\r",
      "  0%|          | 0/2 [00:00<?, ?it/s]\r",
      " 50%|█████     | 1/2 [00:00<00:00,  3.25it/s]\r",
      "100%|██████████| 2/2 [00:00<00:00,  5.15it/s]\n"
     ]
    },
    {
     "name": "stdout",
     "output_type": "stream",
     "text": [
      "=> result\n",
      "* total: 106\n",
      "* correct: 44\n",
      "* accuracy: 41.5%\n",
      "* error: 58.5%\n",
      "* macro_f1: 25.0%\n",
      "epoch [336/1000] batch [20/44] time 0.044 (0.051) data 0.000 (0.014) loss 0.9258 (0.9286) lr 2.6218e-03 eta 0:24:54\n",
      "epoch [336/1000] batch [40/44] time 0.042 (0.045) data 0.000 (0.007) loss 1.0576 (0.9097) lr 2.6218e-03 eta 0:22:09\n",
      "Evaluate on the *val* set\n"
     ]
    },
    {
     "name": "stderr",
     "output_type": "stream",
     "text": [
      "\r",
      "  0%|          | 0/2 [00:00<?, ?it/s]\r",
      " 50%|█████     | 1/2 [00:00<00:00,  3.33it/s]\r",
      "100%|██████████| 2/2 [00:00<00:00,  5.27it/s]\n"
     ]
    },
    {
     "name": "stdout",
     "output_type": "stream",
     "text": [
      "=> result\n",
      "* total: 106\n",
      "* correct: 45\n",
      "* accuracy: 42.5%\n",
      "* error: 57.5%\n",
      "* macro_f1: 24.9%\n",
      "epoch [337/1000] batch [20/44] time 0.045 (0.055) data 0.000 (0.014) loss 1.0850 (0.9047) lr 2.6171e-03 eta 0:26:48\n",
      "epoch [337/1000] batch [40/44] time 0.039 (0.047) data 0.000 (0.007) loss 0.4912 (0.9549) lr 2.6171e-03 eta 0:23:04\n",
      "Evaluate on the *val* set\n"
     ]
    },
    {
     "name": "stderr",
     "output_type": "stream",
     "text": [
      "\r",
      "  0%|          | 0/2 [00:00<?, ?it/s]\r",
      " 50%|█████     | 1/2 [00:00<00:00,  3.24it/s]\r",
      "100%|██████████| 2/2 [00:00<00:00,  5.27it/s]\n"
     ]
    },
    {
     "name": "stdout",
     "output_type": "stream",
     "text": [
      "=> result\n",
      "* total: 106\n",
      "* correct: 44\n",
      "* accuracy: 41.5%\n",
      "* error: 58.5%\n",
      "* macro_f1: 23.9%\n",
      "epoch [338/1000] batch [20/44] time 0.042 (0.058) data 0.000 (0.016) loss 0.5322 (0.7973) lr 2.6123e-03 eta 0:28:13\n",
      "epoch [338/1000] batch [40/44] time 0.040 (0.049) data 0.000 (0.008) loss 0.4202 (0.8804) lr 2.6123e-03 eta 0:23:48\n",
      "Evaluate on the *val* set\n"
     ]
    },
    {
     "name": "stderr",
     "output_type": "stream",
     "text": [
      "\r",
      "  0%|          | 0/2 [00:00<?, ?it/s]\r",
      " 50%|█████     | 1/2 [00:00<00:00,  3.31it/s]\r",
      "100%|██████████| 2/2 [00:00<00:00,  5.26it/s]\n"
     ]
    },
    {
     "name": "stdout",
     "output_type": "stream",
     "text": [
      "=> result\n",
      "* total: 106\n",
      "* correct: 43\n",
      "* accuracy: 40.6%\n",
      "* error: 59.4%\n",
      "* macro_f1: 25.2%\n",
      "epoch [339/1000] batch [20/44] time 0.039 (0.055) data 0.000 (0.014) loss 0.6406 (0.9872) lr 2.6075e-03 eta 0:26:49\n",
      "epoch [339/1000] batch [40/44] time 0.038 (0.048) data 0.000 (0.007) loss 0.5469 (0.8857) lr 2.6075e-03 eta 0:23:05\n",
      "Evaluate on the *val* set\n"
     ]
    },
    {
     "name": "stderr",
     "output_type": "stream",
     "text": [
      "\r",
      "  0%|          | 0/2 [00:00<?, ?it/s]\r",
      " 50%|█████     | 1/2 [00:00<00:00,  3.34it/s]\r",
      "100%|██████████| 2/2 [00:00<00:00,  5.24it/s]\n"
     ]
    },
    {
     "name": "stdout",
     "output_type": "stream",
     "text": [
      "=> result\n",
      "* total: 106\n",
      "* correct: 45\n",
      "* accuracy: 42.5%\n",
      "* error: 57.5%\n",
      "* macro_f1: 24.4%\n",
      "epoch [340/1000] batch [20/44] time 0.037 (0.056) data 0.000 (0.015) loss 1.0039 (0.7645) lr 2.6027e-03 eta 0:27:11\n",
      "epoch [340/1000] batch [40/44] time 0.041 (0.048) data 0.000 (0.008) loss 0.5278 (0.9118) lr 2.6027e-03 eta 0:23:20\n",
      "Evaluate on the *val* set\n"
     ]
    },
    {
     "name": "stderr",
     "output_type": "stream",
     "text": [
      "\r",
      "  0%|          | 0/2 [00:00<?, ?it/s]\r",
      " 50%|█████     | 1/2 [00:00<00:00,  3.27it/s]\r",
      "100%|██████████| 2/2 [00:00<00:00,  5.16it/s]\n"
     ]
    },
    {
     "name": "stdout",
     "output_type": "stream",
     "text": [
      "=> result\n",
      "* total: 106\n",
      "* correct: 43\n",
      "* accuracy: 40.6%\n",
      "* error: 59.4%\n",
      "* macro_f1: 23.9%\n",
      "epoch [341/1000] batch [20/44] time 0.037 (0.055) data 0.000 (0.014) loss 0.7349 (1.0449) lr 2.5979e-03 eta 0:26:39\n",
      "epoch [341/1000] batch [40/44] time 0.041 (0.048) data 0.000 (0.007) loss 0.7275 (0.9767) lr 2.5979e-03 eta 0:23:03\n",
      "Evaluate on the *val* set\n"
     ]
    },
    {
     "name": "stderr",
     "output_type": "stream",
     "text": [
      "\r",
      "  0%|          | 0/2 [00:00<?, ?it/s]\r",
      " 50%|█████     | 1/2 [00:00<00:00,  3.23it/s]\r",
      "100%|██████████| 2/2 [00:00<00:00,  5.22it/s]\n"
     ]
    },
    {
     "name": "stdout",
     "output_type": "stream",
     "text": [
      "=> result\n",
      "* total: 106\n",
      "* correct: 43\n",
      "* accuracy: 40.6%\n",
      "* error: 59.4%\n",
      "* macro_f1: 24.6%\n",
      "epoch [342/1000] batch [20/44] time 0.039 (0.053) data 0.000 (0.014) loss 1.4365 (0.7726) lr 2.5931e-03 eta 0:25:31\n",
      "epoch [342/1000] batch [40/44] time 0.037 (0.046) data 0.000 (0.007) loss 1.0176 (0.8539) lr 2.5931e-03 eta 0:22:20\n",
      "Evaluate on the *val* set\n"
     ]
    },
    {
     "name": "stderr",
     "output_type": "stream",
     "text": [
      "\r",
      "  0%|          | 0/2 [00:00<?, ?it/s]\r",
      " 50%|█████     | 1/2 [00:00<00:00,  3.19it/s]\r",
      "100%|██████████| 2/2 [00:00<00:00,  4.97it/s]\n"
     ]
    },
    {
     "name": "stdout",
     "output_type": "stream",
     "text": [
      "=> result\n",
      "* total: 106\n",
      "* correct: 42\n",
      "* accuracy: 39.6%\n",
      "* error: 60.4%\n",
      "* macro_f1: 24.8%\n",
      "epoch [343/1000] batch [20/44] time 0.043 (0.057) data 0.000 (0.015) loss 1.1162 (0.9320) lr 2.5882e-03 eta 0:27:15\n",
      "epoch [343/1000] batch [40/44] time 0.039 (0.048) data 0.000 (0.007) loss 0.3167 (0.8967) lr 2.5882e-03 eta 0:23:19\n",
      "Evaluate on the *val* set\n"
     ]
    },
    {
     "name": "stderr",
     "output_type": "stream",
     "text": [
      "\r",
      "  0%|          | 0/2 [00:00<?, ?it/s]\r",
      " 50%|█████     | 1/2 [00:00<00:00,  3.23it/s]\r",
      "100%|██████████| 2/2 [00:00<00:00,  5.11it/s]\n"
     ]
    },
    {
     "name": "stdout",
     "output_type": "stream",
     "text": [
      "=> result\n",
      "* total: 106\n",
      "* correct: 44\n",
      "* accuracy: 41.5%\n",
      "* error: 58.5%\n",
      "* macro_f1: 28.8%\n",
      "epoch [344/1000] batch [20/44] time 0.038 (0.056) data 0.000 (0.015) loss 0.7412 (0.8954) lr 2.5834e-03 eta 0:27:02\n",
      "epoch [344/1000] batch [40/44] time 0.040 (0.048) data 0.000 (0.008) loss 1.1680 (0.9561) lr 2.5834e-03 eta 0:23:00\n",
      "Evaluate on the *val* set\n"
     ]
    },
    {
     "name": "stderr",
     "output_type": "stream",
     "text": [
      "\r",
      "  0%|          | 0/2 [00:00<?, ?it/s]\r",
      " 50%|█████     | 1/2 [00:00<00:00,  3.22it/s]\r",
      "100%|██████████| 2/2 [00:00<00:00,  5.15it/s]\n"
     ]
    },
    {
     "name": "stdout",
     "output_type": "stream",
     "text": [
      "=> result\n",
      "* total: 106\n",
      "* correct: 46\n",
      "* accuracy: 43.4%\n",
      "* error: 56.6%\n",
      "* macro_f1: 26.4%\n",
      "epoch [345/1000] batch [20/44] time 0.034 (0.056) data 0.000 (0.014) loss 1.3057 (0.8834) lr 2.5786e-03 eta 0:26:45\n",
      "epoch [345/1000] batch [40/44] time 0.042 (0.048) data 0.000 (0.007) loss 0.9570 (0.8850) lr 2.5786e-03 eta 0:22:59\n",
      "Evaluate on the *val* set\n"
     ]
    },
    {
     "name": "stderr",
     "output_type": "stream",
     "text": [
      "\r",
      "  0%|          | 0/2 [00:00<?, ?it/s]\r",
      " 50%|█████     | 1/2 [00:00<00:00,  3.23it/s]\r",
      "100%|██████████| 2/2 [00:00<00:00,  5.09it/s]\n"
     ]
    },
    {
     "name": "stdout",
     "output_type": "stream",
     "text": [
      "=> result\n",
      "* total: 106\n",
      "* correct: 47\n",
      "* accuracy: 44.3%\n",
      "* error: 55.7%\n",
      "* macro_f1: 27.2%\n",
      "epoch [346/1000] batch [20/44] time 0.037 (0.056) data 0.000 (0.015) loss 1.5732 (0.8097) lr 2.5737e-03 eta 0:26:38\n",
      "epoch [346/1000] batch [40/44] time 0.040 (0.048) data 0.000 (0.007) loss 0.6060 (0.8727) lr 2.5737e-03 eta 0:22:52\n",
      "Evaluate on the *val* set\n"
     ]
    },
    {
     "name": "stderr",
     "output_type": "stream",
     "text": [
      "\r",
      "  0%|          | 0/2 [00:00<?, ?it/s]\r",
      " 50%|█████     | 1/2 [00:00<00:00,  3.16it/s]\r",
      "100%|██████████| 2/2 [00:00<00:00,  5.08it/s]\n"
     ]
    },
    {
     "name": "stdout",
     "output_type": "stream",
     "text": [
      "=> result\n",
      "* total: 106\n",
      "* correct: 48\n",
      "* accuracy: 45.3%\n",
      "* error: 54.7%\n",
      "* macro_f1: 27.1%\n",
      "epoch [347/1000] batch [20/44] time 0.044 (0.056) data 0.000 (0.015) loss 0.8267 (0.8449) lr 2.5689e-03 eta 0:26:49\n",
      "epoch [347/1000] batch [40/44] time 0.040 (0.048) data 0.000 (0.007) loss 1.0059 (0.9079) lr 2.5689e-03 eta 0:22:56\n",
      "Evaluate on the *val* set\n"
     ]
    },
    {
     "name": "stderr",
     "output_type": "stream",
     "text": [
      "\r",
      "  0%|          | 0/2 [00:00<?, ?it/s]\r",
      " 50%|█████     | 1/2 [00:00<00:00,  3.34it/s]\r",
      "100%|██████████| 2/2 [00:00<00:00,  5.31it/s]\n"
     ]
    },
    {
     "name": "stdout",
     "output_type": "stream",
     "text": [
      "=> result\n",
      "* total: 106\n",
      "* correct: 44\n",
      "* accuracy: 41.5%\n",
      "* error: 58.5%\n",
      "* macro_f1: 24.9%\n",
      "epoch [348/1000] batch [20/44] time 0.037 (0.055) data 0.000 (0.015) loss 0.5713 (0.8760) lr 2.5640e-03 eta 0:26:30\n",
      "epoch [348/1000] batch [40/44] time 0.038 (0.048) data 0.000 (0.007) loss 0.6919 (0.8662) lr 2.5640e-03 eta 0:22:47\n",
      "Evaluate on the *val* set\n"
     ]
    },
    {
     "name": "stderr",
     "output_type": "stream",
     "text": [
      "\r",
      "  0%|          | 0/2 [00:00<?, ?it/s]\r",
      " 50%|█████     | 1/2 [00:00<00:00,  3.20it/s]\r",
      "100%|██████████| 2/2 [00:00<00:00,  5.05it/s]\n"
     ]
    },
    {
     "name": "stdout",
     "output_type": "stream",
     "text": [
      "=> result\n",
      "* total: 106\n",
      "* correct: 46\n",
      "* accuracy: 43.4%\n",
      "* error: 56.6%\n",
      "* macro_f1: 27.9%\n",
      "epoch [349/1000] batch [20/44] time 0.044 (0.055) data 0.000 (0.014) loss 0.2686 (0.7875) lr 2.5591e-03 eta 0:26:17\n",
      "epoch [349/1000] batch [40/44] time 0.040 (0.047) data 0.000 (0.007) loss 0.1021 (0.8155) lr 2.5591e-03 eta 0:22:26\n",
      "Evaluate on the *val* set\n"
     ]
    },
    {
     "name": "stderr",
     "output_type": "stream",
     "text": [
      "\r",
      "  0%|          | 0/2 [00:00<?, ?it/s]\r",
      " 50%|█████     | 1/2 [00:00<00:00,  3.23it/s]\r",
      "100%|██████████| 2/2 [00:00<00:00,  4.92it/s]\n"
     ]
    },
    {
     "name": "stdout",
     "output_type": "stream",
     "text": [
      "=> result\n",
      "* total: 106\n",
      "* correct: 45\n",
      "* accuracy: 42.5%\n",
      "* error: 57.5%\n",
      "* macro_f1: 25.0%\n",
      "epoch [350/1000] batch [20/44] time 0.039 (0.056) data 0.000 (0.015) loss 1.3955 (0.9672) lr 2.5543e-03 eta 0:26:37\n",
      "epoch [350/1000] batch [40/44] time 0.042 (0.048) data 0.000 (0.008) loss 0.8511 (0.8797) lr 2.5543e-03 eta 0:22:50\n",
      "Evaluate on the *val* set\n"
     ]
    },
    {
     "name": "stderr",
     "output_type": "stream",
     "text": [
      "\r",
      "  0%|          | 0/2 [00:00<?, ?it/s]\r",
      " 50%|█████     | 1/2 [00:00<00:00,  3.21it/s]\r",
      "100%|██████████| 2/2 [00:00<00:00,  5.07it/s]\n"
     ]
    },
    {
     "name": "stdout",
     "output_type": "stream",
     "text": [
      "=> result\n",
      "* total: 106\n",
      "* correct: 41\n",
      "* accuracy: 38.7%\n",
      "* error: 61.3%\n",
      "* macro_f1: 22.8%\n",
      "epoch [351/1000] batch [20/44] time 0.042 (0.054) data 0.000 (0.015) loss 0.8926 (0.8862) lr 2.5494e-03 eta 0:25:57\n",
      "epoch [351/1000] batch [40/44] time 0.042 (0.047) data 0.000 (0.007) loss 1.1738 (0.8685) lr 2.5494e-03 eta 0:22:30\n",
      "Evaluate on the *val* set\n"
     ]
    },
    {
     "name": "stderr",
     "output_type": "stream",
     "text": [
      "\r",
      "  0%|          | 0/2 [00:00<?, ?it/s]\r",
      " 50%|█████     | 1/2 [00:00<00:00,  3.20it/s]\r",
      "100%|██████████| 2/2 [00:00<00:00,  4.97it/s]\n"
     ]
    },
    {
     "name": "stdout",
     "output_type": "stream",
     "text": [
      "=> result\n",
      "* total: 106\n",
      "* correct: 46\n",
      "* accuracy: 43.4%\n",
      "* error: 56.6%\n",
      "* macro_f1: 28.2%\n",
      "epoch [352/1000] batch [20/44] time 0.037 (0.055) data 0.000 (0.015) loss 0.5776 (0.8437) lr 2.5445e-03 eta 0:26:10\n",
      "epoch [352/1000] batch [40/44] time 0.037 (0.047) data 0.000 (0.007) loss 0.7676 (0.9597) lr 2.5445e-03 eta 0:22:29\n",
      "Evaluate on the *val* set\n"
     ]
    },
    {
     "name": "stderr",
     "output_type": "stream",
     "text": [
      "\r",
      "  0%|          | 0/2 [00:00<?, ?it/s]\r",
      " 50%|█████     | 1/2 [00:00<00:00,  3.28it/s]\r",
      "100%|██████████| 2/2 [00:00<00:00,  5.08it/s]\n"
     ]
    },
    {
     "name": "stdout",
     "output_type": "stream",
     "text": [
      "=> result\n",
      "* total: 106\n",
      "* correct: 45\n",
      "* accuracy: 42.5%\n",
      "* error: 57.5%\n",
      "* macro_f1: 25.8%\n",
      "epoch [353/1000] batch [20/44] time 0.039 (0.052) data 0.000 (0.014) loss 0.7397 (0.7933) lr 2.5396e-03 eta 0:24:32\n",
      "epoch [353/1000] batch [40/44] time 0.039 (0.046) data 0.000 (0.007) loss 0.2952 (0.8488) lr 2.5396e-03 eta 0:21:44\n",
      "Evaluate on the *val* set\n"
     ]
    },
    {
     "name": "stderr",
     "output_type": "stream",
     "text": [
      "\r",
      "  0%|          | 0/2 [00:00<?, ?it/s]\r",
      " 50%|█████     | 1/2 [00:00<00:00,  3.04it/s]\r",
      "100%|██████████| 2/2 [00:00<00:00,  4.87it/s]\n"
     ]
    },
    {
     "name": "stdout",
     "output_type": "stream",
     "text": [
      "=> result\n",
      "* total: 106\n",
      "* correct: 45\n",
      "* accuracy: 42.5%\n",
      "* error: 57.5%\n",
      "* macro_f1: 26.3%\n",
      "epoch [354/1000] batch [20/44] time 0.040 (0.055) data 0.000 (0.014) loss 1.0156 (0.9423) lr 2.5347e-03 eta 0:26:13\n",
      "epoch [354/1000] batch [40/44] time 0.035 (0.048) data 0.000 (0.007) loss 1.3340 (0.9934) lr 2.5347e-03 eta 0:22:31\n",
      "Evaluate on the *val* set\n"
     ]
    },
    {
     "name": "stderr",
     "output_type": "stream",
     "text": [
      "\r",
      "  0%|          | 0/2 [00:00<?, ?it/s]\r",
      " 50%|█████     | 1/2 [00:00<00:00,  3.14it/s]\r",
      "100%|██████████| 2/2 [00:00<00:00,  4.85it/s]\n"
     ]
    },
    {
     "name": "stdout",
     "output_type": "stream",
     "text": [
      "=> result\n",
      "* total: 106\n",
      "* correct: 47\n",
      "* accuracy: 44.3%\n",
      "* error: 55.7%\n",
      "* macro_f1: 29.4%\n",
      "epoch [355/1000] batch [20/44] time 0.042 (0.055) data 0.000 (0.014) loss 1.5391 (1.0286) lr 2.5298e-03 eta 0:26:03\n",
      "epoch [355/1000] batch [40/44] time 0.037 (0.048) data 0.000 (0.007) loss 1.0283 (0.9363) lr 2.5298e-03 eta 0:22:43\n",
      "Evaluate on the *val* set\n"
     ]
    },
    {
     "name": "stderr",
     "output_type": "stream",
     "text": [
      "\r",
      "  0%|          | 0/2 [00:00<?, ?it/s]\r",
      " 50%|█████     | 1/2 [00:00<00:00,  3.22it/s]\r",
      "100%|██████████| 2/2 [00:00<00:00,  5.01it/s]\n"
     ]
    },
    {
     "name": "stdout",
     "output_type": "stream",
     "text": [
      "=> result\n",
      "* total: 106\n",
      "* correct: 47\n",
      "* accuracy: 44.3%\n",
      "* error: 55.7%\n",
      "* macro_f1: 27.1%\n",
      "epoch [356/1000] batch [20/44] time 0.037 (0.054) data 0.000 (0.014) loss 1.1719 (0.8381) lr 2.5248e-03 eta 0:25:31\n",
      "epoch [356/1000] batch [40/44] time 0.041 (0.047) data 0.000 (0.007) loss 0.4634 (0.8262) lr 2.5248e-03 eta 0:22:16\n",
      "Evaluate on the *val* set\n"
     ]
    },
    {
     "name": "stderr",
     "output_type": "stream",
     "text": [
      "\r",
      "  0%|          | 0/2 [00:00<?, ?it/s]\r",
      " 50%|█████     | 1/2 [00:00<00:00,  3.28it/s]\r",
      "100%|██████████| 2/2 [00:00<00:00,  5.12it/s]\n"
     ]
    },
    {
     "name": "stdout",
     "output_type": "stream",
     "text": [
      "=> result\n",
      "* total: 106\n",
      "* correct: 47\n",
      "* accuracy: 44.3%\n",
      "* error: 55.7%\n",
      "* macro_f1: 26.5%\n",
      "epoch [357/1000] batch [20/44] time 0.039 (0.055) data 0.000 (0.015) loss 0.5806 (0.6775) lr 2.5199e-03 eta 0:26:01\n",
      "epoch [357/1000] batch [40/44] time 0.035 (0.048) data 0.000 (0.008) loss 0.7295 (0.8566) lr 2.5199e-03 eta 0:22:25\n",
      "Evaluate on the *val* set\n"
     ]
    },
    {
     "name": "stderr",
     "output_type": "stream",
     "text": [
      "\r",
      "  0%|          | 0/2 [00:00<?, ?it/s]\r",
      " 50%|█████     | 1/2 [00:00<00:00,  3.17it/s]\r",
      "100%|██████████| 2/2 [00:00<00:00,  4.91it/s]\n"
     ]
    },
    {
     "name": "stdout",
     "output_type": "stream",
     "text": [
      "=> result\n",
      "* total: 106\n",
      "* correct: 47\n",
      "* accuracy: 44.3%\n",
      "* error: 55.7%\n",
      "* macro_f1: 27.7%\n",
      "epoch [358/1000] batch [20/44] time 0.038 (0.056) data 0.000 (0.014) loss 0.5952 (0.7326) lr 2.5150e-03 eta 0:26:29\n",
      "epoch [358/1000] batch [40/44] time 0.041 (0.048) data 0.000 (0.007) loss 2.0000 (0.8833) lr 2.5150e-03 eta 0:22:38\n",
      "Evaluate on the *val* set\n"
     ]
    },
    {
     "name": "stderr",
     "output_type": "stream",
     "text": [
      "\r",
      "  0%|          | 0/2 [00:00<?, ?it/s]\r",
      " 50%|█████     | 1/2 [00:00<00:00,  3.27it/s]\r",
      "100%|██████████| 2/2 [00:00<00:00,  5.05it/s]\n"
     ]
    },
    {
     "name": "stdout",
     "output_type": "stream",
     "text": [
      "=> result\n",
      "* total: 106\n",
      "* correct: 43\n",
      "* accuracy: 40.6%\n",
      "* error: 59.4%\n",
      "* macro_f1: 22.9%\n",
      "epoch [359/1000] batch [20/44] time 0.045 (0.054) data 0.000 (0.014) loss 0.1125 (0.8428) lr 2.5100e-03 eta 0:25:30\n",
      "epoch [359/1000] batch [40/44] time 0.042 (0.047) data 0.000 (0.007) loss 1.0361 (0.8969) lr 2.5100e-03 eta 0:22:06\n",
      "Evaluate on the *val* set\n"
     ]
    },
    {
     "name": "stderr",
     "output_type": "stream",
     "text": [
      "\r",
      "  0%|          | 0/2 [00:00<?, ?it/s]\r",
      " 50%|█████     | 1/2 [00:00<00:00,  3.31it/s]\r",
      "100%|██████████| 2/2 [00:00<00:00,  5.04it/s]\n"
     ]
    },
    {
     "name": "stdout",
     "output_type": "stream",
     "text": [
      "=> result\n",
      "* total: 106\n",
      "* correct: 44\n",
      "* accuracy: 41.5%\n",
      "* error: 58.5%\n",
      "* macro_f1: 24.6%\n",
      "epoch [360/1000] batch [20/44] time 0.043 (0.053) data 0.000 (0.015) loss 1.0020 (0.8378) lr 2.5050e-03 eta 0:24:57\n",
      "epoch [360/1000] batch [40/44] time 0.042 (0.047) data 0.000 (0.007) loss 1.3037 (0.8917) lr 2.5050e-03 eta 0:22:00\n",
      "Evaluate on the *val* set\n"
     ]
    },
    {
     "name": "stderr",
     "output_type": "stream",
     "text": [
      "\r",
      "  0%|          | 0/2 [00:00<?, ?it/s]\r",
      " 50%|█████     | 1/2 [00:00<00:00,  3.38it/s]\r",
      "100%|██████████| 2/2 [00:00<00:00,  5.32it/s]\n"
     ]
    },
    {
     "name": "stdout",
     "output_type": "stream",
     "text": [
      "=> result\n",
      "* total: 106\n",
      "* correct: 46\n",
      "* accuracy: 43.4%\n",
      "* error: 56.6%\n",
      "* macro_f1: 28.4%\n",
      "epoch [361/1000] batch [20/44] time 0.040 (0.054) data 0.000 (0.014) loss 0.7085 (0.8824) lr 2.5001e-03 eta 0:25:31\n",
      "epoch [361/1000] batch [40/44] time 0.042 (0.047) data 0.000 (0.007) loss 0.5649 (0.8623) lr 2.5001e-03 eta 0:22:08\n",
      "Evaluate on the *val* set\n"
     ]
    },
    {
     "name": "stderr",
     "output_type": "stream",
     "text": [
      "\r",
      "  0%|          | 0/2 [00:00<?, ?it/s]\r",
      " 50%|█████     | 1/2 [00:00<00:00,  3.30it/s]\r",
      "100%|██████████| 2/2 [00:00<00:00,  5.23it/s]\n"
     ]
    },
    {
     "name": "stdout",
     "output_type": "stream",
     "text": [
      "=> result\n",
      "* total: 106\n",
      "* correct: 44\n",
      "* accuracy: 41.5%\n",
      "* error: 58.5%\n",
      "* macro_f1: 25.5%\n",
      "epoch [362/1000] batch [20/44] time 0.036 (0.056) data 0.000 (0.014) loss 1.2969 (0.6978) lr 2.4951e-03 eta 0:26:06\n",
      "epoch [362/1000] batch [40/44] time 0.037 (0.047) data 0.000 (0.007) loss 1.0146 (0.8230) lr 2.4951e-03 eta 0:22:08\n",
      "Evaluate on the *val* set\n"
     ]
    },
    {
     "name": "stderr",
     "output_type": "stream",
     "text": [
      "\r",
      "  0%|          | 0/2 [00:00<?, ?it/s]\r",
      " 50%|█████     | 1/2 [00:00<00:00,  3.19it/s]\r",
      "100%|██████████| 2/2 [00:00<00:00,  4.97it/s]\n"
     ]
    },
    {
     "name": "stdout",
     "output_type": "stream",
     "text": [
      "=> result\n",
      "* total: 106\n",
      "* correct: 42\n",
      "* accuracy: 39.6%\n",
      "* error: 60.4%\n",
      "* macro_f1: 23.6%\n",
      "epoch [363/1000] batch [20/44] time 0.039 (0.055) data 0.000 (0.016) loss 0.9058 (0.8804) lr 2.4901e-03 eta 0:25:37\n",
      "epoch [363/1000] batch [40/44] time 0.041 (0.047) data 0.000 (0.008) loss 1.1592 (0.9046) lr 2.4901e-03 eta 0:22:09\n",
      "Evaluate on the *val* set\n"
     ]
    },
    {
     "name": "stderr",
     "output_type": "stream",
     "text": [
      "\r",
      "  0%|          | 0/2 [00:00<?, ?it/s]\r",
      " 50%|█████     | 1/2 [00:00<00:00,  3.31it/s]\r",
      "100%|██████████| 2/2 [00:00<00:00,  5.17it/s]\n"
     ]
    },
    {
     "name": "stdout",
     "output_type": "stream",
     "text": [
      "=> result\n",
      "* total: 106\n",
      "* correct: 45\n",
      "* accuracy: 42.5%\n",
      "* error: 57.5%\n",
      "* macro_f1: 25.5%\n",
      "epoch [364/1000] batch [20/44] time 0.041 (0.056) data 0.000 (0.015) loss 0.9785 (0.7537) lr 2.4852e-03 eta 0:26:19\n",
      "epoch [364/1000] batch [40/44] time 0.040 (0.048) data 0.000 (0.008) loss 1.1953 (0.8647) lr 2.4852e-03 eta 0:22:20\n",
      "Evaluate on the *val* set\n"
     ]
    },
    {
     "name": "stderr",
     "output_type": "stream",
     "text": [
      "\r",
      "  0%|          | 0/2 [00:00<?, ?it/s]\r",
      " 50%|█████     | 1/2 [00:00<00:00,  3.27it/s]\r",
      "100%|██████████| 2/2 [00:00<00:00,  5.13it/s]\n"
     ]
    },
    {
     "name": "stdout",
     "output_type": "stream",
     "text": [
      "=> result\n",
      "* total: 106\n",
      "* correct: 40\n",
      "* accuracy: 37.7%\n",
      "* error: 62.3%\n",
      "* macro_f1: 20.3%\n",
      "epoch [365/1000] batch [20/44] time 0.042 (0.056) data 0.000 (0.015) loss 0.9761 (0.8017) lr 2.4802e-03 eta 0:26:07\n",
      "epoch [365/1000] batch [40/44] time 0.040 (0.048) data 0.000 (0.007) loss 0.6470 (0.8864) lr 2.4802e-03 eta 0:22:22\n",
      "Evaluate on the *val* set\n"
     ]
    },
    {
     "name": "stderr",
     "output_type": "stream",
     "text": [
      "\r",
      "  0%|          | 0/2 [00:00<?, ?it/s]\r",
      " 50%|█████     | 1/2 [00:00<00:00,  3.34it/s]\r",
      "100%|██████████| 2/2 [00:00<00:00,  5.29it/s]\n"
     ]
    },
    {
     "name": "stdout",
     "output_type": "stream",
     "text": [
      "=> result\n",
      "* total: 106\n",
      "* correct: 44\n",
      "* accuracy: 41.5%\n",
      "* error: 58.5%\n",
      "* macro_f1: 25.6%\n",
      "epoch [366/1000] batch [20/44] time 0.045 (0.055) data 0.000 (0.014) loss 0.8276 (0.8335) lr 2.4752e-03 eta 0:25:45\n",
      "epoch [366/1000] batch [40/44] time 0.037 (0.048) data 0.000 (0.007) loss 2.5742 (0.8884) lr 2.4752e-03 eta 0:22:08\n",
      "Evaluate on the *val* set\n"
     ]
    },
    {
     "name": "stderr",
     "output_type": "stream",
     "text": [
      "\r",
      "  0%|          | 0/2 [00:00<?, ?it/s]\r",
      " 50%|█████     | 1/2 [00:00<00:00,  3.20it/s]\r",
      "100%|██████████| 2/2 [00:00<00:00,  5.13it/s]\n"
     ]
    },
    {
     "name": "stdout",
     "output_type": "stream",
     "text": [
      "=> result\n",
      "* total: 106\n",
      "* correct: 48\n",
      "* accuracy: 45.3%\n",
      "* error: 54.7%\n",
      "* macro_f1: 26.8%\n",
      "epoch [367/1000] batch [20/44] time 0.040 (0.055) data 0.000 (0.014) loss 0.8003 (0.9155) lr 2.4702e-03 eta 0:25:45\n",
      "epoch [367/1000] batch [40/44] time 0.039 (0.048) data 0.000 (0.007) loss 1.1543 (0.8960) lr 2.4702e-03 eta 0:22:08\n",
      "Evaluate on the *val* set\n"
     ]
    },
    {
     "name": "stderr",
     "output_type": "stream",
     "text": [
      "\r",
      "  0%|          | 0/2 [00:00<?, ?it/s]\r",
      " 50%|█████     | 1/2 [00:00<00:00,  3.36it/s]\r",
      "100%|██████████| 2/2 [00:00<00:00,  5.20it/s]\n"
     ]
    },
    {
     "name": "stdout",
     "output_type": "stream",
     "text": [
      "=> result\n",
      "* total: 106\n",
      "* correct: 46\n",
      "* accuracy: 43.4%\n",
      "* error: 56.6%\n",
      "* macro_f1: 26.3%\n",
      "epoch [368/1000] batch [20/44] time 0.043 (0.054) data 0.000 (0.015) loss 0.9844 (0.9547) lr 2.4651e-03 eta 0:24:52\n",
      "epoch [368/1000] batch [40/44] time 0.041 (0.047) data 0.000 (0.007) loss 1.0430 (0.8538) lr 2.4651e-03 eta 0:21:42\n",
      "Evaluate on the *val* set\n"
     ]
    },
    {
     "name": "stderr",
     "output_type": "stream",
     "text": [
      "\r",
      "  0%|          | 0/2 [00:00<?, ?it/s]\r",
      " 50%|█████     | 1/2 [00:00<00:00,  3.26it/s]\r",
      "100%|██████████| 2/2 [00:00<00:00,  5.16it/s]\n"
     ]
    },
    {
     "name": "stdout",
     "output_type": "stream",
     "text": [
      "=> result\n",
      "* total: 106\n",
      "* correct: 43\n",
      "* accuracy: 40.6%\n",
      "* error: 59.4%\n",
      "* macro_f1: 24.5%\n",
      "epoch [369/1000] batch [20/44] time 0.045 (0.055) data 0.000 (0.015) loss 0.9746 (0.9362) lr 2.4601e-03 eta 0:25:39\n",
      "epoch [369/1000] batch [40/44] time 0.039 (0.048) data 0.000 (0.007) loss 0.6021 (0.8726) lr 2.4601e-03 eta 0:22:05\n",
      "Evaluate on the *val* set\n"
     ]
    },
    {
     "name": "stderr",
     "output_type": "stream",
     "text": [
      "\r",
      "  0%|          | 0/2 [00:00<?, ?it/s]\r",
      " 50%|█████     | 1/2 [00:00<00:00,  3.26it/s]\r",
      "100%|██████████| 2/2 [00:00<00:00,  5.04it/s]\n"
     ]
    },
    {
     "name": "stdout",
     "output_type": "stream",
     "text": [
      "=> result\n",
      "* total: 106\n",
      "* correct: 48\n",
      "* accuracy: 45.3%\n",
      "* error: 54.7%\n",
      "* macro_f1: 29.7%\n",
      "epoch [370/1000] batch [20/44] time 0.043 (0.056) data 0.000 (0.015) loss 1.6523 (0.8342) lr 2.4551e-03 eta 0:26:04\n",
      "epoch [370/1000] batch [40/44] time 0.035 (0.048) data 0.000 (0.007) loss 1.3311 (0.8680) lr 2.4551e-03 eta 0:22:17\n",
      "Evaluate on the *val* set\n"
     ]
    },
    {
     "name": "stderr",
     "output_type": "stream",
     "text": [
      "\r",
      "  0%|          | 0/2 [00:00<?, ?it/s]\r",
      " 50%|█████     | 1/2 [00:00<00:00,  3.35it/s]\r",
      "100%|██████████| 2/2 [00:00<00:00,  5.24it/s]\n"
     ]
    },
    {
     "name": "stdout",
     "output_type": "stream",
     "text": [
      "=> result\n",
      "* total: 106\n",
      "* correct: 44\n",
      "* accuracy: 41.5%\n",
      "* error: 58.5%\n",
      "* macro_f1: 24.0%\n",
      "epoch [371/1000] batch [20/44] time 0.044 (0.059) data 0.000 (0.017) loss 0.3110 (0.6888) lr 2.4501e-03 eta 0:27:25\n",
      "epoch [371/1000] batch [40/44] time 0.041 (0.049) data 0.000 (0.008) loss 0.1650 (0.8174) lr 2.4501e-03 eta 0:22:42\n",
      "Evaluate on the *val* set\n"
     ]
    },
    {
     "name": "stderr",
     "output_type": "stream",
     "text": [
      "\r",
      "  0%|          | 0/2 [00:00<?, ?it/s]\r",
      " 50%|█████     | 1/2 [00:00<00:00,  3.09it/s]\r",
      "100%|██████████| 2/2 [00:00<00:00,  4.80it/s]\n"
     ]
    },
    {
     "name": "stdout",
     "output_type": "stream",
     "text": [
      "=> result\n",
      "* total: 106\n",
      "* correct: 44\n",
      "* accuracy: 41.5%\n",
      "* error: 58.5%\n",
      "* macro_f1: 24.9%\n",
      "epoch [372/1000] batch [20/44] time 0.044 (0.054) data 0.000 (0.014) loss 0.7915 (0.8219) lr 2.4450e-03 eta 0:25:03\n",
      "epoch [372/1000] batch [40/44] time 0.040 (0.046) data 0.000 (0.007) loss 0.9653 (0.8629) lr 2.4450e-03 eta 0:21:15\n",
      "Evaluate on the *val* set\n"
     ]
    },
    {
     "name": "stderr",
     "output_type": "stream",
     "text": [
      "\r",
      "  0%|          | 0/2 [00:00<?, ?it/s]\r",
      " 50%|█████     | 1/2 [00:00<00:00,  3.25it/s]\r",
      "100%|██████████| 2/2 [00:00<00:00,  5.02it/s]\n"
     ]
    },
    {
     "name": "stdout",
     "output_type": "stream",
     "text": [
      "=> result\n",
      "* total: 106\n",
      "* correct: 43\n",
      "* accuracy: 40.6%\n",
      "* error: 59.4%\n",
      "* macro_f1: 23.3%\n",
      "epoch [373/1000] batch [20/44] time 0.038 (0.053) data 0.000 (0.014) loss 0.1997 (0.7969) lr 2.4400e-03 eta 0:24:17\n",
      "epoch [373/1000] batch [40/44] time 0.040 (0.047) data 0.000 (0.007) loss 1.1973 (0.8950) lr 2.4400e-03 eta 0:21:26\n",
      "Evaluate on the *val* set\n"
     ]
    },
    {
     "name": "stderr",
     "output_type": "stream",
     "text": [
      "\r",
      "  0%|          | 0/2 [00:00<?, ?it/s]\r",
      " 50%|█████     | 1/2 [00:00<00:00,  3.21it/s]\r",
      "100%|██████████| 2/2 [00:00<00:00,  5.10it/s]\n"
     ]
    },
    {
     "name": "stdout",
     "output_type": "stream",
     "text": [
      "=> result\n",
      "* total: 106\n",
      "* correct: 46\n",
      "* accuracy: 43.4%\n",
      "* error: 56.6%\n",
      "* macro_f1: 27.3%\n",
      "epoch [374/1000] batch [20/44] time 0.041 (0.056) data 0.000 (0.014) loss 0.2173 (0.7079) lr 2.4349e-03 eta 0:25:33\n",
      "epoch [374/1000] batch [40/44] time 0.036 (0.048) data 0.000 (0.007) loss 1.1309 (0.8486) lr 2.4349e-03 eta 0:22:02\n",
      "Evaluate on the *val* set\n"
     ]
    },
    {
     "name": "stderr",
     "output_type": "stream",
     "text": [
      "\r",
      "  0%|          | 0/2 [00:00<?, ?it/s]\r",
      " 50%|█████     | 1/2 [00:00<00:00,  3.14it/s]\r",
      "100%|██████████| 2/2 [00:00<00:00,  4.94it/s]\n"
     ]
    },
    {
     "name": "stdout",
     "output_type": "stream",
     "text": [
      "=> result\n",
      "* total: 106\n",
      "* correct: 43\n",
      "* accuracy: 40.6%\n",
      "* error: 59.4%\n",
      "* macro_f1: 25.4%\n",
      "epoch [375/1000] batch [20/44] time 0.037 (0.054) data 0.000 (0.014) loss 1.2793 (0.8101) lr 2.4298e-03 eta 0:24:53\n",
      "epoch [375/1000] batch [40/44] time 0.032 (0.047) data 0.000 (0.007) loss 1.1113 (0.8372) lr 2.4298e-03 eta 0:21:21\n",
      "Evaluate on the *val* set\n"
     ]
    },
    {
     "name": "stderr",
     "output_type": "stream",
     "text": [
      "\r",
      "  0%|          | 0/2 [00:00<?, ?it/s]\r",
      " 50%|█████     | 1/2 [00:00<00:00,  3.29it/s]\r",
      "100%|██████████| 2/2 [00:00<00:00,  5.02it/s]\n"
     ]
    },
    {
     "name": "stdout",
     "output_type": "stream",
     "text": [
      "=> result\n",
      "* total: 106\n",
      "* correct: 42\n",
      "* accuracy: 39.6%\n",
      "* error: 60.4%\n",
      "* macro_f1: 24.1%\n",
      "epoch [376/1000] batch [20/44] time 0.037 (0.056) data 0.000 (0.015) loss 0.9282 (0.8634) lr 2.4248e-03 eta 0:25:39\n",
      "epoch [376/1000] batch [40/44] time 0.038 (0.048) data 0.000 (0.008) loss 1.2314 (0.9025) lr 2.4248e-03 eta 0:21:46\n",
      "Evaluate on the *val* set\n"
     ]
    },
    {
     "name": "stderr",
     "output_type": "stream",
     "text": [
      "\r",
      "  0%|          | 0/2 [00:00<?, ?it/s]\r",
      " 50%|█████     | 1/2 [00:00<00:00,  3.29it/s]\r",
      "100%|██████████| 2/2 [00:00<00:00,  5.34it/s]\n"
     ]
    },
    {
     "name": "stdout",
     "output_type": "stream",
     "text": [
      "=> result\n",
      "* total: 106\n",
      "* correct: 43\n",
      "* accuracy: 40.6%\n",
      "* error: 59.4%\n",
      "* macro_f1: 26.4%\n",
      "epoch [377/1000] batch [20/44] time 0.044 (0.055) data 0.000 (0.014) loss 0.6924 (0.7211) lr 2.4197e-03 eta 0:25:17\n",
      "epoch [377/1000] batch [40/44] time 0.040 (0.048) data 0.000 (0.007) loss 1.1943 (1.0141) lr 2.4197e-03 eta 0:21:55\n",
      "Evaluate on the *val* set\n"
     ]
    },
    {
     "name": "stderr",
     "output_type": "stream",
     "text": [
      "\r",
      "  0%|          | 0/2 [00:00<?, ?it/s]\r",
      " 50%|█████     | 1/2 [00:00<00:00,  3.24it/s]\r",
      "100%|██████████| 2/2 [00:00<00:00,  5.08it/s]\n"
     ]
    },
    {
     "name": "stdout",
     "output_type": "stream",
     "text": [
      "=> result\n",
      "* total: 106\n",
      "* correct: 40\n",
      "* accuracy: 37.7%\n",
      "* error: 62.3%\n",
      "* macro_f1: 22.3%\n",
      "epoch [378/1000] batch [20/44] time 0.041 (0.055) data 0.000 (0.014) loss 1.1943 (0.8630) lr 2.4146e-03 eta 0:24:55\n",
      "epoch [378/1000] batch [40/44] time 0.040 (0.047) data 0.000 (0.007) loss 1.4502 (0.9381) lr 2.4146e-03 eta 0:21:28\n",
      "Evaluate on the *val* set\n"
     ]
    },
    {
     "name": "stderr",
     "output_type": "stream",
     "text": [
      "\r",
      "  0%|          | 0/2 [00:00<?, ?it/s]\r",
      " 50%|█████     | 1/2 [00:00<00:00,  3.32it/s]\r",
      "100%|██████████| 2/2 [00:00<00:00,  5.25it/s]\n"
     ]
    },
    {
     "name": "stdout",
     "output_type": "stream",
     "text": [
      "=> result\n",
      "* total: 106\n",
      "* correct: 46\n",
      "* accuracy: 43.4%\n",
      "* error: 56.6%\n",
      "* macro_f1: 26.4%\n",
      "epoch [379/1000] batch [20/44] time 0.043 (0.057) data 0.000 (0.014) loss 0.9082 (0.9126) lr 2.4095e-03 eta 0:26:04\n",
      "epoch [379/1000] batch [40/44] time 0.040 (0.049) data 0.000 (0.007) loss 1.2373 (0.9365) lr 2.4095e-03 eta 0:22:07\n",
      "Evaluate on the *val* set\n"
     ]
    },
    {
     "name": "stderr",
     "output_type": "stream",
     "text": [
      "\r",
      "  0%|          | 0/2 [00:00<?, ?it/s]\r",
      " 50%|█████     | 1/2 [00:00<00:00,  3.25it/s]\r",
      "100%|██████████| 2/2 [00:00<00:00,  5.13it/s]\n"
     ]
    },
    {
     "name": "stdout",
     "output_type": "stream",
     "text": [
      "=> result\n",
      "* total: 106\n",
      "* correct: 41\n",
      "* accuracy: 38.7%\n",
      "* error: 61.3%\n",
      "* macro_f1: 22.4%\n",
      "epoch [380/1000] batch [20/44] time 0.043 (0.056) data 0.000 (0.015) loss 1.4678 (0.8688) lr 2.4044e-03 eta 0:25:19\n",
      "epoch [380/1000] batch [40/44] time 0.041 (0.048) data 0.000 (0.007) loss 1.5840 (0.8935) lr 2.4044e-03 eta 0:21:46\n",
      "Evaluate on the *val* set\n"
     ]
    },
    {
     "name": "stderr",
     "output_type": "stream",
     "text": [
      "\r",
      "  0%|          | 0/2 [00:00<?, ?it/s]\r",
      " 50%|█████     | 1/2 [00:00<00:00,  3.24it/s]\r",
      "100%|██████████| 2/2 [00:00<00:00,  5.25it/s]\n"
     ]
    },
    {
     "name": "stdout",
     "output_type": "stream",
     "text": [
      "=> result\n",
      "* total: 106\n",
      "* correct: 44\n",
      "* accuracy: 41.5%\n",
      "* error: 58.5%\n",
      "* macro_f1: 26.2%\n",
      "epoch [381/1000] batch [20/44] time 0.041 (0.056) data 0.000 (0.015) loss 0.6182 (0.7625) lr 2.3993e-03 eta 0:25:13\n",
      "epoch [381/1000] batch [40/44] time 0.040 (0.048) data 0.000 (0.007) loss 0.7334 (0.8159) lr 2.3993e-03 eta 0:21:38\n",
      "Evaluate on the *val* set\n"
     ]
    },
    {
     "name": "stderr",
     "output_type": "stream",
     "text": [
      "\r",
      "  0%|          | 0/2 [00:00<?, ?it/s]\r",
      " 50%|█████     | 1/2 [00:00<00:00,  3.19it/s]\r",
      "100%|██████████| 2/2 [00:00<00:00,  5.13it/s]\n"
     ]
    },
    {
     "name": "stdout",
     "output_type": "stream",
     "text": [
      "=> result\n",
      "* total: 106\n",
      "* correct: 47\n",
      "* accuracy: 44.3%\n",
      "* error: 55.7%\n",
      "* macro_f1: 27.5%\n",
      "epoch [382/1000] batch [20/44] time 0.041 (0.055) data 0.000 (0.014) loss 0.6392 (0.7642) lr 2.3942e-03 eta 0:24:54\n",
      "epoch [382/1000] batch [40/44] time 0.042 (0.048) data 0.000 (0.007) loss 0.5024 (0.8101) lr 2.3942e-03 eta 0:21:32\n",
      "Evaluate on the *val* set\n"
     ]
    },
    {
     "name": "stderr",
     "output_type": "stream",
     "text": [
      "\r",
      "  0%|          | 0/2 [00:00<?, ?it/s]\r",
      " 50%|█████     | 1/2 [00:00<00:00,  3.09it/s]\r",
      "100%|██████████| 2/2 [00:00<00:00,  5.00it/s]\n"
     ]
    },
    {
     "name": "stdout",
     "output_type": "stream",
     "text": [
      "=> result\n",
      "* total: 106\n",
      "* correct: 46\n",
      "* accuracy: 43.4%\n",
      "* error: 56.6%\n",
      "* macro_f1: 26.4%\n",
      "epoch [383/1000] batch [20/44] time 0.042 (0.056) data 0.000 (0.016) loss 0.5957 (0.7011) lr 2.3891e-03 eta 0:25:21\n",
      "epoch [383/1000] batch [40/44] time 0.042 (0.048) data 0.000 (0.008) loss 1.3604 (0.8608) lr 2.3891e-03 eta 0:21:47\n",
      "Evaluate on the *val* set\n"
     ]
    },
    {
     "name": "stderr",
     "output_type": "stream",
     "text": [
      "\r",
      "  0%|          | 0/2 [00:00<?, ?it/s]\r",
      " 50%|█████     | 1/2 [00:00<00:00,  3.29it/s]\r",
      "100%|██████████| 2/2 [00:00<00:00,  5.20it/s]\n"
     ]
    },
    {
     "name": "stdout",
     "output_type": "stream",
     "text": [
      "=> result\n",
      "* total: 106\n",
      "* correct: 43\n",
      "* accuracy: 40.6%\n",
      "* error: 59.4%\n",
      "* macro_f1: 23.9%\n",
      "epoch [384/1000] batch [20/44] time 0.040 (0.056) data 0.000 (0.014) loss 1.1943 (0.7252) lr 2.3840e-03 eta 0:25:31\n",
      "epoch [384/1000] batch [40/44] time 0.041 (0.048) data 0.000 (0.007) loss 0.3518 (0.9012) lr 2.3840e-03 eta 0:21:47\n",
      "Evaluate on the *val* set\n"
     ]
    },
    {
     "name": "stderr",
     "output_type": "stream",
     "text": [
      "\r",
      "  0%|          | 0/2 [00:00<?, ?it/s]\r",
      " 50%|█████     | 1/2 [00:00<00:00,  3.29it/s]\r",
      "100%|██████████| 2/2 [00:00<00:00,  5.20it/s]\n"
     ]
    },
    {
     "name": "stdout",
     "output_type": "stream",
     "text": [
      "=> result\n",
      "* total: 106\n",
      "* correct: 45\n",
      "* accuracy: 42.5%\n",
      "* error: 57.5%\n",
      "* macro_f1: 27.1%\n",
      "epoch [385/1000] batch [20/44] time 0.040 (0.055) data 0.000 (0.015) loss 0.8325 (0.8881) lr 2.3789e-03 eta 0:24:57\n",
      "epoch [385/1000] batch [40/44] time 0.041 (0.047) data 0.000 (0.008) loss 1.0635 (0.8480) lr 2.3789e-03 eta 0:21:24\n",
      "Evaluate on the *val* set\n"
     ]
    },
    {
     "name": "stderr",
     "output_type": "stream",
     "text": [
      "\r",
      "  0%|          | 0/2 [00:00<?, ?it/s]\r",
      " 50%|█████     | 1/2 [00:00<00:00,  3.30it/s]\r",
      "100%|██████████| 2/2 [00:00<00:00,  5.22it/s]\n"
     ]
    },
    {
     "name": "stdout",
     "output_type": "stream",
     "text": [
      "=> result\n",
      "* total: 106\n",
      "* correct: 46\n",
      "* accuracy: 43.4%\n",
      "* error: 56.6%\n",
      "* macro_f1: 27.1%\n",
      "epoch [386/1000] batch [20/44] time 0.037 (0.055) data 0.000 (0.015) loss 0.9263 (0.7098) lr 2.3737e-03 eta 0:24:41\n",
      "epoch [386/1000] batch [40/44] time 0.040 (0.048) data 0.000 (0.008) loss 0.5063 (0.8217) lr 2.3737e-03 eta 0:21:43\n",
      "Evaluate on the *val* set\n"
     ]
    },
    {
     "name": "stderr",
     "output_type": "stream",
     "text": [
      "\r",
      "  0%|          | 0/2 [00:00<?, ?it/s]\r",
      " 50%|█████     | 1/2 [00:00<00:00,  3.18it/s]\r",
      "100%|██████████| 2/2 [00:00<00:00,  4.92it/s]\n"
     ]
    },
    {
     "name": "stdout",
     "output_type": "stream",
     "text": [
      "=> result\n",
      "* total: 106\n",
      "* correct: 44\n",
      "* accuracy: 41.5%\n",
      "* error: 58.5%\n",
      "* macro_f1: 24.7%\n",
      "epoch [387/1000] batch [20/44] time 0.037 (0.056) data 0.000 (0.014) loss 0.3252 (0.8036) lr 2.3686e-03 eta 0:25:05\n",
      "epoch [387/1000] batch [40/44] time 0.042 (0.048) data 0.000 (0.007) loss 1.0645 (0.8340) lr 2.3686e-03 eta 0:21:26\n",
      "Evaluate on the *val* set\n"
     ]
    },
    {
     "name": "stderr",
     "output_type": "stream",
     "text": [
      "\r",
      "  0%|          | 0/2 [00:00<?, ?it/s]\r",
      " 50%|█████     | 1/2 [00:00<00:00,  3.26it/s]\r",
      "100%|██████████| 2/2 [00:00<00:00,  5.14it/s]\n"
     ]
    },
    {
     "name": "stdout",
     "output_type": "stream",
     "text": [
      "=> result\n",
      "* total: 106\n",
      "* correct: 46\n",
      "* accuracy: 43.4%\n",
      "* error: 56.6%\n",
      "* macro_f1: 26.4%\n",
      "epoch [388/1000] batch [20/44] time 0.039 (0.055) data 0.000 (0.015) loss 0.6123 (0.9431) lr 2.3634e-03 eta 0:24:39\n",
      "epoch [388/1000] batch [40/44] time 0.038 (0.047) data 0.000 (0.008) loss 1.7373 (0.9333) lr 2.3634e-03 eta 0:21:15\n",
      "Evaluate on the *val* set\n"
     ]
    },
    {
     "name": "stderr",
     "output_type": "stream",
     "text": [
      "\r",
      "  0%|          | 0/2 [00:00<?, ?it/s]\r",
      " 50%|█████     | 1/2 [00:00<00:00,  3.12it/s]\r",
      "100%|██████████| 2/2 [00:00<00:00,  5.02it/s]\n"
     ]
    },
    {
     "name": "stdout",
     "output_type": "stream",
     "text": [
      "=> result\n",
      "* total: 106\n",
      "* correct: 49\n",
      "* accuracy: 46.2%\n",
      "* error: 53.8%\n",
      "* macro_f1: 29.3%\n",
      "epoch [389/1000] batch [20/44] time 0.040 (0.054) data 0.000 (0.014) loss 1.4678 (0.9044) lr 2.3583e-03 eta 0:24:11\n",
      "epoch [389/1000] batch [40/44] time 0.039 (0.047) data 0.000 (0.007) loss 1.4199 (0.8480) lr 2.3583e-03 eta 0:21:08\n",
      "Evaluate on the *val* set\n"
     ]
    },
    {
     "name": "stderr",
     "output_type": "stream",
     "text": [
      "\r",
      "  0%|          | 0/2 [00:00<?, ?it/s]\r",
      " 50%|█████     | 1/2 [00:00<00:00,  3.32it/s]\r",
      "100%|██████████| 2/2 [00:00<00:00,  5.34it/s]\n"
     ]
    },
    {
     "name": "stdout",
     "output_type": "stream",
     "text": [
      "=> result\n",
      "* total: 106\n",
      "* correct: 43\n",
      "* accuracy: 40.6%\n",
      "* error: 59.4%\n",
      "* macro_f1: 23.8%\n",
      "epoch [390/1000] batch [20/44] time 0.041 (0.058) data 0.000 (0.017) loss 0.3840 (0.7317) lr 2.3531e-03 eta 0:26:05\n",
      "epoch [390/1000] batch [40/44] time 0.042 (0.049) data 0.000 (0.009) loss 0.3921 (0.8086) lr 2.3531e-03 eta 0:22:08\n",
      "Evaluate on the *val* set\n"
     ]
    },
    {
     "name": "stderr",
     "output_type": "stream",
     "text": [
      "\r",
      "  0%|          | 0/2 [00:00<?, ?it/s]\r",
      " 50%|█████     | 1/2 [00:00<00:00,  3.28it/s]\r",
      "100%|██████████| 2/2 [00:00<00:00,  5.10it/s]\n"
     ]
    },
    {
     "name": "stdout",
     "output_type": "stream",
     "text": [
      "=> result\n",
      "* total: 106\n",
      "* correct: 48\n",
      "* accuracy: 45.3%\n",
      "* error: 54.7%\n",
      "* macro_f1: 26.8%\n",
      "epoch [391/1000] batch [20/44] time 0.050 (0.055) data 0.000 (0.014) loss 0.8027 (0.8328) lr 2.3480e-03 eta 0:24:40\n",
      "epoch [391/1000] batch [40/44] time 0.038 (0.048) data 0.000 (0.007) loss 0.6650 (0.8637) lr 2.3480e-03 eta 0:21:21\n",
      "Evaluate on the *val* set\n"
     ]
    },
    {
     "name": "stderr",
     "output_type": "stream",
     "text": [
      "\r",
      "  0%|          | 0/2 [00:00<?, ?it/s]\r",
      " 50%|█████     | 1/2 [00:00<00:00,  3.31it/s]\r",
      "100%|██████████| 2/2 [00:00<00:00,  5.02it/s]\n"
     ]
    },
    {
     "name": "stdout",
     "output_type": "stream",
     "text": [
      "=> result\n",
      "* total: 106\n",
      "* correct: 42\n",
      "* accuracy: 39.6%\n",
      "* error: 60.4%\n",
      "* macro_f1: 23.9%\n",
      "epoch [392/1000] batch [20/44] time 0.037 (0.054) data 0.000 (0.014) loss 1.2393 (0.8257) lr 2.3428e-03 eta 0:24:15\n",
      "epoch [392/1000] batch [40/44] time 0.042 (0.048) data 0.000 (0.007) loss 0.6157 (0.8201) lr 2.3428e-03 eta 0:21:12\n",
      "Evaluate on the *val* set\n"
     ]
    },
    {
     "name": "stderr",
     "output_type": "stream",
     "text": [
      "\r",
      "  0%|          | 0/2 [00:00<?, ?it/s]\r",
      " 50%|█████     | 1/2 [00:00<00:00,  3.16it/s]\r",
      "100%|██████████| 2/2 [00:00<00:00,  5.08it/s]\n"
     ]
    },
    {
     "name": "stdout",
     "output_type": "stream",
     "text": [
      "=> result\n",
      "* total: 106\n",
      "* correct: 42\n",
      "* accuracy: 39.6%\n",
      "* error: 60.4%\n",
      "* macro_f1: 24.0%\n",
      "epoch [393/1000] batch [20/44] time 0.044 (0.056) data 0.000 (0.015) loss 0.7437 (0.8553) lr 2.3376e-03 eta 0:25:03\n",
      "epoch [393/1000] batch [40/44] time 0.038 (0.048) data 0.000 (0.007) loss 1.5615 (0.9321) lr 2.3376e-03 eta 0:21:28\n",
      "Evaluate on the *val* set\n"
     ]
    },
    {
     "name": "stderr",
     "output_type": "stream",
     "text": [
      "\r",
      "  0%|          | 0/2 [00:00<?, ?it/s]\r",
      " 50%|█████     | 1/2 [00:00<00:00,  3.31it/s]\r",
      "100%|██████████| 2/2 [00:00<00:00,  5.25it/s]\n"
     ]
    },
    {
     "name": "stdout",
     "output_type": "stream",
     "text": [
      "=> result\n",
      "* total: 106\n",
      "* correct: 41\n",
      "* accuracy: 38.7%\n",
      "* error: 61.3%\n",
      "* macro_f1: 20.7%\n",
      "epoch [394/1000] batch [20/44] time 0.036 (0.058) data 0.000 (0.016) loss 0.7563 (0.8005) lr 2.3324e-03 eta 0:25:43\n",
      "epoch [394/1000] batch [40/44] time 0.038 (0.049) data 0.000 (0.008) loss 0.6445 (0.8882) lr 2.3324e-03 eta 0:21:53\n",
      "Evaluate on the *val* set\n"
     ]
    },
    {
     "name": "stderr",
     "output_type": "stream",
     "text": [
      "\r",
      "  0%|          | 0/2 [00:00<?, ?it/s]\r",
      " 50%|█████     | 1/2 [00:00<00:00,  3.28it/s]\r",
      "100%|██████████| 2/2 [00:00<00:00,  5.21it/s]\n"
     ]
    },
    {
     "name": "stdout",
     "output_type": "stream",
     "text": [
      "=> result\n",
      "* total: 106\n",
      "* correct: 42\n",
      "* accuracy: 39.6%\n",
      "* error: 60.4%\n",
      "* macro_f1: 24.4%\n",
      "epoch [395/1000] batch [20/44] time 0.038 (0.059) data 0.000 (0.017) loss 0.4263 (0.7905) lr 2.3272e-03 eta 0:26:10\n",
      "epoch [395/1000] batch [40/44] time 0.042 (0.050) data 0.000 (0.009) loss 0.8262 (0.8518) lr 2.3272e-03 eta 0:22:00\n",
      "Evaluate on the *val* set\n"
     ]
    },
    {
     "name": "stderr",
     "output_type": "stream",
     "text": [
      "\r",
      "  0%|          | 0/2 [00:00<?, ?it/s]\r",
      " 50%|█████     | 1/2 [00:00<00:00,  3.33it/s]\r",
      "100%|██████████| 2/2 [00:00<00:00,  5.26it/s]\n"
     ]
    },
    {
     "name": "stdout",
     "output_type": "stream",
     "text": [
      "=> result\n",
      "* total: 106\n",
      "* correct: 41\n",
      "* accuracy: 38.7%\n",
      "* error: 61.3%\n",
      "* macro_f1: 22.6%\n",
      "epoch [396/1000] batch [20/44] time 0.040 (0.055) data 0.000 (0.014) loss 0.6895 (0.8781) lr 2.3221e-03 eta 0:24:33\n",
      "epoch [396/1000] batch [40/44] time 0.037 (0.048) data 0.000 (0.007) loss 1.0410 (0.8842) lr 2.3221e-03 eta 0:21:06\n",
      "Evaluate on the *val* set\n"
     ]
    },
    {
     "name": "stderr",
     "output_type": "stream",
     "text": [
      "\r",
      "  0%|          | 0/2 [00:00<?, ?it/s]\r",
      " 50%|█████     | 1/2 [00:00<00:00,  3.32it/s]\r",
      "100%|██████████| 2/2 [00:00<00:00,  5.25it/s]\n"
     ]
    },
    {
     "name": "stdout",
     "output_type": "stream",
     "text": [
      "=> result\n",
      "* total: 106\n",
      "* correct: 46\n",
      "* accuracy: 43.4%\n",
      "* error: 56.6%\n",
      "* macro_f1: 25.2%\n",
      "epoch [397/1000] batch [20/44] time 0.044 (0.056) data 0.000 (0.014) loss 1.5742 (0.8363) lr 2.3169e-03 eta 0:24:43\n",
      "epoch [397/1000] batch [40/44] time 0.040 (0.048) data 0.000 (0.007) loss 1.9199 (0.8288) lr 2.3169e-03 eta 0:21:16\n",
      "Evaluate on the *val* set\n"
     ]
    },
    {
     "name": "stderr",
     "output_type": "stream",
     "text": [
      "\r",
      "  0%|          | 0/2 [00:00<?, ?it/s]\r",
      " 50%|█████     | 1/2 [00:00<00:00,  3.25it/s]\r",
      "100%|██████████| 2/2 [00:00<00:00,  5.01it/s]\n"
     ]
    },
    {
     "name": "stdout",
     "output_type": "stream",
     "text": [
      "=> result\n",
      "* total: 106\n",
      "* correct: 45\n",
      "* accuracy: 42.5%\n",
      "* error: 57.5%\n",
      "* macro_f1: 25.6%\n",
      "epoch [398/1000] batch [20/44] time 0.035 (0.054) data 0.000 (0.015) loss 0.3037 (0.7864) lr 2.3117e-03 eta 0:23:58\n",
      "epoch [398/1000] batch [40/44] time 0.041 (0.047) data 0.000 (0.008) loss 0.7461 (0.8434) lr 2.3117e-03 eta 0:20:49\n",
      "Evaluate on the *val* set\n"
     ]
    },
    {
     "name": "stderr",
     "output_type": "stream",
     "text": [
      "\r",
      "  0%|          | 0/2 [00:00<?, ?it/s]\r",
      " 50%|█████     | 1/2 [00:00<00:00,  3.24it/s]\r",
      "100%|██████████| 2/2 [00:00<00:00,  5.08it/s]\n"
     ]
    },
    {
     "name": "stdout",
     "output_type": "stream",
     "text": [
      "=> result\n",
      "* total: 106\n",
      "* correct: 46\n",
      "* accuracy: 43.4%\n",
      "* error: 56.6%\n",
      "* macro_f1: 28.0%\n",
      "epoch [399/1000] batch [20/44] time 0.040 (0.053) data 0.000 (0.014) loss 0.4514 (0.8157) lr 2.3064e-03 eta 0:23:35\n",
      "epoch [399/1000] batch [40/44] time 0.039 (0.047) data 0.000 (0.007) loss 1.1523 (0.8487) lr 2.3064e-03 eta 0:20:30\n",
      "Evaluate on the *val* set\n"
     ]
    },
    {
     "name": "stderr",
     "output_type": "stream",
     "text": [
      "\r",
      "  0%|          | 0/2 [00:00<?, ?it/s]\r",
      " 50%|█████     | 1/2 [00:00<00:00,  3.34it/s]\r",
      "100%|██████████| 2/2 [00:00<00:00,  5.29it/s]\n"
     ]
    },
    {
     "name": "stdout",
     "output_type": "stream",
     "text": [
      "=> result\n",
      "* total: 106\n",
      "* correct: 46\n",
      "* accuracy: 43.4%\n",
      "* error: 56.6%\n",
      "* macro_f1: 27.7%\n",
      "epoch [400/1000] batch [20/44] time 0.038 (0.057) data 0.000 (0.015) loss 0.9800 (0.8813) lr 2.3012e-03 eta 0:24:59\n",
      "epoch [400/1000] batch [40/44] time 0.040 (0.049) data 0.000 (0.008) loss 0.4199 (0.8430) lr 2.3012e-03 eta 0:21:31\n",
      "Evaluate on the *val* set\n"
     ]
    },
    {
     "name": "stderr",
     "output_type": "stream",
     "text": [
      "\r",
      "  0%|          | 0/2 [00:00<?, ?it/s]\r",
      " 50%|█████     | 1/2 [00:00<00:00,  3.32it/s]\r",
      "100%|██████████| 2/2 [00:00<00:00,  5.27it/s]\n"
     ]
    },
    {
     "name": "stdout",
     "output_type": "stream",
     "text": [
      "=> result\n",
      "* total: 106\n",
      "* correct: 45\n",
      "* accuracy: 42.5%\n",
      "* error: 57.5%\n",
      "* macro_f1: 25.6%\n",
      "epoch [401/1000] batch [20/44] time 0.040 (0.057) data 0.000 (0.016) loss 0.6523 (0.7317) lr 2.2960e-03 eta 0:24:57\n",
      "epoch [401/1000] batch [40/44] time 0.039 (0.048) data 0.000 (0.008) loss 1.0996 (0.8356) lr 2.2960e-03 eta 0:21:11\n",
      "Evaluate on the *val* set\n"
     ]
    },
    {
     "name": "stderr",
     "output_type": "stream",
     "text": [
      "\r",
      "  0%|          | 0/2 [00:00<?, ?it/s]\r",
      " 50%|█████     | 1/2 [00:00<00:00,  3.28it/s]\r",
      "100%|██████████| 2/2 [00:00<00:00,  5.06it/s]\n"
     ]
    },
    {
     "name": "stdout",
     "output_type": "stream",
     "text": [
      "=> result\n",
      "* total: 106\n",
      "* correct: 42\n",
      "* accuracy: 39.6%\n",
      "* error: 60.4%\n",
      "* macro_f1: 21.0%\n",
      "epoch [402/1000] batch [20/44] time 0.038 (0.057) data 0.000 (0.015) loss 0.8042 (0.8182) lr 2.2908e-03 eta 0:25:06\n",
      "epoch [402/1000] batch [40/44] time 0.042 (0.049) data 0.000 (0.008) loss 0.9614 (0.8655) lr 2.2908e-03 eta 0:21:20\n",
      "Evaluate on the *val* set\n"
     ]
    },
    {
     "name": "stderr",
     "output_type": "stream",
     "text": [
      "\r",
      "  0%|          | 0/2 [00:00<?, ?it/s]\r",
      " 50%|█████     | 1/2 [00:00<00:00,  3.19it/s]\r",
      "100%|██████████| 2/2 [00:00<00:00,  5.06it/s]\n"
     ]
    },
    {
     "name": "stdout",
     "output_type": "stream",
     "text": [
      "=> result\n",
      "* total: 106\n",
      "* correct: 46\n",
      "* accuracy: 43.4%\n",
      "* error: 56.6%\n",
      "* macro_f1: 28.1%\n",
      "epoch [403/1000] batch [20/44] time 0.043 (0.056) data 0.000 (0.015) loss 0.4004 (0.7330) lr 2.2855e-03 eta 0:24:38\n",
      "epoch [403/1000] batch [40/44] time 0.035 (0.048) data 0.000 (0.008) loss 1.5918 (0.8462) lr 2.2855e-03 eta 0:21:08\n",
      "Evaluate on the *val* set\n"
     ]
    },
    {
     "name": "stderr",
     "output_type": "stream",
     "text": [
      "\r",
      "  0%|          | 0/2 [00:00<?, ?it/s]\r",
      " 50%|█████     | 1/2 [00:00<00:00,  3.21it/s]\r",
      "100%|██████████| 2/2 [00:00<00:00,  5.06it/s]\n"
     ]
    },
    {
     "name": "stdout",
     "output_type": "stream",
     "text": [
      "=> result\n",
      "* total: 106\n",
      "* correct: 47\n",
      "* accuracy: 44.3%\n",
      "* error: 55.7%\n",
      "* macro_f1: 25.1%\n",
      "epoch [404/1000] batch [20/44] time 0.036 (0.054) data 0.000 (0.014) loss 0.9429 (0.8339) lr 2.2803e-03 eta 0:23:41\n",
      "epoch [404/1000] batch [40/44] time 0.030 (0.044) data 0.000 (0.007) loss 0.6616 (0.8793) lr 2.2803e-03 eta 0:19:16\n",
      "Evaluate on the *val* set\n"
     ]
    },
    {
     "name": "stderr",
     "output_type": "stream",
     "text": [
      "\r",
      "  0%|          | 0/2 [00:00<?, ?it/s]\r",
      " 50%|█████     | 1/2 [00:00<00:00,  3.20it/s]\r",
      "100%|██████████| 2/2 [00:00<00:00,  4.68it/s]\n"
     ]
    },
    {
     "name": "stdout",
     "output_type": "stream",
     "text": [
      "=> result\n",
      "* total: 106\n",
      "* correct: 42\n",
      "* accuracy: 39.6%\n",
      "* error: 60.4%\n",
      "* macro_f1: 26.2%\n",
      "epoch [405/1000] batch [20/44] time 0.037 (0.051) data 0.000 (0.015) loss 1.0684 (0.8063) lr 2.2751e-03 eta 0:22:05\n",
      "epoch [405/1000] batch [40/44] time 0.032 (0.042) data 0.000 (0.007) loss 1.8984 (0.8288) lr 2.2751e-03 eta 0:18:22\n",
      "Evaluate on the *val* set\n"
     ]
    },
    {
     "name": "stderr",
     "output_type": "stream",
     "text": [
      "\r",
      "  0%|          | 0/2 [00:00<?, ?it/s]\r",
      " 50%|█████     | 1/2 [00:00<00:00,  3.17it/s]\r",
      "100%|██████████| 2/2 [00:00<00:00,  4.90it/s]\n"
     ]
    },
    {
     "name": "stdout",
     "output_type": "stream",
     "text": [
      "=> result\n",
      "* total: 106\n",
      "* correct: 46\n",
      "* accuracy: 43.4%\n",
      "* error: 56.6%\n",
      "* macro_f1: 26.6%\n",
      "epoch [406/1000] batch [20/44] time 0.040 (0.055) data 0.000 (0.014) loss 0.7729 (0.6910) lr 2.2698e-03 eta 0:23:56\n",
      "epoch [406/1000] batch [40/44] time 0.042 (0.047) data 0.000 (0.007) loss 0.6562 (0.7956) lr 2.2698e-03 eta 0:20:28\n",
      "Evaluate on the *val* set\n"
     ]
    },
    {
     "name": "stderr",
     "output_type": "stream",
     "text": [
      "\r",
      "  0%|          | 0/2 [00:00<?, ?it/s]\r",
      " 50%|█████     | 1/2 [00:00<00:00,  3.23it/s]\r",
      "100%|██████████| 2/2 [00:00<00:00,  5.08it/s]\n"
     ]
    },
    {
     "name": "stdout",
     "output_type": "stream",
     "text": [
      "=> result\n",
      "* total: 106\n",
      "* correct: 42\n",
      "* accuracy: 39.6%\n",
      "* error: 60.4%\n",
      "* macro_f1: 23.9%\n",
      "epoch [407/1000] batch [20/44] time 0.039 (0.055) data 0.000 (0.015) loss 0.7896 (0.8407) lr 2.2646e-03 eta 0:23:58\n",
      "epoch [407/1000] batch [40/44] time 0.040 (0.048) data 0.000 (0.008) loss 0.7485 (0.8347) lr 2.2646e-03 eta 0:20:41\n",
      "Evaluate on the *val* set\n"
     ]
    },
    {
     "name": "stderr",
     "output_type": "stream",
     "text": [
      "\r",
      "  0%|          | 0/2 [00:00<?, ?it/s]\r",
      " 50%|█████     | 1/2 [00:00<00:00,  3.30it/s]\r",
      "100%|██████████| 2/2 [00:00<00:00,  5.13it/s]\n"
     ]
    },
    {
     "name": "stdout",
     "output_type": "stream",
     "text": [
      "=> result\n",
      "* total: 106\n",
      "* correct: 46\n",
      "* accuracy: 43.4%\n",
      "* error: 56.6%\n",
      "* macro_f1: 26.7%\n",
      "epoch [408/1000] batch [20/44] time 0.041 (0.054) data 0.000 (0.015) loss 0.9546 (0.8402) lr 2.2593e-03 eta 0:23:40\n",
      "epoch [408/1000] batch [40/44] time 0.039 (0.048) data 0.000 (0.007) loss 0.9712 (0.8586) lr 2.2593e-03 eta 0:20:44\n",
      "Evaluate on the *val* set\n"
     ]
    },
    {
     "name": "stderr",
     "output_type": "stream",
     "text": [
      "\r",
      "  0%|          | 0/2 [00:00<?, ?it/s]\r",
      " 50%|█████     | 1/2 [00:00<00:00,  3.24it/s]\r",
      "100%|██████████| 2/2 [00:00<00:00,  5.20it/s]\n"
     ]
    },
    {
     "name": "stdout",
     "output_type": "stream",
     "text": [
      "=> result\n",
      "* total: 106\n",
      "* correct: 41\n",
      "* accuracy: 38.7%\n",
      "* error: 61.3%\n",
      "* macro_f1: 22.1%\n",
      "epoch [409/1000] batch [20/44] time 0.039 (0.057) data 0.000 (0.014) loss 0.9263 (0.7991) lr 2.2541e-03 eta 0:24:30\n",
      "epoch [409/1000] batch [40/44] time 0.040 (0.048) data 0.000 (0.007) loss 0.9634 (0.7960) lr 2.2541e-03 eta 0:20:43\n",
      "Evaluate on the *val* set\n"
     ]
    },
    {
     "name": "stderr",
     "output_type": "stream",
     "text": [
      "\r",
      "  0%|          | 0/2 [00:00<?, ?it/s]\r",
      " 50%|█████     | 1/2 [00:00<00:00,  3.19it/s]\r",
      "100%|██████████| 2/2 [00:00<00:00,  4.98it/s]\n"
     ]
    },
    {
     "name": "stdout",
     "output_type": "stream",
     "text": [
      "=> result\n",
      "* total: 106\n",
      "* correct: 37\n",
      "* accuracy: 34.9%\n",
      "* error: 65.1%\n",
      "* macro_f1: 23.0%\n",
      "epoch [410/1000] batch [20/44] time 0.042 (0.058) data 0.000 (0.016) loss 1.1582 (0.6663) lr 2.2488e-03 eta 0:24:55\n",
      "epoch [410/1000] batch [40/44] time 0.030 (0.049) data 0.000 (0.008) loss 0.1465 (0.7679) lr 2.2488e-03 eta 0:21:05\n",
      "Evaluate on the *val* set\n"
     ]
    },
    {
     "name": "stderr",
     "output_type": "stream",
     "text": [
      "\r",
      "  0%|          | 0/2 [00:00<?, ?it/s]\r",
      " 50%|█████     | 1/2 [00:00<00:00,  3.32it/s]\r",
      "100%|██████████| 2/2 [00:00<00:00,  5.19it/s]\n"
     ]
    },
    {
     "name": "stdout",
     "output_type": "stream",
     "text": [
      "=> result\n",
      "* total: 106\n",
      "* correct: 44\n",
      "* accuracy: 41.5%\n",
      "* error: 58.5%\n",
      "* macro_f1: 24.9%\n",
      "epoch [411/1000] batch [20/44] time 0.039 (0.056) data 0.000 (0.014) loss 0.9224 (0.7926) lr 2.2435e-03 eta 0:24:05\n",
      "epoch [411/1000] batch [40/44] time 0.038 (0.048) data 0.000 (0.007) loss 0.6602 (0.8221) lr 2.2435e-03 eta 0:20:37\n",
      "Evaluate on the *val* set\n"
     ]
    },
    {
     "name": "stderr",
     "output_type": "stream",
     "text": [
      "\r",
      "  0%|          | 0/2 [00:00<?, ?it/s]\r",
      " 50%|█████     | 1/2 [00:00<00:00,  3.21it/s]\r",
      "100%|██████████| 2/2 [00:00<00:00,  5.19it/s]\n"
     ]
    },
    {
     "name": "stdout",
     "output_type": "stream",
     "text": [
      "=> result\n",
      "* total: 106\n",
      "* correct: 42\n",
      "* accuracy: 39.6%\n",
      "* error: 60.4%\n",
      "* macro_f1: 23.2%\n",
      "epoch [412/1000] batch [20/44] time 0.044 (0.056) data 0.000 (0.014) loss 0.7095 (0.8500) lr 2.2382e-03 eta 0:24:17\n",
      "epoch [412/1000] batch [40/44] time 0.038 (0.048) data 0.000 (0.007) loss 1.2832 (0.8349) lr 2.2382e-03 eta 0:20:52\n",
      "Evaluate on the *val* set\n"
     ]
    },
    {
     "name": "stderr",
     "output_type": "stream",
     "text": [
      "\r",
      "  0%|          | 0/2 [00:00<?, ?it/s]\r",
      " 50%|█████     | 1/2 [00:00<00:00,  3.30it/s]\r",
      "100%|██████████| 2/2 [00:00<00:00,  5.22it/s]\n"
     ]
    },
    {
     "name": "stdout",
     "output_type": "stream",
     "text": [
      "=> result\n",
      "* total: 106\n",
      "* correct: 44\n",
      "* accuracy: 41.5%\n",
      "* error: 58.5%\n",
      "* macro_f1: 24.7%\n",
      "epoch [413/1000] batch [20/44] time 0.042 (0.054) data 0.000 (0.014) loss 0.5083 (0.7314) lr 2.2330e-03 eta 0:23:25\n",
      "epoch [413/1000] batch [40/44] time 0.038 (0.047) data 0.000 (0.007) loss 0.2805 (0.7752) lr 2.2330e-03 eta 0:20:18\n",
      "Evaluate on the *val* set\n"
     ]
    },
    {
     "name": "stderr",
     "output_type": "stream",
     "text": [
      "\r",
      "  0%|          | 0/2 [00:00<?, ?it/s]\r",
      " 50%|█████     | 1/2 [00:00<00:00,  3.13it/s]\r",
      "100%|██████████| 2/2 [00:00<00:00,  5.10it/s]\n"
     ]
    },
    {
     "name": "stdout",
     "output_type": "stream",
     "text": [
      "=> result\n",
      "* total: 106\n",
      "* correct: 49\n",
      "* accuracy: 46.2%\n",
      "* error: 53.8%\n",
      "* macro_f1: 28.7%\n",
      "epoch [414/1000] batch [20/44] time 0.044 (0.056) data 0.000 (0.014) loss 0.6914 (0.6461) lr 2.2277e-03 eta 0:24:07\n",
      "epoch [414/1000] batch [40/44] time 0.042 (0.048) data 0.000 (0.007) loss 0.7017 (0.7992) lr 2.2277e-03 eta 0:20:39\n",
      "Evaluate on the *val* set\n"
     ]
    },
    {
     "name": "stderr",
     "output_type": "stream",
     "text": [
      "\r",
      "  0%|          | 0/2 [00:00<?, ?it/s]\r",
      " 50%|█████     | 1/2 [00:00<00:00,  3.34it/s]\r",
      "100%|██████████| 2/2 [00:00<00:00,  5.24it/s]\n"
     ]
    },
    {
     "name": "stdout",
     "output_type": "stream",
     "text": [
      "=> result\n",
      "* total: 106\n",
      "* correct: 47\n",
      "* accuracy: 44.3%\n",
      "* error: 55.7%\n",
      "* macro_f1: 26.8%\n",
      "epoch [415/1000] batch [20/44] time 0.038 (0.057) data 0.000 (0.016) loss 0.4646 (0.6904) lr 2.2224e-03 eta 0:24:33\n",
      "epoch [415/1000] batch [40/44] time 0.041 (0.049) data 0.000 (0.008) loss 1.0527 (0.8159) lr 2.2224e-03 eta 0:20:57\n",
      "Evaluate on the *val* set\n"
     ]
    },
    {
     "name": "stderr",
     "output_type": "stream",
     "text": [
      "\r",
      "  0%|          | 0/2 [00:00<?, ?it/s]\r",
      " 50%|█████     | 1/2 [00:00<00:00,  3.28it/s]\r",
      "100%|██████████| 2/2 [00:00<00:00,  5.24it/s]\n"
     ]
    },
    {
     "name": "stdout",
     "output_type": "stream",
     "text": [
      "=> result\n",
      "* total: 106\n",
      "* correct: 45\n",
      "* accuracy: 42.5%\n",
      "* error: 57.5%\n",
      "* macro_f1: 24.2%\n",
      "epoch [416/1000] batch [20/44] time 0.046 (0.056) data 0.000 (0.015) loss 0.3618 (0.7432) lr 2.2171e-03 eta 0:24:06\n",
      "epoch [416/1000] batch [40/44] time 0.042 (0.049) data 0.000 (0.008) loss 1.0527 (0.8306) lr 2.2171e-03 eta 0:20:51\n",
      "Evaluate on the *val* set\n"
     ]
    },
    {
     "name": "stderr",
     "output_type": "stream",
     "text": [
      "\r",
      "  0%|          | 0/2 [00:00<?, ?it/s]\r",
      " 50%|█████     | 1/2 [00:00<00:00,  3.33it/s]\r",
      "100%|██████████| 2/2 [00:00<00:00,  5.42it/s]\n"
     ]
    },
    {
     "name": "stdout",
     "output_type": "stream",
     "text": [
      "=> result\n",
      "* total: 106\n",
      "* correct: 46\n",
      "* accuracy: 43.4%\n",
      "* error: 56.6%\n",
      "* macro_f1: 25.6%\n",
      "epoch [417/1000] batch [20/44] time 0.042 (0.058) data 0.000 (0.016) loss 1.1943 (0.8762) lr 2.2118e-03 eta 0:24:55\n",
      "epoch [417/1000] batch [40/44] time 0.038 (0.048) data 0.000 (0.008) loss 1.3809 (0.8343) lr 2.2118e-03 eta 0:20:33\n",
      "Evaluate on the *val* set\n"
     ]
    },
    {
     "name": "stderr",
     "output_type": "stream",
     "text": [
      "\r",
      "  0%|          | 0/2 [00:00<?, ?it/s]\r",
      " 50%|█████     | 1/2 [00:00<00:00,  3.27it/s]\r",
      "100%|██████████| 2/2 [00:00<00:00,  5.22it/s]\n"
     ]
    },
    {
     "name": "stdout",
     "output_type": "stream",
     "text": [
      "=> result\n",
      "* total: 106\n",
      "* correct: 44\n",
      "* accuracy: 41.5%\n",
      "* error: 58.5%\n",
      "* macro_f1: 25.3%\n",
      "epoch [418/1000] batch [20/44] time 0.039 (0.055) data 0.000 (0.015) loss 0.2285 (0.6349) lr 2.2065e-03 eta 0:23:23\n",
      "epoch [418/1000] batch [40/44] time 0.042 (0.047) data 0.000 (0.007) loss 0.8169 (0.7908) lr 2.2065e-03 eta 0:20:15\n",
      "Evaluate on the *val* set\n"
     ]
    },
    {
     "name": "stderr",
     "output_type": "stream",
     "text": [
      "\r",
      "  0%|          | 0/2 [00:00<?, ?it/s]\r",
      " 50%|█████     | 1/2 [00:00<00:00,  3.29it/s]\r",
      "100%|██████████| 2/2 [00:00<00:00,  5.08it/s]\n"
     ]
    },
    {
     "name": "stdout",
     "output_type": "stream",
     "text": [
      "=> result\n",
      "* total: 106\n",
      "* correct: 44\n",
      "* accuracy: 41.5%\n",
      "* error: 58.5%\n",
      "* macro_f1: 27.2%\n",
      "epoch [419/1000] batch [20/44] time 0.044 (0.059) data 0.000 (0.017) loss 0.9331 (0.7686) lr 2.2012e-03 eta 0:25:09\n",
      "epoch [419/1000] batch [40/44] time 0.042 (0.049) data 0.000 (0.009) loss 0.5723 (0.7546) lr 2.2012e-03 eta 0:20:59\n",
      "Evaluate on the *val* set\n"
     ]
    },
    {
     "name": "stderr",
     "output_type": "stream",
     "text": [
      "\r",
      "  0%|          | 0/2 [00:00<?, ?it/s]\r",
      " 50%|█████     | 1/2 [00:00<00:00,  3.31it/s]\r",
      "100%|██████████| 2/2 [00:00<00:00,  5.21it/s]\n"
     ]
    },
    {
     "name": "stdout",
     "output_type": "stream",
     "text": [
      "=> result\n",
      "* total: 106\n",
      "* correct: 45\n",
      "* accuracy: 42.5%\n",
      "* error: 57.5%\n",
      "* macro_f1: 27.1%\n",
      "epoch [420/1000] batch [20/44] time 0.041 (0.056) data 0.000 (0.015) loss 1.0215 (0.9662) lr 2.1958e-03 eta 0:23:52\n",
      "epoch [420/1000] batch [40/44] time 0.037 (0.048) data 0.000 (0.008) loss 0.7510 (0.9347) lr 2.1958e-03 eta 0:20:20\n",
      "Evaluate on the *val* set\n"
     ]
    },
    {
     "name": "stderr",
     "output_type": "stream",
     "text": [
      "\r",
      "  0%|          | 0/2 [00:00<?, ?it/s]\r",
      " 50%|█████     | 1/2 [00:00<00:00,  3.32it/s]\r",
      "100%|██████████| 2/2 [00:00<00:00,  5.25it/s]\n"
     ]
    },
    {
     "name": "stdout",
     "output_type": "stream",
     "text": [
      "=> result\n",
      "* total: 106\n",
      "* correct: 41\n",
      "* accuracy: 38.7%\n",
      "* error: 61.3%\n",
      "* macro_f1: 25.1%\n",
      "epoch [421/1000] batch [20/44] time 0.043 (0.057) data 0.000 (0.016) loss 0.6064 (0.7879) lr 2.1905e-03 eta 0:24:22\n",
      "epoch [421/1000] batch [40/44] time 0.041 (0.049) data 0.000 (0.008) loss 0.4553 (0.8462) lr 2.1905e-03 eta 0:20:47\n",
      "Evaluate on the *val* set\n"
     ]
    },
    {
     "name": "stderr",
     "output_type": "stream",
     "text": [
      "\r",
      "  0%|          | 0/2 [00:00<?, ?it/s]\r",
      " 50%|█████     | 1/2 [00:00<00:00,  3.25it/s]\r",
      "100%|██████████| 2/2 [00:00<00:00,  5.14it/s]\n"
     ]
    },
    {
     "name": "stdout",
     "output_type": "stream",
     "text": [
      "=> result\n",
      "* total: 106\n",
      "* correct: 46\n",
      "* accuracy: 43.4%\n",
      "* error: 56.6%\n",
      "* macro_f1: 27.1%\n",
      "epoch [422/1000] batch [20/44] time 0.044 (0.057) data 0.000 (0.016) loss 0.9775 (0.7900) lr 2.1852e-03 eta 0:24:19\n",
      "epoch [422/1000] batch [40/44] time 0.041 (0.048) data 0.000 (0.008) loss 0.2496 (0.7710) lr 2.1852e-03 eta 0:20:32\n",
      "Evaluate on the *val* set\n"
     ]
    },
    {
     "name": "stderr",
     "output_type": "stream",
     "text": [
      "\r",
      "  0%|          | 0/2 [00:00<?, ?it/s]\r",
      " 50%|█████     | 1/2 [00:00<00:00,  3.15it/s]\r",
      "100%|██████████| 2/2 [00:00<00:00,  4.91it/s]\n"
     ]
    },
    {
     "name": "stdout",
     "output_type": "stream",
     "text": [
      "=> result\n",
      "* total: 106\n",
      "* correct: 45\n",
      "* accuracy: 42.5%\n",
      "* error: 57.5%\n",
      "* macro_f1: 27.3%\n",
      "epoch [423/1000] batch [20/44] time 0.043 (0.053) data 0.000 (0.015) loss 1.3965 (0.8135) lr 2.1799e-03 eta 0:22:29\n",
      "epoch [423/1000] batch [40/44] time 0.038 (0.046) data 0.000 (0.008) loss 0.3706 (0.7957) lr 2.1799e-03 eta 0:19:22\n",
      "Evaluate on the *val* set\n"
     ]
    },
    {
     "name": "stderr",
     "output_type": "stream",
     "text": [
      "\r",
      "  0%|          | 0/2 [00:00<?, ?it/s]\r",
      " 50%|█████     | 1/2 [00:00<00:00,  3.20it/s]\r",
      "100%|██████████| 2/2 [00:00<00:00,  5.00it/s]\n"
     ]
    },
    {
     "name": "stdout",
     "output_type": "stream",
     "text": [
      "=> result\n",
      "* total: 106\n",
      "* correct: 46\n",
      "* accuracy: 43.4%\n",
      "* error: 56.6%\n",
      "* macro_f1: 26.0%\n",
      "epoch [424/1000] batch [20/44] time 0.043 (0.056) data 0.000 (0.014) loss 0.2034 (0.7527) lr 2.1745e-03 eta 0:23:40\n",
      "epoch [424/1000] batch [40/44] time 0.042 (0.048) data 0.000 (0.007) loss 0.5225 (0.7837) lr 2.1745e-03 eta 0:20:21\n",
      "Evaluate on the *val* set\n"
     ]
    },
    {
     "name": "stderr",
     "output_type": "stream",
     "text": [
      "\r",
      "  0%|          | 0/2 [00:00<?, ?it/s]\r",
      " 50%|█████     | 1/2 [00:00<00:00,  3.23it/s]\r",
      "100%|██████████| 2/2 [00:00<00:00,  5.15it/s]\n"
     ]
    },
    {
     "name": "stdout",
     "output_type": "stream",
     "text": [
      "=> result\n",
      "* total: 106\n",
      "* correct: 38\n",
      "* accuracy: 35.8%\n",
      "* error: 64.2%\n",
      "* macro_f1: 23.9%\n",
      "epoch [425/1000] batch [20/44] time 0.041 (0.054) data 0.000 (0.015) loss 1.5049 (0.8676) lr 2.1692e-03 eta 0:22:59\n",
      "epoch [425/1000] batch [40/44] time 0.042 (0.047) data 0.000 (0.008) loss 0.6812 (0.8887) lr 2.1692e-03 eta 0:19:57\n",
      "Evaluate on the *val* set\n"
     ]
    },
    {
     "name": "stderr",
     "output_type": "stream",
     "text": [
      "\r",
      "  0%|          | 0/2 [00:00<?, ?it/s]\r",
      " 50%|█████     | 1/2 [00:00<00:00,  3.25it/s]\r",
      "100%|██████████| 2/2 [00:00<00:00,  5.08it/s]\n"
     ]
    },
    {
     "name": "stdout",
     "output_type": "stream",
     "text": [
      "=> result\n",
      "* total: 106\n",
      "* correct: 46\n",
      "* accuracy: 43.4%\n",
      "* error: 56.6%\n",
      "* macro_f1: 28.2%\n",
      "epoch [426/1000] batch [20/44] time 0.043 (0.057) data 0.000 (0.016) loss 0.2969 (0.7158) lr 2.1639e-03 eta 0:24:04\n",
      "epoch [426/1000] batch [40/44] time 0.039 (0.049) data 0.000 (0.008) loss 0.5562 (0.7635) lr 2.1639e-03 eta 0:20:28\n",
      "Evaluate on the *val* set\n"
     ]
    },
    {
     "name": "stderr",
     "output_type": "stream",
     "text": [
      "\r",
      "  0%|          | 0/2 [00:00<?, ?it/s]\r",
      " 50%|█████     | 1/2 [00:00<00:00,  3.33it/s]\r",
      "100%|██████████| 2/2 [00:00<00:00,  5.33it/s]\n"
     ]
    },
    {
     "name": "stdout",
     "output_type": "stream",
     "text": [
      "=> result\n",
      "* total: 106\n",
      "* correct: 44\n",
      "* accuracy: 41.5%\n",
      "* error: 58.5%\n",
      "* macro_f1: 23.9%\n",
      "epoch [427/1000] batch [20/44] time 0.040 (0.054) data 0.000 (0.014) loss 0.4656 (0.7425) lr 2.1585e-03 eta 0:22:42\n",
      "epoch [427/1000] batch [40/44] time 0.034 (0.047) data 0.000 (0.007) loss 1.5254 (0.8168) lr 2.1585e-03 eta 0:19:38\n",
      "Evaluate on the *val* set\n"
     ]
    },
    {
     "name": "stderr",
     "output_type": "stream",
     "text": [
      "\r",
      "  0%|          | 0/2 [00:00<?, ?it/s]\r",
      " 50%|█████     | 1/2 [00:00<00:00,  3.25it/s]\r",
      "100%|██████████| 2/2 [00:00<00:00,  5.16it/s]\n"
     ]
    },
    {
     "name": "stdout",
     "output_type": "stream",
     "text": [
      "=> result\n",
      "* total: 106\n",
      "* correct: 44\n",
      "* accuracy: 41.5%\n",
      "* error: 58.5%\n",
      "* macro_f1: 25.0%\n",
      "epoch [428/1000] batch [20/44] time 0.044 (0.058) data 0.000 (0.016) loss 0.2871 (0.8532) lr 2.1532e-03 eta 0:24:21\n",
      "epoch [428/1000] batch [40/44] time 0.037 (0.049) data 0.000 (0.008) loss 1.2402 (0.8267) lr 2.1532e-03 eta 0:20:37\n",
      "Evaluate on the *val* set\n"
     ]
    },
    {
     "name": "stderr",
     "output_type": "stream",
     "text": [
      "\r",
      "  0%|          | 0/2 [00:00<?, ?it/s]\r",
      " 50%|█████     | 1/2 [00:00<00:00,  3.21it/s]\r",
      "100%|██████████| 2/2 [00:00<00:00,  4.93it/s]\n"
     ]
    },
    {
     "name": "stdout",
     "output_type": "stream",
     "text": [
      "=> result\n",
      "* total: 106\n",
      "* correct: 48\n",
      "* accuracy: 45.3%\n",
      "* error: 54.7%\n",
      "* macro_f1: 27.6%\n",
      "epoch [429/1000] batch [20/44] time 0.039 (0.055) data 0.000 (0.014) loss 0.8052 (0.8387) lr 2.1478e-03 eta 0:22:54\n",
      "epoch [429/1000] batch [40/44] time 0.040 (0.047) data 0.000 (0.007) loss 1.2334 (0.8276) lr 2.1478e-03 eta 0:19:51\n",
      "Evaluate on the *val* set\n"
     ]
    },
    {
     "name": "stderr",
     "output_type": "stream",
     "text": [
      "\r",
      "  0%|          | 0/2 [00:00<?, ?it/s]\r",
      " 50%|█████     | 1/2 [00:00<00:00,  3.23it/s]\r",
      "100%|██████████| 2/2 [00:00<00:00,  5.24it/s]\n"
     ]
    },
    {
     "name": "stdout",
     "output_type": "stream",
     "text": [
      "=> result\n",
      "* total: 106\n",
      "* correct: 43\n",
      "* accuracy: 40.6%\n",
      "* error: 59.4%\n",
      "* macro_f1: 24.3%\n",
      "epoch [430/1000] batch [20/44] time 0.039 (0.056) data 0.000 (0.014) loss 0.6978 (0.7616) lr 2.1425e-03 eta 0:23:32\n",
      "epoch [430/1000] batch [40/44] time 0.041 (0.048) data 0.000 (0.007) loss 0.5444 (0.7707) lr 2.1425e-03 eta 0:20:06\n",
      "Evaluate on the *val* set\n"
     ]
    },
    {
     "name": "stderr",
     "output_type": "stream",
     "text": [
      "\r",
      "  0%|          | 0/2 [00:00<?, ?it/s]\r",
      " 50%|█████     | 1/2 [00:00<00:00,  3.31it/s]\r",
      "100%|██████████| 2/2 [00:00<00:00,  5.21it/s]\n"
     ]
    },
    {
     "name": "stdout",
     "output_type": "stream",
     "text": [
      "=> result\n",
      "* total: 106\n",
      "* correct: 45\n",
      "* accuracy: 42.5%\n",
      "* error: 57.5%\n",
      "* macro_f1: 24.7%\n",
      "epoch [431/1000] batch [20/44] time 0.040 (0.058) data 0.000 (0.017) loss 1.2422 (0.8752) lr 2.1371e-03 eta 0:24:10\n",
      "epoch [431/1000] batch [40/44] time 0.036 (0.049) data 0.000 (0.009) loss 0.5547 (0.8403) lr 2.1371e-03 eta 0:20:29\n",
      "Evaluate on the *val* set\n"
     ]
    },
    {
     "name": "stderr",
     "output_type": "stream",
     "text": [
      "\r",
      "  0%|          | 0/2 [00:00<?, ?it/s]\r",
      " 50%|█████     | 1/2 [00:00<00:00,  3.23it/s]\r",
      "100%|██████████| 2/2 [00:00<00:00,  5.23it/s]\n"
     ]
    },
    {
     "name": "stdout",
     "output_type": "stream",
     "text": [
      "=> result\n",
      "* total: 106\n",
      "* correct: 44\n",
      "* accuracy: 41.5%\n",
      "* error: 58.5%\n",
      "* macro_f1: 23.9%\n",
      "epoch [432/1000] batch [20/44] time 0.038 (0.057) data 0.000 (0.015) loss 0.5894 (0.9669) lr 2.1318e-03 eta 0:23:35\n",
      "epoch [432/1000] batch [40/44] time 0.039 (0.049) data 0.000 (0.007) loss 1.3760 (0.8961) lr 2.1318e-03 eta 0:20:12\n",
      "Evaluate on the *val* set\n"
     ]
    },
    {
     "name": "stderr",
     "output_type": "stream",
     "text": [
      "\r",
      "  0%|          | 0/2 [00:00<?, ?it/s]\r",
      " 50%|█████     | 1/2 [00:00<00:00,  3.33it/s]\r",
      "100%|██████████| 2/2 [00:00<00:00,  5.05it/s]\n"
     ]
    },
    {
     "name": "stdout",
     "output_type": "stream",
     "text": [
      "=> result\n",
      "* total: 106\n",
      "* correct: 46\n",
      "* accuracy: 43.4%\n",
      "* error: 56.6%\n",
      "* macro_f1: 28.7%\n",
      "epoch [433/1000] batch [20/44] time 0.041 (0.054) data 0.000 (0.014) loss 0.8828 (0.7341) lr 2.1264e-03 eta 0:22:39\n",
      "epoch [433/1000] batch [40/44] time 0.042 (0.047) data 0.000 (0.007) loss 0.8184 (0.7760) lr 2.1264e-03 eta 0:19:38\n",
      "Evaluate on the *val* set\n"
     ]
    },
    {
     "name": "stderr",
     "output_type": "stream",
     "text": [
      "\r",
      "  0%|          | 0/2 [00:00<?, ?it/s]\r",
      " 50%|█████     | 1/2 [00:00<00:00,  3.25it/s]\r",
      "100%|██████████| 2/2 [00:00<00:00,  5.24it/s]\n"
     ]
    },
    {
     "name": "stdout",
     "output_type": "stream",
     "text": [
      "=> result\n",
      "* total: 106\n",
      "* correct: 45\n",
      "* accuracy: 42.5%\n",
      "* error: 57.5%\n",
      "* macro_f1: 24.8%\n",
      "epoch [434/1000] batch [20/44] time 0.041 (0.056) data 0.000 (0.015) loss 1.0098 (0.7289) lr 2.1210e-03 eta 0:23:06\n",
      "epoch [434/1000] batch [40/44] time 0.040 (0.048) data 0.000 (0.008) loss 1.3301 (0.7494) lr 2.1210e-03 eta 0:20:04\n",
      "Evaluate on the *val* set\n"
     ]
    },
    {
     "name": "stderr",
     "output_type": "stream",
     "text": [
      "\r",
      "  0%|          | 0/2 [00:00<?, ?it/s]\r",
      " 50%|█████     | 1/2 [00:00<00:00,  3.18it/s]\r",
      "100%|██████████| 2/2 [00:00<00:00,  5.10it/s]\n"
     ]
    },
    {
     "name": "stdout",
     "output_type": "stream",
     "text": [
      "=> result\n",
      "* total: 106\n",
      "* correct: 44\n",
      "* accuracy: 41.5%\n",
      "* error: 58.5%\n",
      "* macro_f1: 23.9%\n",
      "epoch [435/1000] batch [20/44] time 0.038 (0.055) data 0.000 (0.014) loss 0.3489 (0.6982) lr 2.1156e-03 eta 0:22:39\n",
      "epoch [435/1000] batch [40/44] time 0.039 (0.047) data 0.000 (0.007) loss 0.2438 (0.7841) lr 2.1156e-03 eta 0:19:34\n",
      "Evaluate on the *val* set\n"
     ]
    },
    {
     "name": "stderr",
     "output_type": "stream",
     "text": [
      "\r",
      "  0%|          | 0/2 [00:00<?, ?it/s]\r",
      " 50%|█████     | 1/2 [00:00<00:00,  3.28it/s]\r",
      "100%|██████████| 2/2 [00:00<00:00,  5.27it/s]\n"
     ]
    },
    {
     "name": "stdout",
     "output_type": "stream",
     "text": [
      "=> result\n",
      "* total: 106\n",
      "* correct: 43\n",
      "* accuracy: 40.6%\n",
      "* error: 59.4%\n",
      "* macro_f1: 24.3%\n",
      "epoch [436/1000] batch [20/44] time 0.037 (0.054) data 0.000 (0.014) loss 1.1182 (0.8674) lr 2.1103e-03 eta 0:22:17\n",
      "epoch [436/1000] batch [40/44] time 0.041 (0.047) data 0.000 (0.007) loss 0.7671 (0.7557) lr 2.1103e-03 eta 0:19:37\n",
      "Evaluate on the *val* set\n"
     ]
    },
    {
     "name": "stderr",
     "output_type": "stream",
     "text": [
      "\r",
      "  0%|          | 0/2 [00:00<?, ?it/s]\r",
      " 50%|█████     | 1/2 [00:00<00:00,  3.26it/s]\r",
      "100%|██████████| 2/2 [00:00<00:00,  5.27it/s]\n"
     ]
    },
    {
     "name": "stdout",
     "output_type": "stream",
     "text": [
      "=> result\n",
      "* total: 106\n",
      "* correct: 44\n",
      "* accuracy: 41.5%\n",
      "* error: 58.5%\n",
      "* macro_f1: 23.6%\n",
      "epoch [437/1000] batch [20/44] time 0.040 (0.054) data 0.000 (0.014) loss 0.8794 (0.7579) lr 2.1049e-03 eta 0:22:29\n",
      "epoch [437/1000] batch [40/44] time 0.041 (0.047) data 0.000 (0.007) loss 0.5913 (0.7713) lr 2.1049e-03 eta 0:19:31\n",
      "Evaluate on the *val* set\n"
     ]
    },
    {
     "name": "stderr",
     "output_type": "stream",
     "text": [
      "\r",
      "  0%|          | 0/2 [00:00<?, ?it/s]\r",
      " 50%|█████     | 1/2 [00:00<00:00,  3.20it/s]\r",
      "100%|██████████| 2/2 [00:00<00:00,  5.09it/s]\n"
     ]
    },
    {
     "name": "stdout",
     "output_type": "stream",
     "text": [
      "=> result\n",
      "* total: 106\n",
      "* correct: 42\n",
      "* accuracy: 39.6%\n",
      "* error: 60.4%\n",
      "* macro_f1: 22.9%\n",
      "epoch [438/1000] batch [20/44] time 0.039 (0.055) data 0.000 (0.015) loss 0.7041 (0.8146) lr 2.0995e-03 eta 0:22:41\n",
      "epoch [438/1000] batch [40/44] time 0.036 (0.047) data 0.000 (0.007) loss 0.1787 (0.7969) lr 2.0995e-03 eta 0:19:34\n",
      "Evaluate on the *val* set\n"
     ]
    },
    {
     "name": "stderr",
     "output_type": "stream",
     "text": [
      "\r",
      "  0%|          | 0/2 [00:00<?, ?it/s]\r",
      " 50%|█████     | 1/2 [00:00<00:00,  3.20it/s]\r",
      "100%|██████████| 2/2 [00:00<00:00,  5.02it/s]\n"
     ]
    },
    {
     "name": "stdout",
     "output_type": "stream",
     "text": [
      "=> result\n",
      "* total: 106\n",
      "* correct: 43\n",
      "* accuracy: 40.6%\n",
      "* error: 59.4%\n",
      "* macro_f1: 24.5%\n",
      "epoch [439/1000] batch [20/44] time 0.039 (0.056) data 0.000 (0.014) loss 0.7891 (0.8270) lr 2.0941e-03 eta 0:23:03\n",
      "epoch [439/1000] batch [40/44] time 0.041 (0.048) data 0.000 (0.007) loss 0.7280 (0.8068) lr 2.0941e-03 eta 0:19:46\n",
      "Evaluate on the *val* set\n"
     ]
    },
    {
     "name": "stderr",
     "output_type": "stream",
     "text": [
      "\r",
      "  0%|          | 0/2 [00:00<?, ?it/s]\r",
      " 50%|█████     | 1/2 [00:00<00:00,  3.30it/s]\r",
      "100%|██████████| 2/2 [00:00<00:00,  4.98it/s]\n"
     ]
    },
    {
     "name": "stdout",
     "output_type": "stream",
     "text": [
      "=> result\n",
      "* total: 106\n",
      "* correct: 43\n",
      "* accuracy: 40.6%\n",
      "* error: 59.4%\n",
      "* macro_f1: 24.3%\n",
      "epoch [440/1000] batch [20/44] time 0.043 (0.056) data 0.000 (0.015) loss 0.3225 (0.7532) lr 2.0887e-03 eta 0:22:55\n",
      "epoch [440/1000] batch [40/44] time 0.039 (0.048) data 0.000 (0.008) loss 0.7842 (0.7905) lr 2.0887e-03 eta 0:19:44\n",
      "Evaluate on the *val* set\n"
     ]
    },
    {
     "name": "stderr",
     "output_type": "stream",
     "text": [
      "\r",
      "  0%|          | 0/2 [00:00<?, ?it/s]\r",
      " 50%|█████     | 1/2 [00:00<00:00,  3.30it/s]\r",
      "100%|██████████| 2/2 [00:00<00:00,  5.07it/s]\n"
     ]
    },
    {
     "name": "stdout",
     "output_type": "stream",
     "text": [
      "=> result\n",
      "* total: 106\n",
      "* correct: 42\n",
      "* accuracy: 39.6%\n",
      "* error: 60.4%\n",
      "* macro_f1: 21.8%\n",
      "epoch [441/1000] batch [20/44] time 0.038 (0.055) data 0.000 (0.014) loss 1.0557 (0.9273) lr 2.0833e-03 eta 0:22:26\n",
      "epoch [441/1000] batch [40/44] time 0.040 (0.047) data 0.000 (0.007) loss 0.8906 (0.8294) lr 2.0833e-03 eta 0:19:19\n",
      "Evaluate on the *val* set\n"
     ]
    },
    {
     "name": "stderr",
     "output_type": "stream",
     "text": [
      "\r",
      "  0%|          | 0/2 [00:00<?, ?it/s]\r",
      " 50%|█████     | 1/2 [00:00<00:00,  3.31it/s]\r",
      "100%|██████████| 2/2 [00:00<00:00,  5.26it/s]\n"
     ]
    },
    {
     "name": "stdout",
     "output_type": "stream",
     "text": [
      "=> result\n",
      "* total: 106\n",
      "* correct: 47\n",
      "* accuracy: 44.3%\n",
      "* error: 55.7%\n",
      "* macro_f1: 27.0%\n",
      "epoch [442/1000] batch [20/44] time 0.042 (0.055) data 0.000 (0.014) loss 0.8730 (0.7001) lr 2.0779e-03 eta 0:22:29\n",
      "epoch [442/1000] batch [40/44] time 0.041 (0.047) data 0.000 (0.007) loss 1.2637 (0.7499) lr 2.0779e-03 eta 0:19:20\n",
      "Evaluate on the *val* set\n"
     ]
    },
    {
     "name": "stderr",
     "output_type": "stream",
     "text": [
      "\r",
      "  0%|          | 0/2 [00:00<?, ?it/s]\r",
      " 50%|█████     | 1/2 [00:00<00:00,  3.23it/s]\r",
      "100%|██████████| 2/2 [00:00<00:00,  5.17it/s]\n"
     ]
    },
    {
     "name": "stdout",
     "output_type": "stream",
     "text": [
      "=> result\n",
      "* total: 106\n",
      "* correct: 47\n",
      "* accuracy: 44.3%\n",
      "* error: 55.7%\n",
      "* macro_f1: 27.5%\n",
      "epoch [443/1000] batch [20/44] time 0.043 (0.056) data 0.000 (0.015) loss 1.0068 (0.7880) lr 2.0725e-03 eta 0:22:49\n",
      "epoch [443/1000] batch [40/44] time 0.042 (0.048) data 0.000 (0.008) loss 0.5142 (0.7953) lr 2.0725e-03 eta 0:19:48\n",
      "Evaluate on the *val* set\n"
     ]
    },
    {
     "name": "stderr",
     "output_type": "stream",
     "text": [
      "\r",
      "  0%|          | 0/2 [00:00<?, ?it/s]\r",
      " 50%|█████     | 1/2 [00:00<00:00,  3.15it/s]\r",
      "100%|██████████| 2/2 [00:00<00:00,  5.07it/s]\n"
     ]
    },
    {
     "name": "stdout",
     "output_type": "stream",
     "text": [
      "=> result\n",
      "* total: 106\n",
      "* correct: 46\n",
      "* accuracy: 43.4%\n",
      "* error: 56.6%\n",
      "* macro_f1: 27.5%\n",
      "epoch [444/1000] batch [20/44] time 0.044 (0.056) data 0.000 (0.014) loss 1.2500 (0.7291) lr 2.0671e-03 eta 0:22:53\n",
      "epoch [444/1000] batch [40/44] time 0.036 (0.048) data 0.000 (0.007) loss 0.5503 (0.8149) lr 2.0671e-03 eta 0:19:28\n",
      "Evaluate on the *val* set\n"
     ]
    },
    {
     "name": "stderr",
     "output_type": "stream",
     "text": [
      "\r",
      "  0%|          | 0/2 [00:00<?, ?it/s]\r",
      " 50%|█████     | 1/2 [00:00<00:00,  3.35it/s]\r",
      "100%|██████████| 2/2 [00:00<00:00,  5.31it/s]\n"
     ]
    },
    {
     "name": "stdout",
     "output_type": "stream",
     "text": [
      "=> result\n",
      "* total: 106\n",
      "* correct: 47\n",
      "* accuracy: 44.3%\n",
      "* error: 55.7%\n",
      "* macro_f1: 28.0%\n",
      "epoch [445/1000] batch [20/44] time 0.045 (0.058) data 0.000 (0.015) loss 0.5146 (0.7773) lr 2.0617e-03 eta 0:23:39\n",
      "epoch [445/1000] batch [40/44] time 0.038 (0.049) data 0.000 (0.008) loss 0.5361 (0.8111) lr 2.0617e-03 eta 0:19:56\n",
      "Evaluate on the *val* set\n"
     ]
    },
    {
     "name": "stderr",
     "output_type": "stream",
     "text": [
      "\r",
      "  0%|          | 0/2 [00:00<?, ?it/s]\r",
      " 50%|█████     | 1/2 [00:00<00:00,  3.34it/s]\r",
      "100%|██████████| 2/2 [00:00<00:00,  5.23it/s]\n"
     ]
    },
    {
     "name": "stdout",
     "output_type": "stream",
     "text": [
      "=> result\n",
      "* total: 106\n",
      "* correct: 43\n",
      "* accuracy: 40.6%\n",
      "* error: 59.4%\n",
      "* macro_f1: 25.4%\n",
      "epoch [446/1000] batch [20/44] time 0.038 (0.056) data 0.000 (0.014) loss 1.0977 (0.7293) lr 2.0563e-03 eta 0:22:53\n",
      "epoch [446/1000] batch [40/44] time 0.036 (0.048) data 0.000 (0.007) loss 0.1122 (0.7241) lr 2.0563e-03 eta 0:19:35\n",
      "Evaluate on the *val* set\n"
     ]
    },
    {
     "name": "stderr",
     "output_type": "stream",
     "text": [
      "\r",
      "  0%|          | 0/2 [00:00<?, ?it/s]\r",
      " 50%|█████     | 1/2 [00:00<00:00,  3.25it/s]\r",
      "100%|██████████| 2/2 [00:00<00:00,  5.17it/s]\n"
     ]
    },
    {
     "name": "stdout",
     "output_type": "stream",
     "text": [
      "=> result\n",
      "* total: 106\n",
      "* correct: 45\n",
      "* accuracy: 42.5%\n",
      "* error: 57.5%\n",
      "* macro_f1: 26.4%\n",
      "epoch [447/1000] batch [20/44] time 0.044 (0.058) data 0.000 (0.016) loss 1.1973 (0.6943) lr 2.0509e-03 eta 0:23:30\n",
      "epoch [447/1000] batch [40/44] time 0.042 (0.049) data 0.000 (0.008) loss 0.8447 (0.7823) lr 2.0509e-03 eta 0:19:55\n",
      "Evaluate on the *val* set\n"
     ]
    },
    {
     "name": "stderr",
     "output_type": "stream",
     "text": [
      "\r",
      "  0%|          | 0/2 [00:00<?, ?it/s]\r",
      " 50%|█████     | 1/2 [00:00<00:00,  3.27it/s]\r",
      "100%|██████████| 2/2 [00:00<00:00,  5.06it/s]\n"
     ]
    },
    {
     "name": "stdout",
     "output_type": "stream",
     "text": [
      "=> result\n",
      "* total: 106\n",
      "* correct: 47\n",
      "* accuracy: 44.3%\n",
      "* error: 55.7%\n",
      "* macro_f1: 25.8%\n",
      "epoch [448/1000] batch [20/44] time 0.045 (0.057) data 0.000 (0.015) loss 0.4407 (0.5992) lr 2.0455e-03 eta 0:23:07\n",
      "epoch [448/1000] batch [40/44] time 0.036 (0.048) data 0.000 (0.007) loss 1.3398 (0.7500) lr 2.0455e-03 eta 0:19:34\n",
      "Evaluate on the *val* set\n"
     ]
    },
    {
     "name": "stderr",
     "output_type": "stream",
     "text": [
      "\r",
      "  0%|          | 0/2 [00:00<?, ?it/s]\r",
      " 50%|█████     | 1/2 [00:00<00:00,  3.20it/s]\r",
      "100%|██████████| 2/2 [00:00<00:00,  5.11it/s]\n"
     ]
    },
    {
     "name": "stdout",
     "output_type": "stream",
     "text": [
      "=> result\n",
      "* total: 106\n",
      "* correct: 45\n",
      "* accuracy: 42.5%\n",
      "* error: 57.5%\n",
      "* macro_f1: 27.0%\n",
      "epoch [449/1000] batch [20/44] time 0.036 (0.056) data 0.000 (0.016) loss 0.4773 (0.7248) lr 2.0400e-03 eta 0:22:34\n",
      "epoch [449/1000] batch [40/44] time 0.040 (0.048) data 0.000 (0.008) loss 0.7021 (0.7911) lr 2.0400e-03 eta 0:19:16\n",
      "Evaluate on the *val* set\n"
     ]
    },
    {
     "name": "stderr",
     "output_type": "stream",
     "text": [
      "\r",
      "  0%|          | 0/2 [00:00<?, ?it/s]\r",
      " 50%|█████     | 1/2 [00:00<00:00,  3.28it/s]\r",
      "100%|██████████| 2/2 [00:00<00:00,  5.01it/s]\n"
     ]
    },
    {
     "name": "stdout",
     "output_type": "stream",
     "text": [
      "=> result\n",
      "* total: 106\n",
      "* correct: 46\n",
      "* accuracy: 43.4%\n",
      "* error: 56.6%\n",
      "* macro_f1: 29.4%\n",
      "epoch [450/1000] batch [20/44] time 0.045 (0.056) data 0.000 (0.014) loss 0.5132 (0.8012) lr 2.0346e-03 eta 0:22:43\n",
      "epoch [450/1000] batch [40/44] time 0.041 (0.048) data 0.000 (0.007) loss 0.6411 (0.8454) lr 2.0346e-03 eta 0:19:24\n",
      "Evaluate on the *val* set\n"
     ]
    },
    {
     "name": "stderr",
     "output_type": "stream",
     "text": [
      "\r",
      "  0%|          | 0/2 [00:00<?, ?it/s]\r",
      " 50%|█████     | 1/2 [00:00<00:00,  3.30it/s]\r",
      "100%|██████████| 2/2 [00:00<00:00,  5.09it/s]\n"
     ]
    },
    {
     "name": "stdout",
     "output_type": "stream",
     "text": [
      "=> result\n",
      "* total: 106\n",
      "* correct: 45\n",
      "* accuracy: 42.5%\n",
      "* error: 57.5%\n",
      "* macro_f1: 24.4%\n",
      "epoch [451/1000] batch [20/44] time 0.034 (0.057) data 0.000 (0.016) loss 0.7144 (0.7992) lr 2.0292e-03 eta 0:22:56\n",
      "epoch [451/1000] batch [40/44] time 0.042 (0.049) data 0.000 (0.008) loss 1.0342 (0.8580) lr 2.0292e-03 eta 0:19:32\n",
      "Evaluate on the *val* set\n"
     ]
    },
    {
     "name": "stderr",
     "output_type": "stream",
     "text": [
      "\r",
      "  0%|          | 0/2 [00:00<?, ?it/s]\r",
      " 50%|█████     | 1/2 [00:00<00:00,  3.28it/s]\r",
      "100%|██████████| 2/2 [00:00<00:00,  5.09it/s]\n"
     ]
    },
    {
     "name": "stdout",
     "output_type": "stream",
     "text": [
      "=> result\n",
      "* total: 106\n",
      "* correct: 43\n",
      "* accuracy: 40.6%\n",
      "* error: 59.4%\n",
      "* macro_f1: 24.8%\n",
      "epoch [452/1000] batch [20/44] time 0.040 (0.056) data 0.000 (0.017) loss 0.6885 (0.7788) lr 2.0238e-03 eta 0:22:31\n",
      "epoch [452/1000] batch [40/44] time 0.040 (0.048) data 0.000 (0.008) loss 1.5244 (0.8327) lr 2.0238e-03 eta 0:19:23\n",
      "Evaluate on the *val* set\n"
     ]
    },
    {
     "name": "stderr",
     "output_type": "stream",
     "text": [
      "\r",
      "  0%|          | 0/2 [00:00<?, ?it/s]\r",
      " 50%|█████     | 1/2 [00:00<00:00,  3.30it/s]\r",
      "100%|██████████| 2/2 [00:00<00:00,  5.21it/s]\n"
     ]
    },
    {
     "name": "stdout",
     "output_type": "stream",
     "text": [
      "=> result\n",
      "* total: 106\n",
      "* correct: 48\n",
      "* accuracy: 45.3%\n",
      "* error: 54.7%\n",
      "* macro_f1: 31.3%\n",
      "epoch [453/1000] batch [20/44] time 0.042 (0.055) data 0.000 (0.014) loss 0.9390 (0.7609) lr 2.0183e-03 eta 0:22:10\n",
      "epoch [453/1000] batch [40/44] time 0.040 (0.048) data 0.000 (0.007) loss 1.1094 (0.8139) lr 2.0183e-03 eta 0:19:05\n",
      "Evaluate on the *val* set\n"
     ]
    },
    {
     "name": "stderr",
     "output_type": "stream",
     "text": [
      "\r",
      "  0%|          | 0/2 [00:00<?, ?it/s]\r",
      " 50%|█████     | 1/2 [00:00<00:00,  3.30it/s]\r",
      "100%|██████████| 2/2 [00:00<00:00,  5.10it/s]\n"
     ]
    },
    {
     "name": "stdout",
     "output_type": "stream",
     "text": [
      "=> result\n",
      "* total: 106\n",
      "* correct: 46\n",
      "* accuracy: 43.4%\n",
      "* error: 56.6%\n",
      "* macro_f1: 27.4%\n",
      "epoch [454/1000] batch [20/44] time 0.037 (0.055) data 0.000 (0.014) loss 1.1299 (0.7993) lr 2.0129e-03 eta 0:22:02\n",
      "epoch [454/1000] batch [40/44] time 0.042 (0.047) data 0.000 (0.007) loss 0.3254 (0.8431) lr 2.0129e-03 eta 0:18:55\n",
      "Evaluate on the *val* set\n"
     ]
    },
    {
     "name": "stderr",
     "output_type": "stream",
     "text": [
      "\r",
      "  0%|          | 0/2 [00:00<?, ?it/s]\r",
      " 50%|█████     | 1/2 [00:00<00:00,  3.31it/s]\r",
      "100%|██████████| 2/2 [00:00<00:00,  5.23it/s]\n"
     ]
    },
    {
     "name": "stdout",
     "output_type": "stream",
     "text": [
      "=> result\n",
      "* total: 106\n",
      "* correct: 46\n",
      "* accuracy: 43.4%\n",
      "* error: 56.6%\n",
      "* macro_f1: 24.9%\n",
      "epoch [455/1000] batch [20/44] time 0.036 (0.060) data 0.000 (0.017) loss 0.4324 (0.8900) lr 2.0075e-03 eta 0:23:56\n",
      "epoch [455/1000] batch [40/44] time 0.039 (0.050) data 0.000 (0.009) loss 0.5273 (0.7708) lr 2.0075e-03 eta 0:20:04\n",
      "Evaluate on the *val* set\n"
     ]
    },
    {
     "name": "stderr",
     "output_type": "stream",
     "text": [
      "\r",
      "  0%|          | 0/2 [00:00<?, ?it/s]\r",
      " 50%|█████     | 1/2 [00:00<00:00,  3.23it/s]\r",
      "100%|██████████| 2/2 [00:00<00:00,  5.20it/s]\n"
     ]
    },
    {
     "name": "stdout",
     "output_type": "stream",
     "text": [
      "=> result\n",
      "* total: 106\n",
      "* correct: 44\n",
      "* accuracy: 41.5%\n",
      "* error: 58.5%\n",
      "* macro_f1: 24.2%\n",
      "epoch [456/1000] batch [20/44] time 0.041 (0.056) data 0.000 (0.015) loss 1.0840 (0.7992) lr 2.0020e-03 eta 0:22:33\n",
      "epoch [456/1000] batch [40/44] time 0.041 (0.048) data 0.000 (0.007) loss 1.4863 (0.7608) lr 2.0020e-03 eta 0:19:03\n",
      "Evaluate on the *val* set\n"
     ]
    },
    {
     "name": "stderr",
     "output_type": "stream",
     "text": [
      "\r",
      "  0%|          | 0/2 [00:00<?, ?it/s]\r",
      " 50%|█████     | 1/2 [00:00<00:00,  3.28it/s]\r",
      "100%|██████████| 2/2 [00:00<00:00,  5.17it/s]\n"
     ]
    },
    {
     "name": "stdout",
     "output_type": "stream",
     "text": [
      "=> result\n",
      "* total: 106\n",
      "* correct: 42\n",
      "* accuracy: 39.6%\n",
      "* error: 60.4%\n",
      "* macro_f1: 24.0%\n",
      "epoch [457/1000] batch [20/44] time 0.037 (0.055) data 0.000 (0.014) loss 0.7725 (0.6399) lr 1.9966e-03 eta 0:22:05\n",
      "epoch [457/1000] batch [40/44] time 0.042 (0.048) data 0.000 (0.007) loss 1.3984 (0.7443) lr 1.9966e-03 eta 0:18:58\n",
      "Evaluate on the *val* set\n"
     ]
    },
    {
     "name": "stderr",
     "output_type": "stream",
     "text": [
      "\r",
      "  0%|          | 0/2 [00:00<?, ?it/s]\r",
      " 50%|█████     | 1/2 [00:00<00:00,  3.17it/s]\r",
      "100%|██████████| 2/2 [00:00<00:00,  5.10it/s]\n"
     ]
    },
    {
     "name": "stdout",
     "output_type": "stream",
     "text": [
      "=> result\n",
      "* total: 106\n",
      "* correct: 45\n",
      "* accuracy: 42.5%\n",
      "* error: 57.5%\n",
      "* macro_f1: 25.6%\n",
      "epoch [458/1000] batch [20/44] time 0.043 (0.054) data 0.000 (0.014) loss 0.2458 (0.6220) lr 1.9911e-03 eta 0:21:24\n",
      "epoch [458/1000] batch [40/44] time 0.041 (0.047) data 0.000 (0.007) loss 0.6963 (0.7496) lr 1.9911e-03 eta 0:18:39\n",
      "Evaluate on the *val* set\n"
     ]
    },
    {
     "name": "stderr",
     "output_type": "stream",
     "text": [
      "\r",
      "  0%|          | 0/2 [00:00<?, ?it/s]\r",
      " 50%|█████     | 1/2 [00:00<00:00,  3.21it/s]\r",
      "100%|██████████| 2/2 [00:00<00:00,  5.06it/s]\n"
     ]
    },
    {
     "name": "stdout",
     "output_type": "stream",
     "text": [
      "=> result\n",
      "* total: 106\n",
      "* correct: 48\n",
      "* accuracy: 45.3%\n",
      "* error: 54.7%\n",
      "* macro_f1: 28.0%\n",
      "epoch [459/1000] batch [20/44] time 0.036 (0.055) data 0.000 (0.014) loss 0.8945 (0.7036) lr 1.9857e-03 eta 0:21:51\n",
      "epoch [459/1000] batch [40/44] time 0.037 (0.048) data 0.000 (0.007) loss 0.6802 (0.7502) lr 1.9857e-03 eta 0:18:53\n",
      "Evaluate on the *val* set\n"
     ]
    },
    {
     "name": "stderr",
     "output_type": "stream",
     "text": [
      "\r",
      "  0%|          | 0/2 [00:00<?, ?it/s]\r",
      " 50%|█████     | 1/2 [00:00<00:00,  3.25it/s]\r",
      "100%|██████████| 2/2 [00:00<00:00,  5.22it/s]\n"
     ]
    },
    {
     "name": "stdout",
     "output_type": "stream",
     "text": [
      "=> result\n",
      "* total: 106\n",
      "* correct: 47\n",
      "* accuracy: 44.3%\n",
      "* error: 55.7%\n",
      "* macro_f1: 27.9%\n",
      "epoch [460/1000] batch [20/44] time 0.044 (0.055) data 0.000 (0.014) loss 0.3049 (0.7820) lr 1.9802e-03 eta 0:21:43\n",
      "epoch [460/1000] batch [40/44] time 0.041 (0.048) data 0.000 (0.007) loss 0.5264 (0.7899) lr 1.9802e-03 eta 0:18:59\n",
      "Evaluate on the *val* set\n"
     ]
    },
    {
     "name": "stderr",
     "output_type": "stream",
     "text": [
      "\r",
      "  0%|          | 0/2 [00:00<?, ?it/s]\r",
      " 50%|█████     | 1/2 [00:00<00:00,  3.31it/s]\r",
      "100%|██████████| 2/2 [00:00<00:00,  5.24it/s]\n"
     ]
    },
    {
     "name": "stdout",
     "output_type": "stream",
     "text": [
      "=> result\n",
      "* total: 106\n",
      "* correct: 46\n",
      "* accuracy: 43.4%\n",
      "* error: 56.6%\n",
      "* macro_f1: 26.9%\n",
      "epoch [461/1000] batch [20/44] time 0.041 (0.053) data 0.000 (0.014) loss 0.5801 (0.7440) lr 1.9748e-03 eta 0:20:59\n",
      "epoch [461/1000] batch [40/44] time 0.040 (0.047) data 0.000 (0.007) loss 1.0596 (0.7358) lr 1.9748e-03 eta 0:18:26\n",
      "Evaluate on the *val* set\n"
     ]
    },
    {
     "name": "stderr",
     "output_type": "stream",
     "text": [
      "\r",
      "  0%|          | 0/2 [00:00<?, ?it/s]\r",
      " 50%|█████     | 1/2 [00:00<00:00,  3.28it/s]\r",
      "100%|██████████| 2/2 [00:00<00:00,  5.19it/s]\n"
     ]
    },
    {
     "name": "stdout",
     "output_type": "stream",
     "text": [
      "=> result\n",
      "* total: 106\n",
      "* correct: 44\n",
      "* accuracy: 41.5%\n",
      "* error: 58.5%\n",
      "* macro_f1: 25.0%\n",
      "epoch [462/1000] batch [20/44] time 0.038 (0.056) data 0.000 (0.014) loss 0.8730 (0.7027) lr 1.9693e-03 eta 0:22:08\n",
      "epoch [462/1000] batch [40/44] time 0.040 (0.048) data 0.000 (0.007) loss 0.7266 (0.7267) lr 1.9693e-03 eta 0:19:01\n",
      "Evaluate on the *val* set\n"
     ]
    },
    {
     "name": "stderr",
     "output_type": "stream",
     "text": [
      "\r",
      "  0%|          | 0/2 [00:00<?, ?it/s]\r",
      " 50%|█████     | 1/2 [00:00<00:00,  3.27it/s]\r",
      "100%|██████████| 2/2 [00:00<00:00,  4.98it/s]\n"
     ]
    },
    {
     "name": "stdout",
     "output_type": "stream",
     "text": [
      "=> result\n",
      "* total: 106\n",
      "* correct: 47\n",
      "* accuracy: 44.3%\n",
      "* error: 55.7%\n",
      "* macro_f1: 27.7%\n",
      "epoch [463/1000] batch [20/44] time 0.044 (0.057) data 0.000 (0.016) loss 0.2554 (0.8327) lr 1.9639e-03 eta 0:22:31\n",
      "epoch [463/1000] batch [40/44] time 0.036 (0.048) data 0.000 (0.008) loss 1.5918 (0.7999) lr 1.9639e-03 eta 0:18:43\n",
      "Evaluate on the *val* set\n"
     ]
    },
    {
     "name": "stderr",
     "output_type": "stream",
     "text": [
      "\r",
      "  0%|          | 0/2 [00:00<?, ?it/s]\r",
      " 50%|█████     | 1/2 [00:00<00:00,  3.29it/s]\r",
      "100%|██████████| 2/2 [00:00<00:00,  5.02it/s]\n"
     ]
    },
    {
     "name": "stdout",
     "output_type": "stream",
     "text": [
      "=> result\n",
      "* total: 106\n",
      "* correct: 44\n",
      "* accuracy: 41.5%\n",
      "* error: 58.5%\n",
      "* macro_f1: 25.6%\n",
      "epoch [464/1000] batch [20/44] time 0.027 (0.054) data 0.000 (0.015) loss 0.5425 (0.7460) lr 1.9584e-03 eta 0:21:12\n",
      "epoch [464/1000] batch [40/44] time 0.041 (0.047) data 0.000 (0.008) loss 0.6611 (0.7257) lr 1.9584e-03 eta 0:18:20\n",
      "Evaluate on the *val* set\n"
     ]
    },
    {
     "name": "stderr",
     "output_type": "stream",
     "text": [
      "\r",
      "  0%|          | 0/2 [00:00<?, ?it/s]\r",
      " 50%|█████     | 1/2 [00:00<00:00,  3.29it/s]\r",
      "100%|██████████| 2/2 [00:00<00:00,  5.18it/s]\n"
     ]
    },
    {
     "name": "stdout",
     "output_type": "stream",
     "text": [
      "=> result\n",
      "* total: 106\n",
      "* correct: 42\n",
      "* accuracy: 39.6%\n",
      "* error: 60.4%\n",
      "* macro_f1: 22.4%\n",
      "epoch [465/1000] batch [20/44] time 0.043 (0.058) data 0.000 (0.016) loss 0.8076 (0.7145) lr 1.9530e-03 eta 0:22:38\n",
      "epoch [465/1000] batch [40/44] time 0.043 (0.049) data 0.000 (0.008) loss 1.1953 (0.8034) lr 1.9530e-03 eta 0:19:06\n",
      "Evaluate on the *val* set\n"
     ]
    },
    {
     "name": "stderr",
     "output_type": "stream",
     "text": [
      "\r",
      "  0%|          | 0/2 [00:00<?, ?it/s]\r",
      " 50%|█████     | 1/2 [00:00<00:00,  3.31it/s]\r",
      "100%|██████████| 2/2 [00:00<00:00,  5.21it/s]\n"
     ]
    },
    {
     "name": "stdout",
     "output_type": "stream",
     "text": [
      "=> result\n",
      "* total: 106\n",
      "* correct: 45\n",
      "* accuracy: 42.5%\n",
      "* error: 57.5%\n",
      "* macro_f1: 26.8%\n",
      "epoch [466/1000] batch [20/44] time 0.041 (0.057) data 0.000 (0.016) loss 0.8945 (0.6309) lr 1.9475e-03 eta 0:22:20\n",
      "epoch [466/1000] batch [40/44] time 0.041 (0.048) data 0.000 (0.008) loss 0.2527 (0.7286) lr 1.9475e-03 eta 0:18:58\n",
      "Evaluate on the *val* set\n"
     ]
    },
    {
     "name": "stderr",
     "output_type": "stream",
     "text": [
      "\r",
      "  0%|          | 0/2 [00:00<?, ?it/s]\r",
      " 50%|█████     | 1/2 [00:00<00:00,  3.21it/s]\r",
      "100%|██████████| 2/2 [00:00<00:00,  5.17it/s]\n"
     ]
    },
    {
     "name": "stdout",
     "output_type": "stream",
     "text": [
      "=> result\n",
      "* total: 106\n",
      "* correct: 43\n",
      "* accuracy: 40.6%\n",
      "* error: 59.4%\n",
      "* macro_f1: 24.0%\n",
      "epoch [467/1000] batch [20/44] time 0.043 (0.054) data 0.000 (0.014) loss 0.4387 (0.6658) lr 1.9420e-03 eta 0:21:02\n",
      "epoch [467/1000] batch [40/44] time 0.042 (0.047) data 0.000 (0.007) loss 0.4458 (0.7174) lr 1.9420e-03 eta 0:18:15\n",
      "Evaluate on the *val* set\n"
     ]
    },
    {
     "name": "stderr",
     "output_type": "stream",
     "text": [
      "\r",
      "  0%|          | 0/2 [00:00<?, ?it/s]\r",
      " 50%|█████     | 1/2 [00:00<00:00,  3.15it/s]\r",
      "100%|██████████| 2/2 [00:00<00:00,  5.16it/s]\n"
     ]
    },
    {
     "name": "stdout",
     "output_type": "stream",
     "text": [
      "=> result\n",
      "* total: 106\n",
      "* correct: 45\n",
      "* accuracy: 42.5%\n",
      "* error: 57.5%\n",
      "* macro_f1: 25.8%\n",
      "epoch [468/1000] batch [20/44] time 0.043 (0.056) data 0.000 (0.015) loss 0.1945 (0.7122) lr 1.9366e-03 eta 0:21:59\n",
      "epoch [468/1000] batch [40/44] time 0.041 (0.049) data 0.000 (0.008) loss 0.0265 (0.7598) lr 1.9366e-03 eta 0:18:56\n",
      "Evaluate on the *val* set\n"
     ]
    },
    {
     "name": "stderr",
     "output_type": "stream",
     "text": [
      "\r",
      "  0%|          | 0/2 [00:00<?, ?it/s]\r",
      " 50%|█████     | 1/2 [00:00<00:00,  3.21it/s]\r",
      "100%|██████████| 2/2 [00:00<00:00,  5.13it/s]\n"
     ]
    },
    {
     "name": "stdout",
     "output_type": "stream",
     "text": [
      "=> result\n",
      "* total: 106\n",
      "* correct: 48\n",
      "* accuracy: 45.3%\n",
      "* error: 54.7%\n",
      "* macro_f1: 26.3%\n",
      "epoch [469/1000] batch [20/44] time 0.039 (0.054) data 0.000 (0.014) loss 0.7510 (0.7176) lr 1.9311e-03 eta 0:21:13\n",
      "epoch [469/1000] batch [40/44] time 0.033 (0.047) data 0.000 (0.007) loss 0.4219 (0.7335) lr 1.9311e-03 eta 0:18:18\n",
      "Evaluate on the *val* set\n"
     ]
    },
    {
     "name": "stderr",
     "output_type": "stream",
     "text": [
      "\r",
      "  0%|          | 0/2 [00:00<?, ?it/s]\r",
      " 50%|█████     | 1/2 [00:00<00:00,  3.25it/s]\r",
      "100%|██████████| 2/2 [00:00<00:00,  5.19it/s]\n"
     ]
    },
    {
     "name": "stdout",
     "output_type": "stream",
     "text": [
      "=> result\n",
      "* total: 106\n",
      "* correct: 46\n",
      "* accuracy: 43.4%\n",
      "* error: 56.6%\n",
      "* macro_f1: 26.8%\n",
      "epoch [470/1000] batch [20/44] time 0.044 (0.056) data 0.000 (0.015) loss 0.5142 (0.6631) lr 1.9256e-03 eta 0:21:57\n",
      "epoch [470/1000] batch [40/44] time 0.045 (0.048) data 0.000 (0.007) loss 0.4080 (0.7433) lr 1.9256e-03 eta 0:18:46\n",
      "Evaluate on the *val* set\n"
     ]
    },
    {
     "name": "stderr",
     "output_type": "stream",
     "text": [
      "\r",
      "  0%|          | 0/2 [00:00<?, ?it/s]\r",
      " 50%|█████     | 1/2 [00:00<00:00,  3.31it/s]\r",
      "100%|██████████| 2/2 [00:00<00:00,  5.25it/s]\n"
     ]
    },
    {
     "name": "stdout",
     "output_type": "stream",
     "text": [
      "=> result\n",
      "* total: 106\n",
      "* correct: 46\n",
      "* accuracy: 43.4%\n",
      "* error: 56.6%\n",
      "* macro_f1: 27.5%\n",
      "epoch [471/1000] batch [20/44] time 0.038 (0.056) data 0.000 (0.015) loss 1.3652 (0.7442) lr 1.9202e-03 eta 0:21:43\n",
      "epoch [471/1000] batch [40/44] time 0.039 (0.048) data 0.000 (0.008) loss 0.5200 (0.7506) lr 1.9202e-03 eta 0:18:35\n",
      "Evaluate on the *val* set\n"
     ]
    },
    {
     "name": "stderr",
     "output_type": "stream",
     "text": [
      "\r",
      "  0%|          | 0/2 [00:00<?, ?it/s]\r",
      " 50%|█████     | 1/2 [00:00<00:00,  3.30it/s]\r",
      "100%|██████████| 2/2 [00:00<00:00,  5.12it/s]\n"
     ]
    },
    {
     "name": "stdout",
     "output_type": "stream",
     "text": [
      "=> result\n",
      "* total: 106\n",
      "* correct: 47\n",
      "* accuracy: 44.3%\n",
      "* error: 55.7%\n",
      "* macro_f1: 27.1%\n",
      "epoch [472/1000] batch [20/44] time 0.045 (0.056) data 0.000 (0.015) loss 0.4692 (0.6889) lr 1.9147e-03 eta 0:21:37\n",
      "epoch [472/1000] batch [40/44] time 0.041 (0.048) data 0.000 (0.008) loss 0.1993 (0.7150) lr 1.9147e-03 eta 0:18:31\n",
      "Evaluate on the *val* set\n"
     ]
    },
    {
     "name": "stderr",
     "output_type": "stream",
     "text": [
      "\r",
      "  0%|          | 0/2 [00:00<?, ?it/s]\r",
      " 50%|█████     | 1/2 [00:00<00:00,  3.30it/s]\r",
      "100%|██████████| 2/2 [00:00<00:00,  5.18it/s]\n"
     ]
    },
    {
     "name": "stdout",
     "output_type": "stream",
     "text": [
      "=> result\n",
      "* total: 106\n",
      "* correct: 45\n",
      "* accuracy: 42.5%\n",
      "* error: 57.5%\n",
      "* macro_f1: 25.4%\n",
      "epoch [473/1000] batch [20/44] time 0.038 (0.055) data 0.000 (0.014) loss 0.6411 (0.8118) lr 1.9092e-03 eta 0:21:22\n",
      "epoch [473/1000] batch [40/44] time 0.035 (0.048) data 0.000 (0.007) loss 0.1338 (0.7628) lr 1.9092e-03 eta 0:18:25\n",
      "Evaluate on the *val* set\n"
     ]
    },
    {
     "name": "stderr",
     "output_type": "stream",
     "text": [
      "\r",
      "  0%|          | 0/2 [00:00<?, ?it/s]\r",
      " 50%|█████     | 1/2 [00:00<00:00,  3.31it/s]\r",
      "100%|██████████| 2/2 [00:00<00:00,  5.24it/s]\n"
     ]
    },
    {
     "name": "stdout",
     "output_type": "stream",
     "text": [
      "=> result\n",
      "* total: 106\n",
      "* correct: 46\n",
      "* accuracy: 43.4%\n",
      "* error: 56.6%\n",
      "* macro_f1: 25.8%\n",
      "epoch [474/1000] batch [20/44] time 0.038 (0.055) data 0.000 (0.014) loss 1.0527 (0.6666) lr 1.9037e-03 eta 0:21:14\n",
      "epoch [474/1000] batch [40/44] time 0.032 (0.045) data 0.000 (0.007) loss 0.6929 (0.7317) lr 1.9037e-03 eta 0:17:31\n",
      "Evaluate on the *val* set\n"
     ]
    },
    {
     "name": "stderr",
     "output_type": "stream",
     "text": [
      "\r",
      "  0%|          | 0/2 [00:00<?, ?it/s]\r",
      " 50%|█████     | 1/2 [00:00<00:00,  3.26it/s]\r",
      "100%|██████████| 2/2 [00:00<00:00,  5.01it/s]\n"
     ]
    },
    {
     "name": "stdout",
     "output_type": "stream",
     "text": [
      "=> result\n",
      "* total: 106\n",
      "* correct: 43\n",
      "* accuracy: 40.6%\n",
      "* error: 59.4%\n",
      "* macro_f1: 24.9%\n",
      "epoch [475/1000] batch [20/44] time 0.042 (0.056) data 0.000 (0.015) loss 0.3838 (0.6518) lr 1.8983e-03 eta 0:21:37\n",
      "epoch [475/1000] batch [40/44] time 0.040 (0.048) data 0.000 (0.008) loss 0.4307 (0.6938) lr 1.8983e-03 eta 0:18:23\n",
      "Evaluate on the *val* set\n"
     ]
    },
    {
     "name": "stderr",
     "output_type": "stream",
     "text": [
      "\r",
      "  0%|          | 0/2 [00:00<?, ?it/s]\r",
      " 50%|█████     | 1/2 [00:00<00:00,  3.25it/s]\r",
      "100%|██████████| 2/2 [00:00<00:00,  5.11it/s]\n"
     ]
    },
    {
     "name": "stdout",
     "output_type": "stream",
     "text": [
      "=> result\n",
      "* total: 106\n",
      "* correct: 42\n",
      "* accuracy: 39.6%\n",
      "* error: 60.4%\n",
      "* macro_f1: 23.7%\n",
      "epoch [476/1000] batch [20/44] time 0.038 (0.058) data 0.000 (0.016) loss 1.0898 (0.7024) lr 1.8928e-03 eta 0:22:23\n",
      "epoch [476/1000] batch [40/44] time 0.041 (0.049) data 0.000 (0.008) loss 0.8193 (0.7466) lr 1.8928e-03 eta 0:18:54\n",
      "Evaluate on the *val* set\n"
     ]
    },
    {
     "name": "stderr",
     "output_type": "stream",
     "text": [
      "\r",
      "  0%|          | 0/2 [00:00<?, ?it/s]\r",
      " 50%|█████     | 1/2 [00:00<00:00,  3.28it/s]\r",
      "100%|██████████| 2/2 [00:00<00:00,  5.25it/s]\n"
     ]
    },
    {
     "name": "stdout",
     "output_type": "stream",
     "text": [
      "=> result\n",
      "* total: 106\n",
      "* correct: 45\n",
      "* accuracy: 42.5%\n",
      "* error: 57.5%\n",
      "* macro_f1: 24.9%\n",
      "epoch [477/1000] batch [20/44] time 0.037 (0.056) data 0.000 (0.015) loss 0.7109 (0.7177) lr 1.8873e-03 eta 0:21:40\n",
      "epoch [477/1000] batch [40/44] time 0.040 (0.048) data 0.000 (0.007) loss 0.5723 (0.7661) lr 1.8873e-03 eta 0:18:26\n",
      "Evaluate on the *val* set\n"
     ]
    },
    {
     "name": "stderr",
     "output_type": "stream",
     "text": [
      "\r",
      "  0%|          | 0/2 [00:00<?, ?it/s]\r",
      " 50%|█████     | 1/2 [00:00<00:00,  3.10it/s]\r",
      "100%|██████████| 2/2 [00:00<00:00,  4.94it/s]\n"
     ]
    },
    {
     "name": "stdout",
     "output_type": "stream",
     "text": [
      "=> result\n",
      "* total: 106\n",
      "* correct: 53\n",
      "* accuracy: 50.0%\n",
      "* error: 50.0%\n",
      "* macro_f1: 36.6%\n",
      "Checkpoint saved to output/replica/MaPLePromptScene/vit_b16_c2_ep200_batch4_ctx4_depth12_cross_datasets_-1shots/seed1/MultiModalPromptSceneLearner/model-best.pth.tar\n",
      "epoch [478/1000] batch [20/44] time 0.045 (0.055) data 0.000 (0.017) loss 0.6309 (0.7337) lr 1.8818e-03 eta 0:21:14\n",
      "epoch [478/1000] batch [40/44] time 0.041 (0.048) data 0.000 (0.009) loss 0.8721 (0.7277) lr 1.8818e-03 eta 0:18:13\n",
      "Evaluate on the *val* set\n"
     ]
    },
    {
     "name": "stderr",
     "output_type": "stream",
     "text": [
      "\r",
      "  0%|          | 0/2 [00:00<?, ?it/s]\r",
      " 50%|█████     | 1/2 [00:00<00:00,  3.34it/s]\r",
      "100%|██████████| 2/2 [00:00<00:00,  5.15it/s]\n"
     ]
    },
    {
     "name": "stdout",
     "output_type": "stream",
     "text": [
      "=> result\n",
      "* total: 106\n",
      "* correct: 44\n",
      "* accuracy: 41.5%\n",
      "* error: 58.5%\n",
      "* macro_f1: 25.5%\n",
      "epoch [479/1000] batch [20/44] time 0.037 (0.055) data 0.000 (0.014) loss 1.1094 (0.7427) lr 1.8763e-03 eta 0:21:02\n",
      "epoch [479/1000] batch [40/44] time 0.035 (0.048) data 0.000 (0.007) loss 0.5957 (0.7005) lr 1.8763e-03 eta 0:18:11\n",
      "Evaluate on the *val* set\n"
     ]
    },
    {
     "name": "stderr",
     "output_type": "stream",
     "text": [
      "\r",
      "  0%|          | 0/2 [00:00<?, ?it/s]\r",
      " 50%|█████     | 1/2 [00:00<00:00,  3.34it/s]\r",
      "100%|██████████| 2/2 [00:00<00:00,  5.36it/s]\n"
     ]
    },
    {
     "name": "stdout",
     "output_type": "stream",
     "text": [
      "=> result\n",
      "* total: 106\n",
      "* correct: 46\n",
      "* accuracy: 43.4%\n",
      "* error: 56.6%\n",
      "* macro_f1: 27.4%\n",
      "epoch [480/1000] batch [20/44] time 0.044 (0.055) data 0.000 (0.014) loss 1.3574 (0.7873) lr 1.8709e-03 eta 0:20:57\n",
      "epoch [480/1000] batch [40/44] time 0.040 (0.047) data 0.000 (0.007) loss 0.3909 (0.7517) lr 1.8709e-03 eta 0:18:05\n",
      "Evaluate on the *val* set\n"
     ]
    },
    {
     "name": "stderr",
     "output_type": "stream",
     "text": [
      "\r",
      "  0%|          | 0/2 [00:00<?, ?it/s]\r",
      " 50%|█████     | 1/2 [00:00<00:00,  3.27it/s]\r",
      "100%|██████████| 2/2 [00:00<00:00,  5.19it/s]\n"
     ]
    },
    {
     "name": "stdout",
     "output_type": "stream",
     "text": [
      "=> result\n",
      "* total: 106\n",
      "* correct: 44\n",
      "* accuracy: 41.5%\n",
      "* error: 58.5%\n",
      "* macro_f1: 24.0%\n",
      "epoch [481/1000] batch [20/44] time 0.039 (0.056) data 0.000 (0.014) loss 0.3323 (0.6963) lr 1.8654e-03 eta 0:21:18\n",
      "epoch [481/1000] batch [40/44] time 0.037 (0.048) data 0.000 (0.007) loss 0.5273 (0.7099) lr 1.8654e-03 eta 0:18:14\n",
      "Evaluate on the *val* set\n"
     ]
    },
    {
     "name": "stderr",
     "output_type": "stream",
     "text": [
      "\r",
      "  0%|          | 0/2 [00:00<?, ?it/s]\r",
      " 50%|█████     | 1/2 [00:00<00:00,  3.17it/s]\r",
      "100%|██████████| 2/2 [00:00<00:00,  5.08it/s]\n"
     ]
    },
    {
     "name": "stdout",
     "output_type": "stream",
     "text": [
      "=> result\n",
      "* total: 106\n",
      "* correct: 45\n",
      "* accuracy: 42.5%\n",
      "* error: 57.5%\n",
      "* macro_f1: 25.9%\n",
      "epoch [482/1000] batch [20/44] time 0.043 (0.054) data 0.000 (0.014) loss 1.1650 (0.7310) lr 1.8599e-03 eta 0:20:39\n",
      "epoch [482/1000] batch [40/44] time 0.041 (0.047) data 0.000 (0.007) loss 0.1855 (0.7038) lr 1.8599e-03 eta 0:17:54\n",
      "Evaluate on the *val* set\n"
     ]
    },
    {
     "name": "stderr",
     "output_type": "stream",
     "text": [
      "\r",
      "  0%|          | 0/2 [00:00<?, ?it/s]\r",
      " 50%|█████     | 1/2 [00:00<00:00,  3.27it/s]\r",
      "100%|██████████| 2/2 [00:00<00:00,  5.11it/s]\n"
     ]
    },
    {
     "name": "stdout",
     "output_type": "stream",
     "text": [
      "=> result\n",
      "* total: 106\n",
      "* correct: 44\n",
      "* accuracy: 41.5%\n",
      "* error: 58.5%\n",
      "* macro_f1: 27.3%\n",
      "epoch [483/1000] batch [20/44] time 0.043 (0.053) data 0.000 (0.014) loss 0.5464 (0.7967) lr 1.8544e-03 eta 0:20:11\n",
      "epoch [483/1000] batch [40/44] time 0.039 (0.047) data 0.000 (0.007) loss 1.0674 (0.7597) lr 1.8544e-03 eta 0:17:58\n",
      "Evaluate on the *val* set\n"
     ]
    },
    {
     "name": "stderr",
     "output_type": "stream",
     "text": [
      "\r",
      "  0%|          | 0/2 [00:00<?, ?it/s]\r",
      " 50%|█████     | 1/2 [00:00<00:00,  3.23it/s]\r",
      "100%|██████████| 2/2 [00:00<00:00,  5.26it/s]\n"
     ]
    },
    {
     "name": "stdout",
     "output_type": "stream",
     "text": [
      "=> result\n",
      "* total: 106\n",
      "* correct: 43\n",
      "* accuracy: 40.6%\n",
      "* error: 59.4%\n",
      "* macro_f1: 26.0%\n",
      "epoch [484/1000] batch [20/44] time 0.039 (0.054) data 0.000 (0.014) loss 0.4526 (0.7252) lr 1.8489e-03 eta 0:20:26\n",
      "epoch [484/1000] batch [40/44] time 0.040 (0.047) data 0.000 (0.007) loss 0.8213 (0.7277) lr 1.8489e-03 eta 0:17:47\n",
      "Evaluate on the *val* set\n"
     ]
    },
    {
     "name": "stderr",
     "output_type": "stream",
     "text": [
      "\r",
      "  0%|          | 0/2 [00:00<?, ?it/s]\r",
      " 50%|█████     | 1/2 [00:00<00:00,  3.30it/s]\r",
      "100%|██████████| 2/2 [00:00<00:00,  5.18it/s]\n"
     ]
    },
    {
     "name": "stdout",
     "output_type": "stream",
     "text": [
      "=> result\n",
      "* total: 106\n",
      "* correct: 44\n",
      "* accuracy: 41.5%\n",
      "* error: 58.5%\n",
      "* macro_f1: 24.6%\n",
      "epoch [485/1000] batch [20/44] time 0.040 (0.055) data 0.000 (0.014) loss 0.6851 (0.7822) lr 1.8434e-03 eta 0:20:53\n",
      "epoch [485/1000] batch [40/44] time 0.042 (0.047) data 0.000 (0.007) loss 0.6304 (0.7335) lr 1.8434e-03 eta 0:17:49\n",
      "Evaluate on the *val* set\n"
     ]
    },
    {
     "name": "stderr",
     "output_type": "stream",
     "text": [
      "\r",
      "  0%|          | 0/2 [00:00<?, ?it/s]\r",
      " 50%|█████     | 1/2 [00:00<00:00,  3.18it/s]\r",
      "100%|██████████| 2/2 [00:00<00:00,  5.07it/s]\n"
     ]
    },
    {
     "name": "stdout",
     "output_type": "stream",
     "text": [
      "=> result\n",
      "* total: 106\n",
      "* correct: 46\n",
      "* accuracy: 43.4%\n",
      "* error: 56.6%\n",
      "* macro_f1: 26.2%\n",
      "epoch [486/1000] batch [20/44] time 0.045 (0.057) data 0.000 (0.015) loss 0.5630 (0.7930) lr 1.8379e-03 eta 0:21:23\n",
      "epoch [486/1000] batch [40/44] time 0.038 (0.048) data 0.000 (0.007) loss 0.8013 (0.7148) lr 1.8379e-03 eta 0:18:11\n",
      "Evaluate on the *val* set\n"
     ]
    },
    {
     "name": "stderr",
     "output_type": "stream",
     "text": [
      "\r",
      "  0%|          | 0/2 [00:00<?, ?it/s]\r",
      " 50%|█████     | 1/2 [00:00<00:00,  3.21it/s]\r",
      "100%|██████████| 2/2 [00:00<00:00,  5.07it/s]\n"
     ]
    },
    {
     "name": "stdout",
     "output_type": "stream",
     "text": [
      "=> result\n",
      "* total: 106\n",
      "* correct: 46\n",
      "* accuracy: 43.4%\n",
      "* error: 56.6%\n",
      "* macro_f1: 28.3%\n",
      "epoch [487/1000] batch [20/44] time 0.045 (0.056) data 0.000 (0.015) loss 0.2397 (0.6300) lr 1.8324e-03 eta 0:21:07\n",
      "epoch [487/1000] batch [40/44] time 0.037 (0.048) data 0.000 (0.008) loss 1.6816 (0.6729) lr 1.8324e-03 eta 0:18:06\n",
      "Evaluate on the *val* set\n"
     ]
    },
    {
     "name": "stderr",
     "output_type": "stream",
     "text": [
      "\r",
      "  0%|          | 0/2 [00:00<?, ?it/s]\r",
      " 50%|█████     | 1/2 [00:00<00:00,  3.25it/s]\r",
      "100%|██████████| 2/2 [00:00<00:00,  5.17it/s]\n"
     ]
    },
    {
     "name": "stdout",
     "output_type": "stream",
     "text": [
      "=> result\n",
      "* total: 106\n",
      "* correct: 46\n",
      "* accuracy: 43.4%\n",
      "* error: 56.6%\n",
      "* macro_f1: 30.9%\n",
      "epoch [488/1000] batch [20/44] time 0.039 (0.055) data 0.000 (0.015) loss 1.5273 (0.7182) lr 1.8269e-03 eta 0:20:48\n",
      "epoch [488/1000] batch [40/44] time 0.041 (0.048) data 0.000 (0.008) loss 1.2852 (0.7301) lr 1.8269e-03 eta 0:17:54\n",
      "Evaluate on the *val* set\n"
     ]
    },
    {
     "name": "stderr",
     "output_type": "stream",
     "text": [
      "\r",
      "  0%|          | 0/2 [00:00<?, ?it/s]\r",
      " 50%|█████     | 1/2 [00:00<00:00,  3.32it/s]\r",
      "100%|██████████| 2/2 [00:00<00:00,  5.30it/s]\n"
     ]
    },
    {
     "name": "stdout",
     "output_type": "stream",
     "text": [
      "=> result\n",
      "* total: 106\n",
      "* correct: 43\n",
      "* accuracy: 40.6%\n",
      "* error: 59.4%\n",
      "* macro_f1: 24.3%\n",
      "epoch [489/1000] batch [20/44] time 0.044 (0.056) data 0.000 (0.014) loss 0.6372 (0.6805) lr 1.8215e-03 eta 0:20:55\n",
      "epoch [489/1000] batch [40/44] time 0.037 (0.047) data 0.000 (0.007) loss 0.3162 (0.7021) lr 1.8215e-03 eta 0:17:39\n",
      "Evaluate on the *val* set\n"
     ]
    },
    {
     "name": "stderr",
     "output_type": "stream",
     "text": [
      "\r",
      "  0%|          | 0/2 [00:00<?, ?it/s]\r",
      " 50%|█████     | 1/2 [00:00<00:00,  3.32it/s]\r",
      "100%|██████████| 2/2 [00:00<00:00,  5.25it/s]\n"
     ]
    },
    {
     "name": "stdout",
     "output_type": "stream",
     "text": [
      "=> result\n",
      "* total: 106\n",
      "* correct: 43\n",
      "* accuracy: 40.6%\n",
      "* error: 59.4%\n",
      "* macro_f1: 27.1%\n",
      "epoch [490/1000] batch [20/44] time 0.038 (0.055) data 0.000 (0.015) loss 0.9438 (0.7751) lr 1.8160e-03 eta 0:20:29\n",
      "epoch [490/1000] batch [40/44] time 0.037 (0.047) data 0.000 (0.007) loss 0.6377 (0.7441) lr 1.8160e-03 eta 0:17:42\n",
      "Evaluate on the *val* set\n"
     ]
    },
    {
     "name": "stderr",
     "output_type": "stream",
     "text": [
      "\r",
      "  0%|          | 0/2 [00:00<?, ?it/s]\r",
      " 50%|█████     | 1/2 [00:00<00:00,  3.28it/s]\r",
      "100%|██████████| 2/2 [00:00<00:00,  5.18it/s]\n"
     ]
    },
    {
     "name": "stdout",
     "output_type": "stream",
     "text": [
      "=> result\n",
      "* total: 106\n",
      "* correct: 46\n",
      "* accuracy: 43.4%\n",
      "* error: 56.6%\n",
      "* macro_f1: 25.9%\n",
      "epoch [491/1000] batch [20/44] time 0.043 (0.055) data 0.000 (0.014) loss 0.7251 (0.7104) lr 1.8105e-03 eta 0:20:33\n",
      "epoch [491/1000] batch [40/44] time 0.040 (0.048) data 0.000 (0.007) loss 0.5894 (0.7103) lr 1.8105e-03 eta 0:17:46\n",
      "Evaluate on the *val* set\n"
     ]
    },
    {
     "name": "stderr",
     "output_type": "stream",
     "text": [
      "\r",
      "  0%|          | 0/2 [00:00<?, ?it/s]\r",
      " 50%|█████     | 1/2 [00:00<00:00,  3.21it/s]\r",
      "100%|██████████| 2/2 [00:00<00:00,  5.10it/s]\n"
     ]
    },
    {
     "name": "stdout",
     "output_type": "stream",
     "text": [
      "=> result\n",
      "* total: 106\n",
      "* correct: 48\n",
      "* accuracy: 45.3%\n",
      "* error: 54.7%\n",
      "* macro_f1: 26.0%\n",
      "epoch [492/1000] batch [20/44] time 0.040 (0.056) data 0.000 (0.015) loss 0.7124 (0.6697) lr 1.8050e-03 eta 0:20:48\n",
      "epoch [492/1000] batch [40/44] time 0.040 (0.048) data 0.000 (0.008) loss 0.4456 (0.6851) lr 1.8050e-03 eta 0:17:50\n",
      "Evaluate on the *val* set\n"
     ]
    },
    {
     "name": "stderr",
     "output_type": "stream",
     "text": [
      "\r",
      "  0%|          | 0/2 [00:00<?, ?it/s]\r",
      " 50%|█████     | 1/2 [00:00<00:00,  3.27it/s]\r",
      "100%|██████████| 2/2 [00:00<00:00,  5.23it/s]\n"
     ]
    },
    {
     "name": "stdout",
     "output_type": "stream",
     "text": [
      "=> result\n",
      "* total: 106\n",
      "* correct: 43\n",
      "* accuracy: 40.6%\n",
      "* error: 59.4%\n",
      "* macro_f1: 24.1%\n",
      "epoch [493/1000] batch [20/44] time 0.034 (0.055) data 0.000 (0.015) loss 0.3628 (0.6058) lr 1.7995e-03 eta 0:20:32\n",
      "epoch [493/1000] batch [40/44] time 0.042 (0.048) data 0.000 (0.008) loss 1.4961 (0.7334) lr 1.7995e-03 eta 0:17:42\n",
      "Evaluate on the *val* set\n"
     ]
    },
    {
     "name": "stderr",
     "output_type": "stream",
     "text": [
      "\r",
      "  0%|          | 0/2 [00:00<?, ?it/s]\r",
      " 50%|█████     | 1/2 [00:00<00:00,  3.20it/s]\r",
      "100%|██████████| 2/2 [00:00<00:00,  5.08it/s]\n"
     ]
    },
    {
     "name": "stdout",
     "output_type": "stream",
     "text": [
      "=> result\n",
      "* total: 106\n",
      "* correct: 47\n",
      "* accuracy: 44.3%\n",
      "* error: 55.7%\n",
      "* macro_f1: 27.6%\n",
      "epoch [494/1000] batch [20/44] time 0.038 (0.055) data 0.000 (0.014) loss 0.6885 (0.7037) lr 1.7940e-03 eta 0:20:22\n",
      "epoch [494/1000] batch [40/44] time 0.036 (0.047) data 0.000 (0.007) loss 0.1671 (0.7325) lr 1.7940e-03 eta 0:17:35\n",
      "Evaluate on the *val* set\n"
     ]
    },
    {
     "name": "stderr",
     "output_type": "stream",
     "text": [
      "\r",
      "  0%|          | 0/2 [00:00<?, ?it/s]\r",
      " 50%|█████     | 1/2 [00:00<00:00,  3.30it/s]\r",
      "100%|██████████| 2/2 [00:00<00:00,  5.25it/s]\n"
     ]
    },
    {
     "name": "stdout",
     "output_type": "stream",
     "text": [
      "=> result\n",
      "* total: 106\n",
      "* correct: 47\n",
      "* accuracy: 44.3%\n",
      "* error: 55.7%\n",
      "* macro_f1: 28.9%\n",
      "epoch [495/1000] batch [20/44] time 0.042 (0.055) data 0.000 (0.014) loss 0.4766 (0.6417) lr 1.7885e-03 eta 0:20:34\n",
      "epoch [495/1000] batch [40/44] time 0.042 (0.048) data 0.000 (0.007) loss 0.5928 (0.7092) lr 1.7885e-03 eta 0:17:43\n",
      "Evaluate on the *val* set\n"
     ]
    },
    {
     "name": "stderr",
     "output_type": "stream",
     "text": [
      "\r",
      "  0%|          | 0/2 [00:00<?, ?it/s]\r",
      " 50%|█████     | 1/2 [00:00<00:00,  3.34it/s]\r",
      "100%|██████████| 2/2 [00:00<00:00,  5.28it/s]\n"
     ]
    },
    {
     "name": "stdout",
     "output_type": "stream",
     "text": [
      "=> result\n",
      "* total: 106\n",
      "* correct: 47\n",
      "* accuracy: 44.3%\n",
      "* error: 55.7%\n",
      "* macro_f1: 26.6%\n",
      "epoch [496/1000] batch [20/44] time 0.042 (0.057) data 0.000 (0.015) loss 0.5332 (0.6987) lr 1.7830e-03 eta 0:20:58\n",
      "epoch [496/1000] batch [40/44] time 0.038 (0.048) data 0.000 (0.007) loss 0.4214 (0.7284) lr 1.7830e-03 eta 0:17:54\n",
      "Evaluate on the *val* set\n"
     ]
    },
    {
     "name": "stderr",
     "output_type": "stream",
     "text": [
      "\r",
      "  0%|          | 0/2 [00:00<?, ?it/s]\r",
      " 50%|█████     | 1/2 [00:00<00:00,  3.31it/s]\r",
      "100%|██████████| 2/2 [00:00<00:00,  5.29it/s]\n"
     ]
    },
    {
     "name": "stdout",
     "output_type": "stream",
     "text": [
      "=> result\n",
      "* total: 106\n",
      "* correct: 44\n",
      "* accuracy: 41.5%\n",
      "* error: 58.5%\n",
      "* macro_f1: 26.9%\n",
      "epoch [497/1000] batch [20/44] time 0.037 (0.052) data 0.000 (0.014) loss 0.7651 (0.7024) lr 1.7775e-03 eta 0:19:22\n",
      "epoch [497/1000] batch [40/44] time 0.039 (0.046) data 0.000 (0.007) loss 0.7876 (0.7328) lr 1.7775e-03 eta 0:16:56\n",
      "Evaluate on the *val* set\n"
     ]
    },
    {
     "name": "stderr",
     "output_type": "stream",
     "text": [
      "\r",
      "  0%|          | 0/2 [00:00<?, ?it/s]\r",
      " 50%|█████     | 1/2 [00:00<00:00,  3.30it/s]\r",
      "100%|██████████| 2/2 [00:00<00:00,  5.25it/s]\n"
     ]
    },
    {
     "name": "stdout",
     "output_type": "stream",
     "text": [
      "=> result\n",
      "* total: 106\n",
      "* correct: 42\n",
      "* accuracy: 39.6%\n",
      "* error: 60.4%\n",
      "* macro_f1: 23.6%\n",
      "epoch [498/1000] batch [20/44] time 0.045 (0.056) data 0.000 (0.015) loss 0.8716 (0.6049) lr 1.7720e-03 eta 0:20:35\n",
      "epoch [498/1000] batch [40/44] time 0.041 (0.048) data 0.000 (0.008) loss 0.4739 (0.6705) lr 1.7720e-03 eta 0:17:48\n",
      "Evaluate on the *val* set\n"
     ]
    },
    {
     "name": "stderr",
     "output_type": "stream",
     "text": [
      "\r",
      "  0%|          | 0/2 [00:00<?, ?it/s]\r",
      " 50%|█████     | 1/2 [00:00<00:00,  3.31it/s]\r",
      "100%|██████████| 2/2 [00:00<00:00,  5.26it/s]\n"
     ]
    },
    {
     "name": "stdout",
     "output_type": "stream",
     "text": [
      "=> result\n",
      "* total: 106\n",
      "* correct: 44\n",
      "* accuracy: 41.5%\n",
      "* error: 58.5%\n",
      "* macro_f1: 24.4%\n",
      "epoch [499/1000] batch [20/44] time 0.040 (0.057) data 0.000 (0.016) loss 0.7974 (0.6994) lr 1.7665e-03 eta 0:20:49\n",
      "epoch [499/1000] batch [40/44] time 0.038 (0.049) data 0.000 (0.008) loss 1.0996 (0.7328) lr 1.7665e-03 eta 0:17:51\n",
      "Evaluate on the *val* set\n"
     ]
    },
    {
     "name": "stderr",
     "output_type": "stream",
     "text": [
      "\r",
      "  0%|          | 0/2 [00:00<?, ?it/s]\r",
      " 50%|█████     | 1/2 [00:00<00:00,  3.24it/s]\r",
      "100%|██████████| 2/2 [00:00<00:00,  5.16it/s]\n"
     ]
    },
    {
     "name": "stdout",
     "output_type": "stream",
     "text": [
      "=> result\n",
      "* total: 106\n",
      "* correct: 46\n",
      "* accuracy: 43.4%\n",
      "* error: 56.6%\n",
      "* macro_f1: 24.7%\n",
      "epoch [500/1000] batch [20/44] time 0.045 (0.056) data 0.000 (0.014) loss 0.7305 (0.6564) lr 1.7610e-03 eta 0:20:24\n",
      "epoch [500/1000] batch [40/44] time 0.041 (0.048) data 0.000 (0.007) loss 1.2588 (0.7224) lr 1.7610e-03 eta 0:17:36\n",
      "Evaluate on the *val* set\n"
     ]
    },
    {
     "name": "stderr",
     "output_type": "stream",
     "text": [
      "\r",
      "  0%|          | 0/2 [00:00<?, ?it/s]\r",
      " 50%|█████     | 1/2 [00:00<00:00,  3.20it/s]\r",
      "100%|██████████| 2/2 [00:00<00:00,  4.91it/s]\n"
     ]
    },
    {
     "name": "stdout",
     "output_type": "stream",
     "text": [
      "=> result\n",
      "* total: 106\n",
      "* correct: 45\n",
      "* accuracy: 42.5%\n",
      "* error: 57.5%\n",
      "* macro_f1: 24.5%\n",
      "epoch [501/1000] batch [20/44] time 0.042 (0.053) data 0.000 (0.016) loss 0.9487 (0.6788) lr 1.7555e-03 eta 0:19:30\n",
      "epoch [501/1000] batch [40/44] time 0.042 (0.046) data 0.000 (0.008) loss 0.3242 (0.7181) lr 1.7555e-03 eta 0:16:59\n",
      "Evaluate on the *val* set\n"
     ]
    },
    {
     "name": "stderr",
     "output_type": "stream",
     "text": [
      "\r",
      "  0%|          | 0/2 [00:00<?, ?it/s]\r",
      " 50%|█████     | 1/2 [00:00<00:00,  3.28it/s]\r",
      "100%|██████████| 2/2 [00:00<00:00,  5.05it/s]\n"
     ]
    },
    {
     "name": "stdout",
     "output_type": "stream",
     "text": [
      "=> result\n",
      "* total: 106\n",
      "* correct: 44\n",
      "* accuracy: 41.5%\n",
      "* error: 58.5%\n",
      "* macro_f1: 25.3%\n",
      "epoch [502/1000] batch [20/44] time 0.029 (0.052) data 0.000 (0.014) loss 1.1035 (0.7330) lr 1.7500e-03 eta 0:19:11\n",
      "epoch [502/1000] batch [40/44] time 0.038 (0.046) data 0.000 (0.007) loss 0.2683 (0.7304) lr 1.7500e-03 eta 0:16:46\n",
      "Evaluate on the *val* set\n"
     ]
    },
    {
     "name": "stderr",
     "output_type": "stream",
     "text": [
      "\r",
      "  0%|          | 0/2 [00:00<?, ?it/s]\r",
      " 50%|█████     | 1/2 [00:00<00:00,  3.35it/s]\r",
      "100%|██████████| 2/2 [00:00<00:00,  5.31it/s]\n"
     ]
    },
    {
     "name": "stdout",
     "output_type": "stream",
     "text": [
      "=> result\n",
      "* total: 106\n",
      "* correct: 49\n",
      "* accuracy: 46.2%\n",
      "* error: 53.8%\n",
      "* macro_f1: 27.3%\n",
      "epoch [503/1000] batch [20/44] time 0.044 (0.058) data 0.000 (0.016) loss 0.7441 (0.6826) lr 1.7445e-03 eta 0:21:08\n",
      "epoch [503/1000] batch [40/44] time 0.040 (0.049) data 0.000 (0.008) loss 0.2510 (0.7245) lr 1.7445e-03 eta 0:17:48\n",
      "Evaluate on the *val* set\n"
     ]
    },
    {
     "name": "stderr",
     "output_type": "stream",
     "text": [
      "\r",
      "  0%|          | 0/2 [00:00<?, ?it/s]\r",
      " 50%|█████     | 1/2 [00:00<00:00,  3.26it/s]\r",
      "100%|██████████| 2/2 [00:00<00:00,  4.99it/s]\n"
     ]
    },
    {
     "name": "stdout",
     "output_type": "stream",
     "text": [
      "=> result\n",
      "* total: 106\n",
      "* correct: 47\n",
      "* accuracy: 44.3%\n",
      "* error: 55.7%\n",
      "* macro_f1: 25.4%\n",
      "epoch [504/1000] batch [20/44] time 0.041 (0.054) data 0.000 (0.014) loss 0.7261 (0.5993) lr 1.7390e-03 eta 0:19:33\n",
      "epoch [504/1000] batch [40/44] time 0.038 (0.046) data 0.000 (0.007) loss 0.8057 (0.6815) lr 1.7390e-03 eta 0:16:42\n",
      "Evaluate on the *val* set\n"
     ]
    },
    {
     "name": "stderr",
     "output_type": "stream",
     "text": [
      "\r",
      "  0%|          | 0/2 [00:00<?, ?it/s]\r",
      " 50%|█████     | 1/2 [00:00<00:00,  3.33it/s]\r",
      "100%|██████████| 2/2 [00:00<00:00,  5.09it/s]\n"
     ]
    },
    {
     "name": "stdout",
     "output_type": "stream",
     "text": [
      "=> result\n",
      "* total: 106\n",
      "* correct: 45\n",
      "* accuracy: 42.5%\n",
      "* error: 57.5%\n",
      "* macro_f1: 25.2%\n",
      "epoch [505/1000] batch [20/44] time 0.037 (0.056) data 0.000 (0.015) loss 0.1664 (0.7147) lr 1.7335e-03 eta 0:20:27\n",
      "epoch [505/1000] batch [40/44] time 0.039 (0.048) data 0.000 (0.008) loss 1.3447 (0.7542) lr 1.7335e-03 eta 0:17:35\n",
      "Evaluate on the *val* set\n"
     ]
    },
    {
     "name": "stderr",
     "output_type": "stream",
     "text": [
      "\r",
      "  0%|          | 0/2 [00:00<?, ?it/s]\r",
      " 50%|█████     | 1/2 [00:00<00:00,  3.32it/s]\r",
      "100%|██████████| 2/2 [00:00<00:00,  5.26it/s]\n"
     ]
    },
    {
     "name": "stdout",
     "output_type": "stream",
     "text": [
      "=> result\n",
      "* total: 106\n",
      "* correct: 46\n",
      "* accuracy: 43.4%\n",
      "* error: 56.6%\n",
      "* macro_f1: 27.3%\n",
      "epoch [506/1000] batch [20/44] time 0.045 (0.054) data 0.000 (0.014) loss 0.6172 (0.7802) lr 1.7280e-03 eta 0:19:36\n",
      "epoch [506/1000] batch [40/44] time 0.040 (0.047) data 0.000 (0.007) loss 0.5664 (0.7512) lr 1.7280e-03 eta 0:16:53\n",
      "Evaluate on the *val* set\n"
     ]
    },
    {
     "name": "stderr",
     "output_type": "stream",
     "text": [
      "\r",
      "  0%|          | 0/2 [00:00<?, ?it/s]\r",
      " 50%|█████     | 1/2 [00:00<00:00,  3.17it/s]\r",
      "100%|██████████| 2/2 [00:00<00:00,  4.96it/s]\n"
     ]
    },
    {
     "name": "stdout",
     "output_type": "stream",
     "text": [
      "=> result\n",
      "* total: 106\n",
      "* correct: 43\n",
      "* accuracy: 40.6%\n",
      "* error: 59.4%\n",
      "* macro_f1: 23.7%\n",
      "epoch [507/1000] batch [20/44] time 0.044 (0.056) data 0.000 (0.014) loss 0.2063 (0.8065) lr 1.7225e-03 eta 0:20:12\n",
      "epoch [507/1000] batch [40/44] time 0.041 (0.048) data 0.000 (0.007) loss 1.0830 (0.7440) lr 1.7225e-03 eta 0:17:18\n",
      "Evaluate on the *val* set\n"
     ]
    },
    {
     "name": "stderr",
     "output_type": "stream",
     "text": [
      "\r",
      "  0%|          | 0/2 [00:00<?, ?it/s]\r",
      " 50%|█████     | 1/2 [00:00<00:00,  3.15it/s]\r",
      "100%|██████████| 2/2 [00:00<00:00,  5.05it/s]\n"
     ]
    },
    {
     "name": "stdout",
     "output_type": "stream",
     "text": [
      "=> result\n",
      "* total: 106\n",
      "* correct: 47\n",
      "* accuracy: 44.3%\n",
      "* error: 55.7%\n",
      "* macro_f1: 29.1%\n",
      "epoch [508/1000] batch [20/44] time 0.042 (0.059) data 0.000 (0.017) loss 0.2998 (0.5852) lr 1.7170e-03 eta 0:21:29\n",
      "epoch [508/1000] batch [40/44] time 0.043 (0.050) data 0.000 (0.009) loss 0.5361 (0.7162) lr 1.7170e-03 eta 0:17:52\n",
      "Evaluate on the *val* set\n"
     ]
    },
    {
     "name": "stderr",
     "output_type": "stream",
     "text": [
      "\r",
      "  0%|          | 0/2 [00:00<?, ?it/s]\r",
      " 50%|█████     | 1/2 [00:00<00:00,  3.33it/s]\r",
      "100%|██████████| 2/2 [00:00<00:00,  5.26it/s]\n"
     ]
    },
    {
     "name": "stdout",
     "output_type": "stream",
     "text": [
      "=> result\n",
      "* total: 106\n",
      "* correct: 49\n",
      "* accuracy: 46.2%\n",
      "* error: 53.8%\n",
      "* macro_f1: 29.5%\n",
      "epoch [509/1000] batch [20/44] time 0.044 (0.058) data 0.000 (0.017) loss 0.7212 (0.6703) lr 1.7115e-03 eta 0:20:50\n",
      "epoch [509/1000] batch [40/44] time 0.042 (0.049) data 0.000 (0.009) loss 0.2698 (0.7115) lr 1.7115e-03 eta 0:17:41\n",
      "Evaluate on the *val* set\n"
     ]
    },
    {
     "name": "stderr",
     "output_type": "stream",
     "text": [
      "\r",
      "  0%|          | 0/2 [00:00<?, ?it/s]\r",
      " 50%|█████     | 1/2 [00:00<00:00,  3.18it/s]\r",
      "100%|██████████| 2/2 [00:00<00:00,  4.87it/s]\n"
     ]
    },
    {
     "name": "stdout",
     "output_type": "stream",
     "text": [
      "=> result\n",
      "* total: 106\n",
      "* correct: 47\n",
      "* accuracy: 44.3%\n",
      "* error: 55.7%\n",
      "* macro_f1: 26.5%\n",
      "epoch [510/1000] batch [20/44] time 0.037 (0.055) data 0.000 (0.014) loss 0.4771 (0.6387) lr 1.7060e-03 eta 0:19:56\n",
      "epoch [510/1000] batch [40/44] time 0.043 (0.048) data 0.000 (0.007) loss 0.5381 (0.7338) lr 1.7060e-03 eta 0:17:11\n",
      "Evaluate on the *val* set\n"
     ]
    },
    {
     "name": "stderr",
     "output_type": "stream",
     "text": [
      "\r",
      "  0%|          | 0/2 [00:00<?, ?it/s]\r",
      " 50%|█████     | 1/2 [00:00<00:00,  3.29it/s]\r",
      "100%|██████████| 2/2 [00:00<00:00,  5.27it/s]\n"
     ]
    },
    {
     "name": "stdout",
     "output_type": "stream",
     "text": [
      "=> result\n",
      "* total: 106\n",
      "* correct: 48\n",
      "* accuracy: 45.3%\n",
      "* error: 54.7%\n",
      "* macro_f1: 30.9%\n",
      "epoch [511/1000] batch [20/44] time 0.038 (0.057) data 0.000 (0.016) loss 0.6680 (0.7633) lr 1.7005e-03 eta 0:20:28\n",
      "epoch [511/1000] batch [40/44] time 0.040 (0.049) data 0.000 (0.008) loss 0.5254 (0.7177) lr 1.7005e-03 eta 0:17:27\n",
      "Evaluate on the *val* set\n"
     ]
    },
    {
     "name": "stderr",
     "output_type": "stream",
     "text": [
      "\r",
      "  0%|          | 0/2 [00:00<?, ?it/s]\r",
      " 50%|█████     | 1/2 [00:00<00:00,  3.23it/s]\r",
      "100%|██████████| 2/2 [00:00<00:00,  5.17it/s]\n"
     ]
    },
    {
     "name": "stdout",
     "output_type": "stream",
     "text": [
      "=> result\n",
      "* total: 106\n",
      "* correct: 48\n",
      "* accuracy: 45.3%\n",
      "* error: 54.7%\n",
      "* macro_f1: 28.6%\n",
      "epoch [512/1000] batch [20/44] time 0.038 (0.057) data 0.000 (0.015) loss 0.7700 (0.6035) lr 1.6950e-03 eta 0:20:30\n",
      "epoch [512/1000] batch [40/44] time 0.042 (0.049) data 0.000 (0.008) loss 1.2695 (0.7453) lr 1.6950e-03 eta 0:17:30\n",
      "Evaluate on the *val* set\n"
     ]
    },
    {
     "name": "stderr",
     "output_type": "stream",
     "text": [
      "\r",
      "  0%|          | 0/2 [00:00<?, ?it/s]\r",
      " 50%|█████     | 1/2 [00:00<00:00,  3.27it/s]\r",
      "100%|██████████| 2/2 [00:00<00:00,  5.21it/s]\n"
     ]
    },
    {
     "name": "stdout",
     "output_type": "stream",
     "text": [
      "=> result\n",
      "* total: 106\n",
      "* correct: 45\n",
      "* accuracy: 42.5%\n",
      "* error: 57.5%\n",
      "* macro_f1: 26.5%\n",
      "epoch [513/1000] batch [20/44] time 0.040 (0.060) data 0.000 (0.017) loss 0.7837 (0.6265) lr 1.6895e-03 eta 0:21:17\n",
      "epoch [513/1000] batch [40/44] time 0.041 (0.050) data 0.000 (0.009) loss 0.3611 (0.6843) lr 1.6895e-03 eta 0:17:43\n",
      "Evaluate on the *val* set\n"
     ]
    },
    {
     "name": "stderr",
     "output_type": "stream",
     "text": [
      "\r",
      "  0%|          | 0/2 [00:00<?, ?it/s]\r",
      " 50%|█████     | 1/2 [00:00<00:00,  3.25it/s]\r",
      "100%|██████████| 2/2 [00:00<00:00,  4.98it/s]\n"
     ]
    },
    {
     "name": "stdout",
     "output_type": "stream",
     "text": [
      "=> result\n",
      "* total: 106\n",
      "* correct: 45\n",
      "* accuracy: 42.5%\n",
      "* error: 57.5%\n",
      "* macro_f1: 25.2%\n",
      "epoch [514/1000] batch [20/44] time 0.036 (0.055) data 0.000 (0.015) loss 0.7832 (0.6742) lr 1.6840e-03 eta 0:19:28\n",
      "epoch [514/1000] batch [40/44] time 0.041 (0.047) data 0.000 (0.007) loss 0.5991 (0.7230) lr 1.6840e-03 eta 0:16:53\n",
      "Evaluate on the *val* set\n"
     ]
    },
    {
     "name": "stderr",
     "output_type": "stream",
     "text": [
      "\r",
      "  0%|          | 0/2 [00:00<?, ?it/s]\r",
      " 50%|█████     | 1/2 [00:00<00:00,  3.23it/s]\r",
      "100%|██████████| 2/2 [00:00<00:00,  5.19it/s]\n"
     ]
    },
    {
     "name": "stdout",
     "output_type": "stream",
     "text": [
      "=> result\n",
      "* total: 106\n",
      "* correct: 48\n",
      "* accuracy: 45.3%\n",
      "* error: 54.7%\n",
      "* macro_f1: 27.5%\n",
      "epoch [515/1000] batch [20/44] time 0.036 (0.055) data 0.000 (0.014) loss 0.9517 (0.7220) lr 1.6785e-03 eta 0:19:41\n",
      "epoch [515/1000] batch [40/44] time 0.037 (0.047) data 0.000 (0.007) loss 0.5439 (0.7044) lr 1.6785e-03 eta 0:16:53\n",
      "Evaluate on the *val* set\n"
     ]
    },
    {
     "name": "stderr",
     "output_type": "stream",
     "text": [
      "\r",
      "  0%|          | 0/2 [00:00<?, ?it/s]\r",
      " 50%|█████     | 1/2 [00:00<00:00,  3.30it/s]\r",
      "100%|██████████| 2/2 [00:00<00:00,  5.21it/s]\n"
     ]
    },
    {
     "name": "stdout",
     "output_type": "stream",
     "text": [
      "=> result\n",
      "* total: 106\n",
      "* correct: 45\n",
      "* accuracy: 42.5%\n",
      "* error: 57.5%\n",
      "* macro_f1: 24.7%\n",
      "epoch [516/1000] batch [20/44] time 0.044 (0.054) data 0.000 (0.014) loss 0.3591 (0.5539) lr 1.6731e-03 eta 0:19:15\n",
      "epoch [516/1000] batch [40/44] time 0.043 (0.047) data 0.000 (0.007) loss 0.1646 (0.6996) lr 1.6731e-03 eta 0:16:36\n",
      "Evaluate on the *val* set\n"
     ]
    },
    {
     "name": "stderr",
     "output_type": "stream",
     "text": [
      "\r",
      "  0%|          | 0/2 [00:00<?, ?it/s]\r",
      " 50%|█████     | 1/2 [00:00<00:00,  3.31it/s]\r",
      "100%|██████████| 2/2 [00:00<00:00,  5.04it/s]\n"
     ]
    },
    {
     "name": "stdout",
     "output_type": "stream",
     "text": [
      "=> result\n",
      "* total: 106\n",
      "* correct: 47\n",
      "* accuracy: 44.3%\n",
      "* error: 55.7%\n",
      "* macro_f1: 26.4%\n",
      "epoch [517/1000] batch [20/44] time 0.040 (0.055) data 0.000 (0.015) loss 0.9453 (0.7803) lr 1.6676e-03 eta 0:19:40\n",
      "epoch [517/1000] batch [40/44] time 0.040 (0.048) data 0.000 (0.007) loss 0.5190 (0.7449) lr 1.6676e-03 eta 0:16:58\n",
      "Evaluate on the *val* set\n"
     ]
    },
    {
     "name": "stderr",
     "output_type": "stream",
     "text": [
      "\r",
      "  0%|          | 0/2 [00:00<?, ?it/s]\r",
      " 50%|█████     | 1/2 [00:00<00:00,  3.38it/s]\r",
      "100%|██████████| 2/2 [00:00<00:00,  5.30it/s]\n"
     ]
    },
    {
     "name": "stdout",
     "output_type": "stream",
     "text": [
      "=> result\n",
      "* total: 106\n",
      "* correct: 43\n",
      "* accuracy: 40.6%\n",
      "* error: 59.4%\n",
      "* macro_f1: 26.6%\n",
      "epoch [518/1000] batch [20/44] time 0.040 (0.056) data 0.000 (0.015) loss 0.4268 (0.6458) lr 1.6621e-03 eta 0:19:39\n",
      "epoch [518/1000] batch [40/44] time 0.039 (0.048) data 0.000 (0.008) loss 1.3633 (0.7212) lr 1.6621e-03 eta 0:16:54\n",
      "Evaluate on the *val* set\n"
     ]
    },
    {
     "name": "stderr",
     "output_type": "stream",
     "text": [
      "\r",
      "  0%|          | 0/2 [00:00<?, ?it/s]\r",
      " 50%|█████     | 1/2 [00:00<00:00,  3.33it/s]\r",
      "100%|██████████| 2/2 [00:00<00:00,  5.29it/s]\n"
     ]
    },
    {
     "name": "stdout",
     "output_type": "stream",
     "text": [
      "=> result\n",
      "* total: 106\n",
      "* correct: 44\n",
      "* accuracy: 41.5%\n",
      "* error: 58.5%\n",
      "* macro_f1: 24.1%\n",
      "epoch [519/1000] batch [20/44] time 0.040 (0.054) data 0.000 (0.015) loss 0.7280 (0.7606) lr 1.6566e-03 eta 0:19:13\n",
      "epoch [519/1000] batch [40/44] time 0.037 (0.048) data 0.000 (0.008) loss 1.4795 (0.7186) lr 1.6566e-03 eta 0:16:48\n",
      "Evaluate on the *val* set\n"
     ]
    },
    {
     "name": "stderr",
     "output_type": "stream",
     "text": [
      "\r",
      "  0%|          | 0/2 [00:00<?, ?it/s]\r",
      " 50%|█████     | 1/2 [00:00<00:00,  3.34it/s]\r",
      "100%|██████████| 2/2 [00:00<00:00,  5.22it/s]\n"
     ]
    },
    {
     "name": "stdout",
     "output_type": "stream",
     "text": [
      "=> result\n",
      "* total: 106\n",
      "* correct: 44\n",
      "* accuracy: 41.5%\n",
      "* error: 58.5%\n",
      "* macro_f1: 25.7%\n",
      "epoch [520/1000] batch [20/44] time 0.041 (0.059) data 0.000 (0.017) loss 1.1621 (0.7195) lr 1.6511e-03 eta 0:20:37\n",
      "epoch [520/1000] batch [40/44] time 0.038 (0.049) data 0.000 (0.009) loss 0.9863 (0.7211) lr 1.6511e-03 eta 0:17:19\n",
      "Evaluate on the *val* set\n"
     ]
    },
    {
     "name": "stderr",
     "output_type": "stream",
     "text": [
      "\r",
      "  0%|          | 0/2 [00:00<?, ?it/s]\r",
      " 50%|█████     | 1/2 [00:00<00:00,  3.20it/s]\r",
      "100%|██████████| 2/2 [00:00<00:00,  5.08it/s]\n"
     ]
    },
    {
     "name": "stdout",
     "output_type": "stream",
     "text": [
      "=> result\n",
      "* total: 106\n",
      "* correct: 48\n",
      "* accuracy: 45.3%\n",
      "* error: 54.7%\n",
      "* macro_f1: 29.1%\n",
      "epoch [521/1000] batch [20/44] time 0.037 (0.057) data 0.000 (0.015) loss 0.5884 (0.6443) lr 1.6456e-03 eta 0:19:56\n",
      "epoch [521/1000] batch [40/44] time 0.033 (0.048) data 0.000 (0.007) loss 1.7393 (0.7281) lr 1.6456e-03 eta 0:16:44\n",
      "Evaluate on the *val* set\n"
     ]
    },
    {
     "name": "stderr",
     "output_type": "stream",
     "text": [
      "\r",
      "  0%|          | 0/2 [00:00<?, ?it/s]\r",
      " 50%|█████     | 1/2 [00:00<00:00,  3.18it/s]\r",
      "100%|██████████| 2/2 [00:00<00:00,  5.12it/s]\n"
     ]
    },
    {
     "name": "stdout",
     "output_type": "stream",
     "text": [
      "=> result\n",
      "* total: 106\n",
      "* correct: 45\n",
      "* accuracy: 42.5%\n",
      "* error: 57.5%\n",
      "* macro_f1: 26.6%\n",
      "epoch [522/1000] batch [20/44] time 0.036 (0.055) data 0.000 (0.014) loss 0.6567 (0.6222) lr 1.6401e-03 eta 0:19:16\n",
      "epoch [522/1000] batch [40/44] time 0.040 (0.048) data 0.000 (0.007) loss 0.6216 (0.7401) lr 1.6401e-03 eta 0:16:43\n",
      "Evaluate on the *val* set\n"
     ]
    },
    {
     "name": "stderr",
     "output_type": "stream",
     "text": [
      "\r",
      "  0%|          | 0/2 [00:00<?, ?it/s]\r",
      " 50%|█████     | 1/2 [00:00<00:00,  3.33it/s]\r",
      "100%|██████████| 2/2 [00:00<00:00,  5.24it/s]\n"
     ]
    },
    {
     "name": "stdout",
     "output_type": "stream",
     "text": [
      "=> result\n",
      "* total: 106\n",
      "* correct: 45\n",
      "* accuracy: 42.5%\n",
      "* error: 57.5%\n",
      "* macro_f1: 25.2%\n",
      "epoch [523/1000] batch [20/44] time 0.039 (0.055) data 0.000 (0.014) loss 0.9014 (0.6298) lr 1.6346e-03 eta 0:19:12\n",
      "epoch [523/1000] batch [40/44] time 0.041 (0.047) data 0.000 (0.007) loss 0.9106 (0.7050) lr 1.6346e-03 eta 0:16:32\n",
      "Evaluate on the *val* set\n"
     ]
    },
    {
     "name": "stderr",
     "output_type": "stream",
     "text": [
      "\r",
      "  0%|          | 0/2 [00:00<?, ?it/s]\r",
      " 50%|█████     | 1/2 [00:00<00:00,  3.29it/s]\r",
      "100%|██████████| 2/2 [00:00<00:00,  5.21it/s]\n"
     ]
    },
    {
     "name": "stdout",
     "output_type": "stream",
     "text": [
      "=> result\n",
      "* total: 106\n",
      "* correct: 45\n",
      "* accuracy: 42.5%\n",
      "* error: 57.5%\n",
      "* macro_f1: 25.6%\n",
      "epoch [524/1000] batch [20/44] time 0.041 (0.057) data 0.000 (0.015) loss 0.5322 (0.7146) lr 1.6291e-03 eta 0:19:52\n",
      "epoch [524/1000] batch [40/44] time 0.042 (0.049) data 0.000 (0.008) loss 0.2996 (0.7088) lr 1.6291e-03 eta 0:16:56\n",
      "Evaluate on the *val* set\n"
     ]
    },
    {
     "name": "stderr",
     "output_type": "stream",
     "text": [
      "\r",
      "  0%|          | 0/2 [00:00<?, ?it/s]\r",
      " 50%|█████     | 1/2 [00:00<00:00,  3.20it/s]\r",
      "100%|██████████| 2/2 [00:00<00:00,  5.07it/s]\n"
     ]
    },
    {
     "name": "stdout",
     "output_type": "stream",
     "text": [
      "=> result\n",
      "* total: 106\n",
      "* correct: 45\n",
      "* accuracy: 42.5%\n",
      "* error: 57.5%\n",
      "* macro_f1: 23.9%\n",
      "epoch [525/1000] batch [20/44] time 0.041 (0.055) data 0.000 (0.014) loss 0.4521 (0.7595) lr 1.6237e-03 eta 0:19:10\n",
      "epoch [525/1000] batch [40/44] time 0.037 (0.047) data 0.000 (0.007) loss 0.4153 (0.6874) lr 1.6237e-03 eta 0:16:25\n",
      "Evaluate on the *val* set\n"
     ]
    },
    {
     "name": "stderr",
     "output_type": "stream",
     "text": [
      "\r",
      "  0%|          | 0/2 [00:00<?, ?it/s]\r",
      " 50%|█████     | 1/2 [00:00<00:00,  3.31it/s]\r",
      "100%|██████████| 2/2 [00:00<00:00,  5.26it/s]\n"
     ]
    },
    {
     "name": "stdout",
     "output_type": "stream",
     "text": [
      "=> result\n",
      "* total: 106\n",
      "* correct: 46\n",
      "* accuracy: 43.4%\n",
      "* error: 56.6%\n",
      "* macro_f1: 25.9%\n",
      "epoch [526/1000] batch [20/44] time 0.042 (0.057) data 0.000 (0.016) loss 1.2510 (0.6291) lr 1.6182e-03 eta 0:19:43\n",
      "epoch [526/1000] batch [40/44] time 0.042 (0.048) data 0.000 (0.008) loss 1.2920 (0.6905) lr 1.6182e-03 eta 0:16:48\n",
      "Evaluate on the *val* set\n"
     ]
    },
    {
     "name": "stderr",
     "output_type": "stream",
     "text": [
      "\r",
      "  0%|          | 0/2 [00:00<?, ?it/s]\r",
      " 50%|█████     | 1/2 [00:00<00:00,  3.11it/s]\r",
      "100%|██████████| 2/2 [00:00<00:00,  4.98it/s]\n"
     ]
    },
    {
     "name": "stdout",
     "output_type": "stream",
     "text": [
      "=> result\n",
      "* total: 106\n",
      "* correct: 44\n",
      "* accuracy: 41.5%\n",
      "* error: 58.5%\n",
      "* macro_f1: 25.8%\n",
      "epoch [527/1000] batch [20/44] time 0.040 (0.054) data 0.000 (0.014) loss 0.5859 (0.6180) lr 1.6127e-03 eta 0:18:51\n",
      "epoch [527/1000] batch [40/44] time 0.038 (0.047) data 0.000 (0.007) loss 0.9761 (0.6884) lr 1.6127e-03 eta 0:16:20\n",
      "Evaluate on the *val* set\n"
     ]
    },
    {
     "name": "stderr",
     "output_type": "stream",
     "text": [
      "\r",
      "  0%|          | 0/2 [00:00<?, ?it/s]\r",
      " 50%|█████     | 1/2 [00:00<00:00,  3.29it/s]\r",
      "100%|██████████| 2/2 [00:00<00:00,  5.18it/s]\n"
     ]
    },
    {
     "name": "stdout",
     "output_type": "stream",
     "text": [
      "=> result\n",
      "* total: 106\n",
      "* correct: 45\n",
      "* accuracy: 42.5%\n",
      "* error: 57.5%\n",
      "* macro_f1: 24.9%\n",
      "epoch [528/1000] batch [20/44] time 0.038 (0.056) data 0.000 (0.015) loss 0.7549 (0.6226) lr 1.6072e-03 eta 0:19:21\n",
      "epoch [528/1000] batch [40/44] time 0.035 (0.048) data 0.000 (0.007) loss 0.3892 (0.6942) lr 1.6072e-03 eta 0:16:36\n",
      "Evaluate on the *val* set\n"
     ]
    },
    {
     "name": "stderr",
     "output_type": "stream",
     "text": [
      "\r",
      "  0%|          | 0/2 [00:00<?, ?it/s]\r",
      " 50%|█████     | 1/2 [00:00<00:00,  3.13it/s]\r",
      "100%|██████████| 2/2 [00:00<00:00,  4.97it/s]\n"
     ]
    },
    {
     "name": "stdout",
     "output_type": "stream",
     "text": [
      "=> result\n",
      "* total: 106\n",
      "* correct: 46\n",
      "* accuracy: 43.4%\n",
      "* error: 56.6%\n",
      "* macro_f1: 26.9%\n",
      "epoch [529/1000] batch [20/44] time 0.041 (0.056) data 0.000 (0.015) loss 0.7803 (0.6328) lr 1.6017e-03 eta 0:19:24\n",
      "epoch [529/1000] batch [40/44] time 0.038 (0.048) data 0.000 (0.007) loss 0.2590 (0.7047) lr 1.6017e-03 eta 0:16:38\n",
      "Evaluate on the *val* set\n"
     ]
    },
    {
     "name": "stderr",
     "output_type": "stream",
     "text": [
      "\r",
      "  0%|          | 0/2 [00:00<?, ?it/s]\r",
      " 50%|█████     | 1/2 [00:00<00:00,  3.19it/s]\r",
      "100%|██████████| 2/2 [00:00<00:00,  5.12it/s]\n"
     ]
    },
    {
     "name": "stdout",
     "output_type": "stream",
     "text": [
      "=> result\n",
      "* total: 106\n",
      "* correct: 42\n",
      "* accuracy: 39.6%\n",
      "* error: 60.4%\n",
      "* macro_f1: 25.8%\n",
      "epoch [530/1000] batch [20/44] time 0.042 (0.055) data 0.000 (0.014) loss 0.7710 (0.7000) lr 1.5963e-03 eta 0:18:48\n",
      "epoch [530/1000] batch [40/44] time 0.041 (0.048) data 0.000 (0.007) loss 1.4062 (0.7118) lr 1.5963e-03 eta 0:16:24\n",
      "Evaluate on the *val* set\n"
     ]
    },
    {
     "name": "stderr",
     "output_type": "stream",
     "text": [
      "\r",
      "  0%|          | 0/2 [00:00<?, ?it/s]\r",
      " 50%|█████     | 1/2 [00:00<00:00,  3.31it/s]\r",
      "100%|██████████| 2/2 [00:00<00:00,  5.24it/s]\n"
     ]
    },
    {
     "name": "stdout",
     "output_type": "stream",
     "text": [
      "=> result\n",
      "* total: 106\n",
      "* correct: 44\n",
      "* accuracy: 41.5%\n",
      "* error: 58.5%\n",
      "* macro_f1: 22.3%\n",
      "epoch [531/1000] batch [20/44] time 0.043 (0.056) data 0.000 (0.015) loss 0.5762 (0.5861) lr 1.5908e-03 eta 0:19:11\n",
      "epoch [531/1000] batch [40/44] time 0.036 (0.047) data 0.000 (0.007) loss 0.5103 (0.6774) lr 1.5908e-03 eta 0:16:18\n",
      "Evaluate on the *val* set\n"
     ]
    },
    {
     "name": "stderr",
     "output_type": "stream",
     "text": [
      "\r",
      "  0%|          | 0/2 [00:00<?, ?it/s]\r",
      " 50%|█████     | 1/2 [00:00<00:00,  3.23it/s]\r",
      "100%|██████████| 2/2 [00:00<00:00,  4.89it/s]\n"
     ]
    },
    {
     "name": "stdout",
     "output_type": "stream",
     "text": [
      "=> result\n",
      "* total: 106\n",
      "* correct: 47\n",
      "* accuracy: 44.3%\n",
      "* error: 55.7%\n",
      "* macro_f1: 29.6%\n",
      "epoch [532/1000] batch [20/44] time 0.037 (0.055) data 0.000 (0.014) loss 0.6353 (0.5815) lr 1.5853e-03 eta 0:18:56\n",
      "epoch [532/1000] batch [40/44] time 0.041 (0.048) data 0.000 (0.007) loss 0.4490 (0.7401) lr 1.5853e-03 eta 0:16:27\n",
      "Evaluate on the *val* set\n"
     ]
    },
    {
     "name": "stderr",
     "output_type": "stream",
     "text": [
      "\r",
      "  0%|          | 0/2 [00:00<?, ?it/s]\r",
      " 50%|█████     | 1/2 [00:00<00:00,  3.29it/s]\r",
      "100%|██████████| 2/2 [00:00<00:00,  5.28it/s]\n"
     ]
    },
    {
     "name": "stdout",
     "output_type": "stream",
     "text": [
      "=> result\n",
      "* total: 106\n",
      "* correct: 42\n",
      "* accuracy: 39.6%\n",
      "* error: 60.4%\n",
      "* macro_f1: 23.4%\n",
      "epoch [533/1000] batch [20/44] time 0.040 (0.058) data 0.000 (0.016) loss 0.3779 (0.7500) lr 1.5798e-03 eta 0:19:52\n",
      "epoch [533/1000] batch [40/44] time 0.043 (0.049) data 0.000 (0.008) loss 1.2012 (0.7394) lr 1.5798e-03 eta 0:16:48\n",
      "Evaluate on the *val* set\n"
     ]
    },
    {
     "name": "stderr",
     "output_type": "stream",
     "text": [
      "\r",
      "  0%|          | 0/2 [00:00<?, ?it/s]\r",
      " 50%|█████     | 1/2 [00:00<00:00,  3.29it/s]\r",
      "100%|██████████| 2/2 [00:00<00:00,  5.21it/s]\n"
     ]
    },
    {
     "name": "stdout",
     "output_type": "stream",
     "text": [
      "=> result\n",
      "* total: 106\n",
      "* correct: 45\n",
      "* accuracy: 42.5%\n",
      "* error: 57.5%\n",
      "* macro_f1: 25.2%\n",
      "epoch [534/1000] batch [20/44] time 0.041 (0.055) data 0.000 (0.014) loss 0.6602 (0.6127) lr 1.5744e-03 eta 0:18:47\n",
      "epoch [534/1000] batch [40/44] time 0.041 (0.048) data 0.000 (0.007) loss 1.2695 (0.6803) lr 1.5744e-03 eta 0:16:20\n",
      "Evaluate on the *val* set\n"
     ]
    },
    {
     "name": "stderr",
     "output_type": "stream",
     "text": [
      "\r",
      "  0%|          | 0/2 [00:00<?, ?it/s]\r",
      " 50%|█████     | 1/2 [00:00<00:00,  3.24it/s]\r",
      "100%|██████████| 2/2 [00:00<00:00,  5.17it/s]\n"
     ]
    },
    {
     "name": "stdout",
     "output_type": "stream",
     "text": [
      "=> result\n",
      "* total: 106\n",
      "* correct: 46\n",
      "* accuracy: 43.4%\n",
      "* error: 56.6%\n",
      "* macro_f1: 25.6%\n",
      "epoch [535/1000] batch [20/44] time 0.037 (0.057) data 0.000 (0.016) loss 0.2129 (0.6541) lr 1.5689e-03 eta 0:19:23\n",
      "epoch [535/1000] batch [40/44] time 0.037 (0.048) data 0.000 (0.008) loss 0.9590 (0.7018) lr 1.5689e-03 eta 0:16:27\n",
      "Evaluate on the *val* set\n"
     ]
    },
    {
     "name": "stderr",
     "output_type": "stream",
     "text": [
      "\r",
      "  0%|          | 0/2 [00:00<?, ?it/s]\r",
      " 50%|█████     | 1/2 [00:00<00:00,  3.22it/s]\r",
      "100%|██████████| 2/2 [00:00<00:00,  5.10it/s]\n"
     ]
    },
    {
     "name": "stdout",
     "output_type": "stream",
     "text": [
      "=> result\n",
      "* total: 106\n",
      "* correct: 44\n",
      "* accuracy: 41.5%\n",
      "* error: 58.5%\n",
      "* macro_f1: 23.7%\n",
      "epoch [536/1000] batch [20/44] time 0.040 (0.059) data 0.000 (0.019) loss 0.6177 (0.6434) lr 1.5634e-03 eta 0:20:16\n",
      "epoch [536/1000] batch [40/44] time 0.042 (0.050) data 0.000 (0.010) loss 0.7554 (0.6779) lr 1.5634e-03 eta 0:17:01\n",
      "Evaluate on the *val* set\n"
     ]
    },
    {
     "name": "stderr",
     "output_type": "stream",
     "text": [
      "\r",
      "  0%|          | 0/2 [00:00<?, ?it/s]\r",
      " 50%|█████     | 1/2 [00:00<00:00,  3.21it/s]\r",
      "100%|██████████| 2/2 [00:00<00:00,  5.12it/s]\n"
     ]
    },
    {
     "name": "stdout",
     "output_type": "stream",
     "text": [
      "=> result\n",
      "* total: 106\n",
      "* correct: 44\n",
      "* accuracy: 41.5%\n",
      "* error: 58.5%\n",
      "* macro_f1: 24.5%\n",
      "epoch [537/1000] batch [20/44] time 0.037 (0.055) data 0.000 (0.015) loss 0.7939 (0.6535) lr 1.5580e-03 eta 0:18:31\n",
      "epoch [537/1000] batch [40/44] time 0.042 (0.047) data 0.000 (0.007) loss 1.0537 (0.6894) lr 1.5580e-03 eta 0:16:04\n",
      "Evaluate on the *val* set\n"
     ]
    },
    {
     "name": "stderr",
     "output_type": "stream",
     "text": [
      "\r",
      "  0%|          | 0/2 [00:00<?, ?it/s]\r",
      " 50%|█████     | 1/2 [00:00<00:00,  3.20it/s]\r",
      "100%|██████████| 2/2 [00:00<00:00,  5.13it/s]\n"
     ]
    },
    {
     "name": "stdout",
     "output_type": "stream",
     "text": [
      "=> result\n",
      "* total: 106\n",
      "* correct: 43\n",
      "* accuracy: 40.6%\n",
      "* error: 59.4%\n",
      "* macro_f1: 26.6%\n",
      "epoch [538/1000] batch [20/44] time 0.042 (0.057) data 0.000 (0.015) loss 1.3223 (0.7243) lr 1.5525e-03 eta 0:19:11\n",
      "epoch [538/1000] batch [40/44] time 0.037 (0.048) data 0.000 (0.007) loss 1.3320 (0.7103) lr 1.5525e-03 eta 0:16:15\n",
      "Evaluate on the *val* set\n"
     ]
    },
    {
     "name": "stderr",
     "output_type": "stream",
     "text": [
      "\r",
      "  0%|          | 0/2 [00:00<?, ?it/s]\r",
      " 50%|█████     | 1/2 [00:00<00:00,  3.35it/s]\r",
      "100%|██████████| 2/2 [00:00<00:00,  5.25it/s]\n"
     ]
    },
    {
     "name": "stdout",
     "output_type": "stream",
     "text": [
      "=> result\n",
      "* total: 106\n",
      "* correct: 47\n",
      "* accuracy: 44.3%\n",
      "* error: 55.7%\n",
      "* macro_f1: 27.5%\n",
      "epoch [539/1000] batch [20/44] time 0.040 (0.054) data 0.000 (0.014) loss 0.6147 (0.6093) lr 1.5470e-03 eta 0:18:10\n",
      "epoch [539/1000] batch [40/44] time 0.035 (0.046) data 0.000 (0.007) loss 0.5698 (0.6710) lr 1.5470e-03 eta 0:15:38\n",
      "Evaluate on the *val* set\n"
     ]
    },
    {
     "name": "stderr",
     "output_type": "stream",
     "text": [
      "\r",
      "  0%|          | 0/2 [00:00<?, ?it/s]\r",
      " 50%|█████     | 1/2 [00:00<00:00,  3.23it/s]\r",
      "100%|██████████| 2/2 [00:00<00:00,  5.20it/s]\n"
     ]
    },
    {
     "name": "stdout",
     "output_type": "stream",
     "text": [
      "=> result\n",
      "* total: 106\n",
      "* correct: 48\n",
      "* accuracy: 45.3%\n",
      "* error: 54.7%\n",
      "* macro_f1: 28.8%\n",
      "epoch [540/1000] batch [20/44] time 0.039 (0.054) data 0.000 (0.014) loss 0.6274 (0.6523) lr 1.5416e-03 eta 0:18:21\n",
      "epoch [540/1000] batch [40/44] time 0.038 (0.047) data 0.000 (0.007) loss 1.5752 (0.6812) lr 1.5416e-03 eta 0:16:00\n",
      "Evaluate on the *val* set\n"
     ]
    },
    {
     "name": "stderr",
     "output_type": "stream",
     "text": [
      "\r",
      "  0%|          | 0/2 [00:00<?, ?it/s]\r",
      " 50%|█████     | 1/2 [00:00<00:00,  3.06it/s]\r",
      "100%|██████████| 2/2 [00:00<00:00,  4.89it/s]\n"
     ]
    },
    {
     "name": "stdout",
     "output_type": "stream",
     "text": [
      "=> result\n",
      "* total: 106\n",
      "* correct: 44\n",
      "* accuracy: 41.5%\n",
      "* error: 58.5%\n",
      "* macro_f1: 26.6%\n",
      "epoch [541/1000] batch [20/44] time 0.047 (0.057) data 0.000 (0.016) loss 0.9736 (0.7452) lr 1.5361e-03 eta 0:19:18\n",
      "epoch [541/1000] batch [40/44] time 0.041 (0.049) data 0.000 (0.008) loss 0.6934 (0.6809) lr 1.5361e-03 eta 0:16:23\n",
      "Evaluate on the *val* set\n"
     ]
    },
    {
     "name": "stderr",
     "output_type": "stream",
     "text": [
      "\r",
      "  0%|          | 0/2 [00:00<?, ?it/s]\r",
      " 50%|█████     | 1/2 [00:00<00:00,  3.34it/s]\r",
      "100%|██████████| 2/2 [00:00<00:00,  5.25it/s]\n"
     ]
    },
    {
     "name": "stdout",
     "output_type": "stream",
     "text": [
      "=> result\n",
      "* total: 106\n",
      "* correct: 48\n",
      "* accuracy: 45.3%\n",
      "* error: 54.7%\n",
      "* macro_f1: 28.9%\n",
      "epoch [542/1000] batch [20/44] time 0.043 (0.058) data 0.000 (0.016) loss 0.4001 (0.5954) lr 1.5307e-03 eta 0:19:34\n",
      "epoch [542/1000] batch [40/44] time 0.040 (0.049) data 0.000 (0.008) loss 0.7202 (0.6765) lr 1.5307e-03 eta 0:16:19\n",
      "Evaluate on the *val* set\n"
     ]
    },
    {
     "name": "stderr",
     "output_type": "stream",
     "text": [
      "\r",
      "  0%|          | 0/2 [00:00<?, ?it/s]\r",
      " 50%|█████     | 1/2 [00:00<00:00,  3.27it/s]\r",
      "100%|██████████| 2/2 [00:00<00:00,  5.11it/s]\n"
     ]
    },
    {
     "name": "stdout",
     "output_type": "stream",
     "text": [
      "=> result\n",
      "* total: 106\n",
      "* correct: 47\n",
      "* accuracy: 44.3%\n",
      "* error: 55.7%\n",
      "* macro_f1: 28.8%\n",
      "epoch [543/1000] batch [20/44] time 0.042 (0.055) data 0.000 (0.015) loss 0.6592 (0.5928) lr 1.5252e-03 eta 0:18:36\n",
      "epoch [543/1000] batch [40/44] time 0.042 (0.048) data 0.000 (0.007) loss 0.8091 (0.6902) lr 1.5252e-03 eta 0:15:56\n",
      "Evaluate on the *val* set\n"
     ]
    },
    {
     "name": "stderr",
     "output_type": "stream",
     "text": [
      "\r",
      "  0%|          | 0/2 [00:00<?, ?it/s]\r",
      " 50%|█████     | 1/2 [00:00<00:00,  3.25it/s]\r",
      "100%|██████████| 2/2 [00:00<00:00,  5.14it/s]\n"
     ]
    },
    {
     "name": "stdout",
     "output_type": "stream",
     "text": [
      "=> result\n",
      "* total: 106\n",
      "* correct: 44\n",
      "* accuracy: 41.5%\n",
      "* error: 58.5%\n",
      "* macro_f1: 26.3%\n",
      "epoch [544/1000] batch [20/44] time 0.044 (0.055) data 0.000 (0.014) loss 1.4844 (0.6587) lr 1.5198e-03 eta 0:18:23\n",
      "epoch [544/1000] batch [40/44] time 0.035 (0.047) data 0.000 (0.007) loss 0.3252 (0.6668) lr 1.5198e-03 eta 0:15:47\n",
      "Evaluate on the *val* set\n"
     ]
    },
    {
     "name": "stderr",
     "output_type": "stream",
     "text": [
      "\r",
      "  0%|          | 0/2 [00:00<?, ?it/s]\r",
      " 50%|█████     | 1/2 [00:00<00:00,  3.30it/s]\r",
      "100%|██████████| 2/2 [00:00<00:00,  4.95it/s]\n"
     ]
    },
    {
     "name": "stdout",
     "output_type": "stream",
     "text": [
      "=> result\n",
      "* total: 106\n",
      "* correct: 47\n",
      "* accuracy: 44.3%\n",
      "* error: 55.7%\n",
      "* macro_f1: 27.9%\n",
      "epoch [545/1000] batch [20/44] time 0.039 (0.055) data 0.000 (0.015) loss 0.2825 (0.6638) lr 1.5143e-03 eta 0:18:30\n",
      "epoch [545/1000] batch [40/44] time 0.038 (0.047) data 0.000 (0.007) loss 0.6763 (0.7177) lr 1.5143e-03 eta 0:15:49\n",
      "Evaluate on the *val* set\n"
     ]
    },
    {
     "name": "stderr",
     "output_type": "stream",
     "text": [
      "\r",
      "  0%|          | 0/2 [00:00<?, ?it/s]\r",
      " 50%|█████     | 1/2 [00:00<00:00,  3.28it/s]\r",
      "100%|██████████| 2/2 [00:00<00:00,  5.20it/s]\n"
     ]
    },
    {
     "name": "stdout",
     "output_type": "stream",
     "text": [
      "=> result\n",
      "* total: 106\n",
      "* correct: 48\n",
      "* accuracy: 45.3%\n",
      "* error: 54.7%\n",
      "* macro_f1: 26.7%\n",
      "epoch [546/1000] batch [20/44] time 0.043 (0.057) data 0.000 (0.016) loss 1.2490 (0.6728) lr 1.5089e-03 eta 0:19:04\n",
      "epoch [546/1000] batch [40/44] time 0.038 (0.049) data 0.000 (0.008) loss 0.9614 (0.6918) lr 1.5089e-03 eta 0:16:11\n",
      "Evaluate on the *val* set\n"
     ]
    },
    {
     "name": "stderr",
     "output_type": "stream",
     "text": [
      "\r",
      "  0%|          | 0/2 [00:00<?, ?it/s]\r",
      " 50%|█████     | 1/2 [00:00<00:00,  3.31it/s]\r",
      "100%|██████████| 2/2 [00:00<00:00,  5.27it/s]\n"
     ]
    },
    {
     "name": "stdout",
     "output_type": "stream",
     "text": [
      "=> result\n",
      "* total: 106\n",
      "* correct: 41\n",
      "* accuracy: 38.7%\n",
      "* error: 61.3%\n",
      "* macro_f1: 23.5%\n",
      "epoch [547/1000] batch [20/44] time 0.044 (0.056) data 0.000 (0.014) loss 0.9438 (0.7118) lr 1.5034e-03 eta 0:18:45\n",
      "epoch [547/1000] batch [40/44] time 0.040 (0.048) data 0.000 (0.007) loss 0.8755 (0.6703) lr 1.5034e-03 eta 0:15:59\n",
      "Evaluate on the *val* set\n"
     ]
    },
    {
     "name": "stderr",
     "output_type": "stream",
     "text": [
      "\r",
      "  0%|          | 0/2 [00:00<?, ?it/s]\r",
      " 50%|█████     | 1/2 [00:00<00:00,  3.07it/s]\r",
      "100%|██████████| 2/2 [00:00<00:00,  4.87it/s]\n"
     ]
    },
    {
     "name": "stdout",
     "output_type": "stream",
     "text": [
      "=> result\n",
      "* total: 106\n",
      "* correct: 48\n",
      "* accuracy: 45.3%\n",
      "* error: 54.7%\n",
      "* macro_f1: 28.9%\n",
      "epoch [548/1000] batch [20/44] time 0.044 (0.055) data 0.000 (0.015) loss 0.2656 (0.7412) lr 1.4980e-03 eta 0:18:13\n",
      "epoch [548/1000] batch [40/44] time 0.040 (0.047) data 0.000 (0.008) loss 0.8691 (0.7164) lr 1.4980e-03 eta 0:15:42\n",
      "Evaluate on the *val* set\n"
     ]
    },
    {
     "name": "stderr",
     "output_type": "stream",
     "text": [
      "\r",
      "  0%|          | 0/2 [00:00<?, ?it/s]\r",
      " 50%|█████     | 1/2 [00:00<00:00,  3.27it/s]\r",
      "100%|██████████| 2/2 [00:00<00:00,  5.17it/s]\n"
     ]
    },
    {
     "name": "stdout",
     "output_type": "stream",
     "text": [
      "=> result\n",
      "* total: 106\n",
      "* correct: 45\n",
      "* accuracy: 42.5%\n",
      "* error: 57.5%\n",
      "* macro_f1: 27.5%\n",
      "epoch [549/1000] batch [20/44] time 0.039 (0.055) data 0.000 (0.015) loss 0.8604 (0.6712) lr 1.4925e-03 eta 0:18:17\n",
      "epoch [549/1000] batch [40/44] time 0.041 (0.048) data 0.000 (0.007) loss 0.4971 (0.6800) lr 1.4925e-03 eta 0:15:45\n",
      "Evaluate on the *val* set\n"
     ]
    },
    {
     "name": "stderr",
     "output_type": "stream",
     "text": [
      "\r",
      "  0%|          | 0/2 [00:00<?, ?it/s]\r",
      " 50%|█████     | 1/2 [00:00<00:00,  3.20it/s]\r",
      "100%|██████████| 2/2 [00:00<00:00,  5.01it/s]\n"
     ]
    },
    {
     "name": "stdout",
     "output_type": "stream",
     "text": [
      "=> result\n",
      "* total: 106\n",
      "* correct: 46\n",
      "* accuracy: 43.4%\n",
      "* error: 56.6%\n",
      "* macro_f1: 26.6%\n",
      "epoch [550/1000] batch [20/44] time 0.043 (0.057) data 0.000 (0.015) loss 1.0518 (0.7535) lr 1.4871e-03 eta 0:18:44\n",
      "epoch [550/1000] batch [40/44] time 0.037 (0.048) data 0.000 (0.008) loss 0.2196 (0.7064) lr 1.4871e-03 eta 0:15:47\n",
      "Evaluate on the *val* set\n"
     ]
    },
    {
     "name": "stderr",
     "output_type": "stream",
     "text": [
      "\r",
      "  0%|          | 0/2 [00:00<?, ?it/s]\r",
      " 50%|█████     | 1/2 [00:00<00:00,  3.32it/s]\r",
      "100%|██████████| 2/2 [00:00<00:00,  5.22it/s]\n"
     ]
    },
    {
     "name": "stdout",
     "output_type": "stream",
     "text": [
      "=> result\n",
      "* total: 106\n",
      "* correct: 47\n",
      "* accuracy: 44.3%\n",
      "* error: 55.7%\n",
      "* macro_f1: 25.6%\n",
      "epoch [551/1000] batch [20/44] time 0.044 (0.056) data 0.000 (0.014) loss 0.8057 (0.5474) lr 1.4817e-03 eta 0:18:22\n",
      "epoch [551/1000] batch [40/44] time 0.035 (0.047) data 0.000 (0.007) loss 0.8911 (0.6720) lr 1.4817e-03 eta 0:15:32\n",
      "Evaluate on the *val* set\n"
     ]
    },
    {
     "name": "stderr",
     "output_type": "stream",
     "text": [
      "\r",
      "  0%|          | 0/2 [00:00<?, ?it/s]\r",
      " 50%|█████     | 1/2 [00:00<00:00,  3.32it/s]\r",
      "100%|██████████| 2/2 [00:00<00:00,  5.18it/s]\n"
     ]
    },
    {
     "name": "stdout",
     "output_type": "stream",
     "text": [
      "=> result\n",
      "* total: 106\n",
      "* correct: 45\n",
      "* accuracy: 42.5%\n",
      "* error: 57.5%\n",
      "* macro_f1: 27.4%\n",
      "epoch [552/1000] batch [20/44] time 0.044 (0.057) data 0.000 (0.014) loss 0.5728 (0.6822) lr 1.4762e-03 eta 0:18:39\n",
      "epoch [552/1000] batch [40/44] time 0.040 (0.049) data 0.000 (0.007) loss 0.3020 (0.6697) lr 1.4762e-03 eta 0:15:56\n",
      "Evaluate on the *val* set\n"
     ]
    },
    {
     "name": "stderr",
     "output_type": "stream",
     "text": [
      "\r",
      "  0%|          | 0/2 [00:00<?, ?it/s]\r",
      " 50%|█████     | 1/2 [00:00<00:00,  3.20it/s]\r",
      "100%|██████████| 2/2 [00:00<00:00,  5.08it/s]\n"
     ]
    },
    {
     "name": "stdout",
     "output_type": "stream",
     "text": [
      "=> result\n",
      "* total: 106\n",
      "* correct: 46\n",
      "* accuracy: 43.4%\n",
      "* error: 56.6%\n",
      "* macro_f1: 26.1%\n",
      "epoch [553/1000] batch [20/44] time 0.042 (0.057) data 0.000 (0.014) loss 0.6025 (0.6173) lr 1.4708e-03 eta 0:18:43\n",
      "epoch [553/1000] batch [40/44] time 0.040 (0.048) data 0.000 (0.007) loss 1.0781 (0.6798) lr 1.4708e-03 eta 0:15:47\n",
      "Evaluate on the *val* set\n"
     ]
    },
    {
     "name": "stderr",
     "output_type": "stream",
     "text": [
      "\r",
      "  0%|          | 0/2 [00:00<?, ?it/s]\r",
      " 50%|█████     | 1/2 [00:00<00:00,  3.14it/s]\r",
      "100%|██████████| 2/2 [00:00<00:00,  4.96it/s]\n"
     ]
    },
    {
     "name": "stdout",
     "output_type": "stream",
     "text": [
      "=> result\n",
      "* total: 106\n",
      "* correct: 45\n",
      "* accuracy: 42.5%\n",
      "* error: 57.5%\n",
      "* macro_f1: 25.2%\n",
      "epoch [554/1000] batch [20/44] time 0.041 (0.055) data 0.000 (0.014) loss 0.4082 (0.5418) lr 1.4654e-03 eta 0:17:56\n",
      "epoch [554/1000] batch [40/44] time 0.041 (0.048) data 0.000 (0.007) loss 0.9268 (0.6526) lr 1.4654e-03 eta 0:15:40\n",
      "Evaluate on the *val* set\n"
     ]
    },
    {
     "name": "stderr",
     "output_type": "stream",
     "text": [
      "\r",
      "  0%|          | 0/2 [00:00<?, ?it/s]\r",
      " 50%|█████     | 1/2 [00:00<00:00,  3.35it/s]\r",
      "100%|██████████| 2/2 [00:00<00:00,  5.31it/s]\n"
     ]
    },
    {
     "name": "stdout",
     "output_type": "stream",
     "text": [
      "=> result\n",
      "* total: 106\n",
      "* correct: 46\n",
      "* accuracy: 43.4%\n",
      "* error: 56.6%\n",
      "* macro_f1: 25.9%\n",
      "epoch [555/1000] batch [20/44] time 0.042 (0.054) data 0.000 (0.014) loss 1.4551 (0.7571) lr 1.4600e-03 eta 0:17:44\n",
      "epoch [555/1000] batch [40/44] time 0.041 (0.047) data 0.000 (0.007) loss 1.4395 (0.6607) lr 1.4600e-03 eta 0:15:24\n",
      "Evaluate on the *val* set\n"
     ]
    },
    {
     "name": "stderr",
     "output_type": "stream",
     "text": [
      "\r",
      "  0%|          | 0/2 [00:00<?, ?it/s]\r",
      " 50%|█████     | 1/2 [00:00<00:00,  3.32it/s]\r",
      "100%|██████████| 2/2 [00:00<00:00,  5.24it/s]\n"
     ]
    },
    {
     "name": "stdout",
     "output_type": "stream",
     "text": [
      "=> result\n",
      "* total: 106\n",
      "* correct: 45\n",
      "* accuracy: 42.5%\n",
      "* error: 57.5%\n",
      "* macro_f1: 27.3%\n",
      "epoch [556/1000] batch [20/44] time 0.039 (0.059) data 0.000 (0.017) loss 1.6338 (0.6241) lr 1.4545e-03 eta 0:19:14\n",
      "epoch [556/1000] batch [40/44] time 0.042 (0.050) data 0.000 (0.009) loss 0.1685 (0.6584) lr 1.4545e-03 eta 0:16:08\n",
      "Evaluate on the *val* set\n"
     ]
    },
    {
     "name": "stderr",
     "output_type": "stream",
     "text": [
      "\r",
      "  0%|          | 0/2 [00:00<?, ?it/s]\r",
      " 50%|█████     | 1/2 [00:00<00:00,  3.34it/s]\r",
      "100%|██████████| 2/2 [00:00<00:00,  5.25it/s]\n"
     ]
    },
    {
     "name": "stdout",
     "output_type": "stream",
     "text": [
      "=> result\n",
      "* total: 106\n",
      "* correct: 44\n",
      "* accuracy: 41.5%\n",
      "* error: 58.5%\n",
      "* macro_f1: 26.8%\n",
      "epoch [557/1000] batch [20/44] time 0.039 (0.058) data 0.000 (0.016) loss 0.2191 (0.6855) lr 1.4491e-03 eta 0:18:43\n",
      "epoch [557/1000] batch [40/44] time 0.036 (0.048) data 0.000 (0.008) loss 0.3110 (0.6762) lr 1.4491e-03 eta 0:15:44\n",
      "Evaluate on the *val* set\n"
     ]
    },
    {
     "name": "stderr",
     "output_type": "stream",
     "text": [
      "\r",
      "  0%|          | 0/2 [00:00<?, ?it/s]\r",
      " 50%|█████     | 1/2 [00:00<00:00,  3.25it/s]\r",
      "100%|██████████| 2/2 [00:00<00:00,  5.22it/s]\n"
     ]
    },
    {
     "name": "stdout",
     "output_type": "stream",
     "text": [
      "=> result\n",
      "* total: 106\n",
      "* correct: 48\n",
      "* accuracy: 45.3%\n",
      "* error: 54.7%\n",
      "* macro_f1: 27.5%\n",
      "epoch [558/1000] batch [20/44] time 0.038 (0.058) data 0.000 (0.017) loss 0.2620 (0.5573) lr 1.4437e-03 eta 0:18:41\n",
      "epoch [558/1000] batch [40/44] time 0.042 (0.049) data 0.000 (0.008) loss 0.5786 (0.6573) lr 1.4437e-03 eta 0:15:56\n",
      "Evaluate on the *val* set\n"
     ]
    },
    {
     "name": "stderr",
     "output_type": "stream",
     "text": [
      "\r",
      "  0%|          | 0/2 [00:00<?, ?it/s]\r",
      " 50%|█████     | 1/2 [00:00<00:00,  3.30it/s]\r",
      "100%|██████████| 2/2 [00:00<00:00,  5.13it/s]\n"
     ]
    },
    {
     "name": "stdout",
     "output_type": "stream",
     "text": [
      "=> result\n",
      "* total: 106\n",
      "* correct: 44\n",
      "* accuracy: 41.5%\n",
      "* error: 58.5%\n",
      "* macro_f1: 24.7%\n",
      "epoch [559/1000] batch [20/44] time 0.036 (0.054) data 0.000 (0.015) loss 0.9927 (0.6942) lr 1.4383e-03 eta 0:17:32\n",
      "epoch [559/1000] batch [40/44] time 0.040 (0.047) data 0.000 (0.007) loss 0.4199 (0.6651) lr 1.4383e-03 eta 0:15:15\n",
      "Evaluate on the *val* set\n"
     ]
    },
    {
     "name": "stderr",
     "output_type": "stream",
     "text": [
      "\r",
      "  0%|          | 0/2 [00:00<?, ?it/s]\r",
      " 50%|█████     | 1/2 [00:00<00:00,  3.18it/s]\r",
      "100%|██████████| 2/2 [00:00<00:00,  4.99it/s]\n"
     ]
    },
    {
     "name": "stdout",
     "output_type": "stream",
     "text": [
      "=> result\n",
      "* total: 106\n",
      "* correct: 48\n",
      "* accuracy: 45.3%\n",
      "* error: 54.7%\n",
      "* macro_f1: 29.4%\n",
      "epoch [560/1000] batch [20/44] time 0.038 (0.057) data 0.000 (0.016) loss 0.1392 (0.6767) lr 1.4329e-03 eta 0:18:25\n",
      "epoch [560/1000] batch [40/44] time 0.043 (0.049) data 0.000 (0.008) loss 0.9062 (0.7007) lr 1.4329e-03 eta 0:15:55\n",
      "Evaluate on the *val* set\n"
     ]
    },
    {
     "name": "stderr",
     "output_type": "stream",
     "text": [
      "\r",
      "  0%|          | 0/2 [00:00<?, ?it/s]\r",
      " 50%|█████     | 1/2 [00:00<00:00,  3.19it/s]\r",
      "100%|██████████| 2/2 [00:00<00:00,  4.97it/s]\n"
     ]
    },
    {
     "name": "stdout",
     "output_type": "stream",
     "text": [
      "=> result\n",
      "* total: 106\n",
      "* correct: 43\n",
      "* accuracy: 40.6%\n",
      "* error: 59.4%\n",
      "* macro_f1: 23.6%\n",
      "epoch [561/1000] batch [20/44] time 0.040 (0.056) data 0.000 (0.015) loss 0.5049 (0.5921) lr 1.4275e-03 eta 0:17:58\n",
      "epoch [561/1000] batch [40/44] time 0.041 (0.048) data 0.000 (0.008) loss 0.5420 (0.6841) lr 1.4275e-03 eta 0:15:18\n",
      "Evaluate on the *val* set\n"
     ]
    },
    {
     "name": "stderr",
     "output_type": "stream",
     "text": [
      "\r",
      "  0%|          | 0/2 [00:00<?, ?it/s]\r",
      " 50%|█████     | 1/2 [00:00<00:00,  3.22it/s]\r",
      "100%|██████████| 2/2 [00:00<00:00,  5.11it/s]\n"
     ]
    },
    {
     "name": "stdout",
     "output_type": "stream",
     "text": [
      "=> result\n",
      "* total: 106\n",
      "* correct: 47\n",
      "* accuracy: 44.3%\n",
      "* error: 55.7%\n",
      "* macro_f1: 26.1%\n",
      "epoch [562/1000] batch [20/44] time 0.042 (0.055) data 0.000 (0.015) loss 0.4055 (0.6483) lr 1.4221e-03 eta 0:17:38\n",
      "epoch [562/1000] batch [40/44] time 0.042 (0.048) data 0.000 (0.007) loss 1.2725 (0.6630) lr 1.4221e-03 eta 0:15:32\n",
      "Evaluate on the *val* set\n"
     ]
    },
    {
     "name": "stderr",
     "output_type": "stream",
     "text": [
      "\r",
      "  0%|          | 0/2 [00:00<?, ?it/s]\r",
      " 50%|█████     | 1/2 [00:00<00:00,  3.20it/s]\r",
      "100%|██████████| 2/2 [00:00<00:00,  5.20it/s]\n"
     ]
    },
    {
     "name": "stdout",
     "output_type": "stream",
     "text": [
      "=> result\n",
      "* total: 106\n",
      "* correct: 46\n",
      "* accuracy: 43.4%\n",
      "* error: 56.6%\n",
      "* macro_f1: 27.5%\n",
      "epoch [563/1000] batch [20/44] time 0.045 (0.054) data 0.000 (0.014) loss 0.3647 (0.7415) lr 1.4167e-03 eta 0:17:24\n",
      "epoch [563/1000] batch [40/44] time 0.039 (0.047) data 0.000 (0.007) loss 0.8389 (0.6701) lr 1.4167e-03 eta 0:15:03\n",
      "Evaluate on the *val* set\n"
     ]
    },
    {
     "name": "stderr",
     "output_type": "stream",
     "text": [
      "\r",
      "  0%|          | 0/2 [00:00<?, ?it/s]\r",
      " 50%|█████     | 1/2 [00:00<00:00,  3.21it/s]\r",
      "100%|██████████| 2/2 [00:00<00:00,  5.11it/s]\n"
     ]
    },
    {
     "name": "stdout",
     "output_type": "stream",
     "text": [
      "=> result\n",
      "* total: 106\n",
      "* correct: 44\n",
      "* accuracy: 41.5%\n",
      "* error: 58.5%\n",
      "* macro_f1: 26.1%\n",
      "epoch [564/1000] batch [20/44] time 0.042 (0.056) data 0.000 (0.014) loss 0.3770 (0.6482) lr 1.4113e-03 eta 0:17:55\n",
      "epoch [564/1000] batch [40/44] time 0.039 (0.047) data 0.000 (0.007) loss 1.4834 (0.6696) lr 1.4113e-03 eta 0:15:10\n",
      "Evaluate on the *val* set\n"
     ]
    },
    {
     "name": "stderr",
     "output_type": "stream",
     "text": [
      "\r",
      "  0%|          | 0/2 [00:00<?, ?it/s]\r",
      " 50%|█████     | 1/2 [00:00<00:00,  3.27it/s]\r",
      "100%|██████████| 2/2 [00:00<00:00,  5.17it/s]\n"
     ]
    },
    {
     "name": "stdout",
     "output_type": "stream",
     "text": [
      "=> result\n",
      "* total: 106\n",
      "* correct: 50\n",
      "* accuracy: 47.2%\n",
      "* error: 52.8%\n",
      "* macro_f1: 32.3%\n",
      "epoch [565/1000] batch [20/44] time 0.038 (0.055) data 0.000 (0.014) loss 0.3477 (0.4659) lr 1.4059e-03 eta 0:17:31\n",
      "epoch [565/1000] batch [40/44] time 0.038 (0.047) data 0.000 (0.007) loss 1.6152 (0.6390) lr 1.4059e-03 eta 0:14:53\n",
      "Evaluate on the *val* set\n"
     ]
    },
    {
     "name": "stderr",
     "output_type": "stream",
     "text": [
      "\r",
      "  0%|          | 0/2 [00:00<?, ?it/s]\r",
      " 50%|█████     | 1/2 [00:00<00:00,  3.17it/s]\r",
      "100%|██████████| 2/2 [00:00<00:00,  5.02it/s]\n"
     ]
    },
    {
     "name": "stdout",
     "output_type": "stream",
     "text": [
      "=> result\n",
      "* total: 106\n",
      "* correct: 49\n",
      "* accuracy: 46.2%\n",
      "* error: 53.8%\n",
      "* macro_f1: 28.3%\n",
      "epoch [566/1000] batch [20/44] time 0.040 (0.054) data 0.000 (0.016) loss 1.0898 (0.6618) lr 1.4005e-03 eta 0:17:06\n",
      "epoch [566/1000] batch [40/44] time 0.032 (0.044) data 0.000 (0.008) loss 0.6245 (0.6762) lr 1.4005e-03 eta 0:13:56\n",
      "Evaluate on the *val* set\n"
     ]
    },
    {
     "name": "stderr",
     "output_type": "stream",
     "text": [
      "\r",
      "  0%|          | 0/2 [00:00<?, ?it/s]\r",
      " 50%|█████     | 1/2 [00:00<00:00,  3.29it/s]\r",
      "100%|██████████| 2/2 [00:00<00:00,  5.22it/s]\n"
     ]
    },
    {
     "name": "stdout",
     "output_type": "stream",
     "text": [
      "=> result\n",
      "* total: 106\n",
      "* correct: 46\n",
      "* accuracy: 43.4%\n",
      "* error: 56.6%\n",
      "* macro_f1: 25.4%\n",
      "epoch [567/1000] batch [20/44] time 0.041 (0.057) data 0.000 (0.015) loss 0.7798 (0.5951) lr 1.3951e-03 eta 0:17:58\n",
      "epoch [567/1000] batch [40/44] time 0.040 (0.048) data 0.000 (0.007) loss 0.4260 (0.6680) lr 1.3951e-03 eta 0:15:24\n",
      "Evaluate on the *val* set\n"
     ]
    },
    {
     "name": "stderr",
     "output_type": "stream",
     "text": [
      "\r",
      "  0%|          | 0/2 [00:00<?, ?it/s]\r",
      " 50%|█████     | 1/2 [00:00<00:00,  3.29it/s]\r",
      "100%|██████████| 2/2 [00:00<00:00,  5.14it/s]\n"
     ]
    },
    {
     "name": "stdout",
     "output_type": "stream",
     "text": [
      "=> result\n",
      "* total: 106\n",
      "* correct: 44\n",
      "* accuracy: 41.5%\n",
      "* error: 58.5%\n",
      "* macro_f1: 24.5%\n",
      "epoch [568/1000] batch [20/44] time 0.043 (0.056) data 0.000 (0.015) loss 1.2617 (0.7015) lr 1.3897e-03 eta 0:17:43\n",
      "epoch [568/1000] batch [40/44] time 0.042 (0.048) data 0.000 (0.008) loss 0.3643 (0.6850) lr 1.3897e-03 eta 0:15:15\n",
      "Evaluate on the *val* set\n"
     ]
    },
    {
     "name": "stderr",
     "output_type": "stream",
     "text": [
      "\r",
      "  0%|          | 0/2 [00:00<?, ?it/s]\r",
      " 50%|█████     | 1/2 [00:00<00:00,  3.26it/s]\r",
      "100%|██████████| 2/2 [00:00<00:00,  5.25it/s]\n"
     ]
    },
    {
     "name": "stdout",
     "output_type": "stream",
     "text": [
      "=> result\n",
      "* total: 106\n",
      "* correct: 47\n",
      "* accuracy: 44.3%\n",
      "* error: 55.7%\n",
      "* macro_f1: 28.2%\n",
      "epoch [569/1000] batch [20/44] time 0.035 (0.054) data 0.000 (0.016) loss 0.5381 (0.7207) lr 1.3844e-03 eta 0:17:00\n",
      "epoch [569/1000] batch [40/44] time 0.038 (0.047) data 0.000 (0.008) loss 1.1006 (0.6923) lr 1.3844e-03 eta 0:14:42\n",
      "Evaluate on the *val* set\n"
     ]
    },
    {
     "name": "stderr",
     "output_type": "stream",
     "text": [
      "\r",
      "  0%|          | 0/2 [00:00<?, ?it/s]\r",
      " 50%|█████     | 1/2 [00:00<00:00,  3.17it/s]\r",
      "100%|██████████| 2/2 [00:00<00:00,  5.07it/s]\n"
     ]
    },
    {
     "name": "stdout",
     "output_type": "stream",
     "text": [
      "=> result\n",
      "* total: 106\n",
      "* correct: 46\n",
      "* accuracy: 43.4%\n",
      "* error: 56.6%\n",
      "* macro_f1: 26.0%\n",
      "epoch [570/1000] batch [20/44] time 0.042 (0.056) data 0.000 (0.015) loss 0.6958 (0.6250) lr 1.3790e-03 eta 0:17:46\n",
      "epoch [570/1000] batch [40/44] time 0.035 (0.049) data 0.000 (0.007) loss 0.4856 (0.6762) lr 1.3790e-03 eta 0:15:18\n",
      "Evaluate on the *val* set\n"
     ]
    },
    {
     "name": "stderr",
     "output_type": "stream",
     "text": [
      "\r",
      "  0%|          | 0/2 [00:00<?, ?it/s]\r",
      " 50%|█████     | 1/2 [00:00<00:00,  3.29it/s]\r",
      "100%|██████████| 2/2 [00:00<00:00,  5.18it/s]\n"
     ]
    },
    {
     "name": "stdout",
     "output_type": "stream",
     "text": [
      "=> result\n",
      "* total: 106\n",
      "* correct: 44\n",
      "* accuracy: 41.5%\n",
      "* error: 58.5%\n",
      "* macro_f1: 24.5%\n",
      "epoch [571/1000] batch [20/44] time 0.037 (0.055) data 0.000 (0.015) loss 0.3113 (0.6459) lr 1.3736e-03 eta 0:17:16\n",
      "epoch [571/1000] batch [40/44] time 0.041 (0.048) data 0.000 (0.008) loss 0.5879 (0.6566) lr 1.3736e-03 eta 0:15:00\n",
      "Evaluate on the *val* set\n"
     ]
    },
    {
     "name": "stderr",
     "output_type": "stream",
     "text": [
      "\r",
      "  0%|          | 0/2 [00:00<?, ?it/s]\r",
      " 50%|█████     | 1/2 [00:00<00:00,  3.29it/s]\r",
      "100%|██████████| 2/2 [00:00<00:00,  5.19it/s]\n"
     ]
    },
    {
     "name": "stdout",
     "output_type": "stream",
     "text": [
      "=> result\n",
      "* total: 106\n",
      "* correct: 46\n",
      "* accuracy: 43.4%\n",
      "* error: 56.6%\n",
      "* macro_f1: 25.4%\n",
      "epoch [572/1000] batch [20/44] time 0.044 (0.057) data 0.000 (0.016) loss 0.5366 (0.6441) lr 1.3682e-03 eta 0:17:58\n",
      "epoch [572/1000] batch [40/44] time 0.041 (0.049) data 0.000 (0.008) loss 0.1714 (0.6648) lr 1.3682e-03 eta 0:15:20\n",
      "Evaluate on the *val* set\n"
     ]
    },
    {
     "name": "stderr",
     "output_type": "stream",
     "text": [
      "\r",
      "  0%|          | 0/2 [00:00<?, ?it/s]\r",
      " 50%|█████     | 1/2 [00:00<00:00,  3.24it/s]\r",
      "100%|██████████| 2/2 [00:00<00:00,  5.12it/s]\n"
     ]
    },
    {
     "name": "stdout",
     "output_type": "stream",
     "text": [
      "=> result\n",
      "* total: 106\n",
      "* correct: 46\n",
      "* accuracy: 43.4%\n",
      "* error: 56.6%\n",
      "* macro_f1: 26.9%\n",
      "epoch [573/1000] batch [20/44] time 0.045 (0.056) data 0.000 (0.015) loss 1.1182 (0.6892) lr 1.3629e-03 eta 0:17:36\n",
      "epoch [573/1000] batch [40/44] time 0.041 (0.049) data 0.000 (0.008) loss 0.1470 (0.6363) lr 1.3629e-03 eta 0:15:15\n",
      "Evaluate on the *val* set\n"
     ]
    },
    {
     "name": "stderr",
     "output_type": "stream",
     "text": [
      "\r",
      "  0%|          | 0/2 [00:00<?, ?it/s]\r",
      " 50%|█████     | 1/2 [00:00<00:00,  3.30it/s]\r",
      "100%|██████████| 2/2 [00:00<00:00,  5.26it/s]\n"
     ]
    },
    {
     "name": "stdout",
     "output_type": "stream",
     "text": [
      "=> result\n",
      "* total: 106\n",
      "* correct: 46\n",
      "* accuracy: 43.4%\n",
      "* error: 56.6%\n",
      "* macro_f1: 27.9%\n",
      "epoch [574/1000] batch [20/44] time 0.043 (0.057) data 0.000 (0.015) loss 0.6709 (0.6395) lr 1.3575e-03 eta 0:17:52\n",
      "epoch [574/1000] batch [40/44] time 0.042 (0.049) data 0.000 (0.008) loss 0.8364 (0.7073) lr 1.3575e-03 eta 0:15:20\n",
      "Evaluate on the *val* set\n"
     ]
    },
    {
     "name": "stderr",
     "output_type": "stream",
     "text": [
      "\r",
      "  0%|          | 0/2 [00:00<?, ?it/s]\r",
      " 50%|█████     | 1/2 [00:00<00:00,  3.29it/s]\r",
      "100%|██████████| 2/2 [00:00<00:00,  5.19it/s]\n"
     ]
    },
    {
     "name": "stdout",
     "output_type": "stream",
     "text": [
      "=> result\n",
      "* total: 106\n",
      "* correct: 46\n",
      "* accuracy: 43.4%\n",
      "* error: 56.6%\n",
      "* macro_f1: 26.3%\n",
      "epoch [575/1000] batch [20/44] time 0.041 (0.058) data 0.000 (0.017) loss 0.7310 (0.6836) lr 1.3522e-03 eta 0:18:04\n",
      "epoch [575/1000] batch [40/44] time 0.038 (0.049) data 0.000 (0.008) loss 0.3113 (0.6695) lr 1.3522e-03 eta 0:15:24\n",
      "Evaluate on the *val* set\n"
     ]
    },
    {
     "name": "stderr",
     "output_type": "stream",
     "text": [
      "\r",
      "  0%|          | 0/2 [00:00<?, ?it/s]\r",
      " 50%|█████     | 1/2 [00:00<00:00,  3.29it/s]\r",
      "100%|██████████| 2/2 [00:00<00:00,  5.23it/s]\n"
     ]
    },
    {
     "name": "stdout",
     "output_type": "stream",
     "text": [
      "=> result\n",
      "* total: 106\n",
      "* correct: 45\n",
      "* accuracy: 42.5%\n",
      "* error: 57.5%\n",
      "* macro_f1: 24.9%\n",
      "epoch [576/1000] batch [20/44] time 0.040 (0.055) data 0.000 (0.015) loss 0.9409 (0.6389) lr 1.3468e-03 eta 0:17:09\n",
      "epoch [576/1000] batch [40/44] time 0.042 (0.048) data 0.000 (0.008) loss 0.5137 (0.6748) lr 1.3468e-03 eta 0:14:52\n",
      "Evaluate on the *val* set\n"
     ]
    },
    {
     "name": "stderr",
     "output_type": "stream",
     "text": [
      "\r",
      "  0%|          | 0/2 [00:00<?, ?it/s]\r",
      " 50%|█████     | 1/2 [00:00<00:00,  3.27it/s]\r",
      "100%|██████████| 2/2 [00:00<00:00,  5.14it/s]\n"
     ]
    },
    {
     "name": "stdout",
     "output_type": "stream",
     "text": [
      "=> result\n",
      "* total: 106\n",
      "* correct: 47\n",
      "* accuracy: 44.3%\n",
      "* error: 55.7%\n",
      "* macro_f1: 28.2%\n",
      "epoch [577/1000] batch [20/44] time 0.043 (0.056) data 0.000 (0.015) loss 1.1768 (0.7380) lr 1.3415e-03 eta 0:17:15\n",
      "epoch [577/1000] batch [40/44] time 0.038 (0.048) data 0.000 (0.007) loss 0.9238 (0.6383) lr 1.3415e-03 eta 0:14:58\n",
      "Evaluate on the *val* set\n"
     ]
    },
    {
     "name": "stderr",
     "output_type": "stream",
     "text": [
      "\r",
      "  0%|          | 0/2 [00:00<?, ?it/s]\r",
      " 50%|█████     | 1/2 [00:00<00:00,  3.25it/s]\r",
      "100%|██████████| 2/2 [00:00<00:00,  5.30it/s]\n"
     ]
    },
    {
     "name": "stdout",
     "output_type": "stream",
     "text": [
      "=> result\n",
      "* total: 106\n",
      "* correct: 43\n",
      "* accuracy: 40.6%\n",
      "* error: 59.4%\n",
      "* macro_f1: 23.6%\n",
      "epoch [578/1000] batch [20/44] time 0.042 (0.054) data 0.000 (0.015) loss 0.2656 (0.5451) lr 1.3361e-03 eta 0:16:36\n",
      "epoch [578/1000] batch [40/44] time 0.039 (0.047) data 0.000 (0.007) loss 0.9336 (0.6253) lr 1.3361e-03 eta 0:14:30\n",
      "Evaluate on the *val* set\n"
     ]
    },
    {
     "name": "stderr",
     "output_type": "stream",
     "text": [
      "\r",
      "  0%|          | 0/2 [00:00<?, ?it/s]\r",
      " 50%|█████     | 1/2 [00:00<00:00,  3.12it/s]\r",
      "100%|██████████| 2/2 [00:00<00:00,  5.07it/s]\n"
     ]
    },
    {
     "name": "stdout",
     "output_type": "stream",
     "text": [
      "=> result\n",
      "* total: 106\n",
      "* correct: 45\n",
      "* accuracy: 42.5%\n",
      "* error: 57.5%\n",
      "* macro_f1: 26.6%\n",
      "epoch [579/1000] batch [20/44] time 0.035 (0.055) data 0.000 (0.014) loss 0.4429 (0.6742) lr 1.3308e-03 eta 0:17:00\n",
      "epoch [579/1000] batch [40/44] time 0.039 (0.048) data 0.000 (0.007) loss 1.2793 (0.6866) lr 1.3308e-03 eta 0:14:44\n",
      "Evaluate on the *val* set\n"
     ]
    },
    {
     "name": "stderr",
     "output_type": "stream",
     "text": [
      "\r",
      "  0%|          | 0/2 [00:00<?, ?it/s]\r",
      " 50%|█████     | 1/2 [00:00<00:00,  3.22it/s]\r",
      "100%|██████████| 2/2 [00:00<00:00,  5.06it/s]\n"
     ]
    },
    {
     "name": "stdout",
     "output_type": "stream",
     "text": [
      "=> result\n",
      "* total: 106\n",
      "* correct: 48\n",
      "* accuracy: 45.3%\n",
      "* error: 54.7%\n",
      "* macro_f1: 28.8%\n",
      "epoch [580/1000] batch [20/44] time 0.039 (0.056) data 0.000 (0.014) loss 0.9033 (0.6933) lr 1.3255e-03 eta 0:17:08\n",
      "epoch [580/1000] batch [40/44] time 0.042 (0.047) data 0.000 (0.007) loss 0.5156 (0.6960) lr 1.3255e-03 eta 0:14:35\n",
      "Evaluate on the *val* set\n"
     ]
    },
    {
     "name": "stderr",
     "output_type": "stream",
     "text": [
      "\r",
      "  0%|          | 0/2 [00:00<?, ?it/s]\r",
      " 50%|█████     | 1/2 [00:00<00:00,  3.20it/s]\r",
      "100%|██████████| 2/2 [00:00<00:00,  4.87it/s]\n"
     ]
    },
    {
     "name": "stdout",
     "output_type": "stream",
     "text": [
      "=> result\n",
      "* total: 106\n",
      "* correct: 46\n",
      "* accuracy: 43.4%\n",
      "* error: 56.6%\n",
      "* macro_f1: 26.0%\n",
      "epoch [581/1000] batch [20/44] time 0.041 (0.054) data 0.000 (0.015) loss 0.4868 (0.6643) lr 1.3201e-03 eta 0:16:45\n",
      "epoch [581/1000] batch [40/44] time 0.035 (0.047) data 0.000 (0.008) loss 0.2969 (0.6354) lr 1.3201e-03 eta 0:14:24\n",
      "Evaluate on the *val* set\n"
     ]
    },
    {
     "name": "stderr",
     "output_type": "stream",
     "text": [
      "\r",
      "  0%|          | 0/2 [00:00<?, ?it/s]\r",
      " 50%|█████     | 1/2 [00:00<00:00,  3.22it/s]\r",
      "100%|██████████| 2/2 [00:00<00:00,  5.13it/s]\n"
     ]
    },
    {
     "name": "stdout",
     "output_type": "stream",
     "text": [
      "=> result\n",
      "* total: 106\n",
      "* correct: 46\n",
      "* accuracy: 43.4%\n",
      "* error: 56.6%\n",
      "* macro_f1: 28.0%\n",
      "epoch [582/1000] batch [20/44] time 0.043 (0.056) data 0.000 (0.015) loss 0.5527 (0.6723) lr 1.3148e-03 eta 0:17:17\n",
      "epoch [582/1000] batch [40/44] time 0.038 (0.048) data 0.000 (0.007) loss 0.2668 (0.6714) lr 1.3148e-03 eta 0:14:36\n",
      "Evaluate on the *val* set\n"
     ]
    },
    {
     "name": "stderr",
     "output_type": "stream",
     "text": [
      "\r",
      "  0%|          | 0/2 [00:00<?, ?it/s]\r",
      " 50%|█████     | 1/2 [00:00<00:00,  3.18it/s]\r",
      "100%|██████████| 2/2 [00:00<00:00,  5.10it/s]\n"
     ]
    },
    {
     "name": "stdout",
     "output_type": "stream",
     "text": [
      "=> result\n",
      "* total: 106\n",
      "* correct: 47\n",
      "* accuracy: 44.3%\n",
      "* error: 55.7%\n",
      "* macro_f1: 26.6%\n",
      "epoch [583/1000] batch [20/44] time 0.037 (0.056) data 0.000 (0.014) loss 0.7603 (0.6442) lr 1.3095e-03 eta 0:17:16\n",
      "epoch [583/1000] batch [40/44] time 0.041 (0.049) data 0.000 (0.007) loss 0.8408 (0.6932) lr 1.3095e-03 eta 0:14:51\n",
      "Evaluate on the *val* set\n"
     ]
    },
    {
     "name": "stderr",
     "output_type": "stream",
     "text": [
      "\r",
      "  0%|          | 0/2 [00:00<?, ?it/s]\r",
      " 50%|█████     | 1/2 [00:00<00:00,  3.26it/s]\r",
      "100%|██████████| 2/2 [00:00<00:00,  5.11it/s]\n"
     ]
    },
    {
     "name": "stdout",
     "output_type": "stream",
     "text": [
      "=> result\n",
      "* total: 106\n",
      "* correct: 45\n",
      "* accuracy: 42.5%\n",
      "* error: 57.5%\n",
      "* macro_f1: 27.4%\n",
      "epoch [584/1000] batch [20/44] time 0.032 (0.055) data 0.000 (0.015) loss 0.3376 (0.5997) lr 1.3042e-03 eta 0:16:51\n",
      "epoch [584/1000] batch [40/44] time 0.027 (0.043) data 0.000 (0.007) loss 0.7642 (0.6585) lr 1.3042e-03 eta 0:13:02\n",
      "Evaluate on the *val* set\n"
     ]
    },
    {
     "name": "stderr",
     "output_type": "stream",
     "text": [
      "\r",
      "  0%|          | 0/2 [00:00<?, ?it/s]\r",
      " 50%|█████     | 1/2 [00:00<00:00,  3.19it/s]\r",
      "100%|██████████| 2/2 [00:00<00:00,  5.04it/s]\n"
     ]
    },
    {
     "name": "stdout",
     "output_type": "stream",
     "text": [
      "=> result\n",
      "* total: 106\n",
      "* correct: 49\n",
      "* accuracy: 46.2%\n",
      "* error: 53.8%\n",
      "* macro_f1: 26.7%\n",
      "epoch [585/1000] batch [20/44] time 0.044 (0.057) data 0.000 (0.017) loss 0.9014 (0.6763) lr 1.2988e-03 eta 0:17:23\n",
      "epoch [585/1000] batch [40/44] time 0.041 (0.048) data 0.000 (0.008) loss 0.2168 (0.6631) lr 1.2988e-03 eta 0:14:41\n",
      "Evaluate on the *val* set\n"
     ]
    },
    {
     "name": "stderr",
     "output_type": "stream",
     "text": [
      "\r",
      "  0%|          | 0/2 [00:00<?, ?it/s]\r",
      " 50%|█████     | 1/2 [00:00<00:00,  3.35it/s]\r",
      "100%|██████████| 2/2 [00:00<00:00,  5.31it/s]\n"
     ]
    },
    {
     "name": "stdout",
     "output_type": "stream",
     "text": [
      "=> result\n",
      "* total: 106\n",
      "* correct: 47\n",
      "* accuracy: 44.3%\n",
      "* error: 55.7%\n",
      "* macro_f1: 26.7%\n",
      "epoch [586/1000] batch [20/44] time 0.041 (0.056) data 0.000 (0.015) loss 0.4480 (0.6584) lr 1.2935e-03 eta 0:17:08\n",
      "epoch [586/1000] batch [40/44] time 0.039 (0.048) data 0.000 (0.008) loss 0.9009 (0.6708) lr 1.2935e-03 eta 0:14:43\n",
      "Evaluate on the *val* set\n"
     ]
    },
    {
     "name": "stderr",
     "output_type": "stream",
     "text": [
      "\r",
      "  0%|          | 0/2 [00:00<?, ?it/s]\r",
      " 50%|█████     | 1/2 [00:00<00:00,  3.36it/s]\r",
      "100%|██████████| 2/2 [00:00<00:00,  5.28it/s]\n"
     ]
    },
    {
     "name": "stdout",
     "output_type": "stream",
     "text": [
      "=> result\n",
      "* total: 106\n",
      "* correct: 48\n",
      "* accuracy: 45.3%\n",
      "* error: 54.7%\n",
      "* macro_f1: 28.7%\n",
      "epoch [587/1000] batch [20/44] time 0.038 (0.056) data 0.000 (0.014) loss 0.4385 (0.6564) lr 1.2882e-03 eta 0:16:50\n",
      "epoch [587/1000] batch [40/44] time 0.040 (0.048) data 0.000 (0.007) loss 1.0518 (0.6485) lr 1.2882e-03 eta 0:14:29\n",
      "Evaluate on the *val* set\n"
     ]
    },
    {
     "name": "stderr",
     "output_type": "stream",
     "text": [
      "\r",
      "  0%|          | 0/2 [00:00<?, ?it/s]\r",
      " 50%|█████     | 1/2 [00:00<00:00,  3.24it/s]\r",
      "100%|██████████| 2/2 [00:00<00:00,  5.18it/s]\n"
     ]
    },
    {
     "name": "stdout",
     "output_type": "stream",
     "text": [
      "=> result\n",
      "* total: 106\n",
      "* correct: 48\n",
      "* accuracy: 45.3%\n",
      "* error: 54.7%\n",
      "* macro_f1: 28.7%\n",
      "epoch [588/1000] batch [20/44] time 0.043 (0.056) data 0.000 (0.015) loss 0.7744 (0.6446) lr 1.2829e-03 eta 0:16:56\n",
      "epoch [588/1000] batch [40/44] time 0.040 (0.048) data 0.000 (0.007) loss 0.4778 (0.7041) lr 1.2829e-03 eta 0:14:30\n",
      "Evaluate on the *val* set\n"
     ]
    },
    {
     "name": "stderr",
     "output_type": "stream",
     "text": [
      "\r",
      "  0%|          | 0/2 [00:00<?, ?it/s]\r",
      " 50%|█████     | 1/2 [00:00<00:00,  3.21it/s]\r",
      "100%|██████████| 2/2 [00:00<00:00,  4.97it/s]\n"
     ]
    },
    {
     "name": "stdout",
     "output_type": "stream",
     "text": [
      "=> result\n",
      "* total: 106\n",
      "* correct: 46\n",
      "* accuracy: 43.4%\n",
      "* error: 56.6%\n",
      "* macro_f1: 27.4%\n",
      "epoch [589/1000] batch [20/44] time 0.036 (0.056) data 0.000 (0.015) loss 0.4211 (0.6010) lr 1.2776e-03 eta 0:16:54\n",
      "epoch [589/1000] batch [40/44] time 0.038 (0.049) data 0.000 (0.008) loss 0.6987 (0.6911) lr 1.2776e-03 eta 0:14:39\n",
      "Evaluate on the *val* set\n"
     ]
    },
    {
     "name": "stderr",
     "output_type": "stream",
     "text": [
      "\r",
      "  0%|          | 0/2 [00:00<?, ?it/s]\r",
      " 50%|█████     | 1/2 [00:00<00:00,  3.24it/s]\r",
      "100%|██████████| 2/2 [00:00<00:00,  5.13it/s]\n"
     ]
    },
    {
     "name": "stdout",
     "output_type": "stream",
     "text": [
      "=> result\n",
      "* total: 106\n",
      "* correct: 45\n",
      "* accuracy: 42.5%\n",
      "* error: 57.5%\n",
      "* macro_f1: 25.1%\n",
      "epoch [590/1000] batch [20/44] time 0.041 (0.058) data 0.000 (0.014) loss 0.3416 (0.6128) lr 1.2723e-03 eta 0:17:22\n",
      "epoch [590/1000] batch [40/44] time 0.037 (0.049) data 0.000 (0.007) loss 0.9639 (0.6936) lr 1.2723e-03 eta 0:14:37\n",
      "Evaluate on the *val* set\n"
     ]
    },
    {
     "name": "stderr",
     "output_type": "stream",
     "text": [
      "\r",
      "  0%|          | 0/2 [00:00<?, ?it/s]\r",
      " 50%|█████     | 1/2 [00:00<00:00,  3.24it/s]\r",
      "100%|██████████| 2/2 [00:00<00:00,  5.15it/s]\n"
     ]
    },
    {
     "name": "stdout",
     "output_type": "stream",
     "text": [
      "=> result\n",
      "* total: 106\n",
      "* correct: 48\n",
      "* accuracy: 45.3%\n",
      "* error: 54.7%\n",
      "* macro_f1: 29.2%\n",
      "epoch [591/1000] batch [20/44] time 0.044 (0.057) data 0.000 (0.014) loss 0.3931 (0.5637) lr 1.2670e-03 eta 0:17:09\n",
      "epoch [591/1000] batch [40/44] time 0.041 (0.049) data 0.000 (0.007) loss 0.6323 (0.6800) lr 1.2670e-03 eta 0:14:36\n",
      "Evaluate on the *val* set\n"
     ]
    },
    {
     "name": "stderr",
     "output_type": "stream",
     "text": [
      "\r",
      "  0%|          | 0/2 [00:00<?, ?it/s]\r",
      " 50%|█████     | 1/2 [00:00<00:00,  3.27it/s]\r",
      "100%|██████████| 2/2 [00:00<00:00,  5.00it/s]\n"
     ]
    },
    {
     "name": "stdout",
     "output_type": "stream",
     "text": [
      "=> result\n",
      "* total: 106\n",
      "* correct: 45\n",
      "* accuracy: 42.5%\n",
      "* error: 57.5%\n",
      "* macro_f1: 25.0%\n",
      "epoch [592/1000] batch [20/44] time 0.043 (0.055) data 0.000 (0.014) loss 0.8564 (0.6649) lr 1.2618e-03 eta 0:16:31\n",
      "epoch [592/1000] batch [40/44] time 0.041 (0.048) data 0.000 (0.007) loss 0.6489 (0.6714) lr 1.2618e-03 eta 0:14:20\n",
      "Evaluate on the *val* set\n"
     ]
    },
    {
     "name": "stderr",
     "output_type": "stream",
     "text": [
      "\r",
      "  0%|          | 0/2 [00:00<?, ?it/s]\r",
      " 50%|█████     | 1/2 [00:00<00:00,  3.25it/s]\r",
      "100%|██████████| 2/2 [00:00<00:00,  5.14it/s]\n"
     ]
    },
    {
     "name": "stdout",
     "output_type": "stream",
     "text": [
      "=> result\n",
      "* total: 106\n",
      "* correct: 46\n",
      "* accuracy: 43.4%\n",
      "* error: 56.6%\n",
      "* macro_f1: 25.7%\n",
      "epoch [593/1000] batch [20/44] time 0.042 (0.056) data 0.000 (0.016) loss 0.7007 (0.5499) lr 1.2565e-03 eta 0:16:38\n",
      "epoch [593/1000] batch [40/44] time 0.042 (0.048) data 0.000 (0.008) loss 1.0752 (0.6138) lr 1.2565e-03 eta 0:14:24\n",
      "Evaluate on the *val* set\n"
     ]
    },
    {
     "name": "stderr",
     "output_type": "stream",
     "text": [
      "\r",
      "  0%|          | 0/2 [00:00<?, ?it/s]\r",
      " 50%|█████     | 1/2 [00:00<00:00,  3.18it/s]\r",
      "100%|██████████| 2/2 [00:00<00:00,  4.85it/s]\n"
     ]
    },
    {
     "name": "stdout",
     "output_type": "stream",
     "text": [
      "=> result\n",
      "* total: 106\n",
      "* correct: 45\n",
      "* accuracy: 42.5%\n",
      "* error: 57.5%\n",
      "* macro_f1: 27.5%\n",
      "epoch [594/1000] batch [20/44] time 0.039 (0.054) data 0.000 (0.015) loss 0.4978 (0.6412) lr 1.2512e-03 eta 0:16:11\n",
      "epoch [594/1000] batch [40/44] time 0.040 (0.047) data 0.000 (0.007) loss 0.7642 (0.6638) lr 1.2512e-03 eta 0:13:58\n",
      "Evaluate on the *val* set\n"
     ]
    },
    {
     "name": "stderr",
     "output_type": "stream",
     "text": [
      "\r",
      "  0%|          | 0/2 [00:00<?, ?it/s]\r",
      " 50%|█████     | 1/2 [00:00<00:00,  3.30it/s]\r",
      "100%|██████████| 2/2 [00:00<00:00,  5.38it/s]\n"
     ]
    },
    {
     "name": "stdout",
     "output_type": "stream",
     "text": [
      "=> result\n",
      "* total: 106\n",
      "* correct: 48\n",
      "* accuracy: 45.3%\n",
      "* error: 54.7%\n",
      "* macro_f1: 26.3%\n",
      "epoch [595/1000] batch [20/44] time 0.042 (0.059) data 0.000 (0.017) loss 0.8892 (0.6878) lr 1.2459e-03 eta 0:17:24\n",
      "epoch [595/1000] batch [40/44] time 0.042 (0.049) data 0.000 (0.009) loss 0.4873 (0.6677) lr 1.2459e-03 eta 0:14:35\n",
      "Evaluate on the *val* set\n"
     ]
    },
    {
     "name": "stderr",
     "output_type": "stream",
     "text": [
      "\r",
      "  0%|          | 0/2 [00:00<?, ?it/s]\r",
      " 50%|█████     | 1/2 [00:00<00:00,  3.27it/s]\r",
      "100%|██████████| 2/2 [00:00<00:00,  5.05it/s]\n"
     ]
    },
    {
     "name": "stdout",
     "output_type": "stream",
     "text": [
      "=> result\n",
      "* total: 106\n",
      "* correct: 47\n",
      "* accuracy: 44.3%\n",
      "* error: 55.7%\n",
      "* macro_f1: 26.5%\n",
      "epoch [596/1000] batch [20/44] time 0.043 (0.054) data 0.000 (0.014) loss 0.3850 (0.6823) lr 1.2407e-03 eta 0:16:02\n",
      "epoch [596/1000] batch [40/44] time 0.040 (0.047) data 0.000 (0.007) loss 0.9097 (0.6803) lr 1.2407e-03 eta 0:13:56\n",
      "Evaluate on the *val* set\n"
     ]
    },
    {
     "name": "stderr",
     "output_type": "stream",
     "text": [
      "\r",
      "  0%|          | 0/2 [00:00<?, ?it/s]\r",
      " 50%|█████     | 1/2 [00:00<00:00,  3.15it/s]\r",
      "100%|██████████| 2/2 [00:00<00:00,  5.02it/s]\n"
     ]
    },
    {
     "name": "stdout",
     "output_type": "stream",
     "text": [
      "=> result\n",
      "* total: 106\n",
      "* correct: 46\n",
      "* accuracy: 43.4%\n",
      "* error: 56.6%\n",
      "* macro_f1: 24.4%\n",
      "epoch [597/1000] batch [20/44] time 0.040 (0.056) data 0.000 (0.015) loss 0.7358 (0.5749) lr 1.2354e-03 eta 0:16:27\n",
      "epoch [597/1000] batch [40/44] time 0.040 (0.048) data 0.000 (0.007) loss 0.8716 (0.6631) lr 1.2354e-03 eta 0:14:13\n",
      "Evaluate on the *val* set\n"
     ]
    },
    {
     "name": "stderr",
     "output_type": "stream",
     "text": [
      "\r",
      "  0%|          | 0/2 [00:00<?, ?it/s]\r",
      " 50%|█████     | 1/2 [00:00<00:00,  3.19it/s]\r",
      "100%|██████████| 2/2 [00:00<00:00,  5.09it/s]\n"
     ]
    },
    {
     "name": "stdout",
     "output_type": "stream",
     "text": [
      "=> result\n",
      "* total: 106\n",
      "* correct: 45\n",
      "* accuracy: 42.5%\n",
      "* error: 57.5%\n",
      "* macro_f1: 25.3%\n",
      "epoch [598/1000] batch [20/44] time 0.038 (0.056) data 0.000 (0.015) loss 0.2883 (0.5783) lr 1.2302e-03 eta 0:16:30\n",
      "epoch [598/1000] batch [40/44] time 0.041 (0.048) data 0.000 (0.008) loss 0.6475 (0.6233) lr 1.2302e-03 eta 0:14:13\n",
      "Evaluate on the *val* set\n"
     ]
    },
    {
     "name": "stderr",
     "output_type": "stream",
     "text": [
      "\r",
      "  0%|          | 0/2 [00:00<?, ?it/s]\r",
      " 50%|█████     | 1/2 [00:00<00:00,  3.21it/s]\r",
      "100%|██████████| 2/2 [00:00<00:00,  4.93it/s]\n"
     ]
    },
    {
     "name": "stdout",
     "output_type": "stream",
     "text": [
      "=> result\n",
      "* total: 106\n",
      "* correct: 48\n",
      "* accuracy: 45.3%\n",
      "* error: 54.7%\n",
      "* macro_f1: 29.4%\n",
      "epoch [599/1000] batch [20/44] time 0.040 (0.059) data 0.000 (0.017) loss 0.2283 (0.6678) lr 1.2249e-03 eta 0:17:16\n",
      "epoch [599/1000] batch [40/44] time 0.042 (0.049) data 0.000 (0.009) loss 0.7026 (0.6341) lr 1.2249e-03 eta 0:14:23\n",
      "Evaluate on the *val* set\n"
     ]
    },
    {
     "name": "stderr",
     "output_type": "stream",
     "text": [
      "\r",
      "  0%|          | 0/2 [00:00<?, ?it/s]\r",
      " 50%|█████     | 1/2 [00:00<00:00,  3.25it/s]\r",
      "100%|██████████| 2/2 [00:00<00:00,  5.12it/s]\n"
     ]
    },
    {
     "name": "stdout",
     "output_type": "stream",
     "text": [
      "=> result\n",
      "* total: 106\n",
      "* correct: 49\n",
      "* accuracy: 46.2%\n",
      "* error: 53.8%\n",
      "* macro_f1: 30.8%\n",
      "epoch [600/1000] batch [20/44] time 0.037 (0.055) data 0.000 (0.014) loss 0.6221 (0.6125) lr 1.2197e-03 eta 0:16:04\n",
      "epoch [600/1000] batch [40/44] time 0.038 (0.048) data 0.000 (0.007) loss 1.0361 (0.6518) lr 1.2197e-03 eta 0:13:57\n",
      "Evaluate on the *val* set\n"
     ]
    },
    {
     "name": "stderr",
     "output_type": "stream",
     "text": [
      "\r",
      "  0%|          | 0/2 [00:00<?, ?it/s]\r",
      " 50%|█████     | 1/2 [00:00<00:00,  3.30it/s]\r",
      "100%|██████████| 2/2 [00:00<00:00,  5.31it/s]\n"
     ]
    },
    {
     "name": "stdout",
     "output_type": "stream",
     "text": [
      "=> result\n",
      "* total: 106\n",
      "* correct: 47\n",
      "* accuracy: 44.3%\n",
      "* error: 55.7%\n",
      "* macro_f1: 29.2%\n",
      "epoch [601/1000] batch [20/44] time 0.039 (0.056) data 0.000 (0.014) loss 0.1975 (0.6043) lr 1.2145e-03 eta 0:16:24\n",
      "epoch [601/1000] batch [40/44] time 0.039 (0.048) data 0.000 (0.007) loss 0.6567 (0.6719) lr 1.2145e-03 eta 0:13:55\n",
      "Evaluate on the *val* set\n"
     ]
    },
    {
     "name": "stderr",
     "output_type": "stream",
     "text": [
      "\r",
      "  0%|          | 0/2 [00:00<?, ?it/s]\r",
      " 50%|█████     | 1/2 [00:00<00:00,  3.23it/s]\r",
      "100%|██████████| 2/2 [00:00<00:00,  5.12it/s]\n"
     ]
    },
    {
     "name": "stdout",
     "output_type": "stream",
     "text": [
      "=> result\n",
      "* total: 106\n",
      "* correct: 45\n",
      "* accuracy: 42.5%\n",
      "* error: 57.5%\n",
      "* macro_f1: 25.5%\n",
      "epoch [602/1000] batch [20/44] time 0.037 (0.056) data 0.000 (0.015) loss 0.3025 (0.6220) lr 1.2092e-03 eta 0:16:17\n",
      "epoch [602/1000] batch [40/44] time 0.041 (0.048) data 0.000 (0.007) loss 0.2418 (0.6704) lr 1.2092e-03 eta 0:14:00\n",
      "Evaluate on the *val* set\n"
     ]
    },
    {
     "name": "stderr",
     "output_type": "stream",
     "text": [
      "\r",
      "  0%|          | 0/2 [00:00<?, ?it/s]\r",
      " 50%|█████     | 1/2 [00:00<00:00,  3.29it/s]\r",
      "100%|██████████| 2/2 [00:00<00:00,  5.10it/s]\n"
     ]
    },
    {
     "name": "stdout",
     "output_type": "stream",
     "text": [
      "=> result\n",
      "* total: 106\n",
      "* correct: 48\n",
      "* accuracy: 45.3%\n",
      "* error: 54.7%\n",
      "* macro_f1: 28.9%\n",
      "epoch [603/1000] batch [20/44] time 0.043 (0.056) data 0.000 (0.014) loss 0.4519 (0.5647) lr 1.2040e-03 eta 0:16:17\n",
      "epoch [603/1000] batch [40/44] time 0.038 (0.048) data 0.000 (0.007) loss 1.1191 (0.6364) lr 1.2040e-03 eta 0:13:51\n",
      "Evaluate on the *val* set\n"
     ]
    },
    {
     "name": "stderr",
     "output_type": "stream",
     "text": [
      "\r",
      "  0%|          | 0/2 [00:00<?, ?it/s]\r",
      " 50%|█████     | 1/2 [00:00<00:00,  3.20it/s]\r",
      "100%|██████████| 2/2 [00:00<00:00,  5.17it/s]\n"
     ]
    },
    {
     "name": "stdout",
     "output_type": "stream",
     "text": [
      "=> result\n",
      "* total: 106\n",
      "* correct: 47\n",
      "* accuracy: 44.3%\n",
      "* error: 55.7%\n",
      "* macro_f1: 27.3%\n",
      "epoch [604/1000] batch [20/44] time 0.039 (0.055) data 0.000 (0.014) loss 0.4114 (0.6473) lr 1.1988e-03 eta 0:15:51\n",
      "epoch [604/1000] batch [40/44] time 0.041 (0.047) data 0.000 (0.007) loss 0.5713 (0.6358) lr 1.1988e-03 eta 0:13:44\n",
      "Evaluate on the *val* set\n"
     ]
    },
    {
     "name": "stderr",
     "output_type": "stream",
     "text": [
      "\r",
      "  0%|          | 0/2 [00:00<?, ?it/s]\r",
      " 50%|█████     | 1/2 [00:00<00:00,  3.23it/s]\r",
      "100%|██████████| 2/2 [00:00<00:00,  4.99it/s]\n"
     ]
    },
    {
     "name": "stdout",
     "output_type": "stream",
     "text": [
      "=> result\n",
      "* total: 106\n",
      "* correct: 48\n",
      "* accuracy: 45.3%\n",
      "* error: 54.7%\n",
      "* macro_f1: 28.4%\n",
      "epoch [605/1000] batch [20/44] time 0.044 (0.053) data 0.000 (0.014) loss 0.4673 (0.5939) lr 1.1936e-03 eta 0:15:26\n",
      "epoch [605/1000] batch [40/44] time 0.040 (0.047) data 0.000 (0.007) loss 0.6704 (0.6343) lr 1.1936e-03 eta 0:13:34\n",
      "Evaluate on the *val* set\n"
     ]
    },
    {
     "name": "stderr",
     "output_type": "stream",
     "text": [
      "\r",
      "  0%|          | 0/2 [00:00<?, ?it/s]\r",
      " 50%|█████     | 1/2 [00:00<00:00,  3.31it/s]\r",
      "100%|██████████| 2/2 [00:00<00:00,  5.20it/s]\n"
     ]
    },
    {
     "name": "stdout",
     "output_type": "stream",
     "text": [
      "=> result\n",
      "* total: 106\n",
      "* correct: 46\n",
      "* accuracy: 43.4%\n",
      "* error: 56.6%\n",
      "* macro_f1: 25.4%\n",
      "epoch [606/1000] batch [20/44] time 0.041 (0.055) data 0.000 (0.015) loss 0.6714 (0.5588) lr 1.1883e-03 eta 0:15:53\n",
      "epoch [606/1000] batch [40/44] time 0.037 (0.047) data 0.000 (0.007) loss 1.0938 (0.6373) lr 1.1883e-03 eta 0:13:43\n",
      "Evaluate on the *val* set\n"
     ]
    },
    {
     "name": "stderr",
     "output_type": "stream",
     "text": [
      "\r",
      "  0%|          | 0/2 [00:00<?, ?it/s]\r",
      " 50%|█████     | 1/2 [00:00<00:00,  3.12it/s]\r",
      "100%|██████████| 2/2 [00:00<00:00,  4.88it/s]\n"
     ]
    },
    {
     "name": "stdout",
     "output_type": "stream",
     "text": [
      "=> result\n",
      "* total: 106\n",
      "* correct: 48\n",
      "* accuracy: 45.3%\n",
      "* error: 54.7%\n",
      "* macro_f1: 29.5%\n",
      "epoch [607/1000] batch [20/44] time 0.039 (0.058) data 0.000 (0.016) loss 0.3804 (0.6233) lr 1.1831e-03 eta 0:16:48\n",
      "epoch [607/1000] batch [40/44] time 0.041 (0.049) data 0.000 (0.008) loss 1.0889 (0.6396) lr 1.1831e-03 eta 0:14:06\n",
      "Evaluate on the *val* set\n"
     ]
    },
    {
     "name": "stderr",
     "output_type": "stream",
     "text": [
      "\r",
      "  0%|          | 0/2 [00:00<?, ?it/s]\r",
      " 50%|█████     | 1/2 [00:00<00:00,  3.19it/s]\r",
      "100%|██████████| 2/2 [00:00<00:00,  5.21it/s]\n"
     ]
    },
    {
     "name": "stdout",
     "output_type": "stream",
     "text": [
      "=> result\n",
      "* total: 106\n",
      "* correct: 48\n",
      "* accuracy: 45.3%\n",
      "* error: 54.7%\n",
      "* macro_f1: 28.9%\n",
      "epoch [608/1000] batch [20/44] time 0.044 (0.056) data 0.000 (0.014) loss 0.9937 (0.6486) lr 1.1779e-03 eta 0:16:12\n",
      "epoch [608/1000] batch [40/44] time 0.037 (0.048) data 0.000 (0.007) loss 0.3782 (0.6497) lr 1.1779e-03 eta 0:13:52\n",
      "Evaluate on the *val* set\n"
     ]
    },
    {
     "name": "stderr",
     "output_type": "stream",
     "text": [
      "\r",
      "  0%|          | 0/2 [00:00<?, ?it/s]\r",
      " 50%|█████     | 1/2 [00:00<00:00,  3.31it/s]\r",
      "100%|██████████| 2/2 [00:00<00:00,  5.27it/s]\n"
     ]
    },
    {
     "name": "stdout",
     "output_type": "stream",
     "text": [
      "=> result\n",
      "* total: 106\n",
      "* correct: 48\n",
      "* accuracy: 45.3%\n",
      "* error: 54.7%\n",
      "* macro_f1: 30.0%\n",
      "epoch [609/1000] batch [20/44] time 0.044 (0.054) data 0.000 (0.014) loss 0.4639 (0.6254) lr 1.1728e-03 eta 0:15:37\n",
      "epoch [609/1000] batch [40/44] time 0.038 (0.048) data 0.000 (0.007) loss 0.5601 (0.6581) lr 1.1728e-03 eta 0:13:42\n",
      "Evaluate on the *val* set\n"
     ]
    },
    {
     "name": "stderr",
     "output_type": "stream",
     "text": [
      "\r",
      "  0%|          | 0/2 [00:00<?, ?it/s]\r",
      " 50%|█████     | 1/2 [00:00<00:00,  3.25it/s]\r",
      "100%|██████████| 2/2 [00:00<00:00,  5.13it/s]\n"
     ]
    },
    {
     "name": "stdout",
     "output_type": "stream",
     "text": [
      "=> result\n",
      "* total: 106\n",
      "* correct: 44\n",
      "* accuracy: 41.5%\n",
      "* error: 58.5%\n",
      "* macro_f1: 24.1%\n",
      "epoch [610/1000] batch [20/44] time 0.042 (0.048) data 0.000 (0.015) loss 0.3997 (0.6795) lr 1.1676e-03 eta 0:13:43\n",
      "epoch [610/1000] batch [40/44] time 0.040 (0.043) data 0.000 (0.007) loss 1.5586 (0.6683) lr 1.1676e-03 eta 0:12:12\n",
      "Evaluate on the *val* set\n"
     ]
    },
    {
     "name": "stderr",
     "output_type": "stream",
     "text": [
      "\r",
      "  0%|          | 0/2 [00:00<?, ?it/s]\r",
      " 50%|█████     | 1/2 [00:00<00:00,  3.26it/s]\r",
      "100%|██████████| 2/2 [00:00<00:00,  5.15it/s]\n"
     ]
    },
    {
     "name": "stdout",
     "output_type": "stream",
     "text": [
      "=> result\n",
      "* total: 106\n",
      "* correct: 50\n",
      "* accuracy: 47.2%\n",
      "* error: 52.8%\n",
      "* macro_f1: 29.7%\n",
      "epoch [611/1000] batch [20/44] time 0.041 (0.056) data 0.000 (0.014) loss 0.9087 (0.5091) lr 1.1624e-03 eta 0:15:52\n",
      "epoch [611/1000] batch [40/44] time 0.042 (0.048) data 0.000 (0.007) loss 0.7861 (0.6670) lr 1.1624e-03 eta 0:13:37\n",
      "Evaluate on the *val* set\n"
     ]
    },
    {
     "name": "stderr",
     "output_type": "stream",
     "text": [
      "\r",
      "  0%|          | 0/2 [00:00<?, ?it/s]\r",
      " 50%|█████     | 1/2 [00:00<00:00,  3.22it/s]\r",
      "100%|██████████| 2/2 [00:00<00:00,  5.09it/s]\n"
     ]
    },
    {
     "name": "stdout",
     "output_type": "stream",
     "text": [
      "=> result\n",
      "* total: 106\n",
      "* correct: 46\n",
      "* accuracy: 43.4%\n",
      "* error: 56.6%\n",
      "* macro_f1: 29.3%\n",
      "epoch [612/1000] batch [20/44] time 0.044 (0.056) data 0.000 (0.014) loss 1.0713 (0.6950) lr 1.1572e-03 eta 0:15:56\n",
      "epoch [612/1000] batch [40/44] time 0.038 (0.048) data 0.000 (0.007) loss 0.8130 (0.7020) lr 1.1572e-03 eta 0:13:41\n",
      "Evaluate on the *val* set\n"
     ]
    },
    {
     "name": "stderr",
     "output_type": "stream",
     "text": [
      "\r",
      "  0%|          | 0/2 [00:00<?, ?it/s]\r",
      " 50%|█████     | 1/2 [00:00<00:00,  3.24it/s]\r",
      "100%|██████████| 2/2 [00:00<00:00,  5.00it/s]\n"
     ]
    },
    {
     "name": "stdout",
     "output_type": "stream",
     "text": [
      "=> result\n",
      "* total: 106\n",
      "* correct: 47\n",
      "* accuracy: 44.3%\n",
      "* error: 55.7%\n",
      "* macro_f1: 28.2%\n",
      "epoch [613/1000] batch [20/44] time 0.041 (0.055) data 0.000 (0.014) loss 0.2394 (0.5394) lr 1.1520e-03 eta 0:15:40\n",
      "epoch [613/1000] batch [40/44] time 0.040 (0.047) data 0.000 (0.007) loss 1.0879 (0.6504) lr 1.1520e-03 eta 0:13:22\n",
      "Evaluate on the *val* set\n"
     ]
    },
    {
     "name": "stderr",
     "output_type": "stream",
     "text": [
      "\r",
      "  0%|          | 0/2 [00:00<?, ?it/s]\r",
      " 50%|█████     | 1/2 [00:00<00:00,  3.28it/s]\r",
      "100%|██████████| 2/2 [00:00<00:00,  5.19it/s]\n"
     ]
    },
    {
     "name": "stdout",
     "output_type": "stream",
     "text": [
      "=> result\n",
      "* total: 106\n",
      "* correct: 46\n",
      "* accuracy: 43.4%\n",
      "* error: 56.6%\n",
      "* macro_f1: 29.2%\n",
      "epoch [614/1000] batch [20/44] time 0.043 (0.056) data 0.000 (0.014) loss 0.8179 (0.6154) lr 1.1469e-03 eta 0:15:53\n",
      "epoch [614/1000] batch [40/44] time 0.041 (0.048) data 0.000 (0.007) loss 0.6943 (0.6701) lr 1.1469e-03 eta 0:13:27\n",
      "Evaluate on the *val* set\n"
     ]
    },
    {
     "name": "stderr",
     "output_type": "stream",
     "text": [
      "\r",
      "  0%|          | 0/2 [00:00<?, ?it/s]\r",
      " 50%|█████     | 1/2 [00:00<00:00,  3.21it/s]\r",
      "100%|██████████| 2/2 [00:00<00:00,  5.14it/s]\n"
     ]
    },
    {
     "name": "stdout",
     "output_type": "stream",
     "text": [
      "=> result\n",
      "* total: 106\n",
      "* correct: 47\n",
      "* accuracy: 44.3%\n",
      "* error: 55.7%\n",
      "* macro_f1: 29.2%\n",
      "epoch [615/1000] batch [20/44] time 0.042 (0.055) data 0.000 (0.014) loss 0.5024 (0.6368) lr 1.1417e-03 eta 0:15:28\n",
      "epoch [615/1000] batch [40/44] time 0.042 (0.047) data 0.000 (0.007) loss 0.4075 (0.6334) lr 1.1417e-03 eta 0:13:22\n",
      "Evaluate on the *val* set\n"
     ]
    },
    {
     "name": "stderr",
     "output_type": "stream",
     "text": [
      "\r",
      "  0%|          | 0/2 [00:00<?, ?it/s]\r",
      " 50%|█████     | 1/2 [00:00<00:00,  3.26it/s]\r",
      "100%|██████████| 2/2 [00:00<00:00,  5.12it/s]\n"
     ]
    },
    {
     "name": "stdout",
     "output_type": "stream",
     "text": [
      "=> result\n",
      "* total: 106\n",
      "* correct: 47\n",
      "* accuracy: 44.3%\n",
      "* error: 55.7%\n",
      "* macro_f1: 26.2%\n",
      "epoch [616/1000] batch [20/44] time 0.047 (0.056) data 0.000 (0.014) loss 0.6333 (0.6041) lr 1.1366e-03 eta 0:15:48\n",
      "epoch [616/1000] batch [40/44] time 0.041 (0.048) data 0.000 (0.007) loss 0.4087 (0.6292) lr 1.1366e-03 eta 0:13:34\n",
      "Evaluate on the *val* set\n"
     ]
    },
    {
     "name": "stderr",
     "output_type": "stream",
     "text": [
      "\r",
      "  0%|          | 0/2 [00:00<?, ?it/s]\r",
      " 50%|█████     | 1/2 [00:00<00:00,  3.22it/s]\r",
      "100%|██████████| 2/2 [00:00<00:00,  5.10it/s]\n"
     ]
    },
    {
     "name": "stdout",
     "output_type": "stream",
     "text": [
      "=> result\n",
      "* total: 106\n",
      "* correct: 49\n",
      "* accuracy: 46.2%\n",
      "* error: 53.8%\n",
      "* macro_f1: 28.8%\n",
      "epoch [617/1000] batch [20/44] time 0.041 (0.055) data 0.000 (0.015) loss 0.1005 (0.6072) lr 1.1314e-03 eta 0:15:24\n",
      "epoch [617/1000] batch [40/44] time 0.042 (0.047) data 0.000 (0.008) loss 0.5146 (0.6712) lr 1.1314e-03 eta 0:13:20\n",
      "Evaluate on the *val* set\n"
     ]
    },
    {
     "name": "stderr",
     "output_type": "stream",
     "text": [
      "\r",
      "  0%|          | 0/2 [00:00<?, ?it/s]\r",
      " 50%|█████     | 1/2 [00:00<00:00,  3.19it/s]\r",
      "100%|██████████| 2/2 [00:00<00:00,  4.86it/s]\n"
     ]
    },
    {
     "name": "stdout",
     "output_type": "stream",
     "text": [
      "=> result\n",
      "* total: 106\n",
      "* correct: 49\n",
      "* accuracy: 46.2%\n",
      "* error: 53.8%\n",
      "* macro_f1: 31.6%\n",
      "epoch [618/1000] batch [20/44] time 0.036 (0.059) data 0.000 (0.018) loss 0.4624 (0.5319) lr 1.1263e-03 eta 0:16:24\n",
      "epoch [618/1000] batch [40/44] time 0.037 (0.049) data 0.000 (0.009) loss 0.8149 (0.6084) lr 1.1263e-03 eta 0:13:48\n",
      "Evaluate on the *val* set\n"
     ]
    },
    {
     "name": "stderr",
     "output_type": "stream",
     "text": [
      "\r",
      "  0%|          | 0/2 [00:00<?, ?it/s]\r",
      " 50%|█████     | 1/2 [00:00<00:00,  3.24it/s]\r",
      "100%|██████████| 2/2 [00:00<00:00,  5.06it/s]\n"
     ]
    },
    {
     "name": "stdout",
     "output_type": "stream",
     "text": [
      "=> result\n",
      "* total: 106\n",
      "* correct: 47\n",
      "* accuracy: 44.3%\n",
      "* error: 55.7%\n",
      "* macro_f1: 27.3%\n",
      "epoch [619/1000] batch [20/44] time 0.040 (0.055) data 0.000 (0.015) loss 0.3030 (0.6287) lr 1.1211e-03 eta 0:15:21\n",
      "epoch [619/1000] batch [40/44] time 0.041 (0.047) data 0.000 (0.007) loss 1.2793 (0.6139) lr 1.1211e-03 eta 0:13:09\n",
      "Evaluate on the *val* set\n"
     ]
    },
    {
     "name": "stderr",
     "output_type": "stream",
     "text": [
      "\r",
      "  0%|          | 0/2 [00:00<?, ?it/s]\r",
      " 50%|█████     | 1/2 [00:00<00:00,  3.17it/s]\r",
      "100%|██████████| 2/2 [00:00<00:00,  4.91it/s]\n"
     ]
    },
    {
     "name": "stdout",
     "output_type": "stream",
     "text": [
      "=> result\n",
      "* total: 106\n",
      "* correct: 48\n",
      "* accuracy: 45.3%\n",
      "* error: 54.7%\n",
      "* macro_f1: 28.7%\n",
      "epoch [620/1000] batch [20/44] time 0.043 (0.054) data 0.000 (0.014) loss 0.2424 (0.6109) lr 1.1160e-03 eta 0:15:01\n",
      "epoch [620/1000] batch [40/44] time 0.039 (0.046) data 0.000 (0.007) loss 0.3586 (0.6171) lr 1.1160e-03 eta 0:12:56\n",
      "Evaluate on the *val* set\n"
     ]
    },
    {
     "name": "stderr",
     "output_type": "stream",
     "text": [
      "\r",
      "  0%|          | 0/2 [00:00<?, ?it/s]\r",
      " 50%|█████     | 1/2 [00:00<00:00,  3.33it/s]\r",
      "100%|██████████| 2/2 [00:00<00:00,  5.10it/s]\n"
     ]
    },
    {
     "name": "stdout",
     "output_type": "stream",
     "text": [
      "=> result\n",
      "* total: 106\n",
      "* correct: 49\n",
      "* accuracy: 46.2%\n",
      "* error: 53.8%\n",
      "* macro_f1: 30.7%\n",
      "epoch [621/1000] batch [20/44] time 0.037 (0.056) data 0.000 (0.015) loss 0.9121 (0.5541) lr 1.1109e-03 eta 0:15:30\n",
      "epoch [621/1000] batch [40/44] time 0.040 (0.048) data 0.000 (0.007) loss 0.9819 (0.6106) lr 1.1109e-03 eta 0:13:18\n",
      "Evaluate on the *val* set\n"
     ]
    },
    {
     "name": "stderr",
     "output_type": "stream",
     "text": [
      "\r",
      "  0%|          | 0/2 [00:00<?, ?it/s]\r",
      " 50%|█████     | 1/2 [00:00<00:00,  3.17it/s]\r",
      "100%|██████████| 2/2 [00:00<00:00,  5.00it/s]\n"
     ]
    },
    {
     "name": "stdout",
     "output_type": "stream",
     "text": [
      "=> result\n",
      "* total: 106\n",
      "* correct: 46\n",
      "* accuracy: 43.4%\n",
      "* error: 56.6%\n",
      "* macro_f1: 25.7%\n",
      "epoch [622/1000] batch [20/44] time 0.044 (0.056) data 0.000 (0.015) loss 0.3782 (0.5840) lr 1.1058e-03 eta 0:15:40\n",
      "epoch [622/1000] batch [40/44] time 0.036 (0.048) data 0.000 (0.007) loss 1.2764 (0.6694) lr 1.1058e-03 eta 0:13:16\n",
      "Evaluate on the *val* set\n"
     ]
    },
    {
     "name": "stderr",
     "output_type": "stream",
     "text": [
      "\r",
      "  0%|          | 0/2 [00:00<?, ?it/s]\r",
      " 50%|█████     | 1/2 [00:00<00:00,  3.25it/s]\r",
      "100%|██████████| 2/2 [00:00<00:00,  5.07it/s]\n"
     ]
    },
    {
     "name": "stdout",
     "output_type": "stream",
     "text": [
      "=> result\n",
      "* total: 106\n",
      "* correct: 43\n",
      "* accuracy: 40.6%\n",
      "* error: 59.4%\n",
      "* macro_f1: 26.9%\n",
      "epoch [623/1000] batch [20/44] time 0.042 (0.054) data 0.000 (0.014) loss 0.3694 (0.7280) lr 1.1007e-03 eta 0:15:04\n",
      "epoch [623/1000] batch [40/44] time 0.037 (0.047) data 0.000 (0.007) loss 0.9448 (0.6412) lr 1.1007e-03 eta 0:13:04\n",
      "Evaluate on the *val* set\n"
     ]
    },
    {
     "name": "stderr",
     "output_type": "stream",
     "text": [
      "\r",
      "  0%|          | 0/2 [00:00<?, ?it/s]\r",
      " 50%|█████     | 1/2 [00:00<00:00,  3.29it/s]\r",
      "100%|██████████| 2/2 [00:00<00:00,  5.23it/s]\n"
     ]
    },
    {
     "name": "stdout",
     "output_type": "stream",
     "text": [
      "=> result\n",
      "* total: 106\n",
      "* correct: 44\n",
      "* accuracy: 41.5%\n",
      "* error: 58.5%\n",
      "* macro_f1: 24.8%\n",
      "epoch [624/1000] batch [20/44] time 0.038 (0.055) data 0.000 (0.014) loss 1.3799 (0.4551) lr 1.0956e-03 eta 0:15:03\n",
      "epoch [624/1000] batch [40/44] time 0.040 (0.047) data 0.000 (0.007) loss 0.8169 (0.6374) lr 1.0956e-03 eta 0:13:05\n",
      "Evaluate on the *val* set\n"
     ]
    },
    {
     "name": "stderr",
     "output_type": "stream",
     "text": [
      "\r",
      "  0%|          | 0/2 [00:00<?, ?it/s]\r",
      " 50%|█████     | 1/2 [00:00<00:00,  3.25it/s]\r",
      "100%|██████████| 2/2 [00:00<00:00,  5.16it/s]\n"
     ]
    },
    {
     "name": "stdout",
     "output_type": "stream",
     "text": [
      "=> result\n",
      "* total: 106\n",
      "* correct: 45\n",
      "* accuracy: 42.5%\n",
      "* error: 57.5%\n",
      "* macro_f1: 28.7%\n",
      "epoch [625/1000] batch [20/44] time 0.044 (0.058) data 0.000 (0.017) loss 0.6812 (0.6197) lr 1.0905e-03 eta 0:15:57\n",
      "epoch [625/1000] batch [40/44] time 0.042 (0.049) data 0.000 (0.008) loss 0.6064 (0.6515) lr 1.0905e-03 eta 0:13:28\n",
      "Evaluate on the *val* set\n"
     ]
    },
    {
     "name": "stderr",
     "output_type": "stream",
     "text": [
      "\r",
      "  0%|          | 0/2 [00:00<?, ?it/s]\r",
      " 50%|█████     | 1/2 [00:00<00:00,  3.18it/s]\r",
      "100%|██████████| 2/2 [00:00<00:00,  5.03it/s]\n"
     ]
    },
    {
     "name": "stdout",
     "output_type": "stream",
     "text": [
      "=> result\n",
      "* total: 106\n",
      "* correct: 48\n",
      "* accuracy: 45.3%\n",
      "* error: 54.7%\n",
      "* macro_f1: 28.6%\n",
      "epoch [626/1000] batch [20/44] time 0.042 (0.054) data 0.000 (0.015) loss 0.4968 (0.6300) lr 1.0854e-03 eta 0:14:57\n",
      "epoch [626/1000] batch [40/44] time 0.041 (0.047) data 0.000 (0.007) loss 0.6206 (0.6565) lr 1.0854e-03 eta 0:12:55\n",
      "Evaluate on the *val* set\n"
     ]
    },
    {
     "name": "stderr",
     "output_type": "stream",
     "text": [
      "\r",
      "  0%|          | 0/2 [00:00<?, ?it/s]\r",
      " 50%|█████     | 1/2 [00:00<00:00,  3.30it/s]\r",
      "100%|██████████| 2/2 [00:00<00:00,  5.24it/s]\n"
     ]
    },
    {
     "name": "stdout",
     "output_type": "stream",
     "text": [
      "=> result\n",
      "* total: 106\n",
      "* correct: 48\n",
      "* accuracy: 45.3%\n",
      "* error: 54.7%\n",
      "* macro_f1: 29.2%\n",
      "epoch [627/1000] batch [20/44] time 0.044 (0.057) data 0.000 (0.015) loss 0.5337 (0.5919) lr 1.0803e-03 eta 0:15:30\n",
      "epoch [627/1000] batch [40/44] time 0.039 (0.048) data 0.000 (0.007) loss 0.1625 (0.6314) lr 1.0803e-03 eta 0:13:12\n",
      "Evaluate on the *val* set\n"
     ]
    },
    {
     "name": "stderr",
     "output_type": "stream",
     "text": [
      "\r",
      "  0%|          | 0/2 [00:00<?, ?it/s]\r",
      " 50%|█████     | 1/2 [00:00<00:00,  3.22it/s]\r",
      "100%|██████████| 2/2 [00:00<00:00,  5.13it/s]\n"
     ]
    },
    {
     "name": "stdout",
     "output_type": "stream",
     "text": [
      "=> result\n",
      "* total: 106\n",
      "* correct: 47\n",
      "* accuracy: 44.3%\n",
      "* error: 55.7%\n",
      "* macro_f1: 28.3%\n",
      "epoch [628/1000] batch [20/44] time 0.041 (0.056) data 0.000 (0.015) loss 1.4814 (0.5990) lr 1.0752e-03 eta 0:15:21\n",
      "epoch [628/1000] batch [40/44] time 0.041 (0.049) data 0.000 (0.008) loss 0.3535 (0.6355) lr 1.0752e-03 eta 0:13:14\n",
      "Evaluate on the *val* set\n"
     ]
    },
    {
     "name": "stderr",
     "output_type": "stream",
     "text": [
      "\r",
      "  0%|          | 0/2 [00:00<?, ?it/s]\r",
      " 50%|█████     | 1/2 [00:00<00:00,  3.35it/s]\r",
      "100%|██████████| 2/2 [00:00<00:00,  5.29it/s]\n"
     ]
    },
    {
     "name": "stdout",
     "output_type": "stream",
     "text": [
      "=> result\n",
      "* total: 106\n",
      "* correct: 45\n",
      "* accuracy: 42.5%\n",
      "* error: 57.5%\n",
      "* macro_f1: 24.9%\n",
      "epoch [629/1000] batch [20/44] time 0.043 (0.056) data 0.000 (0.015) loss 0.9102 (0.6061) lr 1.0702e-03 eta 0:15:17\n",
      "epoch [629/1000] batch [40/44] time 0.037 (0.048) data 0.000 (0.008) loss 0.4978 (0.6040) lr 1.0702e-03 eta 0:13:07\n",
      "Evaluate on the *val* set\n"
     ]
    },
    {
     "name": "stderr",
     "output_type": "stream",
     "text": [
      "\r",
      "  0%|          | 0/2 [00:00<?, ?it/s]\r",
      " 50%|█████     | 1/2 [00:00<00:00,  3.28it/s]\r",
      "100%|██████████| 2/2 [00:00<00:00,  5.19it/s]\n"
     ]
    },
    {
     "name": "stdout",
     "output_type": "stream",
     "text": [
      "=> result\n",
      "* total: 106\n",
      "* correct: 47\n",
      "* accuracy: 44.3%\n",
      "* error: 55.7%\n",
      "* macro_f1: 26.5%\n",
      "epoch [630/1000] batch [20/44] time 0.042 (0.054) data 0.000 (0.015) loss 0.3916 (0.5677) lr 1.0651e-03 eta 0:14:43\n",
      "epoch [630/1000] batch [40/44] time 0.032 (0.043) data 0.000 (0.007) loss 0.4236 (0.6199) lr 1.0651e-03 eta 0:11:32\n",
      "Evaluate on the *val* set\n"
     ]
    },
    {
     "name": "stderr",
     "output_type": "stream",
     "text": [
      "\r",
      "  0%|          | 0/2 [00:00<?, ?it/s]\r",
      " 50%|█████     | 1/2 [00:00<00:00,  3.21it/s]\r",
      "100%|██████████| 2/2 [00:00<00:00,  4.71it/s]\n"
     ]
    },
    {
     "name": "stdout",
     "output_type": "stream",
     "text": [
      "=> result\n",
      "* total: 106\n",
      "* correct: 46\n",
      "* accuracy: 43.4%\n",
      "* error: 56.6%\n",
      "* macro_f1: 25.1%\n",
      "epoch [631/1000] batch [20/44] time 0.036 (0.049) data 0.000 (0.015) loss 0.3511 (0.6177) lr 1.0600e-03 eta 0:13:09\n",
      "epoch [631/1000] batch [40/44] time 0.039 (0.042) data 0.000 (0.008) loss 0.5649 (0.6410) lr 1.0600e-03 eta 0:11:27\n",
      "Evaluate on the *val* set\n"
     ]
    },
    {
     "name": "stderr",
     "output_type": "stream",
     "text": [
      "\r",
      "  0%|          | 0/2 [00:00<?, ?it/s]\r",
      " 50%|█████     | 1/2 [00:00<00:00,  3.25it/s]\r",
      "100%|██████████| 2/2 [00:00<00:00,  5.17it/s]\n"
     ]
    },
    {
     "name": "stdout",
     "output_type": "stream",
     "text": [
      "=> result\n",
      "* total: 106\n",
      "* correct: 50\n",
      "* accuracy: 47.2%\n",
      "* error: 52.8%\n",
      "* macro_f1: 32.7%\n",
      "epoch [632/1000] batch [20/44] time 0.038 (0.051) data 0.000 (0.014) loss 1.0078 (0.6522) lr 1.0550e-03 eta 0:13:46\n",
      "epoch [632/1000] batch [40/44] time 0.041 (0.045) data 0.000 (0.007) loss 0.5957 (0.6455) lr 1.0550e-03 eta 0:12:14\n",
      "Evaluate on the *val* set\n"
     ]
    },
    {
     "name": "stderr",
     "output_type": "stream",
     "text": [
      "\r",
      "  0%|          | 0/2 [00:00<?, ?it/s]\r",
      " 50%|█████     | 1/2 [00:00<00:00,  3.27it/s]\r",
      "100%|██████████| 2/2 [00:00<00:00,  5.19it/s]\n"
     ]
    },
    {
     "name": "stdout",
     "output_type": "stream",
     "text": [
      "=> result\n",
      "* total: 106\n",
      "* correct: 49\n",
      "* accuracy: 46.2%\n",
      "* error: 53.8%\n",
      "* macro_f1: 29.0%\n",
      "epoch [633/1000] batch [20/44] time 0.043 (0.059) data 0.000 (0.017) loss 0.5132 (0.6558) lr 1.0499e-03 eta 0:16:00\n",
      "epoch [633/1000] batch [40/44] time 0.041 (0.050) data 0.000 (0.008) loss 0.5923 (0.6605) lr 1.0499e-03 eta 0:13:29\n",
      "Evaluate on the *val* set\n"
     ]
    },
    {
     "name": "stderr",
     "output_type": "stream",
     "text": [
      "\r",
      "  0%|          | 0/2 [00:00<?, ?it/s]\r",
      " 50%|█████     | 1/2 [00:00<00:00,  3.33it/s]\r",
      "100%|██████████| 2/2 [00:00<00:00,  5.23it/s]\n"
     ]
    },
    {
     "name": "stdout",
     "output_type": "stream",
     "text": [
      "=> result\n",
      "* total: 106\n",
      "* correct: 50\n",
      "* accuracy: 47.2%\n",
      "* error: 52.8%\n",
      "* macro_f1: 31.5%\n",
      "epoch [634/1000] batch [20/44] time 0.044 (0.056) data 0.000 (0.014) loss 0.3359 (0.6497) lr 1.0449e-03 eta 0:15:06\n",
      "epoch [634/1000] batch [40/44] time 0.040 (0.048) data 0.000 (0.007) loss 0.7061 (0.6232) lr 1.0449e-03 eta 0:12:50\n",
      "Evaluate on the *val* set\n"
     ]
    },
    {
     "name": "stderr",
     "output_type": "stream",
     "text": [
      "\r",
      "  0%|          | 0/2 [00:00<?, ?it/s]\r",
      " 50%|█████     | 1/2 [00:00<00:00,  3.22it/s]\r",
      "100%|██████████| 2/2 [00:00<00:00,  5.17it/s]\n"
     ]
    },
    {
     "name": "stdout",
     "output_type": "stream",
     "text": [
      "=> result\n",
      "* total: 106\n",
      "* correct: 46\n",
      "* accuracy: 43.4%\n",
      "* error: 56.6%\n",
      "* macro_f1: 26.3%\n",
      "epoch [635/1000] batch [20/44] time 0.038 (0.055) data 0.000 (0.014) loss 0.4961 (0.5199) lr 1.0399e-03 eta 0:14:50\n",
      "epoch [635/1000] batch [40/44] time 0.041 (0.048) data 0.000 (0.007) loss 0.2688 (0.6273) lr 1.0399e-03 eta 0:12:50\n",
      "Evaluate on the *val* set\n"
     ]
    },
    {
     "name": "stderr",
     "output_type": "stream",
     "text": [
      "\r",
      "  0%|          | 0/2 [00:00<?, ?it/s]\r",
      " 50%|█████     | 1/2 [00:00<00:00,  3.19it/s]\r",
      "100%|██████████| 2/2 [00:00<00:00,  5.11it/s]\n"
     ]
    },
    {
     "name": "stdout",
     "output_type": "stream",
     "text": [
      "=> result\n",
      "* total: 106\n",
      "* correct: 45\n",
      "* accuracy: 42.5%\n",
      "* error: 57.5%\n",
      "* macro_f1: 25.1%\n",
      "epoch [636/1000] batch [20/44] time 0.037 (0.054) data 0.000 (0.014) loss 0.4426 (0.5731) lr 1.0349e-03 eta 0:14:23\n",
      "epoch [636/1000] batch [40/44] time 0.040 (0.047) data 0.000 (0.007) loss 1.5645 (0.6131) lr 1.0349e-03 eta 0:12:28\n",
      "Evaluate on the *val* set\n"
     ]
    },
    {
     "name": "stderr",
     "output_type": "stream",
     "text": [
      "\r",
      "  0%|          | 0/2 [00:00<?, ?it/s]\r",
      " 50%|█████     | 1/2 [00:00<00:00,  3.29it/s]\r",
      "100%|██████████| 2/2 [00:00<00:00,  5.28it/s]\n"
     ]
    },
    {
     "name": "stdout",
     "output_type": "stream",
     "text": [
      "=> result\n",
      "* total: 106\n",
      "* correct: 47\n",
      "* accuracy: 44.3%\n",
      "* error: 55.7%\n",
      "* macro_f1: 27.4%\n",
      "epoch [637/1000] batch [20/44] time 0.043 (0.057) data 0.000 (0.015) loss 0.4153 (0.6233) lr 1.0298e-03 eta 0:15:15\n",
      "epoch [637/1000] batch [40/44] time 0.042 (0.049) data 0.000 (0.007) loss 0.6611 (0.6031) lr 1.0298e-03 eta 0:12:59\n",
      "Evaluate on the *val* set\n"
     ]
    },
    {
     "name": "stderr",
     "output_type": "stream",
     "text": [
      "\r",
      "  0%|          | 0/2 [00:00<?, ?it/s]\r",
      " 50%|█████     | 1/2 [00:00<00:00,  3.26it/s]\r",
      "100%|██████████| 2/2 [00:00<00:00,  5.17it/s]\n"
     ]
    },
    {
     "name": "stdout",
     "output_type": "stream",
     "text": [
      "=> result\n",
      "* total: 106\n",
      "* correct: 46\n",
      "* accuracy: 43.4%\n",
      "* error: 56.6%\n",
      "* macro_f1: 26.6%\n",
      "epoch [638/1000] batch [20/44] time 0.044 (0.056) data 0.000 (0.014) loss 0.7627 (0.6614) lr 1.0248e-03 eta 0:14:58\n",
      "epoch [638/1000] batch [40/44] time 0.042 (0.048) data 0.000 (0.007) loss 0.7007 (0.6130) lr 1.0248e-03 eta 0:12:52\n",
      "Evaluate on the *val* set\n"
     ]
    },
    {
     "name": "stderr",
     "output_type": "stream",
     "text": [
      "\r",
      "  0%|          | 0/2 [00:00<?, ?it/s]\r",
      " 50%|█████     | 1/2 [00:00<00:00,  3.32it/s]\r",
      "100%|██████████| 2/2 [00:00<00:00,  5.27it/s]\n"
     ]
    },
    {
     "name": "stdout",
     "output_type": "stream",
     "text": [
      "=> result\n",
      "* total: 106\n",
      "* correct: 47\n",
      "* accuracy: 44.3%\n",
      "* error: 55.7%\n",
      "* macro_f1: 28.7%\n",
      "epoch [639/1000] batch [20/44] time 0.040 (0.057) data 0.000 (0.015) loss 0.7959 (0.6124) lr 1.0198e-03 eta 0:15:00\n",
      "epoch [639/1000] batch [40/44] time 0.039 (0.048) data 0.000 (0.007) loss 0.4463 (0.6320) lr 1.0198e-03 eta 0:12:47\n",
      "Evaluate on the *val* set\n"
     ]
    },
    {
     "name": "stderr",
     "output_type": "stream",
     "text": [
      "\r",
      "  0%|          | 0/2 [00:00<?, ?it/s]\r",
      " 50%|█████     | 1/2 [00:00<00:00,  3.23it/s]\r",
      "100%|██████████| 2/2 [00:00<00:00,  5.18it/s]\n"
     ]
    },
    {
     "name": "stdout",
     "output_type": "stream",
     "text": [
      "=> result\n",
      "* total: 106\n",
      "* correct: 47\n",
      "* accuracy: 44.3%\n",
      "* error: 55.7%\n",
      "* macro_f1: 29.0%\n",
      "epoch [640/1000] batch [20/44] time 0.037 (0.054) data 0.000 (0.014) loss 0.0575 (0.6068) lr 1.0148e-03 eta 0:14:15\n",
      "epoch [640/1000] batch [40/44] time 0.042 (0.047) data 0.000 (0.007) loss 0.9209 (0.6287) lr 1.0148e-03 eta 0:12:28\n",
      "Evaluate on the *val* set\n"
     ]
    },
    {
     "name": "stderr",
     "output_type": "stream",
     "text": [
      "\r",
      "  0%|          | 0/2 [00:00<?, ?it/s]\r",
      " 50%|█████     | 1/2 [00:00<00:00,  3.15it/s]\r",
      "100%|██████████| 2/2 [00:00<00:00,  5.08it/s]\n"
     ]
    },
    {
     "name": "stdout",
     "output_type": "stream",
     "text": [
      "=> result\n",
      "* total: 106\n",
      "* correct: 45\n",
      "* accuracy: 42.5%\n",
      "* error: 57.5%\n",
      "* macro_f1: 27.7%\n",
      "epoch [641/1000] batch [20/44] time 0.045 (0.054) data 0.000 (0.014) loss 0.6162 (0.5947) lr 1.0099e-03 eta 0:14:21\n",
      "epoch [641/1000] batch [40/44] time 0.039 (0.047) data 0.000 (0.007) loss 0.7700 (0.6132) lr 1.0099e-03 eta 0:12:27\n",
      "Evaluate on the *val* set\n"
     ]
    },
    {
     "name": "stderr",
     "output_type": "stream",
     "text": [
      "\r",
      "  0%|          | 0/2 [00:00<?, ?it/s]\r",
      " 50%|█████     | 1/2 [00:00<00:00,  3.21it/s]\r",
      "100%|██████████| 2/2 [00:00<00:00,  5.10it/s]\n"
     ]
    },
    {
     "name": "stdout",
     "output_type": "stream",
     "text": [
      "=> result\n",
      "* total: 106\n",
      "* correct: 50\n",
      "* accuracy: 47.2%\n",
      "* error: 52.8%\n",
      "* macro_f1: 32.3%\n",
      "epoch [642/1000] batch [20/44] time 0.038 (0.056) data 0.000 (0.014) loss 0.7783 (0.6259) lr 1.0049e-03 eta 0:14:36\n",
      "epoch [642/1000] batch [40/44] time 0.041 (0.048) data 0.000 (0.007) loss 0.5249 (0.6443) lr 1.0049e-03 eta 0:12:34\n",
      "Evaluate on the *val* set\n"
     ]
    },
    {
     "name": "stderr",
     "output_type": "stream",
     "text": [
      "\r",
      "  0%|          | 0/2 [00:00<?, ?it/s]\r",
      " 50%|█████     | 1/2 [00:00<00:00,  3.25it/s]\r",
      "100%|██████████| 2/2 [00:00<00:00,  5.15it/s]\n"
     ]
    },
    {
     "name": "stdout",
     "output_type": "stream",
     "text": [
      "=> result\n",
      "* total: 106\n",
      "* correct: 47\n",
      "* accuracy: 44.3%\n",
      "* error: 55.7%\n",
      "* macro_f1: 29.0%\n",
      "epoch [643/1000] batch [20/44] time 0.038 (0.057) data 0.000 (0.016) loss 1.1396 (0.7019) lr 9.9992e-04 eta 0:14:56\n",
      "epoch [643/1000] batch [40/44] time 0.041 (0.049) data 0.000 (0.008) loss 0.4033 (0.6118) lr 9.9992e-04 eta 0:12:42\n",
      "Evaluate on the *val* set\n"
     ]
    },
    {
     "name": "stderr",
     "output_type": "stream",
     "text": [
      "\r",
      "  0%|          | 0/2 [00:00<?, ?it/s]\r",
      " 50%|█████     | 1/2 [00:00<00:00,  3.20it/s]\r",
      "100%|██████████| 2/2 [00:00<00:00,  5.17it/s]\n"
     ]
    },
    {
     "name": "stdout",
     "output_type": "stream",
     "text": [
      "=> result\n",
      "* total: 106\n",
      "* correct: 49\n",
      "* accuracy: 46.2%\n",
      "* error: 53.8%\n",
      "* macro_f1: 29.6%\n",
      "epoch [644/1000] batch [20/44] time 0.036 (0.057) data 0.000 (0.015) loss 0.1384 (0.5928) lr 9.9495e-04 eta 0:14:54\n",
      "epoch [644/1000] batch [40/44] time 0.026 (0.047) data 0.000 (0.008) loss 0.4392 (0.6588) lr 9.9495e-04 eta 0:12:14\n",
      "Evaluate on the *val* set\n"
     ]
    },
    {
     "name": "stderr",
     "output_type": "stream",
     "text": [
      "\r",
      "  0%|          | 0/2 [00:00<?, ?it/s]\r",
      " 50%|█████     | 1/2 [00:00<00:00,  2.94it/s]\r",
      "100%|██████████| 2/2 [00:00<00:00,  4.72it/s]\n"
     ]
    },
    {
     "name": "stdout",
     "output_type": "stream",
     "text": [
      "=> result\n",
      "* total: 106\n",
      "* correct: 48\n",
      "* accuracy: 45.3%\n",
      "* error: 54.7%\n",
      "* macro_f1: 28.7%\n",
      "epoch [645/1000] batch [20/44] time 0.037 (0.053) data 0.000 (0.015) loss 0.8657 (0.6499) lr 9.9000e-04 eta 0:13:55\n",
      "epoch [645/1000] batch [40/44] time 0.041 (0.047) data 0.000 (0.008) loss 0.3867 (0.6401) lr 9.9000e-04 eta 0:12:11\n",
      "Evaluate on the *val* set\n"
     ]
    },
    {
     "name": "stderr",
     "output_type": "stream",
     "text": [
      "\r",
      "  0%|          | 0/2 [00:00<?, ?it/s]\r",
      " 50%|█████     | 1/2 [00:00<00:00,  3.32it/s]\r",
      "100%|██████████| 2/2 [00:00<00:00,  5.26it/s]\n"
     ]
    },
    {
     "name": "stdout",
     "output_type": "stream",
     "text": [
      "=> result\n",
      "* total: 106\n",
      "* correct: 49\n",
      "* accuracy: 46.2%\n",
      "* error: 53.8%\n",
      "* macro_f1: 29.6%\n",
      "epoch [646/1000] batch [20/44] time 0.041 (0.055) data 0.000 (0.014) loss 0.4233 (0.6557) lr 9.8505e-04 eta 0:14:23\n",
      "epoch [646/1000] batch [40/44] time 0.041 (0.048) data 0.000 (0.007) loss 0.6392 (0.6404) lr 9.8505e-04 eta 0:12:23\n",
      "Evaluate on the *val* set\n"
     ]
    },
    {
     "name": "stderr",
     "output_type": "stream",
     "text": [
      "\r",
      "  0%|          | 0/2 [00:00<?, ?it/s]\r",
      " 50%|█████     | 1/2 [00:00<00:00,  3.34it/s]\r",
      "100%|██████████| 2/2 [00:00<00:00,  5.40it/s]\n"
     ]
    },
    {
     "name": "stdout",
     "output_type": "stream",
     "text": [
      "=> result\n",
      "* total: 106\n",
      "* correct: 46\n",
      "* accuracy: 43.4%\n",
      "* error: 56.6%\n",
      "* macro_f1: 25.9%\n",
      "epoch [647/1000] batch [20/44] time 0.046 (0.056) data 0.000 (0.014) loss 0.9155 (0.5464) lr 9.8011e-04 eta 0:14:35\n",
      "epoch [647/1000] batch [40/44] time 0.037 (0.048) data 0.000 (0.007) loss 0.8970 (0.6194) lr 9.8011e-04 eta 0:12:28\n",
      "Evaluate on the *val* set\n"
     ]
    },
    {
     "name": "stderr",
     "output_type": "stream",
     "text": [
      "\r",
      "  0%|          | 0/2 [00:00<?, ?it/s]\r",
      " 50%|█████     | 1/2 [00:00<00:00,  3.26it/s]\r",
      "100%|██████████| 2/2 [00:00<00:00,  5.21it/s]\n"
     ]
    },
    {
     "name": "stdout",
     "output_type": "stream",
     "text": [
      "=> result\n",
      "* total: 106\n",
      "* correct: 43\n",
      "* accuracy: 40.6%\n",
      "* error: 59.4%\n",
      "* macro_f1: 25.8%\n",
      "epoch [648/1000] batch [20/44] time 0.038 (0.055) data 0.000 (0.014) loss 0.6924 (0.5617) lr 9.7517e-04 eta 0:14:08\n",
      "epoch [648/1000] batch [40/44] time 0.042 (0.048) data 0.000 (0.007) loss 0.4390 (0.6335) lr 9.7517e-04 eta 0:12:19\n",
      "Evaluate on the *val* set\n"
     ]
    },
    {
     "name": "stderr",
     "output_type": "stream",
     "text": [
      "\r",
      "  0%|          | 0/2 [00:00<?, ?it/s]\r",
      " 50%|█████     | 1/2 [00:00<00:00,  3.27it/s]\r",
      "100%|██████████| 2/2 [00:00<00:00,  4.97it/s]\n"
     ]
    },
    {
     "name": "stdout",
     "output_type": "stream",
     "text": [
      "=> result\n",
      "* total: 106\n",
      "* correct: 49\n",
      "* accuracy: 46.2%\n",
      "* error: 53.8%\n",
      "* macro_f1: 29.5%\n",
      "epoch [649/1000] batch [20/44] time 0.037 (0.054) data 0.000 (0.014) loss 0.5195 (0.6068) lr 9.7025e-04 eta 0:13:47\n",
      "epoch [649/1000] batch [40/44] time 0.041 (0.047) data 0.000 (0.007) loss 0.1404 (0.6043) lr 9.7025e-04 eta 0:12:00\n",
      "Evaluate on the *val* set\n"
     ]
    },
    {
     "name": "stderr",
     "output_type": "stream",
     "text": [
      "\r",
      "  0%|          | 0/2 [00:00<?, ?it/s]\r",
      " 50%|█████     | 1/2 [00:00<00:00,  3.26it/s]\r",
      "100%|██████████| 2/2 [00:00<00:00,  5.21it/s]\n"
     ]
    },
    {
     "name": "stdout",
     "output_type": "stream",
     "text": [
      "=> result\n",
      "* total: 106\n",
      "* correct: 47\n",
      "* accuracy: 44.3%\n",
      "* error: 55.7%\n",
      "* macro_f1: 26.8%\n",
      "epoch [650/1000] batch [20/44] time 0.037 (0.059) data 0.000 (0.017) loss 0.5396 (0.5603) lr 9.6533e-04 eta 0:15:06\n",
      "epoch [650/1000] batch [40/44] time 0.042 (0.049) data 0.000 (0.009) loss 0.6357 (0.5934) lr 9.6533e-04 eta 0:12:42\n",
      "Evaluate on the *val* set\n"
     ]
    },
    {
     "name": "stderr",
     "output_type": "stream",
     "text": [
      "\r",
      "  0%|          | 0/2 [00:00<?, ?it/s]\r",
      " 50%|█████     | 1/2 [00:00<00:00,  3.30it/s]\r",
      "100%|██████████| 2/2 [00:00<00:00,  5.26it/s]\n"
     ]
    },
    {
     "name": "stdout",
     "output_type": "stream",
     "text": [
      "=> result\n",
      "* total: 106\n",
      "* correct: 45\n",
      "* accuracy: 42.5%\n",
      "* error: 57.5%\n",
      "* macro_f1: 26.4%\n",
      "epoch [651/1000] batch [20/44] time 0.040 (0.055) data 0.000 (0.015) loss 0.7202 (0.6383) lr 9.6042e-04 eta 0:14:08\n",
      "epoch [651/1000] batch [40/44] time 0.041 (0.048) data 0.000 (0.008) loss 0.2181 (0.5996) lr 9.6042e-04 eta 0:12:17\n",
      "Evaluate on the *val* set\n"
     ]
    },
    {
     "name": "stderr",
     "output_type": "stream",
     "text": [
      "\r",
      "  0%|          | 0/2 [00:00<?, ?it/s]\r",
      " 50%|█████     | 1/2 [00:00<00:00,  3.27it/s]\r",
      "100%|██████████| 2/2 [00:00<00:00,  5.23it/s]\n"
     ]
    },
    {
     "name": "stdout",
     "output_type": "stream",
     "text": [
      "=> result\n",
      "* total: 106\n",
      "* correct: 48\n",
      "* accuracy: 45.3%\n",
      "* error: 54.7%\n",
      "* macro_f1: 29.0%\n",
      "epoch [652/1000] batch [20/44] time 0.036 (0.054) data 0.000 (0.014) loss 0.7109 (0.5673) lr 9.5552e-04 eta 0:13:50\n",
      "epoch [652/1000] batch [40/44] time 0.035 (0.046) data 0.000 (0.007) loss 0.5688 (0.6128) lr 9.5552e-04 eta 0:11:49\n",
      "Evaluate on the *val* set\n"
     ]
    },
    {
     "name": "stderr",
     "output_type": "stream",
     "text": [
      "\r",
      "  0%|          | 0/2 [00:00<?, ?it/s]\r",
      " 50%|█████     | 1/2 [00:00<00:00,  3.23it/s]\r",
      "100%|██████████| 2/2 [00:00<00:00,  5.14it/s]\n"
     ]
    },
    {
     "name": "stdout",
     "output_type": "stream",
     "text": [
      "=> result\n",
      "* total: 106\n",
      "* correct: 46\n",
      "* accuracy: 43.4%\n",
      "* error: 56.6%\n",
      "* macro_f1: 27.8%\n",
      "epoch [653/1000] batch [20/44] time 0.038 (0.055) data 0.000 (0.014) loss 0.6401 (0.6306) lr 9.5062e-04 eta 0:14:01\n",
      "epoch [653/1000] batch [40/44] time 0.041 (0.048) data 0.000 (0.007) loss 0.6392 (0.6393) lr 9.5062e-04 eta 0:12:10\n",
      "Evaluate on the *val* set\n"
     ]
    },
    {
     "name": "stderr",
     "output_type": "stream",
     "text": [
      "\r",
      "  0%|          | 0/2 [00:00<?, ?it/s]\r",
      " 50%|█████     | 1/2 [00:00<00:00,  3.29it/s]\r",
      "100%|██████████| 2/2 [00:00<00:00,  5.36it/s]\n"
     ]
    },
    {
     "name": "stdout",
     "output_type": "stream",
     "text": [
      "=> result\n",
      "* total: 106\n",
      "* correct: 47\n",
      "* accuracy: 44.3%\n",
      "* error: 55.7%\n",
      "* macro_f1: 27.2%\n",
      "epoch [654/1000] batch [20/44] time 0.045 (0.056) data 0.000 (0.014) loss 0.7568 (0.6118) lr 9.4574e-04 eta 0:14:10\n",
      "epoch [654/1000] batch [40/44] time 0.034 (0.048) data 0.000 (0.007) loss 0.5410 (0.6144) lr 9.4574e-04 eta 0:12:04\n",
      "Evaluate on the *val* set\n"
     ]
    },
    {
     "name": "stderr",
     "output_type": "stream",
     "text": [
      "\r",
      "  0%|          | 0/2 [00:00<?, ?it/s]\r",
      " 50%|█████     | 1/2 [00:00<00:00,  3.25it/s]\r",
      "100%|██████████| 2/2 [00:00<00:00,  5.22it/s]\n"
     ]
    },
    {
     "name": "stdout",
     "output_type": "stream",
     "text": [
      "=> result\n",
      "* total: 106\n",
      "* correct: 48\n",
      "* accuracy: 45.3%\n",
      "* error: 54.7%\n",
      "* macro_f1: 31.7%\n",
      "epoch [655/1000] batch [20/44] time 0.041 (0.055) data 0.000 (0.014) loss 0.6851 (0.5658) lr 9.4086e-04 eta 0:14:00\n",
      "epoch [655/1000] batch [40/44] time 0.042 (0.048) data 0.000 (0.007) loss 1.4209 (0.6230) lr 9.4086e-04 eta 0:12:02\n",
      "Evaluate on the *val* set\n"
     ]
    },
    {
     "name": "stderr",
     "output_type": "stream",
     "text": [
      "\r",
      "  0%|          | 0/2 [00:00<?, ?it/s]\r",
      " 50%|█████     | 1/2 [00:00<00:00,  3.25it/s]\r",
      "100%|██████████| 2/2 [00:00<00:00,  5.21it/s]\n"
     ]
    },
    {
     "name": "stdout",
     "output_type": "stream",
     "text": [
      "=> result\n",
      "* total: 106\n",
      "* correct: 46\n",
      "* accuracy: 43.4%\n",
      "* error: 56.6%\n",
      "* macro_f1: 25.9%\n",
      "epoch [656/1000] batch [20/44] time 0.039 (0.056) data 0.000 (0.015) loss 0.5830 (0.5721) lr 9.3599e-04 eta 0:14:11\n",
      "epoch [656/1000] batch [40/44] time 0.042 (0.048) data 0.000 (0.008) loss 1.3760 (0.6587) lr 9.3599e-04 eta 0:12:08\n",
      "Evaluate on the *val* set\n"
     ]
    },
    {
     "name": "stderr",
     "output_type": "stream",
     "text": [
      "\r",
      "  0%|          | 0/2 [00:00<?, ?it/s]\r",
      " 50%|█████     | 1/2 [00:00<00:00,  3.23it/s]\r",
      "100%|██████████| 2/2 [00:00<00:00,  5.16it/s]\n"
     ]
    },
    {
     "name": "stdout",
     "output_type": "stream",
     "text": [
      "=> result\n",
      "* total: 106\n",
      "* correct: 47\n",
      "* accuracy: 44.3%\n",
      "* error: 55.7%\n",
      "* macro_f1: 29.1%\n",
      "epoch [657/1000] batch [20/44] time 0.042 (0.056) data 0.000 (0.014) loss 0.6172 (0.6222) lr 9.3112e-04 eta 0:14:13\n",
      "epoch [657/1000] batch [40/44] time 0.042 (0.048) data 0.000 (0.007) loss 0.5200 (0.6098) lr 9.3112e-04 eta 0:12:02\n",
      "Evaluate on the *val* set\n"
     ]
    },
    {
     "name": "stderr",
     "output_type": "stream",
     "text": [
      "\r",
      "  0%|          | 0/2 [00:00<?, ?it/s]\r",
      " 50%|█████     | 1/2 [00:00<00:00,  3.26it/s]\r",
      "100%|██████████| 2/2 [00:00<00:00,  5.18it/s]\n"
     ]
    },
    {
     "name": "stdout",
     "output_type": "stream",
     "text": [
      "=> result\n",
      "* total: 106\n",
      "* correct: 46\n",
      "* accuracy: 43.4%\n",
      "* error: 56.6%\n",
      "* macro_f1: 28.2%\n",
      "epoch [658/1000] batch [20/44] time 0.043 (0.051) data 0.000 (0.014) loss 1.6826 (0.6785) lr 9.2627e-04 eta 0:12:48\n",
      "epoch [658/1000] batch [40/44] time 0.042 (0.046) data 0.000 (0.007) loss 1.1260 (0.6411) lr 9.2627e-04 eta 0:11:25\n",
      "Evaluate on the *val* set\n"
     ]
    },
    {
     "name": "stderr",
     "output_type": "stream",
     "text": [
      "\r",
      "  0%|          | 0/2 [00:00<?, ?it/s]\r",
      " 50%|█████     | 1/2 [00:00<00:00,  3.19it/s]\r",
      "100%|██████████| 2/2 [00:00<00:00,  5.07it/s]\n"
     ]
    },
    {
     "name": "stdout",
     "output_type": "stream",
     "text": [
      "=> result\n",
      "* total: 106\n",
      "* correct: 48\n",
      "* accuracy: 45.3%\n",
      "* error: 54.7%\n",
      "* macro_f1: 28.9%\n",
      "epoch [659/1000] batch [20/44] time 0.042 (0.059) data 0.000 (0.017) loss 0.5894 (0.5437) lr 9.2142e-04 eta 0:14:44\n",
      "epoch [659/1000] batch [40/44] time 0.036 (0.049) data 0.000 (0.009) loss 0.2375 (0.5948) lr 9.2142e-04 eta 0:12:17\n",
      "Evaluate on the *val* set\n"
     ]
    },
    {
     "name": "stderr",
     "output_type": "stream",
     "text": [
      "\r",
      "  0%|          | 0/2 [00:00<?, ?it/s]\r",
      " 50%|█████     | 1/2 [00:00<00:00,  3.18it/s]\r",
      "100%|██████████| 2/2 [00:00<00:00,  5.07it/s]\n"
     ]
    },
    {
     "name": "stdout",
     "output_type": "stream",
     "text": [
      "=> result\n",
      "* total: 106\n",
      "* correct: 46\n",
      "* accuracy: 43.4%\n",
      "* error: 56.6%\n",
      "* macro_f1: 25.8%\n",
      "epoch [660/1000] batch [20/44] time 0.037 (0.058) data 0.000 (0.016) loss 0.5972 (0.5371) lr 9.1658e-04 eta 0:14:22\n",
      "epoch [660/1000] batch [40/44] time 0.039 (0.049) data 0.000 (0.008) loss 0.2866 (0.6297) lr 9.1658e-04 eta 0:12:07\n",
      "Evaluate on the *val* set\n"
     ]
    },
    {
     "name": "stderr",
     "output_type": "stream",
     "text": [
      "\r",
      "  0%|          | 0/2 [00:00<?, ?it/s]\r",
      " 50%|█████     | 1/2 [00:00<00:00,  3.21it/s]\r",
      "100%|██████████| 2/2 [00:00<00:00,  5.00it/s]\n"
     ]
    },
    {
     "name": "stdout",
     "output_type": "stream",
     "text": [
      "=> result\n",
      "* total: 106\n",
      "* correct: 45\n",
      "* accuracy: 42.5%\n",
      "* error: 57.5%\n",
      "* macro_f1: 28.1%\n",
      "epoch [661/1000] batch [20/44] time 0.042 (0.053) data 0.000 (0.015) loss 0.8735 (0.6365) lr 9.1175e-04 eta 0:13:17\n",
      "epoch [661/1000] batch [40/44] time 0.042 (0.047) data 0.000 (0.008) loss 0.7314 (0.6073) lr 9.1175e-04 eta 0:11:40\n",
      "Evaluate on the *val* set\n"
     ]
    },
    {
     "name": "stderr",
     "output_type": "stream",
     "text": [
      "\r",
      "  0%|          | 0/2 [00:00<?, ?it/s]\r",
      " 50%|█████     | 1/2 [00:00<00:00,  3.20it/s]\r",
      "100%|██████████| 2/2 [00:00<00:00,  4.89it/s]\n"
     ]
    },
    {
     "name": "stdout",
     "output_type": "stream",
     "text": [
      "=> result\n",
      "* total: 106\n",
      "* correct: 50\n",
      "* accuracy: 47.2%\n",
      "* error: 52.8%\n",
      "* macro_f1: 29.7%\n",
      "epoch [662/1000] batch [20/44] time 0.037 (0.056) data 0.000 (0.015) loss 0.6289 (0.6954) lr 9.0693e-04 eta 0:13:55\n",
      "epoch [662/1000] batch [40/44] time 0.042 (0.048) data 0.000 (0.007) loss 0.7358 (0.6163) lr 9.0693e-04 eta 0:11:56\n",
      "Evaluate on the *val* set\n"
     ]
    },
    {
     "name": "stderr",
     "output_type": "stream",
     "text": [
      "\r",
      "  0%|          | 0/2 [00:00<?, ?it/s]\r",
      " 50%|█████     | 1/2 [00:00<00:00,  3.29it/s]\r",
      "100%|██████████| 2/2 [00:00<00:00,  5.24it/s]\n"
     ]
    },
    {
     "name": "stdout",
     "output_type": "stream",
     "text": [
      "=> result\n",
      "* total: 106\n",
      "* correct: 45\n",
      "* accuracy: 42.5%\n",
      "* error: 57.5%\n",
      "* macro_f1: 24.5%\n",
      "epoch [663/1000] batch [20/44] time 0.039 (0.056) data 0.000 (0.014) loss 0.6987 (0.5795) lr 9.0212e-04 eta 0:13:50\n",
      "epoch [663/1000] batch [40/44] time 0.042 (0.048) data 0.000 (0.007) loss 0.7090 (0.6229) lr 9.0212e-04 eta 0:11:47\n",
      "Evaluate on the *val* set\n"
     ]
    },
    {
     "name": "stderr",
     "output_type": "stream",
     "text": [
      "\r",
      "  0%|          | 0/2 [00:00<?, ?it/s]\r",
      " 50%|█████     | 1/2 [00:00<00:00,  3.28it/s]\r",
      "100%|██████████| 2/2 [00:00<00:00,  5.23it/s]\n"
     ]
    },
    {
     "name": "stdout",
     "output_type": "stream",
     "text": [
      "=> result\n",
      "* total: 106\n",
      "* correct: 49\n",
      "* accuracy: 46.2%\n",
      "* error: 53.8%\n",
      "* macro_f1: 29.1%\n",
      "epoch [664/1000] batch [20/44] time 0.036 (0.054) data 0.000 (0.014) loss 0.4128 (0.4666) lr 8.9731e-04 eta 0:13:16\n",
      "epoch [664/1000] batch [40/44] time 0.039 (0.047) data 0.000 (0.007) loss 0.3540 (0.6150) lr 8.9731e-04 eta 0:11:36\n",
      "Evaluate on the *val* set\n"
     ]
    },
    {
     "name": "stderr",
     "output_type": "stream",
     "text": [
      "\r",
      "  0%|          | 0/2 [00:00<?, ?it/s]\r",
      " 50%|█████     | 1/2 [00:00<00:00,  3.28it/s]\r",
      "100%|██████████| 2/2 [00:00<00:00,  5.20it/s]\n"
     ]
    },
    {
     "name": "stdout",
     "output_type": "stream",
     "text": [
      "=> result\n",
      "* total: 106\n",
      "* correct: 50\n",
      "* accuracy: 47.2%\n",
      "* error: 52.8%\n",
      "* macro_f1: 29.6%\n",
      "epoch [665/1000] batch [20/44] time 0.045 (0.055) data 0.000 (0.014) loss 0.6094 (0.7039) lr 8.9252e-04 eta 0:13:33\n",
      "epoch [665/1000] batch [40/44] time 0.036 (0.048) data 0.000 (0.007) loss 0.9321 (0.6289) lr 8.9252e-04 eta 0:11:42\n",
      "Evaluate on the *val* set\n"
     ]
    },
    {
     "name": "stderr",
     "output_type": "stream",
     "text": [
      "\r",
      "  0%|          | 0/2 [00:00<?, ?it/s]\r",
      " 50%|█████     | 1/2 [00:00<00:00,  3.34it/s]\r",
      "100%|██████████| 2/2 [00:00<00:00,  5.47it/s]\n"
     ]
    },
    {
     "name": "stdout",
     "output_type": "stream",
     "text": [
      "=> result\n",
      "* total: 106\n",
      "* correct: 47\n",
      "* accuracy: 44.3%\n",
      "* error: 55.7%\n",
      "* macro_f1: 27.9%\n",
      "epoch [666/1000] batch [20/44] time 0.043 (0.057) data 0.000 (0.015) loss 0.5522 (0.5754) lr 8.8773e-04 eta 0:13:59\n",
      "epoch [666/1000] batch [40/44] time 0.040 (0.048) data 0.000 (0.008) loss 0.7695 (0.6176) lr 8.8773e-04 eta 0:11:47\n",
      "Evaluate on the *val* set\n"
     ]
    },
    {
     "name": "stderr",
     "output_type": "stream",
     "text": [
      "\r",
      "  0%|          | 0/2 [00:00<?, ?it/s]\r",
      " 50%|█████     | 1/2 [00:00<00:00,  3.23it/s]\r",
      "100%|██████████| 2/2 [00:00<00:00,  4.99it/s]\n"
     ]
    },
    {
     "name": "stdout",
     "output_type": "stream",
     "text": [
      "=> result\n",
      "* total: 106\n",
      "* correct: 49\n",
      "* accuracy: 46.2%\n",
      "* error: 53.8%\n",
      "* macro_f1: 29.2%\n",
      "epoch [667/1000] batch [20/44] time 0.037 (0.055) data 0.000 (0.015) loss 0.7236 (0.5839) lr 8.8295e-04 eta 0:13:22\n",
      "epoch [667/1000] batch [40/44] time 0.039 (0.047) data 0.000 (0.007) loss 0.4221 (0.6448) lr 8.8295e-04 eta 0:11:27\n",
      "Evaluate on the *val* set\n"
     ]
    },
    {
     "name": "stderr",
     "output_type": "stream",
     "text": [
      "\r",
      "  0%|          | 0/2 [00:00<?, ?it/s]\r",
      " 50%|█████     | 1/2 [00:00<00:00,  3.29it/s]\r",
      "100%|██████████| 2/2 [00:00<00:00,  5.26it/s]\n"
     ]
    },
    {
     "name": "stdout",
     "output_type": "stream",
     "text": [
      "=> result\n",
      "* total: 106\n",
      "* correct: 45\n",
      "* accuracy: 42.5%\n",
      "* error: 57.5%\n",
      "* macro_f1: 25.1%\n",
      "epoch [668/1000] batch [20/44] time 0.037 (0.055) data 0.000 (0.014) loss 0.9116 (0.6071) lr 8.7818e-04 eta 0:13:30\n",
      "epoch [668/1000] batch [40/44] time 0.039 (0.048) data 0.000 (0.007) loss 0.6465 (0.6319) lr 8.7818e-04 eta 0:11:45\n",
      "Evaluate on the *val* set\n"
     ]
    },
    {
     "name": "stderr",
     "output_type": "stream",
     "text": [
      "\r",
      "  0%|          | 0/2 [00:00<?, ?it/s]\r",
      " 50%|█████     | 1/2 [00:00<00:00,  3.28it/s]\r",
      "100%|██████████| 2/2 [00:00<00:00,  5.08it/s]\n"
     ]
    },
    {
     "name": "stdout",
     "output_type": "stream",
     "text": [
      "=> result\n",
      "* total: 106\n",
      "* correct: 46\n",
      "* accuracy: 43.4%\n",
      "* error: 56.6%\n",
      "* macro_f1: 26.2%\n",
      "epoch [669/1000] batch [20/44] time 0.038 (0.058) data 0.000 (0.017) loss 1.0020 (0.6425) lr 8.7341e-04 eta 0:14:00\n",
      "epoch [669/1000] batch [40/44] time 0.035 (0.048) data 0.000 (0.008) loss 0.5977 (0.6442) lr 8.7341e-04 eta 0:11:46\n",
      "Evaluate on the *val* set\n"
     ]
    },
    {
     "name": "stderr",
     "output_type": "stream",
     "text": [
      "\r",
      "  0%|          | 0/2 [00:00<?, ?it/s]\r",
      " 50%|█████     | 1/2 [00:00<00:00,  3.11it/s]\r",
      "100%|██████████| 2/2 [00:00<00:00,  4.89it/s]\n"
     ]
    },
    {
     "name": "stdout",
     "output_type": "stream",
     "text": [
      "=> result\n",
      "* total: 106\n",
      "* correct: 49\n",
      "* accuracy: 46.2%\n",
      "* error: 53.8%\n",
      "* macro_f1: 29.2%\n",
      "epoch [670/1000] batch [20/44] time 0.036 (0.059) data 0.000 (0.016) loss 0.4216 (0.5746) lr 8.6866e-04 eta 0:14:24\n",
      "epoch [670/1000] batch [40/44] time 0.037 (0.050) data 0.000 (0.008) loss 0.3984 (0.6250) lr 8.6866e-04 eta 0:12:05\n",
      "Evaluate on the *val* set\n"
     ]
    },
    {
     "name": "stderr",
     "output_type": "stream",
     "text": [
      "\r",
      "  0%|          | 0/2 [00:00<?, ?it/s]\r",
      " 50%|█████     | 1/2 [00:00<00:00,  3.22it/s]\r",
      "100%|██████████| 2/2 [00:00<00:00,  5.13it/s]\n"
     ]
    },
    {
     "name": "stdout",
     "output_type": "stream",
     "text": [
      "=> result\n",
      "* total: 106\n",
      "* correct: 49\n",
      "* accuracy: 46.2%\n",
      "* error: 53.8%\n",
      "* macro_f1: 31.7%\n",
      "epoch [671/1000] batch [20/44] time 0.039 (0.056) data 0.000 (0.015) loss 0.4978 (0.5774) lr 8.6391e-04 eta 0:13:29\n",
      "epoch [671/1000] batch [40/44] time 0.039 (0.048) data 0.000 (0.008) loss 0.5171 (0.6060) lr 8.6391e-04 eta 0:11:33\n",
      "Evaluate on the *val* set\n"
     ]
    },
    {
     "name": "stderr",
     "output_type": "stream",
     "text": [
      "\r",
      "  0%|          | 0/2 [00:00<?, ?it/s]\r",
      " 50%|█████     | 1/2 [00:00<00:00,  3.22it/s]\r",
      "100%|██████████| 2/2 [00:00<00:00,  4.99it/s]\n"
     ]
    },
    {
     "name": "stdout",
     "output_type": "stream",
     "text": [
      "=> result\n",
      "* total: 106\n",
      "* correct: 47\n",
      "* accuracy: 44.3%\n",
      "* error: 55.7%\n",
      "* macro_f1: 26.8%\n",
      "epoch [672/1000] batch [20/44] time 0.036 (0.056) data 0.000 (0.015) loss 0.6870 (0.5811) lr 8.5918e-04 eta 0:13:23\n",
      "epoch [672/1000] batch [40/44] time 0.036 (0.048) data 0.000 (0.008) loss 0.5229 (0.6070) lr 8.5918e-04 eta 0:11:29\n",
      "Evaluate on the *val* set\n"
     ]
    },
    {
     "name": "stderr",
     "output_type": "stream",
     "text": [
      "\r",
      "  0%|          | 0/2 [00:00<?, ?it/s]\r",
      " 50%|█████     | 1/2 [00:00<00:00,  3.24it/s]\r",
      "100%|██████████| 2/2 [00:00<00:00,  5.01it/s]\n"
     ]
    },
    {
     "name": "stdout",
     "output_type": "stream",
     "text": [
      "=> result\n",
      "* total: 106\n",
      "* correct: 49\n",
      "* accuracy: 46.2%\n",
      "* error: 53.8%\n",
      "* macro_f1: 29.2%\n",
      "epoch [673/1000] batch [20/44] time 0.038 (0.057) data 0.000 (0.015) loss 0.9595 (0.5991) lr 8.5445e-04 eta 0:13:34\n",
      "epoch [673/1000] batch [40/44] time 0.041 (0.048) data 0.000 (0.008) loss 0.0984 (0.5908) lr 8.5445e-04 eta 0:11:35\n",
      "Evaluate on the *val* set\n"
     ]
    },
    {
     "name": "stderr",
     "output_type": "stream",
     "text": [
      "\r",
      "  0%|          | 0/2 [00:00<?, ?it/s]\r",
      " 50%|█████     | 1/2 [00:00<00:00,  3.29it/s]\r",
      "100%|██████████| 2/2 [00:00<00:00,  5.25it/s]\n"
     ]
    },
    {
     "name": "stdout",
     "output_type": "stream",
     "text": [
      "=> result\n",
      "* total: 106\n",
      "* correct: 46\n",
      "* accuracy: 43.4%\n",
      "* error: 56.6%\n",
      "* macro_f1: 27.4%\n",
      "epoch [674/1000] batch [20/44] time 0.039 (0.056) data 0.000 (0.014) loss 0.7002 (0.6413) lr 8.4973e-04 eta 0:13:18\n",
      "epoch [674/1000] batch [40/44] time 0.038 (0.048) data 0.000 (0.007) loss 0.6113 (0.6306) lr 8.4973e-04 eta 0:11:25\n",
      "Evaluate on the *val* set\n"
     ]
    },
    {
     "name": "stderr",
     "output_type": "stream",
     "text": [
      "\r",
      "  0%|          | 0/2 [00:00<?, ?it/s]\r",
      " 50%|█████     | 1/2 [00:00<00:00,  3.30it/s]\r",
      "100%|██████████| 2/2 [00:00<00:00,  5.18it/s]\n"
     ]
    },
    {
     "name": "stdout",
     "output_type": "stream",
     "text": [
      "=> result\n",
      "* total: 106\n",
      "* correct: 46\n",
      "* accuracy: 43.4%\n",
      "* error: 56.6%\n",
      "* macro_f1: 26.0%\n",
      "epoch [675/1000] batch [20/44] time 0.041 (0.055) data 0.000 (0.014) loss 0.6660 (0.6578) lr 8.4502e-04 eta 0:13:08\n",
      "epoch [675/1000] batch [40/44] time 0.038 (0.047) data 0.000 (0.007) loss 0.4238 (0.6187) lr 8.4502e-04 eta 0:11:18\n",
      "Evaluate on the *val* set\n"
     ]
    },
    {
     "name": "stderr",
     "output_type": "stream",
     "text": [
      "\r",
      "  0%|          | 0/2 [00:00<?, ?it/s]\r",
      " 50%|█████     | 1/2 [00:00<00:00,  3.27it/s]\r",
      "100%|██████████| 2/2 [00:00<00:00,  5.15it/s]\n"
     ]
    },
    {
     "name": "stdout",
     "output_type": "stream",
     "text": [
      "=> result\n",
      "* total: 106\n",
      "* correct: 48\n",
      "* accuracy: 45.3%\n",
      "* error: 54.7%\n",
      "* macro_f1: 28.3%\n",
      "epoch [676/1000] batch [20/44] time 0.045 (0.055) data 0.000 (0.014) loss 0.5400 (0.5827) lr 8.4032e-04 eta 0:13:07\n",
      "epoch [676/1000] batch [40/44] time 0.041 (0.048) data 0.000 (0.007) loss 0.8188 (0.6322) lr 8.4032e-04 eta 0:11:24\n",
      "Evaluate on the *val* set\n"
     ]
    },
    {
     "name": "stderr",
     "output_type": "stream",
     "text": [
      "\r",
      "  0%|          | 0/2 [00:00<?, ?it/s]\r",
      " 50%|█████     | 1/2 [00:00<00:00,  3.20it/s]\r",
      "100%|██████████| 2/2 [00:00<00:00,  5.00it/s]\n"
     ]
    },
    {
     "name": "stdout",
     "output_type": "stream",
     "text": [
      "=> result\n",
      "* total: 106\n",
      "* correct: 45\n",
      "* accuracy: 42.5%\n",
      "* error: 57.5%\n",
      "* macro_f1: 25.5%\n",
      "epoch [677/1000] batch [20/44] time 0.042 (0.055) data 0.000 (0.014) loss 0.6460 (0.6173) lr 8.3563e-04 eta 0:13:02\n",
      "epoch [677/1000] batch [40/44] time 0.041 (0.048) data 0.000 (0.007) loss 0.5825 (0.5907) lr 8.3563e-04 eta 0:11:16\n",
      "Evaluate on the *val* set\n"
     ]
    },
    {
     "name": "stderr",
     "output_type": "stream",
     "text": [
      "\r",
      "  0%|          | 0/2 [00:00<?, ?it/s]\r",
      " 50%|█████     | 1/2 [00:00<00:00,  3.18it/s]\r",
      "100%|██████████| 2/2 [00:00<00:00,  4.92it/s]\n"
     ]
    },
    {
     "name": "stdout",
     "output_type": "stream",
     "text": [
      "=> result\n",
      "* total: 106\n",
      "* correct: 49\n",
      "* accuracy: 46.2%\n",
      "* error: 53.8%\n",
      "* macro_f1: 26.7%\n",
      "epoch [678/1000] batch [20/44] time 0.040 (0.056) data 0.000 (0.015) loss 0.3667 (0.5760) lr 8.3094e-04 eta 0:13:13\n",
      "epoch [678/1000] batch [40/44] time 0.038 (0.048) data 0.000 (0.008) loss 0.6343 (0.6107) lr 8.3094e-04 eta 0:11:17\n",
      "Evaluate on the *val* set\n"
     ]
    },
    {
     "name": "stderr",
     "output_type": "stream",
     "text": [
      "\r",
      "  0%|          | 0/2 [00:00<?, ?it/s]\r",
      " 50%|█████     | 1/2 [00:00<00:00,  3.31it/s]\r",
      "100%|██████████| 2/2 [00:00<00:00,  5.19it/s]\n"
     ]
    },
    {
     "name": "stdout",
     "output_type": "stream",
     "text": [
      "=> result\n",
      "* total: 106\n",
      "* correct: 48\n",
      "* accuracy: 45.3%\n",
      "* error: 54.7%\n",
      "* macro_f1: 28.9%\n",
      "epoch [679/1000] batch [20/44] time 0.043 (0.057) data 0.000 (0.014) loss 0.6870 (0.5393) lr 8.2627e-04 eta 0:13:20\n",
      "epoch [679/1000] batch [40/44] time 0.042 (0.048) data 0.000 (0.007) loss 1.0625 (0.6060) lr 8.2627e-04 eta 0:11:20\n",
      "Evaluate on the *val* set\n"
     ]
    },
    {
     "name": "stderr",
     "output_type": "stream",
     "text": [
      "\r",
      "  0%|          | 0/2 [00:00<?, ?it/s]\r",
      " 50%|█████     | 1/2 [00:00<00:00,  3.12it/s]\r",
      "100%|██████████| 2/2 [00:00<00:00,  4.92it/s]\n"
     ]
    },
    {
     "name": "stdout",
     "output_type": "stream",
     "text": [
      "=> result\n",
      "* total: 106\n",
      "* correct: 48\n",
      "* accuracy: 45.3%\n",
      "* error: 54.7%\n",
      "* macro_f1: 28.7%\n",
      "epoch [680/1000] batch [20/44] time 0.040 (0.055) data 0.000 (0.015) loss 0.6548 (0.5489) lr 8.2161e-04 eta 0:12:52\n",
      "epoch [680/1000] batch [40/44] time 0.036 (0.047) data 0.000 (0.007) loss 0.3284 (0.6092) lr 8.2161e-04 eta 0:10:58\n",
      "Evaluate on the *val* set\n"
     ]
    },
    {
     "name": "stderr",
     "output_type": "stream",
     "text": [
      "\r",
      "  0%|          | 0/2 [00:00<?, ?it/s]\r",
      " 50%|█████     | 1/2 [00:00<00:00,  3.24it/s]\r",
      "100%|██████████| 2/2 [00:00<00:00,  5.16it/s]\n"
     ]
    },
    {
     "name": "stdout",
     "output_type": "stream",
     "text": [
      "=> result\n",
      "* total: 106\n",
      "* correct: 50\n",
      "* accuracy: 47.2%\n",
      "* error: 52.8%\n",
      "* macro_f1: 30.1%\n",
      "epoch [681/1000] batch [20/44] time 0.039 (0.057) data 0.000 (0.015) loss 0.4744 (0.4938) lr 8.1695e-04 eta 0:13:15\n",
      "epoch [681/1000] batch [40/44] time 0.042 (0.048) data 0.000 (0.007) loss 0.9087 (0.5872) lr 8.1695e-04 eta 0:11:19\n",
      "Evaluate on the *val* set\n"
     ]
    },
    {
     "name": "stderr",
     "output_type": "stream",
     "text": [
      "\r",
      "  0%|          | 0/2 [00:00<?, ?it/s]\r",
      " 50%|█████     | 1/2 [00:00<00:00,  3.13it/s]\r",
      "100%|██████████| 2/2 [00:00<00:00,  4.89it/s]\n"
     ]
    },
    {
     "name": "stdout",
     "output_type": "stream",
     "text": [
      "=> result\n",
      "* total: 106\n",
      "* correct: 46\n",
      "* accuracy: 43.4%\n",
      "* error: 56.6%\n",
      "* macro_f1: 26.0%\n",
      "epoch [682/1000] batch [20/44] time 0.042 (0.056) data 0.000 (0.014) loss 0.4629 (0.5982) lr 8.1230e-04 eta 0:13:01\n",
      "epoch [682/1000] batch [40/44] time 0.037 (0.048) data 0.000 (0.007) loss 1.2764 (0.6233) lr 8.1230e-04 eta 0:11:18\n",
      "Evaluate on the *val* set\n"
     ]
    },
    {
     "name": "stderr",
     "output_type": "stream",
     "text": [
      "\r",
      "  0%|          | 0/2 [00:00<?, ?it/s]\r",
      " 50%|█████     | 1/2 [00:00<00:00,  3.29it/s]\r",
      "100%|██████████| 2/2 [00:00<00:00,  5.10it/s]\n"
     ]
    },
    {
     "name": "stdout",
     "output_type": "stream",
     "text": [
      "=> result\n",
      "* total: 106\n",
      "* correct: 47\n",
      "* accuracy: 44.3%\n",
      "* error: 55.7%\n",
      "* macro_f1: 28.9%\n",
      "epoch [683/1000] batch [20/44] time 0.042 (0.056) data 0.000 (0.015) loss 0.5527 (0.5889) lr 8.0767e-04 eta 0:13:08\n",
      "epoch [683/1000] batch [40/44] time 0.034 (0.048) data 0.000 (0.008) loss 0.7012 (0.5879) lr 8.0767e-04 eta 0:11:11\n",
      "Evaluate on the *val* set\n"
     ]
    },
    {
     "name": "stderr",
     "output_type": "stream",
     "text": [
      "\r",
      "  0%|          | 0/2 [00:00<?, ?it/s]\r",
      " 50%|█████     | 1/2 [00:00<00:00,  3.34it/s]\r",
      "100%|██████████| 2/2 [00:00<00:00,  5.21it/s]\n"
     ]
    },
    {
     "name": "stdout",
     "output_type": "stream",
     "text": [
      "=> result\n",
      "* total: 106\n",
      "* correct: 51\n",
      "* accuracy: 48.1%\n",
      "* error: 51.9%\n",
      "* macro_f1: 32.2%\n",
      "epoch [684/1000] batch [20/44] time 0.042 (0.056) data 0.000 (0.015) loss 0.1248 (0.5227) lr 8.0304e-04 eta 0:13:00\n",
      "epoch [684/1000] batch [40/44] time 0.041 (0.048) data 0.000 (0.007) loss 0.2527 (0.5764) lr 8.0304e-04 eta 0:11:05\n",
      "Evaluate on the *val* set\n"
     ]
    },
    {
     "name": "stderr",
     "output_type": "stream",
     "text": [
      "\r",
      "  0%|          | 0/2 [00:00<?, ?it/s]\r",
      " 50%|█████     | 1/2 [00:00<00:00,  3.31it/s]\r",
      "100%|██████████| 2/2 [00:00<00:00,  5.26it/s]\n"
     ]
    },
    {
     "name": "stdout",
     "output_type": "stream",
     "text": [
      "=> result\n",
      "* total: 106\n",
      "* correct: 48\n",
      "* accuracy: 45.3%\n",
      "* error: 54.7%\n",
      "* macro_f1: 28.0%\n",
      "epoch [685/1000] batch [20/44] time 0.042 (0.055) data 0.000 (0.015) loss 0.1159 (0.5606) lr 7.9842e-04 eta 0:12:38\n",
      "epoch [685/1000] batch [40/44] time 0.038 (0.048) data 0.000 (0.008) loss 1.6836 (0.6063) lr 7.9842e-04 eta 0:11:02\n",
      "Evaluate on the *val* set\n"
     ]
    },
    {
     "name": "stderr",
     "output_type": "stream",
     "text": [
      "\r",
      "  0%|          | 0/2 [00:00<?, ?it/s]\r",
      " 50%|█████     | 1/2 [00:00<00:00,  3.28it/s]\r",
      "100%|██████████| 2/2 [00:00<00:00,  5.21it/s]\n"
     ]
    },
    {
     "name": "stdout",
     "output_type": "stream",
     "text": [
      "=> result\n",
      "* total: 106\n",
      "* correct: 48\n",
      "* accuracy: 45.3%\n",
      "* error: 54.7%\n",
      "* macro_f1: 28.8%\n",
      "epoch [686/1000] batch [20/44] time 0.038 (0.055) data 0.000 (0.015) loss 0.7275 (0.6374) lr 7.9381e-04 eta 0:12:46\n",
      "epoch [686/1000] batch [40/44] time 0.041 (0.048) data 0.000 (0.008) loss 0.7480 (0.5894) lr 7.9381e-04 eta 0:11:00\n",
      "Evaluate on the *val* set\n"
     ]
    },
    {
     "name": "stderr",
     "output_type": "stream",
     "text": [
      "\r",
      "  0%|          | 0/2 [00:00<?, ?it/s]\r",
      " 50%|█████     | 1/2 [00:00<00:00,  3.35it/s]\r",
      "100%|██████████| 2/2 [00:00<00:00,  5.26it/s]\n"
     ]
    },
    {
     "name": "stdout",
     "output_type": "stream",
     "text": [
      "=> result\n",
      "* total: 106\n",
      "* correct: 48\n",
      "* accuracy: 45.3%\n",
      "* error: 54.7%\n",
      "* macro_f1: 28.1%\n",
      "epoch [687/1000] batch [20/44] time 0.044 (0.059) data 0.000 (0.017) loss 0.3647 (0.5972) lr 7.8921e-04 eta 0:13:32\n",
      "epoch [687/1000] batch [40/44] time 0.042 (0.049) data 0.000 (0.008) loss 0.6099 (0.5846) lr 7.8921e-04 eta 0:11:21\n",
      "Evaluate on the *val* set\n"
     ]
    },
    {
     "name": "stderr",
     "output_type": "stream",
     "text": [
      "\r",
      "  0%|          | 0/2 [00:00<?, ?it/s]\r",
      " 50%|█████     | 1/2 [00:00<00:00,  3.19it/s]\r",
      "100%|██████████| 2/2 [00:00<00:00,  5.05it/s]\n"
     ]
    },
    {
     "name": "stdout",
     "output_type": "stream",
     "text": [
      "=> result\n",
      "* total: 106\n",
      "* correct: 49\n",
      "* accuracy: 46.2%\n",
      "* error: 53.8%\n",
      "* macro_f1: 29.5%\n",
      "epoch [688/1000] batch [20/44] time 0.039 (0.055) data 0.000 (0.014) loss 0.3508 (0.6301) lr 7.8462e-04 eta 0:12:42\n",
      "epoch [688/1000] batch [40/44] time 0.041 (0.048) data 0.000 (0.007) loss 0.6763 (0.6084) lr 7.8462e-04 eta 0:10:55\n",
      "Evaluate on the *val* set\n"
     ]
    },
    {
     "name": "stderr",
     "output_type": "stream",
     "text": [
      "\r",
      "  0%|          | 0/2 [00:00<?, ?it/s]\r",
      " 50%|█████     | 1/2 [00:00<00:00,  3.12it/s]\r",
      "100%|██████████| 2/2 [00:00<00:00,  5.04it/s]\n"
     ]
    },
    {
     "name": "stdout",
     "output_type": "stream",
     "text": [
      "=> result\n",
      "* total: 106\n",
      "* correct: 46\n",
      "* accuracy: 43.4%\n",
      "* error: 56.6%\n",
      "* macro_f1: 28.5%\n",
      "epoch [689/1000] batch [20/44] time 0.040 (0.056) data 0.000 (0.015) loss 1.1689 (0.5872) lr 7.8004e-04 eta 0:12:42\n",
      "epoch [689/1000] batch [40/44] time 0.041 (0.048) data 0.000 (0.008) loss 1.1582 (0.5867) lr 7.8004e-04 eta 0:10:59\n",
      "Evaluate on the *val* set\n"
     ]
    },
    {
     "name": "stderr",
     "output_type": "stream",
     "text": [
      "\r",
      "  0%|          | 0/2 [00:00<?, ?it/s]\r",
      " 50%|█████     | 1/2 [00:00<00:00,  3.22it/s]\r",
      "100%|██████████| 2/2 [00:00<00:00,  5.16it/s]\n"
     ]
    },
    {
     "name": "stdout",
     "output_type": "stream",
     "text": [
      "=> result\n",
      "* total: 106\n",
      "* correct: 51\n",
      "* accuracy: 48.1%\n",
      "* error: 51.9%\n",
      "* macro_f1: 32.5%\n",
      "epoch [690/1000] batch [20/44] time 0.043 (0.054) data 0.000 (0.014) loss 0.3525 (0.5021) lr 7.7547e-04 eta 0:12:14\n",
      "epoch [690/1000] batch [40/44] time 0.042 (0.047) data 0.000 (0.007) loss 0.4612 (0.5808) lr 7.7547e-04 eta 0:10:39\n",
      "Evaluate on the *val* set\n"
     ]
    },
    {
     "name": "stderr",
     "output_type": "stream",
     "text": [
      "\r",
      "  0%|          | 0/2 [00:00<?, ?it/s]\r",
      " 50%|█████     | 1/2 [00:00<00:00,  3.10it/s]\r",
      "100%|██████████| 2/2 [00:00<00:00,  4.81it/s]\n"
     ]
    },
    {
     "name": "stdout",
     "output_type": "stream",
     "text": [
      "=> result\n",
      "* total: 106\n",
      "* correct: 49\n",
      "* accuracy: 46.2%\n",
      "* error: 53.8%\n",
      "* macro_f1: 28.1%\n",
      "epoch [691/1000] batch [20/44] time 0.045 (0.058) data 0.000 (0.015) loss 1.2607 (0.5391) lr 7.7091e-04 eta 0:13:15\n",
      "epoch [691/1000] batch [40/44] time 0.038 (0.049) data 0.000 (0.008) loss 1.2676 (0.5914) lr 7.7091e-04 eta 0:11:08\n",
      "Evaluate on the *val* set\n"
     ]
    },
    {
     "name": "stderr",
     "output_type": "stream",
     "text": [
      "\r",
      "  0%|          | 0/2 [00:00<?, ?it/s]\r",
      " 50%|█████     | 1/2 [00:00<00:00,  3.21it/s]\r",
      "100%|██████████| 2/2 [00:00<00:00,  4.98it/s]\n"
     ]
    },
    {
     "name": "stdout",
     "output_type": "stream",
     "text": [
      "=> result\n",
      "* total: 106\n",
      "* correct: 49\n",
      "* accuracy: 46.2%\n",
      "* error: 53.8%\n",
      "* macro_f1: 30.7%\n",
      "epoch [692/1000] batch [20/44] time 0.043 (0.057) data 0.000 (0.015) loss 1.0205 (0.5800) lr 7.6635e-04 eta 0:12:49\n",
      "epoch [692/1000] batch [40/44] time 0.041 (0.048) data 0.000 (0.008) loss 0.3264 (0.6153) lr 7.6635e-04 eta 0:10:55\n",
      "Evaluate on the *val* set\n"
     ]
    },
    {
     "name": "stderr",
     "output_type": "stream",
     "text": [
      "\r",
      "  0%|          | 0/2 [00:00<?, ?it/s]\r",
      " 50%|█████     | 1/2 [00:00<00:00,  3.29it/s]\r",
      "100%|██████████| 2/2 [00:00<00:00,  5.23it/s]\n"
     ]
    },
    {
     "name": "stdout",
     "output_type": "stream",
     "text": [
      "=> result\n",
      "* total: 106\n",
      "* correct: 48\n",
      "* accuracy: 45.3%\n",
      "* error: 54.7%\n",
      "* macro_f1: 28.9%\n",
      "epoch [693/1000] batch [20/44] time 0.043 (0.055) data 0.000 (0.014) loss 0.4233 (0.5195) lr 7.6181e-04 eta 0:12:30\n",
      "epoch [693/1000] batch [40/44] time 0.034 (0.047) data 0.000 (0.007) loss 1.0977 (0.6135) lr 7.6181e-04 eta 0:10:36\n",
      "Evaluate on the *val* set\n"
     ]
    },
    {
     "name": "stderr",
     "output_type": "stream",
     "text": [
      "\r",
      "  0%|          | 0/2 [00:00<?, ?it/s]\r",
      " 50%|█████     | 1/2 [00:00<00:00,  3.25it/s]\r",
      "100%|██████████| 2/2 [00:00<00:00,  5.17it/s]\n"
     ]
    },
    {
     "name": "stdout",
     "output_type": "stream",
     "text": [
      "=> result\n",
      "* total: 106\n",
      "* correct: 49\n",
      "* accuracy: 46.2%\n",
      "* error: 53.8%\n",
      "* macro_f1: 29.6%\n",
      "epoch [694/1000] batch [20/44] time 0.040 (0.055) data 0.000 (0.014) loss 0.7764 (0.6627) lr 7.5728e-04 eta 0:12:22\n",
      "epoch [694/1000] batch [40/44] time 0.040 (0.047) data 0.000 (0.007) loss 0.2159 (0.6442) lr 7.5728e-04 eta 0:10:37\n",
      "Evaluate on the *val* set\n"
     ]
    },
    {
     "name": "stderr",
     "output_type": "stream",
     "text": [
      "\r",
      "  0%|          | 0/2 [00:00<?, ?it/s]\r",
      " 50%|█████     | 1/2 [00:00<00:00,  3.19it/s]\r",
      "100%|██████████| 2/2 [00:00<00:00,  5.08it/s]\n"
     ]
    },
    {
     "name": "stdout",
     "output_type": "stream",
     "text": [
      "=> result\n",
      "* total: 106\n",
      "* correct: 45\n",
      "* accuracy: 42.5%\n",
      "* error: 57.5%\n",
      "* macro_f1: 25.0%\n",
      "epoch [695/1000] batch [20/44] time 0.043 (0.058) data 0.000 (0.016) loss 0.6484 (0.6042) lr 7.5276e-04 eta 0:12:53\n",
      "epoch [695/1000] batch [40/44] time 0.042 (0.048) data 0.000 (0.008) loss 0.9287 (0.6040) lr 7.5276e-04 eta 0:10:45\n",
      "Evaluate on the *val* set\n"
     ]
    },
    {
     "name": "stderr",
     "output_type": "stream",
     "text": [
      "\r",
      "  0%|          | 0/2 [00:00<?, ?it/s]\r",
      " 50%|█████     | 1/2 [00:00<00:00,  3.24it/s]\r",
      "100%|██████████| 2/2 [00:00<00:00,  4.98it/s]\n"
     ]
    },
    {
     "name": "stdout",
     "output_type": "stream",
     "text": [
      "=> result\n",
      "* total: 106\n",
      "* correct: 49\n",
      "* accuracy: 46.2%\n",
      "* error: 53.8%\n",
      "* macro_f1: 29.5%\n",
      "epoch [696/1000] batch [20/44] time 0.039 (0.056) data 0.000 (0.014) loss 0.6958 (0.6105) lr 7.4824e-04 eta 0:12:30\n",
      "epoch [696/1000] batch [40/44] time 0.033 (0.047) data 0.000 (0.007) loss 0.8667 (0.6133) lr 7.4824e-04 eta 0:10:22\n",
      "Evaluate on the *val* set\n"
     ]
    },
    {
     "name": "stderr",
     "output_type": "stream",
     "text": [
      "\r",
      "  0%|          | 0/2 [00:00<?, ?it/s]\r",
      " 50%|█████     | 1/2 [00:00<00:00,  3.22it/s]\r",
      "100%|██████████| 2/2 [00:00<00:00,  5.11it/s]\n"
     ]
    },
    {
     "name": "stdout",
     "output_type": "stream",
     "text": [
      "=> result\n",
      "* total: 106\n",
      "* correct: 49\n",
      "* accuracy: 46.2%\n",
      "* error: 53.8%\n",
      "* macro_f1: 31.7%\n",
      "epoch [697/1000] batch [20/44] time 0.043 (0.055) data 0.000 (0.014) loss 0.7866 (0.6589) lr 7.4374e-04 eta 0:12:13\n",
      "epoch [697/1000] batch [40/44] time 0.042 (0.048) data 0.000 (0.007) loss 0.2249 (0.5895) lr 7.4374e-04 eta 0:10:33\n",
      "Evaluate on the *val* set\n"
     ]
    },
    {
     "name": "stderr",
     "output_type": "stream",
     "text": [
      "\r",
      "  0%|          | 0/2 [00:00<?, ?it/s]\r",
      " 50%|█████     | 1/2 [00:00<00:00,  3.17it/s]\r",
      "100%|██████████| 2/2 [00:00<00:00,  5.09it/s]\n"
     ]
    },
    {
     "name": "stdout",
     "output_type": "stream",
     "text": [
      "=> result\n",
      "* total: 106\n",
      "* correct: 47\n",
      "* accuracy: 44.3%\n",
      "* error: 55.7%\n",
      "* macro_f1: 27.3%\n",
      "epoch [698/1000] batch [20/44] time 0.039 (0.058) data 0.000 (0.017) loss 0.7559 (0.6207) lr 7.3925e-04 eta 0:12:57\n",
      "epoch [698/1000] batch [40/44] time 0.037 (0.049) data 0.000 (0.009) loss 0.6675 (0.6177) lr 7.3925e-04 eta 0:10:57\n",
      "Evaluate on the *val* set\n"
     ]
    },
    {
     "name": "stderr",
     "output_type": "stream",
     "text": [
      "\r",
      "  0%|          | 0/2 [00:00<?, ?it/s]\r",
      " 50%|█████     | 1/2 [00:00<00:00,  3.34it/s]\r",
      "100%|██████████| 2/2 [00:00<00:00,  5.22it/s]\n"
     ]
    },
    {
     "name": "stdout",
     "output_type": "stream",
     "text": [
      "=> result\n",
      "* total: 106\n",
      "* correct: 46\n",
      "* accuracy: 43.4%\n",
      "* error: 56.6%\n",
      "* macro_f1: 25.6%\n",
      "epoch [699/1000] batch [20/44] time 0.040 (0.056) data 0.000 (0.015) loss 0.8086 (0.6243) lr 7.3476e-04 eta 0:12:25\n",
      "epoch [699/1000] batch [40/44] time 0.037 (0.048) data 0.000 (0.007) loss 0.9390 (0.6036) lr 7.3476e-04 eta 0:10:36\n",
      "Evaluate on the *val* set\n"
     ]
    },
    {
     "name": "stderr",
     "output_type": "stream",
     "text": [
      "\r",
      "  0%|          | 0/2 [00:00<?, ?it/s]\r",
      " 50%|█████     | 1/2 [00:00<00:00,  3.32it/s]\r",
      "100%|██████████| 2/2 [00:00<00:00,  5.25it/s]\n"
     ]
    },
    {
     "name": "stdout",
     "output_type": "stream",
     "text": [
      "=> result\n",
      "* total: 106\n",
      "* correct: 48\n",
      "* accuracy: 45.3%\n",
      "* error: 54.7%\n",
      "* macro_f1: 29.3%\n",
      "epoch [700/1000] batch [20/44] time 0.043 (0.057) data 0.000 (0.016) loss 1.0049 (0.6602) lr 7.3029e-04 eta 0:12:31\n",
      "epoch [700/1000] batch [40/44] time 0.040 (0.049) data 0.000 (0.008) loss 0.9800 (0.6062) lr 7.3029e-04 eta 0:10:42\n",
      "Evaluate on the *val* set\n"
     ]
    },
    {
     "name": "stderr",
     "output_type": "stream",
     "text": [
      "\r",
      "  0%|          | 0/2 [00:00<?, ?it/s]\r",
      " 50%|█████     | 1/2 [00:00<00:00,  3.18it/s]\r",
      "100%|██████████| 2/2 [00:00<00:00,  4.85it/s]\n"
     ]
    },
    {
     "name": "stdout",
     "output_type": "stream",
     "text": [
      "=> result\n",
      "* total: 106\n",
      "* correct: 48\n",
      "* accuracy: 45.3%\n",
      "* error: 54.7%\n",
      "* macro_f1: 29.2%\n",
      "epoch [701/1000] batch [20/44] time 0.038 (0.057) data 0.000 (0.015) loss 1.0088 (0.5494) lr 7.2583e-04 eta 0:12:33\n",
      "epoch [701/1000] batch [40/44] time 0.040 (0.049) data 0.000 (0.008) loss 0.8647 (0.6021) lr 7.2583e-04 eta 0:10:38\n",
      "Evaluate on the *val* set\n"
     ]
    },
    {
     "name": "stderr",
     "output_type": "stream",
     "text": [
      "\r",
      "  0%|          | 0/2 [00:00<?, ?it/s]\r",
      " 50%|█████     | 1/2 [00:00<00:00,  3.25it/s]\r",
      "100%|██████████| 2/2 [00:00<00:00,  5.22it/s]\n"
     ]
    },
    {
     "name": "stdout",
     "output_type": "stream",
     "text": [
      "=> result\n",
      "* total: 106\n",
      "* correct: 47\n",
      "* accuracy: 44.3%\n",
      "* error: 55.7%\n",
      "* macro_f1: 27.3%\n",
      "epoch [702/1000] batch [20/44] time 0.044 (0.057) data 0.000 (0.015) loss 0.7007 (0.5735) lr 7.2138e-04 eta 0:12:27\n",
      "epoch [702/1000] batch [40/44] time 0.037 (0.049) data 0.000 (0.007) loss 0.9800 (0.6107) lr 7.2138e-04 eta 0:10:41\n",
      "Evaluate on the *val* set\n"
     ]
    },
    {
     "name": "stderr",
     "output_type": "stream",
     "text": [
      "\r",
      "  0%|          | 0/2 [00:00<?, ?it/s]\r",
      " 50%|█████     | 1/2 [00:00<00:00,  3.33it/s]\r",
      "100%|██████████| 2/2 [00:00<00:00,  5.25it/s]\n"
     ]
    },
    {
     "name": "stdout",
     "output_type": "stream",
     "text": [
      "=> result\n",
      "* total: 106\n",
      "* correct: 49\n",
      "* accuracy: 46.2%\n",
      "* error: 53.8%\n",
      "* macro_f1: 28.9%\n",
      "epoch [703/1000] batch [20/44] time 0.042 (0.056) data 0.000 (0.016) loss 0.7227 (0.6132) lr 7.1693e-04 eta 0:12:15\n",
      "epoch [703/1000] batch [40/44] time 0.042 (0.048) data 0.000 (0.008) loss 0.6606 (0.6286) lr 7.1693e-04 eta 0:10:31\n",
      "Evaluate on the *val* set\n"
     ]
    },
    {
     "name": "stderr",
     "output_type": "stream",
     "text": [
      "\r",
      "  0%|          | 0/2 [00:00<?, ?it/s]\r",
      " 50%|█████     | 1/2 [00:00<00:00,  3.32it/s]\r",
      "100%|██████████| 2/2 [00:00<00:00,  5.23it/s]\n"
     ]
    },
    {
     "name": "stdout",
     "output_type": "stream",
     "text": [
      "=> result\n",
      "* total: 106\n",
      "* correct: 47\n",
      "* accuracy: 44.3%\n",
      "* error: 55.7%\n",
      "* macro_f1: 28.2%\n",
      "epoch [704/1000] batch [20/44] time 0.045 (0.056) data 0.000 (0.014) loss 0.0719 (0.5524) lr 7.1250e-04 eta 0:12:05\n",
      "epoch [704/1000] batch [40/44] time 0.040 (0.047) data 0.000 (0.007) loss 1.0957 (0.6150) lr 7.1250e-04 eta 0:10:14\n",
      "Evaluate on the *val* set\n"
     ]
    },
    {
     "name": "stderr",
     "output_type": "stream",
     "text": [
      "\r",
      "  0%|          | 0/2 [00:00<?, ?it/s]\r",
      " 50%|█████     | 1/2 [00:00<00:00,  3.21it/s]\r",
      "100%|██████████| 2/2 [00:00<00:00,  5.11it/s]\n"
     ]
    },
    {
     "name": "stdout",
     "output_type": "stream",
     "text": [
      "=> result\n",
      "* total: 106\n",
      "* correct: 45\n",
      "* accuracy: 42.5%\n",
      "* error: 57.5%\n",
      "* macro_f1: 25.0%\n",
      "epoch [705/1000] batch [20/44] time 0.043 (0.055) data 0.000 (0.015) loss 1.2578 (0.5132) lr 7.0808e-04 eta 0:12:00\n",
      "epoch [705/1000] batch [40/44] time 0.038 (0.048) data 0.000 (0.007) loss 0.8340 (0.6116) lr 7.0808e-04 eta 0:10:19\n",
      "Evaluate on the *val* set\n"
     ]
    },
    {
     "name": "stderr",
     "output_type": "stream",
     "text": [
      "\r",
      "  0%|          | 0/2 [00:00<?, ?it/s]\r",
      " 50%|█████     | 1/2 [00:00<00:00,  3.22it/s]\r",
      "100%|██████████| 2/2 [00:00<00:00,  5.10it/s]\n"
     ]
    },
    {
     "name": "stdout",
     "output_type": "stream",
     "text": [
      "=> result\n",
      "* total: 106\n",
      "* correct: 45\n",
      "* accuracy: 42.5%\n",
      "* error: 57.5%\n",
      "* macro_f1: 26.5%\n",
      "epoch [706/1000] batch [20/44] time 0.037 (0.056) data 0.000 (0.014) loss 0.4333 (0.5599) lr 7.0367e-04 eta 0:12:05\n",
      "epoch [706/1000] batch [40/44] time 0.041 (0.047) data 0.000 (0.007) loss 0.6450 (0.6094) lr 7.0367e-04 eta 0:10:12\n",
      "Evaluate on the *val* set\n"
     ]
    },
    {
     "name": "stderr",
     "output_type": "stream",
     "text": [
      "\r",
      "  0%|          | 0/2 [00:00<?, ?it/s]\r",
      " 50%|█████     | 1/2 [00:00<00:00,  3.23it/s]\r",
      "100%|██████████| 2/2 [00:00<00:00,  4.89it/s]\n"
     ]
    },
    {
     "name": "stdout",
     "output_type": "stream",
     "text": [
      "=> result\n",
      "* total: 106\n",
      "* correct: 45\n",
      "* accuracy: 42.5%\n",
      "* error: 57.5%\n",
      "* macro_f1: 25.5%\n",
      "epoch [707/1000] batch [20/44] time 0.044 (0.057) data 0.000 (0.015) loss 1.1289 (0.6037) lr 6.9926e-04 eta 0:12:16\n",
      "epoch [707/1000] batch [40/44] time 0.041 (0.048) data 0.000 (0.008) loss 0.5630 (0.6020) lr 6.9926e-04 eta 0:10:22\n",
      "Evaluate on the *val* set\n"
     ]
    },
    {
     "name": "stderr",
     "output_type": "stream",
     "text": [
      "\r",
      "  0%|          | 0/2 [00:00<?, ?it/s]\r",
      " 50%|█████     | 1/2 [00:00<00:00,  3.33it/s]\r",
      "100%|██████████| 2/2 [00:00<00:00,  5.27it/s]\n"
     ]
    },
    {
     "name": "stdout",
     "output_type": "stream",
     "text": [
      "=> result\n",
      "* total: 106\n",
      "* correct: 48\n",
      "* accuracy: 45.3%\n",
      "* error: 54.7%\n",
      "* macro_f1: 29.4%\n",
      "epoch [708/1000] batch [20/44] time 0.043 (0.058) data 0.000 (0.016) loss 0.6123 (0.6146) lr 6.9487e-04 eta 0:12:32\n",
      "epoch [708/1000] batch [40/44] time 0.042 (0.049) data 0.000 (0.008) loss 0.5513 (0.6055) lr 6.9487e-04 eta 0:10:30\n",
      "Evaluate on the *val* set\n"
     ]
    },
    {
     "name": "stderr",
     "output_type": "stream",
     "text": [
      "\r",
      "  0%|          | 0/2 [00:00<?, ?it/s]\r",
      " 50%|█████     | 1/2 [00:00<00:00,  3.26it/s]\r",
      "100%|██████████| 2/2 [00:00<00:00,  5.22it/s]\n"
     ]
    },
    {
     "name": "stdout",
     "output_type": "stream",
     "text": [
      "=> result\n",
      "* total: 106\n",
      "* correct: 47\n",
      "* accuracy: 44.3%\n",
      "* error: 55.7%\n",
      "* macro_f1: 27.4%\n",
      "epoch [709/1000] batch [20/44] time 0.040 (0.057) data 0.000 (0.016) loss 0.5552 (0.4800) lr 6.9049e-04 eta 0:12:08\n",
      "epoch [709/1000] batch [40/44] time 0.038 (0.048) data 0.000 (0.008) loss 0.6577 (0.5809) lr 6.9049e-04 eta 0:10:18\n",
      "Evaluate on the *val* set\n"
     ]
    },
    {
     "name": "stderr",
     "output_type": "stream",
     "text": [
      "\r",
      "  0%|          | 0/2 [00:00<?, ?it/s]\r",
      " 50%|█████     | 1/2 [00:00<00:00,  3.28it/s]\r",
      "100%|██████████| 2/2 [00:00<00:00,  5.24it/s]\n"
     ]
    },
    {
     "name": "stdout",
     "output_type": "stream",
     "text": [
      "=> result\n",
      "* total: 106\n",
      "* correct: 48\n",
      "* accuracy: 45.3%\n",
      "* error: 54.7%\n",
      "* macro_f1: 26.7%\n",
      "epoch [710/1000] batch [20/44] time 0.040 (0.057) data 0.000 (0.016) loss 0.8647 (0.5827) lr 6.8612e-04 eta 0:12:03\n",
      "epoch [710/1000] batch [40/44] time 0.039 (0.049) data 0.000 (0.008) loss 0.3203 (0.6041) lr 6.8612e-04 eta 0:10:22\n",
      "Evaluate on the *val* set\n"
     ]
    },
    {
     "name": "stderr",
     "output_type": "stream",
     "text": [
      "\r",
      "  0%|          | 0/2 [00:00<?, ?it/s]\r",
      " 50%|█████     | 1/2 [00:00<00:00,  3.27it/s]\r",
      "100%|██████████| 2/2 [00:00<00:00,  4.99it/s]\n"
     ]
    },
    {
     "name": "stdout",
     "output_type": "stream",
     "text": [
      "=> result\n",
      "* total: 106\n",
      "* correct: 46\n",
      "* accuracy: 43.4%\n",
      "* error: 56.6%\n",
      "* macro_f1: 28.0%\n",
      "epoch [711/1000] batch [20/44] time 0.043 (0.056) data 0.000 (0.015) loss 0.5322 (0.5679) lr 6.8176e-04 eta 0:11:51\n",
      "epoch [711/1000] batch [40/44] time 0.038 (0.048) data 0.000 (0.007) loss 0.5894 (0.5955) lr 6.8176e-04 eta 0:10:11\n",
      "Evaluate on the *val* set\n"
     ]
    },
    {
     "name": "stderr",
     "output_type": "stream",
     "text": [
      "\r",
      "  0%|          | 0/2 [00:00<?, ?it/s]\r",
      " 50%|█████     | 1/2 [00:00<00:00,  3.27it/s]\r",
      "100%|██████████| 2/2 [00:00<00:00,  5.00it/s]\n"
     ]
    },
    {
     "name": "stdout",
     "output_type": "stream",
     "text": [
      "=> result\n",
      "* total: 106\n",
      "* correct: 48\n",
      "* accuracy: 45.3%\n",
      "* error: 54.7%\n",
      "* macro_f1: 28.0%\n",
      "epoch [712/1000] batch [20/44] time 0.037 (0.056) data 0.000 (0.016) loss 0.2808 (0.5367) lr 6.7741e-04 eta 0:11:52\n",
      "epoch [712/1000] batch [40/44] time 0.034 (0.048) data 0.000 (0.008) loss 0.7974 (0.5906) lr 6.7741e-04 eta 0:10:03\n",
      "Evaluate on the *val* set\n"
     ]
    },
    {
     "name": "stderr",
     "output_type": "stream",
     "text": [
      "\r",
      "  0%|          | 0/2 [00:00<?, ?it/s]\r",
      " 50%|█████     | 1/2 [00:00<00:00,  3.24it/s]\r",
      "100%|██████████| 2/2 [00:00<00:00,  5.14it/s]\n"
     ]
    },
    {
     "name": "stdout",
     "output_type": "stream",
     "text": [
      "=> result\n",
      "* total: 106\n",
      "* correct: 47\n",
      "* accuracy: 44.3%\n",
      "* error: 55.7%\n",
      "* macro_f1: 28.2%\n",
      "epoch [713/1000] batch [20/44] time 0.037 (0.057) data 0.000 (0.014) loss 0.9092 (0.6114) lr 6.7307e-04 eta 0:11:56\n",
      "epoch [713/1000] batch [40/44] time 0.041 (0.048) data 0.000 (0.007) loss 0.4585 (0.5742) lr 6.7307e-04 eta 0:10:06\n",
      "Evaluate on the *val* set\n"
     ]
    },
    {
     "name": "stderr",
     "output_type": "stream",
     "text": [
      "\r",
      "  0%|          | 0/2 [00:00<?, ?it/s]\r",
      " 50%|█████     | 1/2 [00:00<00:00,  3.25it/s]\r",
      "100%|██████████| 2/2 [00:00<00:00,  5.13it/s]\n"
     ]
    },
    {
     "name": "stdout",
     "output_type": "stream",
     "text": [
      "=> result\n",
      "* total: 106\n",
      "* correct: 48\n",
      "* accuracy: 45.3%\n",
      "* error: 54.7%\n",
      "* macro_f1: 28.8%\n",
      "epoch [714/1000] batch [20/44] time 0.039 (0.055) data 0.000 (0.015) loss 0.5093 (0.4971) lr 6.6875e-04 eta 0:11:39\n",
      "epoch [714/1000] batch [40/44] time 0.034 (0.048) data 0.000 (0.008) loss 0.4214 (0.5719) lr 6.6875e-04 eta 0:09:58\n",
      "Evaluate on the *val* set\n"
     ]
    },
    {
     "name": "stderr",
     "output_type": "stream",
     "text": [
      "\r",
      "  0%|          | 0/2 [00:00<?, ?it/s]\r",
      " 50%|█████     | 1/2 [00:00<00:00,  3.28it/s]\r",
      "100%|██████████| 2/2 [00:00<00:00,  5.21it/s]\n"
     ]
    },
    {
     "name": "stdout",
     "output_type": "stream",
     "text": [
      "=> result\n",
      "* total: 106\n",
      "* correct: 47\n",
      "* accuracy: 44.3%\n",
      "* error: 55.7%\n",
      "* macro_f1: 28.4%\n",
      "epoch [715/1000] batch [20/44] time 0.042 (0.057) data 0.000 (0.015) loss 0.7598 (0.6585) lr 6.6443e-04 eta 0:12:02\n",
      "epoch [715/1000] batch [40/44] time 0.040 (0.049) data 0.000 (0.008) loss 0.2119 (0.6011) lr 6.6443e-04 eta 0:10:09\n",
      "Evaluate on the *val* set\n"
     ]
    },
    {
     "name": "stderr",
     "output_type": "stream",
     "text": [
      "\r",
      "  0%|          | 0/2 [00:00<?, ?it/s]\r",
      " 50%|█████     | 1/2 [00:00<00:00,  3.21it/s]\r",
      "100%|██████████| 2/2 [00:00<00:00,  5.10it/s]\n"
     ]
    },
    {
     "name": "stdout",
     "output_type": "stream",
     "text": [
      "=> result\n",
      "* total: 106\n",
      "* correct: 50\n",
      "* accuracy: 47.2%\n",
      "* error: 52.8%\n",
      "* macro_f1: 29.7%\n",
      "epoch [716/1000] batch [20/44] time 0.043 (0.056) data 0.000 (0.015) loss 1.0801 (0.6055) lr 6.6012e-04 eta 0:11:40\n",
      "epoch [716/1000] batch [40/44] time 0.042 (0.048) data 0.000 (0.008) loss 0.6328 (0.6065) lr 6.6012e-04 eta 0:10:04\n",
      "Evaluate on the *val* set\n"
     ]
    },
    {
     "name": "stderr",
     "output_type": "stream",
     "text": [
      "\r",
      "  0%|          | 0/2 [00:00<?, ?it/s]\r",
      " 50%|█████     | 1/2 [00:00<00:00,  3.29it/s]\r",
      "100%|██████████| 2/2 [00:00<00:00,  5.19it/s]\n"
     ]
    },
    {
     "name": "stdout",
     "output_type": "stream",
     "text": [
      "=> result\n",
      "* total: 106\n",
      "* correct: 47\n",
      "* accuracy: 44.3%\n",
      "* error: 55.7%\n",
      "* macro_f1: 28.4%\n",
      "epoch [717/1000] batch [20/44] time 0.044 (0.055) data 0.000 (0.015) loss 0.4763 (0.5452) lr 6.5583e-04 eta 0:11:30\n",
      "epoch [717/1000] batch [40/44] time 0.041 (0.047) data 0.000 (0.008) loss 0.8301 (0.5778) lr 6.5583e-04 eta 0:09:50\n",
      "Evaluate on the *val* set\n"
     ]
    },
    {
     "name": "stderr",
     "output_type": "stream",
     "text": [
      "\r",
      "  0%|          | 0/2 [00:00<?, ?it/s]\r",
      " 50%|█████     | 1/2 [00:00<00:00,  3.24it/s]\r",
      "100%|██████████| 2/2 [00:00<00:00,  5.20it/s]\n"
     ]
    },
    {
     "name": "stdout",
     "output_type": "stream",
     "text": [
      "=> result\n",
      "* total: 106\n",
      "* correct: 48\n",
      "* accuracy: 45.3%\n",
      "* error: 54.7%\n",
      "* macro_f1: 29.0%\n",
      "epoch [718/1000] batch [20/44] time 0.041 (0.053) data 0.000 (0.014) loss 0.3237 (0.5388) lr 6.5154e-04 eta 0:11:00\n",
      "epoch [718/1000] batch [40/44] time 0.038 (0.046) data 0.000 (0.007) loss 0.7974 (0.5620) lr 6.5154e-04 eta 0:09:33\n",
      "Evaluate on the *val* set\n"
     ]
    },
    {
     "name": "stderr",
     "output_type": "stream",
     "text": [
      "\r",
      "  0%|          | 0/2 [00:00<?, ?it/s]\r",
      " 50%|█████     | 1/2 [00:00<00:00,  3.28it/s]\r",
      "100%|██████████| 2/2 [00:00<00:00,  5.23it/s]\n"
     ]
    },
    {
     "name": "stdout",
     "output_type": "stream",
     "text": [
      "=> result\n",
      "* total: 106\n",
      "* correct: 45\n",
      "* accuracy: 42.5%\n",
      "* error: 57.5%\n",
      "* macro_f1: 27.2%\n",
      "epoch [719/1000] batch [20/44] time 0.037 (0.056) data 0.000 (0.014) loss 0.5962 (0.5486) lr 6.4727e-04 eta 0:11:38\n",
      "epoch [719/1000] batch [40/44] time 0.037 (0.048) data 0.000 (0.007) loss 1.0830 (0.6123) lr 6.4727e-04 eta 0:09:50\n",
      "Evaluate on the *val* set\n"
     ]
    },
    {
     "name": "stderr",
     "output_type": "stream",
     "text": [
      "\r",
      "  0%|          | 0/2 [00:00<?, ?it/s]\r",
      " 50%|█████     | 1/2 [00:00<00:00,  3.25it/s]\r",
      "100%|██████████| 2/2 [00:00<00:00,  5.18it/s]\n"
     ]
    },
    {
     "name": "stdout",
     "output_type": "stream",
     "text": [
      "=> result\n",
      "* total: 106\n",
      "* correct: 49\n",
      "* accuracy: 46.2%\n",
      "* error: 53.8%\n",
      "* macro_f1: 30.6%\n",
      "epoch [720/1000] batch [20/44] time 0.036 (0.054) data 0.000 (0.014) loss 0.7329 (0.5301) lr 6.4300e-04 eta 0:11:09\n",
      "epoch [720/1000] batch [40/44] time 0.039 (0.047) data 0.000 (0.007) loss 0.5479 (0.6096) lr 6.4300e-04 eta 0:09:40\n",
      "Evaluate on the *val* set\n"
     ]
    },
    {
     "name": "stderr",
     "output_type": "stream",
     "text": [
      "\r",
      "  0%|          | 0/2 [00:00<?, ?it/s]\r",
      " 50%|█████     | 1/2 [00:00<00:00,  3.28it/s]\r",
      "100%|██████████| 2/2 [00:00<00:00,  5.04it/s]\n"
     ]
    },
    {
     "name": "stdout",
     "output_type": "stream",
     "text": [
      "=> result\n",
      "* total: 106\n",
      "* correct: 49\n",
      "* accuracy: 46.2%\n",
      "* error: 53.8%\n",
      "* macro_f1: 31.4%\n",
      "epoch [721/1000] batch [20/44] time 0.040 (0.054) data 0.000 (0.015) loss 0.4060 (0.5471) lr 6.3875e-04 eta 0:11:08\n",
      "epoch [721/1000] batch [40/44] time 0.041 (0.047) data 0.000 (0.007) loss 0.6904 (0.5900) lr 6.3875e-04 eta 0:09:42\n",
      "Evaluate on the *val* set\n"
     ]
    },
    {
     "name": "stderr",
     "output_type": "stream",
     "text": [
      "\r",
      "  0%|          | 0/2 [00:00<?, ?it/s]\r",
      " 50%|█████     | 1/2 [00:00<00:00,  3.19it/s]\r",
      "100%|██████████| 2/2 [00:00<00:00,  5.13it/s]\n"
     ]
    },
    {
     "name": "stdout",
     "output_type": "stream",
     "text": [
      "=> result\n",
      "* total: 106\n",
      "* correct: 49\n",
      "* accuracy: 46.2%\n",
      "* error: 53.8%\n",
      "* macro_f1: 28.9%\n",
      "epoch [722/1000] batch [20/44] time 0.042 (0.057) data 0.000 (0.015) loss 0.1135 (0.5482) lr 6.3451e-04 eta 0:11:34\n",
      "epoch [722/1000] batch [40/44] time 0.042 (0.048) data 0.000 (0.007) loss 1.1221 (0.5712) lr 6.3451e-04 eta 0:09:44\n",
      "Evaluate on the *val* set\n"
     ]
    },
    {
     "name": "stderr",
     "output_type": "stream",
     "text": [
      "\r",
      "  0%|          | 0/2 [00:00<?, ?it/s]\r",
      " 50%|█████     | 1/2 [00:00<00:00,  3.29it/s]\r",
      "100%|██████████| 2/2 [00:00<00:00,  5.22it/s]\n"
     ]
    },
    {
     "name": "stdout",
     "output_type": "stream",
     "text": [
      "=> result\n",
      "* total: 106\n",
      "* correct: 49\n",
      "* accuracy: 46.2%\n",
      "* error: 53.8%\n",
      "* macro_f1: 28.9%\n",
      "epoch [723/1000] batch [20/44] time 0.042 (0.056) data 0.000 (0.014) loss 0.5850 (0.5925) lr 6.3028e-04 eta 0:11:26\n",
      "epoch [723/1000] batch [40/44] time 0.041 (0.048) data 0.000 (0.007) loss 1.1924 (0.5897) lr 6.3028e-04 eta 0:09:50\n",
      "Evaluate on the *val* set\n"
     ]
    },
    {
     "name": "stderr",
     "output_type": "stream",
     "text": [
      "\r",
      "  0%|          | 0/2 [00:00<?, ?it/s]\r",
      " 50%|█████     | 1/2 [00:00<00:00,  3.20it/s]\r",
      "100%|██████████| 2/2 [00:00<00:00,  5.03it/s]\n"
     ]
    },
    {
     "name": "stdout",
     "output_type": "stream",
     "text": [
      "=> result\n",
      "* total: 106\n",
      "* correct: 47\n",
      "* accuracy: 44.3%\n",
      "* error: 55.7%\n",
      "* macro_f1: 28.3%\n",
      "epoch [724/1000] batch [20/44] time 0.044 (0.054) data 0.000 (0.015) loss 0.3350 (0.5817) lr 6.2606e-04 eta 0:11:02\n",
      "epoch [724/1000] batch [40/44] time 0.037 (0.047) data 0.000 (0.008) loss 0.2749 (0.5963) lr 6.2606e-04 eta 0:09:34\n",
      "Evaluate on the *val* set\n"
     ]
    },
    {
     "name": "stderr",
     "output_type": "stream",
     "text": [
      "\r",
      "  0%|          | 0/2 [00:00<?, ?it/s]\r",
      " 50%|█████     | 1/2 [00:00<00:00,  3.32it/s]\r",
      "100%|██████████| 2/2 [00:00<00:00,  5.24it/s]\n"
     ]
    },
    {
     "name": "stdout",
     "output_type": "stream",
     "text": [
      "=> result\n",
      "* total: 106\n",
      "* correct: 48\n",
      "* accuracy: 45.3%\n",
      "* error: 54.7%\n",
      "* macro_f1: 28.6%\n",
      "epoch [725/1000] batch [20/44] time 0.037 (0.055) data 0.000 (0.014) loss 0.4297 (0.6191) lr 6.2185e-04 eta 0:11:11\n",
      "epoch [725/1000] batch [40/44] time 0.038 (0.048) data 0.000 (0.007) loss 0.4819 (0.6065) lr 6.2185e-04 eta 0:09:37\n",
      "Evaluate on the *val* set\n"
     ]
    },
    {
     "name": "stderr",
     "output_type": "stream",
     "text": [
      "\r",
      "  0%|          | 0/2 [00:00<?, ?it/s]\r",
      " 50%|█████     | 1/2 [00:00<00:00,  3.37it/s]\r",
      "100%|██████████| 2/2 [00:00<00:00,  5.34it/s]\n"
     ]
    },
    {
     "name": "stdout",
     "output_type": "stream",
     "text": [
      "=> result\n",
      "* total: 106\n",
      "* correct: 50\n",
      "* accuracy: 47.2%\n",
      "* error: 52.8%\n",
      "* macro_f1: 29.7%\n",
      "epoch [726/1000] batch [20/44] time 0.039 (0.056) data 0.000 (0.015) loss 0.2502 (0.5093) lr 6.1765e-04 eta 0:11:16\n",
      "epoch [726/1000] batch [40/44] time 0.041 (0.047) data 0.000 (0.007) loss 0.7739 (0.6152) lr 6.1765e-04 eta 0:09:30\n",
      "Evaluate on the *val* set\n"
     ]
    },
    {
     "name": "stderr",
     "output_type": "stream",
     "text": [
      "\r",
      "  0%|          | 0/2 [00:00<?, ?it/s]\r",
      " 50%|█████     | 1/2 [00:00<00:00,  3.23it/s]\r",
      "100%|██████████| 2/2 [00:00<00:00,  5.16it/s]\n"
     ]
    },
    {
     "name": "stdout",
     "output_type": "stream",
     "text": [
      "=> result\n",
      "* total: 106\n",
      "* correct: 48\n",
      "* accuracy: 45.3%\n",
      "* error: 54.7%\n",
      "* macro_f1: 28.8%\n",
      "epoch [727/1000] batch [20/44] time 0.040 (0.056) data 0.000 (0.014) loss 0.3105 (0.6032) lr 6.1347e-04 eta 0:11:13\n",
      "epoch [727/1000] batch [40/44] time 0.040 (0.048) data 0.000 (0.007) loss 0.6665 (0.6095) lr 6.1347e-04 eta 0:09:36\n",
      "Evaluate on the *val* set\n"
     ]
    },
    {
     "name": "stderr",
     "output_type": "stream",
     "text": [
      "\r",
      "  0%|          | 0/2 [00:00<?, ?it/s]\r",
      " 50%|█████     | 1/2 [00:00<00:00,  3.27it/s]\r",
      "100%|██████████| 2/2 [00:00<00:00,  5.22it/s]\n"
     ]
    },
    {
     "name": "stdout",
     "output_type": "stream",
     "text": [
      "=> result\n",
      "* total: 106\n",
      "* correct: 47\n",
      "* accuracy: 44.3%\n",
      "* error: 55.7%\n",
      "* macro_f1: 28.6%\n",
      "epoch [728/1000] batch [20/44] time 0.043 (0.056) data 0.000 (0.015) loss 0.3420 (0.4972) lr 6.0929e-04 eta 0:11:15\n",
      "epoch [728/1000] batch [40/44] time 0.040 (0.048) data 0.000 (0.008) loss 0.8135 (0.6043) lr 6.0929e-04 eta 0:09:38\n",
      "Evaluate on the *val* set\n"
     ]
    },
    {
     "name": "stderr",
     "output_type": "stream",
     "text": [
      "\r",
      "  0%|          | 0/2 [00:00<?, ?it/s]\r",
      " 50%|█████     | 1/2 [00:00<00:00,  3.32it/s]\r",
      "100%|██████████| 2/2 [00:00<00:00,  5.30it/s]\n"
     ]
    },
    {
     "name": "stdout",
     "output_type": "stream",
     "text": [
      "=> result\n",
      "* total: 106\n",
      "* correct: 48\n",
      "* accuracy: 45.3%\n",
      "* error: 54.7%\n",
      "* macro_f1: 29.0%\n",
      "epoch [729/1000] batch [20/44] time 0.044 (0.056) data 0.000 (0.015) loss 0.4929 (0.5418) lr 6.0513e-04 eta 0:11:03\n",
      "epoch [729/1000] batch [40/44] time 0.039 (0.047) data 0.000 (0.007) loss 1.4482 (0.5611) lr 6.0513e-04 eta 0:09:19\n",
      "Evaluate on the *val* set\n"
     ]
    },
    {
     "name": "stderr",
     "output_type": "stream",
     "text": [
      "\r",
      "  0%|          | 0/2 [00:00<?, ?it/s]\r",
      " 50%|█████     | 1/2 [00:00<00:00,  3.29it/s]\r",
      "100%|██████████| 2/2 [00:00<00:00,  5.17it/s]\n"
     ]
    },
    {
     "name": "stdout",
     "output_type": "stream",
     "text": [
      "=> result\n",
      "* total: 106\n",
      "* correct: 47\n",
      "* accuracy: 44.3%\n",
      "* error: 55.7%\n",
      "* macro_f1: 28.4%\n",
      "epoch [730/1000] batch [20/44] time 0.036 (0.055) data 0.000 (0.014) loss 0.2905 (0.5774) lr 6.0097e-04 eta 0:10:53\n",
      "epoch [730/1000] batch [40/44] time 0.036 (0.048) data 0.000 (0.007) loss 0.3293 (0.5723) lr 6.0097e-04 eta 0:09:33\n",
      "Evaluate on the *val* set\n"
     ]
    },
    {
     "name": "stderr",
     "output_type": "stream",
     "text": [
      "\r",
      "  0%|          | 0/2 [00:00<?, ?it/s]\r",
      " 50%|█████     | 1/2 [00:00<00:00,  3.19it/s]\r",
      "100%|██████████| 2/2 [00:00<00:00,  5.05it/s]\n"
     ]
    },
    {
     "name": "stdout",
     "output_type": "stream",
     "text": [
      "=> result\n",
      "* total: 106\n",
      "* correct: 45\n",
      "* accuracy: 42.5%\n",
      "* error: 57.5%\n",
      "* macro_f1: 27.0%\n",
      "epoch [731/1000] batch [20/44] time 0.042 (0.055) data 0.000 (0.014) loss 0.5498 (0.5539) lr 5.9683e-04 eta 0:10:57\n",
      "epoch [731/1000] batch [40/44] time 0.036 (0.048) data 0.000 (0.007) loss 1.2451 (0.5902) lr 5.9683e-04 eta 0:09:28\n",
      "Evaluate on the *val* set\n"
     ]
    },
    {
     "name": "stderr",
     "output_type": "stream",
     "text": [
      "\r",
      "  0%|          | 0/2 [00:00<?, ?it/s]\r",
      " 50%|█████     | 1/2 [00:00<00:00,  3.22it/s]\r",
      "100%|██████████| 2/2 [00:00<00:00,  5.09it/s]\n"
     ]
    },
    {
     "name": "stdout",
     "output_type": "stream",
     "text": [
      "=> result\n",
      "* total: 106\n",
      "* correct: 50\n",
      "* accuracy: 47.2%\n",
      "* error: 52.8%\n",
      "* macro_f1: 29.6%\n",
      "epoch [732/1000] batch [20/44] time 0.040 (0.055) data 0.000 (0.014) loss 0.2168 (0.5612) lr 5.9270e-04 eta 0:10:48\n",
      "epoch [732/1000] batch [40/44] time 0.036 (0.047) data 0.000 (0.007) loss 0.5884 (0.6085) lr 5.9270e-04 eta 0:09:18\n",
      "Evaluate on the *val* set\n"
     ]
    },
    {
     "name": "stderr",
     "output_type": "stream",
     "text": [
      "\r",
      "  0%|          | 0/2 [00:00<?, ?it/s]\r",
      " 50%|█████     | 1/2 [00:00<00:00,  3.31it/s]\r",
      "100%|██████████| 2/2 [00:00<00:00,  5.25it/s]\n"
     ]
    },
    {
     "name": "stdout",
     "output_type": "stream",
     "text": [
      "=> result\n",
      "* total: 106\n",
      "* correct: 47\n",
      "* accuracy: 44.3%\n",
      "* error: 55.7%\n",
      "* macro_f1: 28.7%\n",
      "epoch [733/1000] batch [20/44] time 0.042 (0.056) data 0.000 (0.015) loss 0.4814 (0.4893) lr 5.8859e-04 eta 0:10:55\n",
      "epoch [733/1000] batch [40/44] time 0.038 (0.048) data 0.000 (0.007) loss 0.5010 (0.5869) lr 5.8859e-04 eta 0:09:22\n",
      "Evaluate on the *val* set\n"
     ]
    },
    {
     "name": "stderr",
     "output_type": "stream",
     "text": [
      "\r",
      "  0%|          | 0/2 [00:00<?, ?it/s]\r",
      " 50%|█████     | 1/2 [00:00<00:00,  3.26it/s]\r",
      "100%|██████████| 2/2 [00:00<00:00,  4.99it/s]\n"
     ]
    },
    {
     "name": "stdout",
     "output_type": "stream",
     "text": [
      "=> result\n",
      "* total: 106\n",
      "* correct: 49\n",
      "* accuracy: 46.2%\n",
      "* error: 53.8%\n",
      "* macro_f1: 29.0%\n",
      "epoch [734/1000] batch [20/44] time 0.040 (0.059) data 0.000 (0.017) loss 0.3330 (0.5085) lr 5.8448e-04 eta 0:11:27\n",
      "epoch [734/1000] batch [40/44] time 0.035 (0.049) data 0.000 (0.009) loss 0.8296 (0.5679) lr 5.8448e-04 eta 0:09:36\n",
      "Evaluate on the *val* set\n"
     ]
    },
    {
     "name": "stderr",
     "output_type": "stream",
     "text": [
      "\r",
      "  0%|          | 0/2 [00:00<?, ?it/s]\r",
      " 50%|█████     | 1/2 [00:00<00:00,  3.34it/s]\r",
      "100%|██████████| 2/2 [00:00<00:00,  5.12it/s]\n"
     ]
    },
    {
     "name": "stdout",
     "output_type": "stream",
     "text": [
      "=> result\n",
      "* total: 106\n",
      "* correct: 46\n",
      "* accuracy: 43.4%\n",
      "* error: 56.6%\n",
      "* macro_f1: 26.9%\n",
      "epoch [735/1000] batch [20/44] time 0.039 (0.057) data 0.000 (0.016) loss 0.7866 (0.5964) lr 5.8038e-04 eta 0:11:01\n",
      "epoch [735/1000] batch [40/44] time 0.041 (0.048) data 0.000 (0.008) loss 0.5688 (0.5887) lr 5.8038e-04 eta 0:09:23\n",
      "Evaluate on the *val* set\n"
     ]
    },
    {
     "name": "stderr",
     "output_type": "stream",
     "text": [
      "\r",
      "  0%|          | 0/2 [00:00<?, ?it/s]\r",
      " 50%|█████     | 1/2 [00:00<00:00,  3.31it/s]\r",
      "100%|██████████| 2/2 [00:00<00:00,  5.29it/s]\n"
     ]
    },
    {
     "name": "stdout",
     "output_type": "stream",
     "text": [
      "=> result\n",
      "* total: 106\n",
      "* correct: 47\n",
      "* accuracy: 44.3%\n",
      "* error: 55.7%\n",
      "* macro_f1: 27.7%\n",
      "epoch [736/1000] batch [20/44] time 0.046 (0.056) data 0.000 (0.014) loss 0.5640 (0.5217) lr 5.7630e-04 eta 0:10:57\n",
      "epoch [736/1000] batch [40/44] time 0.041 (0.048) data 0.000 (0.007) loss 0.7808 (0.5656) lr 5.7630e-04 eta 0:09:19\n",
      "Evaluate on the *val* set\n"
     ]
    },
    {
     "name": "stderr",
     "output_type": "stream",
     "text": [
      "\r",
      "  0%|          | 0/2 [00:00<?, ?it/s]\r",
      " 50%|█████     | 1/2 [00:00<00:00,  3.29it/s]\r",
      "100%|██████████| 2/2 [00:00<00:00,  5.27it/s]\n"
     ]
    },
    {
     "name": "stdout",
     "output_type": "stream",
     "text": [
      "=> result\n",
      "* total: 106\n",
      "* correct: 48\n",
      "* accuracy: 45.3%\n",
      "* error: 54.7%\n",
      "* macro_f1: 27.9%\n",
      "epoch [737/1000] batch [20/44] time 0.045 (0.056) data 0.000 (0.014) loss 0.7900 (0.6181) lr 5.7223e-04 eta 0:10:50\n",
      "epoch [737/1000] batch [40/44] time 0.040 (0.048) data 0.000 (0.007) loss 0.8306 (0.6240) lr 5.7223e-04 eta 0:09:18\n",
      "Evaluate on the *val* set\n"
     ]
    },
    {
     "name": "stderr",
     "output_type": "stream",
     "text": [
      "\r",
      "  0%|          | 0/2 [00:00<?, ?it/s]\r",
      " 50%|█████     | 1/2 [00:00<00:00,  3.22it/s]\r",
      "100%|██████████| 2/2 [00:00<00:00,  5.00it/s]\n"
     ]
    },
    {
     "name": "stdout",
     "output_type": "stream",
     "text": [
      "=> result\n",
      "* total: 106\n",
      "* correct: 49\n",
      "* accuracy: 46.2%\n",
      "* error: 53.8%\n",
      "* macro_f1: 28.5%\n",
      "epoch [738/1000] batch [20/44] time 0.042 (0.055) data 0.000 (0.014) loss 0.2346 (0.5765) lr 5.6817e-04 eta 0:10:37\n",
      "epoch [738/1000] batch [40/44] time 0.040 (0.048) data 0.000 (0.007) loss 0.8125 (0.5896) lr 5.6817e-04 eta 0:09:12\n",
      "Evaluate on the *val* set\n"
     ]
    },
    {
     "name": "stderr",
     "output_type": "stream",
     "text": [
      "\r",
      "  0%|          | 0/2 [00:00<?, ?it/s]\r",
      " 50%|█████     | 1/2 [00:00<00:00,  3.28it/s]\r",
      "100%|██████████| 2/2 [00:00<00:00,  5.12it/s]\n"
     ]
    },
    {
     "name": "stdout",
     "output_type": "stream",
     "text": [
      "=> result\n",
      "* total: 106\n",
      "* correct: 48\n",
      "* accuracy: 45.3%\n",
      "* error: 54.7%\n",
      "* macro_f1: 29.1%\n",
      "epoch [739/1000] batch [20/44] time 0.044 (0.056) data 0.000 (0.014) loss 0.2937 (0.6071) lr 5.6412e-04 eta 0:10:48\n",
      "epoch [739/1000] batch [40/44] time 0.042 (0.048) data 0.000 (0.007) loss 0.2246 (0.5916) lr 5.6412e-04 eta 0:09:10\n",
      "Evaluate on the *val* set\n"
     ]
    },
    {
     "name": "stderr",
     "output_type": "stream",
     "text": [
      "\r",
      "  0%|          | 0/2 [00:00<?, ?it/s]\r",
      " 50%|█████     | 1/2 [00:00<00:00,  3.28it/s]\r",
      "100%|██████████| 2/2 [00:00<00:00,  5.11it/s]\n"
     ]
    },
    {
     "name": "stdout",
     "output_type": "stream",
     "text": [
      "=> result\n",
      "* total: 106\n",
      "* correct: 48\n",
      "* accuracy: 45.3%\n",
      "* error: 54.7%\n",
      "* macro_f1: 29.0%\n",
      "epoch [740/1000] batch [20/44] time 0.037 (0.055) data 0.000 (0.015) loss 0.4771 (0.4917) lr 5.6008e-04 eta 0:10:32\n",
      "epoch [740/1000] batch [40/44] time 0.041 (0.047) data 0.000 (0.008) loss 0.1295 (0.5725) lr 5.6008e-04 eta 0:09:03\n",
      "Evaluate on the *val* set\n"
     ]
    },
    {
     "name": "stderr",
     "output_type": "stream",
     "text": [
      "\r",
      "  0%|          | 0/2 [00:00<?, ?it/s]\r",
      " 50%|█████     | 1/2 [00:00<00:00,  3.27it/s]\r",
      "100%|██████████| 2/2 [00:00<00:00,  5.19it/s]\n"
     ]
    },
    {
     "name": "stdout",
     "output_type": "stream",
     "text": [
      "=> result\n",
      "* total: 106\n",
      "* correct: 47\n",
      "* accuracy: 44.3%\n",
      "* error: 55.7%\n",
      "* macro_f1: 27.9%\n",
      "epoch [741/1000] batch [20/44] time 0.043 (0.057) data 0.000 (0.015) loss 1.0615 (0.5627) lr 5.5606e-04 eta 0:10:54\n",
      "epoch [741/1000] batch [40/44] time 0.039 (0.049) data 0.000 (0.007) loss 0.5801 (0.5616) lr 5.5606e-04 eta 0:09:16\n",
      "Evaluate on the *val* set\n"
     ]
    },
    {
     "name": "stderr",
     "output_type": "stream",
     "text": [
      "\r",
      "  0%|          | 0/2 [00:00<?, ?it/s]\r",
      " 50%|█████     | 1/2 [00:00<00:00,  3.24it/s]\r",
      "100%|██████████| 2/2 [00:00<00:00,  5.09it/s]\n"
     ]
    },
    {
     "name": "stdout",
     "output_type": "stream",
     "text": [
      "=> result\n",
      "* total: 106\n",
      "* correct: 50\n",
      "* accuracy: 47.2%\n",
      "* error: 52.8%\n",
      "* macro_f1: 32.3%\n",
      "epoch [742/1000] batch [20/44] time 0.038 (0.059) data 0.000 (0.017) loss 0.2700 (0.5757) lr 5.5204e-04 eta 0:11:15\n",
      "epoch [742/1000] batch [40/44] time 0.042 (0.050) data 0.000 (0.009) loss 0.8394 (0.5704) lr 5.5204e-04 eta 0:09:26\n",
      "Evaluate on the *val* set\n"
     ]
    },
    {
     "name": "stderr",
     "output_type": "stream",
     "text": [
      "\r",
      "  0%|          | 0/2 [00:00<?, ?it/s]\r",
      " 50%|█████     | 1/2 [00:00<00:00,  3.25it/s]\r",
      "100%|██████████| 2/2 [00:00<00:00,  5.09it/s]\n"
     ]
    },
    {
     "name": "stdout",
     "output_type": "stream",
     "text": [
      "=> result\n",
      "* total: 106\n",
      "* correct: 49\n",
      "* accuracy: 46.2%\n",
      "* error: 53.8%\n",
      "* macro_f1: 29.7%\n",
      "epoch [743/1000] batch [20/44] time 0.040 (0.055) data 0.000 (0.014) loss 0.2742 (0.5455) lr 5.4804e-04 eta 0:10:28\n",
      "epoch [743/1000] batch [40/44] time 0.042 (0.048) data 0.000 (0.007) loss 1.0059 (0.5569) lr 5.4804e-04 eta 0:08:57\n",
      "Evaluate on the *val* set\n"
     ]
    },
    {
     "name": "stderr",
     "output_type": "stream",
     "text": [
      "\r",
      "  0%|          | 0/2 [00:00<?, ?it/s]\r",
      " 50%|█████     | 1/2 [00:00<00:00,  3.23it/s]\r",
      "100%|██████████| 2/2 [00:00<00:00,  5.14it/s]\n"
     ]
    },
    {
     "name": "stdout",
     "output_type": "stream",
     "text": [
      "=> result\n",
      "* total: 106\n",
      "* correct: 49\n",
      "* accuracy: 46.2%\n",
      "* error: 53.8%\n",
      "* macro_f1: 30.6%\n",
      "epoch [744/1000] batch [20/44] time 0.041 (0.054) data 0.000 (0.014) loss 0.2644 (0.5360) lr 5.4405e-04 eta 0:10:04\n",
      "epoch [744/1000] batch [40/44] time 0.041 (0.047) data 0.000 (0.007) loss 0.6880 (0.5968) lr 5.4405e-04 eta 0:08:46\n",
      "Evaluate on the *val* set\n"
     ]
    },
    {
     "name": "stderr",
     "output_type": "stream",
     "text": [
      "\r",
      "  0%|          | 0/2 [00:00<?, ?it/s]\r",
      " 50%|█████     | 1/2 [00:00<00:00,  3.21it/s]\r",
      "100%|██████████| 2/2 [00:00<00:00,  5.13it/s]\n"
     ]
    },
    {
     "name": "stdout",
     "output_type": "stream",
     "text": [
      "=> result\n",
      "* total: 106\n",
      "* correct: 48\n",
      "* accuracy: 45.3%\n",
      "* error: 54.7%\n",
      "* macro_f1: 29.4%\n",
      "epoch [745/1000] batch [20/44] time 0.038 (0.056) data 0.000 (0.015) loss 0.9233 (0.5448) lr 5.4007e-04 eta 0:10:25\n",
      "epoch [745/1000] batch [40/44] time 0.039 (0.047) data 0.000 (0.007) loss 0.5181 (0.5912) lr 5.4007e-04 eta 0:08:51\n",
      "Evaluate on the *val* set\n"
     ]
    },
    {
     "name": "stderr",
     "output_type": "stream",
     "text": [
      "\r",
      "  0%|          | 0/2 [00:00<?, ?it/s]\r",
      " 50%|█████     | 1/2 [00:00<00:00,  3.29it/s]\r",
      "100%|██████████| 2/2 [00:00<00:00,  5.05it/s]\n"
     ]
    },
    {
     "name": "stdout",
     "output_type": "stream",
     "text": [
      "=> result\n",
      "* total: 106\n",
      "* correct: 50\n",
      "* accuracy: 47.2%\n",
      "* error: 52.8%\n",
      "* macro_f1: 29.8%\n",
      "epoch [746/1000] batch [20/44] time 0.038 (0.056) data 0.000 (0.015) loss 0.6572 (0.5584) lr 5.3611e-04 eta 0:10:24\n",
      "epoch [746/1000] batch [40/44] time 0.041 (0.048) data 0.000 (0.007) loss 0.4392 (0.5800) lr 5.3611e-04 eta 0:08:55\n",
      "Evaluate on the *val* set\n"
     ]
    },
    {
     "name": "stderr",
     "output_type": "stream",
     "text": [
      "\r",
      "  0%|          | 0/2 [00:00<?, ?it/s]\r",
      " 50%|█████     | 1/2 [00:00<00:00,  3.30it/s]\r",
      "100%|██████████| 2/2 [00:00<00:00,  5.25it/s]\n"
     ]
    },
    {
     "name": "stdout",
     "output_type": "stream",
     "text": [
      "=> result\n",
      "* total: 106\n",
      "* correct: 47\n",
      "* accuracy: 44.3%\n",
      "* error: 55.7%\n",
      "* macro_f1: 27.8%\n",
      "epoch [747/1000] batch [20/44] time 0.041 (0.055) data 0.000 (0.014) loss 0.8848 (0.5720) lr 5.3215e-04 eta 0:10:15\n",
      "epoch [747/1000] batch [40/44] time 0.041 (0.047) data 0.000 (0.007) loss 0.8545 (0.5907) lr 5.3215e-04 eta 0:08:47\n",
      "Evaluate on the *val* set\n"
     ]
    },
    {
     "name": "stderr",
     "output_type": "stream",
     "text": [
      "\r",
      "  0%|          | 0/2 [00:00<?, ?it/s]\r",
      " 50%|█████     | 1/2 [00:00<00:00,  3.32it/s]\r",
      "100%|██████████| 2/2 [00:00<00:00,  5.24it/s]\n"
     ]
    },
    {
     "name": "stdout",
     "output_type": "stream",
     "text": [
      "=> result\n",
      "* total: 106\n",
      "* correct: 47\n",
      "* accuracy: 44.3%\n",
      "* error: 55.7%\n",
      "* macro_f1: 27.4%\n",
      "epoch [748/1000] batch [20/44] time 0.039 (0.055) data 0.000 (0.015) loss 0.5356 (0.5348) lr 5.2821e-04 eta 0:10:07\n",
      "epoch [748/1000] batch [40/44] time 0.041 (0.047) data 0.000 (0.007) loss 0.6743 (0.5738) lr 5.2821e-04 eta 0:08:43\n",
      "Evaluate on the *val* set\n"
     ]
    },
    {
     "name": "stderr",
     "output_type": "stream",
     "text": [
      "\r",
      "  0%|          | 0/2 [00:00<?, ?it/s]\r",
      " 50%|█████     | 1/2 [00:00<00:00,  3.29it/s]\r",
      "100%|██████████| 2/2 [00:00<00:00,  5.26it/s]\n"
     ]
    },
    {
     "name": "stdout",
     "output_type": "stream",
     "text": [
      "=> result\n",
      "* total: 106\n",
      "* correct: 50\n",
      "* accuracy: 47.2%\n",
      "* error: 52.8%\n",
      "* macro_f1: 32.3%\n",
      "epoch [749/1000] batch [20/44] time 0.040 (0.055) data 0.000 (0.015) loss 1.0215 (0.5140) lr 5.2428e-04 eta 0:10:11\n",
      "epoch [749/1000] batch [40/44] time 0.040 (0.048) data 0.000 (0.008) loss 0.9902 (0.5680) lr 5.2428e-04 eta 0:08:47\n",
      "Evaluate on the *val* set\n"
     ]
    },
    {
     "name": "stderr",
     "output_type": "stream",
     "text": [
      "\r",
      "  0%|          | 0/2 [00:00<?, ?it/s]\r",
      " 50%|█████     | 1/2 [00:00<00:00,  3.32it/s]\r",
      "100%|██████████| 2/2 [00:00<00:00,  5.16it/s]\n"
     ]
    },
    {
     "name": "stdout",
     "output_type": "stream",
     "text": [
      "=> result\n",
      "* total: 106\n",
      "* correct: 51\n",
      "* accuracy: 48.1%\n",
      "* error: 51.9%\n",
      "* macro_f1: 32.4%\n",
      "epoch [750/1000] batch [20/44] time 0.039 (0.052) data 0.000 (0.015) loss 1.3281 (0.5497) lr 5.2036e-04 eta 0:09:28\n",
      "epoch [750/1000] batch [40/44] time 0.041 (0.046) data 0.000 (0.008) loss 0.3645 (0.5664) lr 5.2036e-04 eta 0:08:23\n",
      "Evaluate on the *val* set\n"
     ]
    },
    {
     "name": "stderr",
     "output_type": "stream",
     "text": [
      "\r",
      "  0%|          | 0/2 [00:00<?, ?it/s]\r",
      " 50%|█████     | 1/2 [00:00<00:00,  3.30it/s]\r",
      "100%|██████████| 2/2 [00:00<00:00,  5.21it/s]\n"
     ]
    },
    {
     "name": "stdout",
     "output_type": "stream",
     "text": [
      "=> result\n",
      "* total: 106\n",
      "* correct: 48\n",
      "* accuracy: 45.3%\n",
      "* error: 54.7%\n",
      "* macro_f1: 27.9%\n",
      "epoch [751/1000] batch [20/44] time 0.039 (0.058) data 0.000 (0.015) loss 0.8789 (0.6158) lr 5.1646e-04 eta 0:10:35\n",
      "epoch [751/1000] batch [40/44] time 0.042 (0.048) data 0.000 (0.007) loss 0.7144 (0.5832) lr 5.1646e-04 eta 0:08:51\n",
      "Evaluate on the *val* set\n"
     ]
    },
    {
     "name": "stderr",
     "output_type": "stream",
     "text": [
      "\r",
      "  0%|          | 0/2 [00:00<?, ?it/s]\r",
      " 50%|█████     | 1/2 [00:00<00:00,  3.20it/s]\r",
      "100%|██████████| 2/2 [00:00<00:00,  5.06it/s]\n"
     ]
    },
    {
     "name": "stdout",
     "output_type": "stream",
     "text": [
      "=> result\n",
      "* total: 106\n",
      "* correct: 49\n",
      "* accuracy: 46.2%\n",
      "* error: 53.8%\n",
      "* macro_f1: 29.6%\n",
      "epoch [752/1000] batch [20/44] time 0.044 (0.058) data 0.000 (0.017) loss 0.5986 (0.5426) lr 5.1256e-04 eta 0:10:30\n",
      "epoch [752/1000] batch [40/44] time 0.039 (0.049) data 0.000 (0.009) loss 0.6611 (0.5375) lr 5.1256e-04 eta 0:08:51\n",
      "Evaluate on the *val* set\n"
     ]
    },
    {
     "name": "stderr",
     "output_type": "stream",
     "text": [
      "\r",
      "  0%|          | 0/2 [00:00<?, ?it/s]\r",
      " 50%|█████     | 1/2 [00:00<00:00,  3.26it/s]\r",
      "100%|██████████| 2/2 [00:00<00:00,  5.06it/s]\n"
     ]
    },
    {
     "name": "stdout",
     "output_type": "stream",
     "text": [
      "=> result\n",
      "* total: 106\n",
      "* correct: 49\n",
      "* accuracy: 46.2%\n",
      "* error: 53.8%\n",
      "* macro_f1: 29.5%\n",
      "epoch [753/1000] batch [20/44] time 0.042 (0.054) data 0.000 (0.014) loss 0.4058 (0.5100) lr 5.0868e-04 eta 0:09:50\n",
      "epoch [753/1000] batch [40/44] time 0.042 (0.048) data 0.000 (0.007) loss 0.5742 (0.5498) lr 5.0868e-04 eta 0:08:37\n",
      "Evaluate on the *val* set\n"
     ]
    },
    {
     "name": "stderr",
     "output_type": "stream",
     "text": [
      "\r",
      "  0%|          | 0/2 [00:00<?, ?it/s]\r",
      " 50%|█████     | 1/2 [00:00<00:00,  3.34it/s]\r",
      "100%|██████████| 2/2 [00:00<00:00,  5.25it/s]\n"
     ]
    },
    {
     "name": "stdout",
     "output_type": "stream",
     "text": [
      "=> result\n",
      "* total: 106\n",
      "* correct: 47\n",
      "* accuracy: 44.3%\n",
      "* error: 55.7%\n",
      "* macro_f1: 27.8%\n",
      "epoch [754/1000] batch [20/44] time 0.040 (0.057) data 0.000 (0.015) loss 0.4153 (0.5183) lr 5.0481e-04 eta 0:10:20\n",
      "epoch [754/1000] batch [40/44] time 0.040 (0.049) data 0.000 (0.008) loss 0.7798 (0.5610) lr 5.0481e-04 eta 0:08:46\n",
      "Evaluate on the *val* set\n"
     ]
    },
    {
     "name": "stderr",
     "output_type": "stream",
     "text": [
      "\r",
      "  0%|          | 0/2 [00:00<?, ?it/s]\r",
      " 50%|█████     | 1/2 [00:00<00:00,  3.30it/s]\r",
      "100%|██████████| 2/2 [00:00<00:00,  5.21it/s]\n"
     ]
    },
    {
     "name": "stdout",
     "output_type": "stream",
     "text": [
      "=> result\n",
      "* total: 106\n",
      "* correct: 51\n",
      "* accuracy: 48.1%\n",
      "* error: 51.9%\n",
      "* macro_f1: 32.6%\n",
      "epoch [755/1000] batch [20/44] time 0.037 (0.055) data 0.000 (0.014) loss 0.1976 (0.5819) lr 5.0096e-04 eta 0:09:58\n",
      "epoch [755/1000] batch [40/44] time 0.041 (0.048) data 0.000 (0.007) loss 0.5303 (0.5816) lr 5.0096e-04 eta 0:08:34\n",
      "Evaluate on the *val* set\n"
     ]
    },
    {
     "name": "stderr",
     "output_type": "stream",
     "text": [
      "\r",
      "  0%|          | 0/2 [00:00<?, ?it/s]\r",
      " 50%|█████     | 1/2 [00:00<00:00,  3.13it/s]\r",
      "100%|██████████| 2/2 [00:00<00:00,  5.04it/s]\n"
     ]
    },
    {
     "name": "stdout",
     "output_type": "stream",
     "text": [
      "=> result\n",
      "* total: 106\n",
      "* correct: 48\n",
      "* accuracy: 45.3%\n",
      "* error: 54.7%\n",
      "* macro_f1: 29.4%\n",
      "epoch [756/1000] batch [20/44] time 0.042 (0.056) data 0.000 (0.014) loss 0.6318 (0.5518) lr 4.9711e-04 eta 0:10:06\n",
      "epoch [756/1000] batch [40/44] time 0.034 (0.048) data 0.000 (0.007) loss 0.8628 (0.5835) lr 4.9711e-04 eta 0:08:34\n",
      "Evaluate on the *val* set\n"
     ]
    },
    {
     "name": "stderr",
     "output_type": "stream",
     "text": [
      "\r",
      "  0%|          | 0/2 [00:00<?, ?it/s]\r",
      " 50%|█████     | 1/2 [00:00<00:00,  3.27it/s]\r",
      "100%|██████████| 2/2 [00:00<00:00,  5.14it/s]\n"
     ]
    },
    {
     "name": "stdout",
     "output_type": "stream",
     "text": [
      "=> result\n",
      "* total: 106\n",
      "* correct: 47\n",
      "* accuracy: 44.3%\n",
      "* error: 55.7%\n",
      "* macro_f1: 26.2%\n",
      "epoch [757/1000] batch [20/44] time 0.045 (0.058) data 0.000 (0.016) loss 0.3687 (0.5766) lr 4.9328e-04 eta 0:10:17\n",
      "epoch [757/1000] batch [40/44] time 0.041 (0.049) data 0.000 (0.008) loss 0.4834 (0.5743) lr 4.9328e-04 eta 0:08:41\n",
      "Evaluate on the *val* set\n"
     ]
    },
    {
     "name": "stderr",
     "output_type": "stream",
     "text": [
      "\r",
      "  0%|          | 0/2 [00:00<?, ?it/s]\r",
      " 50%|█████     | 1/2 [00:00<00:00,  3.22it/s]\r",
      "100%|██████████| 2/2 [00:00<00:00,  5.01it/s]\n"
     ]
    },
    {
     "name": "stdout",
     "output_type": "stream",
     "text": [
      "=> result\n",
      "* total: 106\n",
      "* correct: 48\n",
      "* accuracy: 45.3%\n",
      "* error: 54.7%\n",
      "* macro_f1: 28.8%\n",
      "epoch [758/1000] batch [20/44] time 0.044 (0.058) data 0.000 (0.015) loss 0.3735 (0.6053) lr 4.8946e-04 eta 0:10:15\n",
      "epoch [758/1000] batch [40/44] time 0.033 (0.049) data 0.000 (0.008) loss 0.3994 (0.5787) lr 4.8946e-04 eta 0:08:38\n",
      "Evaluate on the *val* set\n"
     ]
    },
    {
     "name": "stderr",
     "output_type": "stream",
     "text": [
      "\r",
      "  0%|          | 0/2 [00:00<?, ?it/s]\r",
      " 50%|█████     | 1/2 [00:00<00:00,  3.31it/s]\r",
      "100%|██████████| 2/2 [00:00<00:00,  5.13it/s]\n"
     ]
    },
    {
     "name": "stdout",
     "output_type": "stream",
     "text": [
      "=> result\n",
      "* total: 106\n",
      "* correct: 48\n",
      "* accuracy: 45.3%\n",
      "* error: 54.7%\n",
      "* macro_f1: 28.8%\n",
      "epoch [759/1000] batch [20/44] time 0.041 (0.055) data 0.000 (0.014) loss 0.2421 (0.5919) lr 4.8565e-04 eta 0:09:43\n",
      "epoch [759/1000] batch [40/44] time 0.041 (0.047) data 0.000 (0.007) loss 0.5464 (0.5823) lr 4.8565e-04 eta 0:08:23\n",
      "Evaluate on the *val* set\n"
     ]
    },
    {
     "name": "stderr",
     "output_type": "stream",
     "text": [
      "\r",
      "  0%|          | 0/2 [00:00<?, ?it/s]\r",
      " 50%|█████     | 1/2 [00:00<00:00,  3.23it/s]\r",
      "100%|██████████| 2/2 [00:00<00:00,  5.08it/s]\n"
     ]
    },
    {
     "name": "stdout",
     "output_type": "stream",
     "text": [
      "=> result\n",
      "* total: 106\n",
      "* correct: 47\n",
      "* accuracy: 44.3%\n",
      "* error: 55.7%\n",
      "* macro_f1: 28.3%\n",
      "epoch [760/1000] batch [20/44] time 0.045 (0.057) data 0.000 (0.016) loss 0.5225 (0.4808) lr 4.8186e-04 eta 0:10:00\n",
      "epoch [760/1000] batch [40/44] time 0.040 (0.049) data 0.000 (0.008) loss 1.1211 (0.5675) lr 4.8186e-04 eta 0:08:32\n",
      "Evaluate on the *val* set\n"
     ]
    },
    {
     "name": "stderr",
     "output_type": "stream",
     "text": [
      "\r",
      "  0%|          | 0/2 [00:00<?, ?it/s]\r",
      " 50%|█████     | 1/2 [00:00<00:00,  3.21it/s]\r",
      "100%|██████████| 2/2 [00:00<00:00,  5.07it/s]\n"
     ]
    },
    {
     "name": "stdout",
     "output_type": "stream",
     "text": [
      "=> result\n",
      "* total: 106\n",
      "* correct: 47\n",
      "* accuracy: 44.3%\n",
      "* error: 55.7%\n",
      "* macro_f1: 27.5%\n",
      "epoch [761/1000] batch [20/44] time 0.044 (0.056) data 0.000 (0.014) loss 0.5913 (0.5563) lr 4.7807e-04 eta 0:09:55\n",
      "epoch [761/1000] batch [40/44] time 0.036 (0.048) data 0.000 (0.007) loss 0.4326 (0.5519) lr 4.7807e-04 eta 0:08:26\n",
      "Evaluate on the *val* set\n"
     ]
    },
    {
     "name": "stderr",
     "output_type": "stream",
     "text": [
      "\r",
      "  0%|          | 0/2 [00:00<?, ?it/s]\r",
      " 50%|█████     | 1/2 [00:00<00:00,  3.28it/s]\r",
      "100%|██████████| 2/2 [00:00<00:00,  5.08it/s]\n"
     ]
    },
    {
     "name": "stdout",
     "output_type": "stream",
     "text": [
      "=> result\n",
      "* total: 106\n",
      "* correct: 47\n",
      "* accuracy: 44.3%\n",
      "* error: 55.7%\n",
      "* macro_f1: 28.5%\n",
      "epoch [762/1000] batch [20/44] time 0.044 (0.056) data 0.000 (0.014) loss 0.3809 (0.5682) lr 4.7430e-04 eta 0:09:44\n",
      "epoch [762/1000] batch [40/44] time 0.041 (0.048) data 0.000 (0.007) loss 0.3496 (0.5657) lr 4.7430e-04 eta 0:08:20\n",
      "Evaluate on the *val* set\n"
     ]
    },
    {
     "name": "stderr",
     "output_type": "stream",
     "text": [
      "\r",
      "  0%|          | 0/2 [00:00<?, ?it/s]\r",
      " 50%|█████     | 1/2 [00:00<00:00,  3.19it/s]\r",
      "100%|██████████| 2/2 [00:00<00:00,  5.19it/s]\n"
     ]
    },
    {
     "name": "stdout",
     "output_type": "stream",
     "text": [
      "=> result\n",
      "* total: 106\n",
      "* correct: 47\n",
      "* accuracy: 44.3%\n",
      "* error: 55.7%\n",
      "* macro_f1: 27.6%\n",
      "epoch [763/1000] batch [20/44] time 0.038 (0.056) data 0.000 (0.014) loss 0.4990 (0.5647) lr 4.7055e-04 eta 0:09:43\n",
      "epoch [763/1000] batch [40/44] time 0.040 (0.048) data 0.000 (0.007) loss 0.4219 (0.5406) lr 4.7055e-04 eta 0:08:18\n",
      "Evaluate on the *val* set\n"
     ]
    },
    {
     "name": "stderr",
     "output_type": "stream",
     "text": [
      "\r",
      "  0%|          | 0/2 [00:00<?, ?it/s]\r",
      " 50%|█████     | 1/2 [00:00<00:00,  3.22it/s]\r",
      "100%|██████████| 2/2 [00:00<00:00,  5.04it/s]\n"
     ]
    },
    {
     "name": "stdout",
     "output_type": "stream",
     "text": [
      "=> result\n",
      "* total: 106\n",
      "* correct: 50\n",
      "* accuracy: 47.2%\n",
      "* error: 52.8%\n",
      "* macro_f1: 32.3%\n",
      "epoch [764/1000] batch [20/44] time 0.037 (0.055) data 0.000 (0.015) loss 1.0879 (0.5734) lr 4.6680e-04 eta 0:09:37\n",
      "epoch [764/1000] batch [40/44] time 0.041 (0.048) data 0.000 (0.007) loss 0.7339 (0.5625) lr 4.6680e-04 eta 0:08:14\n",
      "Evaluate on the *val* set\n"
     ]
    },
    {
     "name": "stderr",
     "output_type": "stream",
     "text": [
      "\r",
      "  0%|          | 0/2 [00:00<?, ?it/s]\r",
      " 50%|█████     | 1/2 [00:00<00:00,  3.20it/s]\r",
      "100%|██████████| 2/2 [00:00<00:00,  5.09it/s]\n"
     ]
    },
    {
     "name": "stdout",
     "output_type": "stream",
     "text": [
      "=> result\n",
      "* total: 106\n",
      "* correct: 47\n",
      "* accuracy: 44.3%\n",
      "* error: 55.7%\n",
      "* macro_f1: 27.7%\n",
      "epoch [765/1000] batch [20/44] time 0.037 (0.057) data 0.000 (0.015) loss 0.4792 (0.4970) lr 4.6307e-04 eta 0:09:46\n",
      "epoch [765/1000] batch [40/44] time 0.040 (0.048) data 0.000 (0.007) loss 1.0898 (0.5766) lr 4.6307e-04 eta 0:08:19\n",
      "Evaluate on the *val* set\n"
     ]
    },
    {
     "name": "stderr",
     "output_type": "stream",
     "text": [
      "\r",
      "  0%|          | 0/2 [00:00<?, ?it/s]\r",
      " 50%|█████     | 1/2 [00:00<00:00,  3.19it/s]\r",
      "100%|██████████| 2/2 [00:00<00:00,  5.01it/s]\n"
     ]
    },
    {
     "name": "stdout",
     "output_type": "stream",
     "text": [
      "=> result\n",
      "* total: 106\n",
      "* correct: 45\n",
      "* accuracy: 42.5%\n",
      "* error: 57.5%\n",
      "* macro_f1: 26.9%\n",
      "epoch [766/1000] batch [20/44] time 0.044 (0.055) data 0.000 (0.014) loss 1.0498 (0.5778) lr 4.5935e-04 eta 0:09:23\n",
      "epoch [766/1000] batch [40/44] time 0.041 (0.047) data 0.000 (0.007) loss 0.6562 (0.5689) lr 4.5935e-04 eta 0:08:04\n",
      "Evaluate on the *val* set\n"
     ]
    },
    {
     "name": "stderr",
     "output_type": "stream",
     "text": [
      "\r",
      "  0%|          | 0/2 [00:00<?, ?it/s]\r",
      " 50%|█████     | 1/2 [00:00<00:00,  3.29it/s]\r",
      "100%|██████████| 2/2 [00:00<00:00,  5.04it/s]\n"
     ]
    },
    {
     "name": "stdout",
     "output_type": "stream",
     "text": [
      "=> result\n",
      "* total: 106\n",
      "* correct: 48\n",
      "* accuracy: 45.3%\n",
      "* error: 54.7%\n",
      "* macro_f1: 28.6%\n",
      "epoch [767/1000] batch [20/44] time 0.039 (0.055) data 0.000 (0.015) loss 0.7319 (0.5262) lr 4.5565e-04 eta 0:09:27\n",
      "epoch [767/1000] batch [40/44] time 0.044 (0.048) data 0.000 (0.007) loss 0.6133 (0.5524) lr 4.5565e-04 eta 0:08:07\n",
      "Evaluate on the *val* set\n"
     ]
    },
    {
     "name": "stderr",
     "output_type": "stream",
     "text": [
      "\r",
      "  0%|          | 0/2 [00:00<?, ?it/s]\r",
      " 50%|█████     | 1/2 [00:00<00:00,  3.36it/s]\r",
      "100%|██████████| 2/2 [00:00<00:00,  5.31it/s]\n"
     ]
    },
    {
     "name": "stdout",
     "output_type": "stream",
     "text": [
      "=> result\n",
      "* total: 106\n",
      "* correct: 50\n",
      "* accuracy: 47.2%\n",
      "* error: 52.8%\n",
      "* macro_f1: 29.5%\n",
      "epoch [768/1000] batch [20/44] time 0.042 (0.055) data 0.000 (0.014) loss 0.4971 (0.6034) lr 4.5195e-04 eta 0:09:20\n",
      "epoch [768/1000] batch [40/44] time 0.037 (0.048) data 0.000 (0.007) loss 0.5488 (0.5617) lr 4.5195e-04 eta 0:08:09\n",
      "Evaluate on the *val* set\n"
     ]
    },
    {
     "name": "stderr",
     "output_type": "stream",
     "text": [
      "\r",
      "  0%|          | 0/2 [00:00<?, ?it/s]\r",
      " 50%|█████     | 1/2 [00:00<00:00,  3.26it/s]\r",
      "100%|██████████| 2/2 [00:00<00:00,  5.22it/s]\n"
     ]
    },
    {
     "name": "stdout",
     "output_type": "stream",
     "text": [
      "=> result\n",
      "* total: 106\n",
      "* correct: 46\n",
      "* accuracy: 43.4%\n",
      "* error: 56.6%\n",
      "* macro_f1: 28.2%\n",
      "epoch [769/1000] batch [20/44] time 0.038 (0.056) data 0.000 (0.015) loss 0.6626 (0.5798) lr 4.4827e-04 eta 0:09:34\n",
      "epoch [769/1000] batch [40/44] time 0.038 (0.048) data 0.000 (0.007) loss 0.3997 (0.6029) lr 4.4827e-04 eta 0:08:05\n",
      "Evaluate on the *val* set\n"
     ]
    },
    {
     "name": "stderr",
     "output_type": "stream",
     "text": [
      "\r",
      "  0%|          | 0/2 [00:00<?, ?it/s]\r",
      " 50%|█████     | 1/2 [00:00<00:00,  3.27it/s]\r",
      "100%|██████████| 2/2 [00:00<00:00,  5.17it/s]\n"
     ]
    },
    {
     "name": "stdout",
     "output_type": "stream",
     "text": [
      "=> result\n",
      "* total: 106\n",
      "* correct: 48\n",
      "* accuracy: 45.3%\n",
      "* error: 54.7%\n",
      "* macro_f1: 28.0%\n",
      "epoch [770/1000] batch [20/44] time 0.040 (0.056) data 0.000 (0.016) loss 0.8008 (0.5891) lr 4.4460e-04 eta 0:09:32\n",
      "epoch [770/1000] batch [40/44] time 0.039 (0.048) data 0.000 (0.008) loss 0.4910 (0.5848) lr 4.4460e-04 eta 0:08:05\n",
      "Evaluate on the *val* set\n"
     ]
    },
    {
     "name": "stderr",
     "output_type": "stream",
     "text": [
      "\r",
      "  0%|          | 0/2 [00:00<?, ?it/s]\r",
      " 50%|█████     | 1/2 [00:00<00:00,  3.30it/s]\r",
      "100%|██████████| 2/2 [00:00<00:00,  5.25it/s]\n"
     ]
    },
    {
     "name": "stdout",
     "output_type": "stream",
     "text": [
      "=> result\n",
      "* total: 106\n",
      "* correct: 47\n",
      "* accuracy: 44.3%\n",
      "* error: 55.7%\n",
      "* macro_f1: 28.6%\n",
      "epoch [771/1000] batch [20/44] time 0.038 (0.055) data 0.000 (0.014) loss 0.5986 (0.6531) lr 4.4095e-04 eta 0:09:18\n",
      "epoch [771/1000] batch [40/44] time 0.042 (0.048) data 0.000 (0.007) loss 0.7012 (0.5791) lr 4.4095e-04 eta 0:07:59\n",
      "Evaluate on the *val* set\n"
     ]
    },
    {
     "name": "stderr",
     "output_type": "stream",
     "text": [
      "\r",
      "  0%|          | 0/2 [00:00<?, ?it/s]\r",
      " 50%|█████     | 1/2 [00:00<00:00,  3.25it/s]\r",
      "100%|██████████| 2/2 [00:00<00:00,  5.06it/s]\n"
     ]
    },
    {
     "name": "stdout",
     "output_type": "stream",
     "text": [
      "=> result\n",
      "* total: 106\n",
      "* correct: 51\n",
      "* accuracy: 48.1%\n",
      "* error: 51.9%\n",
      "* macro_f1: 32.5%\n",
      "epoch [772/1000] batch [20/44] time 0.041 (0.056) data 0.000 (0.014) loss 1.2520 (0.5493) lr 4.3731e-04 eta 0:09:22\n",
      "epoch [772/1000] batch [40/44] time 0.037 (0.048) data 0.000 (0.007) loss 0.3328 (0.5537) lr 4.3731e-04 eta 0:08:00\n",
      "Evaluate on the *val* set\n"
     ]
    },
    {
     "name": "stderr",
     "output_type": "stream",
     "text": [
      "\r",
      "  0%|          | 0/2 [00:00<?, ?it/s]\r",
      " 50%|█████     | 1/2 [00:00<00:00,  3.29it/s]\r",
      "100%|██████████| 2/2 [00:00<00:00,  5.22it/s]\n"
     ]
    },
    {
     "name": "stdout",
     "output_type": "stream",
     "text": [
      "=> result\n",
      "* total: 106\n",
      "* correct: 50\n",
      "* accuracy: 47.2%\n",
      "* error: 52.8%\n",
      "* macro_f1: 32.3%\n",
      "epoch [773/1000] batch [20/44] time 0.037 (0.054) data 0.000 (0.015) loss 0.3909 (0.5851) lr 4.3368e-04 eta 0:09:03\n",
      "epoch [773/1000] batch [40/44] time 0.040 (0.047) data 0.000 (0.007) loss 0.8716 (0.5523) lr 4.3368e-04 eta 0:07:46\n",
      "Evaluate on the *val* set\n"
     ]
    },
    {
     "name": "stderr",
     "output_type": "stream",
     "text": [
      "\r",
      "  0%|          | 0/2 [00:00<?, ?it/s]\r",
      " 50%|█████     | 1/2 [00:00<00:00,  3.31it/s]\r",
      "100%|██████████| 2/2 [00:00<00:00,  5.22it/s]\n"
     ]
    },
    {
     "name": "stdout",
     "output_type": "stream",
     "text": [
      "=> result\n",
      "* total: 106\n",
      "* correct: 45\n",
      "* accuracy: 42.5%\n",
      "* error: 57.5%\n",
      "* macro_f1: 25.0%\n",
      "epoch [774/1000] batch [20/44] time 0.043 (0.056) data 0.000 (0.014) loss 0.5425 (0.5921) lr 4.3006e-04 eta 0:09:20\n",
      "epoch [774/1000] batch [40/44] time 0.041 (0.048) data 0.000 (0.007) loss 0.7344 (0.5667) lr 4.3006e-04 eta 0:08:01\n",
      "Evaluate on the *val* set\n"
     ]
    },
    {
     "name": "stderr",
     "output_type": "stream",
     "text": [
      "\r",
      "  0%|          | 0/2 [00:00<?, ?it/s]\r",
      " 50%|█████     | 1/2 [00:00<00:00,  3.30it/s]\r",
      "100%|██████████| 2/2 [00:00<00:00,  5.22it/s]\n"
     ]
    },
    {
     "name": "stdout",
     "output_type": "stream",
     "text": [
      "=> result\n",
      "* total: 106\n",
      "* correct: 50\n",
      "* accuracy: 47.2%\n",
      "* error: 52.8%\n",
      "* macro_f1: 31.4%\n",
      "epoch [775/1000] batch [20/44] time 0.040 (0.055) data 0.000 (0.015) loss 0.1556 (0.4334) lr 4.2646e-04 eta 0:09:09\n",
      "epoch [775/1000] batch [40/44] time 0.042 (0.048) data 0.000 (0.008) loss 0.3508 (0.5857) lr 4.2646e-04 eta 0:07:53\n",
      "Evaluate on the *val* set\n"
     ]
    },
    {
     "name": "stderr",
     "output_type": "stream",
     "text": [
      "\r",
      "  0%|          | 0/2 [00:00<?, ?it/s]\r",
      " 50%|█████     | 1/2 [00:00<00:00,  3.30it/s]\r",
      "100%|██████████| 2/2 [00:00<00:00,  5.23it/s]\n"
     ]
    },
    {
     "name": "stdout",
     "output_type": "stream",
     "text": [
      "=> result\n",
      "* total: 106\n",
      "* correct: 48\n",
      "* accuracy: 45.3%\n",
      "* error: 54.7%\n",
      "* macro_f1: 29.3%\n",
      "epoch [776/1000] batch [20/44] time 0.041 (0.057) data 0.000 (0.016) loss 0.2321 (0.5658) lr 4.2287e-04 eta 0:09:19\n",
      "epoch [776/1000] batch [40/44] time 0.042 (0.048) data 0.000 (0.008) loss 0.3313 (0.5711) lr 4.2287e-04 eta 0:07:56\n",
      "Evaluate on the *val* set\n"
     ]
    },
    {
     "name": "stderr",
     "output_type": "stream",
     "text": [
      "\r",
      "  0%|          | 0/2 [00:00<?, ?it/s]\r",
      " 50%|█████     | 1/2 [00:00<00:00,  3.18it/s]\r",
      "100%|██████████| 2/2 [00:00<00:00,  4.97it/s]\n"
     ]
    },
    {
     "name": "stdout",
     "output_type": "stream",
     "text": [
      "=> result\n",
      "* total: 106\n",
      "* correct: 50\n",
      "* accuracy: 47.2%\n",
      "* error: 52.8%\n",
      "* macro_f1: 31.9%\n",
      "epoch [777/1000] batch [20/44] time 0.040 (0.056) data 0.000 (0.014) loss 0.4773 (0.5020) lr 4.1929e-04 eta 0:09:06\n",
      "epoch [777/1000] batch [40/44] time 0.038 (0.048) data 0.000 (0.007) loss 0.9707 (0.5740) lr 4.1929e-04 eta 0:07:54\n",
      "Evaluate on the *val* set\n"
     ]
    },
    {
     "name": "stderr",
     "output_type": "stream",
     "text": [
      "\r",
      "  0%|          | 0/2 [00:00<?, ?it/s]\r",
      " 50%|█████     | 1/2 [00:00<00:00,  3.25it/s]\r",
      "100%|██████████| 2/2 [00:00<00:00,  5.22it/s]\n"
     ]
    },
    {
     "name": "stdout",
     "output_type": "stream",
     "text": [
      "=> result\n",
      "* total: 106\n",
      "* correct: 49\n",
      "* accuracy: 46.2%\n",
      "* error: 53.8%\n",
      "* macro_f1: 31.7%\n",
      "epoch [778/1000] batch [20/44] time 0.043 (0.059) data 0.000 (0.017) loss 0.8569 (0.5941) lr 4.1573e-04 eta 0:09:35\n",
      "epoch [778/1000] batch [40/44] time 0.036 (0.050) data 0.000 (0.008) loss 0.2722 (0.5495) lr 4.1573e-04 eta 0:08:04\n",
      "Evaluate on the *val* set\n"
     ]
    },
    {
     "name": "stderr",
     "output_type": "stream",
     "text": [
      "\r",
      "  0%|          | 0/2 [00:00<?, ?it/s]\r",
      " 50%|█████     | 1/2 [00:00<00:00,  3.28it/s]\r",
      "100%|██████████| 2/2 [00:00<00:00,  5.23it/s]\n"
     ]
    },
    {
     "name": "stdout",
     "output_type": "stream",
     "text": [
      "=> result\n",
      "* total: 106\n",
      "* correct: 49\n",
      "* accuracy: 46.2%\n",
      "* error: 53.8%\n",
      "* macro_f1: 31.7%\n",
      "epoch [779/1000] batch [20/44] time 0.043 (0.056) data 0.000 (0.016) loss 0.3772 (0.4528) lr 4.1217e-04 eta 0:09:06\n",
      "epoch [779/1000] batch [40/44] time 0.042 (0.048) data 0.000 (0.008) loss 1.2285 (0.5557) lr 4.1217e-04 eta 0:07:49\n",
      "Evaluate on the *val* set\n"
     ]
    },
    {
     "name": "stderr",
     "output_type": "stream",
     "text": [
      "\r",
      "  0%|          | 0/2 [00:00<?, ?it/s]\r",
      " 50%|█████     | 1/2 [00:00<00:00,  3.27it/s]\r",
      "100%|██████████| 2/2 [00:00<00:00,  5.16it/s]\n"
     ]
    },
    {
     "name": "stdout",
     "output_type": "stream",
     "text": [
      "=> result\n",
      "* total: 106\n",
      "* correct: 50\n",
      "* accuracy: 47.2%\n",
      "* error: 52.8%\n",
      "* macro_f1: 31.4%\n",
      "epoch [780/1000] batch [20/44] time 0.041 (0.058) data 0.000 (0.016) loss 0.9209 (0.5343) lr 4.0864e-04 eta 0:09:20\n",
      "epoch [780/1000] batch [40/44] time 0.041 (0.049) data 0.000 (0.008) loss 0.8379 (0.5769) lr 4.0864e-04 eta 0:07:54\n",
      "Evaluate on the *val* set\n"
     ]
    },
    {
     "name": "stderr",
     "output_type": "stream",
     "text": [
      "\r",
      "  0%|          | 0/2 [00:00<?, ?it/s]\r",
      " 50%|█████     | 1/2 [00:00<00:00,  3.25it/s]\r",
      "100%|██████████| 2/2 [00:00<00:00,  5.05it/s]\n"
     ]
    },
    {
     "name": "stdout",
     "output_type": "stream",
     "text": [
      "=> result\n",
      "* total: 106\n",
      "* correct: 51\n",
      "* accuracy: 48.1%\n",
      "* error: 51.9%\n",
      "* macro_f1: 32.5%\n",
      "epoch [781/1000] batch [20/44] time 0.037 (0.057) data 0.000 (0.015) loss 1.0547 (0.6627) lr 4.0511e-04 eta 0:09:08\n",
      "epoch [781/1000] batch [40/44] time 0.038 (0.048) data 0.000 (0.008) loss 0.6719 (0.5960) lr 4.0511e-04 eta 0:07:47\n",
      "Evaluate on the *val* set\n"
     ]
    },
    {
     "name": "stderr",
     "output_type": "stream",
     "text": [
      "\r",
      "  0%|          | 0/2 [00:00<?, ?it/s]\r",
      " 50%|█████     | 1/2 [00:00<00:00,  3.26it/s]\r",
      "100%|██████████| 2/2 [00:00<00:00,  5.16it/s]\n"
     ]
    },
    {
     "name": "stdout",
     "output_type": "stream",
     "text": [
      "=> result\n",
      "* total: 106\n",
      "* correct: 47\n",
      "* accuracy: 44.3%\n",
      "* error: 55.7%\n",
      "* macro_f1: 28.7%\n",
      "epoch [782/1000] batch [20/44] time 0.037 (0.058) data 0.000 (0.017) loss 0.3049 (0.5767) lr 4.0160e-04 eta 0:09:22\n",
      "epoch [782/1000] batch [40/44] time 0.040 (0.049) data 0.000 (0.009) loss 0.4871 (0.5350) lr 4.0160e-04 eta 0:07:53\n",
      "Evaluate on the *val* set\n"
     ]
    },
    {
     "name": "stderr",
     "output_type": "stream",
     "text": [
      "\r",
      "  0%|          | 0/2 [00:00<?, ?it/s]\r",
      " 50%|█████     | 1/2 [00:00<00:00,  3.28it/s]\r",
      "100%|██████████| 2/2 [00:00<00:00,  5.11it/s]\n"
     ]
    },
    {
     "name": "stdout",
     "output_type": "stream",
     "text": [
      "=> result\n",
      "* total: 106\n",
      "* correct: 48\n",
      "* accuracy: 45.3%\n",
      "* error: 54.7%\n",
      "* macro_f1: 29.1%\n",
      "epoch [783/1000] batch [20/44] time 0.043 (0.056) data 0.000 (0.015) loss 0.6948 (0.6436) lr 3.9810e-04 eta 0:08:58\n",
      "epoch [783/1000] batch [40/44] time 0.038 (0.049) data 0.000 (0.008) loss 0.1741 (0.5734) lr 3.9810e-04 eta 0:07:43\n",
      "Evaluate on the *val* set\n"
     ]
    },
    {
     "name": "stderr",
     "output_type": "stream",
     "text": [
      "\r",
      "  0%|          | 0/2 [00:00<?, ?it/s]\r",
      " 50%|█████     | 1/2 [00:00<00:00,  3.21it/s]\r",
      "100%|██████████| 2/2 [00:00<00:00,  5.16it/s]\n"
     ]
    },
    {
     "name": "stdout",
     "output_type": "stream",
     "text": [
      "=> result\n",
      "* total: 106\n",
      "* correct: 50\n",
      "* accuracy: 47.2%\n",
      "* error: 52.8%\n",
      "* macro_f1: 31.4%\n",
      "epoch [784/1000] batch [20/44] time 0.044 (0.056) data 0.000 (0.014) loss 0.6011 (0.5282) lr 3.9462e-04 eta 0:08:54\n",
      "epoch [784/1000] batch [40/44] time 0.041 (0.048) data 0.000 (0.007) loss 0.5840 (0.5635) lr 3.9462e-04 eta 0:07:36\n",
      "Evaluate on the *val* set\n"
     ]
    },
    {
     "name": "stderr",
     "output_type": "stream",
     "text": [
      "\r",
      "  0%|          | 0/2 [00:00<?, ?it/s]\r",
      " 50%|█████     | 1/2 [00:00<00:00,  3.31it/s]\r",
      "100%|██████████| 2/2 [00:00<00:00,  5.16it/s]\n"
     ]
    },
    {
     "name": "stdout",
     "output_type": "stream",
     "text": [
      "=> result\n",
      "* total: 106\n",
      "* correct: 48\n",
      "* accuracy: 45.3%\n",
      "* error: 54.7%\n",
      "* macro_f1: 29.0%\n",
      "epoch [785/1000] batch [20/44] time 0.043 (0.056) data 0.000 (0.016) loss 0.8799 (0.5538) lr 3.9115e-04 eta 0:08:53\n",
      "epoch [785/1000] batch [40/44] time 0.042 (0.048) data 0.000 (0.008) loss 0.4702 (0.5724) lr 3.9115e-04 eta 0:07:35\n",
      "Evaluate on the *val* set\n"
     ]
    },
    {
     "name": "stderr",
     "output_type": "stream",
     "text": [
      "\r",
      "  0%|          | 0/2 [00:00<?, ?it/s]\r",
      " 50%|█████     | 1/2 [00:00<00:00,  3.23it/s]\r",
      "100%|██████████| 2/2 [00:00<00:00,  4.94it/s]\n"
     ]
    },
    {
     "name": "stdout",
     "output_type": "stream",
     "text": [
      "=> result\n",
      "* total: 106\n",
      "* correct: 49\n",
      "* accuracy: 46.2%\n",
      "* error: 53.8%\n",
      "* macro_f1: 29.6%\n",
      "epoch [786/1000] batch [20/44] time 0.042 (0.056) data 0.000 (0.015) loss 0.5908 (0.5075) lr 3.8769e-04 eta 0:08:45\n",
      "epoch [786/1000] batch [40/44] time 0.035 (0.048) data 0.000 (0.008) loss 0.9199 (0.5531) lr 3.8769e-04 eta 0:07:33\n",
      "Evaluate on the *val* set\n"
     ]
    },
    {
     "name": "stderr",
     "output_type": "stream",
     "text": [
      "\r",
      "  0%|          | 0/2 [00:00<?, ?it/s]\r",
      " 50%|█████     | 1/2 [00:00<00:00,  3.16it/s]\r",
      "100%|██████████| 2/2 [00:00<00:00,  4.93it/s]\n"
     ]
    },
    {
     "name": "stdout",
     "output_type": "stream",
     "text": [
      "=> result\n",
      "* total: 106\n",
      "* correct: 48\n",
      "* accuracy: 45.3%\n",
      "* error: 54.7%\n",
      "* macro_f1: 30.1%\n",
      "epoch [787/1000] batch [20/44] time 0.043 (0.054) data 0.000 (0.014) loss 0.1726 (0.5473) lr 3.8425e-04 eta 0:08:23\n",
      "epoch [787/1000] batch [40/44] time 0.039 (0.046) data 0.000 (0.007) loss 0.5078 (0.5754) lr 3.8425e-04 eta 0:07:15\n",
      "Evaluate on the *val* set\n"
     ]
    },
    {
     "name": "stderr",
     "output_type": "stream",
     "text": [
      "\r",
      "  0%|          | 0/2 [00:00<?, ?it/s]\r",
      " 50%|█████     | 1/2 [00:00<00:00,  3.27it/s]\r",
      "100%|██████████| 2/2 [00:00<00:00,  5.26it/s]\n"
     ]
    },
    {
     "name": "stdout",
     "output_type": "stream",
     "text": [
      "=> result\n",
      "* total: 106\n",
      "* correct: 49\n",
      "* accuracy: 46.2%\n",
      "* error: 53.8%\n",
      "* macro_f1: 31.7%\n",
      "epoch [788/1000] batch [20/44] time 0.042 (0.055) data 0.000 (0.014) loss 0.3889 (0.5240) lr 3.8082e-04 eta 0:08:33\n",
      "epoch [788/1000] batch [40/44] time 0.042 (0.047) data 0.000 (0.007) loss 0.3904 (0.5331) lr 3.8082e-04 eta 0:07:20\n",
      "Evaluate on the *val* set\n"
     ]
    },
    {
     "name": "stderr",
     "output_type": "stream",
     "text": [
      "\r",
      "  0%|          | 0/2 [00:00<?, ?it/s]\r",
      " 50%|█████     | 1/2 [00:00<00:00,  3.26it/s]\r",
      "100%|██████████| 2/2 [00:00<00:00,  5.17it/s]\n"
     ]
    },
    {
     "name": "stdout",
     "output_type": "stream",
     "text": [
      "=> result\n",
      "* total: 106\n",
      "* correct: 49\n",
      "* accuracy: 46.2%\n",
      "* error: 53.8%\n",
      "* macro_f1: 31.7%\n",
      "epoch [789/1000] batch [20/44] time 0.036 (0.059) data 0.000 (0.016) loss 0.9019 (0.5276) lr 3.7740e-04 eta 0:09:09\n",
      "epoch [789/1000] batch [40/44] time 0.038 (0.049) data 0.000 (0.008) loss 0.5439 (0.5602) lr 3.7740e-04 eta 0:07:38\n",
      "Evaluate on the *val* set\n"
     ]
    },
    {
     "name": "stderr",
     "output_type": "stream",
     "text": [
      "\r",
      "  0%|          | 0/2 [00:00<?, ?it/s]\r",
      " 50%|█████     | 1/2 [00:00<00:00,  3.31it/s]\r",
      "100%|██████████| 2/2 [00:00<00:00,  5.35it/s]\n"
     ]
    },
    {
     "name": "stdout",
     "output_type": "stream",
     "text": [
      "=> result\n",
      "* total: 106\n",
      "* correct: 48\n",
      "* accuracy: 45.3%\n",
      "* error: 54.7%\n",
      "* macro_f1: 28.9%\n",
      "epoch [790/1000] batch [20/44] time 0.039 (0.055) data 0.000 (0.014) loss 0.1460 (0.5549) lr 3.7400e-04 eta 0:08:25\n",
      "epoch [790/1000] batch [40/44] time 0.041 (0.047) data 0.000 (0.007) loss 0.4885 (0.5717) lr 3.7400e-04 eta 0:07:14\n",
      "Evaluate on the *val* set\n"
     ]
    },
    {
     "name": "stderr",
     "output_type": "stream",
     "text": [
      "\r",
      "  0%|          | 0/2 [00:00<?, ?it/s]\r",
      " 50%|█████     | 1/2 [00:00<00:00,  3.21it/s]\r",
      "100%|██████████| 2/2 [00:00<00:00,  5.11it/s]\n"
     ]
    },
    {
     "name": "stdout",
     "output_type": "stream",
     "text": [
      "=> result\n",
      "* total: 106\n",
      "* correct: 49\n",
      "* accuracy: 46.2%\n",
      "* error: 53.8%\n",
      "* macro_f1: 30.8%\n",
      "epoch [791/1000] batch [20/44] time 0.042 (0.057) data 0.000 (0.014) loss 0.6201 (0.5128) lr 3.7061e-04 eta 0:08:46\n",
      "epoch [791/1000] batch [40/44] time 0.039 (0.048) data 0.000 (0.007) loss 0.1174 (0.5691) lr 3.7061e-04 eta 0:07:19\n",
      "Evaluate on the *val* set\n"
     ]
    },
    {
     "name": "stderr",
     "output_type": "stream",
     "text": [
      "\r",
      "  0%|          | 0/2 [00:00<?, ?it/s]\r",
      " 50%|█████     | 1/2 [00:00<00:00,  3.31it/s]\r",
      "100%|██████████| 2/2 [00:00<00:00,  5.19it/s]\n"
     ]
    },
    {
     "name": "stdout",
     "output_type": "stream",
     "text": [
      "=> result\n",
      "* total: 106\n",
      "* correct: 49\n",
      "* accuracy: 46.2%\n",
      "* error: 53.8%\n",
      "* macro_f1: 31.8%\n",
      "epoch [792/1000] batch [20/44] time 0.040 (0.055) data 0.000 (0.014) loss 0.3003 (0.6252) lr 3.6723e-04 eta 0:08:24\n",
      "epoch [792/1000] batch [40/44] time 0.040 (0.047) data 0.000 (0.007) loss 0.5288 (0.5793) lr 3.6723e-04 eta 0:07:10\n",
      "Evaluate on the *val* set\n"
     ]
    },
    {
     "name": "stderr",
     "output_type": "stream",
     "text": [
      "\r",
      "  0%|          | 0/2 [00:00<?, ?it/s]\r",
      " 50%|█████     | 1/2 [00:00<00:00,  3.31it/s]\r",
      "100%|██████████| 2/2 [00:00<00:00,  5.23it/s]\n"
     ]
    },
    {
     "name": "stdout",
     "output_type": "stream",
     "text": [
      "=> result\n",
      "* total: 106\n",
      "* correct: 49\n",
      "* accuracy: 46.2%\n",
      "* error: 53.8%\n",
      "* macro_f1: 29.6%\n",
      "epoch [793/1000] batch [20/44] time 0.042 (0.056) data 0.000 (0.014) loss 0.3462 (0.4707) lr 3.6387e-04 eta 0:08:27\n",
      "epoch [793/1000] batch [40/44] time 0.041 (0.048) data 0.000 (0.007) loss 0.7476 (0.5468) lr 3.6387e-04 eta 0:07:20\n",
      "Evaluate on the *val* set\n"
     ]
    },
    {
     "name": "stderr",
     "output_type": "stream",
     "text": [
      "\r",
      "  0%|          | 0/2 [00:00<?, ?it/s]\r",
      " 50%|█████     | 1/2 [00:00<00:00,  3.28it/s]\r",
      "100%|██████████| 2/2 [00:00<00:00,  5.19it/s]\n"
     ]
    },
    {
     "name": "stdout",
     "output_type": "stream",
     "text": [
      "=> result\n",
      "* total: 106\n",
      "* correct: 49\n",
      "* accuracy: 46.2%\n",
      "* error: 53.8%\n",
      "* macro_f1: 29.6%\n",
      "epoch [794/1000] batch [20/44] time 0.044 (0.054) data 0.000 (0.015) loss 0.9033 (0.5663) lr 3.6052e-04 eta 0:08:14\n",
      "epoch [794/1000] batch [40/44] time 0.038 (0.047) data 0.000 (0.008) loss 0.4756 (0.5659) lr 3.6052e-04 eta 0:07:08\n",
      "Evaluate on the *val* set\n"
     ]
    },
    {
     "name": "stderr",
     "output_type": "stream",
     "text": [
      "\r",
      "  0%|          | 0/2 [00:00<?, ?it/s]\r",
      " 50%|█████     | 1/2 [00:00<00:00,  3.28it/s]\r",
      "100%|██████████| 2/2 [00:00<00:00,  5.23it/s]\n"
     ]
    },
    {
     "name": "stdout",
     "output_type": "stream",
     "text": [
      "=> result\n",
      "* total: 106\n",
      "* correct: 47\n",
      "* accuracy: 44.3%\n",
      "* error: 55.7%\n",
      "* macro_f1: 28.2%\n",
      "epoch [795/1000] batch [20/44] time 0.036 (0.056) data 0.000 (0.015) loss 0.4995 (0.5164) lr 3.5718e-04 eta 0:08:25\n",
      "epoch [795/1000] batch [40/44] time 0.035 (0.048) data 0.000 (0.008) loss 0.6934 (0.5566) lr 3.5718e-04 eta 0:07:09\n",
      "Evaluate on the *val* set\n"
     ]
    },
    {
     "name": "stderr",
     "output_type": "stream",
     "text": [
      "\r",
      "  0%|          | 0/2 [00:00<?, ?it/s]\r",
      " 50%|█████     | 1/2 [00:00<00:00,  3.24it/s]\r",
      "100%|██████████| 2/2 [00:00<00:00,  5.08it/s]\n"
     ]
    },
    {
     "name": "stdout",
     "output_type": "stream",
     "text": [
      "=> result\n",
      "* total: 106\n",
      "* correct: 49\n",
      "* accuracy: 46.2%\n",
      "* error: 53.8%\n",
      "* macro_f1: 29.6%\n",
      "epoch [796/1000] batch [20/44] time 0.041 (0.058) data 0.000 (0.016) loss 0.3950 (0.6249) lr 3.5386e-04 eta 0:08:41\n",
      "epoch [796/1000] batch [40/44] time 0.037 (0.049) data 0.000 (0.008) loss 0.9741 (0.5734) lr 3.5386e-04 eta 0:07:19\n",
      "Evaluate on the *val* set\n"
     ]
    },
    {
     "name": "stderr",
     "output_type": "stream",
     "text": [
      "\r",
      "  0%|          | 0/2 [00:00<?, ?it/s]\r",
      " 50%|█████     | 1/2 [00:00<00:00,  3.20it/s]\r",
      "100%|██████████| 2/2 [00:00<00:00,  4.94it/s]\n"
     ]
    },
    {
     "name": "stdout",
     "output_type": "stream",
     "text": [
      "=> result\n",
      "* total: 106\n",
      "* correct: 51\n",
      "* accuracy: 48.1%\n",
      "* error: 51.9%\n",
      "* macro_f1: 32.6%\n",
      "epoch [797/1000] batch [20/44] time 0.042 (0.057) data 0.000 (0.016) loss 0.6006 (0.5353) lr 3.5055e-04 eta 0:08:34\n",
      "epoch [797/1000] batch [40/44] time 0.042 (0.049) data 0.000 (0.008) loss 0.6089 (0.5478) lr 3.5055e-04 eta 0:07:16\n",
      "Evaluate on the *val* set\n"
     ]
    },
    {
     "name": "stderr",
     "output_type": "stream",
     "text": [
      "\r",
      "  0%|          | 0/2 [00:00<?, ?it/s]\r",
      " 50%|█████     | 1/2 [00:00<00:00,  3.29it/s]\r",
      "100%|██████████| 2/2 [00:00<00:00,  5.12it/s]\n"
     ]
    },
    {
     "name": "stdout",
     "output_type": "stream",
     "text": [
      "=> result\n",
      "* total: 106\n",
      "* correct: 48\n",
      "* accuracy: 45.3%\n",
      "* error: 54.7%\n",
      "* macro_f1: 28.0%\n",
      "epoch [798/1000] batch [20/44] time 0.039 (0.058) data 0.000 (0.017) loss 0.1921 (0.5469) lr 3.4726e-04 eta 0:08:35\n",
      "epoch [798/1000] batch [40/44] time 0.041 (0.049) data 0.000 (0.008) loss 0.4976 (0.5467) lr 3.4726e-04 eta 0:07:14\n",
      "Evaluate on the *val* set\n"
     ]
    },
    {
     "name": "stderr",
     "output_type": "stream",
     "text": [
      "\r",
      "  0%|          | 0/2 [00:00<?, ?it/s]\r",
      " 50%|█████     | 1/2 [00:00<00:00,  3.32it/s]\r",
      "100%|██████████| 2/2 [00:00<00:00,  5.29it/s]\n"
     ]
    },
    {
     "name": "stdout",
     "output_type": "stream",
     "text": [
      "=> result\n",
      "* total: 106\n",
      "* correct: 49\n",
      "* accuracy: 46.2%\n",
      "* error: 53.8%\n",
      "* macro_f1: 29.5%\n",
      "epoch [799/1000] batch [20/44] time 0.043 (0.058) data 0.000 (0.016) loss 0.7930 (0.5659) lr 3.4398e-04 eta 0:08:29\n",
      "epoch [799/1000] batch [40/44] time 0.042 (0.049) data 0.000 (0.008) loss 0.3689 (0.5583) lr 3.4398e-04 eta 0:07:10\n",
      "Evaluate on the *val* set\n"
     ]
    },
    {
     "name": "stderr",
     "output_type": "stream",
     "text": [
      "\r",
      "  0%|          | 0/2 [00:00<?, ?it/s]\r",
      " 50%|█████     | 1/2 [00:00<00:00,  3.33it/s]\r",
      "100%|██████████| 2/2 [00:00<00:00,  5.19it/s]\n"
     ]
    },
    {
     "name": "stdout",
     "output_type": "stream",
     "text": [
      "=> result\n",
      "* total: 106\n",
      "* correct: 50\n",
      "* accuracy: 47.2%\n",
      "* error: 52.8%\n",
      "* macro_f1: 32.3%\n",
      "epoch [800/1000] batch [20/44] time 0.040 (0.056) data 0.000 (0.014) loss 0.8687 (0.5430) lr 3.4071e-04 eta 0:08:11\n",
      "epoch [800/1000] batch [40/44] time 0.041 (0.048) data 0.000 (0.007) loss 0.8599 (0.5605) lr 3.4071e-04 eta 0:07:01\n",
      "Evaluate on the *val* set\n"
     ]
    },
    {
     "name": "stderr",
     "output_type": "stream",
     "text": [
      "\r",
      "  0%|          | 0/2 [00:00<?, ?it/s]\r",
      " 50%|█████     | 1/2 [00:00<00:00,  3.21it/s]\r",
      "100%|██████████| 2/2 [00:00<00:00,  5.21it/s]\n"
     ]
    },
    {
     "name": "stdout",
     "output_type": "stream",
     "text": [
      "=> result\n",
      "* total: 106\n",
      "* correct: 50\n",
      "* accuracy: 47.2%\n",
      "* error: 52.8%\n",
      "* macro_f1: 32.3%\n",
      "epoch [801/1000] batch [20/44] time 0.040 (0.057) data 0.000 (0.015) loss 0.5757 (0.5420) lr 3.3746e-04 eta 0:08:20\n",
      "epoch [801/1000] batch [40/44] time 0.041 (0.048) data 0.000 (0.007) loss 0.6851 (0.5490) lr 3.3746e-04 eta 0:07:00\n",
      "Evaluate on the *val* set\n"
     ]
    },
    {
     "name": "stderr",
     "output_type": "stream",
     "text": [
      "\r",
      "  0%|          | 0/2 [00:00<?, ?it/s]\r",
      " 50%|█████     | 1/2 [00:00<00:00,  3.16it/s]\r",
      "100%|██████████| 2/2 [00:00<00:00,  5.01it/s]\n"
     ]
    },
    {
     "name": "stdout",
     "output_type": "stream",
     "text": [
      "=> result\n",
      "* total: 106\n",
      "* correct: 49\n",
      "* accuracy: 46.2%\n",
      "* error: 53.8%\n",
      "* macro_f1: 31.7%\n",
      "epoch [802/1000] batch [20/44] time 0.046 (0.049) data 0.000 (0.014) loss 0.5645 (0.5128) lr 3.3422e-04 eta 0:07:10\n",
      "epoch [802/1000] batch [40/44] time 0.039 (0.045) data 0.000 (0.007) loss 0.5146 (0.5716) lr 3.3422e-04 eta 0:06:30\n",
      "Evaluate on the *val* set\n"
     ]
    },
    {
     "name": "stderr",
     "output_type": "stream",
     "text": [
      "\r",
      "  0%|          | 0/2 [00:00<?, ?it/s]\r",
      " 50%|█████     | 1/2 [00:00<00:00,  3.23it/s]\r",
      "100%|██████████| 2/2 [00:00<00:00,  5.13it/s]\n"
     ]
    },
    {
     "name": "stdout",
     "output_type": "stream",
     "text": [
      "=> result\n",
      "* total: 106\n",
      "* correct: 50\n",
      "* accuracy: 47.2%\n",
      "* error: 52.8%\n",
      "* macro_f1: 32.3%\n",
      "epoch [803/1000] batch [20/44] time 0.041 (0.054) data 0.000 (0.017) loss 0.5283 (0.5583) lr 3.3100e-04 eta 0:07:48\n",
      "epoch [803/1000] batch [40/44] time 0.039 (0.047) data 0.000 (0.009) loss 0.4341 (0.5772) lr 3.3100e-04 eta 0:06:49\n",
      "Evaluate on the *val* set\n"
     ]
    },
    {
     "name": "stderr",
     "output_type": "stream",
     "text": [
      "\r",
      "  0%|          | 0/2 [00:00<?, ?it/s]\r",
      " 50%|█████     | 1/2 [00:00<00:00,  3.26it/s]\r",
      "100%|██████████| 2/2 [00:00<00:00,  5.21it/s]\n"
     ]
    },
    {
     "name": "stdout",
     "output_type": "stream",
     "text": [
      "=> result\n",
      "* total: 106\n",
      "* correct: 49\n",
      "* accuracy: 46.2%\n",
      "* error: 53.8%\n",
      "* macro_f1: 31.7%\n",
      "epoch [804/1000] batch [20/44] time 0.035 (0.055) data 0.000 (0.015) loss 0.8149 (0.5498) lr 3.2779e-04 eta 0:07:52\n",
      "epoch [804/1000] batch [40/44] time 0.038 (0.048) data 0.000 (0.007) loss 0.8413 (0.5528) lr 3.2779e-04 eta 0:06:51\n",
      "Evaluate on the *val* set\n"
     ]
    },
    {
     "name": "stderr",
     "output_type": "stream",
     "text": [
      "\r",
      "  0%|          | 0/2 [00:00<?, ?it/s]\r",
      " 50%|█████     | 1/2 [00:00<00:00,  3.29it/s]\r",
      "100%|██████████| 2/2 [00:00<00:00,  5.06it/s]\n"
     ]
    },
    {
     "name": "stdout",
     "output_type": "stream",
     "text": [
      "=> result\n",
      "* total: 106\n",
      "* correct: 49\n",
      "* accuracy: 46.2%\n",
      "* error: 53.8%\n",
      "* macro_f1: 29.6%\n",
      "epoch [805/1000] batch [20/44] time 0.042 (0.057) data 0.000 (0.016) loss 0.7212 (0.5141) lr 3.2459e-04 eta 0:08:09\n",
      "epoch [805/1000] batch [40/44] time 0.039 (0.048) data 0.000 (0.008) loss 0.8994 (0.5802) lr 3.2459e-04 eta 0:06:55\n",
      "Evaluate on the *val* set\n"
     ]
    },
    {
     "name": "stderr",
     "output_type": "stream",
     "text": [
      "\r",
      "  0%|          | 0/2 [00:00<?, ?it/s]\r",
      " 50%|█████     | 1/2 [00:00<00:00,  3.27it/s]\r",
      "100%|██████████| 2/2 [00:00<00:00,  5.04it/s]\n"
     ]
    },
    {
     "name": "stdout",
     "output_type": "stream",
     "text": [
      "=> result\n",
      "* total: 106\n",
      "* correct: 46\n",
      "* accuracy: 43.4%\n",
      "* error: 56.6%\n",
      "* macro_f1: 26.0%\n",
      "epoch [806/1000] batch [20/44] time 0.041 (0.055) data 0.000 (0.015) loss 0.6787 (0.5401) lr 3.2141e-04 eta 0:07:48\n",
      "epoch [806/1000] batch [40/44] time 0.042 (0.047) data 0.000 (0.007) loss 0.8628 (0.5671) lr 3.2141e-04 eta 0:06:38\n",
      "Evaluate on the *val* set\n"
     ]
    },
    {
     "name": "stderr",
     "output_type": "stream",
     "text": [
      "\r",
      "  0%|          | 0/2 [00:00<?, ?it/s]\r",
      " 50%|█████     | 1/2 [00:00<00:00,  3.12it/s]\r",
      "100%|██████████| 2/2 [00:00<00:00,  5.00it/s]\n"
     ]
    },
    {
     "name": "stdout",
     "output_type": "stream",
     "text": [
      "=> result\n",
      "* total: 106\n",
      "* correct: 48\n",
      "* accuracy: 45.3%\n",
      "* error: 54.7%\n",
      "* macro_f1: 29.0%\n",
      "epoch [807/1000] batch [20/44] time 0.045 (0.055) data 0.000 (0.015) loss 0.5112 (0.5873) lr 3.1824e-04 eta 0:07:49\n",
      "epoch [807/1000] batch [40/44] time 0.042 (0.048) data 0.000 (0.007) loss 0.6528 (0.5777) lr 3.1824e-04 eta 0:06:45\n",
      "Evaluate on the *val* set\n"
     ]
    },
    {
     "name": "stderr",
     "output_type": "stream",
     "text": [
      "\r",
      "  0%|          | 0/2 [00:00<?, ?it/s]\r",
      " 50%|█████     | 1/2 [00:00<00:00,  3.29it/s]\r",
      "100%|██████████| 2/2 [00:00<00:00,  5.16it/s]\n"
     ]
    },
    {
     "name": "stdout",
     "output_type": "stream",
     "text": [
      "=> result\n",
      "* total: 106\n",
      "* correct: 48\n",
      "* accuracy: 45.3%\n",
      "* error: 54.7%\n",
      "* macro_f1: 28.8%\n",
      "epoch [808/1000] batch [20/44] time 0.036 (0.056) data 0.000 (0.014) loss 0.5928 (0.6099) lr 3.1508e-04 eta 0:07:54\n",
      "epoch [808/1000] batch [40/44] time 0.042 (0.048) data 0.000 (0.007) loss 0.5381 (0.5478) lr 3.1508e-04 eta 0:06:46\n",
      "Evaluate on the *val* set\n"
     ]
    },
    {
     "name": "stderr",
     "output_type": "stream",
     "text": [
      "\r",
      "  0%|          | 0/2 [00:00<?, ?it/s]\r",
      " 50%|█████     | 1/2 [00:00<00:00,  3.26it/s]\r",
      "100%|██████████| 2/2 [00:00<00:00,  5.26it/s]\n"
     ]
    },
    {
     "name": "stdout",
     "output_type": "stream",
     "text": [
      "=> result\n",
      "* total: 106\n",
      "* correct: 48\n",
      "* accuracy: 45.3%\n",
      "* error: 54.7%\n",
      "* macro_f1: 28.9%\n",
      "epoch [809/1000] batch [20/44] time 0.043 (0.054) data 0.000 (0.014) loss 0.3625 (0.4609) lr 3.1194e-04 eta 0:07:33\n",
      "epoch [809/1000] batch [40/44] time 0.042 (0.046) data 0.000 (0.007) loss 0.4292 (0.5322) lr 3.1194e-04 eta 0:06:28\n",
      "Evaluate on the *val* set\n"
     ]
    },
    {
     "name": "stderr",
     "output_type": "stream",
     "text": [
      "\r",
      "  0%|          | 0/2 [00:00<?, ?it/s]\r",
      " 50%|█████     | 1/2 [00:00<00:00,  3.25it/s]\r",
      "100%|██████████| 2/2 [00:00<00:00,  5.08it/s]\n"
     ]
    },
    {
     "name": "stdout",
     "output_type": "stream",
     "text": [
      "=> result\n",
      "* total: 106\n",
      "* correct: 48\n",
      "* accuracy: 45.3%\n",
      "* error: 54.7%\n",
      "* macro_f1: 31.4%\n",
      "epoch [810/1000] batch [20/44] time 0.038 (0.056) data 0.000 (0.015) loss 0.9224 (0.5360) lr 3.0882e-04 eta 0:07:46\n",
      "epoch [810/1000] batch [40/44] time 0.040 (0.048) data 0.000 (0.007) loss 0.2009 (0.5721) lr 3.0882e-04 eta 0:06:41\n",
      "Evaluate on the *val* set\n"
     ]
    },
    {
     "name": "stderr",
     "output_type": "stream",
     "text": [
      "\r",
      "  0%|          | 0/2 [00:00<?, ?it/s]\r",
      " 50%|█████     | 1/2 [00:00<00:00,  3.19it/s]\r",
      "100%|██████████| 2/2 [00:00<00:00,  5.15it/s]\n"
     ]
    },
    {
     "name": "stdout",
     "output_type": "stream",
     "text": [
      "=> result\n",
      "* total: 106\n",
      "* correct: 49\n",
      "* accuracy: 46.2%\n",
      "* error: 53.8%\n",
      "* macro_f1: 29.5%\n",
      "epoch [811/1000] batch [20/44] time 0.040 (0.055) data 0.000 (0.014) loss 0.7012 (0.5573) lr 3.0571e-04 eta 0:07:35\n",
      "epoch [811/1000] batch [40/44] time 0.041 (0.047) data 0.000 (0.007) loss 0.3015 (0.5473) lr 3.0571e-04 eta 0:06:29\n",
      "Evaluate on the *val* set\n"
     ]
    },
    {
     "name": "stderr",
     "output_type": "stream",
     "text": [
      "\r",
      "  0%|          | 0/2 [00:00<?, ?it/s]\r",
      " 50%|█████     | 1/2 [00:00<00:00,  3.34it/s]\r",
      "100%|██████████| 2/2 [00:00<00:00,  5.23it/s]\n"
     ]
    },
    {
     "name": "stdout",
     "output_type": "stream",
     "text": [
      "=> result\n",
      "* total: 106\n",
      "* correct: 49\n",
      "* accuracy: 46.2%\n",
      "* error: 53.8%\n",
      "* macro_f1: 29.6%\n",
      "epoch [812/1000] batch [20/44] time 0.043 (0.056) data 0.000 (0.014) loss 0.5503 (0.5819) lr 3.0261e-04 eta 0:07:44\n",
      "epoch [812/1000] batch [40/44] time 0.034 (0.048) data 0.000 (0.007) loss 0.3596 (0.5744) lr 3.0261e-04 eta 0:06:33\n",
      "Evaluate on the *val* set\n"
     ]
    },
    {
     "name": "stderr",
     "output_type": "stream",
     "text": [
      "\r",
      "  0%|          | 0/2 [00:00<?, ?it/s]\r",
      " 50%|█████     | 1/2 [00:00<00:00,  3.22it/s]\r",
      "100%|██████████| 2/2 [00:00<00:00,  4.95it/s]\n"
     ]
    },
    {
     "name": "stdout",
     "output_type": "stream",
     "text": [
      "=> result\n",
      "* total: 106\n",
      "* correct: 50\n",
      "* accuracy: 47.2%\n",
      "* error: 52.8%\n",
      "* macro_f1: 32.3%\n",
      "epoch [813/1000] batch [20/44] time 0.043 (0.054) data 0.000 (0.014) loss 0.5181 (0.5307) lr 2.9953e-04 eta 0:07:26\n",
      "epoch [813/1000] batch [40/44] time 0.040 (0.047) data 0.000 (0.007) loss 0.4846 (0.5569) lr 2.9953e-04 eta 0:06:29\n",
      "Evaluate on the *val* set\n"
     ]
    },
    {
     "name": "stderr",
     "output_type": "stream",
     "text": [
      "\r",
      "  0%|          | 0/2 [00:00<?, ?it/s]\r",
      " 50%|█████     | 1/2 [00:00<00:00,  3.27it/s]\r",
      "100%|██████████| 2/2 [00:00<00:00,  5.19it/s]\n"
     ]
    },
    {
     "name": "stdout",
     "output_type": "stream",
     "text": [
      "=> result\n",
      "* total: 106\n",
      "* correct: 48\n",
      "* accuracy: 45.3%\n",
      "* error: 54.7%\n",
      "* macro_f1: 28.9%\n",
      "epoch [814/1000] batch [20/44] time 0.040 (0.055) data 0.000 (0.015) loss 0.2458 (0.5233) lr 2.9646e-04 eta 0:07:35\n",
      "epoch [814/1000] batch [40/44] time 0.040 (0.048) data 0.000 (0.008) loss 0.3201 (0.5484) lr 2.9646e-04 eta 0:06:33\n",
      "Evaluate on the *val* set\n"
     ]
    },
    {
     "name": "stderr",
     "output_type": "stream",
     "text": [
      "\r",
      "  0%|          | 0/2 [00:00<?, ?it/s]\r",
      " 50%|█████     | 1/2 [00:00<00:00,  3.29it/s]\r",
      "100%|██████████| 2/2 [00:00<00:00,  5.15it/s]\n"
     ]
    },
    {
     "name": "stdout",
     "output_type": "stream",
     "text": [
      "=> result\n",
      "* total: 106\n",
      "* correct: 49\n",
      "* accuracy: 46.2%\n",
      "* error: 53.8%\n",
      "* macro_f1: 31.6%\n",
      "epoch [815/1000] batch [20/44] time 0.040 (0.057) data 0.000 (0.016) loss 0.8755 (0.5283) lr 2.9340e-04 eta 0:07:43\n",
      "epoch [815/1000] batch [40/44] time 0.036 (0.048) data 0.000 (0.008) loss 0.2893 (0.5390) lr 2.9340e-04 eta 0:06:32\n",
      "Evaluate on the *val* set\n"
     ]
    },
    {
     "name": "stderr",
     "output_type": "stream",
     "text": [
      "\r",
      "  0%|          | 0/2 [00:00<?, ?it/s]\r",
      " 50%|█████     | 1/2 [00:00<00:00,  3.30it/s]\r",
      "100%|██████████| 2/2 [00:00<00:00,  5.19it/s]\n"
     ]
    },
    {
     "name": "stdout",
     "output_type": "stream",
     "text": [
      "=> result\n",
      "* total: 106\n",
      "* correct: 48\n",
      "* accuracy: 45.3%\n",
      "* error: 54.7%\n",
      "* macro_f1: 28.9%\n",
      "epoch [816/1000] batch [20/44] time 0.040 (0.058) data 0.000 (0.016) loss 0.6333 (0.5275) lr 2.9036e-04 eta 0:07:51\n",
      "epoch [816/1000] batch [40/44] time 0.040 (0.049) data 0.000 (0.008) loss 0.4880 (0.5329) lr 2.9036e-04 eta 0:06:35\n",
      "Evaluate on the *val* set\n"
     ]
    },
    {
     "name": "stderr",
     "output_type": "stream",
     "text": [
      "\r",
      "  0%|          | 0/2 [00:00<?, ?it/s]\r",
      " 50%|█████     | 1/2 [00:00<00:00,  3.26it/s]\r",
      "100%|██████████| 2/2 [00:00<00:00,  5.17it/s]\n"
     ]
    },
    {
     "name": "stdout",
     "output_type": "stream",
     "text": [
      "=> result\n",
      "* total: 106\n",
      "* correct: 47\n",
      "* accuracy: 44.3%\n",
      "* error: 55.7%\n",
      "* macro_f1: 28.6%\n",
      "epoch [817/1000] batch [20/44] time 0.038 (0.055) data 0.000 (0.015) loss 0.6641 (0.5368) lr 2.8734e-04 eta 0:07:26\n",
      "epoch [817/1000] batch [40/44] time 0.041 (0.048) data 0.000 (0.007) loss 0.6421 (0.5629) lr 2.8734e-04 eta 0:06:24\n",
      "Evaluate on the *val* set\n"
     ]
    },
    {
     "name": "stderr",
     "output_type": "stream",
     "text": [
      "\r",
      "  0%|          | 0/2 [00:00<?, ?it/s]\r",
      " 50%|█████     | 1/2 [00:00<00:00,  3.28it/s]\r",
      "100%|██████████| 2/2 [00:00<00:00,  5.20it/s]\n"
     ]
    },
    {
     "name": "stdout",
     "output_type": "stream",
     "text": [
      "=> result\n",
      "* total: 106\n",
      "* correct: 48\n",
      "* accuracy: 45.3%\n",
      "* error: 54.7%\n",
      "* macro_f1: 28.9%\n",
      "epoch [818/1000] batch [20/44] time 0.044 (0.058) data 0.000 (0.017) loss 0.8921 (0.6098) lr 2.8433e-04 eta 0:07:46\n",
      "epoch [818/1000] batch [40/44] time 0.041 (0.049) data 0.000 (0.008) loss 0.5791 (0.5420) lr 2.8433e-04 eta 0:06:32\n",
      "Evaluate on the *val* set\n"
     ]
    },
    {
     "name": "stderr",
     "output_type": "stream",
     "text": [
      "\r",
      "  0%|          | 0/2 [00:00<?, ?it/s]\r",
      " 50%|█████     | 1/2 [00:00<00:00,  3.20it/s]\r",
      "100%|██████████| 2/2 [00:00<00:00,  5.09it/s]\n"
     ]
    },
    {
     "name": "stdout",
     "output_type": "stream",
     "text": [
      "=> result\n",
      "* total: 106\n",
      "* correct: 48\n",
      "* accuracy: 45.3%\n",
      "* error: 54.7%\n",
      "* macro_f1: 28.8%\n",
      "epoch [819/1000] batch [20/44] time 0.038 (0.054) data 0.000 (0.014) loss 0.6909 (0.5162) lr 2.8133e-04 eta 0:07:09\n",
      "epoch [819/1000] batch [40/44] time 0.037 (0.047) data 0.000 (0.007) loss 0.3423 (0.5460) lr 2.8133e-04 eta 0:06:16\n",
      "Evaluate on the *val* set\n"
     ]
    },
    {
     "name": "stderr",
     "output_type": "stream",
     "text": [
      "\r",
      "  0%|          | 0/2 [00:00<?, ?it/s]\r",
      " 50%|█████     | 1/2 [00:00<00:00,  3.23it/s]\r",
      "100%|██████████| 2/2 [00:00<00:00,  5.05it/s]\n"
     ]
    },
    {
     "name": "stdout",
     "output_type": "stream",
     "text": [
      "=> result\n",
      "* total: 106\n",
      "* correct: 50\n",
      "* accuracy: 47.2%\n",
      "* error: 52.8%\n",
      "* macro_f1: 29.8%\n",
      "epoch [820/1000] batch [20/44] time 0.043 (0.052) data 0.000 (0.014) loss 0.3662 (0.5597) lr 2.7835e-04 eta 0:06:50\n",
      "epoch [820/1000] batch [40/44] time 0.040 (0.046) data 0.000 (0.007) loss 0.5098 (0.5541) lr 2.7835e-04 eta 0:06:00\n",
      "Evaluate on the *val* set\n"
     ]
    },
    {
     "name": "stderr",
     "output_type": "stream",
     "text": [
      "\r",
      "  0%|          | 0/2 [00:00<?, ?it/s]\r",
      " 50%|█████     | 1/2 [00:00<00:00,  3.29it/s]\r",
      "100%|██████████| 2/2 [00:00<00:00,  5.23it/s]\n"
     ]
    },
    {
     "name": "stdout",
     "output_type": "stream",
     "text": [
      "=> result\n",
      "* total: 106\n",
      "* correct: 46\n",
      "* accuracy: 43.4%\n",
      "* error: 56.6%\n",
      "* macro_f1: 27.9%\n",
      "epoch [821/1000] batch [20/44] time 0.042 (0.057) data 0.000 (0.015) loss 0.4429 (0.5449) lr 2.7538e-04 eta 0:07:31\n",
      "epoch [821/1000] batch [40/44] time 0.038 (0.048) data 0.000 (0.008) loss 0.4976 (0.5478) lr 2.7538e-04 eta 0:06:18\n",
      "Evaluate on the *val* set\n"
     ]
    },
    {
     "name": "stderr",
     "output_type": "stream",
     "text": [
      "\r",
      "  0%|          | 0/2 [00:00<?, ?it/s]\r",
      " 50%|█████     | 1/2 [00:00<00:00,  3.30it/s]\r",
      "100%|██████████| 2/2 [00:00<00:00,  5.07it/s]\n"
     ]
    },
    {
     "name": "stdout",
     "output_type": "stream",
     "text": [
      "=> result\n",
      "* total: 106\n",
      "* correct: 49\n",
      "* accuracy: 46.2%\n",
      "* error: 53.8%\n",
      "* macro_f1: 31.7%\n",
      "epoch [822/1000] batch [20/44] time 0.044 (0.056) data 0.000 (0.015) loss 0.9116 (0.5492) lr 2.7243e-04 eta 0:07:19\n",
      "epoch [822/1000] batch [40/44] time 0.042 (0.048) data 0.000 (0.007) loss 0.4336 (0.5419) lr 2.7243e-04 eta 0:06:17\n",
      "Evaluate on the *val* set\n"
     ]
    },
    {
     "name": "stderr",
     "output_type": "stream",
     "text": [
      "\r",
      "  0%|          | 0/2 [00:00<?, ?it/s]\r",
      " 50%|█████     | 1/2 [00:00<00:00,  3.23it/s]\r",
      "100%|██████████| 2/2 [00:00<00:00,  5.06it/s]\n"
     ]
    },
    {
     "name": "stdout",
     "output_type": "stream",
     "text": [
      "=> result\n",
      "* total: 106\n",
      "* correct: 49\n",
      "* accuracy: 46.2%\n",
      "* error: 53.8%\n",
      "* macro_f1: 30.7%\n",
      "epoch [823/1000] batch [20/44] time 0.040 (0.056) data 0.000 (0.015) loss 0.8105 (0.5275) lr 2.6949e-04 eta 0:07:14\n",
      "epoch [823/1000] batch [40/44] time 0.043 (0.048) data 0.000 (0.007) loss 0.4470 (0.5306) lr 2.6949e-04 eta 0:06:14\n",
      "Evaluate on the *val* set\n"
     ]
    },
    {
     "name": "stderr",
     "output_type": "stream",
     "text": [
      "\r",
      "  0%|          | 0/2 [00:00<?, ?it/s]\r",
      " 50%|█████     | 1/2 [00:00<00:00,  3.28it/s]\r",
      "100%|██████████| 2/2 [00:00<00:00,  5.15it/s]\n"
     ]
    },
    {
     "name": "stdout",
     "output_type": "stream",
     "text": [
      "=> result\n",
      "* total: 106\n",
      "* correct: 49\n",
      "* accuracy: 46.2%\n",
      "* error: 53.8%\n",
      "* macro_f1: 29.5%\n",
      "epoch [824/1000] batch [20/44] time 0.039 (0.058) data 0.000 (0.016) loss 0.8027 (0.5497) lr 2.6656e-04 eta 0:07:27\n",
      "epoch [824/1000] batch [40/44] time 0.033 (0.049) data 0.000 (0.008) loss 0.3435 (0.5482) lr 2.6656e-04 eta 0:06:22\n",
      "Evaluate on the *val* set\n"
     ]
    },
    {
     "name": "stderr",
     "output_type": "stream",
     "text": [
      "\r",
      "  0%|          | 0/2 [00:00<?, ?it/s]\r",
      " 50%|█████     | 1/2 [00:00<00:00,  3.34it/s]\r",
      "100%|██████████| 2/2 [00:00<00:00,  5.22it/s]\n"
     ]
    },
    {
     "name": "stdout",
     "output_type": "stream",
     "text": [
      "=> result\n",
      "* total: 106\n",
      "* correct: 49\n",
      "* accuracy: 46.2%\n",
      "* error: 53.8%\n",
      "* macro_f1: 29.5%\n",
      "epoch [825/1000] batch [20/44] time 0.039 (0.055) data 0.000 (0.015) loss 0.6152 (0.5195) lr 2.6365e-04 eta 0:07:03\n",
      "epoch [825/1000] batch [40/44] time 0.042 (0.047) data 0.000 (0.007) loss 0.3589 (0.5322) lr 2.6365e-04 eta 0:06:03\n",
      "Evaluate on the *val* set\n"
     ]
    },
    {
     "name": "stderr",
     "output_type": "stream",
     "text": [
      "\r",
      "  0%|          | 0/2 [00:00<?, ?it/s]\r",
      " 50%|█████     | 1/2 [00:00<00:00,  3.15it/s]\r",
      "100%|██████████| 2/2 [00:00<00:00,  5.11it/s]\n"
     ]
    },
    {
     "name": "stdout",
     "output_type": "stream",
     "text": [
      "=> result\n",
      "* total: 106\n",
      "* correct: 49\n",
      "* accuracy: 46.2%\n",
      "* error: 53.8%\n",
      "* macro_f1: 31.7%\n",
      "epoch [826/1000] batch [20/44] time 0.041 (0.056) data 0.000 (0.014) loss 0.5532 (0.5192) lr 2.6076e-04 eta 0:07:12\n",
      "epoch [826/1000] batch [40/44] time 0.035 (0.048) data 0.000 (0.007) loss 0.6528 (0.5709) lr 2.6076e-04 eta 0:06:07\n",
      "Evaluate on the *val* set\n"
     ]
    },
    {
     "name": "stderr",
     "output_type": "stream",
     "text": [
      "\r",
      "  0%|          | 0/2 [00:00<?, ?it/s]\r",
      " 50%|█████     | 1/2 [00:00<00:00,  3.33it/s]\r",
      "100%|██████████| 2/2 [00:00<00:00,  5.24it/s]\n"
     ]
    },
    {
     "name": "stdout",
     "output_type": "stream",
     "text": [
      "=> result\n",
      "* total: 106\n",
      "* correct: 49\n",
      "* accuracy: 46.2%\n",
      "* error: 53.8%\n",
      "* macro_f1: 31.7%\n",
      "epoch [827/1000] batch [20/44] time 0.041 (0.053) data 0.000 (0.015) loss 0.5020 (0.5439) lr 2.5788e-04 eta 0:06:45\n",
      "epoch [827/1000] batch [40/44] time 0.036 (0.046) data 0.000 (0.008) loss 0.7803 (0.5644) lr 2.5788e-04 eta 0:05:52\n",
      "Evaluate on the *val* set\n"
     ]
    },
    {
     "name": "stderr",
     "output_type": "stream",
     "text": [
      "\r",
      "  0%|          | 0/2 [00:00<?, ?it/s]\r",
      " 50%|█████     | 1/2 [00:00<00:00,  3.21it/s]\r",
      "100%|██████████| 2/2 [00:00<00:00,  5.17it/s]\n"
     ]
    },
    {
     "name": "stdout",
     "output_type": "stream",
     "text": [
      "=> result\n",
      "* total: 106\n",
      "* correct: 49\n",
      "* accuracy: 46.2%\n",
      "* error: 53.8%\n",
      "* macro_f1: 31.7%\n",
      "epoch [828/1000] batch [20/44] time 0.043 (0.056) data 0.000 (0.014) loss 0.4004 (0.5127) lr 2.5501e-04 eta 0:07:05\n",
      "epoch [828/1000] batch [40/44] time 0.035 (0.048) data 0.000 (0.007) loss 0.4954 (0.5641) lr 2.5501e-04 eta 0:06:01\n",
      "Evaluate on the *val* set\n"
     ]
    },
    {
     "name": "stderr",
     "output_type": "stream",
     "text": [
      "\r",
      "  0%|          | 0/2 [00:00<?, ?it/s]\r",
      " 50%|█████     | 1/2 [00:00<00:00,  3.27it/s]\r",
      "100%|██████████| 2/2 [00:00<00:00,  5.15it/s]\n"
     ]
    },
    {
     "name": "stdout",
     "output_type": "stream",
     "text": [
      "=> result\n",
      "* total: 106\n",
      "* correct: 50\n",
      "* accuracy: 47.2%\n",
      "* error: 52.8%\n",
      "* macro_f1: 32.3%\n",
      "epoch [829/1000] batch [20/44] time 0.036 (0.057) data 0.000 (0.015) loss 0.2008 (0.4821) lr 2.5216e-04 eta 0:07:08\n",
      "epoch [829/1000] batch [40/44] time 0.041 (0.049) data 0.000 (0.008) loss 1.1738 (0.5567) lr 2.5216e-04 eta 0:06:06\n",
      "Evaluate on the *val* set\n"
     ]
    },
    {
     "name": "stderr",
     "output_type": "stream",
     "text": [
      "\r",
      "  0%|          | 0/2 [00:00<?, ?it/s]\r",
      " 50%|█████     | 1/2 [00:00<00:00,  3.20it/s]\r",
      "100%|██████████| 2/2 [00:00<00:00,  4.91it/s]\n"
     ]
    },
    {
     "name": "stdout",
     "output_type": "stream",
     "text": [
      "=> result\n",
      "* total: 106\n",
      "* correct: 49\n",
      "* accuracy: 46.2%\n",
      "* error: 53.8%\n",
      "* macro_f1: 31.7%\n",
      "epoch [830/1000] batch [20/44] time 0.038 (0.056) data 0.000 (0.015) loss 0.4683 (0.5316) lr 2.4933e-04 eta 0:06:57\n",
      "epoch [830/1000] batch [40/44] time 0.042 (0.048) data 0.000 (0.007) loss 0.3276 (0.5481) lr 2.4933e-04 eta 0:05:58\n",
      "Evaluate on the *val* set\n"
     ]
    },
    {
     "name": "stderr",
     "output_type": "stream",
     "text": [
      "\r",
      "  0%|          | 0/2 [00:00<?, ?it/s]\r",
      " 50%|█████     | 1/2 [00:00<00:00,  3.28it/s]\r",
      "100%|██████████| 2/2 [00:00<00:00,  5.12it/s]\n"
     ]
    },
    {
     "name": "stdout",
     "output_type": "stream",
     "text": [
      "=> result\n",
      "* total: 106\n",
      "* correct: 47\n",
      "* accuracy: 44.3%\n",
      "* error: 55.7%\n",
      "* macro_f1: 28.1%\n",
      "epoch [831/1000] batch [20/44] time 0.043 (0.059) data 0.000 (0.016) loss 0.1638 (0.5716) lr 2.4651e-04 eta 0:07:17\n",
      "epoch [831/1000] batch [40/44] time 0.042 (0.049) data 0.000 (0.008) loss 0.5029 (0.5267) lr 2.4651e-04 eta 0:06:06\n",
      "Evaluate on the *val* set\n"
     ]
    },
    {
     "name": "stderr",
     "output_type": "stream",
     "text": [
      "\r",
      "  0%|          | 0/2 [00:00<?, ?it/s]\r",
      " 50%|█████     | 1/2 [00:00<00:00,  3.27it/s]\r",
      "100%|██████████| 2/2 [00:00<00:00,  5.25it/s]\n"
     ]
    },
    {
     "name": "stdout",
     "output_type": "stream",
     "text": [
      "=> result\n",
      "* total: 106\n",
      "* correct: 49\n",
      "* accuracy: 46.2%\n",
      "* error: 53.8%\n",
      "* macro_f1: 31.7%\n",
      "epoch [832/1000] batch [20/44] time 0.040 (0.059) data 0.000 (0.016) loss 0.4927 (0.6273) lr 2.4370e-04 eta 0:07:15\n",
      "epoch [832/1000] batch [40/44] time 0.038 (0.049) data 0.000 (0.008) loss 0.7344 (0.5600) lr 2.4370e-04 eta 0:06:04\n",
      "Evaluate on the *val* set\n"
     ]
    },
    {
     "name": "stderr",
     "output_type": "stream",
     "text": [
      "\r",
      "  0%|          | 0/2 [00:00<?, ?it/s]\r",
      " 50%|█████     | 1/2 [00:00<00:00,  3.25it/s]\r",
      "100%|██████████| 2/2 [00:00<00:00,  5.10it/s]\n"
     ]
    },
    {
     "name": "stdout",
     "output_type": "stream",
     "text": [
      "=> result\n",
      "* total: 106\n",
      "* correct: 47\n",
      "* accuracy: 44.3%\n",
      "* error: 55.7%\n",
      "* macro_f1: 28.6%\n",
      "epoch [833/1000] batch [20/44] time 0.043 (0.058) data 0.000 (0.016) loss 0.6968 (0.5326) lr 2.4091e-04 eta 0:07:08\n",
      "epoch [833/1000] batch [40/44] time 0.039 (0.050) data 0.000 (0.008) loss 0.6929 (0.5585) lr 2.4091e-04 eta 0:06:04\n",
      "Evaluate on the *val* set\n"
     ]
    },
    {
     "name": "stderr",
     "output_type": "stream",
     "text": [
      "\r",
      "  0%|          | 0/2 [00:00<?, ?it/s]\r",
      " 50%|█████     | 1/2 [00:00<00:00,  3.19it/s]\r",
      "100%|██████████| 2/2 [00:00<00:00,  5.14it/s]\n"
     ]
    },
    {
     "name": "stdout",
     "output_type": "stream",
     "text": [
      "=> result\n",
      "* total: 106\n",
      "* correct: 50\n",
      "* accuracy: 47.2%\n",
      "* error: 52.8%\n",
      "* macro_f1: 32.6%\n",
      "epoch [834/1000] batch [20/44] time 0.040 (0.057) data 0.000 (0.015) loss 0.5034 (0.4868) lr 2.3813e-04 eta 0:06:55\n",
      "epoch [834/1000] batch [40/44] time 0.037 (0.048) data 0.000 (0.007) loss 0.6250 (0.5628) lr 2.3813e-04 eta 0:05:51\n",
      "Evaluate on the *val* set\n"
     ]
    },
    {
     "name": "stderr",
     "output_type": "stream",
     "text": [
      "\r",
      "  0%|          | 0/2 [00:00<?, ?it/s]\r",
      " 50%|█████     | 1/2 [00:00<00:00,  3.23it/s]\r",
      "100%|██████████| 2/2 [00:00<00:00,  5.16it/s]\n"
     ]
    },
    {
     "name": "stdout",
     "output_type": "stream",
     "text": [
      "=> result\n",
      "* total: 106\n",
      "* correct: 47\n",
      "* accuracy: 44.3%\n",
      "* error: 55.7%\n",
      "* macro_f1: 26.2%\n",
      "epoch [835/1000] batch [20/44] time 0.041 (0.055) data 0.000 (0.015) loss 0.4229 (0.4905) lr 2.3537e-04 eta 0:06:42\n",
      "epoch [835/1000] batch [40/44] time 0.038 (0.048) data 0.000 (0.008) loss 0.5024 (0.5434) lr 2.3537e-04 eta 0:05:45\n",
      "Evaluate on the *val* set\n"
     ]
    },
    {
     "name": "stderr",
     "output_type": "stream",
     "text": [
      "\r",
      "  0%|          | 0/2 [00:00<?, ?it/s]\r",
      " 50%|█████     | 1/2 [00:00<00:00,  3.16it/s]\r",
      "100%|██████████| 2/2 [00:00<00:00,  5.04it/s]\n"
     ]
    },
    {
     "name": "stdout",
     "output_type": "stream",
     "text": [
      "=> result\n",
      "* total: 106\n",
      "* correct: 50\n",
      "* accuracy: 47.2%\n",
      "* error: 52.8%\n",
      "* macro_f1: 32.3%\n",
      "epoch [836/1000] batch [20/44] time 0.039 (0.055) data 0.000 (0.014) loss 0.2852 (0.5046) lr 2.3263e-04 eta 0:06:38\n",
      "epoch [836/1000] batch [40/44] time 0.038 (0.048) data 0.000 (0.007) loss 0.5229 (0.5727) lr 2.3263e-04 eta 0:05:43\n",
      "Evaluate on the *val* set\n"
     ]
    },
    {
     "name": "stderr",
     "output_type": "stream",
     "text": [
      "\r",
      "  0%|          | 0/2 [00:00<?, ?it/s]\r",
      " 50%|█████     | 1/2 [00:00<00:00,  3.28it/s]\r",
      "100%|██████████| 2/2 [00:00<00:00,  5.00it/s]\n"
     ]
    },
    {
     "name": "stdout",
     "output_type": "stream",
     "text": [
      "=> result\n",
      "* total: 106\n",
      "* correct: 51\n",
      "* accuracy: 48.1%\n",
      "* error: 51.9%\n",
      "* macro_f1: 32.5%\n",
      "epoch [837/1000] batch [20/44] time 0.040 (0.057) data 0.000 (0.015) loss 1.1426 (0.5471) lr 2.2989e-04 eta 0:06:50\n",
      "epoch [837/1000] batch [40/44] time 0.041 (0.049) data 0.000 (0.007) loss 0.6309 (0.5614) lr 2.2989e-04 eta 0:05:49\n",
      "Evaluate on the *val* set\n"
     ]
    },
    {
     "name": "stderr",
     "output_type": "stream",
     "text": [
      "\r",
      "  0%|          | 0/2 [00:00<?, ?it/s]\r",
      " 50%|█████     | 1/2 [00:00<00:00,  3.25it/s]\r",
      "100%|██████████| 2/2 [00:00<00:00,  5.17it/s]\n"
     ]
    },
    {
     "name": "stdout",
     "output_type": "stream",
     "text": [
      "=> result\n",
      "* total: 106\n",
      "* correct: 50\n",
      "* accuracy: 47.2%\n",
      "* error: 52.8%\n",
      "* macro_f1: 32.4%\n",
      "epoch [838/1000] batch [20/44] time 0.042 (0.055) data 0.000 (0.014) loss 1.0732 (0.5597) lr 2.2718e-04 eta 0:06:30\n",
      "epoch [838/1000] batch [40/44] time 0.039 (0.047) data 0.000 (0.007) loss 0.4460 (0.5531) lr 2.2718e-04 eta 0:05:36\n",
      "Evaluate on the *val* set\n"
     ]
    },
    {
     "name": "stderr",
     "output_type": "stream",
     "text": [
      "\r",
      "  0%|          | 0/2 [00:00<?, ?it/s]\r",
      " 50%|█████     | 1/2 [00:00<00:00,  3.28it/s]\r",
      "100%|██████████| 2/2 [00:00<00:00,  5.04it/s]\n"
     ]
    },
    {
     "name": "stdout",
     "output_type": "stream",
     "text": [
      "=> result\n",
      "* total: 106\n",
      "* correct: 49\n",
      "* accuracy: 46.2%\n",
      "* error: 53.8%\n",
      "* macro_f1: 29.6%\n",
      "epoch [839/1000] batch [20/44] time 0.043 (0.056) data 0.000 (0.017) loss 0.4260 (0.5732) lr 2.2448e-04 eta 0:06:39\n",
      "epoch [839/1000] batch [40/44] time 0.041 (0.048) data 0.000 (0.008) loss 0.2419 (0.5411) lr 2.2448e-04 eta 0:05:43\n",
      "Evaluate on the *val* set\n"
     ]
    },
    {
     "name": "stderr",
     "output_type": "stream",
     "text": [
      "\r",
      "  0%|          | 0/2 [00:00<?, ?it/s]\r",
      " 50%|█████     | 1/2 [00:00<00:00,  3.24it/s]\r",
      "100%|██████████| 2/2 [00:00<00:00,  5.17it/s]\n"
     ]
    },
    {
     "name": "stdout",
     "output_type": "stream",
     "text": [
      "=> result\n",
      "* total: 106\n",
      "* correct: 47\n",
      "* accuracy: 44.3%\n",
      "* error: 55.7%\n",
      "* macro_f1: 28.5%\n",
      "epoch [840/1000] batch [20/44] time 0.043 (0.056) data 0.000 (0.015) loss 0.4705 (0.5049) lr 2.2179e-04 eta 0:06:33\n",
      "epoch [840/1000] batch [40/44] time 0.041 (0.048) data 0.000 (0.007) loss 0.7510 (0.5326) lr 2.2179e-04 eta 0:05:34\n",
      "Evaluate on the *val* set\n"
     ]
    },
    {
     "name": "stderr",
     "output_type": "stream",
     "text": [
      "\r",
      "  0%|          | 0/2 [00:00<?, ?it/s]\r",
      " 50%|█████     | 1/2 [00:00<00:00,  3.22it/s]\r",
      "100%|██████████| 2/2 [00:00<00:00,  5.20it/s]\n"
     ]
    },
    {
     "name": "stdout",
     "output_type": "stream",
     "text": [
      "=> result\n",
      "* total: 106\n",
      "* correct: 50\n",
      "* accuracy: 47.2%\n",
      "* error: 52.8%\n",
      "* macro_f1: 32.3%\n",
      "epoch [841/1000] batch [20/44] time 0.045 (0.056) data 0.000 (0.014) loss 0.8335 (0.6514) lr 2.1912e-04 eta 0:06:32\n",
      "epoch [841/1000] batch [40/44] time 0.040 (0.048) data 0.000 (0.007) loss 0.7812 (0.5479) lr 2.1912e-04 eta 0:05:37\n",
      "Evaluate on the *val* set\n"
     ]
    },
    {
     "name": "stderr",
     "output_type": "stream",
     "text": [
      "\r",
      "  0%|          | 0/2 [00:00<?, ?it/s]\r",
      " 50%|█████     | 1/2 [00:00<00:00,  3.34it/s]\r",
      "100%|██████████| 2/2 [00:00<00:00,  5.34it/s]\n"
     ]
    },
    {
     "name": "stdout",
     "output_type": "stream",
     "text": [
      "=> result\n",
      "* total: 106\n",
      "* correct: 48\n",
      "* accuracy: 45.3%\n",
      "* error: 54.7%\n",
      "* macro_f1: 28.8%\n",
      "epoch [842/1000] batch [20/44] time 0.038 (0.058) data 0.000 (0.015) loss 0.4172 (0.5447) lr 2.1646e-04 eta 0:06:44\n",
      "epoch [842/1000] batch [40/44] time 0.035 (0.049) data 0.000 (0.007) loss 0.4624 (0.5378) lr 2.1646e-04 eta 0:05:40\n",
      "Evaluate on the *val* set\n"
     ]
    },
    {
     "name": "stderr",
     "output_type": "stream",
     "text": [
      "\r",
      "  0%|          | 0/2 [00:00<?, ?it/s]\r",
      " 50%|█████     | 1/2 [00:00<00:00,  3.38it/s]\r",
      "100%|██████████| 2/2 [00:00<00:00,  5.39it/s]\n"
     ]
    },
    {
     "name": "stdout",
     "output_type": "stream",
     "text": [
      "=> result\n",
      "* total: 106\n",
      "* correct: 48\n",
      "* accuracy: 45.3%\n",
      "* error: 54.7%\n",
      "* macro_f1: 28.9%\n",
      "epoch [843/1000] batch [20/44] time 0.039 (0.055) data 0.000 (0.014) loss 0.1719 (0.5684) lr 2.1382e-04 eta 0:06:24\n",
      "epoch [843/1000] batch [40/44] time 0.040 (0.047) data 0.000 (0.007) loss 0.2236 (0.5296) lr 2.1382e-04 eta 0:05:27\n",
      "Evaluate on the *val* set\n"
     ]
    },
    {
     "name": "stderr",
     "output_type": "stream",
     "text": [
      "\r",
      "  0%|          | 0/2 [00:00<?, ?it/s]\r",
      " 50%|█████     | 1/2 [00:00<00:00,  3.21it/s]\r",
      "100%|██████████| 2/2 [00:00<00:00,  5.03it/s]\n"
     ]
    },
    {
     "name": "stdout",
     "output_type": "stream",
     "text": [
      "=> result\n",
      "* total: 106\n",
      "* correct: 49\n",
      "* accuracy: 46.2%\n",
      "* error: 53.8%\n",
      "* macro_f1: 29.7%\n",
      "epoch [844/1000] batch [20/44] time 0.042 (0.055) data 0.000 (0.014) loss 1.4102 (0.5485) lr 2.1120e-04 eta 0:06:20\n",
      "epoch [844/1000] batch [40/44] time 0.042 (0.047) data 0.000 (0.007) loss 0.5381 (0.5578) lr 2.1120e-04 eta 0:05:25\n",
      "Evaluate on the *val* set\n"
     ]
    },
    {
     "name": "stderr",
     "output_type": "stream",
     "text": [
      "\r",
      "  0%|          | 0/2 [00:00<?, ?it/s]\r",
      " 50%|█████     | 1/2 [00:00<00:00,  3.19it/s]\r",
      "100%|██████████| 2/2 [00:00<00:00,  5.18it/s]\n"
     ]
    },
    {
     "name": "stdout",
     "output_type": "stream",
     "text": [
      "=> result\n",
      "* total: 106\n",
      "* correct: 50\n",
      "* accuracy: 47.2%\n",
      "* error: 52.8%\n",
      "* macro_f1: 32.3%\n",
      "epoch [845/1000] batch [20/44] time 0.042 (0.055) data 0.000 (0.014) loss 0.3523 (0.5548) lr 2.0859e-04 eta 0:06:16\n",
      "epoch [845/1000] batch [40/44] time 0.037 (0.046) data 0.000 (0.007) loss 1.0576 (0.5644) lr 2.0859e-04 eta 0:05:11\n",
      "Evaluate on the *val* set\n"
     ]
    },
    {
     "name": "stderr",
     "output_type": "stream",
     "text": [
      "\r",
      "  0%|          | 0/2 [00:00<?, ?it/s]\r",
      " 50%|█████     | 1/2 [00:00<00:00,  3.33it/s]\r",
      "100%|██████████| 2/2 [00:00<00:00,  5.20it/s]\n"
     ]
    },
    {
     "name": "stdout",
     "output_type": "stream",
     "text": [
      "=> result\n",
      "* total: 106\n",
      "* correct: 50\n",
      "* accuracy: 47.2%\n",
      "* error: 52.8%\n",
      "* macro_f1: 32.3%\n",
      "epoch [846/1000] batch [20/44] time 0.037 (0.058) data 0.000 (0.015) loss 0.6055 (0.4791) lr 2.0599e-04 eta 0:06:31\n",
      "epoch [846/1000] batch [40/44] time 0.041 (0.049) data 0.000 (0.008) loss 0.1320 (0.5470) lr 2.0599e-04 eta 0:05:31\n",
      "Evaluate on the *val* set\n"
     ]
    },
    {
     "name": "stderr",
     "output_type": "stream",
     "text": [
      "\r",
      "  0%|          | 0/2 [00:00<?, ?it/s]\r",
      " 50%|█████     | 1/2 [00:00<00:00,  3.28it/s]\r",
      "100%|██████████| 2/2 [00:00<00:00,  5.00it/s]\n"
     ]
    },
    {
     "name": "stdout",
     "output_type": "stream",
     "text": [
      "=> result\n",
      "* total: 106\n",
      "* correct: 49\n",
      "* accuracy: 46.2%\n",
      "* error: 53.8%\n",
      "* macro_f1: 31.7%\n",
      "epoch [847/1000] batch [20/44] time 0.045 (0.055) data 0.000 (0.014) loss 0.7046 (0.5337) lr 2.0341e-04 eta 0:06:13\n",
      "epoch [847/1000] batch [40/44] time 0.039 (0.048) data 0.000 (0.007) loss 0.4658 (0.5271) lr 2.0341e-04 eta 0:05:22\n",
      "Evaluate on the *val* set\n"
     ]
    },
    {
     "name": "stderr",
     "output_type": "stream",
     "text": [
      "\r",
      "  0%|          | 0/2 [00:00<?, ?it/s]\r",
      " 50%|█████     | 1/2 [00:00<00:00,  3.15it/s]\r",
      "100%|██████████| 2/2 [00:00<00:00,  4.84it/s]\n"
     ]
    },
    {
     "name": "stdout",
     "output_type": "stream",
     "text": [
      "=> result\n",
      "* total: 106\n",
      "* correct: 50\n",
      "* accuracy: 47.2%\n",
      "* error: 52.8%\n",
      "* macro_f1: 32.3%\n",
      "epoch [848/1000] batch [20/44] time 0.045 (0.057) data 0.000 (0.016) loss 0.4453 (0.5150) lr 2.0085e-04 eta 0:06:24\n",
      "epoch [848/1000] batch [40/44] time 0.042 (0.049) data 0.000 (0.008) loss 0.6274 (0.5538) lr 2.0085e-04 eta 0:05:25\n",
      "Evaluate on the *val* set\n"
     ]
    },
    {
     "name": "stderr",
     "output_type": "stream",
     "text": [
      "\r",
      "  0%|          | 0/2 [00:00<?, ?it/s]\r",
      " 50%|█████     | 1/2 [00:00<00:00,  3.18it/s]\r",
      "100%|██████████| 2/2 [00:00<00:00,  4.95it/s]\n"
     ]
    },
    {
     "name": "stdout",
     "output_type": "stream",
     "text": [
      "=> result\n",
      "* total: 106\n",
      "* correct: 47\n",
      "* accuracy: 44.3%\n",
      "* error: 55.7%\n",
      "* macro_f1: 27.6%\n",
      "epoch [849/1000] batch [20/44] time 0.043 (0.056) data 0.000 (0.015) loss 0.1241 (0.4939) lr 1.9830e-04 eta 0:06:14\n",
      "epoch [849/1000] batch [40/44] time 0.042 (0.048) data 0.000 (0.008) loss 0.8857 (0.5510) lr 1.9830e-04 eta 0:05:21\n",
      "Evaluate on the *val* set\n"
     ]
    },
    {
     "name": "stderr",
     "output_type": "stream",
     "text": [
      "\r",
      "  0%|          | 0/2 [00:00<?, ?it/s]\r",
      " 50%|█████     | 1/2 [00:00<00:00,  3.24it/s]\r",
      "100%|██████████| 2/2 [00:00<00:00,  5.17it/s]\n"
     ]
    },
    {
     "name": "stdout",
     "output_type": "stream",
     "text": [
      "=> result\n",
      "* total: 106\n",
      "* correct: 48\n",
      "* accuracy: 45.3%\n",
      "* error: 54.7%\n",
      "* macro_f1: 29.0%\n",
      "epoch [850/1000] batch [20/44] time 0.041 (0.053) data 0.000 (0.015) loss 0.4167 (0.4711) lr 1.9576e-04 eta 0:05:54\n",
      "epoch [850/1000] batch [40/44] time 0.035 (0.046) data 0.000 (0.008) loss 0.2988 (0.5611) lr 1.9576e-04 eta 0:05:05\n",
      "Evaluate on the *val* set\n"
     ]
    },
    {
     "name": "stderr",
     "output_type": "stream",
     "text": [
      "\r",
      "  0%|          | 0/2 [00:00<?, ?it/s]\r",
      " 50%|█████     | 1/2 [00:00<00:00,  3.29it/s]\r",
      "100%|██████████| 2/2 [00:00<00:00,  5.20it/s]\n"
     ]
    },
    {
     "name": "stdout",
     "output_type": "stream",
     "text": [
      "=> result\n",
      "* total: 106\n",
      "* correct: 50\n",
      "* accuracy: 47.2%\n",
      "* error: 52.8%\n",
      "* macro_f1: 32.3%\n",
      "epoch [851/1000] batch [20/44] time 0.036 (0.058) data 0.000 (0.016) loss 0.9004 (0.5477) lr 1.9324e-04 eta 0:06:23\n",
      "epoch [851/1000] batch [40/44] time 0.040 (0.049) data 0.000 (0.008) loss 0.5586 (0.5338) lr 1.9324e-04 eta 0:05:22\n",
      "Evaluate on the *val* set\n"
     ]
    },
    {
     "name": "stderr",
     "output_type": "stream",
     "text": [
      "\r",
      "  0%|          | 0/2 [00:00<?, ?it/s]\r",
      " 50%|█████     | 1/2 [00:00<00:00,  3.22it/s]\r",
      "100%|██████████| 2/2 [00:00<00:00,  5.15it/s]\n"
     ]
    },
    {
     "name": "stdout",
     "output_type": "stream",
     "text": [
      "=> result\n",
      "* total: 106\n",
      "* correct: 50\n",
      "* accuracy: 47.2%\n",
      "* error: 52.8%\n",
      "* macro_f1: 32.3%\n",
      "epoch [852/1000] batch [20/44] time 0.043 (0.055) data 0.000 (0.015) loss 0.4976 (0.5944) lr 1.9074e-04 eta 0:05:58\n",
      "epoch [852/1000] batch [40/44] time 0.038 (0.047) data 0.000 (0.007) loss 1.1807 (0.5461) lr 1.9074e-04 eta 0:05:06\n",
      "Evaluate on the *val* set\n"
     ]
    },
    {
     "name": "stderr",
     "output_type": "stream",
     "text": [
      "\r",
      "  0%|          | 0/2 [00:00<?, ?it/s]\r",
      " 50%|█████     | 1/2 [00:00<00:00,  3.23it/s]\r",
      "100%|██████████| 2/2 [00:00<00:00,  5.11it/s]\n"
     ]
    },
    {
     "name": "stdout",
     "output_type": "stream",
     "text": [
      "=> result\n",
      "* total: 106\n",
      "* correct: 50\n",
      "* accuracy: 47.2%\n",
      "* error: 52.8%\n",
      "* macro_f1: 32.3%\n",
      "epoch [853/1000] batch [20/44] time 0.037 (0.055) data 0.000 (0.015) loss 0.2230 (0.4710) lr 1.8825e-04 eta 0:05:54\n",
      "epoch [853/1000] batch [40/44] time 0.030 (0.047) data 0.000 (0.008) loss 0.7524 (0.5453) lr 1.8825e-04 eta 0:05:03\n",
      "Evaluate on the *val* set\n"
     ]
    },
    {
     "name": "stderr",
     "output_type": "stream",
     "text": [
      "\r",
      "  0%|          | 0/2 [00:00<?, ?it/s]\r",
      " 50%|█████     | 1/2 [00:00<00:00,  3.27it/s]\r",
      "100%|██████████| 2/2 [00:00<00:00,  5.34it/s]\n"
     ]
    },
    {
     "name": "stdout",
     "output_type": "stream",
     "text": [
      "=> result\n",
      "* total: 106\n",
      "* correct: 49\n",
      "* accuracy: 46.2%\n",
      "* error: 53.8%\n",
      "* macro_f1: 31.6%\n",
      "epoch [854/1000] batch [20/44] time 0.035 (0.055) data 0.000 (0.014) loss 0.3845 (0.5097) lr 1.8578e-04 eta 0:05:52\n",
      "epoch [854/1000] batch [40/44] time 0.042 (0.047) data 0.000 (0.007) loss 0.3943 (0.5229) lr 1.8578e-04 eta 0:05:02\n",
      "Evaluate on the *val* set\n"
     ]
    },
    {
     "name": "stderr",
     "output_type": "stream",
     "text": [
      "\r",
      "  0%|          | 0/2 [00:00<?, ?it/s]\r",
      " 50%|█████     | 1/2 [00:00<00:00,  3.34it/s]\r",
      "100%|██████████| 2/2 [00:00<00:00,  5.29it/s]\n"
     ]
    },
    {
     "name": "stdout",
     "output_type": "stream",
     "text": [
      "=> result\n",
      "* total: 106\n",
      "* correct: 50\n",
      "* accuracy: 47.2%\n",
      "* error: 52.8%\n",
      "* macro_f1: 32.3%\n",
      "epoch [855/1000] batch [20/44] time 0.040 (0.058) data 0.000 (0.016) loss 0.8071 (0.5864) lr 1.8332e-04 eta 0:06:12\n",
      "epoch [855/1000] batch [40/44] time 0.039 (0.049) data 0.000 (0.008) loss 1.0996 (0.5480) lr 1.8332e-04 eta 0:05:10\n",
      "Evaluate on the *val* set\n"
     ]
    },
    {
     "name": "stderr",
     "output_type": "stream",
     "text": [
      "\r",
      "  0%|          | 0/2 [00:00<?, ?it/s]\r",
      " 50%|█████     | 1/2 [00:00<00:00,  3.22it/s]\r",
      "100%|██████████| 2/2 [00:00<00:00,  5.10it/s]\n"
     ]
    },
    {
     "name": "stdout",
     "output_type": "stream",
     "text": [
      "=> result\n",
      "* total: 106\n",
      "* correct: 50\n",
      "* accuracy: 47.2%\n",
      "* error: 52.8%\n",
      "* macro_f1: 32.3%\n",
      "epoch [856/1000] batch [20/44] time 0.041 (0.056) data 0.000 (0.014) loss 0.4717 (0.5828) lr 1.8088e-04 eta 0:05:55\n",
      "epoch [856/1000] batch [40/44] time 0.042 (0.048) data 0.000 (0.007) loss 0.5708 (0.5502) lr 1.8088e-04 eta 0:05:03\n",
      "Evaluate on the *val* set\n"
     ]
    },
    {
     "name": "stderr",
     "output_type": "stream",
     "text": [
      "\r",
      "  0%|          | 0/2 [00:00<?, ?it/s]\r",
      " 50%|█████     | 1/2 [00:00<00:00,  3.15it/s]\r",
      "100%|██████████| 2/2 [00:00<00:00,  5.03it/s]\n"
     ]
    },
    {
     "name": "stdout",
     "output_type": "stream",
     "text": [
      "=> result\n",
      "* total: 106\n",
      "* correct: 49\n",
      "* accuracy: 46.2%\n",
      "* error: 53.8%\n",
      "* macro_f1: 31.8%\n",
      "epoch [857/1000] batch [20/44] time 0.043 (0.053) data 0.000 (0.015) loss 0.9004 (0.5530) lr 1.7845e-04 eta 0:05:35\n",
      "epoch [857/1000] batch [40/44] time 0.042 (0.047) data 0.000 (0.008) loss 0.3665 (0.5575) lr 1.7845e-04 eta 0:04:53\n",
      "Evaluate on the *val* set\n"
     ]
    },
    {
     "name": "stderr",
     "output_type": "stream",
     "text": [
      "\r",
      "  0%|          | 0/2 [00:00<?, ?it/s]\r",
      " 50%|█████     | 1/2 [00:00<00:00,  3.18it/s]\r",
      "100%|██████████| 2/2 [00:00<00:00,  5.01it/s]\n"
     ]
    },
    {
     "name": "stdout",
     "output_type": "stream",
     "text": [
      "=> result\n",
      "* total: 106\n",
      "* correct: 49\n",
      "* accuracy: 46.2%\n",
      "* error: 53.8%\n",
      "* macro_f1: 31.6%\n",
      "epoch [858/1000] batch [20/44] time 0.037 (0.056) data 0.000 (0.016) loss 0.1204 (0.5748) lr 1.7604e-04 eta 0:05:51\n",
      "epoch [858/1000] batch [40/44] time 0.043 (0.048) data 0.000 (0.008) loss 0.2957 (0.5239) lr 1.7604e-04 eta 0:05:02\n",
      "Evaluate on the *val* set\n"
     ]
    },
    {
     "name": "stderr",
     "output_type": "stream",
     "text": [
      "\r",
      "  0%|          | 0/2 [00:00<?, ?it/s]\r",
      " 50%|█████     | 1/2 [00:00<00:00,  3.15it/s]\r",
      "100%|██████████| 2/2 [00:00<00:00,  4.93it/s]\n"
     ]
    },
    {
     "name": "stdout",
     "output_type": "stream",
     "text": [
      "=> result\n",
      "* total: 106\n",
      "* correct: 50\n",
      "* accuracy: 47.2%\n",
      "* error: 52.8%\n",
      "* macro_f1: 32.3%\n",
      "epoch [859/1000] batch [20/44] time 0.040 (0.055) data 0.000 (0.014) loss 0.2603 (0.5478) lr 1.7365e-04 eta 0:05:42\n",
      "epoch [859/1000] batch [40/44] time 0.041 (0.047) data 0.000 (0.007) loss 0.6162 (0.5503) lr 1.7365e-04 eta 0:04:54\n",
      "Evaluate on the *val* set\n"
     ]
    },
    {
     "name": "stderr",
     "output_type": "stream",
     "text": [
      "\r",
      "  0%|          | 0/2 [00:00<?, ?it/s]\r",
      " 50%|█████     | 1/2 [00:00<00:00,  3.25it/s]\r",
      "100%|██████████| 2/2 [00:00<00:00,  5.11it/s]\n"
     ]
    },
    {
     "name": "stdout",
     "output_type": "stream",
     "text": [
      "=> result\n",
      "* total: 106\n",
      "* correct: 50\n",
      "* accuracy: 47.2%\n",
      "* error: 52.8%\n",
      "* macro_f1: 32.3%\n",
      "epoch [860/1000] batch [20/44] time 0.042 (0.054) data 0.000 (0.015) loss 0.4788 (0.5384) lr 1.7127e-04 eta 0:05:34\n",
      "epoch [860/1000] batch [40/44] time 0.041 (0.048) data 0.000 (0.008) loss 0.8042 (0.5389) lr 1.7127e-04 eta 0:04:54\n",
      "Evaluate on the *val* set\n"
     ]
    },
    {
     "name": "stderr",
     "output_type": "stream",
     "text": [
      "\r",
      "  0%|          | 0/2 [00:00<?, ?it/s]\r",
      " 50%|█████     | 1/2 [00:00<00:00,  3.18it/s]\r",
      "100%|██████████| 2/2 [00:00<00:00,  5.07it/s]\n"
     ]
    },
    {
     "name": "stdout",
     "output_type": "stream",
     "text": [
      "=> result\n",
      "* total: 106\n",
      "* correct: 50\n",
      "* accuracy: 47.2%\n",
      "* error: 52.8%\n",
      "* macro_f1: 32.3%\n",
      "epoch [861/1000] batch [20/44] time 0.043 (0.060) data 0.000 (0.019) loss 1.0742 (0.5336) lr 1.6890e-04 eta 0:06:05\n",
      "epoch [861/1000] batch [40/44] time 0.039 (0.050) data 0.000 (0.010) loss 0.6611 (0.5298) lr 1.6890e-04 eta 0:05:05\n",
      "Evaluate on the *val* set\n"
     ]
    },
    {
     "name": "stderr",
     "output_type": "stream",
     "text": [
      "\r",
      "  0%|          | 0/2 [00:00<?, ?it/s]\r",
      " 50%|█████     | 1/2 [00:00<00:00,  3.16it/s]\r",
      "100%|██████████| 2/2 [00:00<00:00,  4.96it/s]\n"
     ]
    },
    {
     "name": "stdout",
     "output_type": "stream",
     "text": [
      "=> result\n",
      "* total: 106\n",
      "* correct: 50\n",
      "* accuracy: 47.2%\n",
      "* error: 52.8%\n",
      "* macro_f1: 32.3%\n",
      "epoch [862/1000] batch [20/44] time 0.037 (0.056) data 0.000 (0.016) loss 0.5757 (0.5320) lr 1.6655e-04 eta 0:05:39\n",
      "epoch [862/1000] batch [40/44] time 0.042 (0.048) data 0.000 (0.008) loss 0.3706 (0.5156) lr 1.6655e-04 eta 0:04:49\n",
      "Evaluate on the *val* set\n"
     ]
    },
    {
     "name": "stderr",
     "output_type": "stream",
     "text": [
      "\r",
      "  0%|          | 0/2 [00:00<?, ?it/s]\r",
      " 50%|█████     | 1/2 [00:00<00:00,  3.13it/s]\r",
      "100%|██████████| 2/2 [00:00<00:00,  4.92it/s]\n"
     ]
    },
    {
     "name": "stdout",
     "output_type": "stream",
     "text": [
      "=> result\n",
      "* total: 106\n",
      "* correct: 50\n",
      "* accuracy: 47.2%\n",
      "* error: 52.8%\n",
      "* macro_f1: 32.4%\n",
      "epoch [863/1000] batch [20/44] time 0.040 (0.055) data 0.000 (0.015) loss 0.7646 (0.5430) lr 1.6422e-04 eta 0:05:34\n",
      "epoch [863/1000] batch [40/44] time 0.034 (0.047) data 0.000 (0.007) loss 0.4436 (0.5227) lr 1.6422e-04 eta 0:04:46\n",
      "Evaluate on the *val* set\n"
     ]
    },
    {
     "name": "stderr",
     "output_type": "stream",
     "text": [
      "\r",
      "  0%|          | 0/2 [00:00<?, ?it/s]\r",
      " 50%|█████     | 1/2 [00:00<00:00,  3.20it/s]\r",
      "100%|██████████| 2/2 [00:00<00:00,  5.11it/s]\n"
     ]
    },
    {
     "name": "stdout",
     "output_type": "stream",
     "text": [
      "=> result\n",
      "* total: 106\n",
      "* correct: 49\n",
      "* accuracy: 46.2%\n",
      "* error: 53.8%\n",
      "* macro_f1: 29.6%\n",
      "epoch [864/1000] batch [20/44] time 0.042 (0.058) data 0.000 (0.016) loss 0.1565 (0.5555) lr 1.6190e-04 eta 0:05:47\n",
      "epoch [864/1000] batch [40/44] time 0.041 (0.049) data 0.000 (0.008) loss 0.9497 (0.5507) lr 1.6190e-04 eta 0:04:52\n",
      "Evaluate on the *val* set\n"
     ]
    },
    {
     "name": "stderr",
     "output_type": "stream",
     "text": [
      "\r",
      "  0%|          | 0/2 [00:00<?, ?it/s]\r",
      " 50%|█████     | 1/2 [00:00<00:00,  3.23it/s]\r",
      "100%|██████████| 2/2 [00:00<00:00,  5.03it/s]\n"
     ]
    },
    {
     "name": "stdout",
     "output_type": "stream",
     "text": [
      "=> result\n",
      "* total: 106\n",
      "* correct: 49\n",
      "* accuracy: 46.2%\n",
      "* error: 53.8%\n",
      "* macro_f1: 31.6%\n",
      "epoch [865/1000] batch [20/44] time 0.042 (0.056) data 0.000 (0.015) loss 0.0378 (0.5515) lr 1.5960e-04 eta 0:05:35\n",
      "epoch [865/1000] batch [40/44] time 0.041 (0.048) data 0.000 (0.007) loss 0.3208 (0.5504) lr 1.5960e-04 eta 0:04:47\n",
      "Evaluate on the *val* set\n"
     ]
    },
    {
     "name": "stderr",
     "output_type": "stream",
     "text": [
      "\r",
      "  0%|          | 0/2 [00:00<?, ?it/s]\r",
      " 50%|█████     | 1/2 [00:00<00:00,  3.29it/s]\r",
      "100%|██████████| 2/2 [00:00<00:00,  5.21it/s]\n"
     ]
    },
    {
     "name": "stdout",
     "output_type": "stream",
     "text": [
      "=> result\n",
      "* total: 106\n",
      "* correct: 49\n",
      "* accuracy: 46.2%\n",
      "* error: 53.8%\n",
      "* macro_f1: 31.7%\n",
      "epoch [866/1000] batch [20/44] time 0.043 (0.051) data 0.000 (0.014) loss 0.2012 (0.5380) lr 1.5731e-04 eta 0:05:03\n",
      "epoch [866/1000] batch [40/44] time 0.038 (0.046) data 0.000 (0.007) loss 0.1638 (0.5513) lr 1.5731e-04 eta 0:04:30\n",
      "Evaluate on the *val* set\n"
     ]
    },
    {
     "name": "stderr",
     "output_type": "stream",
     "text": [
      "\r",
      "  0%|          | 0/2 [00:00<?, ?it/s]\r",
      " 50%|█████     | 1/2 [00:00<00:00,  3.30it/s]\r",
      "100%|██████████| 2/2 [00:00<00:00,  5.28it/s]\n"
     ]
    },
    {
     "name": "stdout",
     "output_type": "stream",
     "text": [
      "=> result\n",
      "* total: 106\n",
      "* correct: 49\n",
      "* accuracy: 46.2%\n",
      "* error: 53.8%\n",
      "* macro_f1: 29.5%\n",
      "epoch [867/1000] batch [20/44] time 0.042 (0.055) data 0.000 (0.014) loss 0.2649 (0.5446) lr 1.5504e-04 eta 0:05:24\n",
      "epoch [867/1000] batch [40/44] time 0.038 (0.047) data 0.000 (0.007) loss 0.1967 (0.5216) lr 1.5504e-04 eta 0:04:37\n",
      "Evaluate on the *val* set\n"
     ]
    },
    {
     "name": "stderr",
     "output_type": "stream",
     "text": [
      "\r",
      "  0%|          | 0/2 [00:00<?, ?it/s]\r",
      " 50%|█████     | 1/2 [00:00<00:00,  3.22it/s]\r",
      "100%|██████████| 2/2 [00:00<00:00,  5.18it/s]\n"
     ]
    },
    {
     "name": "stdout",
     "output_type": "stream",
     "text": [
      "=> result\n",
      "* total: 106\n",
      "* correct: 50\n",
      "* accuracy: 47.2%\n",
      "* error: 52.8%\n",
      "* macro_f1: 32.3%\n",
      "epoch [868/1000] batch [20/44] time 0.037 (0.055) data 0.000 (0.015) loss 0.5474 (0.5017) lr 1.5279e-04 eta 0:05:21\n",
      "epoch [868/1000] batch [40/44] time 0.041 (0.047) data 0.000 (0.007) loss 0.5942 (0.5314) lr 1.5279e-04 eta 0:04:33\n",
      "Evaluate on the *val* set\n"
     ]
    },
    {
     "name": "stderr",
     "output_type": "stream",
     "text": [
      "\r",
      "  0%|          | 0/2 [00:00<?, ?it/s]\r",
      " 50%|█████     | 1/2 [00:00<00:00,  3.24it/s]\r",
      "100%|██████████| 2/2 [00:00<00:00,  5.25it/s]\n"
     ]
    },
    {
     "name": "stdout",
     "output_type": "stream",
     "text": [
      "=> result\n",
      "* total: 106\n",
      "* correct: 50\n",
      "* accuracy: 47.2%\n",
      "* error: 52.8%\n",
      "* macro_f1: 32.3%\n",
      "epoch [869/1000] batch [20/44] time 0.038 (0.056) data 0.000 (0.015) loss 0.3066 (0.4819) lr 1.5055e-04 eta 0:05:23\n",
      "epoch [869/1000] batch [40/44] time 0.040 (0.048) data 0.000 (0.007) loss 1.0430 (0.5383) lr 1.5055e-04 eta 0:04:36\n",
      "Evaluate on the *val* set\n"
     ]
    },
    {
     "name": "stderr",
     "output_type": "stream",
     "text": [
      "\r",
      "  0%|          | 0/2 [00:00<?, ?it/s]\r",
      " 50%|█████     | 1/2 [00:00<00:00,  3.14it/s]\r",
      "100%|██████████| 2/2 [00:00<00:00,  4.94it/s]\n"
     ]
    },
    {
     "name": "stdout",
     "output_type": "stream",
     "text": [
      "=> result\n",
      "* total: 106\n",
      "* correct: 50\n",
      "* accuracy: 47.2%\n",
      "* error: 52.8%\n",
      "* macro_f1: 32.3%\n",
      "epoch [870/1000] batch [20/44] time 0.040 (0.055) data 0.000 (0.015) loss 0.1362 (0.5017) lr 1.4833e-04 eta 0:05:16\n",
      "epoch [870/1000] batch [40/44] time 0.038 (0.047) data 0.000 (0.007) loss 0.1698 (0.5236) lr 1.4833e-04 eta 0:04:31\n",
      "Evaluate on the *val* set\n"
     ]
    },
    {
     "name": "stderr",
     "output_type": "stream",
     "text": [
      "\r",
      "  0%|          | 0/2 [00:00<?, ?it/s]\r",
      " 50%|█████     | 1/2 [00:00<00:00,  3.26it/s]\r",
      "100%|██████████| 2/2 [00:00<00:00,  5.19it/s]\n"
     ]
    },
    {
     "name": "stdout",
     "output_type": "stream",
     "text": [
      "=> result\n",
      "* total: 106\n",
      "* correct: 47\n",
      "* accuracy: 44.3%\n",
      "* error: 55.7%\n",
      "* macro_f1: 28.6%\n",
      "epoch [871/1000] batch [20/44] time 0.041 (0.056) data 0.000 (0.015) loss 0.6235 (0.5518) lr 1.4612e-04 eta 0:05:21\n",
      "epoch [871/1000] batch [40/44] time 0.035 (0.048) data 0.000 (0.008) loss 0.7852 (0.5549) lr 1.4612e-04 eta 0:04:33\n",
      "Evaluate on the *val* set\n"
     ]
    },
    {
     "name": "stderr",
     "output_type": "stream",
     "text": [
      "\r",
      "  0%|          | 0/2 [00:00<?, ?it/s]\r",
      " 50%|█████     | 1/2 [00:00<00:00,  3.23it/s]\r",
      "100%|██████████| 2/2 [00:00<00:00,  5.14it/s]\n"
     ]
    },
    {
     "name": "stdout",
     "output_type": "stream",
     "text": [
      "=> result\n",
      "* total: 106\n",
      "* correct: 49\n",
      "* accuracy: 46.2%\n",
      "* error: 53.8%\n",
      "* macro_f1: 31.7%\n",
      "epoch [872/1000] batch [20/44] time 0.044 (0.059) data 0.000 (0.017) loss 0.3916 (0.5367) lr 1.4393e-04 eta 0:05:35\n",
      "epoch [872/1000] batch [40/44] time 0.040 (0.050) data 0.000 (0.009) loss 0.2773 (0.5464) lr 1.4393e-04 eta 0:04:40\n",
      "Evaluate on the *val* set\n"
     ]
    },
    {
     "name": "stderr",
     "output_type": "stream",
     "text": [
      "\r",
      "  0%|          | 0/2 [00:00<?, ?it/s]\r",
      " 50%|█████     | 1/2 [00:00<00:00,  3.27it/s]\r",
      "100%|██████████| 2/2 [00:00<00:00,  5.10it/s]\n"
     ]
    },
    {
     "name": "stdout",
     "output_type": "stream",
     "text": [
      "=> result\n",
      "* total: 106\n",
      "* correct: 49\n",
      "* accuracy: 46.2%\n",
      "* error: 53.8%\n",
      "* macro_f1: 31.8%\n",
      "epoch [873/1000] batch [20/44] time 0.038 (0.055) data 0.000 (0.014) loss 0.6846 (0.5512) lr 1.4175e-04 eta 0:05:06\n",
      "epoch [873/1000] batch [40/44] time 0.040 (0.047) data 0.000 (0.007) loss 0.7485 (0.5353) lr 1.4175e-04 eta 0:04:25\n",
      "Evaluate on the *val* set\n"
     ]
    },
    {
     "name": "stderr",
     "output_type": "stream",
     "text": [
      "\r",
      "  0%|          | 0/2 [00:00<?, ?it/s]\r",
      " 50%|█████     | 1/2 [00:00<00:00,  3.34it/s]\r",
      "100%|██████████| 2/2 [00:00<00:00,  5.40it/s]\n"
     ]
    },
    {
     "name": "stdout",
     "output_type": "stream",
     "text": [
      "=> result\n",
      "* total: 106\n",
      "* correct: 50\n",
      "* accuracy: 47.2%\n",
      "* error: 52.8%\n",
      "* macro_f1: 32.3%\n",
      "epoch [874/1000] batch [20/44] time 0.038 (0.055) data 0.000 (0.014) loss 0.2296 (0.5518) lr 1.3959e-04 eta 0:05:07\n",
      "epoch [874/1000] batch [40/44] time 0.040 (0.048) data 0.000 (0.007) loss 0.2786 (0.5523) lr 1.3959e-04 eta 0:04:24\n",
      "Evaluate on the *val* set\n"
     ]
    },
    {
     "name": "stderr",
     "output_type": "stream",
     "text": [
      "\r",
      "  0%|          | 0/2 [00:00<?, ?it/s]\r",
      " 50%|█████     | 1/2 [00:00<00:00,  3.32it/s]\r",
      "100%|██████████| 2/2 [00:00<00:00,  5.24it/s]\n"
     ]
    },
    {
     "name": "stdout",
     "output_type": "stream",
     "text": [
      "=> result\n",
      "* total: 106\n",
      "* correct: 49\n",
      "* accuracy: 46.2%\n",
      "* error: 53.8%\n",
      "* macro_f1: 29.5%\n",
      "epoch [875/1000] batch [20/44] time 0.040 (0.054) data 0.000 (0.015) loss 0.3467 (0.4990) lr 1.3745e-04 eta 0:04:56\n",
      "epoch [875/1000] batch [40/44] time 0.038 (0.047) data 0.000 (0.007) loss 0.4192 (0.5398) lr 1.3745e-04 eta 0:04:17\n",
      "Evaluate on the *val* set\n"
     ]
    },
    {
     "name": "stderr",
     "output_type": "stream",
     "text": [
      "\r",
      "  0%|          | 0/2 [00:00<?, ?it/s]\r",
      " 50%|█████     | 1/2 [00:00<00:00,  3.34it/s]\r",
      "100%|██████████| 2/2 [00:00<00:00,  5.30it/s]\n"
     ]
    },
    {
     "name": "stdout",
     "output_type": "stream",
     "text": [
      "=> result\n",
      "* total: 106\n",
      "* correct: 50\n",
      "* accuracy: 47.2%\n",
      "* error: 52.8%\n",
      "* macro_f1: 32.3%\n",
      "epoch [876/1000] batch [20/44] time 0.044 (0.058) data 0.000 (0.017) loss 0.1660 (0.5421) lr 1.3532e-04 eta 0:05:20\n",
      "epoch [876/1000] batch [40/44] time 0.041 (0.050) data 0.000 (0.009) loss 0.4893 (0.5199) lr 1.3532e-04 eta 0:04:30\n",
      "Evaluate on the *val* set\n"
     ]
    },
    {
     "name": "stderr",
     "output_type": "stream",
     "text": [
      "\r",
      "  0%|          | 0/2 [00:00<?, ?it/s]\r",
      " 50%|█████     | 1/2 [00:00<00:00,  3.20it/s]\r",
      "100%|██████████| 2/2 [00:00<00:00,  5.17it/s]\n"
     ]
    },
    {
     "name": "stdout",
     "output_type": "stream",
     "text": [
      "=> result\n",
      "* total: 106\n",
      "* correct: 50\n",
      "* accuracy: 47.2%\n",
      "* error: 52.8%\n",
      "* macro_f1: 32.3%\n",
      "epoch [877/1000] batch [20/44] time 0.043 (0.055) data 0.000 (0.014) loss 0.3796 (0.5744) lr 1.3321e-04 eta 0:05:01\n",
      "epoch [877/1000] batch [40/44] time 0.037 (0.048) data 0.000 (0.007) loss 0.4204 (0.5513) lr 1.3321e-04 eta 0:04:18\n",
      "Evaluate on the *val* set\n"
     ]
    },
    {
     "name": "stderr",
     "output_type": "stream",
     "text": [
      "\r",
      "  0%|          | 0/2 [00:00<?, ?it/s]\r",
      " 50%|█████     | 1/2 [00:00<00:00,  3.27it/s]\r",
      "100%|██████████| 2/2 [00:00<00:00,  5.16it/s]\n"
     ]
    },
    {
     "name": "stdout",
     "output_type": "stream",
     "text": [
      "=> result\n",
      "* total: 106\n",
      "* correct: 48\n",
      "* accuracy: 45.3%\n",
      "* error: 54.7%\n",
      "* macro_f1: 28.9%\n",
      "epoch [878/1000] batch [20/44] time 0.037 (0.056) data 0.000 (0.014) loss 0.5137 (0.5746) lr 1.3111e-04 eta 0:05:01\n",
      "epoch [878/1000] batch [40/44] time 0.039 (0.049) data 0.000 (0.007) loss 0.8828 (0.5369) lr 1.3111e-04 eta 0:04:23\n",
      "Evaluate on the *val* set\n"
     ]
    },
    {
     "name": "stderr",
     "output_type": "stream",
     "text": [
      "\r",
      "  0%|          | 0/2 [00:00<?, ?it/s]\r",
      " 50%|█████     | 1/2 [00:00<00:00,  3.24it/s]\r",
      "100%|██████████| 2/2 [00:00<00:00,  5.13it/s]\n"
     ]
    },
    {
     "name": "stdout",
     "output_type": "stream",
     "text": [
      "=> result\n",
      "* total: 106\n",
      "* correct: 50\n",
      "* accuracy: 47.2%\n",
      "* error: 52.8%\n",
      "* macro_f1: 32.3%\n",
      "epoch [879/1000] batch [20/44] time 0.039 (0.054) data 0.000 (0.015) loss 0.4729 (0.4919) lr 1.2903e-04 eta 0:04:48\n",
      "epoch [879/1000] batch [40/44] time 0.041 (0.047) data 0.000 (0.008) loss 0.7231 (0.5354) lr 1.2903e-04 eta 0:04:11\n",
      "Evaluate on the *val* set\n"
     ]
    },
    {
     "name": "stderr",
     "output_type": "stream",
     "text": [
      "\r",
      "  0%|          | 0/2 [00:00<?, ?it/s]\r",
      " 50%|█████     | 1/2 [00:00<00:00,  3.32it/s]\r",
      "100%|██████████| 2/2 [00:00<00:00,  5.17it/s]\n"
     ]
    },
    {
     "name": "stdout",
     "output_type": "stream",
     "text": [
      "=> result\n",
      "* total: 106\n",
      "* correct: 48\n",
      "* accuracy: 45.3%\n",
      "* error: 54.7%\n",
      "* macro_f1: 29.0%\n",
      "epoch [880/1000] batch [20/44] time 0.044 (0.056) data 0.000 (0.014) loss 0.6030 (0.5949) lr 1.2697e-04 eta 0:04:58\n",
      "epoch [880/1000] batch [40/44] time 0.039 (0.049) data 0.000 (0.007) loss 0.5093 (0.5287) lr 1.2697e-04 eta 0:04:16\n",
      "Evaluate on the *val* set\n"
     ]
    },
    {
     "name": "stderr",
     "output_type": "stream",
     "text": [
      "\r",
      "  0%|          | 0/2 [00:00<?, ?it/s]\r",
      " 50%|█████     | 1/2 [00:00<00:00,  3.25it/s]\r",
      "100%|██████████| 2/2 [00:00<00:00,  5.06it/s]\n"
     ]
    },
    {
     "name": "stdout",
     "output_type": "stream",
     "text": [
      "=> result\n",
      "* total: 106\n",
      "* correct: 49\n",
      "* accuracy: 46.2%\n",
      "* error: 53.8%\n",
      "* macro_f1: 31.8%\n",
      "epoch [881/1000] batch [20/44] time 0.038 (0.054) data 0.000 (0.015) loss 0.8853 (0.5849) lr 1.2492e-04 eta 0:04:44\n",
      "epoch [881/1000] batch [40/44] time 0.042 (0.047) data 0.000 (0.007) loss 1.2246 (0.5327) lr 1.2492e-04 eta 0:04:04\n",
      "Evaluate on the *val* set\n"
     ]
    },
    {
     "name": "stderr",
     "output_type": "stream",
     "text": [
      "\r",
      "  0%|          | 0/2 [00:00<?, ?it/s]\r",
      " 50%|█████     | 1/2 [00:00<00:00,  3.22it/s]\r",
      "100%|██████████| 2/2 [00:00<00:00,  5.09it/s]\n"
     ]
    },
    {
     "name": "stdout",
     "output_type": "stream",
     "text": [
      "=> result\n",
      "* total: 106\n",
      "* correct: 49\n",
      "* accuracy: 46.2%\n",
      "* error: 53.8%\n",
      "* macro_f1: 31.6%\n",
      "epoch [882/1000] batch [20/44] time 0.044 (0.054) data 0.000 (0.014) loss 0.8169 (0.6068) lr 1.2289e-04 eta 0:04:40\n",
      "epoch [882/1000] batch [40/44] time 0.040 (0.046) data 0.000 (0.007) loss 0.4778 (0.5368) lr 1.2289e-04 eta 0:04:01\n",
      "Evaluate on the *val* set\n"
     ]
    },
    {
     "name": "stderr",
     "output_type": "stream",
     "text": [
      "\r",
      "  0%|          | 0/2 [00:00<?, ?it/s]\r",
      " 50%|█████     | 1/2 [00:00<00:00,  3.22it/s]\r",
      "100%|██████████| 2/2 [00:00<00:00,  5.03it/s]\n"
     ]
    },
    {
     "name": "stdout",
     "output_type": "stream",
     "text": [
      "=> result\n",
      "* total: 106\n",
      "* correct: 49\n",
      "* accuracy: 46.2%\n",
      "* error: 53.8%\n",
      "* macro_f1: 31.7%\n",
      "epoch [883/1000] batch [20/44] time 0.039 (0.054) data 0.000 (0.015) loss 0.3159 (0.5797) lr 1.2088e-04 eta 0:04:37\n",
      "epoch [883/1000] batch [40/44] time 0.038 (0.046) data 0.000 (0.007) loss 0.6567 (0.5475) lr 1.2088e-04 eta 0:03:58\n",
      "Evaluate on the *val* set\n"
     ]
    },
    {
     "name": "stderr",
     "output_type": "stream",
     "text": [
      "\r",
      "  0%|          | 0/2 [00:00<?, ?it/s]\r",
      " 50%|█████     | 1/2 [00:00<00:00,  3.25it/s]\r",
      "100%|██████████| 2/2 [00:00<00:00,  5.25it/s]\n"
     ]
    },
    {
     "name": "stdout",
     "output_type": "stream",
     "text": [
      "=> result\n",
      "* total: 106\n",
      "* correct: 49\n",
      "* accuracy: 46.2%\n",
      "* error: 53.8%\n",
      "* macro_f1: 31.6%\n",
      "epoch [884/1000] batch [20/44] time 0.044 (0.055) data 0.000 (0.014) loss 0.4832 (0.5116) lr 1.1888e-04 eta 0:04:42\n",
      "epoch [884/1000] batch [40/44] time 0.039 (0.048) data 0.000 (0.007) loss 0.5757 (0.5219) lr 1.1888e-04 eta 0:04:03\n",
      "Evaluate on the *val* set\n"
     ]
    },
    {
     "name": "stderr",
     "output_type": "stream",
     "text": [
      "\r",
      "  0%|          | 0/2 [00:00<?, ?it/s]\r",
      " 50%|█████     | 1/2 [00:00<00:00,  3.28it/s]\r",
      "100%|██████████| 2/2 [00:00<00:00,  5.21it/s]\n"
     ]
    },
    {
     "name": "stdout",
     "output_type": "stream",
     "text": [
      "=> result\n",
      "* total: 106\n",
      "* correct: 50\n",
      "* accuracy: 47.2%\n",
      "* error: 52.8%\n",
      "* macro_f1: 32.3%\n",
      "epoch [885/1000] batch [20/44] time 0.037 (0.055) data 0.000 (0.015) loss 0.9785 (0.5628) lr 1.1689e-04 eta 0:04:40\n",
      "epoch [885/1000] batch [40/44] time 0.042 (0.048) data 0.000 (0.007) loss 0.1726 (0.5345) lr 1.1689e-04 eta 0:04:01\n",
      "Evaluate on the *val* set\n"
     ]
    },
    {
     "name": "stderr",
     "output_type": "stream",
     "text": [
      "\r",
      "  0%|          | 0/2 [00:00<?, ?it/s]\r",
      " 50%|█████     | 1/2 [00:00<00:00,  3.24it/s]\r",
      "100%|██████████| 2/2 [00:00<00:00,  5.04it/s]\n"
     ]
    },
    {
     "name": "stdout",
     "output_type": "stream",
     "text": [
      "=> result\n",
      "* total: 106\n",
      "* correct: 49\n",
      "* accuracy: 46.2%\n",
      "* error: 53.8%\n",
      "* macro_f1: 31.7%\n",
      "epoch [886/1000] batch [20/44] time 0.041 (0.056) data 0.000 (0.015) loss 0.2537 (0.5655) lr 1.1492e-04 eta 0:04:44\n",
      "epoch [886/1000] batch [40/44] time 0.041 (0.048) data 0.000 (0.008) loss 1.0869 (0.5429) lr 1.1492e-04 eta 0:04:00\n",
      "Evaluate on the *val* set\n"
     ]
    },
    {
     "name": "stderr",
     "output_type": "stream",
     "text": [
      "\r",
      "  0%|          | 0/2 [00:00<?, ?it/s]\r",
      " 50%|█████     | 1/2 [00:00<00:00,  3.20it/s]\r",
      "100%|██████████| 2/2 [00:00<00:00,  5.03it/s]\n"
     ]
    },
    {
     "name": "stdout",
     "output_type": "stream",
     "text": [
      "=> result\n",
      "* total: 106\n",
      "* correct: 49\n",
      "* accuracy: 46.2%\n",
      "* error: 53.8%\n",
      "* macro_f1: 31.7%\n",
      "epoch [887/1000] batch [20/44] time 0.037 (0.055) data 0.000 (0.015) loss 0.6274 (0.5397) lr 1.1297e-04 eta 0:04:35\n",
      "epoch [887/1000] batch [40/44] time 0.042 (0.048) data 0.000 (0.008) loss 0.6606 (0.5325) lr 1.1297e-04 eta 0:03:57\n",
      "Evaluate on the *val* set\n"
     ]
    },
    {
     "name": "stderr",
     "output_type": "stream",
     "text": [
      "\r",
      "  0%|          | 0/2 [00:00<?, ?it/s]\r",
      " 50%|█████     | 1/2 [00:00<00:00,  3.17it/s]\r",
      "100%|██████████| 2/2 [00:00<00:00,  5.09it/s]\n"
     ]
    },
    {
     "name": "stdout",
     "output_type": "stream",
     "text": [
      "=> result\n",
      "* total: 106\n",
      "* correct: 49\n",
      "* accuracy: 46.2%\n",
      "* error: 53.8%\n",
      "* macro_f1: 30.7%\n",
      "epoch [888/1000] batch [20/44] time 0.042 (0.055) data 0.000 (0.015) loss 0.5537 (0.5458) lr 1.1104e-04 eta 0:04:32\n",
      "epoch [888/1000] batch [40/44] time 0.040 (0.047) data 0.000 (0.008) loss 0.5161 (0.5251) lr 1.1104e-04 eta 0:03:52\n",
      "Evaluate on the *val* set\n"
     ]
    },
    {
     "name": "stderr",
     "output_type": "stream",
     "text": [
      "\r",
      "  0%|          | 0/2 [00:00<?, ?it/s]\r",
      " 50%|█████     | 1/2 [00:00<00:00,  3.22it/s]\r",
      "100%|██████████| 2/2 [00:00<00:00,  5.06it/s]\n"
     ]
    },
    {
     "name": "stdout",
     "output_type": "stream",
     "text": [
      "=> result\n",
      "* total: 106\n",
      "* correct: 49\n",
      "* accuracy: 46.2%\n",
      "* error: 53.8%\n",
      "* macro_f1: 31.7%\n",
      "epoch [889/1000] batch [20/44] time 0.038 (0.055) data 0.000 (0.014) loss 0.0381 (0.5501) lr 1.0912e-04 eta 0:04:30\n",
      "epoch [889/1000] batch [40/44] time 0.038 (0.048) data 0.000 (0.007) loss 0.3486 (0.5217) lr 1.0912e-04 eta 0:03:52\n",
      "Evaluate on the *val* set\n"
     ]
    },
    {
     "name": "stderr",
     "output_type": "stream",
     "text": [
      "\r",
      "  0%|          | 0/2 [00:00<?, ?it/s]\r",
      " 50%|█████     | 1/2 [00:00<00:00,  3.20it/s]\r",
      "100%|██████████| 2/2 [00:00<00:00,  4.92it/s]\n"
     ]
    },
    {
     "name": "stdout",
     "output_type": "stream",
     "text": [
      "=> result\n",
      "* total: 106\n",
      "* correct: 49\n",
      "* accuracy: 46.2%\n",
      "* error: 53.8%\n",
      "* macro_f1: 30.8%\n",
      "epoch [890/1000] batch [20/44] time 0.041 (0.059) data 0.000 (0.016) loss 0.6504 (0.5886) lr 1.0722e-04 eta 0:04:44\n",
      "epoch [890/1000] batch [40/44] time 0.041 (0.049) data 0.000 (0.008) loss 0.5928 (0.5228) lr 1.0722e-04 eta 0:03:55\n",
      "Evaluate on the *val* set\n"
     ]
    },
    {
     "name": "stderr",
     "output_type": "stream",
     "text": [
      "\r",
      "  0%|          | 0/2 [00:00<?, ?it/s]\r",
      " 50%|█████     | 1/2 [00:00<00:00,  3.24it/s]\r",
      "100%|██████████| 2/2 [00:00<00:00,  4.98it/s]\n"
     ]
    },
    {
     "name": "stdout",
     "output_type": "stream",
     "text": [
      "=> result\n",
      "* total: 106\n",
      "* correct: 50\n",
      "* accuracy: 47.2%\n",
      "* error: 52.8%\n",
      "* macro_f1: 32.3%\n",
      "epoch [891/1000] batch [20/44] time 0.042 (0.056) data 0.000 (0.015) loss 0.4141 (0.5097) lr 1.0533e-04 eta 0:04:28\n",
      "epoch [891/1000] batch [40/44] time 0.037 (0.048) data 0.000 (0.008) loss 0.6011 (0.5145) lr 1.0533e-04 eta 0:03:49\n",
      "Evaluate on the *val* set\n"
     ]
    },
    {
     "name": "stderr",
     "output_type": "stream",
     "text": [
      "\r",
      "  0%|          | 0/2 [00:00<?, ?it/s]\r",
      " 50%|█████     | 1/2 [00:00<00:00,  3.20it/s]\r",
      "100%|██████████| 2/2 [00:00<00:00,  5.02it/s]\n"
     ]
    },
    {
     "name": "stdout",
     "output_type": "stream",
     "text": [
      "=> result\n",
      "* total: 106\n",
      "* correct: 49\n",
      "* accuracy: 46.2%\n",
      "* error: 53.8%\n",
      "* macro_f1: 30.7%\n",
      "epoch [892/1000] batch [20/44] time 0.038 (0.054) data 0.000 (0.014) loss 0.5718 (0.5525) lr 1.0346e-04 eta 0:04:18\n",
      "epoch [892/1000] batch [40/44] time 0.042 (0.047) data 0.000 (0.007) loss 0.0937 (0.5403) lr 1.0346e-04 eta 0:03:45\n",
      "Evaluate on the *val* set\n"
     ]
    },
    {
     "name": "stderr",
     "output_type": "stream",
     "text": [
      "\r",
      "  0%|          | 0/2 [00:00<?, ?it/s]\r",
      " 50%|█████     | 1/2 [00:00<00:00,  3.31it/s]\r",
      "100%|██████████| 2/2 [00:00<00:00,  5.10it/s]\n"
     ]
    },
    {
     "name": "stdout",
     "output_type": "stream",
     "text": [
      "=> result\n",
      "* total: 106\n",
      "* correct: 49\n",
      "* accuracy: 46.2%\n",
      "* error: 53.8%\n",
      "* macro_f1: 31.6%\n",
      "epoch [893/1000] batch [20/44] time 0.044 (0.055) data 0.000 (0.014) loss 0.8218 (0.4649) lr 1.0160e-04 eta 0:04:20\n",
      "epoch [893/1000] batch [40/44] time 0.038 (0.048) data 0.000 (0.007) loss 0.3088 (0.5187) lr 1.0160e-04 eta 0:03:44\n",
      "Evaluate on the *val* set\n"
     ]
    },
    {
     "name": "stderr",
     "output_type": "stream",
     "text": [
      "\r",
      "  0%|          | 0/2 [00:00<?, ?it/s]\r",
      " 50%|█████     | 1/2 [00:00<00:00,  3.26it/s]\r",
      "100%|██████████| 2/2 [00:00<00:00,  5.17it/s]\n"
     ]
    },
    {
     "name": "stdout",
     "output_type": "stream",
     "text": [
      "=> result\n",
      "* total: 106\n",
      "* correct: 50\n",
      "* accuracy: 47.2%\n",
      "* error: 52.8%\n",
      "* macro_f1: 32.3%\n",
      "epoch [894/1000] batch [20/44] time 0.039 (0.055) data 0.000 (0.014) loss 0.4790 (0.5718) lr 9.9767e-05 eta 0:04:18\n",
      "epoch [894/1000] batch [40/44] time 0.037 (0.048) data 0.000 (0.007) loss 0.6729 (0.5317) lr 9.9767e-05 eta 0:03:41\n",
      "Evaluate on the *val* set\n"
     ]
    },
    {
     "name": "stderr",
     "output_type": "stream",
     "text": [
      "\r",
      "  0%|          | 0/2 [00:00<?, ?it/s]\r",
      " 50%|█████     | 1/2 [00:00<00:00,  3.27it/s]\r",
      "100%|██████████| 2/2 [00:00<00:00,  5.28it/s]\n"
     ]
    },
    {
     "name": "stdout",
     "output_type": "stream",
     "text": [
      "=> result\n",
      "* total: 106\n",
      "* correct: 50\n",
      "* accuracy: 47.2%\n",
      "* error: 52.8%\n",
      "* macro_f1: 32.3%\n",
      "epoch [895/1000] batch [20/44] time 0.036 (0.057) data 0.000 (0.016) loss 0.4033 (0.5554) lr 9.7945e-05 eta 0:04:24\n",
      "epoch [895/1000] batch [40/44] time 0.038 (0.048) data 0.000 (0.008) loss 0.3164 (0.5464) lr 9.7945e-05 eta 0:03:43\n",
      "Evaluate on the *val* set\n"
     ]
    },
    {
     "name": "stderr",
     "output_type": "stream",
     "text": [
      "\r",
      "  0%|          | 0/2 [00:00<?, ?it/s]\r",
      " 50%|█████     | 1/2 [00:00<00:00,  3.32it/s]\r",
      "100%|██████████| 2/2 [00:00<00:00,  5.14it/s]\n"
     ]
    },
    {
     "name": "stdout",
     "output_type": "stream",
     "text": [
      "=> result\n",
      "* total: 106\n",
      "* correct: 49\n",
      "* accuracy: 46.2%\n",
      "* error: 53.8%\n",
      "* macro_f1: 31.6%\n",
      "epoch [896/1000] batch [20/44] time 0.042 (0.056) data 0.000 (0.014) loss 0.9873 (0.5411) lr 9.6140e-05 eta 0:04:16\n",
      "epoch [896/1000] batch [40/44] time 0.043 (0.048) data 0.000 (0.007) loss 0.6475 (0.5390) lr 9.6140e-05 eta 0:03:37\n",
      "Evaluate on the *val* set\n"
     ]
    },
    {
     "name": "stderr",
     "output_type": "stream",
     "text": [
      "\r",
      "  0%|          | 0/2 [00:00<?, ?it/s]\r",
      " 50%|█████     | 1/2 [00:00<00:00,  3.29it/s]\r",
      "100%|██████████| 2/2 [00:00<00:00,  5.24it/s]\n"
     ]
    },
    {
     "name": "stdout",
     "output_type": "stream",
     "text": [
      "=> result\n",
      "* total: 106\n",
      "* correct: 50\n",
      "* accuracy: 47.2%\n",
      "* error: 52.8%\n",
      "* macro_f1: 32.3%\n",
      "epoch [897/1000] batch [20/44] time 0.040 (0.057) data 0.000 (0.015) loss 0.2993 (0.5183) lr 9.4351e-05 eta 0:04:18\n",
      "epoch [897/1000] batch [40/44] time 0.037 (0.048) data 0.000 (0.007) loss 0.4221 (0.5572) lr 9.4351e-05 eta 0:03:37\n",
      "Evaluate on the *val* set\n"
     ]
    },
    {
     "name": "stderr",
     "output_type": "stream",
     "text": [
      "\r",
      "  0%|          | 0/2 [00:00<?, ?it/s]\r",
      " 50%|█████     | 1/2 [00:00<00:00,  3.22it/s]\r",
      "100%|██████████| 2/2 [00:00<00:00,  5.14it/s]\n"
     ]
    },
    {
     "name": "stdout",
     "output_type": "stream",
     "text": [
      "=> result\n",
      "* total: 106\n",
      "* correct: 49\n",
      "* accuracy: 46.2%\n",
      "* error: 53.8%\n",
      "* macro_f1: 31.6%\n",
      "epoch [898/1000] batch [20/44] time 0.048 (0.057) data 0.000 (0.016) loss 0.9502 (0.5676) lr 9.2578e-05 eta 0:04:17\n",
      "epoch [898/1000] batch [40/44] time 0.042 (0.049) data 0.000 (0.008) loss 1.0361 (0.5375) lr 9.2578e-05 eta 0:03:40\n",
      "Evaluate on the *val* set\n"
     ]
    },
    {
     "name": "stderr",
     "output_type": "stream",
     "text": [
      "\r",
      "  0%|          | 0/2 [00:00<?, ?it/s]\r",
      " 50%|█████     | 1/2 [00:00<00:00,  3.28it/s]\r",
      "100%|██████████| 2/2 [00:00<00:00,  5.10it/s]\n"
     ]
    },
    {
     "name": "stdout",
     "output_type": "stream",
     "text": [
      "=> result\n",
      "* total: 106\n",
      "* correct: 49\n",
      "* accuracy: 46.2%\n",
      "* error: 53.8%\n",
      "* macro_f1: 31.6%\n",
      "epoch [899/1000] batch [20/44] time 0.044 (0.058) data 0.000 (0.015) loss 0.4268 (0.4648) lr 9.0822e-05 eta 0:04:16\n",
      "epoch [899/1000] batch [40/44] time 0.037 (0.048) data 0.000 (0.008) loss 0.9121 (0.5516) lr 9.0822e-05 eta 0:03:34\n",
      "Evaluate on the *val* set\n"
     ]
    },
    {
     "name": "stderr",
     "output_type": "stream",
     "text": [
      "\r",
      "  0%|          | 0/2 [00:00<?, ?it/s]\r",
      " 50%|█████     | 1/2 [00:00<00:00,  3.32it/s]\r",
      "100%|██████████| 2/2 [00:00<00:00,  5.25it/s]\n"
     ]
    },
    {
     "name": "stdout",
     "output_type": "stream",
     "text": [
      "=> result\n",
      "* total: 106\n",
      "* correct: 50\n",
      "* accuracy: 47.2%\n",
      "* error: 52.8%\n",
      "* macro_f1: 32.3%\n",
      "epoch [900/1000] batch [20/44] time 0.038 (0.056) data 0.000 (0.016) loss 0.1641 (0.4930) lr 8.9082e-05 eta 0:04:08\n",
      "epoch [900/1000] batch [40/44] time 0.041 (0.048) data 0.000 (0.008) loss 0.5088 (0.5411) lr 8.9082e-05 eta 0:03:32\n",
      "Evaluate on the *val* set\n"
     ]
    },
    {
     "name": "stderr",
     "output_type": "stream",
     "text": [
      "\r",
      "  0%|          | 0/2 [00:00<?, ?it/s]\r",
      " 50%|█████     | 1/2 [00:00<00:00,  3.21it/s]\r",
      "100%|██████████| 2/2 [00:00<00:00,  5.05it/s]\n"
     ]
    },
    {
     "name": "stdout",
     "output_type": "stream",
     "text": [
      "=> result\n",
      "* total: 106\n",
      "* correct: 49\n",
      "* accuracy: 46.2%\n",
      "* error: 53.8%\n",
      "* macro_f1: 31.6%\n",
      "epoch [901/1000] batch [20/44] time 0.041 (0.055) data 0.000 (0.015) loss 0.5063 (0.5732) lr 8.7358e-05 eta 0:04:02\n",
      "epoch [901/1000] batch [40/44] time 0.041 (0.047) data 0.000 (0.008) loss 0.2026 (0.5585) lr 8.7358e-05 eta 0:03:26\n",
      "Evaluate on the *val* set\n"
     ]
    },
    {
     "name": "stderr",
     "output_type": "stream",
     "text": [
      "\r",
      "  0%|          | 0/2 [00:00<?, ?it/s]\r",
      " 50%|█████     | 1/2 [00:00<00:00,  3.30it/s]\r",
      "100%|██████████| 2/2 [00:00<00:00,  5.22it/s]\n"
     ]
    },
    {
     "name": "stdout",
     "output_type": "stream",
     "text": [
      "=> result\n",
      "* total: 106\n",
      "* correct: 49\n",
      "* accuracy: 46.2%\n",
      "* error: 53.8%\n",
      "* macro_f1: 31.6%\n",
      "epoch [902/1000] batch [20/44] time 0.044 (0.058) data 0.000 (0.015) loss 0.2971 (0.5725) lr 8.5651e-05 eta 0:04:09\n",
      "epoch [902/1000] batch [40/44] time 0.042 (0.049) data 0.000 (0.008) loss 0.8184 (0.5216) lr 8.5651e-05 eta 0:03:29\n",
      "Evaluate on the *val* set\n"
     ]
    },
    {
     "name": "stderr",
     "output_type": "stream",
     "text": [
      "\r",
      "  0%|          | 0/2 [00:00<?, ?it/s]\r",
      " 50%|█████     | 1/2 [00:00<00:00,  3.30it/s]\r",
      "100%|██████████| 2/2 [00:00<00:00,  5.21it/s]\n"
     ]
    },
    {
     "name": "stdout",
     "output_type": "stream",
     "text": [
      "=> result\n",
      "* total: 106\n",
      "* correct: 50\n",
      "* accuracy: 47.2%\n",
      "* error: 52.8%\n",
      "* macro_f1: 32.3%\n",
      "epoch [903/1000] batch [20/44] time 0.039 (0.057) data 0.000 (0.017) loss 0.8252 (0.5080) lr 8.3960e-05 eta 0:04:06\n",
      "epoch [903/1000] batch [40/44] time 0.041 (0.049) data 0.000 (0.008) loss 0.1356 (0.5230) lr 8.3960e-05 eta 0:03:29\n",
      "Evaluate on the *val* set\n"
     ]
    },
    {
     "name": "stderr",
     "output_type": "stream",
     "text": [
      "\r",
      "  0%|          | 0/2 [00:00<?, ?it/s]\r",
      " 50%|█████     | 1/2 [00:00<00:00,  3.17it/s]\r",
      "100%|██████████| 2/2 [00:00<00:00,  5.06it/s]\n"
     ]
    },
    {
     "name": "stdout",
     "output_type": "stream",
     "text": [
      "=> result\n",
      "* total: 106\n",
      "* correct: 50\n",
      "* accuracy: 47.2%\n",
      "* error: 52.8%\n",
      "* macro_f1: 32.3%\n",
      "epoch [904/1000] batch [20/44] time 0.041 (0.056) data 0.000 (0.014) loss 0.4851 (0.5140) lr 8.2286e-05 eta 0:03:57\n",
      "epoch [904/1000] batch [40/44] time 0.041 (0.048) data 0.000 (0.007) loss 0.3906 (0.5295) lr 8.2286e-05 eta 0:03:24\n",
      "Evaluate on the *val* set\n"
     ]
    },
    {
     "name": "stderr",
     "output_type": "stream",
     "text": [
      "\r",
      "  0%|          | 0/2 [00:00<?, ?it/s]\r",
      " 50%|█████     | 1/2 [00:00<00:00,  3.16it/s]\r",
      "100%|██████████| 2/2 [00:00<00:00,  5.08it/s]\n"
     ]
    },
    {
     "name": "stdout",
     "output_type": "stream",
     "text": [
      "=> result\n",
      "* total: 106\n",
      "* correct: 49\n",
      "* accuracy: 46.2%\n",
      "* error: 53.8%\n",
      "* macro_f1: 31.6%\n",
      "epoch [905/1000] batch [20/44] time 0.039 (0.056) data 0.000 (0.015) loss 0.3486 (0.6071) lr 8.0628e-05 eta 0:03:55\n",
      "epoch [905/1000] batch [40/44] time 0.040 (0.048) data 0.000 (0.007) loss 0.5127 (0.5413) lr 8.0628e-05 eta 0:03:22\n",
      "Evaluate on the *val* set\n"
     ]
    },
    {
     "name": "stderr",
     "output_type": "stream",
     "text": [
      "\r",
      "  0%|          | 0/2 [00:00<?, ?it/s]\r",
      " 50%|█████     | 1/2 [00:00<00:00,  3.16it/s]\r",
      "100%|██████████| 2/2 [00:00<00:00,  5.11it/s]\n"
     ]
    },
    {
     "name": "stdout",
     "output_type": "stream",
     "text": [
      "=> result\n",
      "* total: 106\n",
      "* correct: 49\n",
      "* accuracy: 46.2%\n",
      "* error: 53.8%\n",
      "* macro_f1: 31.6%\n",
      "epoch [906/1000] batch [20/44] time 0.041 (0.058) data 0.000 (0.017) loss 0.4141 (0.5892) lr 7.8987e-05 eta 0:04:02\n",
      "epoch [906/1000] batch [40/44] time 0.041 (0.049) data 0.000 (0.009) loss 0.9517 (0.5565) lr 7.8987e-05 eta 0:03:22\n",
      "Evaluate on the *val* set\n"
     ]
    },
    {
     "name": "stderr",
     "output_type": "stream",
     "text": [
      "\r",
      "  0%|          | 0/2 [00:00<?, ?it/s]\r",
      " 50%|█████     | 1/2 [00:00<00:00,  3.30it/s]\r",
      "100%|██████████| 2/2 [00:00<00:00,  5.24it/s]\n"
     ]
    },
    {
     "name": "stdout",
     "output_type": "stream",
     "text": [
      "=> result\n",
      "* total: 106\n",
      "* correct: 49\n",
      "* accuracy: 46.2%\n",
      "* error: 53.8%\n",
      "* macro_f1: 31.7%\n",
      "epoch [907/1000] batch [20/44] time 0.037 (0.057) data 0.000 (0.015) loss 0.9985 (0.4690) lr 7.7362e-05 eta 0:03:53\n",
      "epoch [907/1000] batch [40/44] time 0.039 (0.048) data 0.000 (0.007) loss 0.7510 (0.5447) lr 7.7362e-05 eta 0:03:18\n",
      "Evaluate on the *val* set\n"
     ]
    },
    {
     "name": "stderr",
     "output_type": "stream",
     "text": [
      "\r",
      "  0%|          | 0/2 [00:00<?, ?it/s]\r",
      " 50%|█████     | 1/2 [00:00<00:00,  3.29it/s]\r",
      "100%|██████████| 2/2 [00:00<00:00,  5.23it/s]\n"
     ]
    },
    {
     "name": "stdout",
     "output_type": "stream",
     "text": [
      "=> result\n",
      "* total: 106\n",
      "* correct: 49\n",
      "* accuracy: 46.2%\n",
      "* error: 53.8%\n",
      "* macro_f1: 31.6%\n",
      "epoch [908/1000] batch [20/44] time 0.042 (0.055) data 0.000 (0.014) loss 0.8345 (0.4890) lr 7.5754e-05 eta 0:03:44\n",
      "epoch [908/1000] batch [40/44] time 0.037 (0.048) data 0.000 (0.007) loss 0.8110 (0.5343) lr 7.5754e-05 eta 0:03:13\n",
      "Evaluate on the *val* set\n"
     ]
    },
    {
     "name": "stderr",
     "output_type": "stream",
     "text": [
      "\r",
      "  0%|          | 0/2 [00:00<?, ?it/s]\r",
      " 50%|█████     | 1/2 [00:00<00:00,  3.21it/s]\r",
      "100%|██████████| 2/2 [00:00<00:00,  5.14it/s]\n"
     ]
    },
    {
     "name": "stdout",
     "output_type": "stream",
     "text": [
      "=> result\n",
      "* total: 106\n",
      "* correct: 50\n",
      "* accuracy: 47.2%\n",
      "* error: 52.8%\n",
      "* macro_f1: 32.3%\n",
      "epoch [909/1000] batch [20/44] time 0.040 (0.058) data 0.000 (0.016) loss 0.2876 (0.5873) lr 7.4162e-05 eta 0:03:52\n",
      "epoch [909/1000] batch [40/44] time 0.041 (0.049) data 0.000 (0.008) loss 0.3003 (0.5360) lr 7.4162e-05 eta 0:03:16\n",
      "Evaluate on the *val* set\n"
     ]
    },
    {
     "name": "stderr",
     "output_type": "stream",
     "text": [
      "\r",
      "  0%|          | 0/2 [00:00<?, ?it/s]\r",
      " 50%|█████     | 1/2 [00:00<00:00,  3.27it/s]\r",
      "100%|██████████| 2/2 [00:00<00:00,  5.17it/s]\n"
     ]
    },
    {
     "name": "stdout",
     "output_type": "stream",
     "text": [
      "=> result\n",
      "* total: 106\n",
      "* correct: 49\n",
      "* accuracy: 46.2%\n",
      "* error: 53.8%\n",
      "* macro_f1: 31.6%\n",
      "epoch [910/1000] batch [20/44] time 0.042 (0.057) data 0.000 (0.015) loss 0.9194 (0.5268) lr 7.2587e-05 eta 0:03:46\n",
      "epoch [910/1000] batch [40/44] time 0.034 (0.048) data 0.000 (0.007) loss 0.3916 (0.5070) lr 7.2587e-05 eta 0:03:11\n",
      "Evaluate on the *val* set\n"
     ]
    },
    {
     "name": "stderr",
     "output_type": "stream",
     "text": [
      "\r",
      "  0%|          | 0/2 [00:00<?, ?it/s]\r",
      " 50%|█████     | 1/2 [00:00<00:00,  3.27it/s]\r",
      "100%|██████████| 2/2 [00:00<00:00,  5.25it/s]\n"
     ]
    },
    {
     "name": "stdout",
     "output_type": "stream",
     "text": [
      "=> result\n",
      "* total: 106\n",
      "* correct: 49\n",
      "* accuracy: 46.2%\n",
      "* error: 53.8%\n",
      "* macro_f1: 31.6%\n",
      "epoch [911/1000] batch [20/44] time 0.035 (0.055) data 0.000 (0.015) loss 0.1254 (0.4847) lr 7.1028e-05 eta 0:03:34\n",
      "epoch [911/1000] batch [40/44] time 0.041 (0.047) data 0.000 (0.007) loss 0.6914 (0.5257) lr 7.1028e-05 eta 0:03:03\n",
      "Evaluate on the *val* set\n"
     ]
    },
    {
     "name": "stderr",
     "output_type": "stream",
     "text": [
      "\r",
      "  0%|          | 0/2 [00:00<?, ?it/s]\r",
      " 50%|█████     | 1/2 [00:00<00:00,  3.26it/s]\r",
      "100%|██████████| 2/2 [00:00<00:00,  5.12it/s]\n"
     ]
    },
    {
     "name": "stdout",
     "output_type": "stream",
     "text": [
      "=> result\n",
      "* total: 106\n",
      "* correct: 49\n",
      "* accuracy: 46.2%\n",
      "* error: 53.8%\n",
      "* macro_f1: 31.6%\n",
      "epoch [912/1000] batch [20/44] time 0.041 (0.056) data 0.000 (0.015) loss 0.4380 (0.4568) lr 6.9486e-05 eta 0:03:38\n",
      "epoch [912/1000] batch [40/44] time 0.038 (0.048) data 0.000 (0.008) loss 0.6118 (0.5317) lr 6.9486e-05 eta 0:03:06\n",
      "Evaluate on the *val* set\n"
     ]
    },
    {
     "name": "stderr",
     "output_type": "stream",
     "text": [
      "\r",
      "  0%|          | 0/2 [00:00<?, ?it/s]\r",
      " 50%|█████     | 1/2 [00:00<00:00,  3.16it/s]\r",
      "100%|██████████| 2/2 [00:00<00:00,  4.94it/s]\n"
     ]
    },
    {
     "name": "stdout",
     "output_type": "stream",
     "text": [
      "=> result\n",
      "* total: 106\n",
      "* correct: 50\n",
      "* accuracy: 47.2%\n",
      "* error: 52.8%\n",
      "* macro_f1: 32.3%\n",
      "epoch [913/1000] batch [20/44] time 0.036 (0.056) data 0.000 (0.015) loss 1.1914 (0.5280) lr 6.7961e-05 eta 0:03:35\n",
      "epoch [913/1000] batch [40/44] time 0.034 (0.048) data 0.000 (0.008) loss 0.5269 (0.5214) lr 6.7961e-05 eta 0:03:03\n",
      "Evaluate on the *val* set\n"
     ]
    },
    {
     "name": "stderr",
     "output_type": "stream",
     "text": [
      "\r",
      "  0%|          | 0/2 [00:00<?, ?it/s]\r",
      " 50%|█████     | 1/2 [00:00<00:00,  3.19it/s]\r",
      "100%|██████████| 2/2 [00:00<00:00,  5.13it/s]\n"
     ]
    },
    {
     "name": "stdout",
     "output_type": "stream",
     "text": [
      "=> result\n",
      "* total: 106\n",
      "* correct: 50\n",
      "* accuracy: 47.2%\n",
      "* error: 52.8%\n",
      "* macro_f1: 32.3%\n",
      "epoch [914/1000] batch [20/44] time 0.039 (0.055) data 0.000 (0.014) loss 0.0692 (0.5896) lr 6.6452e-05 eta 0:03:31\n",
      "epoch [914/1000] batch [40/44] time 0.035 (0.048) data 0.000 (0.007) loss 0.5420 (0.5657) lr 6.6452e-05 eta 0:03:00\n",
      "Evaluate on the *val* set\n"
     ]
    },
    {
     "name": "stderr",
     "output_type": "stream",
     "text": [
      "\r",
      "  0%|          | 0/2 [00:00<?, ?it/s]\r",
      " 50%|█████     | 1/2 [00:00<00:00,  3.15it/s]\r",
      "100%|██████████| 2/2 [00:00<00:00,  4.99it/s]\n"
     ]
    },
    {
     "name": "stdout",
     "output_type": "stream",
     "text": [
      "=> result\n",
      "* total: 106\n",
      "* correct: 50\n",
      "* accuracy: 47.2%\n",
      "* error: 52.8%\n",
      "* macro_f1: 32.3%\n",
      "epoch [915/1000] batch [20/44] time 0.044 (0.054) data 0.000 (0.014) loss 0.3069 (0.5103) lr 6.4959e-05 eta 0:03:24\n",
      "epoch [915/1000] batch [40/44] time 0.042 (0.047) data 0.000 (0.007) loss 0.6274 (0.5310) lr 6.4959e-05 eta 0:02:56\n",
      "Evaluate on the *val* set\n"
     ]
    },
    {
     "name": "stderr",
     "output_type": "stream",
     "text": [
      "\r",
      "  0%|          | 0/2 [00:00<?, ?it/s]\r",
      " 50%|█████     | 1/2 [00:00<00:00,  3.28it/s]\r",
      "100%|██████████| 2/2 [00:00<00:00,  5.15it/s]\n"
     ]
    },
    {
     "name": "stdout",
     "output_type": "stream",
     "text": [
      "=> result\n",
      "* total: 106\n",
      "* correct: 50\n",
      "* accuracy: 47.2%\n",
      "* error: 52.8%\n",
      "* macro_f1: 32.3%\n",
      "epoch [916/1000] batch [20/44] time 0.045 (0.056) data 0.000 (0.014) loss 0.5283 (0.5545) lr 6.3484e-05 eta 0:03:28\n",
      "epoch [916/1000] batch [40/44] time 0.039 (0.048) data 0.000 (0.007) loss 0.1099 (0.5253) lr 6.3484e-05 eta 0:02:58\n",
      "Evaluate on the *val* set\n"
     ]
    },
    {
     "name": "stderr",
     "output_type": "stream",
     "text": [
      "\r",
      "  0%|          | 0/2 [00:00<?, ?it/s]\r",
      " 50%|█████     | 1/2 [00:00<00:00,  3.25it/s]\r",
      "100%|██████████| 2/2 [00:00<00:00,  5.16it/s]\n"
     ]
    },
    {
     "name": "stdout",
     "output_type": "stream",
     "text": [
      "=> result\n",
      "* total: 106\n",
      "* correct: 50\n",
      "* accuracy: 47.2%\n",
      "* error: 52.8%\n",
      "* macro_f1: 32.3%\n",
      "epoch [917/1000] batch [20/44] time 0.043 (0.055) data 0.000 (0.014) loss 0.6182 (0.4930) lr 6.2025e-05 eta 0:03:22\n",
      "epoch [917/1000] batch [40/44] time 0.038 (0.047) data 0.000 (0.007) loss 0.4216 (0.5351) lr 6.2025e-05 eta 0:02:53\n",
      "Evaluate on the *val* set\n"
     ]
    },
    {
     "name": "stderr",
     "output_type": "stream",
     "text": [
      "\r",
      "  0%|          | 0/2 [00:00<?, ?it/s]\r",
      " 50%|█████     | 1/2 [00:00<00:00,  3.29it/s]\r",
      "100%|██████████| 2/2 [00:00<00:00,  5.19it/s]\n"
     ]
    },
    {
     "name": "stdout",
     "output_type": "stream",
     "text": [
      "=> result\n",
      "* total: 106\n",
      "* correct: 49\n",
      "* accuracy: 46.2%\n",
      "* error: 53.8%\n",
      "* macro_f1: 31.7%\n",
      "epoch [918/1000] batch [20/44] time 0.038 (0.057) data 0.000 (0.017) loss 0.7573 (0.5346) lr 6.0582e-05 eta 0:03:28\n",
      "epoch [918/1000] batch [40/44] time 0.041 (0.049) data 0.000 (0.008) loss 0.4387 (0.5235) lr 6.0582e-05 eta 0:02:56\n",
      "Evaluate on the *val* set\n"
     ]
    },
    {
     "name": "stderr",
     "output_type": "stream",
     "text": [
      "\r",
      "  0%|          | 0/2 [00:00<?, ?it/s]\r",
      " 50%|█████     | 1/2 [00:00<00:00,  3.30it/s]\r",
      "100%|██████████| 2/2 [00:00<00:00,  5.11it/s]\n"
     ]
    },
    {
     "name": "stdout",
     "output_type": "stream",
     "text": [
      "=> result\n",
      "* total: 106\n",
      "* correct: 50\n",
      "* accuracy: 47.2%\n",
      "* error: 52.8%\n",
      "* macro_f1: 32.3%\n",
      "epoch [919/1000] batch [20/44] time 0.039 (0.055) data 0.000 (0.015) loss 0.6919 (0.4774) lr 5.9156e-05 eta 0:03:18\n",
      "epoch [919/1000] batch [40/44] time 0.037 (0.048) data 0.000 (0.007) loss 1.5967 (0.5286) lr 5.9156e-05 eta 0:02:50\n",
      "Evaluate on the *val* set\n"
     ]
    },
    {
     "name": "stderr",
     "output_type": "stream",
     "text": [
      "\r",
      "  0%|          | 0/2 [00:00<?, ?it/s]\r",
      " 50%|█████     | 1/2 [00:00<00:00,  3.26it/s]\r",
      "100%|██████████| 2/2 [00:00<00:00,  5.17it/s]\n"
     ]
    },
    {
     "name": "stdout",
     "output_type": "stream",
     "text": [
      "=> result\n",
      "* total: 106\n",
      "* correct: 50\n",
      "* accuracy: 47.2%\n",
      "* error: 52.8%\n",
      "* macro_f1: 32.3%\n",
      "epoch [920/1000] batch [20/44] time 0.040 (0.057) data 0.000 (0.016) loss 0.3645 (0.5649) lr 5.7747e-05 eta 0:03:22\n",
      "epoch [920/1000] batch [40/44] time 0.037 (0.049) data 0.000 (0.008) loss 0.5376 (0.5313) lr 5.7747e-05 eta 0:02:51\n",
      "Evaluate on the *val* set\n"
     ]
    },
    {
     "name": "stderr",
     "output_type": "stream",
     "text": [
      "\r",
      "  0%|          | 0/2 [00:00<?, ?it/s]\r",
      " 50%|█████     | 1/2 [00:00<00:00,  3.32it/s]\r",
      "100%|██████████| 2/2 [00:00<00:00,  5.22it/s]\n"
     ]
    },
    {
     "name": "stdout",
     "output_type": "stream",
     "text": [
      "=> result\n",
      "* total: 106\n",
      "* correct: 50\n",
      "* accuracy: 47.2%\n",
      "* error: 52.8%\n",
      "* macro_f1: 32.3%\n",
      "epoch [921/1000] batch [20/44] time 0.040 (0.055) data 0.000 (0.014) loss 0.6953 (0.5468) lr 5.6355e-05 eta 0:03:10\n",
      "epoch [921/1000] batch [40/44] time 0.040 (0.047) data 0.000 (0.007) loss 0.5771 (0.5416) lr 5.6355e-05 eta 0:02:42\n",
      "Evaluate on the *val* set\n"
     ]
    },
    {
     "name": "stderr",
     "output_type": "stream",
     "text": [
      "\r",
      "  0%|          | 0/2 [00:00<?, ?it/s]\r",
      " 50%|█████     | 1/2 [00:00<00:00,  3.31it/s]\r",
      "100%|██████████| 2/2 [00:00<00:00,  5.26it/s]\n"
     ]
    },
    {
     "name": "stdout",
     "output_type": "stream",
     "text": [
      "=> result\n",
      "* total: 106\n",
      "* correct: 49\n",
      "* accuracy: 46.2%\n",
      "* error: 53.8%\n",
      "* macro_f1: 31.6%\n",
      "epoch [922/1000] batch [20/44] time 0.043 (0.057) data 0.000 (0.014) loss 0.6025 (0.5006) lr 5.4979e-05 eta 0:03:17\n",
      "epoch [922/1000] batch [40/44] time 0.040 (0.049) data 0.000 (0.007) loss 0.7358 (0.5334) lr 5.4979e-05 eta 0:02:47\n",
      "Evaluate on the *val* set\n"
     ]
    },
    {
     "name": "stderr",
     "output_type": "stream",
     "text": [
      "\r",
      "  0%|          | 0/2 [00:00<?, ?it/s]\r",
      " 50%|█████     | 1/2 [00:00<00:00,  3.20it/s]\r",
      "100%|██████████| 2/2 [00:00<00:00,  4.98it/s]\n"
     ]
    },
    {
     "name": "stdout",
     "output_type": "stream",
     "text": [
      "=> result\n",
      "* total: 106\n",
      "* correct: 49\n",
      "* accuracy: 46.2%\n",
      "* error: 53.8%\n",
      "* macro_f1: 31.6%\n",
      "epoch [923/1000] batch [20/44] time 0.041 (0.048) data 0.000 (0.014) loss 0.3496 (0.5690) lr 5.3621e-05 eta 0:02:45\n",
      "epoch [923/1000] batch [40/44] time 0.040 (0.044) data 0.000 (0.007) loss 0.4731 (0.5420) lr 5.3621e-05 eta 0:02:30\n",
      "Evaluate on the *val* set\n"
     ]
    },
    {
     "name": "stderr",
     "output_type": "stream",
     "text": [
      "\r",
      "  0%|          | 0/2 [00:00<?, ?it/s]\r",
      " 50%|█████     | 1/2 [00:00<00:00,  3.25it/s]\r",
      "100%|██████████| 2/2 [00:00<00:00,  5.17it/s]\n"
     ]
    },
    {
     "name": "stdout",
     "output_type": "stream",
     "text": [
      "=> result\n",
      "* total: 106\n",
      "* correct: 49\n",
      "* accuracy: 46.2%\n",
      "* error: 53.8%\n",
      "* macro_f1: 31.6%\n",
      "epoch [924/1000] batch [20/44] time 0.040 (0.054) data 0.000 (0.014) loss 0.5820 (0.5695) lr 5.2278e-05 eta 0:03:00\n",
      "epoch [924/1000] batch [40/44] time 0.041 (0.047) data 0.000 (0.007) loss 0.4299 (0.5497) lr 5.2278e-05 eta 0:02:37\n",
      "Evaluate on the *val* set\n"
     ]
    },
    {
     "name": "stderr",
     "output_type": "stream",
     "text": [
      "\r",
      "  0%|          | 0/2 [00:00<?, ?it/s]\r",
      " 50%|█████     | 1/2 [00:00<00:00,  3.30it/s]\r",
      "100%|██████████| 2/2 [00:00<00:00,  5.06it/s]\n"
     ]
    },
    {
     "name": "stdout",
     "output_type": "stream",
     "text": [
      "=> result\n",
      "* total: 106\n",
      "* correct: 49\n",
      "* accuracy: 46.2%\n",
      "* error: 53.8%\n",
      "* macro_f1: 31.7%\n",
      "epoch [925/1000] batch [20/44] time 0.039 (0.056) data 0.000 (0.015) loss 0.3882 (0.4938) lr 5.0953e-05 eta 0:03:05\n",
      "epoch [925/1000] batch [40/44] time 0.041 (0.048) data 0.000 (0.008) loss 0.8394 (0.5442) lr 5.0953e-05 eta 0:02:37\n",
      "Evaluate on the *val* set\n"
     ]
    },
    {
     "name": "stderr",
     "output_type": "stream",
     "text": [
      "\r",
      "  0%|          | 0/2 [00:00<?, ?it/s]\r",
      " 50%|█████     | 1/2 [00:00<00:00,  3.26it/s]\r",
      "100%|██████████| 2/2 [00:00<00:00,  5.16it/s]\n"
     ]
    },
    {
     "name": "stdout",
     "output_type": "stream",
     "text": [
      "=> result\n",
      "* total: 106\n",
      "* correct: 49\n",
      "* accuracy: 46.2%\n",
      "* error: 53.8%\n",
      "* macro_f1: 31.6%\n",
      "epoch [926/1000] batch [20/44] time 0.043 (0.056) data 0.000 (0.014) loss 0.2993 (0.6008) lr 4.9644e-05 eta 0:03:03\n",
      "epoch [926/1000] batch [40/44] time 0.039 (0.048) data 0.000 (0.007) loss 0.7319 (0.5186) lr 4.9644e-05 eta 0:02:36\n",
      "Evaluate on the *val* set\n"
     ]
    },
    {
     "name": "stderr",
     "output_type": "stream",
     "text": [
      "\r",
      "  0%|          | 0/2 [00:00<?, ?it/s]\r",
      " 50%|█████     | 1/2 [00:00<00:00,  3.31it/s]\r",
      "100%|██████████| 2/2 [00:00<00:00,  5.24it/s]\n"
     ]
    },
    {
     "name": "stdout",
     "output_type": "stream",
     "text": [
      "=> result\n",
      "* total: 106\n",
      "* correct: 50\n",
      "* accuracy: 47.2%\n",
      "* error: 52.8%\n",
      "* macro_f1: 32.3%\n",
      "epoch [927/1000] batch [20/44] time 0.044 (0.056) data 0.000 (0.014) loss 0.6885 (0.5982) lr 4.8353e-05 eta 0:03:00\n",
      "epoch [927/1000] batch [40/44] time 0.039 (0.048) data 0.000 (0.007) loss 0.4941 (0.5474) lr 4.8353e-05 eta 0:02:34\n",
      "Evaluate on the *val* set\n"
     ]
    },
    {
     "name": "stderr",
     "output_type": "stream",
     "text": [
      "\r",
      "  0%|          | 0/2 [00:00<?, ?it/s]\r",
      " 50%|█████     | 1/2 [00:00<00:00,  3.24it/s]\r",
      "100%|██████████| 2/2 [00:00<00:00,  5.14it/s]\n"
     ]
    },
    {
     "name": "stdout",
     "output_type": "stream",
     "text": [
      "=> result\n",
      "* total: 106\n",
      "* correct: 49\n",
      "* accuracy: 46.2%\n",
      "* error: 53.8%\n",
      "* macro_f1: 31.6%\n",
      "epoch [928/1000] batch [20/44] time 0.037 (0.055) data 0.000 (0.015) loss 0.6772 (0.5726) lr 4.7078e-05 eta 0:02:54\n",
      "epoch [928/1000] batch [40/44] time 0.042 (0.047) data 0.000 (0.008) loss 0.8472 (0.5345) lr 4.7078e-05 eta 0:02:29\n",
      "Evaluate on the *val* set\n"
     ]
    },
    {
     "name": "stderr",
     "output_type": "stream",
     "text": [
      "\r",
      "  0%|          | 0/2 [00:00<?, ?it/s]\r",
      " 50%|█████     | 1/2 [00:00<00:00,  3.25it/s]\r",
      "100%|██████████| 2/2 [00:00<00:00,  5.15it/s]\n"
     ]
    },
    {
     "name": "stdout",
     "output_type": "stream",
     "text": [
      "=> result\n",
      "* total: 106\n",
      "* correct: 49\n",
      "* accuracy: 46.2%\n",
      "* error: 53.8%\n",
      "* macro_f1: 31.6%\n",
      "epoch [929/1000] batch [20/44] time 0.042 (0.057) data 0.000 (0.015) loss 0.4363 (0.5260) lr 4.5819e-05 eta 0:02:58\n",
      "epoch [929/1000] batch [40/44] time 0.038 (0.049) data 0.000 (0.007) loss 0.5332 (0.5228) lr 4.5819e-05 eta 0:02:32\n",
      "Evaluate on the *val* set\n"
     ]
    },
    {
     "name": "stderr",
     "output_type": "stream",
     "text": [
      "\r",
      "  0%|          | 0/2 [00:00<?, ?it/s]\r",
      " 50%|█████     | 1/2 [00:00<00:00,  3.24it/s]\r",
      "100%|██████████| 2/2 [00:00<00:00,  5.03it/s]\n"
     ]
    },
    {
     "name": "stdout",
     "output_type": "stream",
     "text": [
      "=> result\n",
      "* total: 106\n",
      "* correct: 49\n",
      "* accuracy: 46.2%\n",
      "* error: 53.8%\n",
      "* macro_f1: 31.6%\n",
      "epoch [930/1000] batch [20/44] time 0.038 (0.055) data 0.000 (0.014) loss 0.3228 (0.5494) lr 4.4578e-05 eta 0:02:50\n",
      "epoch [930/1000] batch [40/44] time 0.043 (0.047) data 0.000 (0.007) loss 0.8130 (0.5516) lr 4.4578e-05 eta 0:02:24\n",
      "Evaluate on the *val* set\n"
     ]
    },
    {
     "name": "stderr",
     "output_type": "stream",
     "text": [
      "\r",
      "  0%|          | 0/2 [00:00<?, ?it/s]\r",
      " 50%|█████     | 1/2 [00:00<00:00,  3.35it/s]\r",
      "100%|██████████| 2/2 [00:00<00:00,  5.28it/s]\n"
     ]
    },
    {
     "name": "stdout",
     "output_type": "stream",
     "text": [
      "=> result\n",
      "* total: 106\n",
      "* correct: 49\n",
      "* accuracy: 46.2%\n",
      "* error: 53.8%\n",
      "* macro_f1: 31.7%\n",
      "epoch [931/1000] batch [20/44] time 0.044 (0.059) data 0.000 (0.016) loss 0.2854 (0.4925) lr 4.3353e-05 eta 0:03:00\n",
      "epoch [931/1000] batch [40/44] time 0.036 (0.049) data 0.000 (0.008) loss 0.1423 (0.5321) lr 4.3353e-05 eta 0:02:30\n",
      "Evaluate on the *val* set\n"
     ]
    },
    {
     "name": "stderr",
     "output_type": "stream",
     "text": [
      "\r",
      "  0%|          | 0/2 [00:00<?, ?it/s]\r",
      " 50%|█████     | 1/2 [00:00<00:00,  3.21it/s]\r",
      "100%|██████████| 2/2 [00:00<00:00,  5.13it/s]\n"
     ]
    },
    {
     "name": "stdout",
     "output_type": "stream",
     "text": [
      "=> result\n",
      "* total: 106\n",
      "* correct: 49\n",
      "* accuracy: 46.2%\n",
      "* error: 53.8%\n",
      "* macro_f1: 31.6%\n",
      "epoch [932/1000] batch [20/44] time 0.042 (0.058) data 0.000 (0.016) loss 0.5615 (0.4947) lr 4.2146e-05 eta 0:02:53\n",
      "epoch [932/1000] batch [40/44] time 0.041 (0.049) data 0.000 (0.008) loss 0.5854 (0.5230) lr 4.2146e-05 eta 0:02:27\n",
      "Evaluate on the *val* set\n"
     ]
    },
    {
     "name": "stderr",
     "output_type": "stream",
     "text": [
      "\r",
      "  0%|          | 0/2 [00:00<?, ?it/s]\r",
      " 50%|█████     | 1/2 [00:00<00:00,  3.27it/s]\r",
      "100%|██████████| 2/2 [00:00<00:00,  5.15it/s]\n"
     ]
    },
    {
     "name": "stdout",
     "output_type": "stream",
     "text": [
      "=> result\n",
      "* total: 106\n",
      "* correct: 49\n",
      "* accuracy: 46.2%\n",
      "* error: 53.8%\n",
      "* macro_f1: 31.7%\n",
      "epoch [933/1000] batch [20/44] time 0.043 (0.055) data 0.000 (0.014) loss 0.4128 (0.5514) lr 4.0955e-05 eta 0:02:43\n",
      "epoch [933/1000] batch [40/44] time 0.042 (0.048) data 0.000 (0.007) loss 0.7700 (0.5504) lr 4.0955e-05 eta 0:02:22\n",
      "Evaluate on the *val* set\n"
     ]
    },
    {
     "name": "stderr",
     "output_type": "stream",
     "text": [
      "\r",
      "  0%|          | 0/2 [00:00<?, ?it/s]\r",
      " 50%|█████     | 1/2 [00:00<00:00,  3.21it/s]\r",
      "100%|██████████| 2/2 [00:00<00:00,  5.02it/s]\n"
     ]
    },
    {
     "name": "stdout",
     "output_type": "stream",
     "text": [
      "=> result\n",
      "* total: 106\n",
      "* correct: 50\n",
      "* accuracy: 47.2%\n",
      "* error: 52.8%\n",
      "* macro_f1: 32.3%\n",
      "epoch [934/1000] batch [20/44] time 0.040 (0.054) data 0.000 (0.014) loss 0.8281 (0.5387) lr 3.9781e-05 eta 0:02:36\n",
      "epoch [934/1000] batch [40/44] time 0.042 (0.047) data 0.000 (0.007) loss 0.4839 (0.5407) lr 3.9781e-05 eta 0:02:15\n",
      "Evaluate on the *val* set\n"
     ]
    },
    {
     "name": "stderr",
     "output_type": "stream",
     "text": [
      "\r",
      "  0%|          | 0/2 [00:00<?, ?it/s]\r",
      " 50%|█████     | 1/2 [00:00<00:00,  3.03it/s]\r",
      "100%|██████████| 2/2 [00:00<00:00,  4.90it/s]\n"
     ]
    },
    {
     "name": "stdout",
     "output_type": "stream",
     "text": [
      "=> result\n",
      "* total: 106\n",
      "* correct: 50\n",
      "* accuracy: 47.2%\n",
      "* error: 52.8%\n",
      "* macro_f1: 32.3%\n",
      "epoch [935/1000] batch [20/44] time 0.040 (0.056) data 0.000 (0.015) loss 0.0941 (0.4288) lr 3.8624e-05 eta 0:02:40\n",
      "epoch [935/1000] batch [40/44] time 0.041 (0.048) data 0.000 (0.008) loss 1.1396 (0.5293) lr 3.8624e-05 eta 0:02:17\n",
      "Evaluate on the *val* set\n"
     ]
    },
    {
     "name": "stderr",
     "output_type": "stream",
     "text": [
      "\r",
      "  0%|          | 0/2 [00:00<?, ?it/s]\r",
      " 50%|█████     | 1/2 [00:00<00:00,  3.32it/s]\r",
      "100%|██████████| 2/2 [00:00<00:00,  5.07it/s]\n"
     ]
    },
    {
     "name": "stdout",
     "output_type": "stream",
     "text": [
      "=> result\n",
      "* total: 106\n",
      "* correct: 50\n",
      "* accuracy: 47.2%\n",
      "* error: 52.8%\n",
      "* macro_f1: 32.3%\n",
      "epoch [936/1000] batch [20/44] time 0.037 (0.055) data 0.000 (0.014) loss 0.4412 (0.4701) lr 3.7483e-05 eta 0:02:34\n",
      "epoch [936/1000] batch [40/44] time 0.040 (0.048) data 0.000 (0.007) loss 0.9082 (0.5424) lr 3.7483e-05 eta 0:02:14\n",
      "Evaluate on the *val* set\n"
     ]
    },
    {
     "name": "stderr",
     "output_type": "stream",
     "text": [
      "\r",
      "  0%|          | 0/2 [00:00<?, ?it/s]\r",
      " 50%|█████     | 1/2 [00:00<00:00,  3.31it/s]\r",
      "100%|██████████| 2/2 [00:00<00:00,  5.21it/s]\n"
     ]
    },
    {
     "name": "stdout",
     "output_type": "stream",
     "text": [
      "=> result\n",
      "* total: 106\n",
      "* correct: 50\n",
      "* accuracy: 47.2%\n",
      "* error: 52.8%\n",
      "* macro_f1: 32.3%\n",
      "epoch [937/1000] batch [20/44] time 0.039 (0.054) data 0.000 (0.014) loss 0.3657 (0.5057) lr 3.6360e-05 eta 0:02:32\n",
      "epoch [937/1000] batch [40/44] time 0.036 (0.047) data 0.000 (0.007) loss 0.4988 (0.5455) lr 3.6360e-05 eta 0:02:10\n",
      "Evaluate on the *val* set\n"
     ]
    },
    {
     "name": "stderr",
     "output_type": "stream",
     "text": [
      "\r",
      "  0%|          | 0/2 [00:00<?, ?it/s]\r",
      " 50%|█████     | 1/2 [00:00<00:00,  3.20it/s]\r",
      "100%|██████████| 2/2 [00:00<00:00,  5.12it/s]\n"
     ]
    },
    {
     "name": "stdout",
     "output_type": "stream",
     "text": [
      "=> result\n",
      "* total: 106\n",
      "* correct: 49\n",
      "* accuracy: 46.2%\n",
      "* error: 53.8%\n",
      "* macro_f1: 31.7%\n",
      "epoch [938/1000] batch [20/44] time 0.043 (0.056) data 0.000 (0.014) loss 0.1477 (0.5422) lr 3.5254e-05 eta 0:02:35\n",
      "epoch [938/1000] batch [40/44] time 0.038 (0.048) data 0.000 (0.007) loss 0.1577 (0.5270) lr 3.5254e-05 eta 0:02:11\n",
      "Evaluate on the *val* set\n"
     ]
    },
    {
     "name": "stderr",
     "output_type": "stream",
     "text": [
      "\r",
      "  0%|          | 0/2 [00:00<?, ?it/s]\r",
      " 50%|█████     | 1/2 [00:00<00:00,  3.25it/s]\r",
      "100%|██████████| 2/2 [00:00<00:00,  5.08it/s]\n"
     ]
    },
    {
     "name": "stdout",
     "output_type": "stream",
     "text": [
      "=> result\n",
      "* total: 106\n",
      "* correct: 50\n",
      "* accuracy: 47.2%\n",
      "* error: 52.8%\n",
      "* macro_f1: 32.3%\n",
      "epoch [939/1000] batch [20/44] time 0.042 (0.058) data 0.000 (0.016) loss 1.4404 (0.6097) lr 3.4164e-05 eta 0:02:37\n",
      "epoch [939/1000] batch [40/44] time 0.041 (0.050) data 0.000 (0.008) loss 0.3391 (0.5223) lr 3.4164e-05 eta 0:02:13\n",
      "Evaluate on the *val* set\n"
     ]
    },
    {
     "name": "stderr",
     "output_type": "stream",
     "text": [
      "\r",
      "  0%|          | 0/2 [00:00<?, ?it/s]\r",
      " 50%|█████     | 1/2 [00:00<00:00,  3.32it/s]\r",
      "100%|██████████| 2/2 [00:00<00:00,  5.23it/s]\n"
     ]
    },
    {
     "name": "stdout",
     "output_type": "stream",
     "text": [
      "=> result\n",
      "* total: 106\n",
      "* correct: 50\n",
      "* accuracy: 47.2%\n",
      "* error: 52.8%\n",
      "* macro_f1: 32.3%\n",
      "epoch [940/1000] batch [20/44] time 0.033 (0.060) data 0.000 (0.016) loss 0.8833 (0.5238) lr 3.3092e-05 eta 0:02:40\n",
      "epoch [940/1000] batch [40/44] time 0.041 (0.049) data 0.000 (0.008) loss 0.4160 (0.4925) lr 3.3092e-05 eta 0:02:10\n",
      "Evaluate on the *val* set\n"
     ]
    },
    {
     "name": "stderr",
     "output_type": "stream",
     "text": [
      "\r",
      "  0%|          | 0/2 [00:00<?, ?it/s]\r",
      " 50%|█████     | 1/2 [00:00<00:00,  3.23it/s]\r",
      "100%|██████████| 2/2 [00:00<00:00,  5.09it/s]\n"
     ]
    },
    {
     "name": "stdout",
     "output_type": "stream",
     "text": [
      "=> result\n",
      "* total: 106\n",
      "* correct: 50\n",
      "* accuracy: 47.2%\n",
      "* error: 52.8%\n",
      "* macro_f1: 32.3%\n",
      "epoch [941/1000] batch [20/44] time 0.047 (0.056) data 0.000 (0.015) loss 0.2549 (0.4625) lr 3.2036e-05 eta 0:02:27\n",
      "epoch [941/1000] batch [40/44] time 0.041 (0.048) data 0.000 (0.008) loss 0.4612 (0.5356) lr 3.2036e-05 eta 0:02:04\n",
      "Evaluate on the *val* set\n"
     ]
    },
    {
     "name": "stderr",
     "output_type": "stream",
     "text": [
      "\r",
      "  0%|          | 0/2 [00:00<?, ?it/s]\r",
      " 50%|█████     | 1/2 [00:00<00:00,  3.25it/s]\r",
      "100%|██████████| 2/2 [00:00<00:00,  5.09it/s]\n"
     ]
    },
    {
     "name": "stdout",
     "output_type": "stream",
     "text": [
      "=> result\n",
      "* total: 106\n",
      "* correct: 50\n",
      "* accuracy: 47.2%\n",
      "* error: 52.8%\n",
      "* macro_f1: 32.3%\n",
      "epoch [942/1000] batch [20/44] time 0.044 (0.057) data 0.000 (0.014) loss 0.8149 (0.5550) lr 3.0997e-05 eta 0:02:27\n",
      "epoch [942/1000] batch [40/44] time 0.042 (0.049) data 0.000 (0.007) loss 0.3337 (0.5342) lr 3.0997e-05 eta 0:02:04\n",
      "Evaluate on the *val* set\n"
     ]
    },
    {
     "name": "stderr",
     "output_type": "stream",
     "text": [
      "\r",
      "  0%|          | 0/2 [00:00<?, ?it/s]\r",
      " 50%|█████     | 1/2 [00:00<00:00,  3.29it/s]\r",
      "100%|██████████| 2/2 [00:00<00:00,  5.02it/s]\n"
     ]
    },
    {
     "name": "stdout",
     "output_type": "stream",
     "text": [
      "=> result\n",
      "* total: 106\n",
      "* correct: 50\n",
      "* accuracy: 47.2%\n",
      "* error: 52.8%\n",
      "* macro_f1: 32.3%\n",
      "epoch [943/1000] batch [20/44] time 0.038 (0.056) data 0.000 (0.014) loss 0.8818 (0.5416) lr 2.9976e-05 eta 0:02:20\n",
      "epoch [943/1000] batch [40/44] time 0.040 (0.049) data 0.000 (0.007) loss 0.7490 (0.5219) lr 2.9976e-05 eta 0:02:02\n",
      "Evaluate on the *val* set\n"
     ]
    },
    {
     "name": "stderr",
     "output_type": "stream",
     "text": [
      "\r",
      "  0%|          | 0/2 [00:00<?, ?it/s]\r",
      " 50%|█████     | 1/2 [00:00<00:00,  3.10it/s]\r",
      "100%|██████████| 2/2 [00:00<00:00,  4.98it/s]\n"
     ]
    },
    {
     "name": "stdout",
     "output_type": "stream",
     "text": [
      "=> result\n",
      "* total: 106\n",
      "* correct: 50\n",
      "* accuracy: 47.2%\n",
      "* error: 52.8%\n",
      "* macro_f1: 32.3%\n",
      "epoch [944/1000] batch [20/44] time 0.043 (0.056) data 0.000 (0.015) loss 0.8218 (0.5061) lr 2.8971e-05 eta 0:02:18\n",
      "epoch [944/1000] batch [40/44] time 0.042 (0.048) data 0.000 (0.008) loss 0.7261 (0.5336) lr 2.8971e-05 eta 0:01:58\n",
      "Evaluate on the *val* set\n"
     ]
    },
    {
     "name": "stderr",
     "output_type": "stream",
     "text": [
      "\r",
      "  0%|          | 0/2 [00:00<?, ?it/s]\r",
      " 50%|█████     | 1/2 [00:00<00:00,  3.28it/s]\r",
      "100%|██████████| 2/2 [00:00<00:00,  5.22it/s]\n"
     ]
    },
    {
     "name": "stdout",
     "output_type": "stream",
     "text": [
      "=> result\n",
      "* total: 106\n",
      "* correct: 50\n",
      "* accuracy: 47.2%\n",
      "* error: 52.8%\n",
      "* macro_f1: 32.3%\n",
      "epoch [945/1000] batch [20/44] time 0.042 (0.057) data 0.000 (0.016) loss 0.5093 (0.5767) lr 2.7983e-05 eta 0:02:20\n",
      "epoch [945/1000] batch [40/44] time 0.041 (0.049) data 0.000 (0.008) loss 0.3989 (0.5154) lr 2.7983e-05 eta 0:01:58\n",
      "Evaluate on the *val* set\n"
     ]
    },
    {
     "name": "stderr",
     "output_type": "stream",
     "text": [
      "\r",
      "  0%|          | 0/2 [00:00<?, ?it/s]\r",
      " 50%|█████     | 1/2 [00:00<00:00,  3.25it/s]\r",
      "100%|██████████| 2/2 [00:00<00:00,  5.16it/s]\n"
     ]
    },
    {
     "name": "stdout",
     "output_type": "stream",
     "text": [
      "=> result\n",
      "* total: 106\n",
      "* correct: 49\n",
      "* accuracy: 46.2%\n",
      "* error: 53.8%\n",
      "* macro_f1: 31.7%\n",
      "epoch [946/1000] batch [20/44] time 0.040 (0.057) data 0.000 (0.015) loss 0.6665 (0.5524) lr 2.7012e-05 eta 0:02:16\n",
      "epoch [946/1000] batch [40/44] time 0.037 (0.048) data 0.000 (0.008) loss 0.3501 (0.5328) lr 2.7012e-05 eta 0:01:55\n",
      "Evaluate on the *val* set\n"
     ]
    },
    {
     "name": "stderr",
     "output_type": "stream",
     "text": [
      "\r",
      "  0%|          | 0/2 [00:00<?, ?it/s]\r",
      " 50%|█████     | 1/2 [00:00<00:00,  3.36it/s]\r",
      "100%|██████████| 2/2 [00:00<00:00,  5.36it/s]\n"
     ]
    },
    {
     "name": "stdout",
     "output_type": "stream",
     "text": [
      "=> result\n",
      "* total: 106\n",
      "* correct: 50\n",
      "* accuracy: 47.2%\n",
      "* error: 52.8%\n",
      "* macro_f1: 32.3%\n",
      "epoch [947/1000] batch [20/44] time 0.043 (0.056) data 0.000 (0.015) loss 0.2922 (0.5195) lr 2.6059e-05 eta 0:02:12\n",
      "epoch [947/1000] batch [40/44] time 0.041 (0.048) data 0.000 (0.007) loss 0.3059 (0.5373) lr 2.6059e-05 eta 0:01:53\n",
      "Evaluate on the *val* set\n"
     ]
    },
    {
     "name": "stderr",
     "output_type": "stream",
     "text": [
      "\r",
      "  0%|          | 0/2 [00:00<?, ?it/s]\r",
      " 50%|█████     | 1/2 [00:00<00:00,  3.19it/s]\r",
      "100%|██████████| 2/2 [00:00<00:00,  5.03it/s]\n"
     ]
    },
    {
     "name": "stdout",
     "output_type": "stream",
     "text": [
      "=> result\n",
      "* total: 106\n",
      "* correct: 49\n",
      "* accuracy: 46.2%\n",
      "* error: 53.8%\n",
      "* macro_f1: 31.7%\n",
      "epoch [948/1000] batch [20/44] time 0.038 (0.056) data 0.000 (0.014) loss 0.1818 (0.4815) lr 2.5122e-05 eta 0:02:08\n",
      "epoch [948/1000] batch [40/44] time 0.034 (0.048) data 0.000 (0.007) loss 0.4082 (0.5215) lr 2.5122e-05 eta 0:01:49\n",
      "Evaluate on the *val* set\n"
     ]
    },
    {
     "name": "stderr",
     "output_type": "stream",
     "text": [
      "\r",
      "  0%|          | 0/2 [00:00<?, ?it/s]\r",
      " 50%|█████     | 1/2 [00:00<00:00,  3.28it/s]\r",
      "100%|██████████| 2/2 [00:00<00:00,  5.02it/s]\n"
     ]
    },
    {
     "name": "stdout",
     "output_type": "stream",
     "text": [
      "=> result\n",
      "* total: 106\n",
      "* correct: 50\n",
      "* accuracy: 47.2%\n",
      "* error: 52.8%\n",
      "* macro_f1: 32.3%\n",
      "epoch [949/1000] batch [20/44] time 0.038 (0.055) data 0.000 (0.014) loss 0.5903 (0.5509) lr 2.4202e-05 eta 0:02:05\n",
      "epoch [949/1000] batch [40/44] time 0.041 (0.048) data 0.000 (0.007) loss 0.5229 (0.5464) lr 2.4202e-05 eta 0:01:47\n",
      "Evaluate on the *val* set\n"
     ]
    },
    {
     "name": "stderr",
     "output_type": "stream",
     "text": [
      "\r",
      "  0%|          | 0/2 [00:00<?, ?it/s]\r",
      " 50%|█████     | 1/2 [00:00<00:00,  3.33it/s]\r",
      "100%|██████████| 2/2 [00:00<00:00,  5.26it/s]\n"
     ]
    },
    {
     "name": "stdout",
     "output_type": "stream",
     "text": [
      "=> result\n",
      "* total: 106\n",
      "* correct: 49\n",
      "* accuracy: 46.2%\n",
      "* error: 53.8%\n",
      "* macro_f1: 31.6%\n",
      "epoch [950/1000] batch [20/44] time 0.039 (0.056) data 0.000 (0.015) loss 0.5430 (0.5438) lr 2.3300e-05 eta 0:02:05\n",
      "epoch [950/1000] batch [40/44] time 0.041 (0.048) data 0.000 (0.008) loss 0.4087 (0.5272) lr 2.3300e-05 eta 0:01:46\n",
      "Evaluate on the *val* set\n"
     ]
    },
    {
     "name": "stderr",
     "output_type": "stream",
     "text": [
      "\r",
      "  0%|          | 0/2 [00:00<?, ?it/s]\r",
      " 50%|█████     | 1/2 [00:00<00:00,  3.32it/s]\r",
      "100%|██████████| 2/2 [00:00<00:00,  5.25it/s]\n"
     ]
    },
    {
     "name": "stdout",
     "output_type": "stream",
     "text": [
      "=> result\n",
      "* total: 106\n",
      "* correct: 49\n",
      "* accuracy: 46.2%\n",
      "* error: 53.8%\n",
      "* macro_f1: 31.6%\n",
      "epoch [951/1000] batch [20/44] time 0.041 (0.056) data 0.000 (0.015) loss 0.5571 (0.4921) lr 2.2414e-05 eta 0:02:01\n",
      "epoch [951/1000] batch [40/44] time 0.043 (0.048) data 0.000 (0.008) loss 0.5664 (0.5130) lr 2.2414e-05 eta 0:01:43\n",
      "Evaluate on the *val* set\n"
     ]
    },
    {
     "name": "stderr",
     "output_type": "stream",
     "text": [
      "\r",
      "  0%|          | 0/2 [00:00<?, ?it/s]\r",
      " 50%|█████     | 1/2 [00:00<00:00,  3.33it/s]\r",
      "100%|██████████| 2/2 [00:00<00:00,  5.18it/s]\n"
     ]
    },
    {
     "name": "stdout",
     "output_type": "stream",
     "text": [
      "=> result\n",
      "* total: 106\n",
      "* correct: 50\n",
      "* accuracy: 47.2%\n",
      "* error: 52.8%\n",
      "* macro_f1: 32.3%\n",
      "epoch [952/1000] batch [20/44] time 0.039 (0.055) data 0.000 (0.015) loss 0.3486 (0.5308) lr 2.1545e-05 eta 0:01:57\n",
      "epoch [952/1000] batch [40/44] time 0.037 (0.047) data 0.000 (0.007) loss 0.6440 (0.5420) lr 2.1545e-05 eta 0:01:39\n",
      "Evaluate on the *val* set\n"
     ]
    },
    {
     "name": "stderr",
     "output_type": "stream",
     "text": [
      "\r",
      "  0%|          | 0/2 [00:00<?, ?it/s]\r",
      " 50%|█████     | 1/2 [00:00<00:00,  3.35it/s]\r",
      "100%|██████████| 2/2 [00:00<00:00,  5.29it/s]\n"
     ]
    },
    {
     "name": "stdout",
     "output_type": "stream",
     "text": [
      "=> result\n",
      "* total: 106\n",
      "* correct: 49\n",
      "* accuracy: 46.2%\n",
      "* error: 53.8%\n",
      "* macro_f1: 31.6%\n",
      "epoch [953/1000] batch [20/44] time 0.039 (0.057) data 0.000 (0.015) loss 0.8906 (0.5773) lr 2.0694e-05 eta 0:01:58\n",
      "epoch [953/1000] batch [40/44] time 0.034 (0.048) data 0.000 (0.008) loss 0.8281 (0.5459) lr 2.0694e-05 eta 0:01:40\n",
      "Evaluate on the *val* set\n"
     ]
    },
    {
     "name": "stderr",
     "output_type": "stream",
     "text": [
      "\r",
      "  0%|          | 0/2 [00:00<?, ?it/s]\r",
      " 50%|█████     | 1/2 [00:00<00:00,  3.25it/s]\r",
      "100%|██████████| 2/2 [00:00<00:00,  4.99it/s]\n"
     ]
    },
    {
     "name": "stdout",
     "output_type": "stream",
     "text": [
      "=> result\n",
      "* total: 106\n",
      "* correct: 50\n",
      "* accuracy: 47.2%\n",
      "* error: 52.8%\n",
      "* macro_f1: 32.3%\n",
      "epoch [954/1000] batch [20/44] time 0.038 (0.054) data 0.000 (0.014) loss 0.5439 (0.4870) lr 1.9859e-05 eta 0:01:49\n",
      "epoch [954/1000] batch [40/44] time 0.041 (0.047) data 0.000 (0.007) loss 0.6216 (0.5430) lr 1.9859e-05 eta 0:01:35\n",
      "Evaluate on the *val* set\n"
     ]
    },
    {
     "name": "stderr",
     "output_type": "stream",
     "text": [
      "\r",
      "  0%|          | 0/2 [00:00<?, ?it/s]\r",
      " 50%|█████     | 1/2 [00:00<00:00,  3.30it/s]\r",
      "100%|██████████| 2/2 [00:00<00:00,  5.23it/s]\n"
     ]
    },
    {
     "name": "stdout",
     "output_type": "stream",
     "text": [
      "=> result\n",
      "* total: 106\n",
      "* correct: 50\n",
      "* accuracy: 47.2%\n",
      "* error: 52.8%\n",
      "* macro_f1: 32.3%\n",
      "epoch [955/1000] batch [20/44] time 0.039 (0.055) data 0.000 (0.015) loss 0.3887 (0.4658) lr 1.9042e-05 eta 0:01:50\n",
      "epoch [955/1000] batch [40/44] time 0.038 (0.048) data 0.000 (0.007) loss 0.3882 (0.5124) lr 1.9042e-05 eta 0:01:34\n",
      "Evaluate on the *val* set\n"
     ]
    },
    {
     "name": "stderr",
     "output_type": "stream",
     "text": [
      "\r",
      "  0%|          | 0/2 [00:00<?, ?it/s]\r",
      " 50%|█████     | 1/2 [00:00<00:00,  3.30it/s]\r",
      "100%|██████████| 2/2 [00:00<00:00,  5.22it/s]\n"
     ]
    },
    {
     "name": "stdout",
     "output_type": "stream",
     "text": [
      "=> result\n",
      "* total: 106\n",
      "* correct: 50\n",
      "* accuracy: 47.2%\n",
      "* error: 52.8%\n",
      "* macro_f1: 32.3%\n",
      "epoch [956/1000] batch [20/44] time 0.037 (0.055) data 0.000 (0.014) loss 0.4048 (0.5129) lr 1.8242e-05 eta 0:01:48\n",
      "epoch [956/1000] batch [40/44] time 0.040 (0.047) data 0.000 (0.007) loss 0.5044 (0.5474) lr 1.8242e-05 eta 0:01:32\n",
      "Evaluate on the *val* set\n"
     ]
    },
    {
     "name": "stderr",
     "output_type": "stream",
     "text": [
      "\r",
      "  0%|          | 0/2 [00:00<?, ?it/s]\r",
      " 50%|█████     | 1/2 [00:00<00:00,  3.21it/s]\r",
      "100%|██████████| 2/2 [00:00<00:00,  5.08it/s]\n"
     ]
    },
    {
     "name": "stdout",
     "output_type": "stream",
     "text": [
      "=> result\n",
      "* total: 106\n",
      "* correct: 50\n",
      "* accuracy: 47.2%\n",
      "* error: 52.8%\n",
      "* macro_f1: 32.3%\n",
      "epoch [957/1000] batch [20/44] time 0.041 (0.056) data 0.000 (0.014) loss 0.2266 (0.5270) lr 1.7459e-05 eta 0:01:47\n",
      "epoch [957/1000] batch [40/44] time 0.039 (0.048) data 0.000 (0.007) loss 0.5947 (0.5289) lr 1.7459e-05 eta 0:01:31\n",
      "Evaluate on the *val* set\n"
     ]
    },
    {
     "name": "stderr",
     "output_type": "stream",
     "text": [
      "\r",
      "  0%|          | 0/2 [00:00<?, ?it/s]\r",
      " 50%|█████     | 1/2 [00:00<00:00,  3.31it/s]\r",
      "100%|██████████| 2/2 [00:00<00:00,  5.10it/s]\n"
     ]
    },
    {
     "name": "stdout",
     "output_type": "stream",
     "text": [
      "=> result\n",
      "* total: 106\n",
      "* correct: 49\n",
      "* accuracy: 46.2%\n",
      "* error: 53.8%\n",
      "* macro_f1: 31.6%\n",
      "epoch [958/1000] batch [20/44] time 0.042 (0.053) data 0.000 (0.014) loss 0.5312 (0.5032) lr 1.6693e-05 eta 0:01:39\n",
      "epoch [958/1000] batch [40/44] time 0.041 (0.047) data 0.000 (0.007) loss 0.3096 (0.5131) lr 1.6693e-05 eta 0:01:26\n",
      "Evaluate on the *val* set\n"
     ]
    },
    {
     "name": "stderr",
     "output_type": "stream",
     "text": [
      "\r",
      "  0%|          | 0/2 [00:00<?, ?it/s]\r",
      " 50%|█████     | 1/2 [00:00<00:00,  3.29it/s]\r",
      "100%|██████████| 2/2 [00:00<00:00,  5.13it/s]\n"
     ]
    },
    {
     "name": "stdout",
     "output_type": "stream",
     "text": [
      "=> result\n",
      "* total: 106\n",
      "* correct: 49\n",
      "* accuracy: 46.2%\n",
      "* error: 53.8%\n",
      "* macro_f1: 31.6%\n",
      "epoch [959/1000] batch [20/44] time 0.041 (0.057) data 0.000 (0.014) loss 0.2384 (0.5666) lr 1.5944e-05 eta 0:01:44\n",
      "epoch [959/1000] batch [40/44] time 0.042 (0.049) data 0.000 (0.007) loss 0.6934 (0.5381) lr 1.5944e-05 eta 0:01:28\n",
      "Evaluate on the *val* set\n"
     ]
    },
    {
     "name": "stderr",
     "output_type": "stream",
     "text": [
      "\r",
      "  0%|          | 0/2 [00:00<?, ?it/s]\r",
      " 50%|█████     | 1/2 [00:00<00:00,  3.28it/s]\r",
      "100%|██████████| 2/2 [00:00<00:00,  5.17it/s]\n"
     ]
    },
    {
     "name": "stdout",
     "output_type": "stream",
     "text": [
      "=> result\n",
      "* total: 106\n",
      "* correct: 49\n",
      "* accuracy: 46.2%\n",
      "* error: 53.8%\n",
      "* macro_f1: 31.6%\n",
      "epoch [960/1000] batch [20/44] time 0.039 (0.055) data 0.000 (0.015) loss 0.4280 (0.5702) lr 1.5212e-05 eta 0:01:38\n",
      "epoch [960/1000] batch [40/44] time 0.041 (0.048) data 0.000 (0.008) loss 0.9663 (0.5277) lr 1.5212e-05 eta 0:01:24\n",
      "Evaluate on the *val* set\n"
     ]
    },
    {
     "name": "stderr",
     "output_type": "stream",
     "text": [
      "\r",
      "  0%|          | 0/2 [00:00<?, ?it/s]\r",
      " 50%|█████     | 1/2 [00:00<00:00,  3.33it/s]\r",
      "100%|██████████| 2/2 [00:00<00:00,  5.17it/s]\n"
     ]
    },
    {
     "name": "stdout",
     "output_type": "stream",
     "text": [
      "=> result\n",
      "* total: 106\n",
      "* correct: 49\n",
      "* accuracy: 46.2%\n",
      "* error: 53.8%\n",
      "* macro_f1: 31.6%\n",
      "epoch [961/1000] batch [20/44] time 0.040 (0.055) data 0.000 (0.015) loss 0.4148 (0.5746) lr 1.4497e-05 eta 0:01:36\n",
      "epoch [961/1000] batch [40/44] time 0.039 (0.048) data 0.000 (0.007) loss 0.5493 (0.5265) lr 1.4497e-05 eta 0:01:22\n",
      "Evaluate on the *val* set\n"
     ]
    },
    {
     "name": "stderr",
     "output_type": "stream",
     "text": [
      "\r",
      "  0%|          | 0/2 [00:00<?, ?it/s]\r",
      " 50%|█████     | 1/2 [00:00<00:00,  3.32it/s]\r",
      "100%|██████████| 2/2 [00:00<00:00,  5.26it/s]\n"
     ]
    },
    {
     "name": "stdout",
     "output_type": "stream",
     "text": [
      "=> result\n",
      "* total: 106\n",
      "* correct: 50\n",
      "* accuracy: 47.2%\n",
      "* error: 52.8%\n",
      "* macro_f1: 32.3%\n",
      "epoch [962/1000] batch [20/44] time 0.039 (0.056) data 0.000 (0.014) loss 0.3767 (0.4767) lr 1.3799e-05 eta 0:01:35\n",
      "epoch [962/1000] batch [40/44] time 0.041 (0.048) data 0.000 (0.007) loss 0.6694 (0.5245) lr 1.3799e-05 eta 0:01:20\n",
      "Evaluate on the *val* set\n"
     ]
    },
    {
     "name": "stderr",
     "output_type": "stream",
     "text": [
      "\r",
      "  0%|          | 0/2 [00:00<?, ?it/s]\r",
      " 50%|█████     | 1/2 [00:00<00:00,  3.23it/s]\r",
      "100%|██████████| 2/2 [00:00<00:00,  5.09it/s]\n"
     ]
    },
    {
     "name": "stdout",
     "output_type": "stream",
     "text": [
      "=> result\n",
      "* total: 106\n",
      "* correct: 50\n",
      "* accuracy: 47.2%\n",
      "* error: 52.8%\n",
      "* macro_f1: 32.3%\n",
      "epoch [963/1000] batch [20/44] time 0.041 (0.055) data 0.000 (0.014) loss 0.5527 (0.4721) lr 1.3119e-05 eta 0:01:31\n",
      "epoch [963/1000] batch [40/44] time 0.041 (0.048) data 0.000 (0.007) loss 1.3809 (0.5231) lr 1.3119e-05 eta 0:01:17\n",
      "Evaluate on the *val* set\n"
     ]
    },
    {
     "name": "stderr",
     "output_type": "stream",
     "text": [
      "\r",
      "  0%|          | 0/2 [00:00<?, ?it/s]\r",
      " 50%|█████     | 1/2 [00:00<00:00,  3.30it/s]\r",
      "100%|██████████| 2/2 [00:00<00:00,  5.10it/s]\n"
     ]
    },
    {
     "name": "stdout",
     "output_type": "stream",
     "text": [
      "=> result\n",
      "* total: 106\n",
      "* correct: 49\n",
      "* accuracy: 46.2%\n",
      "* error: 53.8%\n",
      "* macro_f1: 31.6%\n",
      "epoch [964/1000] batch [20/44] time 0.037 (0.059) data 0.000 (0.017) loss 0.6987 (0.4485) lr 1.2455e-05 eta 0:01:34\n",
      "epoch [964/1000] batch [40/44] time 0.041 (0.050) data 0.000 (0.008) loss 1.1250 (0.5376) lr 1.2455e-05 eta 0:01:19\n",
      "Evaluate on the *val* set\n"
     ]
    },
    {
     "name": "stderr",
     "output_type": "stream",
     "text": [
      "\r",
      "  0%|          | 0/2 [00:00<?, ?it/s]\r",
      " 50%|█████     | 1/2 [00:00<00:00,  3.28it/s]\r",
      "100%|██████████| 2/2 [00:00<00:00,  5.21it/s]\n"
     ]
    },
    {
     "name": "stdout",
     "output_type": "stream",
     "text": [
      "=> result\n",
      "* total: 106\n",
      "* correct: 50\n",
      "* accuracy: 47.2%\n",
      "* error: 52.8%\n",
      "* macro_f1: 32.3%\n",
      "epoch [965/1000] batch [20/44] time 0.040 (0.054) data 0.000 (0.014) loss 0.3789 (0.5589) lr 1.1809e-05 eta 0:01:25\n",
      "epoch [965/1000] batch [40/44] time 0.042 (0.047) data 0.000 (0.007) loss 0.2278 (0.5161) lr 1.1809e-05 eta 0:01:12\n",
      "Evaluate on the *val* set\n"
     ]
    },
    {
     "name": "stderr",
     "output_type": "stream",
     "text": [
      "\r",
      "  0%|          | 0/2 [00:00<?, ?it/s]\r",
      " 50%|█████     | 1/2 [00:00<00:00,  3.26it/s]\r",
      "100%|██████████| 2/2 [00:00<00:00,  5.08it/s]\n"
     ]
    },
    {
     "name": "stdout",
     "output_type": "stream",
     "text": [
      "=> result\n",
      "* total: 106\n",
      "* correct: 49\n",
      "* accuracy: 46.2%\n",
      "* error: 53.8%\n",
      "* macro_f1: 31.7%\n",
      "epoch [966/1000] batch [20/44] time 0.040 (0.057) data 0.000 (0.016) loss 0.4768 (0.5464) lr 1.1180e-05 eta 0:01:25\n",
      "epoch [966/1000] batch [40/44] time 0.042 (0.048) data 0.000 (0.008) loss 0.2407 (0.5380) lr 1.1180e-05 eta 0:01:12\n",
      "Evaluate on the *val* set\n"
     ]
    },
    {
     "name": "stderr",
     "output_type": "stream",
     "text": [
      "\r",
      "  0%|          | 0/2 [00:00<?, ?it/s]\r",
      " 50%|█████     | 1/2 [00:00<00:00,  3.11it/s]\r",
      "100%|██████████| 2/2 [00:00<00:00,  5.03it/s]\n"
     ]
    },
    {
     "name": "stdout",
     "output_type": "stream",
     "text": [
      "=> result\n",
      "* total: 106\n",
      "* correct: 49\n",
      "* accuracy: 46.2%\n",
      "* error: 53.8%\n",
      "* macro_f1: 31.6%\n",
      "epoch [967/1000] batch [20/44] time 0.036 (0.055) data 0.000 (0.014) loss 0.5039 (0.5026) lr 1.0568e-05 eta 0:01:21\n",
      "epoch [967/1000] batch [40/44] time 0.041 (0.047) data 0.000 (0.007) loss 0.5034 (0.5289) lr 1.0568e-05 eta 0:01:09\n",
      "Evaluate on the *val* set\n"
     ]
    },
    {
     "name": "stderr",
     "output_type": "stream",
     "text": [
      "\r",
      "  0%|          | 0/2 [00:00<?, ?it/s]\r",
      " 50%|█████     | 1/2 [00:00<00:00,  3.12it/s]\r",
      "100%|██████████| 2/2 [00:00<00:00,  5.02it/s]\n"
     ]
    },
    {
     "name": "stdout",
     "output_type": "stream",
     "text": [
      "=> result\n",
      "* total: 106\n",
      "* correct: 50\n",
      "* accuracy: 47.2%\n",
      "* error: 52.8%\n",
      "* macro_f1: 32.3%\n",
      "epoch [968/1000] batch [20/44] time 0.043 (0.057) data 0.000 (0.015) loss 0.4272 (0.4889) lr 9.9736e-06 eta 0:01:21\n",
      "epoch [968/1000] batch [40/44] time 0.043 (0.049) data 0.000 (0.007) loss 0.0662 (0.5398) lr 9.9736e-06 eta 0:01:08\n",
      "Evaluate on the *val* set\n"
     ]
    },
    {
     "name": "stderr",
     "output_type": "stream",
     "text": [
      "\r",
      "  0%|          | 0/2 [00:00<?, ?it/s]\r",
      " 50%|█████     | 1/2 [00:00<00:00,  3.24it/s]\r",
      "100%|██████████| 2/2 [00:00<00:00,  5.12it/s]\n"
     ]
    },
    {
     "name": "stdout",
     "output_type": "stream",
     "text": [
      "=> result\n",
      "* total: 106\n",
      "* correct: 50\n",
      "* accuracy: 47.2%\n",
      "* error: 52.8%\n",
      "* macro_f1: 32.3%\n",
      "epoch [969/1000] batch [20/44] time 0.043 (0.057) data 0.000 (0.016) loss 0.6504 (0.4910) lr 9.3961e-06 eta 0:01:18\n",
      "epoch [969/1000] batch [40/44] time 0.036 (0.048) data 0.000 (0.008) loss 0.3408 (0.5205) lr 9.3961e-06 eta 0:01:06\n",
      "Evaluate on the *val* set\n"
     ]
    },
    {
     "name": "stderr",
     "output_type": "stream",
     "text": [
      "\r",
      "  0%|          | 0/2 [00:00<?, ?it/s]\r",
      " 50%|█████     | 1/2 [00:00<00:00,  3.26it/s]\r",
      "100%|██████████| 2/2 [00:00<00:00,  5.09it/s]\n"
     ]
    },
    {
     "name": "stdout",
     "output_type": "stream",
     "text": [
      "=> result\n",
      "* total: 106\n",
      "* correct: 50\n",
      "* accuracy: 47.2%\n",
      "* error: 52.8%\n",
      "* macro_f1: 32.3%\n",
      "epoch [970/1000] batch [20/44] time 0.043 (0.056) data 0.000 (0.015) loss 0.6226 (0.5392) lr 8.8357e-06 eta 0:01:15\n",
      "epoch [970/1000] batch [40/44] time 0.041 (0.048) data 0.000 (0.007) loss 0.3484 (0.5225) lr 8.8357e-06 eta 0:01:03\n",
      "Evaluate on the *val* set\n"
     ]
    },
    {
     "name": "stderr",
     "output_type": "stream",
     "text": [
      "\r",
      "  0%|          | 0/2 [00:00<?, ?it/s]\r",
      " 50%|█████     | 1/2 [00:00<00:00,  3.13it/s]\r",
      "100%|██████████| 2/2 [00:00<00:00,  4.94it/s]\n"
     ]
    },
    {
     "name": "stdout",
     "output_type": "stream",
     "text": [
      "=> result\n",
      "* total: 106\n",
      "* correct: 50\n",
      "* accuracy: 47.2%\n",
      "* error: 52.8%\n",
      "* macro_f1: 32.3%\n",
      "epoch [971/1000] batch [20/44] time 0.042 (0.055) data 0.000 (0.015) loss 1.2090 (0.5631) lr 8.2925e-06 eta 0:01:11\n",
      "epoch [971/1000] batch [40/44] time 0.040 (0.048) data 0.000 (0.007) loss 0.3513 (0.5303) lr 8.2925e-06 eta 0:01:01\n",
      "Evaluate on the *val* set\n"
     ]
    },
    {
     "name": "stderr",
     "output_type": "stream",
     "text": [
      "\r",
      "  0%|          | 0/2 [00:00<?, ?it/s]\r",
      " 50%|█████     | 1/2 [00:00<00:00,  3.24it/s]\r",
      "100%|██████████| 2/2 [00:00<00:00,  5.15it/s]\n"
     ]
    },
    {
     "name": "stdout",
     "output_type": "stream",
     "text": [
      "=> result\n",
      "* total: 106\n",
      "* correct: 50\n",
      "* accuracy: 47.2%\n",
      "* error: 52.8%\n",
      "* macro_f1: 32.3%\n",
      "epoch [972/1000] batch [20/44] time 0.043 (0.055) data 0.000 (0.014) loss 0.2825 (0.5398) lr 7.7666e-06 eta 0:01:09\n",
      "epoch [972/1000] batch [40/44] time 0.039 (0.047) data 0.000 (0.007) loss 0.6768 (0.5363) lr 7.7666e-06 eta 0:00:58\n",
      "Evaluate on the *val* set\n"
     ]
    },
    {
     "name": "stderr",
     "output_type": "stream",
     "text": [
      "\r",
      "  0%|          | 0/2 [00:00<?, ?it/s]\r",
      " 50%|█████     | 1/2 [00:00<00:00,  3.25it/s]\r",
      "100%|██████████| 2/2 [00:00<00:00,  5.13it/s]\n"
     ]
    },
    {
     "name": "stdout",
     "output_type": "stream",
     "text": [
      "=> result\n",
      "* total: 106\n",
      "* correct: 50\n",
      "* accuracy: 47.2%\n",
      "* error: 52.8%\n",
      "* macro_f1: 32.3%\n",
      "epoch [973/1000] batch [20/44] time 0.041 (0.055) data 0.000 (0.015) loss 0.1244 (0.4560) lr 7.2578e-06 eta 0:01:07\n",
      "epoch [973/1000] batch [40/44] time 0.042 (0.048) data 0.000 (0.007) loss 0.6880 (0.5223) lr 7.2578e-06 eta 0:00:57\n",
      "Evaluate on the *val* set\n"
     ]
    },
    {
     "name": "stderr",
     "output_type": "stream",
     "text": [
      "\r",
      "  0%|          | 0/2 [00:00<?, ?it/s]\r",
      " 50%|█████     | 1/2 [00:00<00:00,  3.32it/s]\r",
      "100%|██████████| 2/2 [00:00<00:00,  5.25it/s]\n"
     ]
    },
    {
     "name": "stdout",
     "output_type": "stream",
     "text": [
      "=> result\n",
      "* total: 106\n",
      "* correct: 49\n",
      "* accuracy: 46.2%\n",
      "* error: 53.8%\n",
      "* macro_f1: 31.6%\n",
      "epoch [974/1000] batch [20/44] time 0.042 (0.057) data 0.000 (0.016) loss 0.8403 (0.5797) lr 6.7662e-06 eta 0:01:06\n",
      "epoch [974/1000] batch [40/44] time 0.039 (0.049) data 0.000 (0.008) loss 0.6284 (0.5419) lr 6.7662e-06 eta 0:00:56\n",
      "Evaluate on the *val* set\n"
     ]
    },
    {
     "name": "stderr",
     "output_type": "stream",
     "text": [
      "\r",
      "  0%|          | 0/2 [00:00<?, ?it/s]\r",
      " 50%|█████     | 1/2 [00:00<00:00,  3.23it/s]\r",
      "100%|██████████| 2/2 [00:00<00:00,  5.06it/s]\n"
     ]
    },
    {
     "name": "stdout",
     "output_type": "stream",
     "text": [
      "=> result\n",
      "* total: 106\n",
      "* correct: 49\n",
      "* accuracy: 46.2%\n",
      "* error: 53.8%\n",
      "* macro_f1: 31.6%\n",
      "epoch [975/1000] batch [20/44] time 0.044 (0.056) data 0.000 (0.014) loss 0.1616 (0.5084) lr 6.2918e-06 eta 0:01:02\n",
      "epoch [975/1000] batch [40/44] time 0.042 (0.048) data 0.000 (0.007) loss 0.5054 (0.5334) lr 6.2918e-06 eta 0:00:52\n",
      "Evaluate on the *val* set\n"
     ]
    },
    {
     "name": "stderr",
     "output_type": "stream",
     "text": [
      "\r",
      "  0%|          | 0/2 [00:00<?, ?it/s]\r",
      " 50%|█████     | 1/2 [00:00<00:00,  3.15it/s]\r",
      "100%|██████████| 2/2 [00:00<00:00,  5.10it/s]\n"
     ]
    },
    {
     "name": "stdout",
     "output_type": "stream",
     "text": [
      "=> result\n",
      "* total: 106\n",
      "* correct: 50\n",
      "* accuracy: 47.2%\n",
      "* error: 52.8%\n",
      "* macro_f1: 32.3%\n",
      "epoch [976/1000] batch [20/44] time 0.040 (0.054) data 0.000 (0.014) loss 0.5190 (0.5478) lr 5.8346e-06 eta 0:00:58\n",
      "epoch [976/1000] batch [40/44] time 0.042 (0.047) data 0.000 (0.007) loss 0.8271 (0.5279) lr 5.8346e-06 eta 0:00:49\n",
      "Evaluate on the *val* set\n"
     ]
    },
    {
     "name": "stderr",
     "output_type": "stream",
     "text": [
      "\r",
      "  0%|          | 0/2 [00:00<?, ?it/s]\r",
      " 50%|█████     | 1/2 [00:00<00:00,  3.22it/s]\r",
      "100%|██████████| 2/2 [00:00<00:00,  5.30it/s]\n"
     ]
    },
    {
     "name": "stdout",
     "output_type": "stream",
     "text": [
      "=> result\n",
      "* total: 106\n",
      "* correct: 50\n",
      "* accuracy: 47.2%\n",
      "* error: 52.8%\n",
      "* macro_f1: 32.3%\n",
      "epoch [977/1000] batch [20/44] time 0.044 (0.057) data 0.000 (0.015) loss 0.3054 (0.5388) lr 5.3947e-06 eta 0:00:59\n",
      "epoch [977/1000] batch [40/44] time 0.036 (0.049) data 0.000 (0.008) loss 0.7476 (0.5250) lr 5.3947e-06 eta 0:00:49\n",
      "Evaluate on the *val* set\n"
     ]
    },
    {
     "name": "stderr",
     "output_type": "stream",
     "text": [
      "\r",
      "  0%|          | 0/2 [00:00<?, ?it/s]\r",
      " 50%|█████     | 1/2 [00:00<00:00,  3.18it/s]\r",
      "100%|██████████| 2/2 [00:00<00:00,  5.14it/s]\n"
     ]
    },
    {
     "name": "stdout",
     "output_type": "stream",
     "text": [
      "=> result\n",
      "* total: 106\n",
      "* correct: 49\n",
      "* accuracy: 46.2%\n",
      "* error: 53.8%\n",
      "* macro_f1: 31.6%\n",
      "epoch [978/1000] batch [20/44] time 0.040 (0.059) data 0.000 (0.017) loss 0.6128 (0.4627) lr 4.9719e-06 eta 0:00:58\n",
      "epoch [978/1000] batch [40/44] time 0.039 (0.049) data 0.000 (0.009) loss 0.7134 (0.5188) lr 4.9719e-06 eta 0:00:47\n",
      "Evaluate on the *val* set\n"
     ]
    },
    {
     "name": "stderr",
     "output_type": "stream",
     "text": [
      "\r",
      "  0%|          | 0/2 [00:00<?, ?it/s]\r",
      " 50%|█████     | 1/2 [00:00<00:00,  3.25it/s]\r",
      "100%|██████████| 2/2 [00:00<00:00,  5.14it/s]\n"
     ]
    },
    {
     "name": "stdout",
     "output_type": "stream",
     "text": [
      "=> result\n",
      "* total: 106\n",
      "* correct: 49\n",
      "* accuracy: 46.2%\n",
      "* error: 53.8%\n",
      "* macro_f1: 31.6%\n",
      "epoch [979/1000] batch [20/44] time 0.044 (0.055) data 0.000 (0.014) loss 0.4941 (0.5222) lr 4.5664e-06 eta 0:00:52\n",
      "epoch [979/1000] batch [40/44] time 0.036 (0.048) data 0.000 (0.007) loss 0.5830 (0.5270) lr 4.5664e-06 eta 0:00:44\n",
      "Evaluate on the *val* set\n"
     ]
    },
    {
     "name": "stderr",
     "output_type": "stream",
     "text": [
      "\r",
      "  0%|          | 0/2 [00:00<?, ?it/s]\r",
      " 50%|█████     | 1/2 [00:00<00:00,  3.26it/s]\r",
      "100%|██████████| 2/2 [00:00<00:00,  5.07it/s]\n"
     ]
    },
    {
     "name": "stdout",
     "output_type": "stream",
     "text": [
      "=> result\n",
      "* total: 106\n",
      "* correct: 50\n",
      "* accuracy: 47.2%\n",
      "* error: 52.8%\n",
      "* macro_f1: 32.3%\n",
      "epoch [980/1000] batch [20/44] time 0.042 (0.056) data 0.000 (0.015) loss 0.2284 (0.5197) lr 4.1781e-06 eta 0:00:50\n",
      "epoch [980/1000] batch [40/44] time 0.037 (0.047) data 0.000 (0.008) loss 0.1687 (0.5206) lr 4.1781e-06 eta 0:00:41\n",
      "Evaluate on the *val* set\n"
     ]
    },
    {
     "name": "stderr",
     "output_type": "stream",
     "text": [
      "\r",
      "  0%|          | 0/2 [00:00<?, ?it/s]\r",
      " 50%|█████     | 1/2 [00:00<00:00,  3.31it/s]\r",
      "100%|██████████| 2/2 [00:00<00:00,  5.20it/s]\n"
     ]
    },
    {
     "name": "stdout",
     "output_type": "stream",
     "text": [
      "=> result\n",
      "* total: 106\n",
      "* correct: 50\n",
      "* accuracy: 47.2%\n",
      "* error: 52.8%\n",
      "* macro_f1: 32.3%\n",
      "epoch [981/1000] batch [20/44] time 0.038 (0.057) data 0.000 (0.016) loss 0.4004 (0.5153) lr 3.8071e-06 eta 0:00:49\n",
      "epoch [981/1000] batch [40/44] time 0.041 (0.048) data 0.000 (0.008) loss 0.9536 (0.5495) lr 3.8071e-06 eta 0:00:40\n",
      "Evaluate on the *val* set\n"
     ]
    },
    {
     "name": "stderr",
     "output_type": "stream",
     "text": [
      "\r",
      "  0%|          | 0/2 [00:00<?, ?it/s]\r",
      " 50%|█████     | 1/2 [00:00<00:00,  3.14it/s]\r",
      "100%|██████████| 2/2 [00:00<00:00,  5.00it/s]\n"
     ]
    },
    {
     "name": "stdout",
     "output_type": "stream",
     "text": [
      "=> result\n",
      "* total: 106\n",
      "* correct: 50\n",
      "* accuracy: 47.2%\n",
      "* error: 52.8%\n",
      "* macro_f1: 32.3%\n",
      "epoch [982/1000] batch [20/44] time 0.041 (0.056) data 0.000 (0.014) loss 0.3318 (0.5260) lr 3.4532e-06 eta 0:00:45\n",
      "epoch [982/1000] batch [40/44] time 0.038 (0.047) data 0.000 (0.007) loss 0.5132 (0.5324) lr 3.4532e-06 eta 0:00:37\n",
      "Evaluate on the *val* set\n"
     ]
    },
    {
     "name": "stderr",
     "output_type": "stream",
     "text": [
      "\r",
      "  0%|          | 0/2 [00:00<?, ?it/s]\r",
      " 50%|█████     | 1/2 [00:00<00:00,  3.21it/s]\r",
      "100%|██████████| 2/2 [00:00<00:00,  5.14it/s]\n"
     ]
    },
    {
     "name": "stdout",
     "output_type": "stream",
     "text": [
      "=> result\n",
      "* total: 106\n",
      "* correct: 49\n",
      "* accuracy: 46.2%\n",
      "* error: 53.8%\n",
      "* macro_f1: 31.6%\n",
      "epoch [983/1000] batch [20/44] time 0.040 (0.055) data 0.000 (0.015) loss 0.6353 (0.5115) lr 3.1166e-06 eta 0:00:42\n",
      "epoch [983/1000] batch [40/44] time 0.038 (0.047) data 0.000 (0.008) loss 0.4526 (0.5285) lr 3.1166e-06 eta 0:00:35\n",
      "Evaluate on the *val* set\n"
     ]
    },
    {
     "name": "stderr",
     "output_type": "stream",
     "text": [
      "\r",
      "  0%|          | 0/2 [00:00<?, ?it/s]\r",
      " 50%|█████     | 1/2 [00:00<00:00,  3.25it/s]\r",
      "100%|██████████| 2/2 [00:00<00:00,  5.04it/s]\n"
     ]
    },
    {
     "name": "stdout",
     "output_type": "stream",
     "text": [
      "=> result\n",
      "* total: 106\n",
      "* correct: 49\n",
      "* accuracy: 46.2%\n",
      "* error: 53.8%\n",
      "* macro_f1: 31.6%\n",
      "epoch [984/1000] batch [20/44] time 0.035 (0.050) data 0.000 (0.014) loss 0.2115 (0.5410) lr 2.7973e-06 eta 0:00:36\n",
      "epoch [984/1000] batch [40/44] time 0.040 (0.044) data 0.000 (0.007) loss 0.9048 (0.5167) lr 2.7973e-06 eta 0:00:31\n",
      "Evaluate on the *val* set\n"
     ]
    },
    {
     "name": "stderr",
     "output_type": "stream",
     "text": [
      "\r",
      "  0%|          | 0/2 [00:00<?, ?it/s]\r",
      " 50%|█████     | 1/2 [00:00<00:00,  3.26it/s]\r",
      "100%|██████████| 2/2 [00:00<00:00,  5.19it/s]\n"
     ]
    },
    {
     "name": "stdout",
     "output_type": "stream",
     "text": [
      "=> result\n",
      "* total: 106\n",
      "* correct: 49\n",
      "* accuracy: 46.2%\n",
      "* error: 53.8%\n",
      "* macro_f1: 31.6%\n",
      "epoch [985/1000] batch [20/44] time 0.041 (0.055) data 0.000 (0.015) loss 0.3469 (0.5237) lr 2.4952e-06 eta 0:00:37\n",
      "epoch [985/1000] batch [40/44] time 0.037 (0.048) data 0.000 (0.007) loss 0.6914 (0.5367) lr 2.4952e-06 eta 0:00:31\n",
      "Evaluate on the *val* set\n"
     ]
    },
    {
     "name": "stderr",
     "output_type": "stream",
     "text": [
      "\r",
      "  0%|          | 0/2 [00:00<?, ?it/s]\r",
      " 50%|█████     | 1/2 [00:00<00:00,  3.31it/s]\r",
      "100%|██████████| 2/2 [00:00<00:00,  5.26it/s]\n"
     ]
    },
    {
     "name": "stdout",
     "output_type": "stream",
     "text": [
      "=> result\n",
      "* total: 106\n",
      "* correct: 49\n",
      "* accuracy: 46.2%\n",
      "* error: 53.8%\n",
      "* macro_f1: 31.7%\n",
      "epoch [986/1000] batch [20/44] time 0.040 (0.055) data 0.000 (0.014) loss 0.4714 (0.5148) lr 2.2103e-06 eta 0:00:35\n",
      "epoch [986/1000] batch [40/44] time 0.031 (0.046) data 0.000 (0.007) loss 0.7554 (0.5374) lr 2.2103e-06 eta 0:00:28\n",
      "Evaluate on the *val* set\n"
     ]
    },
    {
     "name": "stderr",
     "output_type": "stream",
     "text": [
      "\r",
      "  0%|          | 0/2 [00:00<?, ?it/s]\r",
      " 50%|█████     | 1/2 [00:00<00:00,  3.21it/s]\r",
      "100%|██████████| 2/2 [00:00<00:00,  5.06it/s]\n"
     ]
    },
    {
     "name": "stdout",
     "output_type": "stream",
     "text": [
      "=> result\n",
      "* total: 106\n",
      "* correct: 50\n",
      "* accuracy: 47.2%\n",
      "* error: 52.8%\n",
      "* macro_f1: 32.3%\n",
      "epoch [987/1000] batch [20/44] time 0.039 (0.055) data 0.000 (0.014) loss 0.7300 (0.4813) lr 1.9427e-06 eta 0:00:32\n",
      "epoch [987/1000] batch [40/44] time 0.041 (0.047) data 0.000 (0.007) loss 0.9175 (0.5155) lr 1.9427e-06 eta 0:00:27\n",
      "Evaluate on the *val* set\n"
     ]
    },
    {
     "name": "stderr",
     "output_type": "stream",
     "text": [
      "\r",
      "  0%|          | 0/2 [00:00<?, ?it/s]\r",
      " 50%|█████     | 1/2 [00:00<00:00,  3.18it/s]\r",
      "100%|██████████| 2/2 [00:00<00:00,  4.99it/s]\n"
     ]
    },
    {
     "name": "stdout",
     "output_type": "stream",
     "text": [
      "=> result\n",
      "* total: 106\n",
      "* correct: 50\n",
      "* accuracy: 47.2%\n",
      "* error: 52.8%\n",
      "* macro_f1: 32.3%\n",
      "epoch [988/1000] batch [20/44] time 0.041 (0.057) data 0.000 (0.014) loss 1.4482 (0.5222) lr 1.6924e-06 eta 0:00:31\n",
      "epoch [988/1000] batch [40/44] time 0.042 (0.049) data 0.000 (0.007) loss 0.5640 (0.5218) lr 1.6924e-06 eta 0:00:25\n",
      "Evaluate on the *val* set\n"
     ]
    },
    {
     "name": "stderr",
     "output_type": "stream",
     "text": [
      "\r",
      "  0%|          | 0/2 [00:00<?, ?it/s]\r",
      " 50%|█████     | 1/2 [00:00<00:00,  3.25it/s]\r",
      "100%|██████████| 2/2 [00:00<00:00,  5.00it/s]\n"
     ]
    },
    {
     "name": "stdout",
     "output_type": "stream",
     "text": [
      "=> result\n",
      "* total: 106\n",
      "* correct: 50\n",
      "* accuracy: 47.2%\n",
      "* error: 52.8%\n",
      "* macro_f1: 32.3%\n",
      "epoch [989/1000] batch [20/44] time 0.043 (0.057) data 0.000 (0.014) loss 0.5122 (0.5279) lr 1.4593e-06 eta 0:00:28\n",
      "epoch [989/1000] batch [40/44] time 0.039 (0.048) data 0.000 (0.007) loss 0.4189 (0.5140) lr 1.4593e-06 eta 0:00:23\n",
      "Evaluate on the *val* set\n"
     ]
    },
    {
     "name": "stderr",
     "output_type": "stream",
     "text": [
      "\r",
      "  0%|          | 0/2 [00:00<?, ?it/s]\r",
      " 50%|█████     | 1/2 [00:00<00:00,  3.31it/s]\r",
      "100%|██████████| 2/2 [00:00<00:00,  5.33it/s]\n"
     ]
    },
    {
     "name": "stdout",
     "output_type": "stream",
     "text": [
      "=> result\n",
      "* total: 106\n",
      "* correct: 49\n",
      "* accuracy: 46.2%\n",
      "* error: 53.8%\n",
      "* macro_f1: 31.6%\n",
      "epoch [990/1000] batch [20/44] time 0.043 (0.058) data 0.000 (0.016) loss 0.3853 (0.5100) lr 1.2434e-06 eta 0:00:26\n",
      "epoch [990/1000] batch [40/44] time 0.041 (0.049) data 0.000 (0.008) loss 1.1514 (0.5124) lr 1.2434e-06 eta 0:00:21\n",
      "Evaluate on the *val* set\n"
     ]
    },
    {
     "name": "stderr",
     "output_type": "stream",
     "text": [
      "\r",
      "  0%|          | 0/2 [00:00<?, ?it/s]\r",
      " 50%|█████     | 1/2 [00:00<00:00,  3.19it/s]\r",
      "100%|██████████| 2/2 [00:00<00:00,  5.10it/s]\n"
     ]
    },
    {
     "name": "stdout",
     "output_type": "stream",
     "text": [
      "=> result\n",
      "* total: 106\n",
      "* correct: 49\n",
      "* accuracy: 46.2%\n",
      "* error: 53.8%\n",
      "* macro_f1: 31.7%\n",
      "epoch [991/1000] batch [20/44] time 0.044 (0.056) data 0.000 (0.014) loss 0.6006 (0.5142) lr 1.0448e-06 eta 0:00:23\n",
      "epoch [991/1000] batch [40/44] time 0.041 (0.048) data 0.000 (0.007) loss 0.4419 (0.5179) lr 1.0448e-06 eta 0:00:19\n",
      "Evaluate on the *val* set\n"
     ]
    },
    {
     "name": "stderr",
     "output_type": "stream",
     "text": [
      "\r",
      "  0%|          | 0/2 [00:00<?, ?it/s]\r",
      " 50%|█████     | 1/2 [00:00<00:00,  3.31it/s]\r",
      "100%|██████████| 2/2 [00:00<00:00,  5.25it/s]\n"
     ]
    },
    {
     "name": "stdout",
     "output_type": "stream",
     "text": [
      "=> result\n",
      "* total: 106\n",
      "* correct: 49\n",
      "* accuracy: 46.2%\n",
      "* error: 53.8%\n",
      "* macro_f1: 31.7%\n",
      "epoch [992/1000] batch [20/44] time 0.042 (0.058) data 0.000 (0.017) loss 0.6089 (0.5235) lr 8.6352e-07 eta 0:00:21\n",
      "epoch [992/1000] batch [40/44] time 0.041 (0.050) data 0.000 (0.009) loss 0.1882 (0.4973) lr 8.6352e-07 eta 0:00:17\n",
      "Evaluate on the *val* set\n"
     ]
    },
    {
     "name": "stderr",
     "output_type": "stream",
     "text": [
      "\r",
      "  0%|          | 0/2 [00:00<?, ?it/s]\r",
      " 50%|█████     | 1/2 [00:00<00:00,  3.26it/s]\r",
      "100%|██████████| 2/2 [00:00<00:00,  5.19it/s]\n"
     ]
    },
    {
     "name": "stdout",
     "output_type": "stream",
     "text": [
      "=> result\n",
      "* total: 106\n",
      "* correct: 49\n",
      "* accuracy: 46.2%\n",
      "* error: 53.8%\n",
      "* macro_f1: 31.7%\n",
      "epoch [993/1000] batch [20/44] time 0.043 (0.057) data 0.000 (0.015) loss 0.9766 (0.5755) lr 6.9946e-07 eta 0:00:18\n",
      "epoch [993/1000] batch [40/44] time 0.042 (0.049) data 0.000 (0.008) loss 0.3792 (0.5409) lr 6.9946e-07 eta 0:00:15\n",
      "Evaluate on the *val* set\n"
     ]
    },
    {
     "name": "stderr",
     "output_type": "stream",
     "text": [
      "\r",
      "  0%|          | 0/2 [00:00<?, ?it/s]\r",
      " 50%|█████     | 1/2 [00:00<00:00,  3.21it/s]\r",
      "100%|██████████| 2/2 [00:00<00:00,  5.04it/s]\n"
     ]
    },
    {
     "name": "stdout",
     "output_type": "stream",
     "text": [
      "=> result\n",
      "* total: 106\n",
      "* correct: 49\n",
      "* accuracy: 46.2%\n",
      "* error: 53.8%\n",
      "* macro_f1: 31.7%\n",
      "epoch [994/1000] batch [20/44] time 0.037 (0.056) data 0.000 (0.015) loss 0.1235 (0.5099) lr 5.5267e-07 eta 0:00:16\n",
      "epoch [994/1000] batch [40/44] time 0.042 (0.047) data 0.000 (0.007) loss 0.5400 (0.5265) lr 5.5267e-07 eta 0:00:12\n",
      "Evaluate on the *val* set\n"
     ]
    },
    {
     "name": "stderr",
     "output_type": "stream",
     "text": [
      "\r",
      "  0%|          | 0/2 [00:00<?, ?it/s]\r",
      " 50%|█████     | 1/2 [00:00<00:00,  3.32it/s]\r",
      "100%|██████████| 2/2 [00:00<00:00,  5.02it/s]\n"
     ]
    },
    {
     "name": "stdout",
     "output_type": "stream",
     "text": [
      "=> result\n",
      "* total: 106\n",
      "* correct: 49\n",
      "* accuracy: 46.2%\n",
      "* error: 53.8%\n",
      "* macro_f1: 31.6%\n",
      "epoch [995/1000] batch [20/44] time 0.041 (0.058) data 0.000 (0.015) loss 0.8408 (0.5741) lr 4.2314e-07 eta 0:00:14\n",
      "epoch [995/1000] batch [40/44] time 0.043 (0.049) data 0.000 (0.008) loss 0.3906 (0.5008) lr 4.2314e-07 eta 0:00:10\n",
      "Evaluate on the *val* set\n"
     ]
    },
    {
     "name": "stderr",
     "output_type": "stream",
     "text": [
      "\r",
      "  0%|          | 0/2 [00:00<?, ?it/s]\r",
      " 50%|█████     | 1/2 [00:00<00:00,  3.27it/s]\r",
      "100%|██████████| 2/2 [00:00<00:00,  5.07it/s]\n"
     ]
    },
    {
     "name": "stdout",
     "output_type": "stream",
     "text": [
      "=> result\n",
      "* total: 106\n",
      "* correct: 49\n",
      "* accuracy: 46.2%\n",
      "* error: 53.8%\n",
      "* macro_f1: 31.6%\n",
      "epoch [996/1000] batch [20/44] time 0.040 (0.057) data 0.000 (0.016) loss 0.4763 (0.5582) lr 3.1088e-07 eta 0:00:11\n",
      "epoch [996/1000] batch [40/44] time 0.031 (0.045) data 0.000 (0.008) loss 0.1951 (0.5255) lr 3.1088e-07 eta 0:00:08\n",
      "Evaluate on the *val* set\n"
     ]
    },
    {
     "name": "stderr",
     "output_type": "stream",
     "text": [
      "\r",
      "  0%|          | 0/2 [00:00<?, ?it/s]\r",
      " 50%|█████     | 1/2 [00:00<00:00,  3.24it/s]\r",
      "100%|██████████| 2/2 [00:00<00:00,  5.16it/s]\n"
     ]
    },
    {
     "name": "stdout",
     "output_type": "stream",
     "text": [
      "=> result\n",
      "* total: 106\n",
      "* correct: 50\n",
      "* accuracy: 47.2%\n",
      "* error: 52.8%\n",
      "* macro_f1: 32.3%\n",
      "epoch [997/1000] batch [20/44] time 0.044 (0.055) data 0.000 (0.014) loss 0.6543 (0.5408) lr 2.1589e-07 eta 0:00:08\n",
      "epoch [997/1000] batch [40/44] time 0.040 (0.048) data 0.000 (0.007) loss 0.1862 (0.4952) lr 2.1589e-07 eta 0:00:06\n",
      "Evaluate on the *val* set\n"
     ]
    },
    {
     "name": "stderr",
     "output_type": "stream",
     "text": [
      "\r",
      "  0%|          | 0/2 [00:00<?, ?it/s]\r",
      " 50%|█████     | 1/2 [00:00<00:00,  3.32it/s]\r",
      "100%|██████████| 2/2 [00:00<00:00,  5.18it/s]\n"
     ]
    },
    {
     "name": "stdout",
     "output_type": "stream",
     "text": [
      "=> result\n",
      "* total: 106\n",
      "* correct: 50\n",
      "* accuracy: 47.2%\n",
      "* error: 52.8%\n",
      "* macro_f1: 32.3%\n",
      "epoch [998/1000] batch [20/44] time 0.043 (0.057) data 0.000 (0.014) loss 0.4490 (0.6010) lr 1.3817e-07 eta 0:00:06\n",
      "epoch [998/1000] batch [40/44] time 0.038 (0.049) data 0.000 (0.007) loss 0.1302 (0.5325) lr 1.3817e-07 eta 0:00:04\n",
      "Evaluate on the *val* set\n"
     ]
    },
    {
     "name": "stderr",
     "output_type": "stream",
     "text": [
      "\r",
      "  0%|          | 0/2 [00:00<?, ?it/s]\r",
      " 50%|█████     | 1/2 [00:00<00:00,  3.29it/s]\r",
      "100%|██████████| 2/2 [00:00<00:00,  5.16it/s]\n"
     ]
    },
    {
     "name": "stdout",
     "output_type": "stream",
     "text": [
      "=> result\n",
      "* total: 106\n",
      "* correct: 49\n",
      "* accuracy: 46.2%\n",
      "* error: 53.8%\n",
      "* macro_f1: 31.6%\n",
      "epoch [999/1000] batch [20/44] time 0.038 (0.055) data 0.000 (0.015) loss 0.4619 (0.5120) lr 7.7723e-08 eta 0:00:03\n",
      "epoch [999/1000] batch [40/44] time 0.042 (0.048) data 0.000 (0.007) loss 0.2427 (0.5341) lr 7.7723e-08 eta 0:00:02\n",
      "Evaluate on the *val* set\n"
     ]
    },
    {
     "name": "stderr",
     "output_type": "stream",
     "text": [
      "\r",
      "  0%|          | 0/2 [00:00<?, ?it/s]\r",
      " 50%|█████     | 1/2 [00:00<00:00,  3.33it/s]\r",
      "100%|██████████| 2/2 [00:00<00:00,  5.32it/s]\n"
     ]
    },
    {
     "name": "stdout",
     "output_type": "stream",
     "text": [
      "=> result\n",
      "* total: 106\n",
      "* correct: 49\n",
      "* accuracy: 46.2%\n",
      "* error: 53.8%\n",
      "* macro_f1: 31.6%\n",
      "epoch [1000/1000] batch [20/44] time 0.036 (0.055) data 0.000 (0.014) loss 0.8169 (0.5173) lr 3.4544e-08 eta 0:00:01\n",
      "epoch [1000/1000] batch [40/44] time 0.038 (0.047) data 0.000 (0.007) loss 0.5620 (0.5268) lr 3.4544e-08 eta 0:00:00\n",
      "Evaluate on the *val* set\n"
     ]
    },
    {
     "name": "stderr",
     "output_type": "stream",
     "text": [
      "\r",
      "  0%|          | 0/2 [00:00<?, ?it/s]\r",
      " 50%|█████     | 1/2 [00:00<00:00,  3.25it/s]\r",
      "100%|██████████| 2/2 [00:00<00:00,  5.15it/s]\n"
     ]
    },
    {
     "name": "stdout",
     "output_type": "stream",
     "text": [
      "=> result\n",
      "* total: 106\n",
      "* correct: 49\n",
      "* accuracy: 46.2%\n",
      "* error: 53.8%\n",
      "* macro_f1: 31.7%\n",
      "Checkpoint saved to output/replica/MaPLePromptScene/vit_b16_c2_ep200_batch4_ctx4_depth12_cross_datasets_-1shots/seed1/MultiModalPromptSceneLearner/model.pth.tar-1000\n",
      "Finish training\n",
      "Deploy the model with the best val performance\n",
      "\n",
      "Loading weights to MultiModalPromptSceneLearner from output/replica/MaPLePromptScene/vit_b16_c2_ep200_batch4_ctx4_depth12_cross_datasets_-1shots/seed1/MultiModalPromptSceneLearner/model-best.pth.tar (epoch = 477)\n",
      "Number of deep prompt layers: 11\n",
      "Evaluate on the *test* set\n"
     ]
    },
    {
     "name": "stderr",
     "output_type": "stream",
     "text": [
      "\r",
      "  0%|          | 0/1 [00:00<?, ?it/s]\r",
      "100%|██████████| 1/1 [00:00<00:00,  3.24it/s]\r",
      "100%|██████████| 1/1 [00:00<00:00,  2.61it/s]\n"
     ]
    },
    {
     "name": "stdout",
     "output_type": "stream",
     "text": [
      "=> result\n",
      "* total: 83\n",
      "* correct: 46\n",
      "* accuracy: 55.4%\n",
      "* error: 44.6%\n",
      "* macro_f1: 33.1%\n",
      "Elapsed: 0:42:41\n"
     ]
    }
   ],
   "source": [
    "%%bash\n",
    "bash scripts/maple_prompt_scene/xd_train_maple_prompt_scene.sh replica 1 ../../dataset/data/ vit_b16_c2_ep200_batch4_ctx4_depth12_cross_datasets"
   ]
  },
  {
   "cell_type": "code",
   "execution_count": 1,
   "id": "3f2d2134",
   "metadata": {},
   "outputs": [
    {
     "name": "stderr",
     "output_type": "stream",
     "text": [
      "/cluster/54/nanriayaka/ml3d/models/multimodal-prompt-learning/clip/clip.py:23: UserWarning: PyTorch version 1.7.1 or higher is recommended\n",
      "  warnings.warn(\"PyTorch version 1.7.1 or higher is recommended\")\n"
     ]
    },
    {
     "name": "stdout",
     "output_type": "stream",
     "text": [
      "Complete prompts shape: torch.Size([48, 77, 512])\n",
      "Number of compound prompt layers: 11\n",
      "\n",
      "Encoded prompts shape: torch.Size([48, 512])\n",
      "Encoded prompts statistics:\n",
      "Mean: 0.001771\n",
      "Std: 0.044159\n",
      "Saved encoded prompts to replica_prompts.pt\n",
      "Shape: torch.Size([48, 512])\n",
      "Number of classes: 48\n"
     ]
    }
   ],
   "source": [
    "from reconstruct_prompts import PromptReconstructor\n",
    "import torch\n",
    "#\n",
    "## Define paths\n",
    "prompt_path = \"output/replica/MaPLePromptScene/vit_b16_c2_ep200_batch4_ctx4_depth12_cross_datasets_-1shots/seed1/learned_prompts/learned_prompts_final.pt\"\n",
    "output_path = \"replica_prompts.pt\"\n",
    "\n",
    "# Define class names\n",
    "class_names = [\"basket\", \"bed\", \"bench\", \"bin\", \"blanket\", \"blinds\", \"book\", \"bottle\", \"box\", \"bowl\", \"camera\", \"cabinet\", \"candle\", \"chair\", \"clock\", \"cloth\", \"comforter\", \"cushion\", \"desk\", \"desk-organizer\", \"door\", \"indoor-plant\", \"lamp\", \"monitor\", \"nightstand\", \"panel\", \"picture\", \"pillar\", \"pillow\", \"pipe\", \"plant-stand\", \"plate\", \"pot\", \"sculpture\", \"shelf\", \"sofa\", \"stool\", \"switch\", \"table\", \"tablet\", \"tissue-paper\", \"tv-screen\", \"tv-stand\", \"vase\", \"vent\", \"wall-plug\", \"window\", \"rug\"]\n",
    "\n",
    "# Create the reconstructor\n",
    "reconstructor = PromptReconstructor(prompt_path, class_names)\n",
    "\n",
    "# You can examine intermediate results if you want\n",
    "complete_prompts, compound_prompts = reconstructor.reconstruct_complete_prompts()\n",
    "print(\"Complete prompts shape:\", complete_prompts.shape)\n",
    "print(\"Number of compound prompt layers:\", len(compound_prompts))\n",
    "\n",
    "# Get the encoded prompts\n",
    "encoded_prompts = reconstructor.encode_prompts()\n",
    "print(\"\\nEncoded prompts shape:\", encoded_prompts.shape)\n",
    "print(\"Encoded prompts statistics:\")\n",
    "print(f\"Mean: {encoded_prompts.mean().item():.6f}\")\n",
    "print(f\"Std: {encoded_prompts.std().item():.6f}\")\n",
    "\n",
    "# Save the final results\n",
    "reconstructor.save_encoded_prompts(output_path)"
   ]
  },
  {
   "cell_type": "code",
   "execution_count": 13,
   "id": "9e68f2a2",
   "metadata": {
    "scrolled": true
   },
   "outputs": [
    {
     "name": "stdout",
     "output_type": "stream",
     "text": [
      "\n",
      "Inspecting prompts from: output/replica/MaPLePromptScene/vit_b16_c2_ep200_batch4_ctx4_depth12_cross_datasets_-1shots/seed1/learned_prompts/learned_prompts_final.pt\n",
      "\n",
      "=== Component Shapes ===\n",
      "ctx: shape=torch.Size([4, 512]), dtype=torch.float16, device=cuda:0\n",
      "token_prefix: shape=torch.Size([48, 1, 512]), dtype=torch.float16, device=cuda:0\n",
      "token_suffix: shape=torch.Size([48, 72, 512]), dtype=torch.float16, device=cuda:0\n",
      "n_ctx: <class 'int'>\n",
      "n_cls: <class 'int'>\n",
      "compound_prompts_text: 11 tensors of shape torch.Size([4, 512])\n",
      "tokenized_prompts: shape=torch.Size([48, 77]), dtype=torch.int64, device=cpu\n",
      "\n",
      "=== Context Vector Analysis ===\n",
      "Statistics:\n",
      "  Mean: 0.000149\n",
      "  Std:  0.053589\n",
      "  Min:  -0.328369\n",
      "  Max:  0.254883\n",
      "\n",
      "=== Compound Prompts Analysis ===\n",
      "\n",
      "Layer 0:\n",
      "  Shape: torch.Size([4, 512])\n",
      "  Mean:  -0.000305\n",
      "  Std:   0.098565\n",
      "  Range: [-0.491092, 0.527134]\n",
      "\n",
      "Layer 1:\n",
      "  Shape: torch.Size([4, 512])\n",
      "  Mean:  0.000472\n",
      "  Std:   0.116268\n",
      "  Range: [-0.488564, 0.473930]\n",
      "\n",
      "Layer 2:\n",
      "  Shape: torch.Size([4, 512])\n",
      "  Mean:  0.000539\n",
      "  Std:   0.085921\n",
      "  Range: [-0.272378, 0.351596]\n",
      "\n",
      "Layer 3:\n",
      "  Shape: torch.Size([4, 512])\n",
      "  Mean:  -0.000408\n",
      "  Std:   0.076624\n",
      "  Range: [-0.358038, 0.331360]\n",
      "\n",
      "Layer 4:\n",
      "  Shape: torch.Size([4, 512])\n",
      "  Mean:  0.000080\n",
      "  Std:   0.089314\n",
      "  Range: [-0.353119, 0.296670]\n",
      "\n",
      "Layer 5:\n",
      "  Shape: torch.Size([4, 512])\n",
      "  Mean:  0.000587\n",
      "  Std:   0.059005\n",
      "  Range: [-0.211361, 0.212069]\n",
      "\n",
      "Layer 6:\n",
      "  Shape: torch.Size([4, 512])\n",
      "  Mean:  0.000235\n",
      "  Std:   0.064989\n",
      "  Range: [-0.275115, 0.295190]\n",
      "\n",
      "Layer 7:\n",
      "  Shape: torch.Size([4, 512])\n",
      "  Mean:  -0.000528\n",
      "  Std:   0.071099\n",
      "  Range: [-0.285681, 0.279635]\n",
      "\n",
      "Layer 8:\n",
      "  Shape: torch.Size([4, 512])\n",
      "  Mean:  -0.000327\n",
      "  Std:   0.067086\n",
      "  Range: [-0.330471, 0.227750]\n",
      "\n",
      "Layer 9:\n",
      "  Shape: torch.Size([4, 512])\n",
      "  Mean:  0.000649\n",
      "  Std:   0.070477\n",
      "  Range: [-0.266547, 0.283370]\n",
      "\n",
      "Layer 10:\n",
      "  Shape: torch.Size([4, 512])\n",
      "  Mean:  -0.000384\n",
      "  Std:   0.088656\n",
      "  Range: [-0.297621, 0.266078]\n",
      "\n",
      "=== Token Structure ===\n",
      "Prefix tokens per class: 1\n",
      "Suffix tokens per class: 72\n",
      "\n",
      "Context vector correlations:\n",
      "tensor([[1.0000, 0.4185, 0.1882, 0.2910],\n",
      "        [0.4182, 0.9995, 0.5386, 0.3247],\n",
      "        [0.1882, 0.5386, 1.0000, 0.3872],\n",
      "        [0.2908, 0.3247, 0.3875, 1.0000]], device='cuda:0',\n",
      "       dtype=torch.float16)\n"
     ]
    }
   ],
   "source": [
    "from inspect_prompts import inspect_prompt_file\n",
    "import torch\n",
    "\n",
    "# output/replica/MaPLePromptScene/vit_b16_c2_ep200_batch4_ctx4_depth12_cross_datasets_-1shots/seed1/learned_prompts/learned_prompts_final.pt\n",
    "\n",
    "prompts = inspect_prompt_file(\"output/replica/MaPLePromptScene/vit_b16_c2_ep200_batch4_ctx4_depth12_cross_datasets_-1shots/seed1/learned_prompts/learned_prompts_final.pt\")\n",
    "ctx = prompts['ctx']\n",
    "correlation = torch.corrcoef(ctx)\n",
    "print(\"\\nContext vector correlations:\")\n",
    "print(correlation)"
   ]
  },
  {
   "cell_type": "code",
   "execution_count": 3,
   "id": "085a6465",
   "metadata": {},
   "outputs": [],
   "source": [
    "# !rm -r output/replica/MaPLePromptScene/vit_b16_c2_ep200_batch4_ctx4_depth12_cross_datasets_-1shots/seed1"
   ]
  },
  {
   "cell_type": "code",
   "execution_count": 2,
   "id": "fb54a22b",
   "metadata": {},
   "outputs": [
    {
     "name": "stdout",
     "output_type": "stream",
     "text": [
      "Run this job and save the output to output/evaluation/MaPLePromptScene/vit_b16_c2_ep200_batch4_ctx4_depth12_cross_datasets_-1shots/replica/seed1\n"
     ]
    },
    {
     "name": "stderr",
     "output_type": "stream",
     "text": [
      "/cluster/54/nanriayaka/ml3d/models/multimodal-prompt-learning/clip/clip.py:23: UserWarning: PyTorch version 1.7.1 or higher is recommended\n",
      "  warnings.warn(\"PyTorch version 1.7.1 or higher is recommended\")\n"
     ]
    },
    {
     "name": "stdout",
     "output_type": "stream",
     "text": [
      "Setting fixed seed: 1\n",
      "***************\n",
      "** Arguments **\n",
      "***************\n",
      "backbone: \n",
      "config_file: configs/trainers/MaPLePromptScene/vit_b16_c2_ep200_batch4_ctx4_depth12_cross_datasets.yaml\n",
      "dataset_config_file: configs/datasets/replica.yaml\n",
      "eval_only: True\n",
      "head: \n",
      "load_epoch: None\n",
      "model_dir: output/replica/MaPLePromptScene/vit_b16_c2_ep200_batch4_ctx4_depth12_cross_datasets_-1shots/seed1\n",
      "no_train: False\n",
      "opts: []\n",
      "output_dir: output/evaluation/MaPLePromptScene/vit_b16_c2_ep200_batch4_ctx4_depth12_cross_datasets_-1shots/replica/seed1\n",
      "resume: \n",
      "root: ../../dataset/data/\n",
      "seed: 1\n",
      "source_domains: None\n",
      "target_domains: None\n",
      "trainer: MaPLePromptScene\n",
      "transforms: None\n",
      "************\n",
      "** Config **\n",
      "************\n",
      "DATALOADER:\n",
      "  K_TRANSFORMS: 1\n",
      "  NUM_WORKERS: 8\n",
      "  RETURN_IMG0: False\n",
      "  TEST:\n",
      "    BATCH_SIZE: 100\n",
      "    SAMPLER: SequentialSampler\n",
      "  TRAIN_U:\n",
      "    BATCH_SIZE: 32\n",
      "    N_DOMAIN: 0\n",
      "    N_INS: 16\n",
      "    SAME_AS_X: True\n",
      "    SAMPLER: RandomSampler\n",
      "  TRAIN_X:\n",
      "    BATCH_SIZE: 4\n",
      "    N_DOMAIN: 0\n",
      "    N_INS: 16\n",
      "    SAMPLER: RandomSampler\n",
      "DATASET:\n",
      "  ALL_AS_UNLABELED: False\n",
      "  CIFAR_C_LEVEL: 1\n",
      "  CIFAR_C_TYPE: \n",
      "  NAME: Replica\n",
      "  NUM_LABELED: -1\n",
      "  NUM_SHOTS: -1\n",
      "  ROOT: ../../dataset/data/\n",
      "  SOURCE_DOMAINS: ()\n",
      "  STL10_FOLD: -1\n",
      "  SUBSAMPLE_CLASSES: all\n",
      "  TARGET_DOMAINS: ()\n",
      "  VAL_PERCENT: 0.1\n",
      "INPUT:\n",
      "  COLORJITTER_B: 0.4\n",
      "  COLORJITTER_C: 0.4\n",
      "  COLORJITTER_H: 0.1\n",
      "  COLORJITTER_S: 0.4\n",
      "  CROP_PADDING: 4\n",
      "  CUTOUT_LEN: 16\n",
      "  CUTOUT_N: 1\n",
      "  GB_K: 21\n",
      "  GB_P: 0.5\n",
      "  GN_MEAN: 0.0\n",
      "  GN_STD: 0.15\n",
      "  INTERPOLATION: bicubic\n",
      "  NO_TRANSFORM: False\n",
      "  PIXEL_MEAN: [0.48145466, 0.4578275, 0.40821073]\n",
      "  PIXEL_STD: [0.26862954, 0.26130258, 0.27577711]\n",
      "  RANDAUGMENT_M: 10\n",
      "  RANDAUGMENT_N: 2\n",
      "  RGS_P: 0.2\n",
      "  RRCROP_SCALE: (0.08, 1.0)\n",
      "  SIZE: (224, 224)\n",
      "  TRANSFORMS: ('random_resized_crop', 'random_flip', 'normalize')\n",
      "MODEL:\n",
      "  BACKBONE:\n",
      "    NAME: ViT-B/16\n",
      "    PRETRAINED: True\n",
      "  HEAD:\n",
      "    ACTIVATION: relu\n",
      "    BN: True\n",
      "    DROPOUT: 0.0\n",
      "    HIDDEN_LAYERS: ()\n",
      "    NAME: \n",
      "  INIT_WEIGHTS: \n",
      "OPTIM:\n",
      "  ADAM_BETA1: 0.9\n",
      "  ADAM_BETA2: 0.999\n",
      "  BASE_LR_MULT: 0.1\n",
      "  GAMMA: 0.1\n",
      "  LR: 0.0035\n",
      "  LR_SCHEDULER: cosine\n",
      "  MAX_EPOCH: 200\n",
      "  MOMENTUM: 0.9\n",
      "  NAME: sgd\n",
      "  NEW_LAYERS: ()\n",
      "  RMSPROP_ALPHA: 0.99\n",
      "  SGD_DAMPNING: 0\n",
      "  SGD_NESTEROV: False\n",
      "  STAGED_LR: False\n",
      "  STEPSIZE: (-1,)\n",
      "  WARMUP_CONS_LR: 1e-05\n",
      "  WARMUP_EPOCH: 1\n",
      "  WARMUP_MIN_LR: 1e-05\n",
      "  WARMUP_RECOUNT: True\n",
      "  WARMUP_TYPE: constant\n",
      "  WEIGHT_DECAY: 0.0005\n",
      "OUTPUT_DIR: output/evaluation/MaPLePromptScene/vit_b16_c2_ep200_batch4_ctx4_depth12_cross_datasets_-1shots/replica/seed1\n",
      "RESUME: \n",
      "SEED: 1\n",
      "TEST:\n",
      "  COMPUTE_CMAT: False\n",
      "  EVALUATOR: Classification\n",
      "  FINAL_MODEL: best_val\n",
      "  NO_TEST: False\n",
      "  PER_CLASS_RESULT: False\n",
      "  SPLIT: test\n",
      "TRAIN:\n",
      "  CHECKPOINT_FREQ: 0\n",
      "  COUNT_ITER: train_x\n",
      "  PRINT_FREQ: 20\n",
      "TRAINER:\n",
      "  CDAC:\n",
      "    CLASS_LR_MULTI: 10\n",
      "    P_THRESH: 0.95\n",
      "    RAMPUP_COEF: 30\n",
      "    RAMPUP_ITRS: 1000\n",
      "    STRONG_TRANSFORMS: ()\n",
      "    TOPK_MATCH: 5\n",
      "  COCOOP:\n",
      "    CTX_INIT: \n",
      "    N_CTX: 16\n",
      "    PREC: fp16\n",
      "  COOP:\n",
      "    CLASS_TOKEN_POSITION: end\n",
      "    CSC: False\n",
      "    CTX_INIT: \n",
      "    N_CTX: 16\n",
      "    PREC: fp16\n",
      "  CROSSGRAD:\n",
      "    ALPHA_D: 0.5\n",
      "    ALPHA_F: 0.5\n",
      "    EPS_D: 1.0\n",
      "    EPS_F: 1.0\n",
      "  DAEL:\n",
      "    CONF_THRE: 0.95\n",
      "    STRONG_TRANSFORMS: ()\n",
      "    WEIGHT_U: 0.5\n",
      "  DAELDG:\n",
      "    CONF_THRE: 0.95\n",
      "    STRONG_TRANSFORMS: ()\n",
      "    WEIGHT_U: 0.5\n",
      "  DDAIG:\n",
      "    ALPHA: 0.5\n",
      "    CLAMP: False\n",
      "    CLAMP_MAX: 1.0\n",
      "    CLAMP_MIN: -1.0\n",
      "    G_ARCH: \n",
      "    LMDA: 0.3\n",
      "    WARMUP: 0\n",
      "  DOMAINMIX:\n",
      "    ALPHA: 1.0\n",
      "    BETA: 1.0\n",
      "    TYPE: crossdomain\n",
      "  ENTMIN:\n",
      "    LMDA: 0.001\n",
      "  FIXMATCH:\n",
      "    CONF_THRE: 0.95\n",
      "    STRONG_TRANSFORMS: ()\n",
      "    WEIGHT_U: 1.0\n",
      "  IVLP:\n",
      "    CTX_INIT: a photo of a\n",
      "    N_CTX_TEXT: 2\n",
      "    N_CTX_VISION: 2\n",
      "    PREC: fp16\n",
      "    PROMPT_DEPTH_TEXT: 9\n",
      "    PROMPT_DEPTH_VISION: 9\n",
      "  M3SDA:\n",
      "    LMDA: 0.5\n",
      "    N_STEP_F: 4\n",
      "  MAPLE:\n",
      "    CTX_INIT: a photo of a\n",
      "    N_CTX: 2\n",
      "    PREC: fp16\n",
      "    PROMPT_DEPTH: 9\n",
      "  MAPLE_PROMPT_SCENE:\n",
      "    CTX_INIT: a photo of a {label}.\n",
      "    N_CTX: 4\n",
      "    PREC: fp16\n",
      "    PROMPT_DEPTH: 12\n",
      "  MCD:\n",
      "    N_STEP_F: 4\n",
      "  MEANTEACHER:\n",
      "    EMA_ALPHA: 0.999\n",
      "    RAMPUP: 5\n",
      "    WEIGHT_U: 1.0\n",
      "  MIXMATCH:\n",
      "    MIXUP_BETA: 0.75\n",
      "    RAMPUP: 20000\n",
      "    TEMP: 2.0\n",
      "    WEIGHT_U: 100.0\n",
      "  MME:\n",
      "    LMDA: 0.1\n",
      "  NAME: MaPLePromptScene\n",
      "  SE:\n",
      "    CONF_THRE: 0.95\n",
      "    EMA_ALPHA: 0.999\n",
      "    RAMPUP: 300\n",
      "  VPT:\n",
      "    CTX_INIT: a photo of a\n",
      "    N_CTX_VISION: 2\n",
      "    PREC: fp16\n",
      "    PROMPT_DEPTH_VISION: 1\n",
      "USE_CUDA: True\n",
      "VERBOSE: True\n",
      "VERSION: 1\n",
      "Collecting env info ...\n",
      "** System info **\n",
      "PyTorch version: 1.12.1+cu113\n",
      "Is debug build: False\n",
      "CUDA used to build PyTorch: 11.3\n",
      "ROCM used to build PyTorch: N/A\n",
      "\n",
      "OS: Ubuntu 20.04.4 LTS (x86_64)\n",
      "GCC version: (conda-forge gcc 9.5.0-17) 9.5.0\n",
      "Clang version: Could not collect\n",
      "CMake version: version 3.16.3\n",
      "Libc version: glibc-2.31\n",
      "\n",
      "Python version: 3.10.9 (main, Jan 11 2023, 15:21:40) [GCC 11.2.0] (64-bit runtime)\n",
      "Python platform: Linux-5.15.0-92-generic-x86_64-with-glibc2.31\n",
      "Is CUDA available: True\n",
      "CUDA runtime version: 11.3.122\n",
      "GPU models and configuration: GPU 0: NVIDIA GeForce RTX 3090\n",
      "Nvidia driver version: 525.147.05\n",
      "cuDNN version: Could not collect\n",
      "HIP runtime version: N/A\n",
      "MIOpen runtime version: N/A\n",
      "Is XNNPACK available: True\n",
      "\n",
      "Versions of relevant libraries:\n",
      "[pip3] mypy-extensions==1.0.0\n",
      "[pip3] numpy==1.24.2\n",
      "[pip3] pytorch-lightning==1.7.2\n",
      "[pip3] torch==1.12.1+cu113\n",
      "[pip3] torch-scatter==2.1.2\n",
      "[pip3] torchvision==0.13.1+cu113\n",
      "[conda] nomkl                     3.0                           0    anaconda\n",
      "[conda] numpy                     1.24.2                   pypi_0    pypi\n",
      "[conda] pytorch-lightning         1.7.2                    pypi_0    pypi\n",
      "[conda] torch                     1.12.1+cu113             pypi_0    pypi\n",
      "[conda] torch-scatter             2.1.2                    pypi_0    pypi\n",
      "[conda] torchvision               0.13.1+cu113             pypi_0    pypi\n",
      "        Pillow (9.5.0)\n",
      "\n",
      "Loading trainer: MaPLePromptScene\n",
      "Loading dataset: Replica\n",
      "[[ 0.16580392  0.42014274 -0.05035872 ... -1.3437905   0.06063112\n",
      "   0.38182712]\n",
      " [-0.14396423 -0.23980789 -0.03581798 ... -0.38452122 -0.27852157\n",
      "  -0.08892798]\n",
      " [-0.16517632 -0.08392607 -0.16438788 ... -0.38914844 -0.27581286\n",
      "  -0.05494805]\n",
      " ...\n",
      " [ 0.16474219  0.44753984 -0.06039088 ... -1.0437315   0.02224086\n",
      "   0.22220664]\n",
      " [-0.18075551 -0.35276285 -0.02773243 ... -0.42411137 -0.35918525\n",
      "  -0.08738346]\n",
      " [ 0.11741301  0.3667751  -0.21803148 ... -0.95950216 -0.00487911\n",
      "   0.30221578]]\n",
      "(100, 512)\n",
      "[[ 1.0492585   0.58256054 -0.79810715 ... -0.69788617  0.04951961\n",
      "  -1.1608106 ]\n",
      " [-0.05753413  0.2228871  -0.13225693 ... -0.6738755   0.02602124\n",
      "   0.02537858]\n",
      " [-0.18091743 -0.74941677  0.02806827 ... -0.34795663 -0.45708713\n",
      "  -0.10535818]\n",
      " ...\n",
      " [-0.41639286 -0.16208021 -0.24801876 ... -0.5737544  -0.3719646\n",
      "   0.01322712]\n",
      " [-0.46988183 -0.15147518 -0.26682517 ... -0.606382   -0.40134063\n",
      "   0.00511356]\n",
      " [-0.21550733 -0.47078982  0.0166251  ... -0.4229156  -0.42274767\n",
      "  -0.08106031]]\n",
      "(92, 512)\n",
      "-----------------------------------------------------------\n",
      "train: [<datasets.replica.Datum_feature object at 0x7f314dead810>, <datasets.replica.Datum_feature object at 0x7f314deacac0>, <datasets.replica.Datum_feature object at 0x7f314dead780>, <datasets.replica.Datum_feature object at 0x7f314deace80>, <datasets.replica.Datum_feature object at 0x7f314dead7b0>, <datasets.replica.Datum_feature object at 0x7f314dead570>, <datasets.replica.Datum_feature object at 0x7f314dead6f0>, <datasets.replica.Datum_feature object at 0x7f314dead6c0>, <datasets.replica.Datum_feature object at 0x7f314dead120>, <datasets.replica.Datum_feature object at 0x7f314deaca30>, <datasets.replica.Datum_feature object at 0x7f314dead960>, <datasets.replica.Datum_feature object at 0x7f314dead540>, <datasets.replica.Datum_feature object at 0x7f314deacdf0>, <datasets.replica.Datum_feature object at 0x7f314dead210>, <datasets.replica.Datum_feature object at 0x7f314deacf40>, <datasets.replica.Datum_feature object at 0x7f314deacd90>, <datasets.replica.Datum_feature object at 0x7f314dead630>, <datasets.replica.Datum_feature object at 0x7f314dead0f0>, <datasets.replica.Datum_feature object at 0x7f314dead4b0>, <datasets.replica.Datum_feature object at 0x7f314dead3f0>, <datasets.replica.Datum_feature object at 0x7f314dead480>, <datasets.replica.Datum_feature object at 0x7f314dead5d0>, <datasets.replica.Datum_feature object at 0x7f314dead5a0>, <datasets.replica.Datum_feature object at 0x7f314dead330>, <datasets.replica.Datum_feature object at 0x7f314dead4e0>, <datasets.replica.Datum_feature object at 0x7f314dead420>, <datasets.replica.Datum_feature object at 0x7f314dead240>, <datasets.replica.Datum_feature object at 0x7f314dead270>, <datasets.replica.Datum_feature object at 0x7f314dead360>, <datasets.replica.Datum_feature object at 0x7f314dead0c0>, <datasets.replica.Datum_feature object at 0x7f314dead450>, <datasets.replica.Datum_feature object at 0x7f314deac7c0>, <datasets.replica.Datum_feature object at 0x7f314dead1b0>, <datasets.replica.Datum_feature object at 0x7f314dead8d0>, <datasets.replica.Datum_feature object at 0x7f314dead030>, <datasets.replica.Datum_feature object at 0x7f314deacc40>, <datasets.replica.Datum_feature object at 0x7f314deac820>, <datasets.replica.Datum_feature object at 0x7f314dead150>, <datasets.replica.Datum_feature object at 0x7f314deace50>, <datasets.replica.Datum_feature object at 0x7f314deace20>, <datasets.replica.Datum_feature object at 0x7f314deac5b0>, <datasets.replica.Datum_feature object at 0x7f314deaca60>, <datasets.replica.Datum_feature object at 0x7f314deac8e0>, <datasets.replica.Datum_feature object at 0x7f314deaccd0>, <datasets.replica.Datum_feature object at 0x7f314deacf70>, <datasets.replica.Datum_feature object at 0x7f314deacdc0>, <datasets.replica.Datum_feature object at 0x7f314deacfa0>, <datasets.replica.Datum_feature object at 0x7f314deacd30>, <datasets.replica.Datum_feature object at 0x7f314deacee0>, <datasets.replica.Datum_feature object at 0x7f314deaceb0>, <datasets.replica.Datum_feature object at 0x7f314deacb20>, <datasets.replica.Datum_feature object at 0x7f314dead000>, <datasets.replica.Datum_feature object at 0x7f314deaca90>, <datasets.replica.Datum_feature object at 0x7f314deac940>, <datasets.replica.Datum_feature object at 0x7f314deacb50>, <datasets.replica.Datum_feature object at 0x7f314deac910>, <datasets.replica.Datum_feature object at 0x7f314deac790>, <datasets.replica.Datum_feature object at 0x7f314deac9d0>, <datasets.replica.Datum_feature object at 0x7f314deac880>, <datasets.replica.Datum_feature object at 0x7f314deacd60>, <datasets.replica.Datum_feature object at 0x7f314deacd00>, <datasets.replica.Datum_feature object at 0x7f314deacb80>, <datasets.replica.Datum_feature object at 0x7f314dead060>, <datasets.replica.Datum_feature object at 0x7f314deac520>, <datasets.replica.Datum_feature object at 0x7f314deac700>, <datasets.replica.Datum_feature object at 0x7f314deac730>, <datasets.replica.Datum_feature object at 0x7f314deac4f0>, <datasets.replica.Datum_feature object at 0x7f314deac5e0>, <datasets.replica.Datum_feature object at 0x7f314deac6a0>, <datasets.replica.Datum_feature object at 0x7f314deac6d0>, <datasets.replica.Datum_feature object at 0x7f314deac760>, <datasets.replica.Datum_feature object at 0x7f314deac400>, <datasets.replica.Datum_feature object at 0x7f314deac430>, <datasets.replica.Datum_feature object at 0x7f314deac640>, <datasets.replica.Datum_feature object at 0x7f314deac610>, <datasets.replica.Datum_feature object at 0x7f314deac1f0>, <datasets.replica.Datum_feature object at 0x7f314deac4c0>, <datasets.replica.Datum_feature object at 0x7f314deac580>, <datasets.replica.Datum_feature object at 0x7f314deac550>, <datasets.replica.Datum_feature object at 0x7f314deac2b0>, <datasets.replica.Datum_feature object at 0x7f314deac340>, <datasets.replica.Datum_feature object at 0x7f314deac490>, <datasets.replica.Datum_feature object at 0x7f314deac460>, <datasets.replica.Datum_feature object at 0x7f314deac130>, <datasets.replica.Datum_feature object at 0x7f314deac070>, <datasets.replica.Datum_feature object at 0x7f314deac310>, <datasets.replica.Datum_feature object at 0x7f314deac2e0>, <datasets.replica.Datum_feature object at 0x7f314deac100>, <datasets.replica.Datum_feature object at 0x7f314deac040>, <datasets.replica.Datum_feature object at 0x7f314deac250>, <datasets.replica.Datum_feature object at 0x7f314deac220>, <datasets.replica.Datum_feature object at 0x7f314deac0d0>, <datasets.replica.Datum_feature object at 0x7f314deac190>, <datasets.replica.Datum_feature object at 0x7f314deac160>, <datasets.replica.Datum_feature object at 0x7f314deac0a0>, <datasets.replica.Datum_feature object at 0x7f314deac670>, <datasets.replica.Datum_feature object at 0x7f314deadab0>, <datasets.replica.Datum_feature object at 0x7f314dead840>, <datasets.replica.Datum_feature object at 0x7f314deadb40>, <datasets.replica.Datum_feature object at 0x7f314dead300>, <datasets.replica.Datum_feature object at 0x7f314deadb70>, <datasets.replica.Datum_feature object at 0x7f314dec8d90>, <datasets.replica.Datum_feature object at 0x7f314dec8c40>, <datasets.replica.Datum_feature object at 0x7f314dec8f10>, <datasets.replica.Datum_feature object at 0x7f314deca710>, <datasets.replica.Datum_feature object at 0x7f314dec8dc0>, <datasets.replica.Datum_feature object at 0x7f314dec89a0>, <datasets.replica.Datum_feature object at 0x7f314dec8b80>, <datasets.replica.Datum_feature object at 0x7f314dec8b50>, <datasets.replica.Datum_feature object at 0x7f314dec8670>, <datasets.replica.Datum_feature object at 0x7f314dec8970>, <datasets.replica.Datum_feature object at 0x7f314dec88b0>, <datasets.replica.Datum_feature object at 0x7f314dec8910>, <datasets.replica.Datum_feature object at 0x7f314deca4d0>, <datasets.replica.Datum_feature object at 0x7f314dec88e0>, <datasets.replica.Datum_feature object at 0x7f314dec94e0>, <datasets.replica.Datum_feature object at 0x7f314dec89d0>, <datasets.replica.Datum_feature object at 0x7f314dec8cd0>, <datasets.replica.Datum_feature object at 0x7f314dec8760>, <datasets.replica.Datum_feature object at 0x7f314dec8c70>, <datasets.replica.Datum_feature object at 0x7f314dec8f70>, <datasets.replica.Datum_feature object at 0x7f314dec8d30>, <datasets.replica.Datum_feature object at 0x7f314dec8a00>, <datasets.replica.Datum_feature object at 0x7f314deca8f0>, <datasets.replica.Datum_feature object at 0x7f314dec8730>, <datasets.replica.Datum_feature object at 0x7f314decbca0>, <datasets.replica.Datum_feature object at 0x7f314dec8b20>, <datasets.replica.Datum_feature object at 0x7f314dead1e0>, <datasets.replica.Datum_feature object at 0x7f314deacfd0>, <datasets.replica.Datum_feature object at 0x7f314dead7e0>, <datasets.replica.Datum_feature object at 0x7f314deac8b0>, <datasets.replica.Datum_feature object at 0x7f314deac970>, <datasets.replica.Datum_feature object at 0x7f314deac850>, <datasets.replica.Datum_feature object at 0x7f314deac9a0>, <datasets.replica.Datum_feature object at 0x7f314deada50>, <datasets.replica.Datum_feature object at 0x7f314dead600>, <datasets.replica.Datum_feature object at 0x7f314dead2a0>, <datasets.replica.Datum_feature object at 0x7f314deadae0>, <datasets.replica.Datum_feature object at 0x7f314deadde0>, <datasets.replica.Datum_feature object at 0x7f314dead720>, <datasets.replica.Datum_feature object at 0x7f314dead660>, <datasets.replica.Datum_feature object at 0x7f314deadbd0>, <datasets.replica.Datum_feature object at 0x7f314dead900>, <datasets.replica.Datum_feature object at 0x7f314deade10>, <datasets.replica.Datum_feature object at 0x7f314deacf10>, <datasets.replica.Datum_feature object at 0x7f314dead8a0>, <datasets.replica.Datum_feature object at 0x7f314deada80>, <datasets.replica.Datum_feature object at 0x7f314deae1a0>, <datasets.replica.Datum_feature object at 0x7f314deae0e0>, <datasets.replica.Datum_feature object at 0x7f314deadf00>, <datasets.replica.Datum_feature object at 0x7f314deaddb0>, <datasets.replica.Datum_feature object at 0x7f314dead9c0>, <datasets.replica.Datum_feature object at 0x7f314deadd20>, <datasets.replica.Datum_feature object at 0x7f314deadc00>, <datasets.replica.Datum_feature object at 0x7f314deadc30>, <datasets.replica.Datum_feature object at 0x7f314deadc60>, <datasets.replica.Datum_feature object at 0x7f314deadc90>, <datasets.replica.Datum_feature object at 0x7f314deadcc0>, <datasets.replica.Datum_feature object at 0x7f314deadcf0>, <datasets.replica.Datum_feature object at 0x7f314deadd80>, <datasets.replica.Datum_feature object at 0x7f314deadfc0>, <datasets.replica.Datum_feature object at 0x7f314deadff0>, <datasets.replica.Datum_feature object at 0x7f314deae170>, <datasets.replica.Datum_feature object at 0x7f314deae140>, <datasets.replica.Datum_feature object at 0x7f314deae110>, <datasets.replica.Datum_feature object at 0x7f314deaded0>, <datasets.replica.Datum_feature object at 0x7f314deade40>, <datasets.replica.Datum_feature object at 0x7f314dead990>, <datasets.replica.Datum_feature object at 0x7f314dead870>, <datasets.replica.Datum_feature object at 0x7f314deadb10>, <datasets.replica.Datum_feature object at 0x7f314deade70>, <datasets.replica.Datum_feature object at 0x7f314deadf60>, <datasets.replica.Datum_feature object at 0x7f314deadf30>, <datasets.replica.Datum_feature object at 0x7f314deae0b0>, <datasets.replica.Datum_feature object at 0x7f314deae080>, <datasets.replica.Datum_feature object at 0x7f314deae1d0>, <datasets.replica.Datum_feature object at 0x7f314deae200>, <datasets.replica.Datum_feature object at 0x7f314deae230>]\n"
     ]
    },
    {
     "name": "stdout",
     "output_type": "stream",
     "text": [
      "val: [<datasets.replica.Datum_feature object at 0x7f314deae290>, <datasets.replica.Datum_feature object at 0x7f314deac7f0>, <datasets.replica.Datum_feature object at 0x7f314deae2c0>, <datasets.replica.Datum_feature object at 0x7f314deaeb30>, <datasets.replica.Datum_feature object at 0x7f314deae440>, <datasets.replica.Datum_feature object at 0x7f314deae470>, <datasets.replica.Datum_feature object at 0x7f314deae4d0>, <datasets.replica.Datum_feature object at 0x7f314deae500>, <datasets.replica.Datum_feature object at 0x7f314deaea40>, <datasets.replica.Datum_feature object at 0x7f314deae3b0>, <datasets.replica.Datum_feature object at 0x7f314deae3e0>, <datasets.replica.Datum_feature object at 0x7f314deae530>, <datasets.replica.Datum_feature object at 0x7f314deaeb60>, <datasets.replica.Datum_feature object at 0x7f314deae8f0>, <datasets.replica.Datum_feature object at 0x7f314deaeb00>, <datasets.replica.Datum_feature object at 0x7f314deae770>, <datasets.replica.Datum_feature object at 0x7f314deae590>, <datasets.replica.Datum_feature object at 0x7f314deae6e0>, <datasets.replica.Datum_feature object at 0x7f314deae560>, <datasets.replica.Datum_feature object at 0x7f314deae5f0>, <datasets.replica.Datum_feature object at 0x7f314deae620>, <datasets.replica.Datum_feature object at 0x7f314deae650>, <datasets.replica.Datum_feature object at 0x7f314deae680>, <datasets.replica.Datum_feature object at 0x7f314deae6b0>, <datasets.replica.Datum_feature object at 0x7f314deae740>, <datasets.replica.Datum_feature object at 0x7f314deae800>, <datasets.replica.Datum_feature object at 0x7f314deae830>, <datasets.replica.Datum_feature object at 0x7f314deae860>, <datasets.replica.Datum_feature object at 0x7f314deae890>, <datasets.replica.Datum_feature object at 0x7f314deae8c0>, <datasets.replica.Datum_feature object at 0x7f314deae7d0>, <datasets.replica.Datum_feature object at 0x7f314deae7a0>, <datasets.replica.Datum_feature object at 0x7f314deae5c0>, <datasets.replica.Datum_feature object at 0x7f314deae410>, <datasets.replica.Datum_feature object at 0x7f314deae4a0>, <datasets.replica.Datum_feature object at 0x7f314deaea70>, <datasets.replica.Datum_feature object at 0x7f314deaea10>, <datasets.replica.Datum_feature object at 0x7f314deaeaa0>, <datasets.replica.Datum_feature object at 0x7f314deae920>, <datasets.replica.Datum_feature object at 0x7f314deae950>, <datasets.replica.Datum_feature object at 0x7f314deaeb90>, <datasets.replica.Datum_feature object at 0x7f314deaebc0>, <datasets.replica.Datum_feature object at 0x7f314deaebf0>, <datasets.replica.Datum_feature object at 0x7f314deaec20>, <datasets.replica.Datum_feature object at 0x7f314deaec50>, <datasets.replica.Datum_feature object at 0x7f314deaecb0>, <datasets.replica.Datum_feature object at 0x7f314deae260>, <datasets.replica.Datum_feature object at 0x7f314deaece0>, <datasets.replica.Datum_feature object at 0x7f314deaf550>, <datasets.replica.Datum_feature object at 0x7f314deaee60>, <datasets.replica.Datum_feature object at 0x7f314deaee90>, <datasets.replica.Datum_feature object at 0x7f314deaeef0>, <datasets.replica.Datum_feature object at 0x7f314deaef20>, <datasets.replica.Datum_feature object at 0x7f314deaf460>, <datasets.replica.Datum_feature object at 0x7f314deaedd0>, <datasets.replica.Datum_feature object at 0x7f314deaee00>, <datasets.replica.Datum_feature object at 0x7f314deaef50>, <datasets.replica.Datum_feature object at 0x7f314deaf580>, <datasets.replica.Datum_feature object at 0x7f314deaf310>, <datasets.replica.Datum_feature object at 0x7f314deaf520>, <datasets.replica.Datum_feature object at 0x7f314deaf190>, <datasets.replica.Datum_feature object at 0x7f314deaefb0>, <datasets.replica.Datum_feature object at 0x7f314deaf100>, <datasets.replica.Datum_feature object at 0x7f314deaef80>, <datasets.replica.Datum_feature object at 0x7f314deaf010>, <datasets.replica.Datum_feature object at 0x7f314deaf040>, <datasets.replica.Datum_feature object at 0x7f314deaf070>, <datasets.replica.Datum_feature object at 0x7f314deaf0a0>, <datasets.replica.Datum_feature object at 0x7f314deaf0d0>, <datasets.replica.Datum_feature object at 0x7f314deaf160>, <datasets.replica.Datum_feature object at 0x7f314deaf220>, <datasets.replica.Datum_feature object at 0x7f314deaf250>, <datasets.replica.Datum_feature object at 0x7f314deaf280>, <datasets.replica.Datum_feature object at 0x7f314deaf2b0>, <datasets.replica.Datum_feature object at 0x7f314deaf2e0>, <datasets.replica.Datum_feature object at 0x7f314deaf1f0>, <datasets.replica.Datum_feature object at 0x7f314deaf1c0>, <datasets.replica.Datum_feature object at 0x7f314deaefe0>, <datasets.replica.Datum_feature object at 0x7f314deaee30>, <datasets.replica.Datum_feature object at 0x7f314deaeec0>, <datasets.replica.Datum_feature object at 0x7f314deaf490>, <datasets.replica.Datum_feature object at 0x7f314deaf430>, <datasets.replica.Datum_feature object at 0x7f314deaf4c0>, <datasets.replica.Datum_feature object at 0x7f314deaf340>, <datasets.replica.Datum_feature object at 0x7f314deaf370>, <datasets.replica.Datum_feature object at 0x7f314deaf5b0>, <datasets.replica.Datum_feature object at 0x7f314deaf5e0>, <datasets.replica.Datum_feature object at 0x7f314deaf610>, <datasets.replica.Datum_feature object at 0x7f314deaf640>, <datasets.replica.Datum_feature object at 0x7f314deaf670>, <datasets.replica.Datum_feature object at 0x7f314deaffd0>, <datasets.replica.Datum_feature object at 0x7f314deaffa0>, <datasets.replica.Datum_feature object at 0x7f314deaff70>, <datasets.replica.Datum_feature object at 0x7f314deaff40>, <datasets.replica.Datum_feature object at 0x7f314deaff10>, <datasets.replica.Datum_feature object at 0x7f314deafee0>, <datasets.replica.Datum_feature object at 0x7f314deafeb0>, <datasets.replica.Datum_feature object at 0x7f314deafe80>, <datasets.replica.Datum_feature object at 0x7f314deafe50>, <datasets.replica.Datum_feature object at 0x7f314deafe20>, <datasets.replica.Datum_feature object at 0x7f314deafdf0>, <datasets.replica.Datum_feature object at 0x7f314deafdc0>, <datasets.replica.Datum_feature object at 0x7f314deafd90>, <datasets.replica.Datum_feature object at 0x7f314deafd60>, <datasets.replica.Datum_feature object at 0x7f314deafd30>, <datasets.replica.Datum_feature object at 0x7f314deafd00>]\n",
      "test: [<datasets.replica.Datum_feature object at 0x7f314deafca0>, <datasets.replica.Datum_feature object at 0x7f314deaf850>, <datasets.replica.Datum_feature object at 0x7f314deaf820>, <datasets.replica.Datum_feature object at 0x7f314deaf6d0>, <datasets.replica.Datum_feature object at 0x7f314deafc70>, <datasets.replica.Datum_feature object at 0x7f314deafcd0>, <datasets.replica.Datum_feature object at 0x7f314deaec80>, <datasets.replica.Datum_feature object at 0x7f314deaf700>, <datasets.replica.Datum_feature object at 0x7f314deaf8e0>, <datasets.replica.Datum_feature object at 0x7f314deaf8b0>, <datasets.replica.Datum_feature object at 0x7f314deaf730>, <datasets.replica.Datum_feature object at 0x7f314deaf7f0>, <datasets.replica.Datum_feature object at 0x7f314deaf910>, <datasets.replica.Datum_feature object at 0x7f314deaf6a0>, <datasets.replica.Datum_feature object at 0x7f314deafa90>, <datasets.replica.Datum_feature object at 0x7f314deafb20>, <datasets.replica.Datum_feature object at 0x7f314deaf970>, <datasets.replica.Datum_feature object at 0x7f314deaf9a0>, <datasets.replica.Datum_feature object at 0x7f314deaf7c0>, <datasets.replica.Datum_feature object at 0x7f314deaf790>, <datasets.replica.Datum_feature object at 0x7f314deaf760>, <datasets.replica.Datum_feature object at 0x7f314deaf940>, <datasets.replica.Datum_feature object at 0x7f314deaf9d0>, <datasets.replica.Datum_feature object at 0x7f314deafa00>, <datasets.replica.Datum_feature object at 0x7f314deafa30>, <datasets.replica.Datum_feature object at 0x7f314deafa60>, <datasets.replica.Datum_feature object at 0x7f314deafac0>, <datasets.replica.Datum_feature object at 0x7f314deafaf0>, <datasets.replica.Datum_feature object at 0x7f314deafb50>, <datasets.replica.Datum_feature object at 0x7f314deafb80>, <datasets.replica.Datum_feature object at 0x7f314de9c7f0>, <datasets.replica.Datum_feature object at 0x7f314de9c7c0>, <datasets.replica.Datum_feature object at 0x7f314de9c790>, <datasets.replica.Datum_feature object at 0x7f314de9c760>, <datasets.replica.Datum_feature object at 0x7f314de9c730>, <datasets.replica.Datum_feature object at 0x7f314de9c700>, <datasets.replica.Datum_feature object at 0x7f314de9c6d0>, <datasets.replica.Datum_feature object at 0x7f314de9c6a0>, <datasets.replica.Datum_feature object at 0x7f314de9c670>, <datasets.replica.Datum_feature object at 0x7f314de9c640>, <datasets.replica.Datum_feature object at 0x7f314de9c610>, <datasets.replica.Datum_feature object at 0x7f314de9c5e0>, <datasets.replica.Datum_feature object at 0x7f314de9c820>, <datasets.replica.Datum_feature object at 0x7f314de9c850>, <datasets.replica.Datum_feature object at 0x7f314de9c880>, <datasets.replica.Datum_feature object at 0x7f314de9c8b0>, <datasets.replica.Datum_feature object at 0x7f314de9c8e0>, <datasets.replica.Datum_feature object at 0x7f314de9c910>, <datasets.replica.Datum_feature object at 0x7f314de9c940>, <datasets.replica.Datum_feature object at 0x7f314de9c970>, <datasets.replica.Datum_feature object at 0x7f314de9c9a0>, <datasets.replica.Datum_feature object at 0x7f314de9c9d0>, <datasets.replica.Datum_feature object at 0x7f314de9ca00>, <datasets.replica.Datum_feature object at 0x7f314de9ca30>, <datasets.replica.Datum_feature object at 0x7f314de9ca60>, <datasets.replica.Datum_feature object at 0x7f314de9ca90>, <datasets.replica.Datum_feature object at 0x7f314de9cac0>, <datasets.replica.Datum_feature object at 0x7f314de9caf0>, <datasets.replica.Datum_feature object at 0x7f314de9cb20>, <datasets.replica.Datum_feature object at 0x7f314de9cb50>, <datasets.replica.Datum_feature object at 0x7f314de9cb80>, <datasets.replica.Datum_feature object at 0x7f314de9cbb0>, <datasets.replica.Datum_feature object at 0x7f314de9cbe0>, <datasets.replica.Datum_feature object at 0x7f314de9cc10>, <datasets.replica.Datum_feature object at 0x7f314de9cc40>, <datasets.replica.Datum_feature object at 0x7f314de9cc70>, <datasets.replica.Datum_feature object at 0x7f314de9cca0>, <datasets.replica.Datum_feature object at 0x7f314de9ccd0>, <datasets.replica.Datum_feature object at 0x7f314de9cd00>, <datasets.replica.Datum_feature object at 0x7f314de9cd30>, <datasets.replica.Datum_feature object at 0x7f314de9cd60>, <datasets.replica.Datum_feature object at 0x7f314de9cd90>, <datasets.replica.Datum_feature object at 0x7f314de9cdc0>, <datasets.replica.Datum_feature object at 0x7f314de9cdf0>, <datasets.replica.Datum_feature object at 0x7f314de9ce20>, <datasets.replica.Datum_feature object at 0x7f314de9ce50>, <datasets.replica.Datum_feature object at 0x7f314de9ce80>, <datasets.replica.Datum_feature object at 0x7f314de9ceb0>, <datasets.replica.Datum_feature object at 0x7f314de9cee0>, <datasets.replica.Datum_feature object at 0x7f314de9cf10>, <datasets.replica.Datum_feature object at 0x7f314de9cf40>, <datasets.replica.Datum_feature object at 0x7f314de9cf70>, <datasets.replica.Datum_feature object at 0x7f314de9cfa0>, <datasets.replica.Datum_feature object at 0x7f314de9cfd0>, <datasets.replica.Datum_feature object at 0x7f314de9d000>, <datasets.replica.Datum_feature object at 0x7f314de9d030>, <datasets.replica.Datum_feature object at 0x7f314de9d060>, <datasets.replica.Datum_feature object at 0x7f314de9d090>, <datasets.replica.Datum_feature object at 0x7f314de9d0c0>, <datasets.replica.Datum_feature object at 0x7f314de9d0f0>, <datasets.replica.Datum_feature object at 0x7f314de9d120>, <datasets.replica.Datum_feature object at 0x7f314de9d150>, <datasets.replica.Datum_feature object at 0x7f314de9d180>, <datasets.replica.Datum_feature object at 0x7f314de9d1b0>, <datasets.replica.Datum_feature object at 0x7f314de9d1e0>, <datasets.replica.Datum_feature object at 0x7f314de9d210>, <datasets.replica.Datum_feature object at 0x7f314de9d240>, <datasets.replica.Datum_feature object at 0x7f314de9d270>, <datasets.replica.Datum_feature object at 0x7f314de9d2a0>, <datasets.replica.Datum_feature object at 0x7f314de9d2d0>, <datasets.replica.Datum_feature object at 0x7f314dec8ac0>, <datasets.replica.Datum_feature object at 0x7f314dec9000>, <datasets.replica.Datum_feature object at 0x7f314decbf70>, <datasets.replica.Datum_feature object at 0x7f314decbeb0>, <datasets.replica.Datum_feature object at 0x7f314dec8f40>, <datasets.replica.Datum_feature object at 0x7f314dec93c0>, <datasets.replica.Datum_feature object at 0x7f314decbe20>, <datasets.replica.Datum_feature object at 0x7f314deae020>, <datasets.replica.Datum_feature object at 0x7f314dead180>, <datasets.replica.Datum_feature object at 0x7f314deaf880>, <datasets.replica.Datum_feature object at 0x7f314deae050>, <datasets.replica.Datum_feature object at 0x7f314deaed40>, <datasets.replica.Datum_feature object at 0x7f314deaf3a0>, <datasets.replica.Datum_feature object at 0x7f314deae9b0>, <datasets.replica.Datum_feature object at 0x7f314deae980>, <datasets.replica.Datum_feature object at 0x7f314deadba0>, <datasets.replica.Datum_feature object at 0x7f314dead390>, <datasets.replica.Datum_feature object at 0x7f314dead2d0>, <datasets.replica.Datum_feature object at 0x7f314deadf90>, <datasets.replica.Datum_feature object at 0x7f314deadea0>, <datasets.replica.Datum_feature object at 0x7f314deae350>, <datasets.replica.Datum_feature object at 0x7f314deae380>, <datasets.replica.Datum_feature object at 0x7f314deae320>, <datasets.replica.Datum_feature object at 0x7f314deae2f0>, <datasets.replica.Datum_feature object at 0x7f314deae9e0>, <datasets.replica.Datum_feature object at 0x7f314deaead0>, <datasets.replica.Datum_feature object at 0x7f314deaed70>, <datasets.replica.Datum_feature object at 0x7f314deaeda0>, <datasets.replica.Datum_feature object at 0x7f314deaed10>, <datasets.replica.Datum_feature object at 0x7f314deaf3d0>, <datasets.replica.Datum_feature object at 0x7f314deaf400>, <datasets.replica.Datum_feature object at 0x7f314deaf4f0>, <datasets.replica.Datum_feature object at 0x7f314de9d330>, <datasets.replica.Datum_feature object at 0x7f314de9d360>, <datasets.replica.Datum_feature object at 0x7f314de9d300>, <datasets.replica.Datum_feature object at 0x7f314de9d4b0>, <datasets.replica.Datum_feature object at 0x7f314de9d480>, <datasets.replica.Datum_feature object at 0x7f314de9d450>, <datasets.replica.Datum_feature object at 0x7f314de9d420>, <datasets.replica.Datum_feature object at 0x7f314de9d3f0>, <datasets.replica.Datum_feature object at 0x7f314de9d3c0>, <datasets.replica.Datum_feature object at 0x7f314de9d390>, <datasets.replica.Datum_feature object at 0x7f314de9d4e0>, <datasets.replica.Datum_feature object at 0x7f314de9d510>, <datasets.replica.Datum_feature object at 0x7f314de9d540>, <datasets.replica.Datum_feature object at 0x7f314de9d570>, <datasets.replica.Datum_feature object at 0x7f314de9d5a0>, <datasets.replica.Datum_feature object at 0x7f314de9d5d0>, <datasets.replica.Datum_feature object at 0x7f314de9d600>, <datasets.replica.Datum_feature object at 0x7f314de9d630>, <datasets.replica.Datum_feature object at 0x7f314de9d660>, <datasets.replica.Datum_feature object at 0x7f314de9d690>, <datasets.replica.Datum_feature object at 0x7f314de9d6c0>, <datasets.replica.Datum_feature object at 0x7f314de9d6f0>, <datasets.replica.Datum_feature object at 0x7f314de9d720>, <datasets.replica.Datum_feature object at 0x7f314de9d750>, <datasets.replica.Datum_feature object at 0x7f314de9d780>, <datasets.replica.Datum_feature object at 0x7f314de9d7b0>, <datasets.replica.Datum_feature object at 0x7f314de9d7e0>, <datasets.replica.Datum_feature object at 0x7f314de9d810>, <datasets.replica.Datum_feature object at 0x7f314de9d840>, <datasets.replica.Datum_feature object at 0x7f314de9d870>, <datasets.replica.Datum_feature object at 0x7f314de9d8a0>, <datasets.replica.Datum_feature object at 0x7f314de9d8d0>, <datasets.replica.Datum_feature object at 0x7f314de9d900>, <datasets.replica.Datum_feature object at 0x7f314de9d930>, <datasets.replica.Datum_feature object at 0x7f314de9d960>, <datasets.replica.Datum_feature object at 0x7f314de9d990>, <datasets.replica.Datum_feature object at 0x7f314de9d9f0>, <datasets.replica.Datum_feature object at 0x7f314de9da20>, <datasets.replica.Datum_feature object at 0x7f314de9da50>, <datasets.replica.Datum_feature object at 0x7f314de9da80>, <datasets.replica.Datum_feature object at 0x7f314de9dab0>, <datasets.replica.Datum_feature object at 0x7f314de9dae0>, <datasets.replica.Datum_feature object at 0x7f314de9db10>, <datasets.replica.Datum_feature object at 0x7f314de9db40>, <datasets.replica.Datum_feature object at 0x7f314de9db70>, <datasets.replica.Datum_feature object at 0x7f314de9dba0>, <datasets.replica.Datum_feature object at 0x7f314de9dbd0>, <datasets.replica.Datum_feature object at 0x7f314de9dc00>, <datasets.replica.Datum_feature object at 0x7f314de9dc30>, <datasets.replica.Datum_feature object at 0x7f314de9dc60>, <datasets.replica.Datum_feature object at 0x7f314de9dc90>, <datasets.replica.Datum_feature object at 0x7f314de9dcc0>, <datasets.replica.Datum_feature object at 0x7f314de9dcf0>, <datasets.replica.Datum_feature object at 0x7f314de9dd20>, <datasets.replica.Datum_feature object at 0x7f314de9dd50>, <datasets.replica.Datum_feature object at 0x7f314de9dd80>, <datasets.replica.Datum_feature object at 0x7f314de9ddb0>, <datasets.replica.Datum_feature object at 0x7f314de9dde0>, <datasets.replica.Datum_feature object at 0x7f314de9de10>, <datasets.replica.Datum_feature object at 0x7f314de9de40>]\n"
     ]
    },
    {
     "name": "stdout",
     "output_type": "stream",
     "text": [
      "-----------------------------------------------------------\n",
      "-----------------------------------------------------------\n",
      "train: [<datasets.replica.Datum_feature object at 0x7f314dead810>, <datasets.replica.Datum_feature object at 0x7f314deacac0>, <datasets.replica.Datum_feature object at 0x7f314dead780>, <datasets.replica.Datum_feature object at 0x7f314deace80>, <datasets.replica.Datum_feature object at 0x7f314dead7b0>, <datasets.replica.Datum_feature object at 0x7f314dead570>, <datasets.replica.Datum_feature object at 0x7f314dead6f0>, <datasets.replica.Datum_feature object at 0x7f314dead6c0>, <datasets.replica.Datum_feature object at 0x7f314dead120>, <datasets.replica.Datum_feature object at 0x7f314deaca30>, <datasets.replica.Datum_feature object at 0x7f314dead960>, <datasets.replica.Datum_feature object at 0x7f314dead540>, <datasets.replica.Datum_feature object at 0x7f314deacdf0>, <datasets.replica.Datum_feature object at 0x7f314dead210>, <datasets.replica.Datum_feature object at 0x7f314deacf40>, <datasets.replica.Datum_feature object at 0x7f314deacd90>, <datasets.replica.Datum_feature object at 0x7f314dead630>, <datasets.replica.Datum_feature object at 0x7f314dead0f0>, <datasets.replica.Datum_feature object at 0x7f314dead4b0>, <datasets.replica.Datum_feature object at 0x7f314dead3f0>, <datasets.replica.Datum_feature object at 0x7f314dead480>, <datasets.replica.Datum_feature object at 0x7f314dead5d0>, <datasets.replica.Datum_feature object at 0x7f314dead5a0>, <datasets.replica.Datum_feature object at 0x7f314dead330>, <datasets.replica.Datum_feature object at 0x7f314dead4e0>, <datasets.replica.Datum_feature object at 0x7f314dead420>, <datasets.replica.Datum_feature object at 0x7f314dead240>, <datasets.replica.Datum_feature object at 0x7f314dead270>, <datasets.replica.Datum_feature object at 0x7f314dead360>, <datasets.replica.Datum_feature object at 0x7f314dead0c0>, <datasets.replica.Datum_feature object at 0x7f314dead450>, <datasets.replica.Datum_feature object at 0x7f314deac7c0>, <datasets.replica.Datum_feature object at 0x7f314dead1b0>, <datasets.replica.Datum_feature object at 0x7f314dead8d0>, <datasets.replica.Datum_feature object at 0x7f314dead030>, <datasets.replica.Datum_feature object at 0x7f314deacc40>, <datasets.replica.Datum_feature object at 0x7f314deac820>, <datasets.replica.Datum_feature object at 0x7f314dead150>, <datasets.replica.Datum_feature object at 0x7f314deace50>, <datasets.replica.Datum_feature object at 0x7f314deace20>, <datasets.replica.Datum_feature object at 0x7f314deac5b0>, <datasets.replica.Datum_feature object at 0x7f314deaca60>, <datasets.replica.Datum_feature object at 0x7f314deac8e0>, <datasets.replica.Datum_feature object at 0x7f314deaccd0>, <datasets.replica.Datum_feature object at 0x7f314deacf70>, <datasets.replica.Datum_feature object at 0x7f314deacdc0>, <datasets.replica.Datum_feature object at 0x7f314deacfa0>, <datasets.replica.Datum_feature object at 0x7f314deacd30>, <datasets.replica.Datum_feature object at 0x7f314deacee0>, <datasets.replica.Datum_feature object at 0x7f314deaceb0>, <datasets.replica.Datum_feature object at 0x7f314deacb20>, <datasets.replica.Datum_feature object at 0x7f314dead000>, <datasets.replica.Datum_feature object at 0x7f314deaca90>, <datasets.replica.Datum_feature object at 0x7f314deac940>, <datasets.replica.Datum_feature object at 0x7f314deacb50>, <datasets.replica.Datum_feature object at 0x7f314deac910>, <datasets.replica.Datum_feature object at 0x7f314deac790>, <datasets.replica.Datum_feature object at 0x7f314deac9d0>, <datasets.replica.Datum_feature object at 0x7f314deac880>, <datasets.replica.Datum_feature object at 0x7f314deacd60>, <datasets.replica.Datum_feature object at 0x7f314deacd00>, <datasets.replica.Datum_feature object at 0x7f314deacb80>, <datasets.replica.Datum_feature object at 0x7f314dead060>, <datasets.replica.Datum_feature object at 0x7f314deac520>, <datasets.replica.Datum_feature object at 0x7f314deac700>, <datasets.replica.Datum_feature object at 0x7f314deac730>, <datasets.replica.Datum_feature object at 0x7f314deac4f0>, <datasets.replica.Datum_feature object at 0x7f314deac5e0>, <datasets.replica.Datum_feature object at 0x7f314deac6a0>, <datasets.replica.Datum_feature object at 0x7f314deac6d0>, <datasets.replica.Datum_feature object at 0x7f314deac760>, <datasets.replica.Datum_feature object at 0x7f314deac400>, <datasets.replica.Datum_feature object at 0x7f314deac430>, <datasets.replica.Datum_feature object at 0x7f314deac640>, <datasets.replica.Datum_feature object at 0x7f314deac610>, <datasets.replica.Datum_feature object at 0x7f314deac1f0>, <datasets.replica.Datum_feature object at 0x7f314deac4c0>, <datasets.replica.Datum_feature object at 0x7f314deac580>, <datasets.replica.Datum_feature object at 0x7f314deac550>, <datasets.replica.Datum_feature object at 0x7f314deac2b0>, <datasets.replica.Datum_feature object at 0x7f314deac340>, <datasets.replica.Datum_feature object at 0x7f314deac490>, <datasets.replica.Datum_feature object at 0x7f314deac460>, <datasets.replica.Datum_feature object at 0x7f314deac130>, <datasets.replica.Datum_feature object at 0x7f314deac070>, <datasets.replica.Datum_feature object at 0x7f314deac310>, <datasets.replica.Datum_feature object at 0x7f314deac2e0>, <datasets.replica.Datum_feature object at 0x7f314deac100>, <datasets.replica.Datum_feature object at 0x7f314deac040>, <datasets.replica.Datum_feature object at 0x7f314deac250>, <datasets.replica.Datum_feature object at 0x7f314deac220>, <datasets.replica.Datum_feature object at 0x7f314deac0d0>, <datasets.replica.Datum_feature object at 0x7f314deac190>, <datasets.replica.Datum_feature object at 0x7f314deac160>, <datasets.replica.Datum_feature object at 0x7f314deac0a0>, <datasets.replica.Datum_feature object at 0x7f314deac670>, <datasets.replica.Datum_feature object at 0x7f314deadab0>, <datasets.replica.Datum_feature object at 0x7f314dead840>, <datasets.replica.Datum_feature object at 0x7f314deadb40>, <datasets.replica.Datum_feature object at 0x7f314dead300>, <datasets.replica.Datum_feature object at 0x7f314deadb70>, <datasets.replica.Datum_feature object at 0x7f314dec8d90>, <datasets.replica.Datum_feature object at 0x7f314dec8c40>, <datasets.replica.Datum_feature object at 0x7f314dec8f10>, <datasets.replica.Datum_feature object at 0x7f314deca710>, <datasets.replica.Datum_feature object at 0x7f314dec8dc0>, <datasets.replica.Datum_feature object at 0x7f314dec89a0>, <datasets.replica.Datum_feature object at 0x7f314dec8b80>, <datasets.replica.Datum_feature object at 0x7f314dec8b50>, <datasets.replica.Datum_feature object at 0x7f314dec8670>, <datasets.replica.Datum_feature object at 0x7f314dec8970>, <datasets.replica.Datum_feature object at 0x7f314dec88b0>, <datasets.replica.Datum_feature object at 0x7f314dec8910>, <datasets.replica.Datum_feature object at 0x7f314deca4d0>, <datasets.replica.Datum_feature object at 0x7f314dec88e0>, <datasets.replica.Datum_feature object at 0x7f314dec94e0>, <datasets.replica.Datum_feature object at 0x7f314dec89d0>, <datasets.replica.Datum_feature object at 0x7f314dec8cd0>, <datasets.replica.Datum_feature object at 0x7f314dec8760>, <datasets.replica.Datum_feature object at 0x7f314dec8c70>, <datasets.replica.Datum_feature object at 0x7f314dec8f70>, <datasets.replica.Datum_feature object at 0x7f314dec8d30>, <datasets.replica.Datum_feature object at 0x7f314dec8a00>, <datasets.replica.Datum_feature object at 0x7f314deca8f0>, <datasets.replica.Datum_feature object at 0x7f314dec8730>, <datasets.replica.Datum_feature object at 0x7f314decbca0>, <datasets.replica.Datum_feature object at 0x7f314dec8b20>, <datasets.replica.Datum_feature object at 0x7f314dead1e0>, <datasets.replica.Datum_feature object at 0x7f314deacfd0>, <datasets.replica.Datum_feature object at 0x7f314dead7e0>, <datasets.replica.Datum_feature object at 0x7f314deac8b0>, <datasets.replica.Datum_feature object at 0x7f314deac970>, <datasets.replica.Datum_feature object at 0x7f314deac850>, <datasets.replica.Datum_feature object at 0x7f314deac9a0>, <datasets.replica.Datum_feature object at 0x7f314deada50>, <datasets.replica.Datum_feature object at 0x7f314dead600>, <datasets.replica.Datum_feature object at 0x7f314dead2a0>, <datasets.replica.Datum_feature object at 0x7f314deadae0>, <datasets.replica.Datum_feature object at 0x7f314deadde0>, <datasets.replica.Datum_feature object at 0x7f314dead720>, <datasets.replica.Datum_feature object at 0x7f314dead660>, <datasets.replica.Datum_feature object at 0x7f314deadbd0>, <datasets.replica.Datum_feature object at 0x7f314dead900>, <datasets.replica.Datum_feature object at 0x7f314deade10>, <datasets.replica.Datum_feature object at 0x7f314deacf10>, <datasets.replica.Datum_feature object at 0x7f314dead8a0>, <datasets.replica.Datum_feature object at 0x7f314deada80>, <datasets.replica.Datum_feature object at 0x7f314deae1a0>, <datasets.replica.Datum_feature object at 0x7f314deae0e0>, <datasets.replica.Datum_feature object at 0x7f314deadf00>, <datasets.replica.Datum_feature object at 0x7f314deaddb0>, <datasets.replica.Datum_feature object at 0x7f314dead9c0>, <datasets.replica.Datum_feature object at 0x7f314deadd20>, <datasets.replica.Datum_feature object at 0x7f314deadc00>, <datasets.replica.Datum_feature object at 0x7f314deadc30>, <datasets.replica.Datum_feature object at 0x7f314deadc60>, <datasets.replica.Datum_feature object at 0x7f314deadc90>, <datasets.replica.Datum_feature object at 0x7f314deadcc0>, <datasets.replica.Datum_feature object at 0x7f314deadcf0>, <datasets.replica.Datum_feature object at 0x7f314deadd80>, <datasets.replica.Datum_feature object at 0x7f314deadfc0>, <datasets.replica.Datum_feature object at 0x7f314deadff0>, <datasets.replica.Datum_feature object at 0x7f314deae170>, <datasets.replica.Datum_feature object at 0x7f314deae140>, <datasets.replica.Datum_feature object at 0x7f314deae110>, <datasets.replica.Datum_feature object at 0x7f314deaded0>, <datasets.replica.Datum_feature object at 0x7f314deade40>, <datasets.replica.Datum_feature object at 0x7f314dead990>, <datasets.replica.Datum_feature object at 0x7f314dead870>, <datasets.replica.Datum_feature object at 0x7f314deadb10>, <datasets.replica.Datum_feature object at 0x7f314deade70>, <datasets.replica.Datum_feature object at 0x7f314deadf60>, <datasets.replica.Datum_feature object at 0x7f314deadf30>, <datasets.replica.Datum_feature object at 0x7f314deae0b0>, <datasets.replica.Datum_feature object at 0x7f314deae080>, <datasets.replica.Datum_feature object at 0x7f314deae1d0>, <datasets.replica.Datum_feature object at 0x7f314deae200>, <datasets.replica.Datum_feature object at 0x7f314deae230>]\n"
     ]
    },
    {
     "name": "stdout",
     "output_type": "stream",
     "text": [
      "val: [<datasets.replica.Datum_feature object at 0x7f314deae290>, <datasets.replica.Datum_feature object at 0x7f314deac7f0>, <datasets.replica.Datum_feature object at 0x7f314deae2c0>, <datasets.replica.Datum_feature object at 0x7f314deaeb30>, <datasets.replica.Datum_feature object at 0x7f314deae440>, <datasets.replica.Datum_feature object at 0x7f314deae470>, <datasets.replica.Datum_feature object at 0x7f314deae4d0>, <datasets.replica.Datum_feature object at 0x7f314deae500>, <datasets.replica.Datum_feature object at 0x7f314deaea40>, <datasets.replica.Datum_feature object at 0x7f314deae3b0>, <datasets.replica.Datum_feature object at 0x7f314deae3e0>, <datasets.replica.Datum_feature object at 0x7f314deae530>, <datasets.replica.Datum_feature object at 0x7f314deaeb60>, <datasets.replica.Datum_feature object at 0x7f314deae8f0>, <datasets.replica.Datum_feature object at 0x7f314deaeb00>, <datasets.replica.Datum_feature object at 0x7f314deae770>, <datasets.replica.Datum_feature object at 0x7f314deae590>, <datasets.replica.Datum_feature object at 0x7f314deae6e0>, <datasets.replica.Datum_feature object at 0x7f314deae560>, <datasets.replica.Datum_feature object at 0x7f314deae5f0>, <datasets.replica.Datum_feature object at 0x7f314deae620>, <datasets.replica.Datum_feature object at 0x7f314deae650>, <datasets.replica.Datum_feature object at 0x7f314deae680>, <datasets.replica.Datum_feature object at 0x7f314deae6b0>, <datasets.replica.Datum_feature object at 0x7f314deae740>, <datasets.replica.Datum_feature object at 0x7f314deae800>, <datasets.replica.Datum_feature object at 0x7f314deae830>, <datasets.replica.Datum_feature object at 0x7f314deae860>, <datasets.replica.Datum_feature object at 0x7f314deae890>, <datasets.replica.Datum_feature object at 0x7f314deae8c0>, <datasets.replica.Datum_feature object at 0x7f314deae7d0>, <datasets.replica.Datum_feature object at 0x7f314deae7a0>, <datasets.replica.Datum_feature object at 0x7f314deae5c0>, <datasets.replica.Datum_feature object at 0x7f314deae410>, <datasets.replica.Datum_feature object at 0x7f314deae4a0>, <datasets.replica.Datum_feature object at 0x7f314deaea70>, <datasets.replica.Datum_feature object at 0x7f314deaea10>, <datasets.replica.Datum_feature object at 0x7f314deaeaa0>, <datasets.replica.Datum_feature object at 0x7f314deae920>, <datasets.replica.Datum_feature object at 0x7f314deae950>, <datasets.replica.Datum_feature object at 0x7f314deaeb90>, <datasets.replica.Datum_feature object at 0x7f314deaebc0>, <datasets.replica.Datum_feature object at 0x7f314deaebf0>, <datasets.replica.Datum_feature object at 0x7f314deaec20>, <datasets.replica.Datum_feature object at 0x7f314deaec50>, <datasets.replica.Datum_feature object at 0x7f314deaecb0>, <datasets.replica.Datum_feature object at 0x7f314deae260>, <datasets.replica.Datum_feature object at 0x7f314deaece0>, <datasets.replica.Datum_feature object at 0x7f314deaf550>, <datasets.replica.Datum_feature object at 0x7f314deaee60>, <datasets.replica.Datum_feature object at 0x7f314deaee90>, <datasets.replica.Datum_feature object at 0x7f314deaeef0>, <datasets.replica.Datum_feature object at 0x7f314deaef20>, <datasets.replica.Datum_feature object at 0x7f314deaf460>, <datasets.replica.Datum_feature object at 0x7f314deaedd0>, <datasets.replica.Datum_feature object at 0x7f314deaee00>, <datasets.replica.Datum_feature object at 0x7f314deaef50>, <datasets.replica.Datum_feature object at 0x7f314deaf580>, <datasets.replica.Datum_feature object at 0x7f314deaf310>, <datasets.replica.Datum_feature object at 0x7f314deaf520>, <datasets.replica.Datum_feature object at 0x7f314deaf190>, <datasets.replica.Datum_feature object at 0x7f314deaefb0>, <datasets.replica.Datum_feature object at 0x7f314deaf100>, <datasets.replica.Datum_feature object at 0x7f314deaef80>, <datasets.replica.Datum_feature object at 0x7f314deaf010>, <datasets.replica.Datum_feature object at 0x7f314deaf040>, <datasets.replica.Datum_feature object at 0x7f314deaf070>, <datasets.replica.Datum_feature object at 0x7f314deaf0a0>, <datasets.replica.Datum_feature object at 0x7f314deaf0d0>, <datasets.replica.Datum_feature object at 0x7f314deaf160>, <datasets.replica.Datum_feature object at 0x7f314deaf220>, <datasets.replica.Datum_feature object at 0x7f314deaf250>, <datasets.replica.Datum_feature object at 0x7f314deaf280>, <datasets.replica.Datum_feature object at 0x7f314deaf2b0>, <datasets.replica.Datum_feature object at 0x7f314deaf2e0>, <datasets.replica.Datum_feature object at 0x7f314deaf1f0>, <datasets.replica.Datum_feature object at 0x7f314deaf1c0>, <datasets.replica.Datum_feature object at 0x7f314deaefe0>, <datasets.replica.Datum_feature object at 0x7f314deaee30>, <datasets.replica.Datum_feature object at 0x7f314deaeec0>, <datasets.replica.Datum_feature object at 0x7f314deaf490>, <datasets.replica.Datum_feature object at 0x7f314deaf430>, <datasets.replica.Datum_feature object at 0x7f314deaf4c0>, <datasets.replica.Datum_feature object at 0x7f314deaf340>, <datasets.replica.Datum_feature object at 0x7f314deaf370>, <datasets.replica.Datum_feature object at 0x7f314deaf5b0>, <datasets.replica.Datum_feature object at 0x7f314deaf5e0>, <datasets.replica.Datum_feature object at 0x7f314deaf610>, <datasets.replica.Datum_feature object at 0x7f314deaf640>, <datasets.replica.Datum_feature object at 0x7f314deaf670>, <datasets.replica.Datum_feature object at 0x7f314deaffd0>, <datasets.replica.Datum_feature object at 0x7f314deaffa0>, <datasets.replica.Datum_feature object at 0x7f314deaff70>, <datasets.replica.Datum_feature object at 0x7f314deaff40>, <datasets.replica.Datum_feature object at 0x7f314deaff10>, <datasets.replica.Datum_feature object at 0x7f314deafee0>, <datasets.replica.Datum_feature object at 0x7f314deafeb0>, <datasets.replica.Datum_feature object at 0x7f314deafe80>, <datasets.replica.Datum_feature object at 0x7f314deafe50>, <datasets.replica.Datum_feature object at 0x7f314deafe20>, <datasets.replica.Datum_feature object at 0x7f314deafdf0>, <datasets.replica.Datum_feature object at 0x7f314deafdc0>, <datasets.replica.Datum_feature object at 0x7f314deafd90>, <datasets.replica.Datum_feature object at 0x7f314deafd60>, <datasets.replica.Datum_feature object at 0x7f314deafd30>, <datasets.replica.Datum_feature object at 0x7f314deafd00>]\n",
      "test: [<datasets.replica.Datum_feature object at 0x7f314deafca0>, <datasets.replica.Datum_feature object at 0x7f314deaf850>, <datasets.replica.Datum_feature object at 0x7f314deaf820>, <datasets.replica.Datum_feature object at 0x7f314deaf6d0>, <datasets.replica.Datum_feature object at 0x7f314deafc70>, <datasets.replica.Datum_feature object at 0x7f314deafcd0>, <datasets.replica.Datum_feature object at 0x7f314deaec80>, <datasets.replica.Datum_feature object at 0x7f314deaf700>, <datasets.replica.Datum_feature object at 0x7f314deaf8e0>, <datasets.replica.Datum_feature object at 0x7f314deaf8b0>, <datasets.replica.Datum_feature object at 0x7f314deaf730>, <datasets.replica.Datum_feature object at 0x7f314deaf7f0>, <datasets.replica.Datum_feature object at 0x7f314deaf910>, <datasets.replica.Datum_feature object at 0x7f314deaf6a0>, <datasets.replica.Datum_feature object at 0x7f314deafa90>, <datasets.replica.Datum_feature object at 0x7f314deafb20>, <datasets.replica.Datum_feature object at 0x7f314deaf970>, <datasets.replica.Datum_feature object at 0x7f314deaf9a0>, <datasets.replica.Datum_feature object at 0x7f314deaf7c0>, <datasets.replica.Datum_feature object at 0x7f314deaf790>, <datasets.replica.Datum_feature object at 0x7f314deaf760>, <datasets.replica.Datum_feature object at 0x7f314deaf940>, <datasets.replica.Datum_feature object at 0x7f314deaf9d0>, <datasets.replica.Datum_feature object at 0x7f314deafa00>, <datasets.replica.Datum_feature object at 0x7f314deafa30>, <datasets.replica.Datum_feature object at 0x7f314deafa60>, <datasets.replica.Datum_feature object at 0x7f314deafac0>, <datasets.replica.Datum_feature object at 0x7f314deafaf0>, <datasets.replica.Datum_feature object at 0x7f314deafb50>, <datasets.replica.Datum_feature object at 0x7f314deafb80>, <datasets.replica.Datum_feature object at 0x7f314de9c7f0>, <datasets.replica.Datum_feature object at 0x7f314de9c7c0>, <datasets.replica.Datum_feature object at 0x7f314de9c790>, <datasets.replica.Datum_feature object at 0x7f314de9c760>, <datasets.replica.Datum_feature object at 0x7f314de9c730>, <datasets.replica.Datum_feature object at 0x7f314de9c700>, <datasets.replica.Datum_feature object at 0x7f314de9c6d0>, <datasets.replica.Datum_feature object at 0x7f314de9c6a0>, <datasets.replica.Datum_feature object at 0x7f314de9c670>, <datasets.replica.Datum_feature object at 0x7f314de9c640>, <datasets.replica.Datum_feature object at 0x7f314de9c610>, <datasets.replica.Datum_feature object at 0x7f314de9c5e0>, <datasets.replica.Datum_feature object at 0x7f314de9c820>, <datasets.replica.Datum_feature object at 0x7f314de9c850>, <datasets.replica.Datum_feature object at 0x7f314de9c880>, <datasets.replica.Datum_feature object at 0x7f314de9c8b0>, <datasets.replica.Datum_feature object at 0x7f314de9c8e0>, <datasets.replica.Datum_feature object at 0x7f314de9c910>, <datasets.replica.Datum_feature object at 0x7f314de9c940>, <datasets.replica.Datum_feature object at 0x7f314de9c970>, <datasets.replica.Datum_feature object at 0x7f314de9c9a0>, <datasets.replica.Datum_feature object at 0x7f314de9c9d0>, <datasets.replica.Datum_feature object at 0x7f314de9ca00>, <datasets.replica.Datum_feature object at 0x7f314de9ca30>, <datasets.replica.Datum_feature object at 0x7f314de9ca60>, <datasets.replica.Datum_feature object at 0x7f314de9ca90>, <datasets.replica.Datum_feature object at 0x7f314de9cac0>, <datasets.replica.Datum_feature object at 0x7f314de9caf0>, <datasets.replica.Datum_feature object at 0x7f314de9cb20>, <datasets.replica.Datum_feature object at 0x7f314de9cb50>, <datasets.replica.Datum_feature object at 0x7f314de9cb80>, <datasets.replica.Datum_feature object at 0x7f314de9cbb0>, <datasets.replica.Datum_feature object at 0x7f314de9cbe0>, <datasets.replica.Datum_feature object at 0x7f314de9cc10>, <datasets.replica.Datum_feature object at 0x7f314de9cc40>, <datasets.replica.Datum_feature object at 0x7f314de9cc70>, <datasets.replica.Datum_feature object at 0x7f314de9cca0>, <datasets.replica.Datum_feature object at 0x7f314de9ccd0>, <datasets.replica.Datum_feature object at 0x7f314de9cd00>, <datasets.replica.Datum_feature object at 0x7f314de9cd30>, <datasets.replica.Datum_feature object at 0x7f314de9cd60>, <datasets.replica.Datum_feature object at 0x7f314de9cd90>, <datasets.replica.Datum_feature object at 0x7f314de9cdc0>, <datasets.replica.Datum_feature object at 0x7f314de9cdf0>, <datasets.replica.Datum_feature object at 0x7f314de9ce20>, <datasets.replica.Datum_feature object at 0x7f314de9ce50>, <datasets.replica.Datum_feature object at 0x7f314de9ce80>, <datasets.replica.Datum_feature object at 0x7f314de9ceb0>, <datasets.replica.Datum_feature object at 0x7f314de9cee0>, <datasets.replica.Datum_feature object at 0x7f314de9cf10>, <datasets.replica.Datum_feature object at 0x7f314de9cf40>, <datasets.replica.Datum_feature object at 0x7f314de9cf70>, <datasets.replica.Datum_feature object at 0x7f314de9cfa0>, <datasets.replica.Datum_feature object at 0x7f314de9cfd0>, <datasets.replica.Datum_feature object at 0x7f314de9d000>, <datasets.replica.Datum_feature object at 0x7f314de9d030>, <datasets.replica.Datum_feature object at 0x7f314de9d060>, <datasets.replica.Datum_feature object at 0x7f314de9d090>, <datasets.replica.Datum_feature object at 0x7f314de9d0c0>, <datasets.replica.Datum_feature object at 0x7f314de9d0f0>, <datasets.replica.Datum_feature object at 0x7f314de9d120>, <datasets.replica.Datum_feature object at 0x7f314de9d150>, <datasets.replica.Datum_feature object at 0x7f314de9d180>, <datasets.replica.Datum_feature object at 0x7f314de9d1b0>, <datasets.replica.Datum_feature object at 0x7f314de9d1e0>, <datasets.replica.Datum_feature object at 0x7f314de9d210>, <datasets.replica.Datum_feature object at 0x7f314de9d240>, <datasets.replica.Datum_feature object at 0x7f314de9d270>, <datasets.replica.Datum_feature object at 0x7f314de9d2a0>, <datasets.replica.Datum_feature object at 0x7f314de9d2d0>, <datasets.replica.Datum_feature object at 0x7f314dec8ac0>, <datasets.replica.Datum_feature object at 0x7f314dec9000>, <datasets.replica.Datum_feature object at 0x7f314decbf70>, <datasets.replica.Datum_feature object at 0x7f314decbeb0>, <datasets.replica.Datum_feature object at 0x7f314dec8f40>, <datasets.replica.Datum_feature object at 0x7f314dec93c0>, <datasets.replica.Datum_feature object at 0x7f314decbe20>, <datasets.replica.Datum_feature object at 0x7f314deae020>, <datasets.replica.Datum_feature object at 0x7f314dead180>, <datasets.replica.Datum_feature object at 0x7f314deaf880>, <datasets.replica.Datum_feature object at 0x7f314deae050>, <datasets.replica.Datum_feature object at 0x7f314deaed40>, <datasets.replica.Datum_feature object at 0x7f314deaf3a0>, <datasets.replica.Datum_feature object at 0x7f314deae9b0>, <datasets.replica.Datum_feature object at 0x7f314deae980>, <datasets.replica.Datum_feature object at 0x7f314deadba0>, <datasets.replica.Datum_feature object at 0x7f314dead390>, <datasets.replica.Datum_feature object at 0x7f314dead2d0>, <datasets.replica.Datum_feature object at 0x7f314deadf90>, <datasets.replica.Datum_feature object at 0x7f314deadea0>, <datasets.replica.Datum_feature object at 0x7f314deae350>, <datasets.replica.Datum_feature object at 0x7f314deae380>, <datasets.replica.Datum_feature object at 0x7f314deae320>, <datasets.replica.Datum_feature object at 0x7f314deae2f0>, <datasets.replica.Datum_feature object at 0x7f314deae9e0>, <datasets.replica.Datum_feature object at 0x7f314deaead0>, <datasets.replica.Datum_feature object at 0x7f314deaed70>, <datasets.replica.Datum_feature object at 0x7f314deaeda0>, <datasets.replica.Datum_feature object at 0x7f314deaed10>, <datasets.replica.Datum_feature object at 0x7f314deaf3d0>, <datasets.replica.Datum_feature object at 0x7f314deaf400>, <datasets.replica.Datum_feature object at 0x7f314deaf4f0>, <datasets.replica.Datum_feature object at 0x7f314de9d330>, <datasets.replica.Datum_feature object at 0x7f314de9d360>, <datasets.replica.Datum_feature object at 0x7f314de9d300>, <datasets.replica.Datum_feature object at 0x7f314de9d4b0>, <datasets.replica.Datum_feature object at 0x7f314de9d480>, <datasets.replica.Datum_feature object at 0x7f314de9d450>, <datasets.replica.Datum_feature object at 0x7f314de9d420>, <datasets.replica.Datum_feature object at 0x7f314de9d3f0>, <datasets.replica.Datum_feature object at 0x7f314de9d3c0>, <datasets.replica.Datum_feature object at 0x7f314de9d390>, <datasets.replica.Datum_feature object at 0x7f314de9d4e0>, <datasets.replica.Datum_feature object at 0x7f314de9d510>, <datasets.replica.Datum_feature object at 0x7f314de9d540>, <datasets.replica.Datum_feature object at 0x7f314de9d570>, <datasets.replica.Datum_feature object at 0x7f314de9d5a0>, <datasets.replica.Datum_feature object at 0x7f314de9d5d0>, <datasets.replica.Datum_feature object at 0x7f314de9d600>, <datasets.replica.Datum_feature object at 0x7f314de9d630>, <datasets.replica.Datum_feature object at 0x7f314de9d660>, <datasets.replica.Datum_feature object at 0x7f314de9d690>, <datasets.replica.Datum_feature object at 0x7f314de9d6c0>, <datasets.replica.Datum_feature object at 0x7f314de9d6f0>, <datasets.replica.Datum_feature object at 0x7f314de9d720>, <datasets.replica.Datum_feature object at 0x7f314de9d750>, <datasets.replica.Datum_feature object at 0x7f314de9d780>, <datasets.replica.Datum_feature object at 0x7f314de9d7b0>, <datasets.replica.Datum_feature object at 0x7f314de9d7e0>, <datasets.replica.Datum_feature object at 0x7f314de9d810>, <datasets.replica.Datum_feature object at 0x7f314de9d840>, <datasets.replica.Datum_feature object at 0x7f314de9d870>, <datasets.replica.Datum_feature object at 0x7f314de9d8a0>, <datasets.replica.Datum_feature object at 0x7f314de9d8d0>, <datasets.replica.Datum_feature object at 0x7f314de9d900>, <datasets.replica.Datum_feature object at 0x7f314de9d930>, <datasets.replica.Datum_feature object at 0x7f314de9d960>, <datasets.replica.Datum_feature object at 0x7f314de9d990>, <datasets.replica.Datum_feature object at 0x7f314de9d9f0>, <datasets.replica.Datum_feature object at 0x7f314de9da20>, <datasets.replica.Datum_feature object at 0x7f314de9da50>, <datasets.replica.Datum_feature object at 0x7f314de9da80>, <datasets.replica.Datum_feature object at 0x7f314de9dab0>, <datasets.replica.Datum_feature object at 0x7f314de9dae0>, <datasets.replica.Datum_feature object at 0x7f314de9db10>, <datasets.replica.Datum_feature object at 0x7f314de9db40>, <datasets.replica.Datum_feature object at 0x7f314de9db70>, <datasets.replica.Datum_feature object at 0x7f314de9dba0>, <datasets.replica.Datum_feature object at 0x7f314de9dbd0>, <datasets.replica.Datum_feature object at 0x7f314de9dc00>, <datasets.replica.Datum_feature object at 0x7f314de9dc30>, <datasets.replica.Datum_feature object at 0x7f314de9dc60>, <datasets.replica.Datum_feature object at 0x7f314de9dc90>, <datasets.replica.Datum_feature object at 0x7f314de9dcc0>, <datasets.replica.Datum_feature object at 0x7f314de9dcf0>, <datasets.replica.Datum_feature object at 0x7f314de9dd20>, <datasets.replica.Datum_feature object at 0x7f314de9dd50>, <datasets.replica.Datum_feature object at 0x7f314de9dd80>, <datasets.replica.Datum_feature object at 0x7f314de9ddb0>, <datasets.replica.Datum_feature object at 0x7f314de9dde0>, <datasets.replica.Datum_feature object at 0x7f314de9de10>, <datasets.replica.Datum_feature object at 0x7f314de9de40>]\n"
     ]
    },
    {
     "name": "stdout",
     "output_type": "stream",
     "text": [
      "-----------------------------------------------------------\n",
      "Label range: 0-47\n",
      "Unique labels: {0, 3, 4, 5, 6, 7, 10, 11, 12, 13, 14, 15, 17, 18, 19, 20, 21, 22, 23, 25, 26, 27, 28, 30, 31, 32, 35, 36, 37, 38, 39, 40, 41, 43, 44, 45, 46, 47}\n",
      "Label range: 0-47\n",
      "Unique labels: {0, 1, 2, 3, 4, 5, 6, 7, 8, 10, 11, 13, 14, 16, 17, 19, 20, 21, 22, 24, 25, 26, 28, 29, 31, 35, 37, 38, 39, 40, 42, 43, 44, 45, 46, 47}\n",
      "Label range: 0-0\n",
      "Unique labels: {0}\n",
      "Building transform_train\n",
      "+ random resized crop (size=(224, 224), scale=(0.08, 1.0))\n",
      "+ random flip\n",
      "+ to torch tensor of range [0, 1]\n",
      "+ normalization (mean=[0.48145466, 0.4578275, 0.40821073], std=[0.26862954, 0.26130258, 0.27577711])\n",
      "Building transform_test\n",
      "+ resize the smaller edge to 224\n",
      "+ 224x224 center crop\n",
      "+ to torch tensor of range [0, 1]\n",
      "+ normalization (mean=[0.48145466, 0.4578275, 0.40821073], std=[0.26862954, 0.26130258, 0.27577711])\n",
      "---------  -------\n",
      "Dataset    Replica\n",
      "# classes  48\n",
      "# train_x  178\n",
      "# val      106\n",
      "# test     192\n",
      "---------  -------\n",
      "Loading CLIP (backbone: ViT-B/16)\n",
      "Building custom CLIP\n",
      "whole prompts\n",
      "['a photo of a .', 'a photo of a bed.', 'a photo of a bench.', 'a photo of a bin.', 'a photo of a blanket.', 'a photo of a blinds.', 'a photo of a book.', 'a photo of a bottle.', 'a photo of a box.', 'a photo of a camera.', 'a photo of a cabinet.', 'a photo of a candle.', 'a photo of a chair.', 'a photo of a clock.', 'a photo of a cloth.', 'a photo of a comforter.', 'a photo of a cushion.', 'a photo of a desk.', 'a photo of a desk-organizer.', 'a photo of a door.', 'a photo of a indoor-plant.', 'a photo of a lamp.', 'a photo of a monitor.', 'a photo of a nightstand.', 'a photo of a panel.', 'a photo of a picture.', 'a photo of a pillar.', 'a photo of a pillow.', 'a photo of a pipe.', 'a photo of a plant-stand.', 'a photo of a plate.', 'a photo of a pot.', 'a photo of a sofa.', 'a photo of a stool.', 'a photo of a switch.', 'a photo of a table.', 'a photo of a tablet.', 'a photo of a tissue-paper.', 'a photo of a tv-screen.', 'a photo of a tv-stand.', 'a photo of a vase.', 'a photo of a vent.', 'a photo of a wall-plug.', 'a photo of a window.', 'a photo of a rug.']\n",
      "Turning off gradients in both the image and the text encoder\n",
      "Parameters to be updated: {'prompt_learner.compound_prompts_text.7', 'prompt_learner.compound_prompts_text.6', 'prompt_learner.compound_prompts_text.0', 'prompt_learner.compound_prompts_text.10', 'prompt_learner.ctx', 'prompt_learner.compound_prompts_text.1', 'prompt_learner.compound_prompts_text.2', 'prompt_learner.compound_prompts_text.9', 'prompt_learner.compound_prompts_text.5', 'prompt_learner.compound_prompts_text.4', 'prompt_learner.compound_prompts_text.3', 'prompt_learner.compound_prompts_text.8'}\n",
      "Loading evaluator: Classification\n",
      "\n",
      "=== Analyzing checkpoint state dict ===\n",
      "Keys found in state dict:\n",
      "  prompt_learner.ctx: torch.Size([4, 512])\n",
      "  prompt_learner.token_prefix: torch.Size([48, 1, 512])\n",
      "  prompt_learner.token_suffix: torch.Size([48, 72, 512])\n",
      "  prompt_learner.compound_prompts_text.0: torch.Size([4, 512])\n",
      "  prompt_learner.compound_prompts_text.1: torch.Size([4, 512])\n",
      "  prompt_learner.compound_prompts_text.2: torch.Size([4, 512])\n",
      "  prompt_learner.compound_prompts_text.3: torch.Size([4, 512])\n",
      "  prompt_learner.compound_prompts_text.4: torch.Size([4, 512])\n",
      "  prompt_learner.compound_prompts_text.5: torch.Size([4, 512])\n",
      "  prompt_learner.compound_prompts_text.6: torch.Size([4, 512])\n",
      "  prompt_learner.compound_prompts_text.7: torch.Size([4, 512])\n",
      "  prompt_learner.compound_prompts_text.8: torch.Size([4, 512])\n",
      "  prompt_learner.compound_prompts_text.9: torch.Size([4, 512])\n",
      "  prompt_learner.compound_prompts_text.10: torch.Size([4, 512])\n",
      "\n",
      "=== Inspecting token_prefix before deletion ===\n",
      "Shape: torch.Size([48, 1, 512])\n",
      "Type: torch.float16\n",
      "Device: cuda:0\n",
      "Stats: min=-0.024841, max=0.389404, mean=0.000719\n",
      "\n",
      "=== Inspecting token_suffix before deletion ===\n",
      "Shape: torch.Size([48, 72, 512])\n",
      "Type: torch.float16\n",
      "Device: cuda:0\n",
      "Stats: min=-0.442139, max=0.463379, mean=0.000145\n",
      "\n",
      "Loading weights to MultiModalPromptSceneLearner from output/replica/MaPLePromptScene/vit_b16_c2_ep200_batch4_ctx4_depth12_cross_datasets_-1shots/seed1/MultiModalPromptSceneLearner/model-best.pth.tar (epoch = 137)\n",
      "\n",
      "=== Inspecting loaded prompt learner state ===\n",
      "\n",
      "=== Inspecting ctx vectors ===\n",
      "Shape: torch.Size([4, 512])\n",
      "Type: torch.float16\n",
      "Device: cuda:0\n",
      "Stats: min=-0.328369, max=0.254883, mean=0.000149\n",
      "Sample values (first 2 rows, up to 5 columns):\n",
      "tensor([[-0.0506, -0.0362,  0.0534,  0.0196,  0.0680],\n",
      "        [-0.0278,  0.0021,  0.0044,  0.0111,  0.0276]], device='cuda:0',\n",
      "       dtype=torch.float16)\n",
      "\n",
      "=== Inspecting compound_prompt_0 ===\n",
      "Shape: torch.Size([4, 512])\n",
      "Type: torch.float32\n",
      "Device: cuda:0\n",
      "Stats: min=-0.491092, max=0.527134, mean=-0.000305\n",
      "\n",
      "=== Inspecting compound_prompt_1 ===\n",
      "Shape: torch.Size([4, 512])\n",
      "Type: torch.float32\n",
      "Device: cuda:0\n",
      "Stats: min=-0.488564, max=0.473930, mean=0.000472\n",
      "\n",
      "=== Inspecting compound_prompt_2 ===\n",
      "Shape: torch.Size([4, 512])\n",
      "Type: torch.float32\n",
      "Device: cuda:0\n",
      "Stats: min=-0.272378, max=0.351596, mean=0.000539\n",
      "\n",
      "=== Inspecting compound_prompt_3 ===\n",
      "Shape: torch.Size([4, 512])\n",
      "Type: torch.float32\n",
      "Device: cuda:0\n",
      "Stats: min=-0.358038, max=0.331360, mean=-0.000408\n",
      "\n",
      "=== Inspecting compound_prompt_4 ===\n",
      "Shape: torch.Size([4, 512])\n",
      "Type: torch.float32\n",
      "Device: cuda:0\n",
      "Stats: min=-0.353119, max=0.296670, mean=0.000080\n",
      "\n",
      "=== Inspecting compound_prompt_5 ===\n",
      "Shape: torch.Size([4, 512])\n",
      "Type: torch.float32\n",
      "Device: cuda:0\n",
      "Stats: min=-0.211361, max=0.212069, mean=0.000587\n",
      "\n",
      "=== Inspecting compound_prompt_6 ===\n",
      "Shape: torch.Size([4, 512])\n",
      "Type: torch.float32\n",
      "Device: cuda:0\n",
      "Stats: min=-0.275115, max=0.295190, mean=0.000235\n",
      "\n",
      "=== Inspecting compound_prompt_7 ===\n",
      "Shape: torch.Size([4, 512])\n",
      "Type: torch.float32\n",
      "Device: cuda:0\n",
      "Stats: min=-0.285681, max=0.279635, mean=-0.000528\n",
      "\n",
      "=== Inspecting compound_prompt_8 ===\n",
      "Shape: torch.Size([4, 512])\n",
      "Type: torch.float32\n",
      "Device: cuda:0\n",
      "Stats: min=-0.330471, max=0.227750, mean=-0.000327\n",
      "\n",
      "=== Inspecting compound_prompt_9 ===\n",
      "Shape: torch.Size([4, 512])\n",
      "Type: torch.float32\n",
      "Device: cuda:0\n",
      "Stats: min=-0.266547, max=0.283370, mean=0.000649\n",
      "\n",
      "=== Inspecting compound_prompt_10 ===\n",
      "Shape: torch.Size([4, 512])\n",
      "Type: torch.float32\n",
      "Device: cuda:0\n",
      "Stats: min=-0.297621, max=0.266078, mean=-0.000384\n",
      "\n",
      "=== Testing prompt construction ===\n",
      "\n",
      "=== Inspecting Constructed prompts ===\n",
      "Shape: torch.Size([45, 77, 512])\n",
      "Type: torch.float16\n",
      "Device: cuda:0\n",
      "Stats: min=-0.442139, max=0.463379, mean=0.000152\n",
      "Number of deep prompt layers: 11\n",
      "Evaluate on the *test* set\n"
     ]
    },
    {
     "name": "stderr",
     "output_type": "stream",
     "text": [
      "\r",
      "  0%|          | 0/2 [00:00<?, ?it/s]\r",
      " 50%|█████     | 1/2 [00:00<00:00,  1.11it/s]\r",
      "100%|██████████| 2/2 [00:00<00:00,  2.05it/s]\n"
     ]
    },
    {
     "name": "stdout",
     "output_type": "stream",
     "text": [
      "\n",
      "=== Starting inference forward pass ===\n",
      "\n",
      "=== Inspecting Input point features ===\n",
      "Shape: torch.Size([100, 512])\n",
      "Type: torch.float16\n",
      "Device: cuda:0\n",
      "Stats: min=-7.511719, max=19.531250, mean=0.037354\n",
      "\n",
      "=== Inspecting Generated prompts ===\n",
      "Shape: torch.Size([45, 77, 512])\n",
      "Type: torch.float16\n",
      "Device: cuda:0\n",
      "Stats: min=-0.442139, max=0.463379, mean=0.000152\n",
      "\n",
      "=== Inspecting Text features ===\n",
      "Shape: torch.Size([45, 512])\n",
      "Type: torch.float16\n",
      "Device: cuda:0\n",
      "Stats: min=-0.996094, max=3.291016, mean=0.004101\n",
      "\n",
      "=== Inspecting Final logits ===\n",
      "Shape: torch.Size([100, 45])\n",
      "Type: torch.float16\n",
      "Device: cuda:0\n",
      "Stats: min=-28.656250, max=16.062500, mean=-6.285156\n",
      "input: tensor([[ 0.1658,  0.4202, -0.0504,  ..., -1.3438,  0.0606,  0.3818],\n",
      "        [-0.1439, -0.2399, -0.0358,  ..., -0.3845, -0.2786, -0.0889],\n",
      "        [-0.1652, -0.0839, -0.1644,  ..., -0.3892, -0.2759, -0.0550],\n",
      "        ...,\n",
      "        [ 0.1648,  0.4475, -0.0604,  ..., -1.0439,  0.0222,  0.2222],\n",
      "        [-0.1808, -0.3528, -0.0277,  ..., -0.4241, -0.3591, -0.0874],\n",
      "        [ 0.1174,  0.3667, -0.2180,  ..., -0.9595, -0.0049,  0.3022]],\n",
      "       device='cuda:0', dtype=torch.float16)\n",
      "\n",
      "=== Starting inference forward pass ===\n",
      "\n",
      "=== Inspecting Input point features ===\n",
      "Shape: torch.Size([92, 512])\n",
      "Type: torch.float16\n",
      "Device: cuda:0\n",
      "Stats: min=-5.464844, max=14.789062, mean=0.032196\n",
      "\n",
      "=== Inspecting Generated prompts ===\n",
      "Shape: torch.Size([45, 77, 512])\n",
      "Type: torch.float16\n",
      "Device: cuda:0\n",
      "Stats: min=-0.442139, max=0.463379, mean=0.000152\n",
      "\n",
      "=== Inspecting Text features ===\n",
      "Shape: torch.Size([45, 512])\n",
      "Type: torch.float16\n",
      "Device: cuda:0\n",
      "Stats: min=-0.996094, max=3.291016, mean=0.004101\n",
      "\n",
      "=== Inspecting Final logits ===\n",
      "Shape: torch.Size([92, 45])\n",
      "Type: torch.float16\n",
      "Device: cuda:0\n",
      "Stats: min=-33.125000, max=21.031250, mean=-8.492188\n",
      "input: tensor([[ 1.0488,  0.5825, -0.7983,  ..., -0.6978,  0.0495, -1.1611],\n",
      "        [-0.0575,  0.2229, -0.1322,  ..., -0.6738,  0.0260,  0.0254],\n",
      "        [-0.1809, -0.7495,  0.0281,  ..., -0.3479, -0.4570, -0.1053],\n",
      "        ...,\n",
      "        [-0.4165, -0.1621, -0.2480,  ..., -0.5737, -0.3721,  0.0132],\n",
      "        [-0.4700, -0.1515, -0.2668,  ..., -0.6064, -0.4014,  0.0051],\n",
      "        [-0.2155, -0.4707,  0.0166,  ..., -0.4229, -0.4229, -0.0811]],\n",
      "       device='cuda:0', dtype=torch.float16)\n",
      "=> result\n",
      "* total: 192\n",
      "* correct: 0\n",
      "* accuracy: 0.0%\n",
      "* error: 100.0%\n",
      "* macro_f1: 0.0%\n"
     ]
    }
   ],
   "source": [
    "%%bash\n",
    "bash scripts/maple_prompt_scene/xd_test_maple_prompt_scene.sh replica 1 ../../dataset/data/ vit_b16_c2_ep200_batch4_ctx4_depth12_cross_datasets"
   ]
  },
  {
   "cell_type": "code",
   "execution_count": null,
   "id": "265779f5",
   "metadata": {},
   "outputs": [],
   "source": []
  }
 ],
 "metadata": {
  "kernelspec": {
   "display_name": "Python 3 (ipykernel)",
   "language": "python",
   "name": "python3"
  },
  "language_info": {
   "codemirror_mode": {
    "name": "ipython",
    "version": 3
   },
   "file_extension": ".py",
   "mimetype": "text/x-python",
   "name": "python",
   "nbconvert_exporter": "python",
   "pygments_lexer": "ipython3",
   "version": "3.10.9"
  }
 },
 "nbformat": 4,
 "nbformat_minor": 5
}
