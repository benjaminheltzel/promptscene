{
 "cells": [
  {
   "cell_type": "code",
   "execution_count": 33,
   "id": "9c5b70ca",
   "metadata": {},
   "outputs": [
    {
     "name": "stdout",
     "output_type": "stream",
     "text": [
      "The autoreload extension is already loaded. To reload it, use:\n",
      "  %reload_ext autoreload\n"
     ]
    }
   ],
   "source": [
    "import os\n",
    "import numpy as np\n",
    "\n",
    "import clip_utils\n",
    "import experiment\n",
    "import utils\n",
    "\n",
    "%load_ext autoreload\n",
    "%autoreload 2"
   ]
  },
  {
   "cell_type": "code",
   "execution_count": 4,
   "id": "4bda3317",
   "metadata": {},
   "outputs": [
    {
     "data": {
      "text/plain": [
       "['dataset/data/replica_split/ground_truth/office0.txt',\n",
       " 'dataset/data/replica_split/ground_truth/office1.txt',\n",
       " 'dataset/data/replica_split/ground_truth/office2.txt',\n",
       " 'dataset/data/replica_split/ground_truth/office3.txt',\n",
       " 'dataset/data/replica_split/ground_truth/office4.txt',\n",
       " 'dataset/data/replica_split/ground_truth/room0.txt',\n",
       " 'dataset/data/replica_split/ground_truth/room1.txt',\n",
       " 'dataset/data/replica_split/ground_truth/room2.txt']"
      ]
     },
     "execution_count": 4,
     "metadata": {},
     "output_type": "execute_result"
    }
   ],
   "source": [
    "path = \"dataset/data/replica_split/ground_truth\"\n",
    "files = utils.get_all_files_in_dir(path)\n",
    "files"
   ]
  },
  {
   "cell_type": "code",
   "execution_count": 32,
   "id": "b68b87e2",
   "metadata": {},
   "outputs": [],
   "source": [
    "for file in files:\n",
    "    with open(file, \"r\") as f:\n",
    "        lines = f.readlines()\n",
    "    id_list = np.array([int(line.strip()) for line in lines])\n",
    "    id_list = np.vectorize(clip_utils.gt_ids_to_id)(id_list)\n",
    "    \n",
    "    name = os.path.basename(file).split(\".\")[0]\n",
    "    file_path = os.path.join(os.path.dirname(file), f\"{name}.npy\")\n",
    "    np.save(file_path, id_list)"
   ]
  },
  {
   "cell_type": "code",
   "execution_count": 34,
   "id": "2b836ef9",
   "metadata": {},
   "outputs": [
    {
     "data": {
      "text/plain": [
       "['dataset/data/replica_split/ground_truth/office0.npy',\n",
       " 'dataset/data/replica_split/ground_truth/office1.npy',\n",
       " 'dataset/data/replica_split/ground_truth/office2.npy',\n",
       " 'dataset/data/replica_split/ground_truth/office3.npy',\n",
       " 'dataset/data/replica_split/ground_truth/office4.npy',\n",
       " 'dataset/data/replica_split/ground_truth/room0.npy',\n",
       " 'dataset/data/replica_split/ground_truth/room1.npy',\n",
       " 'dataset/data/replica_split/ground_truth/room2.npy']"
      ]
     },
     "execution_count": 34,
     "metadata": {},
     "output_type": "execute_result"
    }
   ],
   "source": [
    "files = utils.get_all_files_in_dir(path, \"npy\")\n",
    "files"
   ]
  },
  {
   "cell_type": "code",
   "execution_count": 36,
   "id": "678386aa",
   "metadata": {},
   "outputs": [
    {
     "name": "stdout",
     "output_type": "stream",
     "text": [
      "tv-screen\n",
      "tv-screen\n",
      "tv-screen\n",
      "tv-screen\n",
      "tv-screen\n",
      "tv-screen\n",
      "tv-screen\n",
      "tv-screen\n",
      "camera\n",
      "camera\n",
      "pillow\n",
      "pillow\n",
      "pillow\n",
      "pillow\n",
      "pillow\n",
      "undefined\n",
      "pillow\n",
      "pillow\n",
      "pillow\n",
      "pillow\n",
      "sofa\n",
      "sofa\n",
      "sofa\n",
      "sofa\n",
      "sofa\n",
      "sofa\n",
      "sofa\n",
      "sofa\n",
      "sofa\n",
      "sofa\n",
      "bench\n",
      "bench\n",
      "bench\n",
      "bench\n",
      "bench\n",
      "undefined\n",
      "bench\n",
      "bench\n",
      "bench\n",
      "undefined\n",
      "undefined\n",
      "undefined\n",
      "undefined\n",
      "undefined\n",
      "undefined\n",
      "undefined\n",
      "undefined\n",
      "undefined\n",
      "undefined\n",
      "undefined\n",
      "sofa\n",
      "undefined\n",
      "undefined\n",
      "sofa\n",
      "sofa\n",
      "sofa\n",
      "undefined\n",
      "undefined\n",
      "undefined\n",
      "sofa\n",
      "rug\n",
      "rug\n",
      "undefined\n",
      "undefined\n",
      "rug\n",
      "undefined\n",
      "undefined\n",
      "undefined\n",
      "rug\n",
      "rug\n",
      "sculpture\n",
      "sculpture\n",
      "sculpture\n",
      "sculpture\n",
      "shelf\n",
      "shelf\n",
      "shelf\n",
      "shelf\n",
      "shelf\n",
      "shelf\n"
     ]
    }
   ],
   "source": [
    "for file in files:\n",
    "    id_list = np.load(file)\n",
    "    for label_id in id_list[:10]:\n",
    "        print(clip_utils.get_label(label_id))"
   ]
  }
 ],
 "metadata": {
  "kernelspec": {
   "display_name": "Python 3 (ipykernel)",
   "language": "python",
   "name": "python3"
  },
  "language_info": {
   "codemirror_mode": {
    "name": "ipython",
    "version": 3
   },
   "file_extension": ".py",
   "mimetype": "text/x-python",
   "name": "python",
   "nbconvert_exporter": "python",
   "pygments_lexer": "ipython3",
   "version": "3.10.9"
  }
 },
 "nbformat": 4,
 "nbformat_minor": 5
}
